{
 "cells": [
  {
   "cell_type": "code",
   "execution_count": 49,
   "id": "3a351702",
   "metadata": {},
   "outputs": [],
   "source": [
    "library(\"ggplot2\")\n",
    "library(\"dplyr\")\n",
    "library(\"repr\")\n",
    "library(\"reshape2\")\n",
    "library(\"stats\")"
   ]
  },
  {
   "cell_type": "code",
   "execution_count": 25,
   "id": "d9477e3c",
   "metadata": {},
   "outputs": [
    {
     "data": {
      "text/html": [
       "<table class=\"dataframe\">\n",
       "<caption>A data.frame: 6 × 89</caption>\n",
       "<thead>\n",
       "\t<tr><th></th><th scope=col>Known.As</th><th scope=col>Full.Name</th><th scope=col>Overall</th><th scope=col>Potential</th><th scope=col>Value.in.Euro.</th><th scope=col>Positions.Played</th><th scope=col>Best.Position</th><th scope=col>Nationality</th><th scope=col>Image.Link</th><th scope=col>Age</th><th scope=col>⋯</th><th scope=col>LM.Rating</th><th scope=col>CM.Rating</th><th scope=col>RM.Rating</th><th scope=col>LWB.Rating</th><th scope=col>CDM.Rating</th><th scope=col>RWB.Rating</th><th scope=col>LB.Rating</th><th scope=col>CB.Rating</th><th scope=col>RB.Rating</th><th scope=col>GK.Rating</th></tr>\n",
       "\t<tr><th></th><th scope=col>&lt;chr&gt;</th><th scope=col>&lt;chr&gt;</th><th scope=col>&lt;int&gt;</th><th scope=col>&lt;int&gt;</th><th scope=col>&lt;int&gt;</th><th scope=col>&lt;chr&gt;</th><th scope=col>&lt;chr&gt;</th><th scope=col>&lt;chr&gt;</th><th scope=col>&lt;chr&gt;</th><th scope=col>&lt;int&gt;</th><th scope=col>⋯</th><th scope=col>&lt;int&gt;</th><th scope=col>&lt;int&gt;</th><th scope=col>&lt;int&gt;</th><th scope=col>&lt;int&gt;</th><th scope=col>&lt;int&gt;</th><th scope=col>&lt;int&gt;</th><th scope=col>&lt;int&gt;</th><th scope=col>&lt;int&gt;</th><th scope=col>&lt;int&gt;</th><th scope=col>&lt;int&gt;</th></tr>\n",
       "</thead>\n",
       "<tbody>\n",
       "\t<tr><th scope=row>1</th><td>L. Messi      </td><td>Lionel Messi      </td><td>91</td><td>91</td><td> 54000000</td><td>RW    </td><td>CAM</td><td>Argentina</td><td>https://cdn.sofifa.net/players/158/023/23_60.png</td><td>35</td><td>⋯</td><td>91</td><td>88</td><td>91</td><td>67</td><td>66</td><td>67</td><td>62</td><td>53</td><td>62</td><td>22</td></tr>\n",
       "\t<tr><th scope=row>2</th><td>K. Benzema    </td><td>Karim Benzema     </td><td>91</td><td>91</td><td> 64000000</td><td>CF,ST </td><td>CF </td><td>France   </td><td>https://cdn.sofifa.net/players/165/153/23_60.png</td><td>34</td><td>⋯</td><td>89</td><td>84</td><td>89</td><td>67</td><td>67</td><td>67</td><td>63</td><td>58</td><td>63</td><td>21</td></tr>\n",
       "\t<tr><th scope=row>3</th><td>R. Lewandowski</td><td>Robert Lewandowski</td><td>91</td><td>91</td><td> 84000000</td><td>ST    </td><td>ST </td><td>Poland   </td><td>https://cdn.sofifa.net/players/188/545/23_60.png</td><td>33</td><td>⋯</td><td>86</td><td>83</td><td>86</td><td>67</td><td>69</td><td>67</td><td>64</td><td>63</td><td>64</td><td>22</td></tr>\n",
       "\t<tr><th scope=row>4</th><td>K. De Bruyne  </td><td>Kevin De Bruyne   </td><td>91</td><td>91</td><td>107500000</td><td>CM,CAM</td><td>CM </td><td>Belgium  </td><td>https://cdn.sofifa.net/players/192/985/23_60.png</td><td>31</td><td>⋯</td><td>91</td><td>91</td><td>91</td><td>82</td><td>82</td><td>82</td><td>78</td><td>72</td><td>78</td><td>24</td></tr>\n",
       "\t<tr><th scope=row>5</th><td>K. Mbappé     </td><td>Kylian Mbappé     </td><td>91</td><td>95</td><td>190500000</td><td>ST,LW </td><td>ST </td><td>France   </td><td>https://cdn.sofifa.net/players/231/747/23_60.png</td><td>23</td><td>⋯</td><td>92</td><td>84</td><td>92</td><td>70</td><td>66</td><td>70</td><td>66</td><td>57</td><td>66</td><td>21</td></tr>\n",
       "\t<tr><th scope=row>6</th><td>M. Salah      </td><td>Mohamed Salah     </td><td>90</td><td>90</td><td>115500000</td><td>RW    </td><td>RW </td><td>Egypt    </td><td>https://cdn.sofifa.net/players/209/331/23_60.png</td><td>30</td><td>⋯</td><td>90</td><td>85</td><td>90</td><td>74</td><td>71</td><td>74</td><td>70</td><td>61</td><td>70</td><td>25</td></tr>\n",
       "</tbody>\n",
       "</table>\n"
      ],
      "text/latex": [
       "A data.frame: 6 × 89\n",
       "\\begin{tabular}{r|lllllllllllllllllllll}\n",
       "  & Known.As & Full.Name & Overall & Potential & Value.in.Euro. & Positions.Played & Best.Position & Nationality & Image.Link & Age & ⋯ & LM.Rating & CM.Rating & RM.Rating & LWB.Rating & CDM.Rating & RWB.Rating & LB.Rating & CB.Rating & RB.Rating & GK.Rating\\\\\n",
       "  & <chr> & <chr> & <int> & <int> & <int> & <chr> & <chr> & <chr> & <chr> & <int> & ⋯ & <int> & <int> & <int> & <int> & <int> & <int> & <int> & <int> & <int> & <int>\\\\\n",
       "\\hline\n",
       "\t1 & L. Messi       & Lionel Messi       & 91 & 91 &  54000000 & RW     & CAM & Argentina & https://cdn.sofifa.net/players/158/023/23\\_60.png & 35 & ⋯ & 91 & 88 & 91 & 67 & 66 & 67 & 62 & 53 & 62 & 22\\\\\n",
       "\t2 & K. Benzema     & Karim Benzema      & 91 & 91 &  64000000 & CF,ST  & CF  & France    & https://cdn.sofifa.net/players/165/153/23\\_60.png & 34 & ⋯ & 89 & 84 & 89 & 67 & 67 & 67 & 63 & 58 & 63 & 21\\\\\n",
       "\t3 & R. Lewandowski & Robert Lewandowski & 91 & 91 &  84000000 & ST     & ST  & Poland    & https://cdn.sofifa.net/players/188/545/23\\_60.png & 33 & ⋯ & 86 & 83 & 86 & 67 & 69 & 67 & 64 & 63 & 64 & 22\\\\\n",
       "\t4 & K. De Bruyne   & Kevin De Bruyne    & 91 & 91 & 107500000 & CM,CAM & CM  & Belgium   & https://cdn.sofifa.net/players/192/985/23\\_60.png & 31 & ⋯ & 91 & 91 & 91 & 82 & 82 & 82 & 78 & 72 & 78 & 24\\\\\n",
       "\t5 & K. Mbappé      & Kylian Mbappé      & 91 & 95 & 190500000 & ST,LW  & ST  & France    & https://cdn.sofifa.net/players/231/747/23\\_60.png & 23 & ⋯ & 92 & 84 & 92 & 70 & 66 & 70 & 66 & 57 & 66 & 21\\\\\n",
       "\t6 & M. Salah       & Mohamed Salah      & 90 & 90 & 115500000 & RW     & RW  & Egypt     & https://cdn.sofifa.net/players/209/331/23\\_60.png & 30 & ⋯ & 90 & 85 & 90 & 74 & 71 & 74 & 70 & 61 & 70 & 25\\\\\n",
       "\\end{tabular}\n"
      ],
      "text/markdown": [
       "\n",
       "A data.frame: 6 × 89\n",
       "\n",
       "| <!--/--> | Known.As &lt;chr&gt; | Full.Name &lt;chr&gt; | Overall &lt;int&gt; | Potential &lt;int&gt; | Value.in.Euro. &lt;int&gt; | Positions.Played &lt;chr&gt; | Best.Position &lt;chr&gt; | Nationality &lt;chr&gt; | Image.Link &lt;chr&gt; | Age &lt;int&gt; | ⋯ ⋯ | LM.Rating &lt;int&gt; | CM.Rating &lt;int&gt; | RM.Rating &lt;int&gt; | LWB.Rating &lt;int&gt; | CDM.Rating &lt;int&gt; | RWB.Rating &lt;int&gt; | LB.Rating &lt;int&gt; | CB.Rating &lt;int&gt; | RB.Rating &lt;int&gt; | GK.Rating &lt;int&gt; |\n",
       "|---|---|---|---|---|---|---|---|---|---|---|---|---|---|---|---|---|---|---|---|---|---|\n",
       "| 1 | L. Messi       | Lionel Messi       | 91 | 91 |  54000000 | RW     | CAM | Argentina | https://cdn.sofifa.net/players/158/023/23_60.png | 35 | ⋯ | 91 | 88 | 91 | 67 | 66 | 67 | 62 | 53 | 62 | 22 |\n",
       "| 2 | K. Benzema     | Karim Benzema      | 91 | 91 |  64000000 | CF,ST  | CF  | France    | https://cdn.sofifa.net/players/165/153/23_60.png | 34 | ⋯ | 89 | 84 | 89 | 67 | 67 | 67 | 63 | 58 | 63 | 21 |\n",
       "| 3 | R. Lewandowski | Robert Lewandowski | 91 | 91 |  84000000 | ST     | ST  | Poland    | https://cdn.sofifa.net/players/188/545/23_60.png | 33 | ⋯ | 86 | 83 | 86 | 67 | 69 | 67 | 64 | 63 | 64 | 22 |\n",
       "| 4 | K. De Bruyne   | Kevin De Bruyne    | 91 | 91 | 107500000 | CM,CAM | CM  | Belgium   | https://cdn.sofifa.net/players/192/985/23_60.png | 31 | ⋯ | 91 | 91 | 91 | 82 | 82 | 82 | 78 | 72 | 78 | 24 |\n",
       "| 5 | K. Mbappé      | Kylian Mbappé      | 91 | 95 | 190500000 | ST,LW  | ST  | France    | https://cdn.sofifa.net/players/231/747/23_60.png | 23 | ⋯ | 92 | 84 | 92 | 70 | 66 | 70 | 66 | 57 | 66 | 21 |\n",
       "| 6 | M. Salah       | Mohamed Salah      | 90 | 90 | 115500000 | RW     | RW  | Egypt     | https://cdn.sofifa.net/players/209/331/23_60.png | 30 | ⋯ | 90 | 85 | 90 | 74 | 71 | 74 | 70 | 61 | 70 | 25 |\n",
       "\n"
      ],
      "text/plain": [
       "  Known.As       Full.Name          Overall Potential Value.in.Euro.\n",
       "1 L. Messi       Lionel Messi       91      91         54000000     \n",
       "2 K. Benzema     Karim Benzema      91      91         64000000     \n",
       "3 R. Lewandowski Robert Lewandowski 91      91         84000000     \n",
       "4 K. De Bruyne   Kevin De Bruyne    91      91        107500000     \n",
       "5 K. Mbappé      Kylian Mbappé      91      95        190500000     \n",
       "6 M. Salah       Mohamed Salah      90      90        115500000     \n",
       "  Positions.Played Best.Position Nationality\n",
       "1 RW               CAM           Argentina  \n",
       "2 CF,ST            CF            France     \n",
       "3 ST               ST            Poland     \n",
       "4 CM,CAM           CM            Belgium    \n",
       "5 ST,LW            ST            France     \n",
       "6 RW               RW            Egypt      \n",
       "  Image.Link                                       Age ⋯ LM.Rating CM.Rating\n",
       "1 https://cdn.sofifa.net/players/158/023/23_60.png 35  ⋯ 91        88       \n",
       "2 https://cdn.sofifa.net/players/165/153/23_60.png 34  ⋯ 89        84       \n",
       "3 https://cdn.sofifa.net/players/188/545/23_60.png 33  ⋯ 86        83       \n",
       "4 https://cdn.sofifa.net/players/192/985/23_60.png 31  ⋯ 91        91       \n",
       "5 https://cdn.sofifa.net/players/231/747/23_60.png 23  ⋯ 92        84       \n",
       "6 https://cdn.sofifa.net/players/209/331/23_60.png 30  ⋯ 90        85       \n",
       "  RM.Rating LWB.Rating CDM.Rating RWB.Rating LB.Rating CB.Rating RB.Rating\n",
       "1 91        67         66         67         62        53        62       \n",
       "2 89        67         67         67         63        58        63       \n",
       "3 86        67         69         67         64        63        64       \n",
       "4 91        82         82         82         78        72        78       \n",
       "5 92        70         66         70         66        57        66       \n",
       "6 90        74         71         74         70        61        70       \n",
       "  GK.Rating\n",
       "1 22       \n",
       "2 21       \n",
       "3 22       \n",
       "4 24       \n",
       "5 21       \n",
       "6 25       "
      ]
     },
     "metadata": {},
     "output_type": "display_data"
    }
   ],
   "source": [
    "players = read.csv(\"./fifa23_players_data.csv\")\n",
    "head(players)"
   ]
  },
  {
   "cell_type": "code",
   "execution_count": 6,
   "id": "82a581b8",
   "metadata": {},
   "outputs": [
    {
     "data": {
      "text/html": [
       "<style>\n",
       ".list-inline {list-style: none; margin:0; padding: 0}\n",
       ".list-inline>li {display: inline-block}\n",
       ".list-inline>li:not(:last-child)::after {content: \"\\00b7\"; padding: 0 .5ex}\n",
       "</style>\n",
       "<ol class=list-inline><li>'Known.As'</li><li>'Full.Name'</li><li>'Overall'</li><li>'Potential'</li><li>'Value.in.Euro.'</li><li>'Positions.Played'</li><li>'Best.Position'</li><li>'Nationality'</li><li>'Image.Link'</li><li>'Age'</li><li>'Height.in.cm.'</li><li>'Weight.in.kg.'</li><li>'TotalStats'</li><li>'BaseStats'</li><li>'Club.Name'</li><li>'Wage.in.Euro.'</li><li>'Release.Clause'</li><li>'Club.Position'</li><li>'Contract.Until'</li><li>'Club.Jersey.Number'</li><li>'Joined.On'</li><li>'On.Loan'</li><li>'Preferred.Foot'</li><li>'Weak.Foot.Rating'</li><li>'Skill.Moves'</li><li>'International.Reputation'</li><li>'National.Team.Name'</li><li>'National.Team.Image.Link'</li><li>'National.Team.Position'</li><li>'National.Team.Jersey.Number'</li><li>'Attacking.Work.Rate'</li><li>'Defensive.Work.Rate'</li><li>'Pace.Total'</li><li>'Shooting.Total'</li><li>'Passing.Total'</li><li>'Dribbling.Total'</li><li>'Defending.Total'</li><li>'Physicality.Total'</li><li>'Crossing'</li><li>'Finishing'</li><li>'Heading.Accuracy'</li><li>'Short.Passing'</li><li>'Volleys'</li><li>'Dribbling'</li><li>'Curve'</li><li>'Freekick.Accuracy'</li><li>'LongPassing'</li><li>'BallControl'</li><li>'Acceleration'</li><li>'Sprint.Speed'</li><li>'Agility'</li><li>'Reactions'</li><li>'Balance'</li><li>'Shot.Power'</li><li>'Jumping'</li><li>'Stamina'</li><li>'Strength'</li><li>'Long.Shots'</li><li>'Aggression'</li><li>'Interceptions'</li><li>'Positioning'</li><li>'Vision'</li><li>'Penalties'</li><li>'Composure'</li><li>'Marking'</li><li>'Standing.Tackle'</li><li>'Sliding.Tackle'</li><li>'Goalkeeper.Diving'</li><li>'Goalkeeper.Handling'</li><li>'GoalkeeperKicking'</li><li>'Goalkeeper.Positioning'</li><li>'Goalkeeper.Reflexes'</li><li>'ST.Rating'</li><li>'LW.Rating'</li><li>'LF.Rating'</li><li>'CF.Rating'</li><li>'RF.Rating'</li><li>'RW.Rating'</li><li>'CAM.Rating'</li><li>'LM.Rating'</li><li>'CM.Rating'</li><li>'RM.Rating'</li><li>'LWB.Rating'</li><li>'CDM.Rating'</li><li>'RWB.Rating'</li><li>'LB.Rating'</li><li>'CB.Rating'</li><li>'RB.Rating'</li><li>'GK.Rating'</li></ol>\n"
      ],
      "text/latex": [
       "\\begin{enumerate*}\n",
       "\\item 'Known.As'\n",
       "\\item 'Full.Name'\n",
       "\\item 'Overall'\n",
       "\\item 'Potential'\n",
       "\\item 'Value.in.Euro.'\n",
       "\\item 'Positions.Played'\n",
       "\\item 'Best.Position'\n",
       "\\item 'Nationality'\n",
       "\\item 'Image.Link'\n",
       "\\item 'Age'\n",
       "\\item 'Height.in.cm.'\n",
       "\\item 'Weight.in.kg.'\n",
       "\\item 'TotalStats'\n",
       "\\item 'BaseStats'\n",
       "\\item 'Club.Name'\n",
       "\\item 'Wage.in.Euro.'\n",
       "\\item 'Release.Clause'\n",
       "\\item 'Club.Position'\n",
       "\\item 'Contract.Until'\n",
       "\\item 'Club.Jersey.Number'\n",
       "\\item 'Joined.On'\n",
       "\\item 'On.Loan'\n",
       "\\item 'Preferred.Foot'\n",
       "\\item 'Weak.Foot.Rating'\n",
       "\\item 'Skill.Moves'\n",
       "\\item 'International.Reputation'\n",
       "\\item 'National.Team.Name'\n",
       "\\item 'National.Team.Image.Link'\n",
       "\\item 'National.Team.Position'\n",
       "\\item 'National.Team.Jersey.Number'\n",
       "\\item 'Attacking.Work.Rate'\n",
       "\\item 'Defensive.Work.Rate'\n",
       "\\item 'Pace.Total'\n",
       "\\item 'Shooting.Total'\n",
       "\\item 'Passing.Total'\n",
       "\\item 'Dribbling.Total'\n",
       "\\item 'Defending.Total'\n",
       "\\item 'Physicality.Total'\n",
       "\\item 'Crossing'\n",
       "\\item 'Finishing'\n",
       "\\item 'Heading.Accuracy'\n",
       "\\item 'Short.Passing'\n",
       "\\item 'Volleys'\n",
       "\\item 'Dribbling'\n",
       "\\item 'Curve'\n",
       "\\item 'Freekick.Accuracy'\n",
       "\\item 'LongPassing'\n",
       "\\item 'BallControl'\n",
       "\\item 'Acceleration'\n",
       "\\item 'Sprint.Speed'\n",
       "\\item 'Agility'\n",
       "\\item 'Reactions'\n",
       "\\item 'Balance'\n",
       "\\item 'Shot.Power'\n",
       "\\item 'Jumping'\n",
       "\\item 'Stamina'\n",
       "\\item 'Strength'\n",
       "\\item 'Long.Shots'\n",
       "\\item 'Aggression'\n",
       "\\item 'Interceptions'\n",
       "\\item 'Positioning'\n",
       "\\item 'Vision'\n",
       "\\item 'Penalties'\n",
       "\\item 'Composure'\n",
       "\\item 'Marking'\n",
       "\\item 'Standing.Tackle'\n",
       "\\item 'Sliding.Tackle'\n",
       "\\item 'Goalkeeper.Diving'\n",
       "\\item 'Goalkeeper.Handling'\n",
       "\\item 'GoalkeeperKicking'\n",
       "\\item 'Goalkeeper.Positioning'\n",
       "\\item 'Goalkeeper.Reflexes'\n",
       "\\item 'ST.Rating'\n",
       "\\item 'LW.Rating'\n",
       "\\item 'LF.Rating'\n",
       "\\item 'CF.Rating'\n",
       "\\item 'RF.Rating'\n",
       "\\item 'RW.Rating'\n",
       "\\item 'CAM.Rating'\n",
       "\\item 'LM.Rating'\n",
       "\\item 'CM.Rating'\n",
       "\\item 'RM.Rating'\n",
       "\\item 'LWB.Rating'\n",
       "\\item 'CDM.Rating'\n",
       "\\item 'RWB.Rating'\n",
       "\\item 'LB.Rating'\n",
       "\\item 'CB.Rating'\n",
       "\\item 'RB.Rating'\n",
       "\\item 'GK.Rating'\n",
       "\\end{enumerate*}\n"
      ],
      "text/markdown": [
       "1. 'Known.As'\n",
       "2. 'Full.Name'\n",
       "3. 'Overall'\n",
       "4. 'Potential'\n",
       "5. 'Value.in.Euro.'\n",
       "6. 'Positions.Played'\n",
       "7. 'Best.Position'\n",
       "8. 'Nationality'\n",
       "9. 'Image.Link'\n",
       "10. 'Age'\n",
       "11. 'Height.in.cm.'\n",
       "12. 'Weight.in.kg.'\n",
       "13. 'TotalStats'\n",
       "14. 'BaseStats'\n",
       "15. 'Club.Name'\n",
       "16. 'Wage.in.Euro.'\n",
       "17. 'Release.Clause'\n",
       "18. 'Club.Position'\n",
       "19. 'Contract.Until'\n",
       "20. 'Club.Jersey.Number'\n",
       "21. 'Joined.On'\n",
       "22. 'On.Loan'\n",
       "23. 'Preferred.Foot'\n",
       "24. 'Weak.Foot.Rating'\n",
       "25. 'Skill.Moves'\n",
       "26. 'International.Reputation'\n",
       "27. 'National.Team.Name'\n",
       "28. 'National.Team.Image.Link'\n",
       "29. 'National.Team.Position'\n",
       "30. 'National.Team.Jersey.Number'\n",
       "31. 'Attacking.Work.Rate'\n",
       "32. 'Defensive.Work.Rate'\n",
       "33. 'Pace.Total'\n",
       "34. 'Shooting.Total'\n",
       "35. 'Passing.Total'\n",
       "36. 'Dribbling.Total'\n",
       "37. 'Defending.Total'\n",
       "38. 'Physicality.Total'\n",
       "39. 'Crossing'\n",
       "40. 'Finishing'\n",
       "41. 'Heading.Accuracy'\n",
       "42. 'Short.Passing'\n",
       "43. 'Volleys'\n",
       "44. 'Dribbling'\n",
       "45. 'Curve'\n",
       "46. 'Freekick.Accuracy'\n",
       "47. 'LongPassing'\n",
       "48. 'BallControl'\n",
       "49. 'Acceleration'\n",
       "50. 'Sprint.Speed'\n",
       "51. 'Agility'\n",
       "52. 'Reactions'\n",
       "53. 'Balance'\n",
       "54. 'Shot.Power'\n",
       "55. 'Jumping'\n",
       "56. 'Stamina'\n",
       "57. 'Strength'\n",
       "58. 'Long.Shots'\n",
       "59. 'Aggression'\n",
       "60. 'Interceptions'\n",
       "61. 'Positioning'\n",
       "62. 'Vision'\n",
       "63. 'Penalties'\n",
       "64. 'Composure'\n",
       "65. 'Marking'\n",
       "66. 'Standing.Tackle'\n",
       "67. 'Sliding.Tackle'\n",
       "68. 'Goalkeeper.Diving'\n",
       "69. 'Goalkeeper.Handling'\n",
       "70. 'GoalkeeperKicking'\n",
       "71. 'Goalkeeper.Positioning'\n",
       "72. 'Goalkeeper.Reflexes'\n",
       "73. 'ST.Rating'\n",
       "74. 'LW.Rating'\n",
       "75. 'LF.Rating'\n",
       "76. 'CF.Rating'\n",
       "77. 'RF.Rating'\n",
       "78. 'RW.Rating'\n",
       "79. 'CAM.Rating'\n",
       "80. 'LM.Rating'\n",
       "81. 'CM.Rating'\n",
       "82. 'RM.Rating'\n",
       "83. 'LWB.Rating'\n",
       "84. 'CDM.Rating'\n",
       "85. 'RWB.Rating'\n",
       "86. 'LB.Rating'\n",
       "87. 'CB.Rating'\n",
       "88. 'RB.Rating'\n",
       "89. 'GK.Rating'\n",
       "\n",
       "\n"
      ],
      "text/plain": [
       " [1] \"Known.As\"                    \"Full.Name\"                  \n",
       " [3] \"Overall\"                     \"Potential\"                  \n",
       " [5] \"Value.in.Euro.\"              \"Positions.Played\"           \n",
       " [7] \"Best.Position\"               \"Nationality\"                \n",
       " [9] \"Image.Link\"                  \"Age\"                        \n",
       "[11] \"Height.in.cm.\"               \"Weight.in.kg.\"              \n",
       "[13] \"TotalStats\"                  \"BaseStats\"                  \n",
       "[15] \"Club.Name\"                   \"Wage.in.Euro.\"              \n",
       "[17] \"Release.Clause\"              \"Club.Position\"              \n",
       "[19] \"Contract.Until\"              \"Club.Jersey.Number\"         \n",
       "[21] \"Joined.On\"                   \"On.Loan\"                    \n",
       "[23] \"Preferred.Foot\"              \"Weak.Foot.Rating\"           \n",
       "[25] \"Skill.Moves\"                 \"International.Reputation\"   \n",
       "[27] \"National.Team.Name\"          \"National.Team.Image.Link\"   \n",
       "[29] \"National.Team.Position\"      \"National.Team.Jersey.Number\"\n",
       "[31] \"Attacking.Work.Rate\"         \"Defensive.Work.Rate\"        \n",
       "[33] \"Pace.Total\"                  \"Shooting.Total\"             \n",
       "[35] \"Passing.Total\"               \"Dribbling.Total\"            \n",
       "[37] \"Defending.Total\"             \"Physicality.Total\"          \n",
       "[39] \"Crossing\"                    \"Finishing\"                  \n",
       "[41] \"Heading.Accuracy\"            \"Short.Passing\"              \n",
       "[43] \"Volleys\"                     \"Dribbling\"                  \n",
       "[45] \"Curve\"                       \"Freekick.Accuracy\"          \n",
       "[47] \"LongPassing\"                 \"BallControl\"                \n",
       "[49] \"Acceleration\"                \"Sprint.Speed\"               \n",
       "[51] \"Agility\"                     \"Reactions\"                  \n",
       "[53] \"Balance\"                     \"Shot.Power\"                 \n",
       "[55] \"Jumping\"                     \"Stamina\"                    \n",
       "[57] \"Strength\"                    \"Long.Shots\"                 \n",
       "[59] \"Aggression\"                  \"Interceptions\"              \n",
       "[61] \"Positioning\"                 \"Vision\"                     \n",
       "[63] \"Penalties\"                   \"Composure\"                  \n",
       "[65] \"Marking\"                     \"Standing.Tackle\"            \n",
       "[67] \"Sliding.Tackle\"              \"Goalkeeper.Diving\"          \n",
       "[69] \"Goalkeeper.Handling\"         \"GoalkeeperKicking\"          \n",
       "[71] \"Goalkeeper.Positioning\"      \"Goalkeeper.Reflexes\"        \n",
       "[73] \"ST.Rating\"                   \"LW.Rating\"                  \n",
       "[75] \"LF.Rating\"                   \"CF.Rating\"                  \n",
       "[77] \"RF.Rating\"                   \"RW.Rating\"                  \n",
       "[79] \"CAM.Rating\"                  \"LM.Rating\"                  \n",
       "[81] \"CM.Rating\"                   \"RM.Rating\"                  \n",
       "[83] \"LWB.Rating\"                  \"CDM.Rating\"                 \n",
       "[85] \"RWB.Rating\"                  \"LB.Rating\"                  \n",
       "[87] \"CB.Rating\"                   \"RB.Rating\"                  \n",
       "[89] \"GK.Rating\"                  "
      ]
     },
     "metadata": {},
     "output_type": "display_data"
    }
   ],
   "source": [
    "colnames(players)"
   ]
  },
  {
   "cell_type": "code",
   "execution_count": 5,
   "id": "03c354d6",
   "metadata": {},
   "outputs": [
    {
     "data": {
      "text/html": [
       "<table class=\"dataframe\">\n",
       "<caption>A data.frame: 6 × 14</caption>\n",
       "<thead>\n",
       "\t<tr><th></th><th scope=col>ID</th><th scope=col>Name</th><th scope=col>League</th><th scope=col>LeagueId</th><th scope=col>Overall</th><th scope=col>Attack</th><th scope=col>Midfield</th><th scope=col>Defence</th><th scope=col>TransferBudget</th><th scope=col>DomesticPrestige</th><th scope=col>IntPrestige</th><th scope=col>Players</th><th scope=col>StartingAverageAge</th><th scope=col>AllTeamAverageAge</th></tr>\n",
       "\t<tr><th></th><th scope=col>&lt;int&gt;</th><th scope=col>&lt;chr&gt;</th><th scope=col>&lt;chr&gt;</th><th scope=col>&lt;int&gt;</th><th scope=col>&lt;int&gt;</th><th scope=col>&lt;int&gt;</th><th scope=col>&lt;int&gt;</th><th scope=col>&lt;int&gt;</th><th scope=col>&lt;int&gt;</th><th scope=col>&lt;int&gt;</th><th scope=col>&lt;int&gt;</th><th scope=col>&lt;int&gt;</th><th scope=col>&lt;dbl&gt;</th><th scope=col>&lt;dbl&gt;</th></tr>\n",
       "</thead>\n",
       "<tbody>\n",
       "\t<tr><th scope=row>1</th><td>  1943</td><td>AFC Bournemouth       </td><td>English Premier League (1)</td><td>13</td><td>74</td><td>75</td><td>73</td><td>73</td><td>0</td><td>2</td><td>1</td><td>28</td><td>25.8</td><td>25.5</td></tr>\n",
       "\t<tr><th scope=row>2</th><td>116418</td><td>AFC Richmond          </td><td>English Premier League (1)</td><td>13</td><td>78</td><td>81</td><td>79</td><td>77</td><td>0</td><td>5</td><td>3</td><td>19</td><td>27.3</td><td>27.3</td></tr>\n",
       "\t<tr><th scope=row>3</th><td>     1</td><td>Arsenal               </td><td>English Premier League (1)</td><td>13</td><td>80</td><td>83</td><td>81</td><td>79</td><td>0</td><td>7</td><td>7</td><td>29</td><td>24.1</td><td>23.0</td></tr>\n",
       "\t<tr><th scope=row>4</th><td>     2</td><td>Aston Villa           </td><td>English Premier League (1)</td><td>13</td><td>79</td><td>79</td><td>78</td><td>80</td><td>0</td><td>5</td><td>3</td><td>32</td><td>25.8</td><td>25.2</td></tr>\n",
       "\t<tr><th scope=row>5</th><td>  1925</td><td>Brentford             </td><td>English Premier League (1)</td><td>13</td><td>75</td><td>75</td><td>74</td><td>75</td><td>0</td><td>1</td><td>1</td><td>30</td><td>25.4</td><td>24.2</td></tr>\n",
       "\t<tr><th scope=row>6</th><td><span style=white-space:pre-wrap>  1808</span></td><td>Brighton &amp; Hove Albion</td><td>English Premier League (1)</td><td>13</td><td>76</td><td>76</td><td>75</td><td>77</td><td>0</td><td>3</td><td>2</td><td>31</td><td>27.6</td><td>23.6</td></tr>\n",
       "</tbody>\n",
       "</table>\n"
      ],
      "text/latex": [
       "A data.frame: 6 × 14\n",
       "\\begin{tabular}{r|llllllllllllll}\n",
       "  & ID & Name & League & LeagueId & Overall & Attack & Midfield & Defence & TransferBudget & DomesticPrestige & IntPrestige & Players & StartingAverageAge & AllTeamAverageAge\\\\\n",
       "  & <int> & <chr> & <chr> & <int> & <int> & <int> & <int> & <int> & <int> & <int> & <int> & <int> & <dbl> & <dbl>\\\\\n",
       "\\hline\n",
       "\t1 &   1943 & AFC Bournemouth        & English Premier League (1) & 13 & 74 & 75 & 73 & 73 & 0 & 2 & 1 & 28 & 25.8 & 25.5\\\\\n",
       "\t2 & 116418 & AFC Richmond           & English Premier League (1) & 13 & 78 & 81 & 79 & 77 & 0 & 5 & 3 & 19 & 27.3 & 27.3\\\\\n",
       "\t3 &      1 & Arsenal                & English Premier League (1) & 13 & 80 & 83 & 81 & 79 & 0 & 7 & 7 & 29 & 24.1 & 23.0\\\\\n",
       "\t4 &      2 & Aston Villa            & English Premier League (1) & 13 & 79 & 79 & 78 & 80 & 0 & 5 & 3 & 32 & 25.8 & 25.2\\\\\n",
       "\t5 &   1925 & Brentford              & English Premier League (1) & 13 & 75 & 75 & 74 & 75 & 0 & 1 & 1 & 30 & 25.4 & 24.2\\\\\n",
       "\t6 &   1808 & Brighton \\& Hove Albion & English Premier League (1) & 13 & 76 & 76 & 75 & 77 & 0 & 3 & 2 & 31 & 27.6 & 23.6\\\\\n",
       "\\end{tabular}\n"
      ],
      "text/markdown": [
       "\n",
       "A data.frame: 6 × 14\n",
       "\n",
       "| <!--/--> | ID &lt;int&gt; | Name &lt;chr&gt; | League &lt;chr&gt; | LeagueId &lt;int&gt; | Overall &lt;int&gt; | Attack &lt;int&gt; | Midfield &lt;int&gt; | Defence &lt;int&gt; | TransferBudget &lt;int&gt; | DomesticPrestige &lt;int&gt; | IntPrestige &lt;int&gt; | Players &lt;int&gt; | StartingAverageAge &lt;dbl&gt; | AllTeamAverageAge &lt;dbl&gt; |\n",
       "|---|---|---|---|---|---|---|---|---|---|---|---|---|---|---|\n",
       "| 1 |   1943 | AFC Bournemouth        | English Premier League (1) | 13 | 74 | 75 | 73 | 73 | 0 | 2 | 1 | 28 | 25.8 | 25.5 |\n",
       "| 2 | 116418 | AFC Richmond           | English Premier League (1) | 13 | 78 | 81 | 79 | 77 | 0 | 5 | 3 | 19 | 27.3 | 27.3 |\n",
       "| 3 |      1 | Arsenal                | English Premier League (1) | 13 | 80 | 83 | 81 | 79 | 0 | 7 | 7 | 29 | 24.1 | 23.0 |\n",
       "| 4 |      2 | Aston Villa            | English Premier League (1) | 13 | 79 | 79 | 78 | 80 | 0 | 5 | 3 | 32 | 25.8 | 25.2 |\n",
       "| 5 |   1925 | Brentford              | English Premier League (1) | 13 | 75 | 75 | 74 | 75 | 0 | 1 | 1 | 30 | 25.4 | 24.2 |\n",
       "| 6 |   1808 | Brighton &amp; Hove Albion | English Premier League (1) | 13 | 76 | 76 | 75 | 77 | 0 | 3 | 2 | 31 | 27.6 | 23.6 |\n",
       "\n"
      ],
      "text/plain": [
       "  ID     Name                   League                     LeagueId Overall\n",
       "1   1943 AFC Bournemouth        English Premier League (1) 13       74     \n",
       "2 116418 AFC Richmond           English Premier League (1) 13       78     \n",
       "3      1 Arsenal                English Premier League (1) 13       80     \n",
       "4      2 Aston Villa            English Premier League (1) 13       79     \n",
       "5   1925 Brentford              English Premier League (1) 13       75     \n",
       "6   1808 Brighton & Hove Albion English Premier League (1) 13       76     \n",
       "  Attack Midfield Defence TransferBudget DomesticPrestige IntPrestige Players\n",
       "1 75     73       73      0              2                1           28     \n",
       "2 81     79       77      0              5                3           19     \n",
       "3 83     81       79      0              7                7           29     \n",
       "4 79     78       80      0              5                3           32     \n",
       "5 75     74       75      0              1                1           30     \n",
       "6 76     75       77      0              3                2           31     \n",
       "  StartingAverageAge AllTeamAverageAge\n",
       "1 25.8               25.5             \n",
       "2 27.3               27.3             \n",
       "3 24.1               23.0             \n",
       "4 25.8               25.2             \n",
       "5 25.4               24.2             \n",
       "6 27.6               23.6             "
      ]
     },
     "metadata": {},
     "output_type": "display_data"
    }
   ],
   "source": [
    "teams = read.csv(\"./fifa23_teams_data.csv\")\n",
    "head(teams)"
   ]
  },
  {
   "cell_type": "code",
   "execution_count": 7,
   "id": "3683f178",
   "metadata": {},
   "outputs": [
    {
     "data": {
      "text/html": [
       "<style>\n",
       ".list-inline {list-style: none; margin:0; padding: 0}\n",
       ".list-inline>li {display: inline-block}\n",
       ".list-inline>li:not(:last-child)::after {content: \"\\00b7\"; padding: 0 .5ex}\n",
       "</style>\n",
       "<ol class=list-inline><li>'AFC Bournemouth'</li><li>'AFC Richmond'</li><li>'Arsenal'</li><li>'Aston Villa'</li><li>'Brentford'</li><li>'Brighton &amp; Hove Albion'</li></ol>\n"
      ],
      "text/latex": [
       "\\begin{enumerate*}\n",
       "\\item 'AFC Bournemouth'\n",
       "\\item 'AFC Richmond'\n",
       "\\item 'Arsenal'\n",
       "\\item 'Aston Villa'\n",
       "\\item 'Brentford'\n",
       "\\item 'Brighton \\& Hove Albion'\n",
       "\\end{enumerate*}\n"
      ],
      "text/markdown": [
       "1. 'AFC Bournemouth'\n",
       "2. 'AFC Richmond'\n",
       "3. 'Arsenal'\n",
       "4. 'Aston Villa'\n",
       "5. 'Brentford'\n",
       "6. 'Brighton &amp; Hove Albion'\n",
       "\n",
       "\n"
      ],
      "text/plain": [
       "[1] \"AFC Bournemouth\"        \"AFC Richmond\"           \"Arsenal\"               \n",
       "[4] \"Aston Villa\"            \"Brentford\"              \"Brighton & Hove Albion\""
      ]
     },
     "metadata": {},
     "output_type": "display_data"
    }
   ],
   "source": [
    "team_only = teams[[\"Name\"]]\n",
    "head(team_only)"
   ]
  },
  {
   "cell_type": "code",
   "execution_count": 9,
   "id": "eaf30449",
   "metadata": {},
   "outputs": [
    {
     "ename": "ERROR",
     "evalue": "Error in fix.by(by.x, x): 'by' must specify a uniquely valid column\n",
     "output_type": "error",
     "traceback": [
      "Error in fix.by(by.x, x): 'by' must specify a uniquely valid column\nTraceback:\n",
      "1. merge(players, team_only, by = \"Club Name\", all.x = TRUE)",
      "2. merge.data.frame(players, team_only, by = \"Club Name\", all.x = TRUE)",
      "3. fix.by(by.x, x)",
      "4. stop(ngettext(sum(bad), \"'by' must specify a uniquely valid column\", \n .     \"'by' must specify uniquely valid columns\"), domain = NA)"
     ]
    }
   ],
   "source": [
    "# combined <- merge(players, team_only, by = \"Club Name\", all.x = TRUE)\n",
    "# head(combined)"
   ]
  },
  {
   "cell_type": "code",
   "execution_count": 8,
   "id": "29dd9eb6",
   "metadata": {},
   "outputs": [
    {
     "data": {
      "text/html": [
       "<table class=\"dataframe\">\n",
       "<caption>A data.frame: 6 × 4</caption>\n",
       "<thead>\n",
       "\t<tr><th></th><th scope=col>Age</th><th scope=col>Nationality</th><th scope=col>Overall</th><th scope=col>Value.in.Euro.</th></tr>\n",
       "\t<tr><th></th><th scope=col>&lt;int&gt;</th><th scope=col>&lt;chr&gt;</th><th scope=col>&lt;int&gt;</th><th scope=col>&lt;int&gt;</th></tr>\n",
       "</thead>\n",
       "<tbody>\n",
       "\t<tr><th scope=row>1</th><td>35</td><td>Argentina</td><td>91</td><td> 54000000</td></tr>\n",
       "\t<tr><th scope=row>2</th><td>34</td><td>France   </td><td>91</td><td> 64000000</td></tr>\n",
       "\t<tr><th scope=row>3</th><td>33</td><td>Poland   </td><td>91</td><td> 84000000</td></tr>\n",
       "\t<tr><th scope=row>4</th><td>31</td><td>Belgium  </td><td>91</td><td>107500000</td></tr>\n",
       "\t<tr><th scope=row>5</th><td>23</td><td>France   </td><td>91</td><td>190500000</td></tr>\n",
       "\t<tr><th scope=row>6</th><td>30</td><td>Egypt    </td><td>90</td><td>115500000</td></tr>\n",
       "</tbody>\n",
       "</table>\n"
      ],
      "text/latex": [
       "A data.frame: 6 × 4\n",
       "\\begin{tabular}{r|llll}\n",
       "  & Age & Nationality & Overall & Value.in.Euro.\\\\\n",
       "  & <int> & <chr> & <int> & <int>\\\\\n",
       "\\hline\n",
       "\t1 & 35 & Argentina & 91 &  54000000\\\\\n",
       "\t2 & 34 & France    & 91 &  64000000\\\\\n",
       "\t3 & 33 & Poland    & 91 &  84000000\\\\\n",
       "\t4 & 31 & Belgium   & 91 & 107500000\\\\\n",
       "\t5 & 23 & France    & 91 & 190500000\\\\\n",
       "\t6 & 30 & Egypt     & 90 & 115500000\\\\\n",
       "\\end{tabular}\n"
      ],
      "text/markdown": [
       "\n",
       "A data.frame: 6 × 4\n",
       "\n",
       "| <!--/--> | Age &lt;int&gt; | Nationality &lt;chr&gt; | Overall &lt;int&gt; | Value.in.Euro. &lt;int&gt; |\n",
       "|---|---|---|---|---|\n",
       "| 1 | 35 | Argentina | 91 |  54000000 |\n",
       "| 2 | 34 | France    | 91 |  64000000 |\n",
       "| 3 | 33 | Poland    | 91 |  84000000 |\n",
       "| 4 | 31 | Belgium   | 91 | 107500000 |\n",
       "| 5 | 23 | France    | 91 | 190500000 |\n",
       "| 6 | 30 | Egypt     | 90 | 115500000 |\n",
       "\n"
      ],
      "text/plain": [
       "  Age Nationality Overall Value.in.Euro.\n",
       "1 35  Argentina   91       54000000     \n",
       "2 34  France      91       64000000     \n",
       "3 33  Poland      91       84000000     \n",
       "4 31  Belgium     91      107500000     \n",
       "5 23  France      91      190500000     \n",
       "6 30  Egypt       90      115500000     "
      ]
     },
     "metadata": {},
     "output_type": "display_data"
    },
    {
     "data": {
      "text/html": [
       "<style>\n",
       ".list-inline {list-style: none; margin:0; padding: 0}\n",
       ".list-inline>li {display: inline-block}\n",
       ".list-inline>li:not(:last-child)::after {content: \"\\00b7\"; padding: 0 .5ex}\n",
       "</style>\n",
       "<ol class=list-inline><li>18539</li><li>4</li></ol>\n"
      ],
      "text/latex": [
       "\\begin{enumerate*}\n",
       "\\item 18539\n",
       "\\item 4\n",
       "\\end{enumerate*}\n"
      ],
      "text/markdown": [
       "1. 18539\n",
       "2. 4\n",
       "\n",
       "\n"
      ],
      "text/plain": [
       "[1] 18539     4"
      ]
     },
     "metadata": {},
     "output_type": "display_data"
    }
   ],
   "source": [
    "data <- players[c('Age', 'Nationality', 'Overall', 'Value.in.Euro.')]\n",
    "head(data)\n",
    "dim(data)"
   ]
  },
  {
   "cell_type": "code",
   "execution_count": 13,
   "id": "f9aefbdc",
   "metadata": {},
   "outputs": [
    {
     "data": {
      "text/html": [
       "<table class=\"dataframe\">\n",
       "<caption>A data.frame: 6 × 4</caption>\n",
       "<thead>\n",
       "\t<tr><th></th><th scope=col>Age</th><th scope=col>Nationality</th><th scope=col>Overall</th><th scope=col>Value</th></tr>\n",
       "\t<tr><th></th><th scope=col>&lt;int&gt;</th><th scope=col>&lt;chr&gt;</th><th scope=col>&lt;int&gt;</th><th scope=col>&lt;int&gt;</th></tr>\n",
       "</thead>\n",
       "<tbody>\n",
       "\t<tr><th scope=row>1</th><td>35</td><td>Argentina</td><td>91</td><td> 54000000</td></tr>\n",
       "\t<tr><th scope=row>2</th><td>34</td><td>France   </td><td>91</td><td> 64000000</td></tr>\n",
       "\t<tr><th scope=row>3</th><td>33</td><td>Poland   </td><td>91</td><td> 84000000</td></tr>\n",
       "\t<tr><th scope=row>4</th><td>31</td><td>Belgium  </td><td>91</td><td>107500000</td></tr>\n",
       "\t<tr><th scope=row>5</th><td>23</td><td>France   </td><td>91</td><td>190500000</td></tr>\n",
       "\t<tr><th scope=row>6</th><td>30</td><td>Egypt    </td><td>90</td><td>115500000</td></tr>\n",
       "</tbody>\n",
       "</table>\n"
      ],
      "text/latex": [
       "A data.frame: 6 × 4\n",
       "\\begin{tabular}{r|llll}\n",
       "  & Age & Nationality & Overall & Value\\\\\n",
       "  & <int> & <chr> & <int> & <int>\\\\\n",
       "\\hline\n",
       "\t1 & 35 & Argentina & 91 &  54000000\\\\\n",
       "\t2 & 34 & France    & 91 &  64000000\\\\\n",
       "\t3 & 33 & Poland    & 91 &  84000000\\\\\n",
       "\t4 & 31 & Belgium   & 91 & 107500000\\\\\n",
       "\t5 & 23 & France    & 91 & 190500000\\\\\n",
       "\t6 & 30 & Egypt     & 90 & 115500000\\\\\n",
       "\\end{tabular}\n"
      ],
      "text/markdown": [
       "\n",
       "A data.frame: 6 × 4\n",
       "\n",
       "| <!--/--> | Age &lt;int&gt; | Nationality &lt;chr&gt; | Overall &lt;int&gt; | Value &lt;int&gt; |\n",
       "|---|---|---|---|---|\n",
       "| 1 | 35 | Argentina | 91 |  54000000 |\n",
       "| 2 | 34 | France    | 91 |  64000000 |\n",
       "| 3 | 33 | Poland    | 91 |  84000000 |\n",
       "| 4 | 31 | Belgium   | 91 | 107500000 |\n",
       "| 5 | 23 | France    | 91 | 190500000 |\n",
       "| 6 | 30 | Egypt     | 90 | 115500000 |\n",
       "\n"
      ],
      "text/plain": [
       "  Age Nationality Overall Value    \n",
       "1 35  Argentina   91       54000000\n",
       "2 34  France      91       64000000\n",
       "3 33  Poland      91       84000000\n",
       "4 31  Belgium     91      107500000\n",
       "5 23  France      91      190500000\n",
       "6 30  Egypt       90      115500000"
      ]
     },
     "metadata": {},
     "output_type": "display_data"
    }
   ],
   "source": [
    "#Rename column\n",
    "colnames(data)[4] <- \"Value\"\n",
    "head(data)"
   ]
  },
  {
   "cell_type": "code",
   "execution_count": 9,
   "id": "d612da9f",
   "metadata": {},
   "outputs": [
    {
     "data": {
      "text/plain": [
       "      Age        Nationality           Overall      Value.in.Euro.     \n",
       " Min.   :16.00   Length:18539       Min.   :47.00   Min.   :        0  \n",
       " 1st Qu.:21.00   Class :character   1st Qu.:62.00   1st Qu.:   475000  \n",
       " Median :25.00   Mode  :character   Median :66.00   Median :  1000000  \n",
       " Mean   :25.24                      Mean   :65.85   Mean   :  2875461  \n",
       " 3rd Qu.:29.00                      3rd Qu.:70.00   3rd Qu.:  2000000  \n",
       " Max.   :44.00                      Max.   :91.00   Max.   :190500000  "
      ]
     },
     "metadata": {},
     "output_type": "display_data"
    }
   ],
   "source": [
    "#Summary of these 4 features\n",
    "summary(data)"
   ]
  },
  {
   "cell_type": "code",
   "execution_count": 48,
   "id": "7bb52758",
   "metadata": {},
   "outputs": [
    {
     "data": {
      "image/png": "[encoded data removed]",
      "text/plain": [
       "plot without title"
      ]
     },
     "metadata": {
      "image/png": {
       "height": 300,
       "width": 600
      }
     },
     "output_type": "display_data"
    },
    {
     "data": {
      "image/png": "[encoded data removed]",
      "text/plain": [
       "plot without title"
      ]
     },
     "metadata": {
      "image/png": {
       "height": 300,
       "width": 600
      }
     },
     "output_type": "display_data"
    }
   ],
   "source": [
    "options(repr.plot.width = 10, repr.plot.height = 5) \n",
    "#Create the histogram\n",
    "histogram <- ggplot(data, aes(x = Age)) + \n",
    "  geom_histogram(binwidth = 1, color = \"black\", fill = \"lightblue\") +\n",
    "  \n",
    "  # Add axis labels and adjust tick marks\n",
    "  labs(x = \"Age\", y = \"Count\", title = \"Distribution of Age\") +\n",
    "  scale_x_continuous(breaks = seq(15, 45, by = 2)) +\n",
    "  scale_y_continuous(breaks = seq(0, 1600, by = 200)) +\n",
    "\n",
    "  # Adjust the size of the plot and labels\n",
    "  theme(plot.title = element_text(size = 20, face = \"bold\", hjust = 0.5),\n",
    "        axis.title = element_text(size = 18),\n",
    "        axis.text = element_text(size = 18)) \n",
    "\n",
    "#Create the boxplot\n",
    "boxplot <- ggplot(data, aes(x = \"\", y = Age)) +\n",
    "  geom_boxplot(color = \"black\", fill = \"lightgreen\") +\n",
    "\n",
    "  # Add axis labels and adjust tick marks\n",
    "  labs(x = \"\", y = \"Age\", title = \"Boxplot of Age\") +\n",
    "  scale_y_continuous(breaks = seq(15, 45, by = 2)) +\n",
    "\n",
    "  # Adjust the size of the plot and labels\n",
    "  theme(plot.title = element_text(size = 20, face = \"bold\", hjust = 0.5),\n",
    "        axis.title = element_text(size = 18),\n",
    "        axis.text = element_text(size = 18)) +\n",
    "  coord_flip() \n",
    "\n",
    "plot(histogram)\n",
    "plot(boxplot)"
   ]
  },
  {
   "cell_type": "code",
   "execution_count": 55,
   "id": "f7a9356e",
   "metadata": {},
   "outputs": [
    {
     "data": {
      "image/png": "[encoded data removed]",
      "text/plain": [
       "plot without title"
      ]
     },
     "metadata": {
      "image/png": {
       "height": 300,
       "width": 600
      }
     },
     "output_type": "display_data"
    },
    {
     "data": {
      "image/png": "[encoded data removed]",
      "text/plain": [
       "plot without title"
      ]
     },
     "metadata": {
      "image/png": {
       "height": 300,
       "width": 600
      }
     },
     "output_type": "display_data"
    }
   ],
   "source": [
    "#Create the histogram\n",
    "histogram <- ggplot(data, aes(x = Overall)) + \n",
    "  geom_histogram(binwidth = 1, color = \"black\", fill = \"lightblue\") +\n",
    "  \n",
    "  # Add axis labels and adjust tick marks\n",
    "  labs(x = \"Overall\", y = \"Count\", title = \"Distribution of Overall\") +\n",
    "  scale_x_continuous(breaks = seq(45, 95, by = 5)) + \n",
    "\n",
    "  # Adjust the size of the plot and labels\n",
    "  theme(plot.title = element_text(size = 20, face = \"bold\", hjust = 0.5),\n",
    "        axis.title = element_text(size = 18),\n",
    "        axis.text = element_text(size = 18)) \n",
    "\n",
    "#Create the boxplot\n",
    "boxplot <- ggplot(data, aes(x = \"\", y = Overall)) +\n",
    "  geom_boxplot(color = \"black\", fill = \"lightgreen\") +\n",
    "\n",
    "  # Add axis labels and adjust tick marks\n",
    "  labs(x = \"\", y = \"Overall\", title = \"Boxplot of Overall\") +\n",
    "  scale_y_continuous(breaks = seq(45, 95, by = 5)) +\n",
    "\n",
    "  # Adjust the size of the plot and labels\n",
    "  theme(plot.title = element_text(size = 20, face = \"bold\", hjust = 0.5),\n",
    "        axis.title = element_text(size = 18),\n",
    "        axis.text = element_text(size = 18)) +\n",
    "  coord_flip() \n",
    "\n",
    "plot(histogram)\n",
    "plot(boxplot)"
   ]
  },
  {
   "cell_type": "code",
   "execution_count": 77,
   "id": "f5fe813b",
   "metadata": {},
   "outputs": [
    {
     "data": {
      "image/png": "[encoded data removed]",
      "text/plain": [
       "plot without title"
      ]
     },
     "metadata": {
      "image/png": {
       "height": 300,
       "width": 600
      }
     },
     "output_type": "display_data"
    }
   ],
   "source": [
    "#Create the histogram\n",
    "histogram <- ggplot(max_rm_data, aes(x = Value)) + \n",
    "  geom_histogram(binwidth = 500000, color = \"black\", fill = \"lightblue\") +\n",
    "  \n",
    "  # Add axis labels and adjust tick marks\n",
    "  labs(x = \"Value\", y = \"Count\", title = \"Distribution of Value\") +\n",
    "#   scale_x_continuous(breaks = seq(45, 95, by = 5)) + \n",
    "\n",
    "  # Adjust the size of the plot and labels\n",
    "  theme(plot.title = element_text(size = 20, face = \"bold\", hjust = 0.5),\n",
    "        axis.title = element_text(size = 18),\n",
    "        axis.text = element_text(size = 18)) \n",
    "\n",
    "#Create the boxplot\n",
    "# boxplot <- ggplot(data, aes(x = \"\", y = Value)) +\n",
    "#   geom_boxplot(color = \"black\", fill = \"lightgreen\") +\n",
    "\n",
    "#   # Add axis labels and adjust tick marks\n",
    "#   labs(x = \"\", y = \"Value\", title = \"Boxplot of Value\") +\n",
    "#   scale_y_continuous(breaks = seq(45, 95, by = 5)) +\n",
    "\n",
    "#   # Adjust the size of the plot and labels\n",
    "#   theme(plot.title = element_text(size = 20, face = \"bold\", hjust = 0.5),\n",
    "#         axis.title = element_text(size = 18),\n",
    "#         axis.text = element_text(size = 18)) +\n",
    "#   coord_flip() \n",
    "\n",
    "plot(histogram)\n",
    "# plot(boxplot)"
   ]
  },
  {
   "cell_type": "code",
   "execution_count": 26,
   "id": "6f9da84c",
   "metadata": {},
   "outputs": [
    {
     "data": {
      "text/html": [
       "<style>\n",
       ".dl-inline {width: auto; margin:0; padding: 0}\n",
       ".dl-inline>dt, .dl-inline>dd {float: none; width: auto; display: inline-block}\n",
       ".dl-inline>dt::after {content: \":\\0020\"; padding-right: .5ex}\n",
       ".dl-inline>dt:not(:first-of-type) {padding-left: .5ex}\n",
       "</style><dl class=dl-inline><dt>Age</dt><dd>0</dd><dt>Nationality</dt><dd>0</dd><dt>Overall</dt><dd>0</dd><dt>Value</dt><dd>104</dd></dl>\n"
      ],
      "text/latex": [
       "\\begin{description*}\n",
       "\\item[Age] 0\n",
       "\\item[Nationality] 0\n",
       "\\item[Overall] 0\n",
       "\\item[Value] 104\n",
       "\\end{description*}\n"
      ],
      "text/markdown": [
       "Age\n",
       ":   0Nationality\n",
       ":   0Overall\n",
       ":   0Value\n",
       ":   104\n",
       "\n"
      ],
      "text/plain": [
       "        Age Nationality     Overall       Value \n",
       "          0           0           0         104 "
      ]
     },
     "metadata": {},
     "output_type": "display_data"
    },
    {
     "data": {
      "text/html": [
       "<style>\n",
       ".dl-inline {width: auto; margin:0; padding: 0}\n",
       ".dl-inline>dt, .dl-inline>dd {float: none; width: auto; display: inline-block}\n",
       ".dl-inline>dt::after {content: \":\\0020\"; padding-right: .5ex}\n",
       ".dl-inline>dt:not(:first-of-type) {padding-left: .5ex}\n",
       "</style><dl class=dl-inline><dt>Age</dt><dd>0</dd><dt>Nationality</dt><dd>0</dd><dt>Overall</dt><dd>0</dd><dt>Value</dt><dd>0</dd></dl>\n"
      ],
      "text/latex": [
       "\\begin{description*}\n",
       "\\item[Age] 0\n",
       "\\item[Nationality] 0\n",
       "\\item[Overall] 0\n",
       "\\item[Value] 0\n",
       "\\end{description*}\n"
      ],
      "text/markdown": [
       "Age\n",
       ":   0Nationality\n",
       ":   0Overall\n",
       ":   0Value\n",
       ":   0\n",
       "\n"
      ],
      "text/plain": [
       "        Age Nationality     Overall       Value \n",
       "          0           0           0           0 "
      ]
     },
     "metadata": {},
     "output_type": "display_data"
    }
   ],
   "source": [
    "#Check for zero & null values\n",
    "colSums(data==0)\n",
    "colSums(is.na(data))"
   ]
  },
  {
   "cell_type": "code",
   "execution_count": 30,
   "id": "6abd825e",
   "metadata": {},
   "outputs": [
    {
     "data": {
      "text/html": [
       "<style>\n",
       ".list-inline {list-style: none; margin:0; padding: 0}\n",
       ".list-inline>li {display: inline-block}\n",
       ".list-inline>li:not(:last-child)::after {content: \"\\00b7\"; padding: 0 .5ex}\n",
       "</style>\n",
       "<ol class=list-inline><li>18539</li><li>4</li></ol>\n"
      ],
      "text/latex": [
       "\\begin{enumerate*}\n",
       "\\item 18539\n",
       "\\item 4\n",
       "\\end{enumerate*}\n"
      ],
      "text/markdown": [
       "1. 18539\n",
       "2. 4\n",
       "\n",
       "\n"
      ],
      "text/plain": [
       "[1] 18539     4"
      ]
     },
     "metadata": {},
     "output_type": "display_data"
    },
    {
     "data": {
      "text/html": [
       "<style>\n",
       ".list-inline {list-style: none; margin:0; padding: 0}\n",
       ".list-inline>li {display: inline-block}\n",
       ".list-inline>li:not(:last-child)::after {content: \"\\00b7\"; padding: 0 .5ex}\n",
       "</style>\n",
       "<ol class=list-inline><li>18435</li><li>4</li></ol>\n"
      ],
      "text/latex": [
       "\\begin{enumerate*}\n",
       "\\item 18435\n",
       "\\item 4\n",
       "\\end{enumerate*}\n"
      ],
      "text/markdown": [
       "1. 18435\n",
       "2. 4\n",
       "\n",
       "\n"
      ],
      "text/plain": [
       "[1] 18435     4"
      ]
     },
     "metadata": {},
     "output_type": "display_data"
    }
   ],
   "source": [
    "#Remove data with Value == 0\n",
    "zero_rm_data <- data[data$Value != 0, ]\n",
    "dim(data)\n",
    "dim(zero_rm_data)"
   ]
  },
  {
   "cell_type": "code",
   "execution_count": 31,
   "id": "9c6f3b30",
   "metadata": {},
   "outputs": [
    {
     "data": {
      "text/plain": [
       "   Min. 1st Qu.  Median    Mean 3rd Qu.    Max. \n",
       "  9.105  13.122  13.816  13.894  14.509  19.065 "
      ]
     },
     "metadata": {},
     "output_type": "display_data"
    }
   ],
   "source": [
    "#Log transformation of the Value\n",
    "zero_rm_data$Value_log <- log(zero_rm_data$Value)\n",
    "summary(zero_rm_data$Value_log)"
   ]
  },
  {
   "cell_type": "code",
   "execution_count": 108,
   "id": "4708db17",
   "metadata": {},
   "outputs": [
    {
     "data": {
      "image/png": "[encoded data removed]",
      "text/plain": [
       "plot without title"
      ]
     },
     "metadata": {
      "image/png": {
       "height": 300,
       "width": 600
      }
     },
     "output_type": "display_data"
    },
    {
     "data": {
      "image/png": "[encoded data removed]",
      "text/plain": [
       "plot without title"
      ]
     },
     "metadata": {
      "image/png": {
       "height": 300,
       "width": 600
      }
     },
     "output_type": "display_data"
    }
   ],
   "source": [
    "#Create the histogram\n",
    "histogram <- ggplot(zero_rm_data, aes(x = Value_log)) + \n",
    "  geom_histogram(binwidth = 0.5, color = \"black\", fill = \"lightblue\") +\n",
    "  \n",
    "  # Add axis labels and adjust tick marks\n",
    "  labs(x = \"Value_log\", y = \"Count\", title = \"Distribution of Value_log\") +\n",
    "  scale_x_continuous(breaks = seq(8, 20, by = 1)) + \n",
    "\n",
    "  # Adjust the size of the plot and labels\n",
    "  theme(plot.title = element_text(size = 20, face = \"bold\", hjust = 0.5),\n",
    "        axis.title = element_text(size = 18),\n",
    "        axis.text = element_text(size = 18)) \n",
    "\n",
    "# Create the boxplot\n",
    "boxplot <- ggplot(zero_rm_data, aes(x = \"\", y = Value_log)) +\n",
    "  geom_boxplot(color = \"black\", fill = \"lightgreen\") +\n",
    "\n",
    "  # Add axis labels and adjust tick marks\n",
    "  labs(x = \"\", y = \"Value_log\", title = \"Boxplot of Value\") +\n",
    "  scale_y_continuous(breaks = seq(8, 20, by = 1)) +\n",
    "\n",
    "  # Adjust the size of the plot and labels\n",
    "  theme(plot.title = element_text(size = 20, face = \"bold\", hjust = 0.5),\n",
    "        axis.title = element_text(size = 18),\n",
    "        axis.text = element_text(size = 18)) +\n",
    "  coord_flip() \n",
    "\n",
    "plot(histogram)\n",
    "#plot(boxplot)"
   ]
  },
  {
   "cell_type": "code",
   "execution_count": 109,
   "id": "7320ff2d",
   "metadata": {},
   "outputs": [
    {
     "data": {
      "image/png": "[encoded data removed]",
      "text/plain": [
       "plot without title"
      ]
     },
     "metadata": {
      "image/png": {
       "height": 300,
       "width": 600
      }
     },
     "output_type": "display_data"
    }
   ],
   "source": [
    "#Create the barplot\n",
    "ggplot(data, aes(x = Nationality)) +\n",
    "  geom_bar(fill = \"steelblue\") +\n",
    "  ggtitle(\"Count of Players by Nationality\")"
   ]
  },
  {
   "cell_type": "code",
   "execution_count": 110,
   "id": "d2a18644",
   "metadata": {},
   "outputs": [
    {
     "name": "stdout",
     "output_type": "stream",
     "text": [
      "[1] 160\n"
     ]
    }
   ],
   "source": [
    "#Count how many distinct categories\n",
    "distinct_count <- data %>% \n",
    "  distinct(Nationality) %>% \n",
    "  count()\n",
    "\n",
    "# Print the count\n",
    "print(distinct_count$n)"
   ]
  },
  {
   "cell_type": "code",
   "execution_count": 123,
   "id": "23a4684d",
   "metadata": {},
   "outputs": [],
   "source": [
    "library(treemap)\n",
    "library(treemapify)"
   ]
  },
  {
   "cell_type": "code",
   "execution_count": 136,
   "id": "531191ab",
   "metadata": {},
   "outputs": [
    {
     "data": {
      "image/png": "[encoded data removed]",
      "text/plain": [
       "plot without title"
      ]
     },
     "metadata": {
      "image/png": {
       "height": 480,
       "width": 600
      }
     },
     "output_type": "display_data"
    }
   ],
   "source": [
    "options(repr.plot.width=10, repr.plot.height=8) \n",
    "\n",
    "nationality_counts <- data.frame(table(data$Nationality))\n",
    "colnames(nationality_counts) <- c(\"Nationality\", \"Count\")\n",
    "# Create the treemap\n",
    "treemap(nationality_counts, index = \"Nationality\", vSize = \"Count\",\n",
    "        title = \"Nationality Distribution\", fontsize.labels = 10,\n",
    "        add.percent = TRUE,\n",
    "        fontsize.percent = 12,\n",
    "        palette = \"GnBu\")"
   ]
  },
  {
   "cell_type": "code",
   "execution_count": 36,
   "id": "4c66bf45",
   "metadata": {},
   "outputs": [
    {
     "data": {
      "text/html": [
       "<style>\n",
       ".list-inline {list-style: none; margin:0; padding: 0}\n",
       ".list-inline>li {display: inline-block}\n",
       ".list-inline>li:not(:last-child)::after {content: \"\\00b7\"; padding: 0 .5ex}\n",
       "</style>\n",
       "<ol class=list-inline><li>'Age'</li><li>'Overall'</li><li>'Value'</li><li>'Value_log'</li></ol>\n"
      ],
      "text/latex": [
       "\\begin{enumerate*}\n",
       "\\item 'Age'\n",
       "\\item 'Overall'\n",
       "\\item 'Value'\n",
       "\\item 'Value\\_log'\n",
       "\\end{enumerate*}\n"
      ],
      "text/markdown": [
       "1. 'Age'\n",
       "2. 'Overall'\n",
       "3. 'Value'\n",
       "4. 'Value_log'\n",
       "\n",
       "\n"
      ],
      "text/plain": [
       "[1] \"Age\"       \"Overall\"   \"Value\"     \"Value_log\""
      ]
     },
     "metadata": {},
     "output_type": "display_data"
    }
   ],
   "source": [
    "#Select numerical column\n",
    "num_cols <- select_if(zero_rm_data, is.numeric)\n",
    "colnames(num_cols)"
   ]
  },
  {
   "cell_type": "code",
   "execution_count": 78,
   "id": "3a444237",
   "metadata": {},
   "outputs": [
    {
     "data": {
      "image/png": "[encoded data removed]",
      "text/plain": [
       "plot without title"
      ]
     },
     "metadata": {
      "image/png": {
       "height": 420,
       "width": 420
      }
     },
     "output_type": "display_data"
    }
   ],
   "source": [
    "#Correlation of each numerical values\n",
    "corr_mat <- cor(num_cols)\n",
    "melted_corr_mat <- melt(corr_mat)\n",
    "\n",
    "# Create the heatmap\n",
    "heatmap <- ggplot(data = melted_corr_mat, aes(x = Var1, y = Var2, fill = value)) +\n",
    "  geom_tile() +\n",
    "  geom_text(aes(label = round(value, 3))) +\n",
    "  scale_fill_gradient2(low = \"#0066CC\", mid = \"white\", high = \"#EB1313\", midpoint = 0) +\n",
    "  labs(title = \"Correlation heatmap with numerical values\") +\n",
    "  theme(plot.title = element_text(size = 20, face = \"bold\", hjust = 0.5),\n",
    "        axis.title = element_text(size = 16),\n",
    "        axis.text = element_text(size = 16))\n",
    "\n",
    "plot(heatmap)"
   ]
  },
  {
   "cell_type": "markdown",
   "id": "cb3b2e85",
   "metadata": {},
   "source": [
    "Among the numerical values, there are a few interesting observations from this tabulation:\n",
    "• Overall and Value_log are quite highly correlated (r = 0.887)\n",
    "• Age and Overall are positively correlated (r = 0.441)\n",
    "• Age and Value_log has almost no correlation (r = 0.016)"
   ]
  },
  {
   "cell_type": "code",
   "execution_count": 83,
   "id": "444b5a7e",
   "metadata": {},
   "outputs": [
    {
     "data": {
      "image/png": "[encoded data removed]",
      "text/plain": [
       "plot without title"
      ]
     },
     "metadata": {
      "image/png": {
       "height": 420,
       "width": 420
      }
     },
     "output_type": "display_data"
    }
   ],
   "source": [
    "# Create a scatterplot with linear regression line \n",
    "ggplot(num_cols, aes(x = Overall, y = Value_log)) +\n",
    "  geom_point() +\n",
    "  geom_smooth(method = \"lm\", formula = y ~ x) +\n",
    "  labs(title = \"Linear Regression\", x = \"Overall\", y = \"Value_log\")"
   ]
  },
  {
   "cell_type": "code",
   "execution_count": 81,
   "id": "56a8566f",
   "metadata": {},
   "outputs": [
    {
     "data": {
      "text/plain": [
       "\n",
       "Call:\n",
       "lm(formula = Value_log ~ Overall, data = num_cols)\n",
       "\n",
       "Residuals:\n",
       "     Min       1Q   Median       3Q      Max \n",
       "-2.82839 -0.29768  0.06221  0.42362  1.58992 \n",
       "\n",
       "Coefficients:\n",
       "             Estimate Std. Error t value Pr(>|t|)    \n",
       "(Intercept) 3.2970230  0.0409452   80.52   <2e-16 ***\n",
       "Overall     0.1609666  0.0006187  260.17   <2e-16 ***\n",
       "---\n",
       "Signif. codes:  0 '***' 0.001 '**' 0.01 '*' 0.05 '.' 0.1 ' ' 1\n",
       "\n",
       "Residual standard error: 0.5701 on 18433 degrees of freedom\n",
       "Multiple R-squared:  0.786,\tAdjusted R-squared:  0.786 \n",
       "F-statistic: 6.769e+04 on 1 and 18433 DF,  p-value: < 2.2e-16\n"
      ]
     },
     "metadata": {},
     "output_type": "display_data"
    }
   ],
   "source": [
    "# Fit a linear regression model\n",
    "lm_model <- lm(Value_log ~ Overall, data = num_cols)\n",
    "# Summarize the model output\n",
    "summary(lm_model)"
   ]
  },
  {
   "cell_type": "markdown",
   "id": "d4042dfb",
   "metadata": {},
   "source": [
    "The p-value of the coefficient of Overall is less than 0.001, which means that there is strong evidence to reject the null hypothesis that the coefficient is zero, indicating that there is a significant linear relationship between Overall and Value_log.\n",
    "\n",
    "The multiple R-squared value of the model is 0.786, which means that around 78.6% of the variation in Value_log is explained by the linear relationship with Overall.\n",
    "\n",
    "The residual standard error is 0.5701, which indicates the average distance between the observed Value_log and the predicted values of Value_log from the regression line.\n",
    "\n",
    "The F-statistic of the model is 6.769e+04 with 1 and 18433 degrees of freedom, which is very high and the p-value is less than 0.001, indicating that the model is highly significant in predicting the Value_log based on Overall."
   ]
  },
  {
   "cell_type": "code",
   "execution_count": 26,
   "id": "f9848562",
   "metadata": {},
   "outputs": [
    {
     "data": {
      "text/html": [
       "<style>\n",
       ".dl-inline {width: auto; margin:0; padding: 0}\n",
       ".dl-inline>dt, .dl-inline>dd {float: none; width: auto; display: inline-block}\n",
       ".dl-inline>dt::after {content: \":\\0020\"; padding-right: .5ex}\n",
       ".dl-inline>dt:not(:first-of-type) {padding-left: .5ex}\n",
       "</style><dl class=dl-inline><dt>Best.Position</dt><dd>'character'</dd><dt>Club.Jersey.Number</dt><dd>'character'</dd></dl>\n"
      ],
      "text/latex": [
       "\\begin{description*}\n",
       "\\item[Best.Position] 'character'\n",
       "\\item[Club.Jersey.Number] 'character'\n",
       "\\end{description*}\n"
      ],
      "text/markdown": [
       "Best.Position\n",
       ":   'character'Club.Jersey.Number\n",
       ":   'character'\n",
       "\n"
      ],
      "text/plain": [
       "     Best.Position Club.Jersey.Number \n",
       "       \"character\"        \"character\" "
      ]
     },
     "metadata": {},
     "output_type": "display_data"
    },
    {
     "data": {
      "text/html": [
       "<style>\n",
       ".list-inline {list-style: none; margin:0; padding: 0}\n",
       ".list-inline>li {display: inline-block}\n",
       ".list-inline>li:not(:last-child)::after {content: \"\\00b7\"; padding: 0 .5ex}\n",
       "</style>\n",
       "<ol class=list-inline><li>18539</li><li>2</li></ol>\n"
      ],
      "text/latex": [
       "\\begin{enumerate*}\n",
       "\\item 18539\n",
       "\\item 2\n",
       "\\end{enumerate*}\n"
      ],
      "text/markdown": [
       "1. 18539\n",
       "2. 2\n",
       "\n",
       "\n"
      ],
      "text/plain": [
       "[1] 18539     2"
      ]
     },
     "metadata": {},
     "output_type": "display_data"
    }
   ],
   "source": [
    "#Extract Best.Position and Club.Jersey.Number\n",
    "data_2 <- players[c('Best.Position', 'Club.Jersey.Number')]\n",
    "sapply(data_2, class)\n",
    "dim(data_2)"
   ]
  },
  {
   "cell_type": "code",
   "execution_count": 23,
   "id": "69797716",
   "metadata": {},
   "outputs": [
    {
     "data": {
      "text/html": [
       "<style>\n",
       ".dl-inline {width: auto; margin:0; padding: 0}\n",
       ".dl-inline>dt, .dl-inline>dd {float: none; width: auto; display: inline-block}\n",
       ".dl-inline>dt::after {content: \":\\0020\"; padding-right: .5ex}\n",
       ".dl-inline>dt:not(:first-of-type) {padding-left: .5ex}\n",
       "</style><dl class=dl-inline><dt>Best.Position</dt><dd>'factor'</dd><dt>Club.Jersey.Number</dt><dd>'factor'</dd></dl>\n"
      ],
      "text/latex": [
       "\\begin{description*}\n",
       "\\item[Best.Position] 'factor'\n",
       "\\item[Club.Jersey.Number] 'factor'\n",
       "\\end{description*}\n"
      ],
      "text/markdown": [
       "Best.Position\n",
       ":   'factor'Club.Jersey.Number\n",
       ":   'factor'\n",
       "\n"
      ],
      "text/plain": [
       "     Best.Position Club.Jersey.Number \n",
       "          \"factor\"           \"factor\" "
      ]
     },
     "metadata": {},
     "output_type": "display_data"
    },
    {
     "data": {
      "text/html": [
       "<dl>\n",
       "\t<dt>$Best.Position</dt>\n",
       "\t\t<dd><style>\n",
       ".list-inline {list-style: none; margin:0; padding: 0}\n",
       ".list-inline>li {display: inline-block}\n",
       ".list-inline>li:not(:last-child)::after {content: \"\\00b7\"; padding: 0 .5ex}\n",
       "</style>\n",
       "<ol class=list-inline><li>'CAM'</li><li>'CB'</li><li>'CDM'</li><li>'CF'</li><li>'CM'</li><li>'GK'</li><li>'LB'</li><li>'LM'</li><li>'LW'</li><li>'LWB'</li><li>'RB'</li><li>'RM'</li><li>'RW'</li><li>'RWB'</li><li>'ST'</li></ol>\n",
       "</dd>\n",
       "\t<dt>$Club.Jersey.Number</dt>\n",
       "\t\t<dd><style>\n",
       ".list-inline {list-style: none; margin:0; padding: 0}\n",
       ".list-inline>li {display: inline-block}\n",
       ".list-inline>li:not(:last-child)::after {content: \"\\00b7\"; padding: 0 .5ex}\n",
       "</style>\n",
       "<ol class=list-inline><li>'-'</li><li>'1'</li><li>'10'</li><li>'11'</li><li>'12'</li><li>'13'</li><li>'14'</li><li>'15'</li><li>'16'</li><li>'17'</li><li>'18'</li><li>'19'</li><li>'2'</li><li>'20'</li><li>'21'</li><li>'22'</li><li>'23'</li><li>'24'</li><li>'25'</li><li>'26'</li><li>'27'</li><li>'28'</li><li>'29'</li><li>'3'</li><li>'30'</li><li>'31'</li><li>'32'</li><li>'33'</li><li>'34'</li><li>'35'</li><li>'36'</li><li>'37'</li><li>'38'</li><li>'39'</li><li>'4'</li><li>'40'</li><li>'41'</li><li>'42'</li><li>'43'</li><li>'44'</li><li>'45'</li><li>'46'</li><li>'47'</li><li>'48'</li><li>'49'</li><li>'5'</li><li>'50'</li><li>'51'</li><li>'52'</li><li>'53'</li><li>'54'</li><li>'55'</li><li>'56'</li><li>'57'</li><li>'58'</li><li>'59'</li><li>'6'</li><li>'60'</li><li>'61'</li><li>'62'</li><li>'63'</li><li>'64'</li><li>'65'</li><li>'66'</li><li>'67'</li><li>'68'</li><li>'69'</li><li>'7'</li><li>'70'</li><li>'71'</li><li>'72'</li><li>'73'</li><li>'74'</li><li>'75'</li><li>'76'</li><li>'77'</li><li>'78'</li><li>'79'</li><li>'8'</li><li>'80'</li><li>'81'</li><li>'82'</li><li>'83'</li><li>'84'</li><li>'85'</li><li>'86'</li><li>'87'</li><li>'88'</li><li>'89'</li><li>'9'</li><li>'90'</li><li>'91'</li><li>'92'</li><li>'93'</li><li>'94'</li><li>'95'</li><li>'96'</li><li>'97'</li><li>'98'</li><li>'99'</li></ol>\n",
       "</dd>\n",
       "</dl>\n"
      ],
      "text/latex": [
       "\\begin{description}\n",
       "\\item[\\$Best.Position] \\begin{enumerate*}\n",
       "\\item 'CAM'\n",
       "\\item 'CB'\n",
       "\\item 'CDM'\n",
       "\\item 'CF'\n",
       "\\item 'CM'\n",
       "\\item 'GK'\n",
       "\\item 'LB'\n",
       "\\item 'LM'\n",
       "\\item 'LW'\n",
       "\\item 'LWB'\n",
       "\\item 'RB'\n",
       "\\item 'RM'\n",
       "\\item 'RW'\n",
       "\\item 'RWB'\n",
       "\\item 'ST'\n",
       "\\end{enumerate*}\n",
       "\n",
       "\\item[\\$Club.Jersey.Number] \\begin{enumerate*}\n",
       "\\item '-'\n",
       "\\item '1'\n",
       "\\item '10'\n",
       "\\item '11'\n",
       "\\item '12'\n",
       "\\item '13'\n",
       "\\item '14'\n",
       "\\item '15'\n",
       "\\item '16'\n",
       "\\item '17'\n",
       "\\item '18'\n",
       "\\item '19'\n",
       "\\item '2'\n",
       "\\item '20'\n",
       "\\item '21'\n",
       "\\item '22'\n",
       "\\item '23'\n",
       "\\item '24'\n",
       "\\item '25'\n",
       "\\item '26'\n",
       "\\item '27'\n",
       "\\item '28'\n",
       "\\item '29'\n",
       "\\item '3'\n",
       "\\item '30'\n",
       "\\item '31'\n",
       "\\item '32'\n",
       "\\item '33'\n",
       "\\item '34'\n",
       "\\item '35'\n",
       "\\item '36'\n",
       "\\item '37'\n",
       "\\item '38'\n",
       "\\item '39'\n",
       "\\item '4'\n",
       "\\item '40'\n",
       "\\item '41'\n",
       "\\item '42'\n",
       "\\item '43'\n",
       "\\item '44'\n",
       "\\item '45'\n",
       "\\item '46'\n",
       "\\item '47'\n",
       "\\item '48'\n",
       "\\item '49'\n",
       "\\item '5'\n",
       "\\item '50'\n",
       "\\item '51'\n",
       "\\item '52'\n",
       "\\item '53'\n",
       "\\item '54'\n",
       "\\item '55'\n",
       "\\item '56'\n",
       "\\item '57'\n",
       "\\item '58'\n",
       "\\item '59'\n",
       "\\item '6'\n",
       "\\item '60'\n",
       "\\item '61'\n",
       "\\item '62'\n",
       "\\item '63'\n",
       "\\item '64'\n",
       "\\item '65'\n",
       "\\item '66'\n",
       "\\item '67'\n",
       "\\item '68'\n",
       "\\item '69'\n",
       "\\item '7'\n",
       "\\item '70'\n",
       "\\item '71'\n",
       "\\item '72'\n",
       "\\item '73'\n",
       "\\item '74'\n",
       "\\item '75'\n",
       "\\item '76'\n",
       "\\item '77'\n",
       "\\item '78'\n",
       "\\item '79'\n",
       "\\item '8'\n",
       "\\item '80'\n",
       "\\item '81'\n",
       "\\item '82'\n",
       "\\item '83'\n",
       "\\item '84'\n",
       "\\item '85'\n",
       "\\item '86'\n",
       "\\item '87'\n",
       "\\item '88'\n",
       "\\item '89'\n",
       "\\item '9'\n",
       "\\item '90'\n",
       "\\item '91'\n",
       "\\item '92'\n",
       "\\item '93'\n",
       "\\item '94'\n",
       "\\item '95'\n",
       "\\item '96'\n",
       "\\item '97'\n",
       "\\item '98'\n",
       "\\item '99'\n",
       "\\end{enumerate*}\n",
       "\n",
       "\\end{description}\n"
      ],
      "text/markdown": [
       "$Best.Position\n",
       ":   1. 'CAM'\n",
       "2. 'CB'\n",
       "3. 'CDM'\n",
       "4. 'CF'\n",
       "5. 'CM'\n",
       "6. 'GK'\n",
       "7. 'LB'\n",
       "8. 'LM'\n",
       "9. 'LW'\n",
       "10. 'LWB'\n",
       "11. 'RB'\n",
       "12. 'RM'\n",
       "13. 'RW'\n",
       "14. 'RWB'\n",
       "15. 'ST'\n",
       "\n",
       "\n",
       "\n",
       "$Club.Jersey.Number\n",
       ":   1. '-'\n",
       "2. '1'\n",
       "3. '10'\n",
       "4. '11'\n",
       "5. '12'\n",
       "6. '13'\n",
       "7. '14'\n",
       "8. '15'\n",
       "9. '16'\n",
       "10. '17'\n",
       "11. '18'\n",
       "12. '19'\n",
       "13. '2'\n",
       "14. '20'\n",
       "15. '21'\n",
       "16. '22'\n",
       "17. '23'\n",
       "18. '24'\n",
       "19. '25'\n",
       "20. '26'\n",
       "21. '27'\n",
       "22. '28'\n",
       "23. '29'\n",
       "24. '3'\n",
       "25. '30'\n",
       "26. '31'\n",
       "27. '32'\n",
       "28. '33'\n",
       "29. '34'\n",
       "30. '35'\n",
       "31. '36'\n",
       "32. '37'\n",
       "33. '38'\n",
       "34. '39'\n",
       "35. '4'\n",
       "36. '40'\n",
       "37. '41'\n",
       "38. '42'\n",
       "39. '43'\n",
       "40. '44'\n",
       "41. '45'\n",
       "42. '46'\n",
       "43. '47'\n",
       "44. '48'\n",
       "45. '49'\n",
       "46. '5'\n",
       "47. '50'\n",
       "48. '51'\n",
       "49. '52'\n",
       "50. '53'\n",
       "51. '54'\n",
       "52. '55'\n",
       "53. '56'\n",
       "54. '57'\n",
       "55. '58'\n",
       "56. '59'\n",
       "57. '6'\n",
       "58. '60'\n",
       "59. '61'\n",
       "60. '62'\n",
       "61. '63'\n",
       "62. '64'\n",
       "63. '65'\n",
       "64. '66'\n",
       "65. '67'\n",
       "66. '68'\n",
       "67. '69'\n",
       "68. '7'\n",
       "69. '70'\n",
       "70. '71'\n",
       "71. '72'\n",
       "72. '73'\n",
       "73. '74'\n",
       "74. '75'\n",
       "75. '76'\n",
       "76. '77'\n",
       "77. '78'\n",
       "78. '79'\n",
       "79. '8'\n",
       "80. '80'\n",
       "81. '81'\n",
       "82. '82'\n",
       "83. '83'\n",
       "84. '84'\n",
       "85. '85'\n",
       "86. '86'\n",
       "87. '87'\n",
       "88. '88'\n",
       "89. '89'\n",
       "90. '9'\n",
       "91. '90'\n",
       "92. '91'\n",
       "93. '92'\n",
       "94. '93'\n",
       "95. '94'\n",
       "96. '95'\n",
       "97. '96'\n",
       "98. '97'\n",
       "99. '98'\n",
       "100. '99'\n",
       "\n",
       "\n",
       "\n",
       "\n",
       "\n"
      ],
      "text/plain": [
       "$Best.Position\n",
       " [1] \"CAM\" \"CB\"  \"CDM\" \"CF\"  \"CM\"  \"GK\"  \"LB\"  \"LM\"  \"LW\"  \"LWB\" \"RB\"  \"RM\" \n",
       "[13] \"RW\"  \"RWB\" \"ST\" \n",
       "\n",
       "$Club.Jersey.Number\n",
       "  [1] \"-\"  \"1\"  \"10\" \"11\" \"12\" \"13\" \"14\" \"15\" \"16\" \"17\" \"18\" \"19\" \"2\"  \"20\" \"21\"\n",
       " [16] \"22\" \"23\" \"24\" \"25\" \"26\" \"27\" \"28\" \"29\" \"3\"  \"30\" \"31\" \"32\" \"33\" \"34\" \"35\"\n",
       " [31] \"36\" \"37\" \"38\" \"39\" \"4\"  \"40\" \"41\" \"42\" \"43\" \"44\" \"45\" \"46\" \"47\" \"48\" \"49\"\n",
       " [46] \"5\"  \"50\" \"51\" \"52\" \"53\" \"54\" \"55\" \"56\" \"57\" \"58\" \"59\" \"6\"  \"60\" \"61\" \"62\"\n",
       " [61] \"63\" \"64\" \"65\" \"66\" \"67\" \"68\" \"69\" \"7\"  \"70\" \"71\" \"72\" \"73\" \"74\" \"75\" \"76\"\n",
       " [76] \"77\" \"78\" \"79\" \"8\"  \"80\" \"81\" \"82\" \"83\" \"84\" \"85\" \"86\" \"87\" \"88\" \"89\" \"9\" \n",
       " [91] \"90\" \"91\" \"92\" \"93\" \"94\" \"95\" \"96\" \"97\" \"98\" \"99\"\n"
      ]
     },
     "metadata": {},
     "output_type": "display_data"
    }
   ],
   "source": [
    "#Check the categories in each column\n",
    "data_2[] <- lapply(data_2, factor)\n",
    "sapply(data_2, class)\n",
    "sapply(data_2, levels)"
   ]
  },
  {
   "cell_type": "code",
   "execution_count": 27,
   "id": "12aa4c44",
   "metadata": {},
   "outputs": [
    {
     "name": "stderr",
     "output_type": "stream",
     "text": [
      "Warning message in eval(expr, envir, enclos):\n",
      "\"NAs introduced by coercion\"\n"
     ]
    },
    {
     "data": {
      "text/html": [
       "<style>\n",
       ".list-inline {list-style: none; margin:0; padding: 0}\n",
       ".list-inline>li {display: inline-block}\n",
       ".list-inline>li:not(:last-child)::after {content: \"\\00b7\"; padding: 0 .5ex}\n",
       "</style>\n",
       "<ol class=list-inline><li>6305</li><li>2</li></ol>\n"
      ],
      "text/latex": [
       "\\begin{enumerate*}\n",
       "\\item 6305\n",
       "\\item 2\n",
       "\\end{enumerate*}\n"
      ],
      "text/markdown": [
       "1. 6305\n",
       "2. 2\n",
       "\n",
       "\n"
      ],
      "text/plain": [
       "[1] 6305    2"
      ]
     },
     "metadata": {},
     "output_type": "display_data"
    }
   ],
   "source": [
    "#Filter by Club.Jersey.Number which is between 1 and 11\n",
    "data_2$Club.Jersey.Number <- as.numeric(data_2$Club.Jersey.Number)\n",
    "data_filtered <- filter(data_2, Club.Jersey.Number >= 1 & Club.Jersey.Number <= 11)\n",
    "dim(data_filtered)"
   ]
  },
  {
   "cell_type": "code",
   "execution_count": 28,
   "id": "9f602f3e",
   "metadata": {},
   "outputs": [
    {
     "data": {
      "text/html": [
       "<dl>\n",
       "\t<dt>$Best.Position</dt>\n",
       "\t\t<dd><style>\n",
       ".list-inline {list-style: none; margin:0; padding: 0}\n",
       ".list-inline>li {display: inline-block}\n",
       ".list-inline>li:not(:last-child)::after {content: \"\\00b7\"; padding: 0 .5ex}\n",
       "</style>\n",
       "<ol class=list-inline><li>'CAM'</li><li>'CB'</li><li>'CDM'</li><li>'CF'</li><li>'CM'</li><li>'GK'</li><li>'LB'</li><li>'LM'</li><li>'LW'</li><li>'LWB'</li><li>'RB'</li><li>'RM'</li><li>'RW'</li><li>'RWB'</li><li>'ST'</li></ol>\n",
       "</dd>\n",
       "\t<dt>$Club.Jersey.Number</dt>\n",
       "\t\t<dd><style>\n",
       ".list-inline {list-style: none; margin:0; padding: 0}\n",
       ".list-inline>li {display: inline-block}\n",
       ".list-inline>li:not(:last-child)::after {content: \"\\00b7\"; padding: 0 .5ex}\n",
       "</style>\n",
       "<ol class=list-inline><li>'1'</li><li>'2'</li><li>'3'</li><li>'4'</li><li>'5'</li><li>'6'</li><li>'7'</li><li>'8'</li><li>'9'</li><li>'10'</li><li>'11'</li></ol>\n",
       "</dd>\n",
       "</dl>\n"
      ],
      "text/latex": [
       "\\begin{description}\n",
       "\\item[\\$Best.Position] \\begin{enumerate*}\n",
       "\\item 'CAM'\n",
       "\\item 'CB'\n",
       "\\item 'CDM'\n",
       "\\item 'CF'\n",
       "\\item 'CM'\n",
       "\\item 'GK'\n",
       "\\item 'LB'\n",
       "\\item 'LM'\n",
       "\\item 'LW'\n",
       "\\item 'LWB'\n",
       "\\item 'RB'\n",
       "\\item 'RM'\n",
       "\\item 'RW'\n",
       "\\item 'RWB'\n",
       "\\item 'ST'\n",
       "\\end{enumerate*}\n",
       "\n",
       "\\item[\\$Club.Jersey.Number] \\begin{enumerate*}\n",
       "\\item '1'\n",
       "\\item '2'\n",
       "\\item '3'\n",
       "\\item '4'\n",
       "\\item '5'\n",
       "\\item '6'\n",
       "\\item '7'\n",
       "\\item '8'\n",
       "\\item '9'\n",
       "\\item '10'\n",
       "\\item '11'\n",
       "\\end{enumerate*}\n",
       "\n",
       "\\end{description}\n"
      ],
      "text/markdown": [
       "$Best.Position\n",
       ":   1. 'CAM'\n",
       "2. 'CB'\n",
       "3. 'CDM'\n",
       "4. 'CF'\n",
       "5. 'CM'\n",
       "6. 'GK'\n",
       "7. 'LB'\n",
       "8. 'LM'\n",
       "9. 'LW'\n",
       "10. 'LWB'\n",
       "11. 'RB'\n",
       "12. 'RM'\n",
       "13. 'RW'\n",
       "14. 'RWB'\n",
       "15. 'ST'\n",
       "\n",
       "\n",
       "\n",
       "$Club.Jersey.Number\n",
       ":   1. '1'\n",
       "2. '2'\n",
       "3. '3'\n",
       "4. '4'\n",
       "5. '5'\n",
       "6. '6'\n",
       "7. '7'\n",
       "8. '8'\n",
       "9. '9'\n",
       "10. '10'\n",
       "11. '11'\n",
       "\n",
       "\n",
       "\n",
       "\n",
       "\n"
      ],
      "text/plain": [
       "$Best.Position\n",
       " [1] \"CAM\" \"CB\"  \"CDM\" \"CF\"  \"CM\"  \"GK\"  \"LB\"  \"LM\"  \"LW\"  \"LWB\" \"RB\"  \"RM\" \n",
       "[13] \"RW\"  \"RWB\" \"ST\" \n",
       "\n",
       "$Club.Jersey.Number\n",
       " [1] \"1\"  \"2\"  \"3\"  \"4\"  \"5\"  \"6\"  \"7\"  \"8\"  \"9\"  \"10\" \"11\"\n"
      ]
     },
     "metadata": {},
     "output_type": "display_data"
    }
   ],
   "source": [
    "#Check the categories in each column\n",
    "data_filtered[] <- lapply(data_filtered, factor)\n",
    "sapply(data_filtered, levels)"
   ]
  },
  {
   "cell_type": "code",
   "execution_count": 29,
   "id": "be39a352",
   "metadata": {},
   "outputs": [
    {
     "data": {
      "text/html": [
       "<dl>\n",
       "\t<dt>$Best.Position</dt>\n",
       "\t\t<dd><style>\n",
       ".list-inline {list-style: none; margin:0; padding: 0}\n",
       ".list-inline>li {display: inline-block}\n",
       ".list-inline>li:not(:last-child)::after {content: \"\\00b7\"; padding: 0 .5ex}\n",
       "</style>\n",
       "<ol class=list-inline><li>'CAM'</li><li>'CB'</li><li>'CDM'</li><li>'CF'</li><li>'CM'</li><li>'GK'</li><li>'LB'</li><li>'LM'</li><li>'LW'</li><li>'LWB'</li><li>'RB'</li><li>'RM'</li><li>'RW'</li><li>'RWB'</li><li>'ST'</li></ol>\n",
       "</dd>\n",
       "\t<dt>$Club.Jersey.Number</dt>\n",
       "\t\t<dd><style>\n",
       ".list-inline {list-style: none; margin:0; padding: 0}\n",
       ".list-inline>li {display: inline-block}\n",
       ".list-inline>li:not(:last-child)::after {content: \"\\00b7\"; padding: 0 .5ex}\n",
       "</style>\n",
       "<ol class=list-inline><li>'1'</li><li>'2'</li><li>'3'</li><li>'4'</li><li>'5'</li><li>'6'</li><li>'7'</li><li>'8'</li><li>'9'</li><li>'10'</li><li>'11'</li></ol>\n",
       "</dd>\n",
       "\t<dt>$Position.Group</dt>\n",
       "\t\t<dd><style>\n",
       ".list-inline {list-style: none; margin:0; padding: 0}\n",
       ".list-inline>li {display: inline-block}\n",
       ".list-inline>li:not(:last-child)::after {content: \"\\00b7\"; padding: 0 .5ex}\n",
       "</style>\n",
       "<ol class=list-inline><li>'Atk'</li><li>'Def'</li><li>'Gk'</li><li>'Mid'</li></ol>\n",
       "</dd>\n",
       "</dl>\n"
      ],
      "text/latex": [
       "\\begin{description}\n",
       "\\item[\\$Best.Position] \\begin{enumerate*}\n",
       "\\item 'CAM'\n",
       "\\item 'CB'\n",
       "\\item 'CDM'\n",
       "\\item 'CF'\n",
       "\\item 'CM'\n",
       "\\item 'GK'\n",
       "\\item 'LB'\n",
       "\\item 'LM'\n",
       "\\item 'LW'\n",
       "\\item 'LWB'\n",
       "\\item 'RB'\n",
       "\\item 'RM'\n",
       "\\item 'RW'\n",
       "\\item 'RWB'\n",
       "\\item 'ST'\n",
       "\\end{enumerate*}\n",
       "\n",
       "\\item[\\$Club.Jersey.Number] \\begin{enumerate*}\n",
       "\\item '1'\n",
       "\\item '2'\n",
       "\\item '3'\n",
       "\\item '4'\n",
       "\\item '5'\n",
       "\\item '6'\n",
       "\\item '7'\n",
       "\\item '8'\n",
       "\\item '9'\n",
       "\\item '10'\n",
       "\\item '11'\n",
       "\\end{enumerate*}\n",
       "\n",
       "\\item[\\$Position.Group] \\begin{enumerate*}\n",
       "\\item 'Atk'\n",
       "\\item 'Def'\n",
       "\\item 'Gk'\n",
       "\\item 'Mid'\n",
       "\\end{enumerate*}\n",
       "\n",
       "\\end{description}\n"
      ],
      "text/markdown": [
       "$Best.Position\n",
       ":   1. 'CAM'\n",
       "2. 'CB'\n",
       "3. 'CDM'\n",
       "4. 'CF'\n",
       "5. 'CM'\n",
       "6. 'GK'\n",
       "7. 'LB'\n",
       "8. 'LM'\n",
       "9. 'LW'\n",
       "10. 'LWB'\n",
       "11. 'RB'\n",
       "12. 'RM'\n",
       "13. 'RW'\n",
       "14. 'RWB'\n",
       "15. 'ST'\n",
       "\n",
       "\n",
       "\n",
       "$Club.Jersey.Number\n",
       ":   1. '1'\n",
       "2. '2'\n",
       "3. '3'\n",
       "4. '4'\n",
       "5. '5'\n",
       "6. '6'\n",
       "7. '7'\n",
       "8. '8'\n",
       "9. '9'\n",
       "10. '10'\n",
       "11. '11'\n",
       "\n",
       "\n",
       "\n",
       "$Position.Group\n",
       ":   1. 'Atk'\n",
       "2. 'Def'\n",
       "3. 'Gk'\n",
       "4. 'Mid'\n",
       "\n",
       "\n",
       "\n",
       "\n",
       "\n"
      ],
      "text/plain": [
       "$Best.Position\n",
       " [1] \"CAM\" \"CB\"  \"CDM\" \"CF\"  \"CM\"  \"GK\"  \"LB\"  \"LM\"  \"LW\"  \"LWB\" \"RB\"  \"RM\" \n",
       "[13] \"RW\"  \"RWB\" \"ST\" \n",
       "\n",
       "$Club.Jersey.Number\n",
       " [1] \"1\"  \"2\"  \"3\"  \"4\"  \"5\"  \"6\"  \"7\"  \"8\"  \"9\"  \"10\" \"11\"\n",
       "\n",
       "$Position.Group\n",
       "[1] \"Atk\" \"Def\" \"Gk\"  \"Mid\"\n"
      ]
     },
     "metadata": {},
     "output_type": "display_data"
    },
    {
     "data": {
      "text/html": [
       "<table class=\"dataframe\">\n",
       "<caption>A data.frame: 20 × 3</caption>\n",
       "<thead>\n",
       "\t<tr><th></th><th scope=col>Best.Position</th><th scope=col>Club.Jersey.Number</th><th scope=col>Position.Group</th></tr>\n",
       "\t<tr><th></th><th scope=col>&lt;fct&gt;</th><th scope=col>&lt;fct&gt;</th><th scope=col>&lt;fct&gt;</th></tr>\n",
       "</thead>\n",
       "<tbody>\n",
       "\t<tr><th scope=row>1</th><td>CF </td><td>9 </td><td>Atk</td></tr>\n",
       "\t<tr><th scope=row>2</th><td>ST </td><td>9 </td><td>Atk</td></tr>\n",
       "\t<tr><th scope=row>3</th><td>ST </td><td>7 </td><td>Atk</td></tr>\n",
       "\t<tr><th scope=row>4</th><td>RW </td><td>11</td><td>Atk</td></tr>\n",
       "\t<tr><th scope=row>5</th><td>GK </td><td>1 </td><td>Gk </td></tr>\n",
       "\t<tr><th scope=row>6</th><td>GK </td><td>1 </td><td>Gk </td></tr>\n",
       "\t<tr><th scope=row>7</th><td>ST </td><td>7 </td><td>Atk</td></tr>\n",
       "\t<tr><th scope=row>8</th><td>CB </td><td>4 </td><td>Def</td></tr>\n",
       "\t<tr><th scope=row>9</th><td>ST </td><td>10</td><td>Atk</td></tr>\n",
       "\t<tr><th scope=row>10</th><td>LW </td><td>10</td><td>Atk</td></tr>\n",
       "\t<tr><th scope=row>11</th><td>LW </td><td>7 </td><td>Atk</td></tr>\n",
       "\t<tr><th scope=row>12</th><td>CDM</td><td>6 </td><td>Mid</td></tr>\n",
       "\t<tr><th scope=row>13</th><td>GK </td><td>1 </td><td>Gk </td></tr>\n",
       "\t<tr><th scope=row>14</th><td>CDM</td><td>7 </td><td>Mid</td></tr>\n",
       "\t<tr><th scope=row>15</th><td>CB </td><td>3 </td><td>Def</td></tr>\n",
       "\t<tr><th scope=row>16</th><td>ST </td><td>9 </td><td>Atk</td></tr>\n",
       "\t<tr><th scope=row>17</th><td>LB </td><td>7 </td><td>Def</td></tr>\n",
       "\t<tr><th scope=row>18</th><td>CB </td><td>5 </td><td>Def</td></tr>\n",
       "\t<tr><th scope=row>19</th><td>GK </td><td>1 </td><td>Gk </td></tr>\n",
       "\t<tr><th scope=row>20</th><td>GK </td><td>1 </td><td>Gk </td></tr>\n",
       "</tbody>\n",
       "</table>\n"
      ],
      "text/latex": [
       "A data.frame: 20 × 3\n",
       "\\begin{tabular}{r|lll}\n",
       "  & Best.Position & Club.Jersey.Number & Position.Group\\\\\n",
       "  & <fct> & <fct> & <fct>\\\\\n",
       "\\hline\n",
       "\t1 & CF  & 9  & Atk\\\\\n",
       "\t2 & ST  & 9  & Atk\\\\\n",
       "\t3 & ST  & 7  & Atk\\\\\n",
       "\t4 & RW  & 11 & Atk\\\\\n",
       "\t5 & GK  & 1  & Gk \\\\\n",
       "\t6 & GK  & 1  & Gk \\\\\n",
       "\t7 & ST  & 7  & Atk\\\\\n",
       "\t8 & CB  & 4  & Def\\\\\n",
       "\t9 & ST  & 10 & Atk\\\\\n",
       "\t10 & LW  & 10 & Atk\\\\\n",
       "\t11 & LW  & 7  & Atk\\\\\n",
       "\t12 & CDM & 6  & Mid\\\\\n",
       "\t13 & GK  & 1  & Gk \\\\\n",
       "\t14 & CDM & 7  & Mid\\\\\n",
       "\t15 & CB  & 3  & Def\\\\\n",
       "\t16 & ST  & 9  & Atk\\\\\n",
       "\t17 & LB  & 7  & Def\\\\\n",
       "\t18 & CB  & 5  & Def\\\\\n",
       "\t19 & GK  & 1  & Gk \\\\\n",
       "\t20 & GK  & 1  & Gk \\\\\n",
       "\\end{tabular}\n"
      ],
      "text/markdown": [
       "\n",
       "A data.frame: 20 × 3\n",
       "\n",
       "| <!--/--> | Best.Position &lt;fct&gt; | Club.Jersey.Number &lt;fct&gt; | Position.Group &lt;fct&gt; |\n",
       "|---|---|---|---|\n",
       "| 1 | CF  | 9  | Atk |\n",
       "| 2 | ST  | 9  | Atk |\n",
       "| 3 | ST  | 7  | Atk |\n",
       "| 4 | RW  | 11 | Atk |\n",
       "| 5 | GK  | 1  | Gk  |\n",
       "| 6 | GK  | 1  | Gk  |\n",
       "| 7 | ST  | 7  | Atk |\n",
       "| 8 | CB  | 4  | Def |\n",
       "| 9 | ST  | 10 | Atk |\n",
       "| 10 | LW  | 10 | Atk |\n",
       "| 11 | LW  | 7  | Atk |\n",
       "| 12 | CDM | 6  | Mid |\n",
       "| 13 | GK  | 1  | Gk  |\n",
       "| 14 | CDM | 7  | Mid |\n",
       "| 15 | CB  | 3  | Def |\n",
       "| 16 | ST  | 9  | Atk |\n",
       "| 17 | LB  | 7  | Def |\n",
       "| 18 | CB  | 5  | Def |\n",
       "| 19 | GK  | 1  | Gk  |\n",
       "| 20 | GK  | 1  | Gk  |\n",
       "\n"
      ],
      "text/plain": [
       "   Best.Position Club.Jersey.Number Position.Group\n",
       "1  CF            9                  Atk           \n",
       "2  ST            9                  Atk           \n",
       "3  ST            7                  Atk           \n",
       "4  RW            11                 Atk           \n",
       "5  GK            1                  Gk            \n",
       "6  GK            1                  Gk            \n",
       "7  ST            7                  Atk           \n",
       "8  CB            4                  Def           \n",
       "9  ST            10                 Atk           \n",
       "10 LW            10                 Atk           \n",
       "11 LW            7                  Atk           \n",
       "12 CDM           6                  Mid           \n",
       "13 GK            1                  Gk            \n",
       "14 CDM           7                  Mid           \n",
       "15 CB            3                  Def           \n",
       "16 ST            9                  Atk           \n",
       "17 LB            7                  Def           \n",
       "18 CB            5                  Def           \n",
       "19 GK            1                  Gk            \n",
       "20 GK            1                  Gk            "
      ]
     },
     "metadata": {},
     "output_type": "display_data"
    }
   ],
   "source": [
    "#Create another column which groups Best.Position\n",
    "data_filtered <- data_filtered %>%\n",
    "  mutate(Position.Group = case_when(\n",
    "    Best.Position == 'GK' ~ 'Gk',\n",
    "    Best.Position %in% c('CB', 'LB', 'RB', 'LWB', 'RWB') ~ 'Def',\n",
    "    Best.Position %in% c('CDM', 'CAM', 'LM', 'RM', 'CM') ~ 'Mid',\n",
    "    Best.Position %in% c('LW', 'RW', 'ST', 'CF') ~ 'Atk',\n",
    "  ))\n",
    "data_filtered[] <- lapply(data_filtered, factor)\n",
    "sapply(data_filtered, levels)\n",
    "head(data_filtered, 20)"
   ]
  },
  {
   "cell_type": "code",
   "execution_count": 30,
   "id": "ad738e63",
   "metadata": {},
   "outputs": [
    {
     "name": "stdout",
     "output_type": "stream",
     "text": [
      "'data.frame':\t6305 obs. of  2 variables:\n",
      " $ Club.Jersey.Number: Factor w/ 11 levels \"1\",\"2\",\"3\",\"4\",..: 9 9 7 11 1 1 7 4 10 10 ...\n",
      " $ Position.Group    : Factor w/ 4 levels \"Atk\",\"Def\",\"Gk\",..: 1 1 1 1 3 3 1 2 1 1 ...\n"
     ]
    }
   ],
   "source": [
    "#Drop Club.Jersey.Number\n",
    "data_filtered <- subset(data_filtered, select = -c(Best.Position))\n",
    "str(data_filtered)"
   ]
  },
  {
   "cell_type": "code",
   "execution_count": 31,
   "id": "895e48d2",
   "metadata": {},
   "outputs": [
    {
     "data": {
      "text/plain": [
       "    \n",
       "     Atk Def  Gk Mid\n",
       "  1    0   0 577   0\n",
       "  2    8 457   1  43\n",
       "  3    3 500   0  30\n",
       "  4    3 469   0 114\n",
       "  5    6 436   0 128\n",
       "  6    3 288   0 295\n",
       "  7  157  45   0 397\n",
       "  8   34  51   0 515\n",
       "  9  508   0   0  65\n",
       "  10 162  11   0 406\n",
       "  11 246  37   0 310"
      ]
     },
     "metadata": {},
     "output_type": "display_data"
    }
   ],
   "source": [
    "#Convert the data into a table\n",
    "data_table <- table(data_filtered$Club.Jersey.Number, data_filtered$Position.Group)\n",
    "data_table"
   ]
  },
  {
   "cell_type": "markdown",
   "id": "024c0188",
   "metadata": {},
   "source": [
    "In order to determine whether the association between Club.Jersey.Number and Position.Group is statistically significant, we perform the **chi-square test**.\n",
    "Step 1: Formula the hypotheses <br>\n",
    "H0: There is no difference in the distribution of jersey number and the best position. <br>\n",
    "H1: There is significant difference in the distribution of jersey number and the best position."
   ]
  },
  {
   "cell_type": "markdown",
   "id": "5a433840",
   "metadata": {},
   "source": [
    "Step 2: Convert the table into a two-way contingency table."
   ]
  },
  {
   "cell_type": "code",
   "execution_count": 32,
   "id": "a7a3c853",
   "metadata": {
    "collapsed": true
   },
   "outputs": [
    {
     "data": {
      "text/html": [
       "<style>\n",
       ".dl-inline {width: auto; margin:0; padding: 0}\n",
       ".dl-inline>dt, .dl-inline>dd {float: none; width: auto; display: inline-block}\n",
       ".dl-inline>dt::after {content: \":\\0020\"; padding-right: .5ex}\n",
       ".dl-inline>dt:not(:first-of-type) {padding-left: .5ex}\n",
       "</style><dl class=dl-inline><dt>1</dt><dd>577</dd><dt>2</dt><dd>509</dd><dt>3</dt><dd>533</dd><dt>4</dt><dd>586</dd><dt>5</dt><dd>570</dd><dt>6</dt><dd>586</dd><dt>7</dt><dd>599</dd><dt>8</dt><dd>600</dd><dt>9</dt><dd>573</dd><dt>10</dt><dd>579</dd><dt>11</dt><dd>593</dd></dl>\n"
      ],
      "text/latex": [
       "\\begin{description*}\n",
       "\\item[1] 577\n",
       "\\item[2] 509\n",
       "\\item[3] 533\n",
       "\\item[4] 586\n",
       "\\item[5] 570\n",
       "\\item[6] 586\n",
       "\\item[7] 599\n",
       "\\item[8] 600\n",
       "\\item[9] 573\n",
       "\\item[10] 579\n",
       "\\item[11] 593\n",
       "\\end{description*}\n"
      ],
      "text/markdown": [
       "1\n",
       ":   5772\n",
       ":   5093\n",
       ":   5334\n",
       ":   5865\n",
       ":   5706\n",
       ":   5867\n",
       ":   5998\n",
       ":   6009\n",
       ":   57310\n",
       ":   57911\n",
       ":   593\n",
       "\n"
      ],
      "text/plain": [
       "  1   2   3   4   5   6   7   8   9  10  11 \n",
       "577 509 533 586 570 586 599 600 573 579 593 "
      ]
     },
     "metadata": {},
     "output_type": "display_data"
    },
    {
     "data": {
      "text/html": [
       "<style>\n",
       ".dl-inline {width: auto; margin:0; padding: 0}\n",
       ".dl-inline>dt, .dl-inline>dd {float: none; width: auto; display: inline-block}\n",
       ".dl-inline>dt::after {content: \":\\0020\"; padding-right: .5ex}\n",
       ".dl-inline>dt:not(:first-of-type) {padding-left: .5ex}\n",
       "</style><dl class=dl-inline><dt>Atk</dt><dd>1130</dd><dt>Def</dt><dd>2294</dd><dt>Gk</dt><dd>578</dd><dt>Mid</dt><dd>2303</dd></dl>\n"
      ],
      "text/latex": [
       "\\begin{description*}\n",
       "\\item[Atk] 1130\n",
       "\\item[Def] 2294\n",
       "\\item[Gk] 578\n",
       "\\item[Mid] 2303\n",
       "\\end{description*}\n"
      ],
      "text/markdown": [
       "Atk\n",
       ":   1130Def\n",
       ":   2294Gk\n",
       ":   578Mid\n",
       ":   2303\n",
       "\n"
      ],
      "text/plain": [
       " Atk  Def   Gk  Mid \n",
       "1130 2294  578 2303 "
      ]
     },
     "metadata": {},
     "output_type": "display_data"
    },
    {
     "data": {
      "text/html": [
       "6305"
      ],
      "text/latex": [
       "6305"
      ],
      "text/markdown": [
       "6305"
      ],
      "text/plain": [
       "[1] 6305"
      ]
     },
     "metadata": {},
     "output_type": "display_data"
    },
    {
     "data": {
      "text/html": [
       "<table class=\"dataframe\">\n",
       "<caption>A matrix: 11 × 4 of type dbl</caption>\n",
       "<tbody>\n",
       "\t<tr><td>103.41158</td><td>209.9347</td><td>52.89548</td><td>210.7583</td></tr>\n",
       "\t<tr><td> 91.22443</td><td>185.1937</td><td>46.66170</td><td>185.9202</td></tr>\n",
       "\t<tr><td> 95.52577</td><td>193.9258</td><td>48.86186</td><td>194.6866</td></tr>\n",
       "\t<tr><td>105.02458</td><td>213.2092</td><td>53.72054</td><td>214.0457</td></tr>\n",
       "\t<tr><td>102.15702</td><td>207.3878</td><td>52.25377</td><td>208.2014</td></tr>\n",
       "\t<tr><td>105.02458</td><td>213.2092</td><td>53.72054</td><td>214.0457</td></tr>\n",
       "\t<tr><td>107.35448</td><td>217.9391</td><td>54.91229</td><td>218.7941</td></tr>\n",
       "\t<tr><td>107.53370</td><td>218.3029</td><td>55.00397</td><td>219.1594</td></tr>\n",
       "\t<tr><td>102.69469</td><td>208.4793</td><td>52.52879</td><td>209.2972</td></tr>\n",
       "\t<tr><td>103.77002</td><td>210.6623</td><td>53.07883</td><td>211.4888</td></tr>\n",
       "\t<tr><td>106.27914</td><td>215.7561</td><td>54.36225</td><td>216.6025</td></tr>\n",
       "</tbody>\n",
       "</table>\n"
      ],
      "text/latex": [
       "A matrix: 11 × 4 of type dbl\n",
       "\\begin{tabular}{llll}\n",
       "\t 103.41158 & 209.9347 & 52.89548 & 210.7583\\\\\n",
       "\t  91.22443 & 185.1937 & 46.66170 & 185.9202\\\\\n",
       "\t  95.52577 & 193.9258 & 48.86186 & 194.6866\\\\\n",
       "\t 105.02458 & 213.2092 & 53.72054 & 214.0457\\\\\n",
       "\t 102.15702 & 207.3878 & 52.25377 & 208.2014\\\\\n",
       "\t 105.02458 & 213.2092 & 53.72054 & 214.0457\\\\\n",
       "\t 107.35448 & 217.9391 & 54.91229 & 218.7941\\\\\n",
       "\t 107.53370 & 218.3029 & 55.00397 & 219.1594\\\\\n",
       "\t 102.69469 & 208.4793 & 52.52879 & 209.2972\\\\\n",
       "\t 103.77002 & 210.6623 & 53.07883 & 211.4888\\\\\n",
       "\t 106.27914 & 215.7561 & 54.36225 & 216.6025\\\\\n",
       "\\end{tabular}\n"
      ],
      "text/markdown": [
       "\n",
       "A matrix: 11 × 4 of type dbl\n",
       "\n",
       "| 103.41158 | 209.9347 | 52.89548 | 210.7583 |\n",
       "|  91.22443 | 185.1937 | 46.66170 | 185.9202 |\n",
       "|  95.52577 | 193.9258 | 48.86186 | 194.6866 |\n",
       "| 105.02458 | 213.2092 | 53.72054 | 214.0457 |\n",
       "| 102.15702 | 207.3878 | 52.25377 | 208.2014 |\n",
       "| 105.02458 | 213.2092 | 53.72054 | 214.0457 |\n",
       "| 107.35448 | 217.9391 | 54.91229 | 218.7941 |\n",
       "| 107.53370 | 218.3029 | 55.00397 | 219.1594 |\n",
       "| 102.69469 | 208.4793 | 52.52879 | 209.2972 |\n",
       "| 103.77002 | 210.6623 | 53.07883 | 211.4888 |\n",
       "| 106.27914 | 215.7561 | 54.36225 | 216.6025 |\n",
       "\n"
      ],
      "text/plain": [
       "      [,1]      [,2]     [,3]     [,4]    \n",
       " [1,] 103.41158 209.9347 52.89548 210.7583\n",
       " [2,]  91.22443 185.1937 46.66170 185.9202\n",
       " [3,]  95.52577 193.9258 48.86186 194.6866\n",
       " [4,] 105.02458 213.2092 53.72054 214.0457\n",
       " [5,] 102.15702 207.3878 52.25377 208.2014\n",
       " [6,] 105.02458 213.2092 53.72054 214.0457\n",
       " [7,] 107.35448 217.9391 54.91229 218.7941\n",
       " [8,] 107.53370 218.3029 55.00397 219.1594\n",
       " [9,] 102.69469 208.4793 52.52879 209.2972\n",
       "[10,] 103.77002 210.6623 53.07883 211.4888\n",
       "[11,] 106.27914 215.7561 54.36225 216.6025"
      ]
     },
     "metadata": {},
     "output_type": "display_data"
    }
   ],
   "source": [
    "#Calculating the key elements for computing the contingency table\n",
    "total_rows <- rowSums(data_table)\n",
    "total_cols <- colSums(data_table)\n",
    "total <- sum(total_rows)\n",
    "nrow <- nrow(data_table)\n",
    "ncol <- ncol(data_table)\n",
    "total_rows; total_cols; total\n",
    "\n",
    "#Create the contingency table\n",
    "contingency_table <- matrix(nrow = nrow, ncol = ncol)\n",
    "\n",
    "for (r in 1:nrow){\n",
    "    for (c in 1:ncol){\n",
    "        contingency_table[r, c] <- total_rows[r]* total_cols[c]/total\n",
    "    }\n",
    "}\n",
    "contingency_table"
   ]
  },
  {
   "cell_type": "markdown",
   "id": "c0276000",
   "metadata": {},
   "source": [
    "Based on the contingency table, check the conditions that is suitable for performing a chi-square test. <br>\n",
    "1) All expected counts are greater or equal to 5. <br>\n",
    "2) None of the cells in the contingency table have an observed count of 0. <br>\n",
    "3) The data is independent. <br>\n",
    "The contingency table meets all these conditions, thus we can perform chi-square test. "
   ]
  },
  {
   "cell_type": "code",
   "execution_count": 33,
   "id": "63b0ece0",
   "metadata": {},
   "outputs": [
    {
     "data": {
      "text/plain": [
       "\n",
       "\tPearson's Chi-squared test\n",
       "\n",
       "data:  data_table\n",
       "X-squared = 12083, df = 30, p-value < 2.2e-16\n"
      ]
     },
     "metadata": {},
     "output_type": "display_data"
    }
   ],
   "source": [
    "#Perform chi-square test\n",
    "chisq.test(data_table)"
   ]
  },
  {
   "cell_type": "markdown",
   "id": "38586f38",
   "metadata": {},
   "source": [
    "The p-value of the chi-square test is less than 0.05 which means that there is strong evidence to reject the null hypothesis that there is no difference in the distribution of jersey number and the best position, indicating that there is a significant association between Club.Jersey.Number and Position.Group."
   ]
  },
  {
   "cell_type": "markdown",
   "id": "d06dc5a7",
   "metadata": {},
   "source": [
    "Grouping by <br>\n",
    "1 - GoalKeeper  <br>\n",
    "2-5, Defender <br>\n",
    "6, 8, 10 - Midfielder <br> \n",
    "7, 9, 11 - Attacker <br> \n",
    "GK - Goalkeeper "
   ]
  },
  {
   "cell_type": "code",
   "execution_count": 55,
   "id": "ae67b0e3",
   "metadata": {},
   "outputs": [
    {
     "data": {
      "text/html": [
       "<table class=\"dataframe\">\n",
       "<caption>A data.frame: 4 × 5</caption>\n",
       "<thead>\n",
       "\t<tr><th scope=col>Group</th><th scope=col>Atk</th><th scope=col>Def</th><th scope=col>Gk</th><th scope=col>Mid</th></tr>\n",
       "\t<tr><th scope=col>&lt;chr&gt;</th><th scope=col>&lt;int&gt;</th><th scope=col>&lt;int&gt;</th><th scope=col>&lt;int&gt;</th><th scope=col>&lt;int&gt;</th></tr>\n",
       "</thead>\n",
       "<tbody>\n",
       "\t<tr><td>Group 1</td><td>  0</td><td>   0</td><td>577</td><td>   0</td></tr>\n",
       "\t<tr><td>Group 2</td><td> 20</td><td>1862</td><td>  1</td><td> 315</td></tr>\n",
       "\t<tr><td>Group 3</td><td>199</td><td> 350</td><td>  0</td><td>1216</td></tr>\n",
       "\t<tr><td>Group 4</td><td>911</td><td>  82</td><td>  0</td><td> 772</td></tr>\n",
       "</tbody>\n",
       "</table>\n"
      ],
      "text/latex": [
       "A data.frame: 4 × 5\n",
       "\\begin{tabular}{lllll}\n",
       " Group & Atk & Def & Gk & Mid\\\\\n",
       " <chr> & <int> & <int> & <int> & <int>\\\\\n",
       "\\hline\n",
       "\t Group 1 &   0 &    0 & 577 &    0\\\\\n",
       "\t Group 2 &  20 & 1862 &   1 &  315\\\\\n",
       "\t Group 3 & 199 &  350 &   0 & 1216\\\\\n",
       "\t Group 4 & 911 &   82 &   0 &  772\\\\\n",
       "\\end{tabular}\n"
      ],
      "text/markdown": [
       "\n",
       "A data.frame: 4 × 5\n",
       "\n",
       "| Group &lt;chr&gt; | Atk &lt;int&gt; | Def &lt;int&gt; | Gk &lt;int&gt; | Mid &lt;int&gt; |\n",
       "|---|---|---|---|---|\n",
       "| Group 1 |   0 |    0 | 577 |    0 |\n",
       "| Group 2 |  20 | 1862 |   1 |  315 |\n",
       "| Group 3 | 199 |  350 |   0 | 1216 |\n",
       "| Group 4 | 911 |   82 |   0 |  772 |\n",
       "\n"
      ],
      "text/plain": [
       "  Group   Atk Def  Gk  Mid \n",
       "1 Group 1   0    0 577    0\n",
       "2 Group 2  20 1862   1  315\n",
       "3 Group 3 199  350   0 1216\n",
       "4 Group 4 911   82   0  772"
      ]
     },
     "metadata": {},
     "output_type": "display_data"
    }
   ],
   "source": [
    "rownames(data_table) <- c(1:11)\n",
    "\n",
    "# Group rows and perform colSums\n",
    "group1 <- c(1)\n",
    "group2 <- c(2:5)\n",
    "group3 <- c(6, 8, 10)\n",
    "group4 <- c(7, 9, 11)\n",
    "\n",
    "grouped_table <- data.frame(\n",
    "  Group = c(\"Group 1\", \"Group 2\", \"Group 3\", \"Group 4\"),\n",
    "  Atk = c(sum(data_table[group1, \"Atk\"]), \n",
    "          sum(data_table[group2, \"Atk\"]),\n",
    "          sum(data_table[group3, \"Atk\"]),\n",
    "          sum(data_table[group4, \"Atk\"])),\n",
    "  Def = c(sum(data_table[group1, \"Def\"]), \n",
    "          sum(data_table[group2, \"Def\"]),\n",
    "          sum(data_table[group3, \"Def\"]),\n",
    "          sum(data_table[group4, \"Def\"])),\n",
    "  Gk = c(sum(data_table[group1, \"Gk\"]), \n",
    "         sum(data_table[group2, \"Gk\"]),\n",
    "         sum(data_table[group3, \"Gk\"]),\n",
    "         sum(data_table[group4, \"Gk\"])),\n",
    "  Mid = c(sum(data_table[group1, \"Mid\"]), \n",
    "          sum(data_table[group2, \"Mid\"]),\n",
    "          sum(data_table[group3, \"Mid\"]),\n",
    "          sum(data_table[group4, \"Mid\"]))\n",
    ")\n",
    "\n",
    "grouped_table"
   ]
  },
  {
   "cell_type": "code",
   "execution_count": 96,
   "id": "f6fcccbd",
   "metadata": {},
   "outputs": [
    {
     "data": {
      "text/plain": [
       "         Atk  Def   Gk  Mid\n",
       "Group 1    0    0  577    0\n",
       "Group 2   20 1862    1  315\n",
       "Group 3  199  350    0 1216\n",
       "Group 4  911   82    0  772"
      ]
     },
     "metadata": {},
     "output_type": "display_data"
    },
    {
     "data": {
      "text/plain": [
       "Number of cases in table: 6305 \n",
       "Number of factors: 2 \n",
       "Test for independence of all factors:\n",
       "\tChisq = 10617, df = 9, p-value = 0"
      ]
     },
     "metadata": {},
     "output_type": "display_data"
    }
   ],
   "source": [
    "#Convert the dataframe into table\n",
    "data_table <- as.table(as.matrix(grouped_table[, -1]))\n",
    "dimnames(data_table) <- list(grouped_table$Group, colnames(data_table))\n",
    "data_table"
   ]
  },
  {
   "cell_type": "code",
   "execution_count": 97,
   "id": "a92bd828",
   "metadata": {},
   "outputs": [
    {
     "data": {
      "text/plain": [
       "         Atk  Def  Mid\n",
       "Group 2   20 1862  315\n",
       "Group 3  199  350 1216\n",
       "Group 4  911   82  772"
      ]
     },
     "metadata": {},
     "output_type": "display_data"
    },
    {
     "data": {
      "text/plain": [
       "Number of cases in table: 5727 \n",
       "Number of factors: 2 \n",
       "Test for independence of all factors:\n",
       "\tChisq = 3929, df = 4, p-value = 0"
      ]
     },
     "metadata": {},
     "output_type": "display_data"
    }
   ],
   "source": [
    "#Drop Group 1 and GK\n",
    "data_table_2 <- data_table[c(2:4), c(1, 2, 4)]\n",
    "data_table_2\n",
    "summary(data_table_2)"
   ]
  },
  {
   "cell_type": "code",
   "execution_count": null,
   "id": "6aaf23e9",
   "metadata": {},
   "outputs": [],
   "source": []
  }
 ],
 "metadata": {
  "kernelspec": {
   "display_name": "R",
   "language": "R",
   "name": "ir"
  },
  "language_info": {
   "codemirror_mode": "r",
   "file_extension": ".r",
   "mimetype": "text/x-r-source",
   "name": "R",
   "pygments_lexer": "r",
   "version": "4.2.2"
  }
 },
 "nbformat": 4,
 "nbformat_minor": 5
}
