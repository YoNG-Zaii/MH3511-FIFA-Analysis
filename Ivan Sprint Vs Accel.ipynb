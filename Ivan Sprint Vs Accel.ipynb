{
 "cells": [
  {
   "cell_type": "code",
   "execution_count": 2,
   "id": "b627bd4b",
   "metadata": {},
   "outputs": [
    {
     "data": {
      "text/html": [
       "<table>\n",
       "<thead><tr><th scope=col>Known.As</th><th scope=col>Full.Name</th><th scope=col>Overall</th><th scope=col>Potential</th><th scope=col>Value.in.Euro.</th><th scope=col>Positions.Played</th><th scope=col>Best.Position</th><th scope=col>Nationality</th><th scope=col>Image.Link</th><th scope=col>Age</th><th scope=col>...</th><th scope=col>LM.Rating</th><th scope=col>CM.Rating</th><th scope=col>RM.Rating</th><th scope=col>LWB.Rating</th><th scope=col>CDM.Rating</th><th scope=col>RWB.Rating</th><th scope=col>LB.Rating</th><th scope=col>CB.Rating</th><th scope=col>RB.Rating</th><th scope=col>GK.Rating</th></tr></thead>\n",
       "<tbody>\n",
       "\t<tr><td>L. Messi                                        </td><td>Lionel Messi                                    </td><td>91                                              </td><td>91                                              </td><td> 54000000                                       </td><td>RW                                              </td><td>CAM                                             </td><td>Argentina                                       </td><td>https://cdn.sofifa.net/players/158/023/23_60.png</td><td>35                                              </td><td>...                                             </td><td>91                                              </td><td>88                                              </td><td>91                                              </td><td>67                                              </td><td>66                                              </td><td>67                                              </td><td>62                                              </td><td>53                                              </td><td>62                                              </td><td>22                                              </td></tr>\n",
       "\t<tr><td>K. Benzema                                      </td><td>Karim Benzema                                   </td><td>91                                              </td><td>91                                              </td><td> 64000000                                       </td><td>CF,ST                                           </td><td>CF                                              </td><td>France                                          </td><td>https://cdn.sofifa.net/players/165/153/23_60.png</td><td>34                                              </td><td>...                                             </td><td>89                                              </td><td>84                                              </td><td>89                                              </td><td>67                                              </td><td>67                                              </td><td>67                                              </td><td>63                                              </td><td>58                                              </td><td>63                                              </td><td>21                                              </td></tr>\n",
       "\t<tr><td>R. Lewandowski                                  </td><td>Robert Lewandowski                              </td><td>91                                              </td><td>91                                              </td><td> 84000000                                       </td><td>ST                                              </td><td>ST                                              </td><td>Poland                                          </td><td>https://cdn.sofifa.net/players/188/545/23_60.png</td><td>33                                              </td><td>...                                             </td><td>86                                              </td><td>83                                              </td><td>86                                              </td><td>67                                              </td><td>69                                              </td><td>67                                              </td><td>64                                              </td><td>63                                              </td><td>64                                              </td><td>22                                              </td></tr>\n",
       "\t<tr><td>K. De Bruyne                                    </td><td>Kevin De Bruyne                                 </td><td>91                                              </td><td>91                                              </td><td>107500000                                       </td><td>CM,CAM                                          </td><td>CM                                              </td><td>Belgium                                         </td><td>https://cdn.sofifa.net/players/192/985/23_60.png</td><td>31                                              </td><td>...                                             </td><td>91                                              </td><td>91                                              </td><td>91                                              </td><td>82                                              </td><td>82                                              </td><td>82                                              </td><td>78                                              </td><td>72                                              </td><td>78                                              </td><td>24                                              </td></tr>\n",
       "\t<tr><td>K. MbappÃ©                                      </td><td>Kylian MbappÃ©                                  </td><td>91                                              </td><td>95                                              </td><td>190500000                                       </td><td>ST,LW                                           </td><td>ST                                              </td><td>France                                          </td><td>https://cdn.sofifa.net/players/231/747/23_60.png</td><td>23                                              </td><td>...                                             </td><td>92                                              </td><td>84                                              </td><td>92                                              </td><td>70                                              </td><td>66                                              </td><td>70                                              </td><td>66                                              </td><td>57                                              </td><td>66                                              </td><td>21                                              </td></tr>\n",
       "\t<tr><td>M. Salah                                        </td><td>Mohamed Salah                                   </td><td>90                                              </td><td>90                                              </td><td>115500000                                       </td><td>RW                                              </td><td>RW                                              </td><td>Egypt                                           </td><td>https://cdn.sofifa.net/players/209/331/23_60.png</td><td>30                                              </td><td>...                                             </td><td>90                                              </td><td>85                                              </td><td>90                                              </td><td>74                                              </td><td>71                                              </td><td>74                                              </td><td>70                                              </td><td>61                                              </td><td>70                                              </td><td>25                                              </td></tr>\n",
       "</tbody>\n",
       "</table>\n"
      ],
      "text/latex": [
       "\\begin{tabular}{r|lllllllllllllllllllllllllllllllllllllllllllllllllllllllllllllllllllllllllllllllllllllllll}\n",
       " Known.As & Full.Name & Overall & Potential & Value.in.Euro. & Positions.Played & Best.Position & Nationality & Image.Link & Age & ... & LM.Rating & CM.Rating & RM.Rating & LWB.Rating & CDM.Rating & RWB.Rating & LB.Rating & CB.Rating & RB.Rating & GK.Rating\\\\\n",
       "\\hline\n",
       "\t L. Messi                                           & Lionel Messi                                       & 91                                                 & 91                                                 &  54000000                                          & RW                                                 & CAM                                                & Argentina                                          & https://cdn.sofifa.net/players/158/023/23\\_60.png & 35                                                 & ...                                                & 91                                                 & 88                                                 & 91                                                 & 67                                                 & 66                                                 & 67                                                 & 62                                                 & 53                                                 & 62                                                 & 22                                                \\\\\n",
       "\t K. Benzema                                         & Karim Benzema                                      & 91                                                 & 91                                                 &  64000000                                          & CF,ST                                              & CF                                                 & France                                             & https://cdn.sofifa.net/players/165/153/23\\_60.png & 34                                                 & ...                                                & 89                                                 & 84                                                 & 89                                                 & 67                                                 & 67                                                 & 67                                                 & 63                                                 & 58                                                 & 63                                                 & 21                                                \\\\\n",
       "\t R. Lewandowski                                     & Robert Lewandowski                                 & 91                                                 & 91                                                 &  84000000                                          & ST                                                 & ST                                                 & Poland                                             & https://cdn.sofifa.net/players/188/545/23\\_60.png & 33                                                 & ...                                                & 86                                                 & 83                                                 & 86                                                 & 67                                                 & 69                                                 & 67                                                 & 64                                                 & 63                                                 & 64                                                 & 22                                                \\\\\n",
       "\t K. De Bruyne                                       & Kevin De Bruyne                                    & 91                                                 & 91                                                 & 107500000                                          & CM,CAM                                             & CM                                                 & Belgium                                            & https://cdn.sofifa.net/players/192/985/23\\_60.png & 31                                                 & ...                                                & 91                                                 & 91                                                 & 91                                                 & 82                                                 & 82                                                 & 82                                                 & 78                                                 & 72                                                 & 78                                                 & 24                                                \\\\\n",
       "\t K. MbappÃ©                                         & Kylian MbappÃ©                                     & 91                                                 & 95                                                 & 190500000                                          & ST,LW                                              & ST                                                 & France                                             & https://cdn.sofifa.net/players/231/747/23\\_60.png & 23                                                 & ...                                                & 92                                                 & 84                                                 & 92                                                 & 70                                                 & 66                                                 & 70                                                 & 66                                                 & 57                                                 & 66                                                 & 21                                                \\\\\n",
       "\t M. Salah                                           & Mohamed Salah                                      & 90                                                 & 90                                                 & 115500000                                          & RW                                                 & RW                                                 & Egypt                                              & https://cdn.sofifa.net/players/209/331/23\\_60.png & 30                                                 & ...                                                & 90                                                 & 85                                                 & 90                                                 & 74                                                 & 71                                                 & 74                                                 & 70                                                 & 61                                                 & 70                                                 & 25                                                \\\\\n",
       "\\end{tabular}\n"
      ],
      "text/markdown": [
       "\n",
       "| Known.As | Full.Name | Overall | Potential | Value.in.Euro. | Positions.Played | Best.Position | Nationality | Image.Link | Age | ... | LM.Rating | CM.Rating | RM.Rating | LWB.Rating | CDM.Rating | RWB.Rating | LB.Rating | CB.Rating | RB.Rating | GK.Rating |\n",
       "|---|---|---|---|---|---|---|---|---|---|---|---|---|---|---|---|---|---|---|---|---|\n",
       "| L. Messi                                         | Lionel Messi                                     | 91                                               | 91                                               |  54000000                                        | RW                                               | CAM                                              | Argentina                                        | https://cdn.sofifa.net/players/158/023/23_60.png | 35                                               | ...                                              | 91                                               | 88                                               | 91                                               | 67                                               | 66                                               | 67                                               | 62                                               | 53                                               | 62                                               | 22                                               |\n",
       "| K. Benzema                                       | Karim Benzema                                    | 91                                               | 91                                               |  64000000                                        | CF,ST                                            | CF                                               | France                                           | https://cdn.sofifa.net/players/165/153/23_60.png | 34                                               | ...                                              | 89                                               | 84                                               | 89                                               | 67                                               | 67                                               | 67                                               | 63                                               | 58                                               | 63                                               | 21                                               |\n",
       "| R. Lewandowski                                   | Robert Lewandowski                               | 91                                               | 91                                               |  84000000                                        | ST                                               | ST                                               | Poland                                           | https://cdn.sofifa.net/players/188/545/23_60.png | 33                                               | ...                                              | 86                                               | 83                                               | 86                                               | 67                                               | 69                                               | 67                                               | 64                                               | 63                                               | 64                                               | 22                                               |\n",
       "| K. De Bruyne                                     | Kevin De Bruyne                                  | 91                                               | 91                                               | 107500000                                        | CM,CAM                                           | CM                                               | Belgium                                          | https://cdn.sofifa.net/players/192/985/23_60.png | 31                                               | ...                                              | 91                                               | 91                                               | 91                                               | 82                                               | 82                                               | 82                                               | 78                                               | 72                                               | 78                                               | 24                                               |\n",
       "| K. MbappÃ©                                       | Kylian MbappÃ©                                   | 91                                               | 95                                               | 190500000                                        | ST,LW                                            | ST                                               | France                                           | https://cdn.sofifa.net/players/231/747/23_60.png | 23                                               | ...                                              | 92                                               | 84                                               | 92                                               | 70                                               | 66                                               | 70                                               | 66                                               | 57                                               | 66                                               | 21                                               |\n",
       "| M. Salah                                         | Mohamed Salah                                    | 90                                               | 90                                               | 115500000                                        | RW                                               | RW                                               | Egypt                                            | https://cdn.sofifa.net/players/209/331/23_60.png | 30                                               | ...                                              | 90                                               | 85                                               | 90                                               | 74                                               | 71                                               | 74                                               | 70                                               | 61                                               | 70                                               | 25                                               |\n",
       "\n"
      ],
      "text/plain": [
       "  Known.As       Full.Name          Overall Potential Value.in.Euro.\n",
       "1 L. Messi       Lionel Messi       91      91         54000000     \n",
       "2 K. Benzema     Karim Benzema      91      91         64000000     \n",
       "3 R. Lewandowski Robert Lewandowski 91      91         84000000     \n",
       "4 K. De Bruyne   Kevin De Bruyne    91      91        107500000     \n",
       "5 K. MbappÃ©     Kylian MbappÃ©     91      95        190500000     \n",
       "6 M. Salah       Mohamed Salah      90      90        115500000     \n",
       "  Positions.Played Best.Position Nationality\n",
       "1 RW               CAM           Argentina  \n",
       "2 CF,ST            CF            France     \n",
       "3 ST               ST            Poland     \n",
       "4 CM,CAM           CM            Belgium    \n",
       "5 ST,LW            ST            France     \n",
       "6 RW               RW            Egypt      \n",
       "  Image.Link                                       Age ... LM.Rating CM.Rating\n",
       "1 https://cdn.sofifa.net/players/158/023/23_60.png 35  ... 91        88       \n",
       "2 https://cdn.sofifa.net/players/165/153/23_60.png 34  ... 89        84       \n",
       "3 https://cdn.sofifa.net/players/188/545/23_60.png 33  ... 86        83       \n",
       "4 https://cdn.sofifa.net/players/192/985/23_60.png 31  ... 91        91       \n",
       "5 https://cdn.sofifa.net/players/231/747/23_60.png 23  ... 92        84       \n",
       "6 https://cdn.sofifa.net/players/209/331/23_60.png 30  ... 90        85       \n",
       "  RM.Rating LWB.Rating CDM.Rating RWB.Rating LB.Rating CB.Rating RB.Rating\n",
       "1 91        67         66         67         62        53        62       \n",
       "2 89        67         67         67         63        58        63       \n",
       "3 86        67         69         67         64        63        64       \n",
       "4 91        82         82         82         78        72        78       \n",
       "5 92        70         66         70         66        57        66       \n",
       "6 90        74         71         74         70        61        70       \n",
       "  GK.Rating\n",
       "1 22       \n",
       "2 21       \n",
       "3 22       \n",
       "4 24       \n",
       "5 21       \n",
       "6 25       "
      ]
     },
     "metadata": {},
     "output_type": "display_data"
    }
   ],
   "source": [
    "players23 <- read.csv(\"./fifa23_players_data.csv\")\n",
    "head(players23);"
   ]
  },
  {
   "cell_type": "code",
   "execution_count": 7,
   "id": "be22297b",
   "metadata": {},
   "outputs": [
    {
     "data": {
      "text/html": [
       "<table>\n",
       "<thead><tr><th scope=col>Known.As</th><th scope=col>Overall</th><th scope=col>Value.in.Euro.</th><th scope=col>Best.Position</th><th scope=col>Nationality</th><th scope=col>Age</th><th scope=col>Height.in.cm.</th><th scope=col>Weight.in.kg.</th><th scope=col>TotalStats</th><th scope=col>Club.Name</th><th scope=col>Wage.in.Euro.</th><th scope=col>Release.Clause</th><th scope=col>Club.Jersey.Number</th><th scope=col>Agility</th><th scope=col>Crossing</th><th scope=col>Sprint.Speed</th><th scope=col>Acceleration</th></tr></thead>\n",
       "<tbody>\n",
       "\t<tr><td>L. Messi           </td><td>91                 </td><td> 54000000          </td><td>CAM                </td><td>Argentina          </td><td>35                 </td><td>169                </td><td>67                 </td><td>2190               </td><td>Paris Saint-Germain</td><td>195000             </td><td> 99900000          </td><td>30                 </td><td>91                 </td><td>84                 </td><td>76                 </td><td>87                 </td></tr>\n",
       "\t<tr><td>K. Benzema         </td><td>91                 </td><td> 64000000          </td><td>CF                 </td><td>France             </td><td>34                 </td><td>185                </td><td>81                 </td><td>2147               </td><td>Real Madrid CF     </td><td>450000             </td><td>131199999          </td><td>9                  </td><td>78                 </td><td>75                 </td><td>80                 </td><td>79                 </td></tr>\n",
       "\t<tr><td>R. Lewandowski     </td><td>91                 </td><td> 84000000          </td><td>ST                 </td><td>Poland             </td><td>33                 </td><td>185                </td><td>81                 </td><td>2205               </td><td>FC Barcelona       </td><td>420000             </td><td>172200000          </td><td>9                  </td><td>77                 </td><td>71                 </td><td>75                 </td><td>76                 </td></tr>\n",
       "\t<tr><td>K. De Bruyne       </td><td>91                 </td><td>107500000          </td><td>CM                 </td><td>Belgium            </td><td>31                 </td><td>181                </td><td>70                 </td><td>2303               </td><td>Manchester City    </td><td>350000             </td><td>198900000          </td><td>17                 </td><td>76                 </td><td>94                 </td><td>73                 </td><td>76                 </td></tr>\n",
       "\t<tr><td>K. MbappÃ©         </td><td>91                 </td><td>190500000          </td><td>ST                 </td><td>France             </td><td>23                 </td><td>182                </td><td>73                 </td><td>2177               </td><td>Paris Saint-Germain</td><td>230000             </td><td>366700000          </td><td>7                  </td><td>93                 </td><td>78                 </td><td>97                 </td><td>97                 </td></tr>\n",
       "\t<tr><td>M. Salah           </td><td>90                 </td><td>115500000          </td><td>RW                 </td><td>Egypt              </td><td>30                 </td><td>175                </td><td>71                 </td><td>2226               </td><td>Liverpool          </td><td>270000             </td><td>213700000          </td><td>11                 </td><td>90                 </td><td>80                 </td><td>91                 </td><td>89                 </td></tr>\n",
       "</tbody>\n",
       "</table>\n"
      ],
      "text/latex": [
       "\\begin{tabular}{r|lllllllllllllllll}\n",
       " Known.As & Overall & Value.in.Euro. & Best.Position & Nationality & Age & Height.in.cm. & Weight.in.kg. & TotalStats & Club.Name & Wage.in.Euro. & Release.Clause & Club.Jersey.Number & Agility & Crossing & Sprint.Speed & Acceleration\\\\\n",
       "\\hline\n",
       "\t L. Messi            & 91                  &  54000000           & CAM                 & Argentina           & 35                  & 169                 & 67                  & 2190                & Paris Saint-Germain & 195000              &  99900000           & 30                  & 91                  & 84                  & 76                  & 87                 \\\\\n",
       "\t K. Benzema          & 91                  &  64000000           & CF                  & France              & 34                  & 185                 & 81                  & 2147                & Real Madrid CF      & 450000              & 131199999           & 9                   & 78                  & 75                  & 80                  & 79                 \\\\\n",
       "\t R. Lewandowski      & 91                  &  84000000           & ST                  & Poland              & 33                  & 185                 & 81                  & 2205                & FC Barcelona        & 420000              & 172200000           & 9                   & 77                  & 71                  & 75                  & 76                 \\\\\n",
       "\t K. De Bruyne        & 91                  & 107500000           & CM                  & Belgium             & 31                  & 181                 & 70                  & 2303                & Manchester City     & 350000              & 198900000           & 17                  & 76                  & 94                  & 73                  & 76                 \\\\\n",
       "\t K. MbappÃ©          & 91                  & 190500000           & ST                  & France              & 23                  & 182                 & 73                  & 2177                & Paris Saint-Germain & 230000              & 366700000           & 7                   & 93                  & 78                  & 97                  & 97                 \\\\\n",
       "\t M. Salah            & 90                  & 115500000           & RW                  & Egypt               & 30                  & 175                 & 71                  & 2226                & Liverpool           & 270000              & 213700000           & 11                  & 90                  & 80                  & 91                  & 89                 \\\\\n",
       "\\end{tabular}\n"
      ],
      "text/markdown": [
       "\n",
       "| Known.As | Overall | Value.in.Euro. | Best.Position | Nationality | Age | Height.in.cm. | Weight.in.kg. | TotalStats | Club.Name | Wage.in.Euro. | Release.Clause | Club.Jersey.Number | Agility | Crossing | Sprint.Speed | Acceleration |\n",
       "|---|---|---|---|---|---|---|---|---|---|---|---|---|---|---|---|---|\n",
       "| L. Messi            | 91                  |  54000000           | CAM                 | Argentina           | 35                  | 169                 | 67                  | 2190                | Paris Saint-Germain | 195000              |  99900000           | 30                  | 91                  | 84                  | 76                  | 87                  |\n",
       "| K. Benzema          | 91                  |  64000000           | CF                  | France              | 34                  | 185                 | 81                  | 2147                | Real Madrid CF      | 450000              | 131199999           | 9                   | 78                  | 75                  | 80                  | 79                  |\n",
       "| R. Lewandowski      | 91                  |  84000000           | ST                  | Poland              | 33                  | 185                 | 81                  | 2205                | FC Barcelona        | 420000              | 172200000           | 9                   | 77                  | 71                  | 75                  | 76                  |\n",
       "| K. De Bruyne        | 91                  | 107500000           | CM                  | Belgium             | 31                  | 181                 | 70                  | 2303                | Manchester City     | 350000              | 198900000           | 17                  | 76                  | 94                  | 73                  | 76                  |\n",
       "| K. MbappÃ©          | 91                  | 190500000           | ST                  | France              | 23                  | 182                 | 73                  | 2177                | Paris Saint-Germain | 230000              | 366700000           | 7                   | 93                  | 78                  | 97                  | 97                  |\n",
       "| M. Salah            | 90                  | 115500000           | RW                  | Egypt               | 30                  | 175                 | 71                  | 2226                | Liverpool           | 270000              | 213700000           | 11                  | 90                  | 80                  | 91                  | 89                  |\n",
       "\n"
      ],
      "text/plain": [
       "  Known.As       Overall Value.in.Euro. Best.Position Nationality Age\n",
       "1 L. Messi       91       54000000      CAM           Argentina   35 \n",
       "2 K. Benzema     91       64000000      CF            France      34 \n",
       "3 R. Lewandowski 91       84000000      ST            Poland      33 \n",
       "4 K. De Bruyne   91      107500000      CM            Belgium     31 \n",
       "5 K. MbappÃ©     91      190500000      ST            France      23 \n",
       "6 M. Salah       90      115500000      RW            Egypt       30 \n",
       "  Height.in.cm. Weight.in.kg. TotalStats Club.Name           Wage.in.Euro.\n",
       "1 169           67            2190       Paris Saint-Germain 195000       \n",
       "2 185           81            2147       Real Madrid CF      450000       \n",
       "3 185           81            2205       FC Barcelona        420000       \n",
       "4 181           70            2303       Manchester City     350000       \n",
       "5 182           73            2177       Paris Saint-Germain 230000       \n",
       "6 175           71            2226       Liverpool           270000       \n",
       "  Release.Clause Club.Jersey.Number Agility Crossing Sprint.Speed Acceleration\n",
       "1  99900000      30                 91      84       76           87          \n",
       "2 131199999      9                  78      75       80           79          \n",
       "3 172200000      9                  77      71       75           76          \n",
       "4 198900000      17                 76      94       73           76          \n",
       "5 366700000      7                  93      78       97           97          \n",
       "6 213700000      11                 90      80       91           89          "
      ]
     },
     "metadata": {},
     "output_type": "display_data"
    },
    {
     "data": {
      "text/html": [
       "<ol class=list-inline>\n",
       "\t<li>18539</li>\n",
       "\t<li>17</li>\n",
       "</ol>\n"
      ],
      "text/latex": [
       "\\begin{enumerate*}\n",
       "\\item 18539\n",
       "\\item 17\n",
       "\\end{enumerate*}\n"
      ],
      "text/markdown": [
       "1. 18539\n",
       "2. 17\n",
       "\n",
       "\n"
      ],
      "text/plain": [
       "[1] 18539    17"
      ]
     },
     "metadata": {},
     "output_type": "display_data"
    }
   ],
   "source": [
    "relevantCols <- c(\"Known.As\", \"Overall\", \"Value.in.Euro.\", \"Best.Position\", \"Nationality\", \"Age\", \"Height.in.cm.\", \"Weight.in.kg.\", \n",
    "                 \"TotalStats\", \"Club.Name\", \"Wage.in.Euro.\", \"Release.Clause\", \"Club.Jersey.Number\", \"Agility\", \"Crossing\", \"Sprint.Speed\", \"Acceleration\")\n",
    "\n",
    "playersCleaned23 <- subset(players23, select=relevantCols)\n",
    "head(playersCleaned23); dim(playersCleaned23)"
   ]
  },
  {
   "cell_type": "code",
   "execution_count": null,
   "id": "f8506063",
   "metadata": {},
   "outputs": [],
   "source": []
  },
  {
   "cell_type": "code",
   "execution_count": 4,
   "id": "b4cddd16",
   "metadata": {},
   "outputs": [
    {
     "data": {
      "text/html": [
       "<table>\n",
       "<thead><tr><th scope=col>Sprint.Speed</th><th scope=col>Acceleration</th></tr></thead>\n",
       "<tbody>\n",
       "\t<tr><td>76</td><td>87</td></tr>\n",
       "\t<tr><td>80</td><td>79</td></tr>\n",
       "\t<tr><td>75</td><td>76</td></tr>\n",
       "\t<tr><td>73</td><td>76</td></tr>\n",
       "\t<tr><td>97</td><td>97</td></tr>\n",
       "\t<tr><td>91</td><td>89</td></tr>\n",
       "</tbody>\n",
       "</table>\n"
      ],
      "text/latex": [
       "\\begin{tabular}{r|ll}\n",
       " Sprint.Speed & Acceleration\\\\\n",
       "\\hline\n",
       "\t 76 & 87\\\\\n",
       "\t 80 & 79\\\\\n",
       "\t 75 & 76\\\\\n",
       "\t 73 & 76\\\\\n",
       "\t 97 & 97\\\\\n",
       "\t 91 & 89\\\\\n",
       "\\end{tabular}\n"
      ],
      "text/markdown": [
       "\n",
       "| Sprint.Speed | Acceleration |\n",
       "|---|---|\n",
       "| 76 | 87 |\n",
       "| 80 | 79 |\n",
       "| 75 | 76 |\n",
       "| 73 | 76 |\n",
       "| 97 | 97 |\n",
       "| 91 | 89 |\n",
       "\n"
      ],
      "text/plain": [
       "  Sprint.Speed Acceleration\n",
       "1 76           87          \n",
       "2 80           79          \n",
       "3 75           76          \n",
       "4 73           76          \n",
       "5 97           97          \n",
       "6 91           89          "
      ]
     },
     "metadata": {},
     "output_type": "display_data"
    }
   ],
   "source": [
    "speedVsAcceleration <- subset(playersCleaned23, select=c(\"Sprint.Speed\", \"Acceleration\"))\n",
    "head(speedVsAcceleration)"
   ]
  },
  {
   "cell_type": "code",
   "execution_count": 5,
   "id": "5b68245a",
   "metadata": {},
   "outputs": [
    {
     "data": {
      "text/plain": [
       "\n",
       "\tF test to compare two variances\n",
       "\n",
       "data:  speedVsAcceleration$Sprint.Speed and speedVsAcceleration$Acceleration\n",
       "F = 0.97754, num df = 18538, denom df = 18538, p-value = 0.122\n",
       "alternative hypothesis: true ratio of variances is not equal to 1\n",
       "95 percent confidence interval:\n",
       " 0.9497953 1.0060922\n",
       "sample estimates:\n",
       "ratio of variances \n",
       "         0.9775386 \n"
      ]
     },
     "metadata": {},
     "output_type": "display_data"
    }
   ],
   "source": [
    "var.test(speedVsAcceleration$Sprint.Speed, speedVsAcceleration$Acceleration)"
   ]
  },
  {
   "cell_type": "code",
   "execution_count": 6,
   "id": "bb531941",
   "metadata": {},
   "outputs": [
    {
     "data": {
      "text/plain": [
       "\n",
       "\tPaired t-test\n",
       "\n",
       "data:  speedVsAcceleration$Sprint.Speed and speedVsAcceleration$Acceleration\n",
       "t = 2.5946, df = 18538, p-value = 0.009477\n",
       "alternative hypothesis: true difference in means is not equal to 0\n",
       "95 percent confidence interval:\n",
       " 0.02763597 0.19837406\n",
       "sample estimates:\n",
       "mean of the differences \n",
       "               0.113005 \n"
      ]
     },
     "metadata": {},
     "output_type": "display_data"
    }
   ],
   "source": [
    "t.test(speedVsAcceleration$Sprint.Speed, speedVsAcceleration$Acceleration, var.equal=T, paired=TRUE)"
   ]
  }
 ],
 "metadata": {
  "kernelspec": {
   "display_name": "R",
   "language": "R",
   "name": "ir"
  },
  "language_info": {
   "codemirror_mode": "r",
   "file_extension": ".r",
   "mimetype": "text/x-r-source",
   "name": "R",
   "pygments_lexer": "r",
   "version": "3.6.1"
  }
 },
 "nbformat": 4,
 "nbformat_minor": 5
}
