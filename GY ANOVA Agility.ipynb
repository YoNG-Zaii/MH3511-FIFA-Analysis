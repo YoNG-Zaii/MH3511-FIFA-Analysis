{
 "cells": [
  {
   "cell_type": "markdown",
   "id": "486eaecf",
   "metadata": {},
   "source": [
    "# Best Position vs Agility ANOVA"
   ]
  },
  {
   "cell_type": "markdown",
   "id": "1965af75",
   "metadata": {},
   "source": [
    "Here, I will analyse the agility by best position. In order to perform ANOVA, there are three assumptions that need to be fulfilled, namely, normality, homegeneity of variance, and independence. Independence is satisfied intuitively."
   ]
  },
  {
   "cell_type": "code",
   "execution_count": 1,
   "id": "4c8f50c8",
   "metadata": {},
   "outputs": [
    {
     "name": "stderr",
     "output_type": "stream",
     "text": [
      "Registered S3 methods overwritten by 'ggplot2':\n",
      "  method         from \n",
      "  [.quosures     rlang\n",
      "  c.quosures     rlang\n",
      "  print.quosures rlang\n"
     ]
    }
   ],
   "source": [
    "library(\"repr\")\n",
    "library(\"ggplot2\")"
   ]
  },
  {
   "cell_type": "code",
   "execution_count": 2,
   "id": "e44b3a32",
   "metadata": {},
   "outputs": [
    {
     "data": {
      "text/html": [
       "<table>\n",
       "<thead><tr><th scope=col>Known.As</th><th scope=col>Full.Name</th><th scope=col>Overall</th><th scope=col>Potential</th><th scope=col>Value.in.Euro.</th><th scope=col>Positions.Played</th><th scope=col>Best.Position</th><th scope=col>Nationality</th><th scope=col>Image.Link</th><th scope=col>Age</th><th scope=col>...</th><th scope=col>LM.Rating</th><th scope=col>CM.Rating</th><th scope=col>RM.Rating</th><th scope=col>LWB.Rating</th><th scope=col>CDM.Rating</th><th scope=col>RWB.Rating</th><th scope=col>LB.Rating</th><th scope=col>CB.Rating</th><th scope=col>RB.Rating</th><th scope=col>GK.Rating</th></tr></thead>\n",
       "<tbody>\n",
       "\t<tr><td>L. Messi                                        </td><td>Lionel Messi                                    </td><td>91                                              </td><td>91                                              </td><td> 54000000                                       </td><td>RW                                              </td><td>CAM                                             </td><td>Argentina                                       </td><td>https://cdn.sofifa.net/players/158/023/23_60.png</td><td>35                                              </td><td>...                                             </td><td>91                                              </td><td>88                                              </td><td>91                                              </td><td>67                                              </td><td>66                                              </td><td>67                                              </td><td>62                                              </td><td>53                                              </td><td>62                                              </td><td>22                                              </td></tr>\n",
       "\t<tr><td>K. Benzema                                      </td><td>Karim Benzema                                   </td><td>91                                              </td><td>91                                              </td><td> 64000000                                       </td><td>CF,ST                                           </td><td>CF                                              </td><td>France                                          </td><td>https://cdn.sofifa.net/players/165/153/23_60.png</td><td>34                                              </td><td>...                                             </td><td>89                                              </td><td>84                                              </td><td>89                                              </td><td>67                                              </td><td>67                                              </td><td>67                                              </td><td>63                                              </td><td>58                                              </td><td>63                                              </td><td>21                                              </td></tr>\n",
       "\t<tr><td>R. Lewandowski                                  </td><td>Robert Lewandowski                              </td><td>91                                              </td><td>91                                              </td><td> 84000000                                       </td><td>ST                                              </td><td>ST                                              </td><td>Poland                                          </td><td>https://cdn.sofifa.net/players/188/545/23_60.png</td><td>33                                              </td><td>...                                             </td><td>86                                              </td><td>83                                              </td><td>86                                              </td><td>67                                              </td><td>69                                              </td><td>67                                              </td><td>64                                              </td><td>63                                              </td><td>64                                              </td><td>22                                              </td></tr>\n",
       "\t<tr><td>K. De Bruyne                                    </td><td>Kevin De Bruyne                                 </td><td>91                                              </td><td>91                                              </td><td>107500000                                       </td><td>CM,CAM                                          </td><td>CM                                              </td><td>Belgium                                         </td><td>https://cdn.sofifa.net/players/192/985/23_60.png</td><td>31                                              </td><td>...                                             </td><td>91                                              </td><td>91                                              </td><td>91                                              </td><td>82                                              </td><td>82                                              </td><td>82                                              </td><td>78                                              </td><td>72                                              </td><td>78                                              </td><td>24                                              </td></tr>\n",
       "\t<tr><td>K. MbappÃ©                                      </td><td>Kylian MbappÃ©                                  </td><td>91                                              </td><td>95                                              </td><td>190500000                                       </td><td>ST,LW                                           </td><td>ST                                              </td><td>France                                          </td><td>https://cdn.sofifa.net/players/231/747/23_60.png</td><td>23                                              </td><td>...                                             </td><td>92                                              </td><td>84                                              </td><td>92                                              </td><td>70                                              </td><td>66                                              </td><td>70                                              </td><td>66                                              </td><td>57                                              </td><td>66                                              </td><td>21                                              </td></tr>\n",
       "\t<tr><td>M. Salah                                        </td><td>Mohamed Salah                                   </td><td>90                                              </td><td>90                                              </td><td>115500000                                       </td><td>RW                                              </td><td>RW                                              </td><td>Egypt                                           </td><td>https://cdn.sofifa.net/players/209/331/23_60.png</td><td>30                                              </td><td>...                                             </td><td>90                                              </td><td>85                                              </td><td>90                                              </td><td>74                                              </td><td>71                                              </td><td>74                                              </td><td>70                                              </td><td>61                                              </td><td>70                                              </td><td>25                                              </td></tr>\n",
       "</tbody>\n",
       "</table>\n"
      ],
      "text/latex": [
       "\\begin{tabular}{r|lllllllllllllllllllllllllllllllllllllllllllllllllllllllllllllllllllllllllllllllllllllllll}\n",
       " Known.As & Full.Name & Overall & Potential & Value.in.Euro. & Positions.Played & Best.Position & Nationality & Image.Link & Age & ... & LM.Rating & CM.Rating & RM.Rating & LWB.Rating & CDM.Rating & RWB.Rating & LB.Rating & CB.Rating & RB.Rating & GK.Rating\\\\\n",
       "\\hline\n",
       "\t L. Messi                                           & Lionel Messi                                       & 91                                                 & 91                                                 &  54000000                                          & RW                                                 & CAM                                                & Argentina                                          & https://cdn.sofifa.net/players/158/023/23\\_60.png & 35                                                 & ...                                                & 91                                                 & 88                                                 & 91                                                 & 67                                                 & 66                                                 & 67                                                 & 62                                                 & 53                                                 & 62                                                 & 22                                                \\\\\n",
       "\t K. Benzema                                         & Karim Benzema                                      & 91                                                 & 91                                                 &  64000000                                          & CF,ST                                              & CF                                                 & France                                             & https://cdn.sofifa.net/players/165/153/23\\_60.png & 34                                                 & ...                                                & 89                                                 & 84                                                 & 89                                                 & 67                                                 & 67                                                 & 67                                                 & 63                                                 & 58                                                 & 63                                                 & 21                                                \\\\\n",
       "\t R. Lewandowski                                     & Robert Lewandowski                                 & 91                                                 & 91                                                 &  84000000                                          & ST                                                 & ST                                                 & Poland                                             & https://cdn.sofifa.net/players/188/545/23\\_60.png & 33                                                 & ...                                                & 86                                                 & 83                                                 & 86                                                 & 67                                                 & 69                                                 & 67                                                 & 64                                                 & 63                                                 & 64                                                 & 22                                                \\\\\n",
       "\t K. De Bruyne                                       & Kevin De Bruyne                                    & 91                                                 & 91                                                 & 107500000                                          & CM,CAM                                             & CM                                                 & Belgium                                            & https://cdn.sofifa.net/players/192/985/23\\_60.png & 31                                                 & ...                                                & 91                                                 & 91                                                 & 91                                                 & 82                                                 & 82                                                 & 82                                                 & 78                                                 & 72                                                 & 78                                                 & 24                                                \\\\\n",
       "\t K. MbappÃ©                                         & Kylian MbappÃ©                                     & 91                                                 & 95                                                 & 190500000                                          & ST,LW                                              & ST                                                 & France                                             & https://cdn.sofifa.net/players/231/747/23\\_60.png & 23                                                 & ...                                                & 92                                                 & 84                                                 & 92                                                 & 70                                                 & 66                                                 & 70                                                 & 66                                                 & 57                                                 & 66                                                 & 21                                                \\\\\n",
       "\t M. Salah                                           & Mohamed Salah                                      & 90                                                 & 90                                                 & 115500000                                          & RW                                                 & RW                                                 & Egypt                                              & https://cdn.sofifa.net/players/209/331/23\\_60.png & 30                                                 & ...                                                & 90                                                 & 85                                                 & 90                                                 & 74                                                 & 71                                                 & 74                                                 & 70                                                 & 61                                                 & 70                                                 & 25                                                \\\\\n",
       "\\end{tabular}\n"
      ],
      "text/markdown": [
       "\n",
       "| Known.As | Full.Name | Overall | Potential | Value.in.Euro. | Positions.Played | Best.Position | Nationality | Image.Link | Age | ... | LM.Rating | CM.Rating | RM.Rating | LWB.Rating | CDM.Rating | RWB.Rating | LB.Rating | CB.Rating | RB.Rating | GK.Rating |\n",
       "|---|---|---|---|---|---|---|---|---|---|---|---|---|---|---|---|---|---|---|---|---|\n",
       "| L. Messi                                         | Lionel Messi                                     | 91                                               | 91                                               |  54000000                                        | RW                                               | CAM                                              | Argentina                                        | https://cdn.sofifa.net/players/158/023/23_60.png | 35                                               | ...                                              | 91                                               | 88                                               | 91                                               | 67                                               | 66                                               | 67                                               | 62                                               | 53                                               | 62                                               | 22                                               |\n",
       "| K. Benzema                                       | Karim Benzema                                    | 91                                               | 91                                               |  64000000                                        | CF,ST                                            | CF                                               | France                                           | https://cdn.sofifa.net/players/165/153/23_60.png | 34                                               | ...                                              | 89                                               | 84                                               | 89                                               | 67                                               | 67                                               | 67                                               | 63                                               | 58                                               | 63                                               | 21                                               |\n",
       "| R. Lewandowski                                   | Robert Lewandowski                               | 91                                               | 91                                               |  84000000                                        | ST                                               | ST                                               | Poland                                           | https://cdn.sofifa.net/players/188/545/23_60.png | 33                                               | ...                                              | 86                                               | 83                                               | 86                                               | 67                                               | 69                                               | 67                                               | 64                                               | 63                                               | 64                                               | 22                                               |\n",
       "| K. De Bruyne                                     | Kevin De Bruyne                                  | 91                                               | 91                                               | 107500000                                        | CM,CAM                                           | CM                                               | Belgium                                          | https://cdn.sofifa.net/players/192/985/23_60.png | 31                                               | ...                                              | 91                                               | 91                                               | 91                                               | 82                                               | 82                                               | 82                                               | 78                                               | 72                                               | 78                                               | 24                                               |\n",
       "| K. MbappÃ©                                       | Kylian MbappÃ©                                   | 91                                               | 95                                               | 190500000                                        | ST,LW                                            | ST                                               | France                                           | https://cdn.sofifa.net/players/231/747/23_60.png | 23                                               | ...                                              | 92                                               | 84                                               | 92                                               | 70                                               | 66                                               | 70                                               | 66                                               | 57                                               | 66                                               | 21                                               |\n",
       "| M. Salah                                         | Mohamed Salah                                    | 90                                               | 90                                               | 115500000                                        | RW                                               | RW                                               | Egypt                                            | https://cdn.sofifa.net/players/209/331/23_60.png | 30                                               | ...                                              | 90                                               | 85                                               | 90                                               | 74                                               | 71                                               | 74                                               | 70                                               | 61                                               | 70                                               | 25                                               |\n",
       "\n"
      ],
      "text/plain": [
       "  Known.As       Full.Name          Overall Potential Value.in.Euro.\n",
       "1 L. Messi       Lionel Messi       91      91         54000000     \n",
       "2 K. Benzema     Karim Benzema      91      91         64000000     \n",
       "3 R. Lewandowski Robert Lewandowski 91      91         84000000     \n",
       "4 K. De Bruyne   Kevin De Bruyne    91      91        107500000     \n",
       "5 K. MbappÃ©     Kylian MbappÃ©     91      95        190500000     \n",
       "6 M. Salah       Mohamed Salah      90      90        115500000     \n",
       "  Positions.Played Best.Position Nationality\n",
       "1 RW               CAM           Argentina  \n",
       "2 CF,ST            CF            France     \n",
       "3 ST               ST            Poland     \n",
       "4 CM,CAM           CM            Belgium    \n",
       "5 ST,LW            ST            France     \n",
       "6 RW               RW            Egypt      \n",
       "  Image.Link                                       Age ... LM.Rating CM.Rating\n",
       "1 https://cdn.sofifa.net/players/158/023/23_60.png 35  ... 91        88       \n",
       "2 https://cdn.sofifa.net/players/165/153/23_60.png 34  ... 89        84       \n",
       "3 https://cdn.sofifa.net/players/188/545/23_60.png 33  ... 86        83       \n",
       "4 https://cdn.sofifa.net/players/192/985/23_60.png 31  ... 91        91       \n",
       "5 https://cdn.sofifa.net/players/231/747/23_60.png 23  ... 92        84       \n",
       "6 https://cdn.sofifa.net/players/209/331/23_60.png 30  ... 90        85       \n",
       "  RM.Rating LWB.Rating CDM.Rating RWB.Rating LB.Rating CB.Rating RB.Rating\n",
       "1 91        67         66         67         62        53        62       \n",
       "2 89        67         67         67         63        58        63       \n",
       "3 86        67         69         67         64        63        64       \n",
       "4 91        82         82         82         78        72        78       \n",
       "5 92        70         66         70         66        57        66       \n",
       "6 90        74         71         74         70        61        70       \n",
       "  GK.Rating\n",
       "1 22       \n",
       "2 21       \n",
       "3 22       \n",
       "4 24       \n",
       "5 21       \n",
       "6 25       "
      ]
     },
     "metadata": {},
     "output_type": "display_data"
    }
   ],
   "source": [
    "players = read.csv(\"MH3511_project/fifa23_players_data.csv\")\n",
    "head(players)"
   ]
  },
  {
   "cell_type": "code",
   "execution_count": 3,
   "id": "ccd1a0e2",
   "metadata": {},
   "outputs": [
    {
     "data": {
      "text/html": [
       "<ol class=list-inline>\n",
       "\t<li>'Known.As'</li>\n",
       "\t<li>'Full.Name'</li>\n",
       "\t<li>'Overall'</li>\n",
       "\t<li>'Potential'</li>\n",
       "\t<li>'Value.in.Euro.'</li>\n",
       "\t<li>'Positions.Played'</li>\n",
       "\t<li>'Best.Position'</li>\n",
       "\t<li>'Nationality'</li>\n",
       "\t<li>'Image.Link'</li>\n",
       "\t<li>'Age'</li>\n",
       "\t<li>'Height.in.cm.'</li>\n",
       "\t<li>'Weight.in.kg.'</li>\n",
       "\t<li>'TotalStats'</li>\n",
       "\t<li>'BaseStats'</li>\n",
       "\t<li>'Club.Name'</li>\n",
       "\t<li>'Wage.in.Euro.'</li>\n",
       "\t<li>'Release.Clause'</li>\n",
       "\t<li>'Club.Position'</li>\n",
       "\t<li>'Contract.Until'</li>\n",
       "\t<li>'Club.Jersey.Number'</li>\n",
       "\t<li>'Joined.On'</li>\n",
       "\t<li>'On.Loan'</li>\n",
       "\t<li>'Preferred.Foot'</li>\n",
       "\t<li>'Weak.Foot.Rating'</li>\n",
       "\t<li>'Skill.Moves'</li>\n",
       "\t<li>'International.Reputation'</li>\n",
       "\t<li>'National.Team.Name'</li>\n",
       "\t<li>'National.Team.Image.Link'</li>\n",
       "\t<li>'National.Team.Position'</li>\n",
       "\t<li>'National.Team.Jersey.Number'</li>\n",
       "\t<li>'Attacking.Work.Rate'</li>\n",
       "\t<li>'Defensive.Work.Rate'</li>\n",
       "\t<li>'Pace.Total'</li>\n",
       "\t<li>'Shooting.Total'</li>\n",
       "\t<li>'Passing.Total'</li>\n",
       "\t<li>'Dribbling.Total'</li>\n",
       "\t<li>'Defending.Total'</li>\n",
       "\t<li>'Physicality.Total'</li>\n",
       "\t<li>'Crossing'</li>\n",
       "\t<li>'Finishing'</li>\n",
       "\t<li>'Heading.Accuracy'</li>\n",
       "\t<li>'Short.Passing'</li>\n",
       "\t<li>'Volleys'</li>\n",
       "\t<li>'Dribbling'</li>\n",
       "\t<li>'Curve'</li>\n",
       "\t<li>'Freekick.Accuracy'</li>\n",
       "\t<li>'LongPassing'</li>\n",
       "\t<li>'BallControl'</li>\n",
       "\t<li>'Acceleration'</li>\n",
       "\t<li>'Sprint.Speed'</li>\n",
       "\t<li>'Agility'</li>\n",
       "\t<li>'Reactions'</li>\n",
       "\t<li>'Balance'</li>\n",
       "\t<li>'Shot.Power'</li>\n",
       "\t<li>'Jumping'</li>\n",
       "\t<li>'Stamina'</li>\n",
       "\t<li>'Strength'</li>\n",
       "\t<li>'Long.Shots'</li>\n",
       "\t<li>'Aggression'</li>\n",
       "\t<li>'Interceptions'</li>\n",
       "\t<li>'Positioning'</li>\n",
       "\t<li>'Vision'</li>\n",
       "\t<li>'Penalties'</li>\n",
       "\t<li>'Composure'</li>\n",
       "\t<li>'Marking'</li>\n",
       "\t<li>'Standing.Tackle'</li>\n",
       "\t<li>'Sliding.Tackle'</li>\n",
       "\t<li>'Goalkeeper.Diving'</li>\n",
       "\t<li>'Goalkeeper.Handling'</li>\n",
       "\t<li>'GoalkeeperKicking'</li>\n",
       "\t<li>'Goalkeeper.Positioning'</li>\n",
       "\t<li>'Goalkeeper.Reflexes'</li>\n",
       "\t<li>'ST.Rating'</li>\n",
       "\t<li>'LW.Rating'</li>\n",
       "\t<li>'LF.Rating'</li>\n",
       "\t<li>'CF.Rating'</li>\n",
       "\t<li>'RF.Rating'</li>\n",
       "\t<li>'RW.Rating'</li>\n",
       "\t<li>'CAM.Rating'</li>\n",
       "\t<li>'LM.Rating'</li>\n",
       "\t<li>'CM.Rating'</li>\n",
       "\t<li>'RM.Rating'</li>\n",
       "\t<li>'LWB.Rating'</li>\n",
       "\t<li>'CDM.Rating'</li>\n",
       "\t<li>'RWB.Rating'</li>\n",
       "\t<li>'LB.Rating'</li>\n",
       "\t<li>'CB.Rating'</li>\n",
       "\t<li>'RB.Rating'</li>\n",
       "\t<li>'GK.Rating'</li>\n",
       "</ol>\n"
      ],
      "text/latex": [
       "\\begin{enumerate*}\n",
       "\\item 'Known.As'\n",
       "\\item 'Full.Name'\n",
       "\\item 'Overall'\n",
       "\\item 'Potential'\n",
       "\\item 'Value.in.Euro.'\n",
       "\\item 'Positions.Played'\n",
       "\\item 'Best.Position'\n",
       "\\item 'Nationality'\n",
       "\\item 'Image.Link'\n",
       "\\item 'Age'\n",
       "\\item 'Height.in.cm.'\n",
       "\\item 'Weight.in.kg.'\n",
       "\\item 'TotalStats'\n",
       "\\item 'BaseStats'\n",
       "\\item 'Club.Name'\n",
       "\\item 'Wage.in.Euro.'\n",
       "\\item 'Release.Clause'\n",
       "\\item 'Club.Position'\n",
       "\\item 'Contract.Until'\n",
       "\\item 'Club.Jersey.Number'\n",
       "\\item 'Joined.On'\n",
       "\\item 'On.Loan'\n",
       "\\item 'Preferred.Foot'\n",
       "\\item 'Weak.Foot.Rating'\n",
       "\\item 'Skill.Moves'\n",
       "\\item 'International.Reputation'\n",
       "\\item 'National.Team.Name'\n",
       "\\item 'National.Team.Image.Link'\n",
       "\\item 'National.Team.Position'\n",
       "\\item 'National.Team.Jersey.Number'\n",
       "\\item 'Attacking.Work.Rate'\n",
       "\\item 'Defensive.Work.Rate'\n",
       "\\item 'Pace.Total'\n",
       "\\item 'Shooting.Total'\n",
       "\\item 'Passing.Total'\n",
       "\\item 'Dribbling.Total'\n",
       "\\item 'Defending.Total'\n",
       "\\item 'Physicality.Total'\n",
       "\\item 'Crossing'\n",
       "\\item 'Finishing'\n",
       "\\item 'Heading.Accuracy'\n",
       "\\item 'Short.Passing'\n",
       "\\item 'Volleys'\n",
       "\\item 'Dribbling'\n",
       "\\item 'Curve'\n",
       "\\item 'Freekick.Accuracy'\n",
       "\\item 'LongPassing'\n",
       "\\item 'BallControl'\n",
       "\\item 'Acceleration'\n",
       "\\item 'Sprint.Speed'\n",
       "\\item 'Agility'\n",
       "\\item 'Reactions'\n",
       "\\item 'Balance'\n",
       "\\item 'Shot.Power'\n",
       "\\item 'Jumping'\n",
       "\\item 'Stamina'\n",
       "\\item 'Strength'\n",
       "\\item 'Long.Shots'\n",
       "\\item 'Aggression'\n",
       "\\item 'Interceptions'\n",
       "\\item 'Positioning'\n",
       "\\item 'Vision'\n",
       "\\item 'Penalties'\n",
       "\\item 'Composure'\n",
       "\\item 'Marking'\n",
       "\\item 'Standing.Tackle'\n",
       "\\item 'Sliding.Tackle'\n",
       "\\item 'Goalkeeper.Diving'\n",
       "\\item 'Goalkeeper.Handling'\n",
       "\\item 'GoalkeeperKicking'\n",
       "\\item 'Goalkeeper.Positioning'\n",
       "\\item 'Goalkeeper.Reflexes'\n",
       "\\item 'ST.Rating'\n",
       "\\item 'LW.Rating'\n",
       "\\item 'LF.Rating'\n",
       "\\item 'CF.Rating'\n",
       "\\item 'RF.Rating'\n",
       "\\item 'RW.Rating'\n",
       "\\item 'CAM.Rating'\n",
       "\\item 'LM.Rating'\n",
       "\\item 'CM.Rating'\n",
       "\\item 'RM.Rating'\n",
       "\\item 'LWB.Rating'\n",
       "\\item 'CDM.Rating'\n",
       "\\item 'RWB.Rating'\n",
       "\\item 'LB.Rating'\n",
       "\\item 'CB.Rating'\n",
       "\\item 'RB.Rating'\n",
       "\\item 'GK.Rating'\n",
       "\\end{enumerate*}\n"
      ],
      "text/markdown": [
       "1. 'Known.As'\n",
       "2. 'Full.Name'\n",
       "3. 'Overall'\n",
       "4. 'Potential'\n",
       "5. 'Value.in.Euro.'\n",
       "6. 'Positions.Played'\n",
       "7. 'Best.Position'\n",
       "8. 'Nationality'\n",
       "9. 'Image.Link'\n",
       "10. 'Age'\n",
       "11. 'Height.in.cm.'\n",
       "12. 'Weight.in.kg.'\n",
       "13. 'TotalStats'\n",
       "14. 'BaseStats'\n",
       "15. 'Club.Name'\n",
       "16. 'Wage.in.Euro.'\n",
       "17. 'Release.Clause'\n",
       "18. 'Club.Position'\n",
       "19. 'Contract.Until'\n",
       "20. 'Club.Jersey.Number'\n",
       "21. 'Joined.On'\n",
       "22. 'On.Loan'\n",
       "23. 'Preferred.Foot'\n",
       "24. 'Weak.Foot.Rating'\n",
       "25. 'Skill.Moves'\n",
       "26. 'International.Reputation'\n",
       "27. 'National.Team.Name'\n",
       "28. 'National.Team.Image.Link'\n",
       "29. 'National.Team.Position'\n",
       "30. 'National.Team.Jersey.Number'\n",
       "31. 'Attacking.Work.Rate'\n",
       "32. 'Defensive.Work.Rate'\n",
       "33. 'Pace.Total'\n",
       "34. 'Shooting.Total'\n",
       "35. 'Passing.Total'\n",
       "36. 'Dribbling.Total'\n",
       "37. 'Defending.Total'\n",
       "38. 'Physicality.Total'\n",
       "39. 'Crossing'\n",
       "40. 'Finishing'\n",
       "41. 'Heading.Accuracy'\n",
       "42. 'Short.Passing'\n",
       "43. 'Volleys'\n",
       "44. 'Dribbling'\n",
       "45. 'Curve'\n",
       "46. 'Freekick.Accuracy'\n",
       "47. 'LongPassing'\n",
       "48. 'BallControl'\n",
       "49. 'Acceleration'\n",
       "50. 'Sprint.Speed'\n",
       "51. 'Agility'\n",
       "52. 'Reactions'\n",
       "53. 'Balance'\n",
       "54. 'Shot.Power'\n",
       "55. 'Jumping'\n",
       "56. 'Stamina'\n",
       "57. 'Strength'\n",
       "58. 'Long.Shots'\n",
       "59. 'Aggression'\n",
       "60. 'Interceptions'\n",
       "61. 'Positioning'\n",
       "62. 'Vision'\n",
       "63. 'Penalties'\n",
       "64. 'Composure'\n",
       "65. 'Marking'\n",
       "66. 'Standing.Tackle'\n",
       "67. 'Sliding.Tackle'\n",
       "68. 'Goalkeeper.Diving'\n",
       "69. 'Goalkeeper.Handling'\n",
       "70. 'GoalkeeperKicking'\n",
       "71. 'Goalkeeper.Positioning'\n",
       "72. 'Goalkeeper.Reflexes'\n",
       "73. 'ST.Rating'\n",
       "74. 'LW.Rating'\n",
       "75. 'LF.Rating'\n",
       "76. 'CF.Rating'\n",
       "77. 'RF.Rating'\n",
       "78. 'RW.Rating'\n",
       "79. 'CAM.Rating'\n",
       "80. 'LM.Rating'\n",
       "81. 'CM.Rating'\n",
       "82. 'RM.Rating'\n",
       "83. 'LWB.Rating'\n",
       "84. 'CDM.Rating'\n",
       "85. 'RWB.Rating'\n",
       "86. 'LB.Rating'\n",
       "87. 'CB.Rating'\n",
       "88. 'RB.Rating'\n",
       "89. 'GK.Rating'\n",
       "\n",
       "\n"
      ],
      "text/plain": [
       " [1] \"Known.As\"                    \"Full.Name\"                  \n",
       " [3] \"Overall\"                     \"Potential\"                  \n",
       " [5] \"Value.in.Euro.\"              \"Positions.Played\"           \n",
       " [7] \"Best.Position\"               \"Nationality\"                \n",
       " [9] \"Image.Link\"                  \"Age\"                        \n",
       "[11] \"Height.in.cm.\"               \"Weight.in.kg.\"              \n",
       "[13] \"TotalStats\"                  \"BaseStats\"                  \n",
       "[15] \"Club.Name\"                   \"Wage.in.Euro.\"              \n",
       "[17] \"Release.Clause\"              \"Club.Position\"              \n",
       "[19] \"Contract.Until\"              \"Club.Jersey.Number\"         \n",
       "[21] \"Joined.On\"                   \"On.Loan\"                    \n",
       "[23] \"Preferred.Foot\"              \"Weak.Foot.Rating\"           \n",
       "[25] \"Skill.Moves\"                 \"International.Reputation\"   \n",
       "[27] \"National.Team.Name\"          \"National.Team.Image.Link\"   \n",
       "[29] \"National.Team.Position\"      \"National.Team.Jersey.Number\"\n",
       "[31] \"Attacking.Work.Rate\"         \"Defensive.Work.Rate\"        \n",
       "[33] \"Pace.Total\"                  \"Shooting.Total\"             \n",
       "[35] \"Passing.Total\"               \"Dribbling.Total\"            \n",
       "[37] \"Defending.Total\"             \"Physicality.Total\"          \n",
       "[39] \"Crossing\"                    \"Finishing\"                  \n",
       "[41] \"Heading.Accuracy\"            \"Short.Passing\"              \n",
       "[43] \"Volleys\"                     \"Dribbling\"                  \n",
       "[45] \"Curve\"                       \"Freekick.Accuracy\"          \n",
       "[47] \"LongPassing\"                 \"BallControl\"                \n",
       "[49] \"Acceleration\"                \"Sprint.Speed\"               \n",
       "[51] \"Agility\"                     \"Reactions\"                  \n",
       "[53] \"Balance\"                     \"Shot.Power\"                 \n",
       "[55] \"Jumping\"                     \"Stamina\"                    \n",
       "[57] \"Strength\"                    \"Long.Shots\"                 \n",
       "[59] \"Aggression\"                  \"Interceptions\"              \n",
       "[61] \"Positioning\"                 \"Vision\"                     \n",
       "[63] \"Penalties\"                   \"Composure\"                  \n",
       "[65] \"Marking\"                     \"Standing.Tackle\"            \n",
       "[67] \"Sliding.Tackle\"              \"Goalkeeper.Diving\"          \n",
       "[69] \"Goalkeeper.Handling\"         \"GoalkeeperKicking\"          \n",
       "[71] \"Goalkeeper.Positioning\"      \"Goalkeeper.Reflexes\"        \n",
       "[73] \"ST.Rating\"                   \"LW.Rating\"                  \n",
       "[75] \"LF.Rating\"                   \"CF.Rating\"                  \n",
       "[77] \"RF.Rating\"                   \"RW.Rating\"                  \n",
       "[79] \"CAM.Rating\"                  \"LM.Rating\"                  \n",
       "[81] \"CM.Rating\"                   \"RM.Rating\"                  \n",
       "[83] \"LWB.Rating\"                  \"CDM.Rating\"                 \n",
       "[85] \"RWB.Rating\"                  \"LB.Rating\"                  \n",
       "[87] \"CB.Rating\"                   \"RB.Rating\"                  \n",
       "[89] \"GK.Rating\"                  "
      ]
     },
     "metadata": {},
     "output_type": "display_data"
    }
   ],
   "source": [
    "colnames(players)"
   ]
  },
  {
   "cell_type": "markdown",
   "id": "d7ca5047",
   "metadata": {},
   "source": [
    "## Agility by Best Position"
   ]
  },
  {
   "cell_type": "code",
   "execution_count": 4,
   "id": "f1ec1b80",
   "metadata": {
    "scrolled": true
   },
   "outputs": [
    {
     "data": {
      "image/png": "[encoded data removed]",
      "text/plain": [
       "plot without title"
      ]
     },
     "metadata": {},
     "output_type": "display_data"
    }
   ],
   "source": [
    "options(repr.plot.width=9, repr.plot.height=5)\n",
    "df = players[,c('Best.Position', 'Agility')]\n",
    "ggplot(df,  aes(x=factor(Best.Position), y=Agility)) + geom_boxplot() "
   ]
  },
  {
   "cell_type": "markdown",
   "id": "c2c8fe5c",
   "metadata": {},
   "source": [
    "### All Positions"
   ]
  },
  {
   "cell_type": "code",
   "execution_count": 5,
   "id": "0a124774",
   "metadata": {},
   "outputs": [
    {
     "data": {
      "text/html": [
       "<table>\n",
       "<thead><tr><th scope=col>Best.Position</th><th scope=col>Agility</th></tr></thead>\n",
       "<tbody>\n",
       "\t<tr><td>CAM</td><td>91 </td></tr>\n",
       "\t<tr><td>CF </td><td>78 </td></tr>\n",
       "\t<tr><td>ST </td><td>77 </td></tr>\n",
       "\t<tr><td>CM </td><td>76 </td></tr>\n",
       "\t<tr><td>ST </td><td>93 </td></tr>\n",
       "\t<tr><td>RW </td><td>90 </td></tr>\n",
       "</tbody>\n",
       "</table>\n"
      ],
      "text/latex": [
       "\\begin{tabular}{r|ll}\n",
       " Best.Position & Agility\\\\\n",
       "\\hline\n",
       "\t CAM & 91 \\\\\n",
       "\t CF  & 78 \\\\\n",
       "\t ST  & 77 \\\\\n",
       "\t CM  & 76 \\\\\n",
       "\t ST  & 93 \\\\\n",
       "\t RW  & 90 \\\\\n",
       "\\end{tabular}\n"
      ],
      "text/markdown": [
       "\n",
       "| Best.Position | Agility |\n",
       "|---|---|\n",
       "| CAM | 91  |\n",
       "| CF  | 78  |\n",
       "| ST  | 77  |\n",
       "| CM  | 76  |\n",
       "| ST  | 93  |\n",
       "| RW  | 90  |\n",
       "\n"
      ],
      "text/plain": [
       "  Best.Position Agility\n",
       "1 CAM           91     \n",
       "2 CF            78     \n",
       "3 ST            77     \n",
       "4 CM            76     \n",
       "5 ST            93     \n",
       "6 RW            90     "
      ]
     },
     "metadata": {},
     "output_type": "display_data"
    }
   ],
   "source": [
    "df1 = players[,c('Best.Position', 'Agility')]\n",
    "group = levels(df1$Best.Position)\n",
    "head(df1)"
   ]
  },
  {
   "cell_type": "markdown",
   "id": "1a9ea240",
   "metadata": {},
   "source": [
    "### Normality Assumption Check"
   ]
  },
  {
   "cell_type": "code",
   "execution_count": 6,
   "id": "5ed58ab0",
   "metadata": {},
   "outputs": [
    {
     "data": {
      "image/png": "[encoded data removed]",
      "text/plain": [
       "Plot with title \"ST\""
      ]
     },
     "metadata": {},
     "output_type": "display_data"
    }
   ],
   "source": [
    "options(repr.plot.width=9, repr.plot.height=15)\n",
    "par(mfrow=c(5,3))\n",
    "for (pos in group){\n",
    "    qqnorm(df1[df1['Best.Position'] == pos, 'Agility'], main=pos)\n",
    "    qqline(df1[df1['Best.Position'] == pos, 'Agility'], col='red')\n",
    "}"
   ]
  },
  {
   "cell_type": "markdown",
   "id": "0bb93165",
   "metadata": {},
   "source": [
    "The Q-Q plot shows a largely straight-line pattern if it is from a normal distribution. From the above figure, not all Q-Q plots are in a straight-line. Let's do Shapiro-Wilk test to get more conclusive evidence."
   ]
  },
  {
   "cell_type": "code",
   "execution_count": 7,
   "id": "9254d04a",
   "metadata": {},
   "outputs": [
    {
     "data": {
      "text/html": [
       "<table>\n",
       "<thead><tr><th></th><th scope=col>group</th><th scope=col>length</th><th scope=col>pvalue</th></tr></thead>\n",
       "<tbody>\n",
       "\t<tr><th scope=row>1</th><td>CAM  </td><td>2311 </td><td>0.000</td></tr>\n",
       "\t<tr><th scope=row>2</th><td>CB   </td><td>3658 </td><td>0.000</td></tr>\n",
       "\t<tr><th scope=row>3</th><td>CDM  </td><td>1403 </td><td>0.000</td></tr>\n",
       "\t<tr><th scope=row>4</th><td>CF   </td><td>  70 </td><td>0.001</td></tr>\n",
       "\t<tr><th scope=row>5</th><td>CM   </td><td>1104 </td><td>0.001</td></tr>\n",
       "\t<tr><th scope=row>6</th><td>GK   </td><td>2061 </td><td>0.000</td></tr>\n",
       "\t<tr><th scope=row>7</th><td>LB   </td><td> 864 </td><td>0.019</td></tr>\n",
       "\t<tr><th scope=row>8</th><td>LM   </td><td> 797 </td><td>0.000</td></tr>\n",
       "\t<tr><th scope=row>9</th><td>LW   </td><td> 215 </td><td>0.017</td></tr>\n",
       "\t<tr><th scope=row>11</th><td>RB   </td><td> 925 </td><td>0.000</td></tr>\n",
       "\t<tr><th scope=row>12</th><td>RM   </td><td>1443 </td><td>0.000</td></tr>\n",
       "\t<tr><th scope=row>13</th><td>RW   </td><td> 297 </td><td>0.000</td></tr>\n",
       "\t<tr><th scope=row>15</th><td>ST   </td><td>2565 </td><td>0.000</td></tr>\n",
       "</tbody>\n",
       "</table>\n"
      ],
      "text/latex": [
       "\\begin{tabular}{r|lll}\n",
       "  & group & length & pvalue\\\\\n",
       "\\hline\n",
       "\t1 & CAM   & 2311  & 0.000\\\\\n",
       "\t2 & CB    & 3658  & 0.000\\\\\n",
       "\t3 & CDM   & 1403  & 0.000\\\\\n",
       "\t4 & CF    &   70  & 0.001\\\\\n",
       "\t5 & CM    & 1104  & 0.001\\\\\n",
       "\t6 & GK    & 2061  & 0.000\\\\\n",
       "\t7 & LB    &  864  & 0.019\\\\\n",
       "\t8 & LM    &  797  & 0.000\\\\\n",
       "\t9 & LW    &  215  & 0.017\\\\\n",
       "\t11 & RB    &  925  & 0.000\\\\\n",
       "\t12 & RM    & 1443  & 0.000\\\\\n",
       "\t13 & RW    &  297  & 0.000\\\\\n",
       "\t15 & ST    & 2565  & 0.000\\\\\n",
       "\\end{tabular}\n"
      ],
      "text/markdown": [
       "\n",
       "| <!--/--> | group | length | pvalue |\n",
       "|---|---|---|---|\n",
       "| 1 | CAM   | 2311  | 0.000 |\n",
       "| 2 | CB    | 3658  | 0.000 |\n",
       "| 3 | CDM   | 1403  | 0.000 |\n",
       "| 4 | CF    |   70  | 0.001 |\n",
       "| 5 | CM    | 1104  | 0.001 |\n",
       "| 6 | GK    | 2061  | 0.000 |\n",
       "| 7 | LB    |  864  | 0.019 |\n",
       "| 8 | LM    |  797  | 0.000 |\n",
       "| 9 | LW    |  215  | 0.017 |\n",
       "| 11 | RB    |  925  | 0.000 |\n",
       "| 12 | RM    | 1443  | 0.000 |\n",
       "| 13 | RW    |  297  | 0.000 |\n",
       "| 15 | ST    | 2565  | 0.000 |\n",
       "\n"
      ],
      "text/plain": [
       "   group length pvalue\n",
       "1  CAM   2311   0.000 \n",
       "2  CB    3658   0.000 \n",
       "3  CDM   1403   0.000 \n",
       "4  CF      70   0.001 \n",
       "5  CM    1104   0.001 \n",
       "6  GK    2061   0.000 \n",
       "7  LB     864   0.019 \n",
       "8  LM     797   0.000 \n",
       "9  LW     215   0.017 \n",
       "11 RB     925   0.000 \n",
       "12 RM    1443   0.000 \n",
       "13 RW     297   0.000 \n",
       "15 ST    2565   0.000 "
      ]
     },
     "metadata": {},
     "output_type": "display_data"
    }
   ],
   "source": [
    "pvalue = vector()\n",
    "length = vector()\n",
    "for (pos in group){\n",
    "    x = df1[df1['Best.Position'] == pos, 'Agility']\n",
    "    pvalue = append(pvalue, round(shapiro.test(x)[[2]], 3))\n",
    "    length = append(length, length(x))\n",
    "}\n",
    "normaldf = data.frame(group, length, pvalue)\n",
    "normaldf[normaldf['pvalue'] <= 0.05,]"
   ]
  },
  {
   "cell_type": "markdown",
   "id": "f7856bd9",
   "metadata": {},
   "source": [
    "At 5% significance level, none of the groups come from a normal distribution. However, as each sample size is larger than 30, by using Central Limit Theorem, we can approximate each distribution to be normal. Hence, the normality assumption is satisfied for large sample size."
   ]
  },
  {
   "cell_type": "markdown",
   "id": "c1536327",
   "metadata": {},
   "source": [
    "### Homogeneity of Variance Assumption Check"
   ]
  },
  {
   "cell_type": "code",
   "execution_count": 8,
   "id": "ac483f76",
   "metadata": {},
   "outputs": [],
   "source": [
    "groupC <- combn(group, 2, simplify=FALSE)"
   ]
  },
  {
   "cell_type": "code",
   "execution_count": 9,
   "id": "1988ad3c",
   "metadata": {},
   "outputs": [
    {
     "data": {
      "text/html": [
       "<table>\n",
       "<thead><tr><th></th><th scope=col>pair</th><th scope=col>pvalue</th></tr></thead>\n",
       "<tbody>\n",
       "\t<tr><th scope=row>2</th><td>CAM CDM</td><td>0.576  </td></tr>\n",
       "\t<tr><th scope=row>3</th><td>CAM CF </td><td>0.289  </td></tr>\n",
       "\t<tr><th scope=row>11</th><td>CAM RM </td><td>0.237  </td></tr>\n",
       "\t<tr><th scope=row>16</th><td>CB CF  </td><td>0.477  </td></tr>\n",
       "\t<tr><th scope=row>18</th><td>CB GK  </td><td>0.954  </td></tr>\n",
       "\t<tr><th scope=row>28</th><td>CDM CF </td><td>0.226  </td></tr>\n",
       "\t<tr><th scope=row>29</th><td>CDM CM </td><td>0.086  </td></tr>\n",
       "\t<tr><th scope=row>36</th><td>CDM RM </td><td>0.578  </td></tr>\n",
       "\t<tr><th scope=row>40</th><td>CF CM  </td><td>0.071  </td></tr>\n",
       "\t<tr><th scope=row>41</th><td>CF GK  </td><td>0.472  </td></tr>\n",
       "\t<tr><th scope=row>46</th><td>CF RB  </td><td>0.055  </td></tr>\n",
       "\t<tr><th scope=row>47</th><td>CF RM  </td><td>0.164  </td></tr>\n",
       "\t<tr><th scope=row>50</th><td>CF ST  </td><td>0.897  </td></tr>\n",
       "\t<tr><th scope=row>52</th><td>CM LB  </td><td>0.067  </td></tr>\n",
       "\t<tr><th scope=row>53</th><td>CM LM  </td><td>0.430  </td></tr>\n",
       "\t<tr><th scope=row>56</th><td>CM RB  </td><td>0.747  </td></tr>\n",
       "\t<tr><th scope=row>57</th><td>CM RM  </td><td>0.226  </td></tr>\n",
       "\t<tr><th scope=row>70</th><td>LB LM  </td><td>0.342  </td></tr>\n",
       "\t<tr><th scope=row>71</th><td>LB LW  </td><td>0.066  </td></tr>\n",
       "\t<tr><th scope=row>73</th><td>LB RB  </td><td>0.145  </td></tr>\n",
       "\t<tr><th scope=row>80</th><td>LM RB  </td><td>0.644  </td></tr>\n",
       "\t<tr><th scope=row>81</th><td>LM RM  </td><td>0.055  </td></tr>\n",
       "\t<tr><th scope=row>85</th><td>LW LWB </td><td>0.964  </td></tr>\n",
       "\t<tr><th scope=row>88</th><td>LW RW  </td><td>0.967  </td></tr>\n",
       "\t<tr><th scope=row>89</th><td>LW RWB </td><td>0.866  </td></tr>\n",
       "\t<tr><th scope=row>93</th><td>LWB RW </td><td>0.999  </td></tr>\n",
       "\t<tr><th scope=row>94</th><td>LWB RWB</td><td>0.796  </td></tr>\n",
       "\t<tr><th scope=row>96</th><td>RB RM  </td><td>0.137  </td></tr>\n",
       "\t<tr><th scope=row>103</th><td>RW RWB </td><td>0.814  </td></tr>\n",
       "</tbody>\n",
       "</table>\n"
      ],
      "text/latex": [
       "\\begin{tabular}{r|ll}\n",
       "  & pair & pvalue\\\\\n",
       "\\hline\n",
       "\t2 & CAM CDM & 0.576  \\\\\n",
       "\t3 & CAM CF  & 0.289  \\\\\n",
       "\t11 & CAM RM  & 0.237  \\\\\n",
       "\t16 & CB CF   & 0.477  \\\\\n",
       "\t18 & CB GK   & 0.954  \\\\\n",
       "\t28 & CDM CF  & 0.226  \\\\\n",
       "\t29 & CDM CM  & 0.086  \\\\\n",
       "\t36 & CDM RM  & 0.578  \\\\\n",
       "\t40 & CF CM   & 0.071  \\\\\n",
       "\t41 & CF GK   & 0.472  \\\\\n",
       "\t46 & CF RB   & 0.055  \\\\\n",
       "\t47 & CF RM   & 0.164  \\\\\n",
       "\t50 & CF ST   & 0.897  \\\\\n",
       "\t52 & CM LB   & 0.067  \\\\\n",
       "\t53 & CM LM   & 0.430  \\\\\n",
       "\t56 & CM RB   & 0.747  \\\\\n",
       "\t57 & CM RM   & 0.226  \\\\\n",
       "\t70 & LB LM   & 0.342  \\\\\n",
       "\t71 & LB LW   & 0.066  \\\\\n",
       "\t73 & LB RB   & 0.145  \\\\\n",
       "\t80 & LM RB   & 0.644  \\\\\n",
       "\t81 & LM RM   & 0.055  \\\\\n",
       "\t85 & LW LWB  & 0.964  \\\\\n",
       "\t88 & LW RW   & 0.967  \\\\\n",
       "\t89 & LW RWB  & 0.866  \\\\\n",
       "\t93 & LWB RW  & 0.999  \\\\\n",
       "\t94 & LWB RWB & 0.796  \\\\\n",
       "\t96 & RB RM   & 0.137  \\\\\n",
       "\t103 & RW RWB  & 0.814  \\\\\n",
       "\\end{tabular}\n"
      ],
      "text/markdown": [
       "\n",
       "| <!--/--> | pair | pvalue |\n",
       "|---|---|---|\n",
       "| 2 | CAM CDM | 0.576   |\n",
       "| 3 | CAM CF  | 0.289   |\n",
       "| 11 | CAM RM  | 0.237   |\n",
       "| 16 | CB CF   | 0.477   |\n",
       "| 18 | CB GK   | 0.954   |\n",
       "| 28 | CDM CF  | 0.226   |\n",
       "| 29 | CDM CM  | 0.086   |\n",
       "| 36 | CDM RM  | 0.578   |\n",
       "| 40 | CF CM   | 0.071   |\n",
       "| 41 | CF GK   | 0.472   |\n",
       "| 46 | CF RB   | 0.055   |\n",
       "| 47 | CF RM   | 0.164   |\n",
       "| 50 | CF ST   | 0.897   |\n",
       "| 52 | CM LB   | 0.067   |\n",
       "| 53 | CM LM   | 0.430   |\n",
       "| 56 | CM RB   | 0.747   |\n",
       "| 57 | CM RM   | 0.226   |\n",
       "| 70 | LB LM   | 0.342   |\n",
       "| 71 | LB LW   | 0.066   |\n",
       "| 73 | LB RB   | 0.145   |\n",
       "| 80 | LM RB   | 0.644   |\n",
       "| 81 | LM RM   | 0.055   |\n",
       "| 85 | LW LWB  | 0.964   |\n",
       "| 88 | LW RW   | 0.967   |\n",
       "| 89 | LW RWB  | 0.866   |\n",
       "| 93 | LWB RW  | 0.999   |\n",
       "| 94 | LWB RWB | 0.796   |\n",
       "| 96 | RB RM   | 0.137   |\n",
       "| 103 | RW RWB  | 0.814   |\n",
       "\n"
      ],
      "text/plain": [
       "    pair    pvalue\n",
       "2   CAM CDM 0.576 \n",
       "3   CAM CF  0.289 \n",
       "11  CAM RM  0.237 \n",
       "16  CB CF   0.477 \n",
       "18  CB GK   0.954 \n",
       "28  CDM CF  0.226 \n",
       "29  CDM CM  0.086 \n",
       "36  CDM RM  0.578 \n",
       "40  CF CM   0.071 \n",
       "41  CF GK   0.472 \n",
       "46  CF RB   0.055 \n",
       "47  CF RM   0.164 \n",
       "50  CF ST   0.897 \n",
       "52  CM LB   0.067 \n",
       "53  CM LM   0.430 \n",
       "56  CM RB   0.747 \n",
       "57  CM RM   0.226 \n",
       "70  LB LM   0.342 \n",
       "71  LB LW   0.066 \n",
       "73  LB RB   0.145 \n",
       "80  LM RB   0.644 \n",
       "81  LM RM   0.055 \n",
       "85  LW LWB  0.964 \n",
       "88  LW RW   0.967 \n",
       "89  LW RWB  0.866 \n",
       "93  LWB RW  0.999 \n",
       "94  LWB RWB 0.796 \n",
       "96  RB RM   0.137 \n",
       "103 RW RWB  0.814 "
      ]
     },
     "metadata": {},
     "output_type": "display_data"
    }
   ],
   "source": [
    "pvalue = vector()\n",
    "pair = vector()\n",
    "for (i in groupC){\n",
    "    pos = unlist(i)\n",
    "    x = df1[df1['Best.Position'] == pos[1], 'Agility']\n",
    "    y = df1[df1['Best.Position'] == pos[2], 'Agility']\n",
    "    pair = append(pair, paste(pos[1], pos[2]))\n",
    "    pvalue = append(pvalue, round(var.test(x, y)[[3]], 3))\n",
    "}\n",
    "variancedf = data.frame(pair, pvalue)\n",
    "# Select combinations which have the same variance\n",
    "variancedf[variancedf['pvalue'] > 0.05,]"
   ]
  },
  {
   "cell_type": "markdown",
   "id": "a6c94806",
   "metadata": {},
   "source": [
    "Based on the results, we will only consider LW, RW, LWB, and RWB for ANOVA as their combinations fulfill all assumptions."
   ]
  },
  {
   "cell_type": "code",
   "execution_count": 10,
   "id": "c562bb51",
   "metadata": {},
   "outputs": [
    {
     "data": {
      "text/html": [
       "<table>\n",
       "<thead><tr><th></th><th scope=col>Best.Position</th><th scope=col>Agility</th></tr></thead>\n",
       "<tbody>\n",
       "\t<tr><th scope=row>6</th><td>RW</td><td>90</td></tr>\n",
       "\t<tr><th scope=row>12</th><td>LW</td><td>93</td></tr>\n",
       "\t<tr><th scope=row>13</th><td>LW</td><td>85</td></tr>\n",
       "\t<tr><th scope=row>48</th><td>LW</td><td>94</td></tr>\n",
       "\t<tr><th scope=row>49</th><td>RW</td><td>92</td></tr>\n",
       "\t<tr><th scope=row>64</th><td>LW</td><td>94</td></tr>\n",
       "</tbody>\n",
       "</table>\n"
      ],
      "text/latex": [
       "\\begin{tabular}{r|ll}\n",
       "  & Best.Position & Agility\\\\\n",
       "\\hline\n",
       "\t6 & RW & 90\\\\\n",
       "\t12 & LW & 93\\\\\n",
       "\t13 & LW & 85\\\\\n",
       "\t48 & LW & 94\\\\\n",
       "\t49 & RW & 92\\\\\n",
       "\t64 & LW & 94\\\\\n",
       "\\end{tabular}\n"
      ],
      "text/markdown": [
       "\n",
       "| <!--/--> | Best.Position | Agility |\n",
       "|---|---|---|\n",
       "| 6 | RW | 90 |\n",
       "| 12 | LW | 93 |\n",
       "| 13 | LW | 85 |\n",
       "| 48 | LW | 94 |\n",
       "| 49 | RW | 92 |\n",
       "| 64 | LW | 94 |\n",
       "\n"
      ],
      "text/plain": [
       "   Best.Position Agility\n",
       "6  RW            90     \n",
       "12 LW            93     \n",
       "13 LW            85     \n",
       "48 LW            94     \n",
       "49 RW            92     \n",
       "64 LW            94     "
      ]
     },
     "metadata": {},
     "output_type": "display_data"
    }
   ],
   "source": [
    "group <- c('LW', 'RW', 'LWB', 'RWB')\n",
    "df1 = players[(players['Best.Position'] == 'LWB') |\n",
    "              (players['Best.Position'] == 'RWB') |\n",
    "              (players['Best.Position'] == 'LW') |\n",
    "              (players['Best.Position'] == 'RW'),\n",
    "               c('Best.Position', 'Agility')]\n",
    "df1 = droplevels(df1) # To change to new levels\n",
    "head(df1)"
   ]
  },
  {
   "cell_type": "markdown",
   "id": "646396b1",
   "metadata": {},
   "source": [
    "### ANOVA Test"
   ]
  },
  {
   "cell_type": "code",
   "execution_count": 11,
   "id": "de273efb",
   "metadata": {},
   "outputs": [
    {
     "data": {
      "text/html": [
       "53.2336332808126"
      ],
      "text/latex": [
       "53.2336332808126"
      ],
      "text/markdown": [
       "53.2336332808126"
      ],
      "text/plain": [
       "[1] 53.23363"
      ]
     },
     "metadata": {},
     "output_type": "display_data"
    },
    {
     "data": {
      "text/html": [
       "7726.94041508318"
      ],
      "text/latex": [
       "7726.94041508318"
      ],
      "text/markdown": [
       "7726.94041508318"
      ],
      "text/plain": [
       "[1] 7726.94"
      ]
     },
     "metadata": {},
     "output_type": "display_data"
    },
    {
     "data": {
      "text/html": [
       "145.151475465197"
      ],
      "text/latex": [
       "145.151475465197"
      ],
      "text/markdown": [
       "145.151475465197"
      ],
      "text/plain": [
       "[1] 145.1515"
      ]
     },
     "metadata": {},
     "output_type": "display_data"
    }
   ],
   "source": [
    "n = nrow(df1); k = length(group)\n",
    "Sw2 = 0; Sb2 = 0\n",
    "Xbar = mean(df1$Agility)\n",
    "for (pos in group){\n",
    "    Xi = df1[df1['Best.Position'] == pos, 'Agility']\n",
    "    Sw2 = Sw2 + sum((Xi - mean(Xi))^2)\n",
    "    Sb2 = Sb2 + length(Xi)*((mean(Xi) - Xbar)^2)\n",
    "}\n",
    "Sw2 = Sw2/(n-k)\n",
    "Sb2 = Sb2/(k-1)\n",
    "F = Sb2/Sw2\n",
    "Sw2;Sb2;F"
   ]
  },
  {
   "cell_type": "code",
   "execution_count": 12,
   "id": "12982912",
   "metadata": {},
   "outputs": [
    {
     "data": {
      "text/html": [
       "23180.8212452495"
      ],
      "text/latex": [
       "23180.8212452495"
      ],
      "text/markdown": [
       "23180.8212452495"
      ],
      "text/plain": [
       "[1] 23180.82"
      ]
     },
     "metadata": {},
     "output_type": "display_data"
    },
    {
     "data": {
      "text/html": [
       "71013.666796604"
      ],
      "text/latex": [
       "71013.666796604"
      ],
      "text/markdown": [
       "71013.666796604"
      ],
      "text/plain": [
       "[1] 71013.67"
      ]
     },
     "metadata": {},
     "output_type": "display_data"
    }
   ],
   "source": [
    "# sum of squares\n",
    "Sb2*(k-1)\n",
    "# residuals\n",
    "Sw2*(n-k)"
   ]
  },
  {
   "cell_type": "code",
   "execution_count": 13,
   "id": "2f5d0e67",
   "metadata": {},
   "outputs": [
    {
     "data": {
      "text/html": [
       "0"
      ],
      "text/latex": [
       "0"
      ],
      "text/markdown": [
       "0"
      ],
      "text/plain": [
       "[1] 0"
      ]
     },
     "metadata": {},
     "output_type": "display_data"
    }
   ],
   "source": [
    "1-pf(F, df1=k-1, df2=n-k)"
   ]
  },
  {
   "cell_type": "markdown",
   "id": "e2564144",
   "metadata": {},
   "source": [
    "At 5% significance level, there is sufficient evidence to reject the null hypothesis that their means are equal."
   ]
  },
  {
   "cell_type": "code",
   "execution_count": 14,
   "id": "02417248",
   "metadata": {},
   "outputs": [
    {
     "data": {
      "text/plain": [
       "Call:\n",
       "   aov(formula = df1$Agility ~ factor(df1$Best.Position))\n",
       "\n",
       "Terms:\n",
       "                factor(df1$Best.Position) Residuals\n",
       "Sum of Squares                   23180.82  71013.67\n",
       "Deg. of Freedom                         3      1334\n",
       "\n",
       "Residual standard error: 7.296138\n",
       "Estimated effects may be unbalanced"
      ]
     },
     "metadata": {},
     "output_type": "display_data"
    }
   ],
   "source": [
    "aov(df1$Agility ~ factor(df1$Best.Position))"
   ]
  },
  {
   "cell_type": "code",
   "execution_count": 15,
   "id": "c99aaea0",
   "metadata": {},
   "outputs": [
    {
     "data": {
      "text/plain": [
       "                            Df Sum Sq Mean Sq F value Pr(>F)    \n",
       "factor(df1$Best.Position)    3  23181    7727   145.2 <2e-16 ***\n",
       "Residuals                 1334  71014      53                   \n",
       "---\n",
       "Signif. codes:  0 '***' 0.001 '**' 0.01 '*' 0.05 '.' 0.1 ' ' 1"
      ]
     },
     "metadata": {},
     "output_type": "display_data"
    }
   ],
   "source": [
    "summary(aov(df1$Agility ~ factor(df1$Best.Position)))"
   ]
  },
  {
   "cell_type": "markdown",
   "id": "269f1132",
   "metadata": {},
   "source": [
    "At 5% significance level, LWB, RWB, LW, and RW may have equal means."
   ]
  },
  {
   "cell_type": "markdown",
   "id": "3595922d",
   "metadata": {},
   "source": [
    "Let's compare the mean of each pair."
   ]
  },
  {
   "cell_type": "markdown",
   "id": "feaef743",
   "metadata": {},
   "source": [
    "### Pairwise comparisons"
   ]
  },
  {
   "cell_type": "code",
   "execution_count": 16,
   "id": "875d470f",
   "metadata": {},
   "outputs": [
    {
     "data": {
      "text/plain": [
       "\n",
       "\tPairwise comparisons using t tests with pooled SD \n",
       "\n",
       "data:  df1$Agility and df1$Best.Position \n",
       "\n",
       "    LW     LWB    RW    \n",
       "LWB <2e-16 -      -     \n",
       "RW  0.39   <2e-16 -     \n",
       "RWB <2e-16 0.21   <2e-16\n",
       "\n",
       "P value adjustment method: none "
      ]
     },
     "metadata": {},
     "output_type": "display_data"
    }
   ],
   "source": [
    "pairwise.t.test(df1$Agility, df1$Best.Position, p.adjust.method = 'none')"
   ]
  },
  {
   "cell_type": "markdown",
   "id": "ca67ead0",
   "metadata": {},
   "source": [
    "At 5% significance level, all combinations have unequal means while LW vs RW and LWB vs RWB have equal means."
   ]
  },
  {
   "cell_type": "code",
   "execution_count": null,
   "id": "9a585852",
   "metadata": {},
   "outputs": [],
   "source": []
  }
 ],
 "metadata": {
  "kernelspec": {
   "display_name": "R",
   "language": "R",
   "name": "ir"
  },
  "language_info": {
   "codemirror_mode": "r",
   "file_extension": ".r",
   "mimetype": "text/x-r-source",
   "name": "R",
   "pygments_lexer": "r",
   "version": "3.6.1"
  }
 },
 "nbformat": 4,
 "nbformat_minor": 5
}
