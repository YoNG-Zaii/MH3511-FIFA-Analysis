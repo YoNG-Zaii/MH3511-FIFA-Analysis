{
 "cells": [
  {
   "cell_type": "markdown",
   "id": "486eaecf",
   "metadata": {},
   "source": [
    "# Best Position, Agility, and Crossing ANOVA"
   ]
  },
  {
   "cell_type": "markdown",
   "id": "1965af75",
   "metadata": {},
   "source": [
    "Here, I will analyse the best position by agility and crossing respectively."
   ]
  },
  {
   "cell_type": "code",
   "execution_count": 1,
   "id": "4c8f50c8",
   "metadata": {},
   "outputs": [
    {
     "name": "stderr",
     "output_type": "stream",
     "text": [
      "Registered S3 methods overwritten by 'ggplot2':\n",
      "  method         from \n",
      "  [.quosures     rlang\n",
      "  c.quosures     rlang\n",
      "  print.quosures rlang\n"
     ]
    }
   ],
   "source": [
    "library(\"repr\")\n",
    "library(\"ggplot2\")"
   ]
  },
  {
   "cell_type": "code",
   "execution_count": 2,
   "id": "e44b3a32",
   "metadata": {},
   "outputs": [
    {
     "data": {
      "text/html": [
       "<table>\n",
       "<thead><tr><th scope=col>Known.As</th><th scope=col>Full.Name</th><th scope=col>Overall</th><th scope=col>Potential</th><th scope=col>Value.in.Euro.</th><th scope=col>Positions.Played</th><th scope=col>Best.Position</th><th scope=col>Nationality</th><th scope=col>Image.Link</th><th scope=col>Age</th><th scope=col>...</th><th scope=col>LM.Rating</th><th scope=col>CM.Rating</th><th scope=col>RM.Rating</th><th scope=col>LWB.Rating</th><th scope=col>CDM.Rating</th><th scope=col>RWB.Rating</th><th scope=col>LB.Rating</th><th scope=col>CB.Rating</th><th scope=col>RB.Rating</th><th scope=col>GK.Rating</th></tr></thead>\n",
       "<tbody>\n",
       "\t<tr><td>L. Messi                                        </td><td>Lionel Messi                                    </td><td>91                                              </td><td>91                                              </td><td> 54000000                                       </td><td>RW                                              </td><td>CAM                                             </td><td>Argentina                                       </td><td>https://cdn.sofifa.net/players/158/023/23_60.png</td><td>35                                              </td><td>...                                             </td><td>91                                              </td><td>88                                              </td><td>91                                              </td><td>67                                              </td><td>66                                              </td><td>67                                              </td><td>62                                              </td><td>53                                              </td><td>62                                              </td><td>22                                              </td></tr>\n",
       "\t<tr><td>K. Benzema                                      </td><td>Karim Benzema                                   </td><td>91                                              </td><td>91                                              </td><td> 64000000                                       </td><td>CF,ST                                           </td><td>CF                                              </td><td>France                                          </td><td>https://cdn.sofifa.net/players/165/153/23_60.png</td><td>34                                              </td><td>...                                             </td><td>89                                              </td><td>84                                              </td><td>89                                              </td><td>67                                              </td><td>67                                              </td><td>67                                              </td><td>63                                              </td><td>58                                              </td><td>63                                              </td><td>21                                              </td></tr>\n",
       "\t<tr><td>R. Lewandowski                                  </td><td>Robert Lewandowski                              </td><td>91                                              </td><td>91                                              </td><td> 84000000                                       </td><td>ST                                              </td><td>ST                                              </td><td>Poland                                          </td><td>https://cdn.sofifa.net/players/188/545/23_60.png</td><td>33                                              </td><td>...                                             </td><td>86                                              </td><td>83                                              </td><td>86                                              </td><td>67                                              </td><td>69                                              </td><td>67                                              </td><td>64                                              </td><td>63                                              </td><td>64                                              </td><td>22                                              </td></tr>\n",
       "\t<tr><td>K. De Bruyne                                    </td><td>Kevin De Bruyne                                 </td><td>91                                              </td><td>91                                              </td><td>107500000                                       </td><td>CM,CAM                                          </td><td>CM                                              </td><td>Belgium                                         </td><td>https://cdn.sofifa.net/players/192/985/23_60.png</td><td>31                                              </td><td>...                                             </td><td>91                                              </td><td>91                                              </td><td>91                                              </td><td>82                                              </td><td>82                                              </td><td>82                                              </td><td>78                                              </td><td>72                                              </td><td>78                                              </td><td>24                                              </td></tr>\n",
       "\t<tr><td>K. MbappÃ©                                      </td><td>Kylian MbappÃ©                                  </td><td>91                                              </td><td>95                                              </td><td>190500000                                       </td><td>ST,LW                                           </td><td>ST                                              </td><td>France                                          </td><td>https://cdn.sofifa.net/players/231/747/23_60.png</td><td>23                                              </td><td>...                                             </td><td>92                                              </td><td>84                                              </td><td>92                                              </td><td>70                                              </td><td>66                                              </td><td>70                                              </td><td>66                                              </td><td>57                                              </td><td>66                                              </td><td>21                                              </td></tr>\n",
       "\t<tr><td>M. Salah                                        </td><td>Mohamed Salah                                   </td><td>90                                              </td><td>90                                              </td><td>115500000                                       </td><td>RW                                              </td><td>RW                                              </td><td>Egypt                                           </td><td>https://cdn.sofifa.net/players/209/331/23_60.png</td><td>30                                              </td><td>...                                             </td><td>90                                              </td><td>85                                              </td><td>90                                              </td><td>74                                              </td><td>71                                              </td><td>74                                              </td><td>70                                              </td><td>61                                              </td><td>70                                              </td><td>25                                              </td></tr>\n",
       "</tbody>\n",
       "</table>\n"
      ],
      "text/latex": [
       "\\begin{tabular}{r|lllllllllllllllllllllllllllllllllllllllllllllllllllllllllllllllllllllllllllllllllllllllll}\n",
       " Known.As & Full.Name & Overall & Potential & Value.in.Euro. & Positions.Played & Best.Position & Nationality & Image.Link & Age & ... & LM.Rating & CM.Rating & RM.Rating & LWB.Rating & CDM.Rating & RWB.Rating & LB.Rating & CB.Rating & RB.Rating & GK.Rating\\\\\n",
       "\\hline\n",
       "\t L. Messi                                           & Lionel Messi                                       & 91                                                 & 91                                                 &  54000000                                          & RW                                                 & CAM                                                & Argentina                                          & https://cdn.sofifa.net/players/158/023/23\\_60.png & 35                                                 & ...                                                & 91                                                 & 88                                                 & 91                                                 & 67                                                 & 66                                                 & 67                                                 & 62                                                 & 53                                                 & 62                                                 & 22                                                \\\\\n",
       "\t K. Benzema                                         & Karim Benzema                                      & 91                                                 & 91                                                 &  64000000                                          & CF,ST                                              & CF                                                 & France                                             & https://cdn.sofifa.net/players/165/153/23\\_60.png & 34                                                 & ...                                                & 89                                                 & 84                                                 & 89                                                 & 67                                                 & 67                                                 & 67                                                 & 63                                                 & 58                                                 & 63                                                 & 21                                                \\\\\n",
       "\t R. Lewandowski                                     & Robert Lewandowski                                 & 91                                                 & 91                                                 &  84000000                                          & ST                                                 & ST                                                 & Poland                                             & https://cdn.sofifa.net/players/188/545/23\\_60.png & 33                                                 & ...                                                & 86                                                 & 83                                                 & 86                                                 & 67                                                 & 69                                                 & 67                                                 & 64                                                 & 63                                                 & 64                                                 & 22                                                \\\\\n",
       "\t K. De Bruyne                                       & Kevin De Bruyne                                    & 91                                                 & 91                                                 & 107500000                                          & CM,CAM                                             & CM                                                 & Belgium                                            & https://cdn.sofifa.net/players/192/985/23\\_60.png & 31                                                 & ...                                                & 91                                                 & 91                                                 & 91                                                 & 82                                                 & 82                                                 & 82                                                 & 78                                                 & 72                                                 & 78                                                 & 24                                                \\\\\n",
       "\t K. MbappÃ©                                         & Kylian MbappÃ©                                     & 91                                                 & 95                                                 & 190500000                                          & ST,LW                                              & ST                                                 & France                                             & https://cdn.sofifa.net/players/231/747/23\\_60.png & 23                                                 & ...                                                & 92                                                 & 84                                                 & 92                                                 & 70                                                 & 66                                                 & 70                                                 & 66                                                 & 57                                                 & 66                                                 & 21                                                \\\\\n",
       "\t M. Salah                                           & Mohamed Salah                                      & 90                                                 & 90                                                 & 115500000                                          & RW                                                 & RW                                                 & Egypt                                              & https://cdn.sofifa.net/players/209/331/23\\_60.png & 30                                                 & ...                                                & 90                                                 & 85                                                 & 90                                                 & 74                                                 & 71                                                 & 74                                                 & 70                                                 & 61                                                 & 70                                                 & 25                                                \\\\\n",
       "\\end{tabular}\n"
      ],
      "text/markdown": [
       "\n",
       "| Known.As | Full.Name | Overall | Potential | Value.in.Euro. | Positions.Played | Best.Position | Nationality | Image.Link | Age | ... | LM.Rating | CM.Rating | RM.Rating | LWB.Rating | CDM.Rating | RWB.Rating | LB.Rating | CB.Rating | RB.Rating | GK.Rating |\n",
       "|---|---|---|---|---|---|---|---|---|---|---|---|---|---|---|---|---|---|---|---|---|\n",
       "| L. Messi                                         | Lionel Messi                                     | 91                                               | 91                                               |  54000000                                        | RW                                               | CAM                                              | Argentina                                        | https://cdn.sofifa.net/players/158/023/23_60.png | 35                                               | ...                                              | 91                                               | 88                                               | 91                                               | 67                                               | 66                                               | 67                                               | 62                                               | 53                                               | 62                                               | 22                                               |\n",
       "| K. Benzema                                       | Karim Benzema                                    | 91                                               | 91                                               |  64000000                                        | CF,ST                                            | CF                                               | France                                           | https://cdn.sofifa.net/players/165/153/23_60.png | 34                                               | ...                                              | 89                                               | 84                                               | 89                                               | 67                                               | 67                                               | 67                                               | 63                                               | 58                                               | 63                                               | 21                                               |\n",
       "| R. Lewandowski                                   | Robert Lewandowski                               | 91                                               | 91                                               |  84000000                                        | ST                                               | ST                                               | Poland                                           | https://cdn.sofifa.net/players/188/545/23_60.png | 33                                               | ...                                              | 86                                               | 83                                               | 86                                               | 67                                               | 69                                               | 67                                               | 64                                               | 63                                               | 64                                               | 22                                               |\n",
       "| K. De Bruyne                                     | Kevin De Bruyne                                  | 91                                               | 91                                               | 107500000                                        | CM,CAM                                           | CM                                               | Belgium                                          | https://cdn.sofifa.net/players/192/985/23_60.png | 31                                               | ...                                              | 91                                               | 91                                               | 91                                               | 82                                               | 82                                               | 82                                               | 78                                               | 72                                               | 78                                               | 24                                               |\n",
       "| K. MbappÃ©                                       | Kylian MbappÃ©                                   | 91                                               | 95                                               | 190500000                                        | ST,LW                                            | ST                                               | France                                           | https://cdn.sofifa.net/players/231/747/23_60.png | 23                                               | ...                                              | 92                                               | 84                                               | 92                                               | 70                                               | 66                                               | 70                                               | 66                                               | 57                                               | 66                                               | 21                                               |\n",
       "| M. Salah                                         | Mohamed Salah                                    | 90                                               | 90                                               | 115500000                                        | RW                                               | RW                                               | Egypt                                            | https://cdn.sofifa.net/players/209/331/23_60.png | 30                                               | ...                                              | 90                                               | 85                                               | 90                                               | 74                                               | 71                                               | 74                                               | 70                                               | 61                                               | 70                                               | 25                                               |\n",
       "\n"
      ],
      "text/plain": [
       "  Known.As       Full.Name          Overall Potential Value.in.Euro.\n",
       "1 L. Messi       Lionel Messi       91      91         54000000     \n",
       "2 K. Benzema     Karim Benzema      91      91         64000000     \n",
       "3 R. Lewandowski Robert Lewandowski 91      91         84000000     \n",
       "4 K. De Bruyne   Kevin De Bruyne    91      91        107500000     \n",
       "5 K. MbappÃ©     Kylian MbappÃ©     91      95        190500000     \n",
       "6 M. Salah       Mohamed Salah      90      90        115500000     \n",
       "  Positions.Played Best.Position Nationality\n",
       "1 RW               CAM           Argentina  \n",
       "2 CF,ST            CF            France     \n",
       "3 ST               ST            Poland     \n",
       "4 CM,CAM           CM            Belgium    \n",
       "5 ST,LW            ST            France     \n",
       "6 RW               RW            Egypt      \n",
       "  Image.Link                                       Age ... LM.Rating CM.Rating\n",
       "1 https://cdn.sofifa.net/players/158/023/23_60.png 35  ... 91        88       \n",
       "2 https://cdn.sofifa.net/players/165/153/23_60.png 34  ... 89        84       \n",
       "3 https://cdn.sofifa.net/players/188/545/23_60.png 33  ... 86        83       \n",
       "4 https://cdn.sofifa.net/players/192/985/23_60.png 31  ... 91        91       \n",
       "5 https://cdn.sofifa.net/players/231/747/23_60.png 23  ... 92        84       \n",
       "6 https://cdn.sofifa.net/players/209/331/23_60.png 30  ... 90        85       \n",
       "  RM.Rating LWB.Rating CDM.Rating RWB.Rating LB.Rating CB.Rating RB.Rating\n",
       "1 91        67         66         67         62        53        62       \n",
       "2 89        67         67         67         63        58        63       \n",
       "3 86        67         69         67         64        63        64       \n",
       "4 91        82         82         82         78        72        78       \n",
       "5 92        70         66         70         66        57        66       \n",
       "6 90        74         71         74         70        61        70       \n",
       "  GK.Rating\n",
       "1 22       \n",
       "2 21       \n",
       "3 22       \n",
       "4 24       \n",
       "5 21       \n",
       "6 25       "
      ]
     },
     "metadata": {},
     "output_type": "display_data"
    }
   ],
   "source": [
    "players = read.csv(\"project/fifa23_players_data.csv\")\n",
    "head(players)"
   ]
  },
  {
   "cell_type": "code",
   "execution_count": 3,
   "id": "ccd1a0e2",
   "metadata": {},
   "outputs": [
    {
     "data": {
      "text/html": [
       "<ol class=list-inline>\n",
       "\t<li>'Known.As'</li>\n",
       "\t<li>'Full.Name'</li>\n",
       "\t<li>'Overall'</li>\n",
       "\t<li>'Potential'</li>\n",
       "\t<li>'Value.in.Euro.'</li>\n",
       "\t<li>'Positions.Played'</li>\n",
       "\t<li>'Best.Position'</li>\n",
       "\t<li>'Nationality'</li>\n",
       "\t<li>'Image.Link'</li>\n",
       "\t<li>'Age'</li>\n",
       "\t<li>'Height.in.cm.'</li>\n",
       "\t<li>'Weight.in.kg.'</li>\n",
       "\t<li>'TotalStats'</li>\n",
       "\t<li>'BaseStats'</li>\n",
       "\t<li>'Club.Name'</li>\n",
       "\t<li>'Wage.in.Euro.'</li>\n",
       "\t<li>'Release.Clause'</li>\n",
       "\t<li>'Club.Position'</li>\n",
       "\t<li>'Contract.Until'</li>\n",
       "\t<li>'Club.Jersey.Number'</li>\n",
       "\t<li>'Joined.On'</li>\n",
       "\t<li>'On.Loan'</li>\n",
       "\t<li>'Preferred.Foot'</li>\n",
       "\t<li>'Weak.Foot.Rating'</li>\n",
       "\t<li>'Skill.Moves'</li>\n",
       "\t<li>'International.Reputation'</li>\n",
       "\t<li>'National.Team.Name'</li>\n",
       "\t<li>'National.Team.Image.Link'</li>\n",
       "\t<li>'National.Team.Position'</li>\n",
       "\t<li>'National.Team.Jersey.Number'</li>\n",
       "\t<li>'Attacking.Work.Rate'</li>\n",
       "\t<li>'Defensive.Work.Rate'</li>\n",
       "\t<li>'Pace.Total'</li>\n",
       "\t<li>'Shooting.Total'</li>\n",
       "\t<li>'Passing.Total'</li>\n",
       "\t<li>'Dribbling.Total'</li>\n",
       "\t<li>'Defending.Total'</li>\n",
       "\t<li>'Physicality.Total'</li>\n",
       "\t<li>'Crossing'</li>\n",
       "\t<li>'Finishing'</li>\n",
       "\t<li>'Heading.Accuracy'</li>\n",
       "\t<li>'Short.Passing'</li>\n",
       "\t<li>'Volleys'</li>\n",
       "\t<li>'Dribbling'</li>\n",
       "\t<li>'Curve'</li>\n",
       "\t<li>'Freekick.Accuracy'</li>\n",
       "\t<li>'LongPassing'</li>\n",
       "\t<li>'BallControl'</li>\n",
       "\t<li>'Acceleration'</li>\n",
       "\t<li>'Sprint.Speed'</li>\n",
       "\t<li>'Agility'</li>\n",
       "\t<li>'Reactions'</li>\n",
       "\t<li>'Balance'</li>\n",
       "\t<li>'Shot.Power'</li>\n",
       "\t<li>'Jumping'</li>\n",
       "\t<li>'Stamina'</li>\n",
       "\t<li>'Strength'</li>\n",
       "\t<li>'Long.Shots'</li>\n",
       "\t<li>'Aggression'</li>\n",
       "\t<li>'Interceptions'</li>\n",
       "\t<li>'Positioning'</li>\n",
       "\t<li>'Vision'</li>\n",
       "\t<li>'Penalties'</li>\n",
       "\t<li>'Composure'</li>\n",
       "\t<li>'Marking'</li>\n",
       "\t<li>'Standing.Tackle'</li>\n",
       "\t<li>'Sliding.Tackle'</li>\n",
       "\t<li>'Goalkeeper.Diving'</li>\n",
       "\t<li>'Goalkeeper.Handling'</li>\n",
       "\t<li>'GoalkeeperKicking'</li>\n",
       "\t<li>'Goalkeeper.Positioning'</li>\n",
       "\t<li>'Goalkeeper.Reflexes'</li>\n",
       "\t<li>'ST.Rating'</li>\n",
       "\t<li>'LW.Rating'</li>\n",
       "\t<li>'LF.Rating'</li>\n",
       "\t<li>'CF.Rating'</li>\n",
       "\t<li>'RF.Rating'</li>\n",
       "\t<li>'RW.Rating'</li>\n",
       "\t<li>'CAM.Rating'</li>\n",
       "\t<li>'LM.Rating'</li>\n",
       "\t<li>'CM.Rating'</li>\n",
       "\t<li>'RM.Rating'</li>\n",
       "\t<li>'LWB.Rating'</li>\n",
       "\t<li>'CDM.Rating'</li>\n",
       "\t<li>'RWB.Rating'</li>\n",
       "\t<li>'LB.Rating'</li>\n",
       "\t<li>'CB.Rating'</li>\n",
       "\t<li>'RB.Rating'</li>\n",
       "\t<li>'GK.Rating'</li>\n",
       "</ol>\n"
      ],
      "text/latex": [
       "\\begin{enumerate*}\n",
       "\\item 'Known.As'\n",
       "\\item 'Full.Name'\n",
       "\\item 'Overall'\n",
       "\\item 'Potential'\n",
       "\\item 'Value.in.Euro.'\n",
       "\\item 'Positions.Played'\n",
       "\\item 'Best.Position'\n",
       "\\item 'Nationality'\n",
       "\\item 'Image.Link'\n",
       "\\item 'Age'\n",
       "\\item 'Height.in.cm.'\n",
       "\\item 'Weight.in.kg.'\n",
       "\\item 'TotalStats'\n",
       "\\item 'BaseStats'\n",
       "\\item 'Club.Name'\n",
       "\\item 'Wage.in.Euro.'\n",
       "\\item 'Release.Clause'\n",
       "\\item 'Club.Position'\n",
       "\\item 'Contract.Until'\n",
       "\\item 'Club.Jersey.Number'\n",
       "\\item 'Joined.On'\n",
       "\\item 'On.Loan'\n",
       "\\item 'Preferred.Foot'\n",
       "\\item 'Weak.Foot.Rating'\n",
       "\\item 'Skill.Moves'\n",
       "\\item 'International.Reputation'\n",
       "\\item 'National.Team.Name'\n",
       "\\item 'National.Team.Image.Link'\n",
       "\\item 'National.Team.Position'\n",
       "\\item 'National.Team.Jersey.Number'\n",
       "\\item 'Attacking.Work.Rate'\n",
       "\\item 'Defensive.Work.Rate'\n",
       "\\item 'Pace.Total'\n",
       "\\item 'Shooting.Total'\n",
       "\\item 'Passing.Total'\n",
       "\\item 'Dribbling.Total'\n",
       "\\item 'Defending.Total'\n",
       "\\item 'Physicality.Total'\n",
       "\\item 'Crossing'\n",
       "\\item 'Finishing'\n",
       "\\item 'Heading.Accuracy'\n",
       "\\item 'Short.Passing'\n",
       "\\item 'Volleys'\n",
       "\\item 'Dribbling'\n",
       "\\item 'Curve'\n",
       "\\item 'Freekick.Accuracy'\n",
       "\\item 'LongPassing'\n",
       "\\item 'BallControl'\n",
       "\\item 'Acceleration'\n",
       "\\item 'Sprint.Speed'\n",
       "\\item 'Agility'\n",
       "\\item 'Reactions'\n",
       "\\item 'Balance'\n",
       "\\item 'Shot.Power'\n",
       "\\item 'Jumping'\n",
       "\\item 'Stamina'\n",
       "\\item 'Strength'\n",
       "\\item 'Long.Shots'\n",
       "\\item 'Aggression'\n",
       "\\item 'Interceptions'\n",
       "\\item 'Positioning'\n",
       "\\item 'Vision'\n",
       "\\item 'Penalties'\n",
       "\\item 'Composure'\n",
       "\\item 'Marking'\n",
       "\\item 'Standing.Tackle'\n",
       "\\item 'Sliding.Tackle'\n",
       "\\item 'Goalkeeper.Diving'\n",
       "\\item 'Goalkeeper.Handling'\n",
       "\\item 'GoalkeeperKicking'\n",
       "\\item 'Goalkeeper.Positioning'\n",
       "\\item 'Goalkeeper.Reflexes'\n",
       "\\item 'ST.Rating'\n",
       "\\item 'LW.Rating'\n",
       "\\item 'LF.Rating'\n",
       "\\item 'CF.Rating'\n",
       "\\item 'RF.Rating'\n",
       "\\item 'RW.Rating'\n",
       "\\item 'CAM.Rating'\n",
       "\\item 'LM.Rating'\n",
       "\\item 'CM.Rating'\n",
       "\\item 'RM.Rating'\n",
       "\\item 'LWB.Rating'\n",
       "\\item 'CDM.Rating'\n",
       "\\item 'RWB.Rating'\n",
       "\\item 'LB.Rating'\n",
       "\\item 'CB.Rating'\n",
       "\\item 'RB.Rating'\n",
       "\\item 'GK.Rating'\n",
       "\\end{enumerate*}\n"
      ],
      "text/markdown": [
       "1. 'Known.As'\n",
       "2. 'Full.Name'\n",
       "3. 'Overall'\n",
       "4. 'Potential'\n",
       "5. 'Value.in.Euro.'\n",
       "6. 'Positions.Played'\n",
       "7. 'Best.Position'\n",
       "8. 'Nationality'\n",
       "9. 'Image.Link'\n",
       "10. 'Age'\n",
       "11. 'Height.in.cm.'\n",
       "12. 'Weight.in.kg.'\n",
       "13. 'TotalStats'\n",
       "14. 'BaseStats'\n",
       "15. 'Club.Name'\n",
       "16. 'Wage.in.Euro.'\n",
       "17. 'Release.Clause'\n",
       "18. 'Club.Position'\n",
       "19. 'Contract.Until'\n",
       "20. 'Club.Jersey.Number'\n",
       "21. 'Joined.On'\n",
       "22. 'On.Loan'\n",
       "23. 'Preferred.Foot'\n",
       "24. 'Weak.Foot.Rating'\n",
       "25. 'Skill.Moves'\n",
       "26. 'International.Reputation'\n",
       "27. 'National.Team.Name'\n",
       "28. 'National.Team.Image.Link'\n",
       "29. 'National.Team.Position'\n",
       "30. 'National.Team.Jersey.Number'\n",
       "31. 'Attacking.Work.Rate'\n",
       "32. 'Defensive.Work.Rate'\n",
       "33. 'Pace.Total'\n",
       "34. 'Shooting.Total'\n",
       "35. 'Passing.Total'\n",
       "36. 'Dribbling.Total'\n",
       "37. 'Defending.Total'\n",
       "38. 'Physicality.Total'\n",
       "39. 'Crossing'\n",
       "40. 'Finishing'\n",
       "41. 'Heading.Accuracy'\n",
       "42. 'Short.Passing'\n",
       "43. 'Volleys'\n",
       "44. 'Dribbling'\n",
       "45. 'Curve'\n",
       "46. 'Freekick.Accuracy'\n",
       "47. 'LongPassing'\n",
       "48. 'BallControl'\n",
       "49. 'Acceleration'\n",
       "50. 'Sprint.Speed'\n",
       "51. 'Agility'\n",
       "52. 'Reactions'\n",
       "53. 'Balance'\n",
       "54. 'Shot.Power'\n",
       "55. 'Jumping'\n",
       "56. 'Stamina'\n",
       "57. 'Strength'\n",
       "58. 'Long.Shots'\n",
       "59. 'Aggression'\n",
       "60. 'Interceptions'\n",
       "61. 'Positioning'\n",
       "62. 'Vision'\n",
       "63. 'Penalties'\n",
       "64. 'Composure'\n",
       "65. 'Marking'\n",
       "66. 'Standing.Tackle'\n",
       "67. 'Sliding.Tackle'\n",
       "68. 'Goalkeeper.Diving'\n",
       "69. 'Goalkeeper.Handling'\n",
       "70. 'GoalkeeperKicking'\n",
       "71. 'Goalkeeper.Positioning'\n",
       "72. 'Goalkeeper.Reflexes'\n",
       "73. 'ST.Rating'\n",
       "74. 'LW.Rating'\n",
       "75. 'LF.Rating'\n",
       "76. 'CF.Rating'\n",
       "77. 'RF.Rating'\n",
       "78. 'RW.Rating'\n",
       "79. 'CAM.Rating'\n",
       "80. 'LM.Rating'\n",
       "81. 'CM.Rating'\n",
       "82. 'RM.Rating'\n",
       "83. 'LWB.Rating'\n",
       "84. 'CDM.Rating'\n",
       "85. 'RWB.Rating'\n",
       "86. 'LB.Rating'\n",
       "87. 'CB.Rating'\n",
       "88. 'RB.Rating'\n",
       "89. 'GK.Rating'\n",
       "\n",
       "\n"
      ],
      "text/plain": [
       " [1] \"Known.As\"                    \"Full.Name\"                  \n",
       " [3] \"Overall\"                     \"Potential\"                  \n",
       " [5] \"Value.in.Euro.\"              \"Positions.Played\"           \n",
       " [7] \"Best.Position\"               \"Nationality\"                \n",
       " [9] \"Image.Link\"                  \"Age\"                        \n",
       "[11] \"Height.in.cm.\"               \"Weight.in.kg.\"              \n",
       "[13] \"TotalStats\"                  \"BaseStats\"                  \n",
       "[15] \"Club.Name\"                   \"Wage.in.Euro.\"              \n",
       "[17] \"Release.Clause\"              \"Club.Position\"              \n",
       "[19] \"Contract.Until\"              \"Club.Jersey.Number\"         \n",
       "[21] \"Joined.On\"                   \"On.Loan\"                    \n",
       "[23] \"Preferred.Foot\"              \"Weak.Foot.Rating\"           \n",
       "[25] \"Skill.Moves\"                 \"International.Reputation\"   \n",
       "[27] \"National.Team.Name\"          \"National.Team.Image.Link\"   \n",
       "[29] \"National.Team.Position\"      \"National.Team.Jersey.Number\"\n",
       "[31] \"Attacking.Work.Rate\"         \"Defensive.Work.Rate\"        \n",
       "[33] \"Pace.Total\"                  \"Shooting.Total\"             \n",
       "[35] \"Passing.Total\"               \"Dribbling.Total\"            \n",
       "[37] \"Defending.Total\"             \"Physicality.Total\"          \n",
       "[39] \"Crossing\"                    \"Finishing\"                  \n",
       "[41] \"Heading.Accuracy\"            \"Short.Passing\"              \n",
       "[43] \"Volleys\"                     \"Dribbling\"                  \n",
       "[45] \"Curve\"                       \"Freekick.Accuracy\"          \n",
       "[47] \"LongPassing\"                 \"BallControl\"                \n",
       "[49] \"Acceleration\"                \"Sprint.Speed\"               \n",
       "[51] \"Agility\"                     \"Reactions\"                  \n",
       "[53] \"Balance\"                     \"Shot.Power\"                 \n",
       "[55] \"Jumping\"                     \"Stamina\"                    \n",
       "[57] \"Strength\"                    \"Long.Shots\"                 \n",
       "[59] \"Aggression\"                  \"Interceptions\"              \n",
       "[61] \"Positioning\"                 \"Vision\"                     \n",
       "[63] \"Penalties\"                   \"Composure\"                  \n",
       "[65] \"Marking\"                     \"Standing.Tackle\"            \n",
       "[67] \"Sliding.Tackle\"              \"Goalkeeper.Diving\"          \n",
       "[69] \"Goalkeeper.Handling\"         \"GoalkeeperKicking\"          \n",
       "[71] \"Goalkeeper.Positioning\"      \"Goalkeeper.Reflexes\"        \n",
       "[73] \"ST.Rating\"                   \"LW.Rating\"                  \n",
       "[75] \"LF.Rating\"                   \"CF.Rating\"                  \n",
       "[77] \"RF.Rating\"                   \"RW.Rating\"                  \n",
       "[79] \"CAM.Rating\"                  \"LM.Rating\"                  \n",
       "[81] \"CM.Rating\"                   \"RM.Rating\"                  \n",
       "[83] \"LWB.Rating\"                  \"CDM.Rating\"                 \n",
       "[85] \"RWB.Rating\"                  \"LB.Rating\"                  \n",
       "[87] \"CB.Rating\"                   \"RB.Rating\"                  \n",
       "[89] \"GK.Rating\"                  "
      ]
     },
     "metadata": {},
     "output_type": "display_data"
    }
   ],
   "source": [
    "colnames(players)"
   ]
  },
  {
   "cell_type": "markdown",
   "id": "d7ca5047",
   "metadata": {},
   "source": [
    "## Agility by Best Position"
   ]
  },
  {
   "cell_type": "code",
   "execution_count": 4,
   "id": "f1ec1b80",
   "metadata": {
    "scrolled": true
   },
   "outputs": [
    {
     "data": {
      "image/png": "[encoded data removed]",
      "text/plain": [
       "plot without title"
      ]
     },
     "metadata": {},
     "output_type": "display_data"
    }
   ],
   "source": [
    "options(repr.plot.width=9, repr.plot.height=5)\n",
    "df = players[,c('Best.Position', 'Agility')]\n",
    "ggplot(df,  aes(x=factor(Best.Position), y=Agility)) + geom_boxplot() "
   ]
  },
  {
   "cell_type": "markdown",
   "id": "acd272c6",
   "metadata": {},
   "source": [
    "### Selected Best Positions"
   ]
  },
  {
   "cell_type": "code",
   "execution_count": 5,
   "id": "59199c2d",
   "metadata": {},
   "outputs": [
    {
     "data": {
      "text/html": [
       "<table>\n",
       "<thead><tr><th></th><th scope=col>Best.Position</th><th scope=col>Agility</th></tr></thead>\n",
       "<tbody>\n",
       "\t<tr><th scope=row>87</th><td>LWB</td><td>78 </td></tr>\n",
       "\t<tr><th scope=row>137</th><td>RWB</td><td>75 </td></tr>\n",
       "\t<tr><th scope=row>206</th><td>LWB</td><td>71 </td></tr>\n",
       "\t<tr><th scope=row>238</th><td>RWB</td><td>69 </td></tr>\n",
       "\t<tr><th scope=row>243</th><td>LWB</td><td>69 </td></tr>\n",
       "\t<tr><th scope=row>272</th><td>LWB</td><td>80 </td></tr>\n",
       "</tbody>\n",
       "</table>\n"
      ],
      "text/latex": [
       "\\begin{tabular}{r|ll}\n",
       "  & Best.Position & Agility\\\\\n",
       "\\hline\n",
       "\t87 & LWB & 78 \\\\\n",
       "\t137 & RWB & 75 \\\\\n",
       "\t206 & LWB & 71 \\\\\n",
       "\t238 & RWB & 69 \\\\\n",
       "\t243 & LWB & 69 \\\\\n",
       "\t272 & LWB & 80 \\\\\n",
       "\\end{tabular}\n"
      ],
      "text/markdown": [
       "\n",
       "| <!--/--> | Best.Position | Agility |\n",
       "|---|---|---|\n",
       "| 87 | LWB | 78  |\n",
       "| 137 | RWB | 75  |\n",
       "| 206 | LWB | 71  |\n",
       "| 238 | RWB | 69  |\n",
       "| 243 | LWB | 69  |\n",
       "| 272 | LWB | 80  |\n",
       "\n"
      ],
      "text/plain": [
       "    Best.Position Agility\n",
       "87  LWB           78     \n",
       "137 RWB           75     \n",
       "206 LWB           71     \n",
       "238 RWB           69     \n",
       "243 LWB           69     \n",
       "272 LWB           80     "
      ]
     },
     "metadata": {},
     "output_type": "display_data"
    }
   ],
   "source": [
    "group <- c('LWB', 'RWB')\n",
    "df1 = players[(players['Best.Position'] == 'LWB') |\n",
    "              (players['Best.Position'] == 'RWB'),\n",
    "              c('Best.Position', 'Agility')]\n",
    "df1 = droplevels(df1) # To change to new levels\n",
    "head(df1)"
   ]
  },
  {
   "cell_type": "code",
   "execution_count": 6,
   "id": "c3d011e7",
   "metadata": {},
   "outputs": [
    {
     "data": {
      "image/png": "[encoded data removed]",
      "text/plain": [
       "Plot with title \"RWB Agility\""
      ]
     },
     "metadata": {},
     "output_type": "display_data"
    }
   ],
   "source": [
    "options(repr.plot.width=8, repr.plot.height=4)\n",
    "par(mfrow=c(1,2))\n",
    "for (pos in group){\n",
    "    hist(df1[df1['Best.Position'] == pos, 'Agility'],\n",
    "        main=paste(pos, 'Agility'),\n",
    "        col='blue',\n",
    "        xlab='Agility',\n",
    "        ylab='Density',\n",
    "        freq=FALSE)\n",
    "}"
   ]
  },
  {
   "cell_type": "markdown",
   "id": "1a9ea240",
   "metadata": {},
   "source": [
    "### Normality Assumption Check"
   ]
  },
  {
   "cell_type": "code",
   "execution_count": 7,
   "id": "5ed58ab0",
   "metadata": {},
   "outputs": [
    {
     "data": {
      "image/png": "[encoded data removed]",
      "text/plain": [
       "Plot with title \"Normal Q-Q Plot\""
      ]
     },
     "metadata": {},
     "output_type": "display_data"
    }
   ],
   "source": [
    "options(repr.plot.width=8, repr.plot.height=4)\n",
    "par(mfrow=c(1,2))\n",
    "for (pos in group){\n",
    "    qqnorm(df1[df1['Best.Position'] == pos, 'Agility'])\n",
    "    qqline(df1[df1['Best.Position'] == pos, 'Agility'], col='red')\n",
    "}"
   ]
  },
  {
   "cell_type": "code",
   "execution_count": 8,
   "id": "9254d04a",
   "metadata": {},
   "outputs": [
    {
     "name": "stdout",
     "output_type": "stream",
     "text": [
      "[1] \"LWB\"\n",
      "$p.value\n",
      "[1] 0.07531318\n",
      "\n",
      "[1] \"RWB\"\n",
      "$p.value\n",
      "[1] 0.1507862\n",
      "\n"
     ]
    }
   ],
   "source": [
    "for (pos in group){\n",
    "    print(pos)\n",
    "    print(shapiro.test(df1[df1['Best.Position'] == pos, 'Agility'])[2])\n",
    "}"
   ]
  },
  {
   "cell_type": "markdown",
   "id": "0bb93165",
   "metadata": {},
   "source": [
    "The Q-Q plot shows a largely straight-line pattern if it is from a normal distribution. From the above figure, we may assume that the data for each group falls roughly on a straight line. Furthermore, the Shapiro-Wilk test also support the normality of the data at 5% significance level."
   ]
  },
  {
   "cell_type": "markdown",
   "id": "c1536327",
   "metadata": {},
   "source": [
    "### Homogeneity of Variance Assumption Check"
   ]
  },
  {
   "cell_type": "code",
   "execution_count": 9,
   "id": "f4f861e6",
   "metadata": {},
   "outputs": [
    {
     "data": {
      "text/html": [
       "<table>\n",
       "<thead><tr><th scope=col>Best.Position</th><th scope=col>Std</th></tr></thead>\n",
       "<tbody>\n",
       "\t<tr><td>LWB     </td><td>7.264592</td></tr>\n",
       "\t<tr><td>RWB     </td><td>7.357955</td></tr>\n",
       "</tbody>\n",
       "</table>\n"
      ],
      "text/latex": [
       "\\begin{tabular}{r|ll}\n",
       " Best.Position & Std\\\\\n",
       "\\hline\n",
       "\t LWB      & 7.264592\\\\\n",
       "\t RWB      & 7.357955\\\\\n",
       "\\end{tabular}\n"
      ],
      "text/markdown": [
       "\n",
       "| Best.Position | Std |\n",
       "|---|---|\n",
       "| LWB      | 7.264592 |\n",
       "| RWB      | 7.357955 |\n",
       "\n"
      ],
      "text/plain": [
       "  Best.Position Std     \n",
       "1 LWB           7.264592\n",
       "2 RWB           7.357955"
      ]
     },
     "metadata": {},
     "output_type": "display_data"
    }
   ],
   "source": [
    "stdGrp = aggregate(df1$Agility, by=list(df1$Best.Position), FUN=sd)\n",
    "colnames(stdGrp) = c('Best.Position', 'Std')\n",
    "stdGrp"
   ]
  },
  {
   "cell_type": "code",
   "execution_count": 10,
   "id": "ac483f76",
   "metadata": {},
   "outputs": [
    {
     "data": {
      "text/html": [
       "1.01285188143285"
      ],
      "text/latex": [
       "1.01285188143285"
      ],
      "text/markdown": [
       "1.01285188143285"
      ],
      "text/plain": [
       "[1] 1.012852"
      ]
     },
     "metadata": {},
     "output_type": "display_data"
    }
   ],
   "source": [
    "max(stdGrp$Std) / min(stdGrp$Std)"
   ]
  },
  {
   "cell_type": "markdown",
   "id": "4f57425a",
   "metadata": {},
   "source": [
    "That is less than the threshold of 2. Thus, we conclude that the assumptions are fulfilled."
   ]
  },
  {
   "cell_type": "markdown",
   "id": "646396b1",
   "metadata": {},
   "source": [
    "### ANOVA Test"
   ]
  },
  {
   "cell_type": "code",
   "execution_count": 11,
   "id": "de273efb",
   "metadata": {},
   "outputs": [
    {
     "data": {
      "text/html": [
       "53.4718104750589"
      ],
      "text/latex": [
       "53.4718104750589"
      ],
      "text/markdown": [
       "53.4718104750589"
      ],
      "text/plain": [
       "[1] 53.47181"
      ]
     },
     "metadata": {},
     "output_type": "display_data"
    },
    {
     "data": {
      "text/html": [
       "84.9824058395874"
      ],
      "text/latex": [
       "84.9824058395874"
      ],
      "text/markdown": [
       "84.9824058395874"
      ],
      "text/plain": [
       "[1] 84.98241"
      ]
     },
     "metadata": {},
     "output_type": "display_data"
    },
    {
     "data": {
      "text/html": [
       "1.58929359385028"
      ],
      "text/latex": [
       "1.58929359385028"
      ],
      "text/markdown": [
       "1.58929359385028"
      ],
      "text/plain": [
       "[1] 1.589294"
      ]
     },
     "metadata": {},
     "output_type": "display_data"
    }
   ],
   "source": [
    "n = nrow(df1); k = length(group)\n",
    "Sw2 = 0; Sb2 = 0\n",
    "Xbar = mean(df1$Agility)\n",
    "for (pos in group){\n",
    "    Xi = df1[df1['Best.Position'] == pos, 'Agility']\n",
    "    Sw2 = Sw2 + sum((Xi - mean(Xi))^2)\n",
    "    Sb2 = Sb2 + length(Xi)*((mean(Xi) - Xbar)^2)\n",
    "}\n",
    "Sw2 = Sw2/(n-k)\n",
    "Sb2 = Sb2/(k-1)\n",
    "F = Sb2/Sw2\n",
    "Sw2;Sb2;F"
   ]
  },
  {
   "cell_type": "code",
   "execution_count": 12,
   "id": "12982912",
   "metadata": {},
   "outputs": [
    {
     "data": {
      "text/html": [
       "84.9824058395874"
      ],
      "text/latex": [
       "84.9824058395874"
      ],
      "text/markdown": [
       "84.9824058395874"
      ],
      "text/plain": [
       "[1] 84.98241"
      ]
     },
     "metadata": {},
     "output_type": "display_data"
    },
    {
     "data": {
      "text/html": [
       "44060.7718314485"
      ],
      "text/latex": [
       "44060.7718314485"
      ],
      "text/markdown": [
       "44060.7718314485"
      ],
      "text/plain": [
       "[1] 44060.77"
      ]
     },
     "metadata": {},
     "output_type": "display_data"
    }
   ],
   "source": [
    "# sum of squares\n",
    "Sb2*(k-1)\n",
    "# residuals\n",
    "Sw2*(n-k)"
   ]
  },
  {
   "cell_type": "code",
   "execution_count": 13,
   "id": "2f5d0e67",
   "metadata": {},
   "outputs": [
    {
     "data": {
      "text/html": [
       "0.207783937840545"
      ],
      "text/latex": [
       "0.207783937840545"
      ],
      "text/markdown": [
       "0.207783937840545"
      ],
      "text/plain": [
       "[1] 0.2077839"
      ]
     },
     "metadata": {},
     "output_type": "display_data"
    }
   ],
   "source": [
    "1-pf(F, df1=k-1, df2=n-k)"
   ]
  },
  {
   "cell_type": "markdown",
   "id": "e2564144",
   "metadata": {},
   "source": [
    "At 5% significance level, there is sufficient evidence to reject the null hypothesis that their means are equal."
   ]
  },
  {
   "cell_type": "code",
   "execution_count": 14,
   "id": "02417248",
   "metadata": {},
   "outputs": [
    {
     "data": {
      "text/plain": [
       "Call:\n",
       "   aov(formula = df1$Agility ~ factor(df1$Best.Position))\n",
       "\n",
       "Terms:\n",
       "                factor(df1$Best.Position) Residuals\n",
       "Sum of Squares                      84.98  44060.77\n",
       "Deg. of Freedom                         1       824\n",
       "\n",
       "Residual standard error: 7.312442\n",
       "Estimated effects may be unbalanced"
      ]
     },
     "metadata": {},
     "output_type": "display_data"
    }
   ],
   "source": [
    "aov(df1$Agility ~ factor(df1$Best.Position))"
   ]
  },
  {
   "cell_type": "code",
   "execution_count": 15,
   "id": "c99aaea0",
   "metadata": {},
   "outputs": [
    {
     "data": {
      "text/plain": [
       "                           Df Sum Sq Mean Sq F value Pr(>F)\n",
       "factor(df1$Best.Position)   1     85   84.98   1.589  0.208\n",
       "Residuals                 824  44061   53.47               "
      ]
     },
     "metadata": {},
     "output_type": "display_data"
    }
   ],
   "source": [
    "summary(aov(df1$Agility ~ factor(df1$Best.Position)))"
   ]
  },
  {
   "cell_type": "markdown",
   "id": "feaef743",
   "metadata": {},
   "source": [
    "### Pairwise comparisons"
   ]
  },
  {
   "cell_type": "code",
   "execution_count": 16,
   "id": "875d470f",
   "metadata": {},
   "outputs": [],
   "source": [
    "# pairwise.t.test(df1$Agility, df1$Best.Position, p.adjust.method = 'none')"
   ]
  },
  {
   "cell_type": "markdown",
   "id": "8d53f39f",
   "metadata": {},
   "source": [
    "# F-test and T-test"
   ]
  },
  {
   "cell_type": "code",
   "execution_count": 17,
   "id": "4b7896fd",
   "metadata": {},
   "outputs": [
    {
     "data": {
      "text/plain": [
       "\n",
       "\tF test to compare two variances\n",
       "\n",
       "data:  df1$Agility by factor(df1$Best.Position)\n",
       "F = 0.97478, num df = 403, denom df = 421, p-value = 0.7962\n",
       "alternative hypothesis: true ratio of variances is not equal to 1\n",
       "95 percent confidence interval:\n",
       " 0.8035083 1.1830572\n",
       "sample estimates:\n",
       "ratio of variances \n",
       "         0.9747834 \n"
      ]
     },
     "metadata": {},
     "output_type": "display_data"
    }
   ],
   "source": [
    "var.test(df1$Agility ~ factor(df1$Best.Position))"
   ]
  },
  {
   "cell_type": "markdown",
   "id": "09933329",
   "metadata": {},
   "source": [
    "As the p-value is greater than 5% significance level, both variances are equal."
   ]
  },
  {
   "cell_type": "code",
   "execution_count": 18,
   "id": "7f928ca9",
   "metadata": {},
   "outputs": [
    {
     "data": {
      "text/plain": [
       "\n",
       "\tTwo Sample t-test\n",
       "\n",
       "data:  df1$Agility by factor(df1$Best.Position)\n",
       "t = -1.2607, df = 824, p-value = 0.2078\n",
       "alternative hypothesis: true difference in means is not equal to 0\n",
       "95 percent confidence interval:\n",
       " -1.6407250  0.3573971\n",
       "sample estimates:\n",
       "mean in group LWB mean in group RWB \n",
       "         70.90099          71.54265 \n"
      ]
     },
     "metadata": {},
     "output_type": "display_data"
    }
   ],
   "source": [
    "t.test(df1$Agility ~ factor(df1$Best.Position), var.equal=TRUE)"
   ]
  },
  {
   "cell_type": "markdown",
   "id": "27c78c51",
   "metadata": {},
   "source": [
    "As the p-value is greater than 5% significance level, both of them have equal mean."
   ]
  },
  {
   "cell_type": "markdown",
   "id": "61a5c2e7",
   "metadata": {},
   "source": [
    "## Crossing By Best Position"
   ]
  },
  {
   "cell_type": "code",
   "execution_count": 19,
   "id": "96928dc4",
   "metadata": {
    "scrolled": true
   },
   "outputs": [
    {
     "data": {
      "image/png": "[encoded data removed]",
      "text/plain": [
       "plot without title"
      ]
     },
     "metadata": {},
     "output_type": "display_data"
    }
   ],
   "source": [
    "options(repr.plot.width=9, repr.plot.height=5)\n",
    "df = players[,c('Best.Position', 'Crossing')]\n",
    "ggplot(df,  aes(x=factor(Best.Position), y=Crossing)) + geom_boxplot() "
   ]
  },
  {
   "cell_type": "markdown",
   "id": "abc825ee",
   "metadata": {},
   "source": [
    "### Selected Positions"
   ]
  },
  {
   "cell_type": "code",
   "execution_count": 20,
   "id": "704890af",
   "metadata": {},
   "outputs": [
    {
     "data": {
      "text/html": [
       "<table>\n",
       "<thead><tr><th></th><th scope=col>Best.Position</th><th scope=col>Crossing</th></tr></thead>\n",
       "<tbody>\n",
       "\t<tr><th scope=row>2</th><td>CF</td><td>75</td></tr>\n",
       "\t<tr><th scope=row>6</th><td>RW</td><td>80</td></tr>\n",
       "\t<tr><th scope=row>12</th><td>LW</td><td>84</td></tr>\n",
       "\t<tr><th scope=row>13</th><td>LW</td><td>83</td></tr>\n",
       "\t<tr><th scope=row>25</th><td>LB</td><td>88</td></tr>\n",
       "\t<tr><th scope=row>40</th><td>LB</td><td>88</td></tr>\n",
       "</tbody>\n",
       "</table>\n"
      ],
      "text/latex": [
       "\\begin{tabular}{r|ll}\n",
       "  & Best.Position & Crossing\\\\\n",
       "\\hline\n",
       "\t2 & CF & 75\\\\\n",
       "\t6 & RW & 80\\\\\n",
       "\t12 & LW & 84\\\\\n",
       "\t13 & LW & 83\\\\\n",
       "\t25 & LB & 88\\\\\n",
       "\t40 & LB & 88\\\\\n",
       "\\end{tabular}\n"
      ],
      "text/markdown": [
       "\n",
       "| <!--/--> | Best.Position | Crossing |\n",
       "|---|---|---|\n",
       "| 2 | CF | 75 |\n",
       "| 6 | RW | 80 |\n",
       "| 12 | LW | 84 |\n",
       "| 13 | LW | 83 |\n",
       "| 25 | LB | 88 |\n",
       "| 40 | LB | 88 |\n",
       "\n"
      ],
      "text/plain": [
       "   Best.Position Crossing\n",
       "2  CF            75      \n",
       "6  RW            80      \n",
       "12 LW            84      \n",
       "13 LW            83      \n",
       "25 LB            88      \n",
       "40 LB            88      "
      ]
     },
     "metadata": {},
     "output_type": "display_data"
    }
   ],
   "source": [
    "group <- c('CF', 'LB', 'LW', 'RW')\n",
    "df2 = players[(players['Best.Position'] == 'CF') |\n",
    "              (players['Best.Position'] == 'LB') |\n",
    "              (players['Best.Position'] == 'LW') |\n",
    "              (players['Best.Position'] == 'RW'),\n",
    "              c('Best.Position', 'Crossing')]\n",
    "df2 = droplevels(df2) # To change to new levels\n",
    "head(df2)"
   ]
  },
  {
   "cell_type": "code",
   "execution_count": 21,
   "id": "71e1fe08",
   "metadata": {
    "scrolled": true
   },
   "outputs": [
    {
     "data": {
      "image/png": "[encoded data removed]",
      "text/plain": [
       "Plot with title \"RW Agility\""
      ]
     },
     "metadata": {},
     "output_type": "display_data"
    }
   ],
   "source": [
    "options(repr.plot.width=8, repr.plot.height=8)\n",
    "par(mfrow=c(2,2))\n",
    "for (pos in group){\n",
    "    hist(df2[df2['Best.Position'] == pos, 'Crossing'],\n",
    "        main=paste(pos, 'Agility'),\n",
    "        col='blue',\n",
    "        xlab='Agility',\n",
    "        ylab='Density',\n",
    "        freq=FALSE)\n",
    "}"
   ]
  },
  {
   "cell_type": "markdown",
   "id": "60410e6f",
   "metadata": {},
   "source": [
    "### Normality Assumption Check"
   ]
  },
  {
   "cell_type": "code",
   "execution_count": 22,
   "id": "2dda73f4",
   "metadata": {},
   "outputs": [
    {
     "data": {
      "image/png": "[encoded data removed]",
      "text/plain": [
       "Plot with title \"Normal Q-Q Plot\""
      ]
     },
     "metadata": {},
     "output_type": "display_data"
    }
   ],
   "source": [
    "options(repr.plot.width=8, repr.plot.height=8)\n",
    "par(mfrow=c(2,2))\n",
    "for (pos in group){\n",
    "    qqnorm(df2[df2['Best.Position'] == pos, 'Crossing'])\n",
    "    qqline(df2[df2['Best.Position'] == pos, 'Crossing'], col='red')\n",
    "}"
   ]
  },
  {
   "cell_type": "code",
   "execution_count": 23,
   "id": "afa8be73",
   "metadata": {},
   "outputs": [
    {
     "name": "stdout",
     "output_type": "stream",
     "text": [
      "[1] \"CF\"\n",
      "$p.value\n",
      "[1] 0.1263576\n",
      "\n",
      "[1] \"LB\"\n",
      "$p.value\n",
      "[1] 0.3184518\n",
      "\n",
      "[1] \"LW\"\n",
      "$p.value\n",
      "[1] 0.3752845\n",
      "\n",
      "[1] \"RW\"\n",
      "$p.value\n",
      "[1] 0.1351992\n",
      "\n"
     ]
    }
   ],
   "source": [
    "for (pos in group){\n",
    "    print(pos)\n",
    "    print(shapiro.test(df2[df2['Best.Position'] == pos, 'Crossing'])[2])\n",
    "}"
   ]
  },
  {
   "cell_type": "markdown",
   "id": "b85875bc",
   "metadata": {},
   "source": [
    "The Q-Q plot shows a largely straight-line pattern if it is from a normal distribution. From the above figure, we may assume that the data for each group falls roughly on a straight line. Furthermore, the Shapiro-Wilk test also support the normality of the data at 5% significance level."
   ]
  },
  {
   "cell_type": "markdown",
   "id": "8f97ab3b",
   "metadata": {},
   "source": [
    "### Homogeneity of Variance Assumption Check"
   ]
  },
  {
   "cell_type": "code",
   "execution_count": 24,
   "id": "3bda1cd2",
   "metadata": {},
   "outputs": [
    {
     "data": {
      "text/html": [
       "<table>\n",
       "<thead><tr><th scope=col>Best.Position</th><th scope=col>Std</th></tr></thead>\n",
       "<tbody>\n",
       "\t<tr><td>CF       </td><td>10.991329</td></tr>\n",
       "\t<tr><td>LB       </td><td> 9.008557</td></tr>\n",
       "\t<tr><td>LW       </td><td> 8.393359</td></tr>\n",
       "\t<tr><td>RW       </td><td> 8.083652</td></tr>\n",
       "</tbody>\n",
       "</table>\n"
      ],
      "text/latex": [
       "\\begin{tabular}{r|ll}\n",
       " Best.Position & Std\\\\\n",
       "\\hline\n",
       "\t CF        & 10.991329\\\\\n",
       "\t LB        &  9.008557\\\\\n",
       "\t LW        &  8.393359\\\\\n",
       "\t RW        &  8.083652\\\\\n",
       "\\end{tabular}\n"
      ],
      "text/markdown": [
       "\n",
       "| Best.Position | Std |\n",
       "|---|---|\n",
       "| CF        | 10.991329 |\n",
       "| LB        |  9.008557 |\n",
       "| LW        |  8.393359 |\n",
       "| RW        |  8.083652 |\n",
       "\n"
      ],
      "text/plain": [
       "  Best.Position Std      \n",
       "1 CF            10.991329\n",
       "2 LB             9.008557\n",
       "3 LW             8.393359\n",
       "4 RW             8.083652"
      ]
     },
     "metadata": {},
     "output_type": "display_data"
    }
   ],
   "source": [
    "stdGrp = aggregate(df2$Crossing, by=list(df2$Best.Position), FUN=sd)\n",
    "colnames(stdGrp) = c('Best.Position', 'Std')\n",
    "stdGrp"
   ]
  },
  {
   "cell_type": "code",
   "execution_count": 25,
   "id": "14cd8fbc",
   "metadata": {},
   "outputs": [
    {
     "data": {
      "text/html": [
       "1.35969838886369"
      ],
      "text/latex": [
       "1.35969838886369"
      ],
      "text/markdown": [
       "1.35969838886369"
      ],
      "text/plain": [
       "[1] 1.359698"
      ]
     },
     "metadata": {},
     "output_type": "display_data"
    }
   ],
   "source": [
    "max(stdGrp$Std) / min(stdGrp$Std)"
   ]
  },
  {
   "cell_type": "markdown",
   "id": "57c83696",
   "metadata": {},
   "source": [
    "That is less than the threshold of 2. Thus, we conclude that the assumptions are fulfilled."
   ]
  },
  {
   "cell_type": "markdown",
   "id": "828d2675",
   "metadata": {},
   "source": [
    "### ANOVA Test"
   ]
  },
  {
   "cell_type": "code",
   "execution_count": 26,
   "id": "be25e5b1",
   "metadata": {},
   "outputs": [
    {
     "data": {
      "text/html": [
       "78.2177943680899"
      ],
      "text/latex": [
       "78.2177943680899"
      ],
      "text/markdown": [
       "78.2177943680899"
      ],
      "text/plain": [
       "[1] 78.21779"
      ]
     },
     "metadata": {},
     "output_type": "display_data"
    },
    {
     "data": {
      "text/html": [
       "298.846010529268"
      ],
      "text/latex": [
       "298.846010529268"
      ],
      "text/markdown": [
       "298.846010529268"
      ],
      "text/plain": [
       "[1] 298.846"
      ]
     },
     "metadata": {},
     "output_type": "display_data"
    },
    {
     "data": {
      "text/html": [
       "3.82069084079398"
      ],
      "text/latex": [
       "3.82069084079398"
      ],
      "text/markdown": [
       "3.82069084079398"
      ],
      "text/plain": [
       "[1] 3.820691"
      ]
     },
     "metadata": {},
     "output_type": "display_data"
    }
   ],
   "source": [
    "n = nrow(df2); k = length(group)\n",
    "Sw2 = 0; Sb2 = 0\n",
    "Xbar = mean(df2$Crossing)\n",
    "for (pos in group){\n",
    "    Xi = df2[df2['Best.Position'] == pos, 'Crossing']\n",
    "    Sw2 = Sw2 + sum((Xi - mean(Xi))^2)\n",
    "    Sb2 = Sb2 + length(Xi)*((mean(Xi) - Xbar)^2)\n",
    "}\n",
    "Sw2 = Sw2/(n-k)\n",
    "Sb2 = Sb2/(k-1)\n",
    "F = Sb2/Sw2\n",
    "Sw2;Sb2;F"
   ]
  },
  {
   "cell_type": "code",
   "execution_count": 27,
   "id": "77e75ff8",
   "metadata": {},
   "outputs": [
    {
     "data": {
      "text/html": [
       "896.538031587804"
      ],
      "text/latex": [
       "896.538031587804"
      ],
      "text/markdown": [
       "896.538031587804"
      ],
      "text/plain": [
       "[1] 896.538"
      ]
     },
     "metadata": {},
     "output_type": "display_data"
    },
    {
     "data": {
      "text/html": [
       "112790.059478786"
      ],
      "text/latex": [
       "112790.059478786"
      ],
      "text/markdown": [
       "112790.059478786"
      ],
      "text/plain": [
       "[1] 112790.1"
      ]
     },
     "metadata": {},
     "output_type": "display_data"
    }
   ],
   "source": [
    "# sum of squares\n",
    "Sb2*(k-1)\n",
    "# residuals\n",
    "Sw2*(n-k)"
   ]
  },
  {
   "cell_type": "code",
   "execution_count": 28,
   "id": "45e395aa",
   "metadata": {},
   "outputs": [
    {
     "data": {
      "text/html": [
       "0.00965545336179585"
      ],
      "text/latex": [
       "0.00965545336179585"
      ],
      "text/markdown": [
       "0.00965545336179585"
      ],
      "text/plain": [
       "[1] 0.009655453"
      ]
     },
     "metadata": {},
     "output_type": "display_data"
    }
   ],
   "source": [
    "1-pf(F, df1=k-1, df2=n-k)"
   ]
  },
  {
   "cell_type": "code",
   "execution_count": 29,
   "id": "f94f5c23",
   "metadata": {},
   "outputs": [
    {
     "data": {
      "text/plain": [
       "Call:\n",
       "   aov(formula = df2$Crossing ~ factor(df2$Best.Position))\n",
       "\n",
       "Terms:\n",
       "                factor(df2$Best.Position) Residuals\n",
       "Sum of Squares                     896.54 112790.06\n",
       "Deg. of Freedom                         3      1442\n",
       "\n",
       "Residual standard error: 8.844082\n",
       "Estimated effects may be unbalanced"
      ]
     },
     "metadata": {},
     "output_type": "display_data"
    }
   ],
   "source": [
    "aov(df2$Crossing ~ factor(df2$Best.Position))"
   ]
  },
  {
   "cell_type": "code",
   "execution_count": 30,
   "id": "02fdb28c",
   "metadata": {},
   "outputs": [
    {
     "data": {
      "text/plain": [
       "                            Df Sum Sq Mean Sq F value  Pr(>F)   \n",
       "factor(df2$Best.Position)    3    897  298.85   3.821 0.00966 **\n",
       "Residuals                 1442 112790   78.22                   \n",
       "---\n",
       "Signif. codes:  0 '***' 0.001 '**' 0.01 '*' 0.05 '.' 0.1 ' ' 1"
      ]
     },
     "metadata": {},
     "output_type": "display_data"
    }
   ],
   "source": [
    "summary(aov(df2$Crossing ~ factor(df2$Best.Position)))"
   ]
  },
  {
   "cell_type": "code",
   "execution_count": 31,
   "id": "e5bc0dc6",
   "metadata": {},
   "outputs": [
    {
     "data": {
      "text/plain": [
       "\n",
       "\tPairwise comparisons using t tests with pooled SD \n",
       "\n",
       "data:  df2$Crossing and df2$Best.Position \n",
       "\n",
       "   CF     LB     LW    \n",
       "LB 0.0892 -      -     \n",
       "LW 0.0265 0.2157 -     \n",
       "RW 0.0042 0.0116 0.3983\n",
       "\n",
       "P value adjustment method: none "
      ]
     },
     "metadata": {},
     "output_type": "display_data"
    }
   ],
   "source": [
    "pairwise.t.test(df2$Crossing, df2$Best.Position, p.adjust.method = 'none')"
   ]
  },
  {
   "cell_type": "code",
   "execution_count": null,
   "id": "c539efeb",
   "metadata": {},
   "outputs": [],
   "source": []
  }
 ],
 "metadata": {
  "kernelspec": {
   "display_name": "R",
   "language": "R",
   "name": "ir"
  },
  "language_info": {
   "codemirror_mode": "r",
   "file_extension": ".r",
   "mimetype": "text/x-r-source",
   "name": "R",
   "pygments_lexer": "r",
   "version": "3.6.1"
  }
 },
 "nbformat": 4,
 "nbformat_minor": 5
}
