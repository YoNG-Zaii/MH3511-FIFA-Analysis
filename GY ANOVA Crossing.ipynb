{
 "cells": [
  {
   "cell_type": "markdown",
   "id": "486eaecf",
   "metadata": {},
   "source": [
    "# Best Position vs Crossing ANOVA"
   ]
  },
  {
   "cell_type": "markdown",
   "id": "1965af75",
   "metadata": {},
   "source": [
    "Here, I will analyse the crossing by best position. In order to perform ANOVA, there are three assumptions that need to be fulfilled, namely, normality, homegeneity of variance, and independence. Independence is satisfied intuitively."
   ]
  },
  {
   "cell_type": "code",
   "execution_count": 1,
   "id": "4c8f50c8",
   "metadata": {},
   "outputs": [
    {
     "name": "stderr",
     "output_type": "stream",
     "text": [
      "Registered S3 methods overwritten by 'ggplot2':\n",
      "  method         from \n",
      "  [.quosures     rlang\n",
      "  c.quosures     rlang\n",
      "  print.quosures rlang\n"
     ]
    }
   ],
   "source": [
    "library(\"repr\")\n",
    "library(\"ggplot2\")"
   ]
  },
  {
   "cell_type": "code",
   "execution_count": 2,
   "id": "e44b3a32",
   "metadata": {},
   "outputs": [
    {
     "data": {
      "text/html": [
       "<table>\n",
       "<thead><tr><th scope=col>Known.As</th><th scope=col>Full.Name</th><th scope=col>Overall</th><th scope=col>Potential</th><th scope=col>Value.in.Euro.</th><th scope=col>Positions.Played</th><th scope=col>Best.Position</th><th scope=col>Nationality</th><th scope=col>Image.Link</th><th scope=col>Age</th><th scope=col>...</th><th scope=col>LM.Rating</th><th scope=col>CM.Rating</th><th scope=col>RM.Rating</th><th scope=col>LWB.Rating</th><th scope=col>CDM.Rating</th><th scope=col>RWB.Rating</th><th scope=col>LB.Rating</th><th scope=col>CB.Rating</th><th scope=col>RB.Rating</th><th scope=col>GK.Rating</th></tr></thead>\n",
       "<tbody>\n",
       "\t<tr><td>L. Messi                                        </td><td>Lionel Messi                                    </td><td>91                                              </td><td>91                                              </td><td> 54000000                                       </td><td>RW                                              </td><td>CAM                                             </td><td>Argentina                                       </td><td>https://cdn.sofifa.net/players/158/023/23_60.png</td><td>35                                              </td><td>...                                             </td><td>91                                              </td><td>88                                              </td><td>91                                              </td><td>67                                              </td><td>66                                              </td><td>67                                              </td><td>62                                              </td><td>53                                              </td><td>62                                              </td><td>22                                              </td></tr>\n",
       "\t<tr><td>K. Benzema                                      </td><td>Karim Benzema                                   </td><td>91                                              </td><td>91                                              </td><td> 64000000                                       </td><td>CF,ST                                           </td><td>CF                                              </td><td>France                                          </td><td>https://cdn.sofifa.net/players/165/153/23_60.png</td><td>34                                              </td><td>...                                             </td><td>89                                              </td><td>84                                              </td><td>89                                              </td><td>67                                              </td><td>67                                              </td><td>67                                              </td><td>63                                              </td><td>58                                              </td><td>63                                              </td><td>21                                              </td></tr>\n",
       "\t<tr><td>R. Lewandowski                                  </td><td>Robert Lewandowski                              </td><td>91                                              </td><td>91                                              </td><td> 84000000                                       </td><td>ST                                              </td><td>ST                                              </td><td>Poland                                          </td><td>https://cdn.sofifa.net/players/188/545/23_60.png</td><td>33                                              </td><td>...                                             </td><td>86                                              </td><td>83                                              </td><td>86                                              </td><td>67                                              </td><td>69                                              </td><td>67                                              </td><td>64                                              </td><td>63                                              </td><td>64                                              </td><td>22                                              </td></tr>\n",
       "\t<tr><td>K. De Bruyne                                    </td><td>Kevin De Bruyne                                 </td><td>91                                              </td><td>91                                              </td><td>107500000                                       </td><td>CM,CAM                                          </td><td>CM                                              </td><td>Belgium                                         </td><td>https://cdn.sofifa.net/players/192/985/23_60.png</td><td>31                                              </td><td>...                                             </td><td>91                                              </td><td>91                                              </td><td>91                                              </td><td>82                                              </td><td>82                                              </td><td>82                                              </td><td>78                                              </td><td>72                                              </td><td>78                                              </td><td>24                                              </td></tr>\n",
       "\t<tr><td>K. MbappÃ©                                      </td><td>Kylian MbappÃ©                                  </td><td>91                                              </td><td>95                                              </td><td>190500000                                       </td><td>ST,LW                                           </td><td>ST                                              </td><td>France                                          </td><td>https://cdn.sofifa.net/players/231/747/23_60.png</td><td>23                                              </td><td>...                                             </td><td>92                                              </td><td>84                                              </td><td>92                                              </td><td>70                                              </td><td>66                                              </td><td>70                                              </td><td>66                                              </td><td>57                                              </td><td>66                                              </td><td>21                                              </td></tr>\n",
       "\t<tr><td>M. Salah                                        </td><td>Mohamed Salah                                   </td><td>90                                              </td><td>90                                              </td><td>115500000                                       </td><td>RW                                              </td><td>RW                                              </td><td>Egypt                                           </td><td>https://cdn.sofifa.net/players/209/331/23_60.png</td><td>30                                              </td><td>...                                             </td><td>90                                              </td><td>85                                              </td><td>90                                              </td><td>74                                              </td><td>71                                              </td><td>74                                              </td><td>70                                              </td><td>61                                              </td><td>70                                              </td><td>25                                              </td></tr>\n",
       "</tbody>\n",
       "</table>\n"
      ],
      "text/latex": [
       "\\begin{tabular}{r|lllllllllllllllllllllllllllllllllllllllllllllllllllllllllllllllllllllllllllllllllllllllll}\n",
       " Known.As & Full.Name & Overall & Potential & Value.in.Euro. & Positions.Played & Best.Position & Nationality & Image.Link & Age & ... & LM.Rating & CM.Rating & RM.Rating & LWB.Rating & CDM.Rating & RWB.Rating & LB.Rating & CB.Rating & RB.Rating & GK.Rating\\\\\n",
       "\\hline\n",
       "\t L. Messi                                           & Lionel Messi                                       & 91                                                 & 91                                                 &  54000000                                          & RW                                                 & CAM                                                & Argentina                                          & https://cdn.sofifa.net/players/158/023/23\\_60.png & 35                                                 & ...                                                & 91                                                 & 88                                                 & 91                                                 & 67                                                 & 66                                                 & 67                                                 & 62                                                 & 53                                                 & 62                                                 & 22                                                \\\\\n",
       "\t K. Benzema                                         & Karim Benzema                                      & 91                                                 & 91                                                 &  64000000                                          & CF,ST                                              & CF                                                 & France                                             & https://cdn.sofifa.net/players/165/153/23\\_60.png & 34                                                 & ...                                                & 89                                                 & 84                                                 & 89                                                 & 67                                                 & 67                                                 & 67                                                 & 63                                                 & 58                                                 & 63                                                 & 21                                                \\\\\n",
       "\t R. Lewandowski                                     & Robert Lewandowski                                 & 91                                                 & 91                                                 &  84000000                                          & ST                                                 & ST                                                 & Poland                                             & https://cdn.sofifa.net/players/188/545/23\\_60.png & 33                                                 & ...                                                & 86                                                 & 83                                                 & 86                                                 & 67                                                 & 69                                                 & 67                                                 & 64                                                 & 63                                                 & 64                                                 & 22                                                \\\\\n",
       "\t K. De Bruyne                                       & Kevin De Bruyne                                    & 91                                                 & 91                                                 & 107500000                                          & CM,CAM                                             & CM                                                 & Belgium                                            & https://cdn.sofifa.net/players/192/985/23\\_60.png & 31                                                 & ...                                                & 91                                                 & 91                                                 & 91                                                 & 82                                                 & 82                                                 & 82                                                 & 78                                                 & 72                                                 & 78                                                 & 24                                                \\\\\n",
       "\t K. MbappÃ©                                         & Kylian MbappÃ©                                     & 91                                                 & 95                                                 & 190500000                                          & ST,LW                                              & ST                                                 & France                                             & https://cdn.sofifa.net/players/231/747/23\\_60.png & 23                                                 & ...                                                & 92                                                 & 84                                                 & 92                                                 & 70                                                 & 66                                                 & 70                                                 & 66                                                 & 57                                                 & 66                                                 & 21                                                \\\\\n",
       "\t M. Salah                                           & Mohamed Salah                                      & 90                                                 & 90                                                 & 115500000                                          & RW                                                 & RW                                                 & Egypt                                              & https://cdn.sofifa.net/players/209/331/23\\_60.png & 30                                                 & ...                                                & 90                                                 & 85                                                 & 90                                                 & 74                                                 & 71                                                 & 74                                                 & 70                                                 & 61                                                 & 70                                                 & 25                                                \\\\\n",
       "\\end{tabular}\n"
      ],
      "text/markdown": [
       "\n",
       "| Known.As | Full.Name | Overall | Potential | Value.in.Euro. | Positions.Played | Best.Position | Nationality | Image.Link | Age | ... | LM.Rating | CM.Rating | RM.Rating | LWB.Rating | CDM.Rating | RWB.Rating | LB.Rating | CB.Rating | RB.Rating | GK.Rating |\n",
       "|---|---|---|---|---|---|---|---|---|---|---|---|---|---|---|---|---|---|---|---|---|\n",
       "| L. Messi                                         | Lionel Messi                                     | 91                                               | 91                                               |  54000000                                        | RW                                               | CAM                                              | Argentina                                        | https://cdn.sofifa.net/players/158/023/23_60.png | 35                                               | ...                                              | 91                                               | 88                                               | 91                                               | 67                                               | 66                                               | 67                                               | 62                                               | 53                                               | 62                                               | 22                                               |\n",
       "| K. Benzema                                       | Karim Benzema                                    | 91                                               | 91                                               |  64000000                                        | CF,ST                                            | CF                                               | France                                           | https://cdn.sofifa.net/players/165/153/23_60.png | 34                                               | ...                                              | 89                                               | 84                                               | 89                                               | 67                                               | 67                                               | 67                                               | 63                                               | 58                                               | 63                                               | 21                                               |\n",
       "| R. Lewandowski                                   | Robert Lewandowski                               | 91                                               | 91                                               |  84000000                                        | ST                                               | ST                                               | Poland                                           | https://cdn.sofifa.net/players/188/545/23_60.png | 33                                               | ...                                              | 86                                               | 83                                               | 86                                               | 67                                               | 69                                               | 67                                               | 64                                               | 63                                               | 64                                               | 22                                               |\n",
       "| K. De Bruyne                                     | Kevin De Bruyne                                  | 91                                               | 91                                               | 107500000                                        | CM,CAM                                           | CM                                               | Belgium                                          | https://cdn.sofifa.net/players/192/985/23_60.png | 31                                               | ...                                              | 91                                               | 91                                               | 91                                               | 82                                               | 82                                               | 82                                               | 78                                               | 72                                               | 78                                               | 24                                               |\n",
       "| K. MbappÃ©                                       | Kylian MbappÃ©                                   | 91                                               | 95                                               | 190500000                                        | ST,LW                                            | ST                                               | France                                           | https://cdn.sofifa.net/players/231/747/23_60.png | 23                                               | ...                                              | 92                                               | 84                                               | 92                                               | 70                                               | 66                                               | 70                                               | 66                                               | 57                                               | 66                                               | 21                                               |\n",
       "| M. Salah                                         | Mohamed Salah                                    | 90                                               | 90                                               | 115500000                                        | RW                                               | RW                                               | Egypt                                            | https://cdn.sofifa.net/players/209/331/23_60.png | 30                                               | ...                                              | 90                                               | 85                                               | 90                                               | 74                                               | 71                                               | 74                                               | 70                                               | 61                                               | 70                                               | 25                                               |\n",
       "\n"
      ],
      "text/plain": [
       "  Known.As       Full.Name          Overall Potential Value.in.Euro.\n",
       "1 L. Messi       Lionel Messi       91      91         54000000     \n",
       "2 K. Benzema     Karim Benzema      91      91         64000000     \n",
       "3 R. Lewandowski Robert Lewandowski 91      91         84000000     \n",
       "4 K. De Bruyne   Kevin De Bruyne    91      91        107500000     \n",
       "5 K. MbappÃ©     Kylian MbappÃ©     91      95        190500000     \n",
       "6 M. Salah       Mohamed Salah      90      90        115500000     \n",
       "  Positions.Played Best.Position Nationality\n",
       "1 RW               CAM           Argentina  \n",
       "2 CF,ST            CF            France     \n",
       "3 ST               ST            Poland     \n",
       "4 CM,CAM           CM            Belgium    \n",
       "5 ST,LW            ST            France     \n",
       "6 RW               RW            Egypt      \n",
       "  Image.Link                                       Age ... LM.Rating CM.Rating\n",
       "1 https://cdn.sofifa.net/players/158/023/23_60.png 35  ... 91        88       \n",
       "2 https://cdn.sofifa.net/players/165/153/23_60.png 34  ... 89        84       \n",
       "3 https://cdn.sofifa.net/players/188/545/23_60.png 33  ... 86        83       \n",
       "4 https://cdn.sofifa.net/players/192/985/23_60.png 31  ... 91        91       \n",
       "5 https://cdn.sofifa.net/players/231/747/23_60.png 23  ... 92        84       \n",
       "6 https://cdn.sofifa.net/players/209/331/23_60.png 30  ... 90        85       \n",
       "  RM.Rating LWB.Rating CDM.Rating RWB.Rating LB.Rating CB.Rating RB.Rating\n",
       "1 91        67         66         67         62        53        62       \n",
       "2 89        67         67         67         63        58        63       \n",
       "3 86        67         69         67         64        63        64       \n",
       "4 91        82         82         82         78        72        78       \n",
       "5 92        70         66         70         66        57        66       \n",
       "6 90        74         71         74         70        61        70       \n",
       "  GK.Rating\n",
       "1 22       \n",
       "2 21       \n",
       "3 22       \n",
       "4 24       \n",
       "5 21       \n",
       "6 25       "
      ]
     },
     "metadata": {},
     "output_type": "display_data"
    }
   ],
   "source": [
    "players <- read.csv(\"MH3511_project/fifa23_players_data.csv\")\n",
    "head(players)"
   ]
  },
  {
   "cell_type": "code",
   "execution_count": 3,
   "id": "ccd1a0e2",
   "metadata": {},
   "outputs": [
    {
     "data": {
      "text/html": [
       "<ol class=list-inline>\n",
       "\t<li>'Known.As'</li>\n",
       "\t<li>'Full.Name'</li>\n",
       "\t<li>'Overall'</li>\n",
       "\t<li>'Potential'</li>\n",
       "\t<li>'Value.in.Euro.'</li>\n",
       "\t<li>'Positions.Played'</li>\n",
       "\t<li>'Best.Position'</li>\n",
       "\t<li>'Nationality'</li>\n",
       "\t<li>'Image.Link'</li>\n",
       "\t<li>'Age'</li>\n",
       "\t<li>'Height.in.cm.'</li>\n",
       "\t<li>'Weight.in.kg.'</li>\n",
       "\t<li>'TotalStats'</li>\n",
       "\t<li>'BaseStats'</li>\n",
       "\t<li>'Club.Name'</li>\n",
       "\t<li>'Wage.in.Euro.'</li>\n",
       "\t<li>'Release.Clause'</li>\n",
       "\t<li>'Club.Position'</li>\n",
       "\t<li>'Contract.Until'</li>\n",
       "\t<li>'Club.Jersey.Number'</li>\n",
       "\t<li>'Joined.On'</li>\n",
       "\t<li>'On.Loan'</li>\n",
       "\t<li>'Preferred.Foot'</li>\n",
       "\t<li>'Weak.Foot.Rating'</li>\n",
       "\t<li>'Skill.Moves'</li>\n",
       "\t<li>'International.Reputation'</li>\n",
       "\t<li>'National.Team.Name'</li>\n",
       "\t<li>'National.Team.Image.Link'</li>\n",
       "\t<li>'National.Team.Position'</li>\n",
       "\t<li>'National.Team.Jersey.Number'</li>\n",
       "\t<li>'Attacking.Work.Rate'</li>\n",
       "\t<li>'Defensive.Work.Rate'</li>\n",
       "\t<li>'Pace.Total'</li>\n",
       "\t<li>'Shooting.Total'</li>\n",
       "\t<li>'Passing.Total'</li>\n",
       "\t<li>'Dribbling.Total'</li>\n",
       "\t<li>'Defending.Total'</li>\n",
       "\t<li>'Physicality.Total'</li>\n",
       "\t<li>'Crossing'</li>\n",
       "\t<li>'Finishing'</li>\n",
       "\t<li>'Heading.Accuracy'</li>\n",
       "\t<li>'Short.Passing'</li>\n",
       "\t<li>'Volleys'</li>\n",
       "\t<li>'Dribbling'</li>\n",
       "\t<li>'Curve'</li>\n",
       "\t<li>'Freekick.Accuracy'</li>\n",
       "\t<li>'LongPassing'</li>\n",
       "\t<li>'BallControl'</li>\n",
       "\t<li>'Acceleration'</li>\n",
       "\t<li>'Sprint.Speed'</li>\n",
       "\t<li>'Agility'</li>\n",
       "\t<li>'Reactions'</li>\n",
       "\t<li>'Balance'</li>\n",
       "\t<li>'Shot.Power'</li>\n",
       "\t<li>'Jumping'</li>\n",
       "\t<li>'Stamina'</li>\n",
       "\t<li>'Strength'</li>\n",
       "\t<li>'Long.Shots'</li>\n",
       "\t<li>'Aggression'</li>\n",
       "\t<li>'Interceptions'</li>\n",
       "\t<li>'Positioning'</li>\n",
       "\t<li>'Vision'</li>\n",
       "\t<li>'Penalties'</li>\n",
       "\t<li>'Composure'</li>\n",
       "\t<li>'Marking'</li>\n",
       "\t<li>'Standing.Tackle'</li>\n",
       "\t<li>'Sliding.Tackle'</li>\n",
       "\t<li>'Goalkeeper.Diving'</li>\n",
       "\t<li>'Goalkeeper.Handling'</li>\n",
       "\t<li>'GoalkeeperKicking'</li>\n",
       "\t<li>'Goalkeeper.Positioning'</li>\n",
       "\t<li>'Goalkeeper.Reflexes'</li>\n",
       "\t<li>'ST.Rating'</li>\n",
       "\t<li>'LW.Rating'</li>\n",
       "\t<li>'LF.Rating'</li>\n",
       "\t<li>'CF.Rating'</li>\n",
       "\t<li>'RF.Rating'</li>\n",
       "\t<li>'RW.Rating'</li>\n",
       "\t<li>'CAM.Rating'</li>\n",
       "\t<li>'LM.Rating'</li>\n",
       "\t<li>'CM.Rating'</li>\n",
       "\t<li>'RM.Rating'</li>\n",
       "\t<li>'LWB.Rating'</li>\n",
       "\t<li>'CDM.Rating'</li>\n",
       "\t<li>'RWB.Rating'</li>\n",
       "\t<li>'LB.Rating'</li>\n",
       "\t<li>'CB.Rating'</li>\n",
       "\t<li>'RB.Rating'</li>\n",
       "\t<li>'GK.Rating'</li>\n",
       "</ol>\n"
      ],
      "text/latex": [
       "\\begin{enumerate*}\n",
       "\\item 'Known.As'\n",
       "\\item 'Full.Name'\n",
       "\\item 'Overall'\n",
       "\\item 'Potential'\n",
       "\\item 'Value.in.Euro.'\n",
       "\\item 'Positions.Played'\n",
       "\\item 'Best.Position'\n",
       "\\item 'Nationality'\n",
       "\\item 'Image.Link'\n",
       "\\item 'Age'\n",
       "\\item 'Height.in.cm.'\n",
       "\\item 'Weight.in.kg.'\n",
       "\\item 'TotalStats'\n",
       "\\item 'BaseStats'\n",
       "\\item 'Club.Name'\n",
       "\\item 'Wage.in.Euro.'\n",
       "\\item 'Release.Clause'\n",
       "\\item 'Club.Position'\n",
       "\\item 'Contract.Until'\n",
       "\\item 'Club.Jersey.Number'\n",
       "\\item 'Joined.On'\n",
       "\\item 'On.Loan'\n",
       "\\item 'Preferred.Foot'\n",
       "\\item 'Weak.Foot.Rating'\n",
       "\\item 'Skill.Moves'\n",
       "\\item 'International.Reputation'\n",
       "\\item 'National.Team.Name'\n",
       "\\item 'National.Team.Image.Link'\n",
       "\\item 'National.Team.Position'\n",
       "\\item 'National.Team.Jersey.Number'\n",
       "\\item 'Attacking.Work.Rate'\n",
       "\\item 'Defensive.Work.Rate'\n",
       "\\item 'Pace.Total'\n",
       "\\item 'Shooting.Total'\n",
       "\\item 'Passing.Total'\n",
       "\\item 'Dribbling.Total'\n",
       "\\item 'Defending.Total'\n",
       "\\item 'Physicality.Total'\n",
       "\\item 'Crossing'\n",
       "\\item 'Finishing'\n",
       "\\item 'Heading.Accuracy'\n",
       "\\item 'Short.Passing'\n",
       "\\item 'Volleys'\n",
       "\\item 'Dribbling'\n",
       "\\item 'Curve'\n",
       "\\item 'Freekick.Accuracy'\n",
       "\\item 'LongPassing'\n",
       "\\item 'BallControl'\n",
       "\\item 'Acceleration'\n",
       "\\item 'Sprint.Speed'\n",
       "\\item 'Agility'\n",
       "\\item 'Reactions'\n",
       "\\item 'Balance'\n",
       "\\item 'Shot.Power'\n",
       "\\item 'Jumping'\n",
       "\\item 'Stamina'\n",
       "\\item 'Strength'\n",
       "\\item 'Long.Shots'\n",
       "\\item 'Aggression'\n",
       "\\item 'Interceptions'\n",
       "\\item 'Positioning'\n",
       "\\item 'Vision'\n",
       "\\item 'Penalties'\n",
       "\\item 'Composure'\n",
       "\\item 'Marking'\n",
       "\\item 'Standing.Tackle'\n",
       "\\item 'Sliding.Tackle'\n",
       "\\item 'Goalkeeper.Diving'\n",
       "\\item 'Goalkeeper.Handling'\n",
       "\\item 'GoalkeeperKicking'\n",
       "\\item 'Goalkeeper.Positioning'\n",
       "\\item 'Goalkeeper.Reflexes'\n",
       "\\item 'ST.Rating'\n",
       "\\item 'LW.Rating'\n",
       "\\item 'LF.Rating'\n",
       "\\item 'CF.Rating'\n",
       "\\item 'RF.Rating'\n",
       "\\item 'RW.Rating'\n",
       "\\item 'CAM.Rating'\n",
       "\\item 'LM.Rating'\n",
       "\\item 'CM.Rating'\n",
       "\\item 'RM.Rating'\n",
       "\\item 'LWB.Rating'\n",
       "\\item 'CDM.Rating'\n",
       "\\item 'RWB.Rating'\n",
       "\\item 'LB.Rating'\n",
       "\\item 'CB.Rating'\n",
       "\\item 'RB.Rating'\n",
       "\\item 'GK.Rating'\n",
       "\\end{enumerate*}\n"
      ],
      "text/markdown": [
       "1. 'Known.As'\n",
       "2. 'Full.Name'\n",
       "3. 'Overall'\n",
       "4. 'Potential'\n",
       "5. 'Value.in.Euro.'\n",
       "6. 'Positions.Played'\n",
       "7. 'Best.Position'\n",
       "8. 'Nationality'\n",
       "9. 'Image.Link'\n",
       "10. 'Age'\n",
       "11. 'Height.in.cm.'\n",
       "12. 'Weight.in.kg.'\n",
       "13. 'TotalStats'\n",
       "14. 'BaseStats'\n",
       "15. 'Club.Name'\n",
       "16. 'Wage.in.Euro.'\n",
       "17. 'Release.Clause'\n",
       "18. 'Club.Position'\n",
       "19. 'Contract.Until'\n",
       "20. 'Club.Jersey.Number'\n",
       "21. 'Joined.On'\n",
       "22. 'On.Loan'\n",
       "23. 'Preferred.Foot'\n",
       "24. 'Weak.Foot.Rating'\n",
       "25. 'Skill.Moves'\n",
       "26. 'International.Reputation'\n",
       "27. 'National.Team.Name'\n",
       "28. 'National.Team.Image.Link'\n",
       "29. 'National.Team.Position'\n",
       "30. 'National.Team.Jersey.Number'\n",
       "31. 'Attacking.Work.Rate'\n",
       "32. 'Defensive.Work.Rate'\n",
       "33. 'Pace.Total'\n",
       "34. 'Shooting.Total'\n",
       "35. 'Passing.Total'\n",
       "36. 'Dribbling.Total'\n",
       "37. 'Defending.Total'\n",
       "38. 'Physicality.Total'\n",
       "39. 'Crossing'\n",
       "40. 'Finishing'\n",
       "41. 'Heading.Accuracy'\n",
       "42. 'Short.Passing'\n",
       "43. 'Volleys'\n",
       "44. 'Dribbling'\n",
       "45. 'Curve'\n",
       "46. 'Freekick.Accuracy'\n",
       "47. 'LongPassing'\n",
       "48. 'BallControl'\n",
       "49. 'Acceleration'\n",
       "50. 'Sprint.Speed'\n",
       "51. 'Agility'\n",
       "52. 'Reactions'\n",
       "53. 'Balance'\n",
       "54. 'Shot.Power'\n",
       "55. 'Jumping'\n",
       "56. 'Stamina'\n",
       "57. 'Strength'\n",
       "58. 'Long.Shots'\n",
       "59. 'Aggression'\n",
       "60. 'Interceptions'\n",
       "61. 'Positioning'\n",
       "62. 'Vision'\n",
       "63. 'Penalties'\n",
       "64. 'Composure'\n",
       "65. 'Marking'\n",
       "66. 'Standing.Tackle'\n",
       "67. 'Sliding.Tackle'\n",
       "68. 'Goalkeeper.Diving'\n",
       "69. 'Goalkeeper.Handling'\n",
       "70. 'GoalkeeperKicking'\n",
       "71. 'Goalkeeper.Positioning'\n",
       "72. 'Goalkeeper.Reflexes'\n",
       "73. 'ST.Rating'\n",
       "74. 'LW.Rating'\n",
       "75. 'LF.Rating'\n",
       "76. 'CF.Rating'\n",
       "77. 'RF.Rating'\n",
       "78. 'RW.Rating'\n",
       "79. 'CAM.Rating'\n",
       "80. 'LM.Rating'\n",
       "81. 'CM.Rating'\n",
       "82. 'RM.Rating'\n",
       "83. 'LWB.Rating'\n",
       "84. 'CDM.Rating'\n",
       "85. 'RWB.Rating'\n",
       "86. 'LB.Rating'\n",
       "87. 'CB.Rating'\n",
       "88. 'RB.Rating'\n",
       "89. 'GK.Rating'\n",
       "\n",
       "\n"
      ],
      "text/plain": [
       " [1] \"Known.As\"                    \"Full.Name\"                  \n",
       " [3] \"Overall\"                     \"Potential\"                  \n",
       " [5] \"Value.in.Euro.\"              \"Positions.Played\"           \n",
       " [7] \"Best.Position\"               \"Nationality\"                \n",
       " [9] \"Image.Link\"                  \"Age\"                        \n",
       "[11] \"Height.in.cm.\"               \"Weight.in.kg.\"              \n",
       "[13] \"TotalStats\"                  \"BaseStats\"                  \n",
       "[15] \"Club.Name\"                   \"Wage.in.Euro.\"              \n",
       "[17] \"Release.Clause\"              \"Club.Position\"              \n",
       "[19] \"Contract.Until\"              \"Club.Jersey.Number\"         \n",
       "[21] \"Joined.On\"                   \"On.Loan\"                    \n",
       "[23] \"Preferred.Foot\"              \"Weak.Foot.Rating\"           \n",
       "[25] \"Skill.Moves\"                 \"International.Reputation\"   \n",
       "[27] \"National.Team.Name\"          \"National.Team.Image.Link\"   \n",
       "[29] \"National.Team.Position\"      \"National.Team.Jersey.Number\"\n",
       "[31] \"Attacking.Work.Rate\"         \"Defensive.Work.Rate\"        \n",
       "[33] \"Pace.Total\"                  \"Shooting.Total\"             \n",
       "[35] \"Passing.Total\"               \"Dribbling.Total\"            \n",
       "[37] \"Defending.Total\"             \"Physicality.Total\"          \n",
       "[39] \"Crossing\"                    \"Finishing\"                  \n",
       "[41] \"Heading.Accuracy\"            \"Short.Passing\"              \n",
       "[43] \"Volleys\"                     \"Dribbling\"                  \n",
       "[45] \"Curve\"                       \"Freekick.Accuracy\"          \n",
       "[47] \"LongPassing\"                 \"BallControl\"                \n",
       "[49] \"Acceleration\"                \"Sprint.Speed\"               \n",
       "[51] \"Agility\"                     \"Reactions\"                  \n",
       "[53] \"Balance\"                     \"Shot.Power\"                 \n",
       "[55] \"Jumping\"                     \"Stamina\"                    \n",
       "[57] \"Strength\"                    \"Long.Shots\"                 \n",
       "[59] \"Aggression\"                  \"Interceptions\"              \n",
       "[61] \"Positioning\"                 \"Vision\"                     \n",
       "[63] \"Penalties\"                   \"Composure\"                  \n",
       "[65] \"Marking\"                     \"Standing.Tackle\"            \n",
       "[67] \"Sliding.Tackle\"              \"Goalkeeper.Diving\"          \n",
       "[69] \"Goalkeeper.Handling\"         \"GoalkeeperKicking\"          \n",
       "[71] \"Goalkeeper.Positioning\"      \"Goalkeeper.Reflexes\"        \n",
       "[73] \"ST.Rating\"                   \"LW.Rating\"                  \n",
       "[75] \"LF.Rating\"                   \"CF.Rating\"                  \n",
       "[77] \"RF.Rating\"                   \"RW.Rating\"                  \n",
       "[79] \"CAM.Rating\"                  \"LM.Rating\"                  \n",
       "[81] \"CM.Rating\"                   \"RM.Rating\"                  \n",
       "[83] \"LWB.Rating\"                  \"CDM.Rating\"                 \n",
       "[85] \"RWB.Rating\"                  \"LB.Rating\"                  \n",
       "[87] \"CB.Rating\"                   \"RB.Rating\"                  \n",
       "[89] \"GK.Rating\"                  "
      ]
     },
     "metadata": {},
     "output_type": "display_data"
    }
   ],
   "source": [
    "colnames(players)"
   ]
  },
  {
   "cell_type": "markdown",
   "id": "61a5c2e7",
   "metadata": {},
   "source": [
    "## Crossing By Best Position"
   ]
  },
  {
   "cell_type": "code",
   "execution_count": 4,
   "id": "96928dc4",
   "metadata": {
    "scrolled": true
   },
   "outputs": [
    {
     "data": {
      "image/png": "[encoded data removed]",
      "text/plain": [
       "plot without title"
      ]
     },
     "metadata": {},
     "output_type": "display_data"
    }
   ],
   "source": [
    "options(repr.plot.width=9, repr.plot.height=5)\n",
    "df <- players[,c('Best.Position', 'Crossing')]\n",
    "ggplot(df,  aes(x=factor(Best.Position), y=Crossing)) + geom_boxplot() "
   ]
  },
  {
   "cell_type": "markdown",
   "id": "532742ea",
   "metadata": {},
   "source": [
    "### All Left and Right Positions"
   ]
  },
  {
   "cell_type": "code",
   "execution_count": 5,
   "id": "a6aeb6db",
   "metadata": {},
   "outputs": [
    {
     "data": {
      "text/html": [
       "<table>\n",
       "<thead><tr><th></th><th scope=col>Best.Position</th><th scope=col>Crossing</th></tr></thead>\n",
       "<tbody>\n",
       "\t<tr><th scope=row>6</th><td>RW</td><td>80</td></tr>\n",
       "\t<tr><th scope=row>12</th><td>LW</td><td>84</td></tr>\n",
       "\t<tr><th scope=row>13</th><td>LW</td><td>83</td></tr>\n",
       "\t<tr><th scope=row>16</th><td>LM</td><td>78</td></tr>\n",
       "\t<tr><th scope=row>25</th><td>LB</td><td>88</td></tr>\n",
       "\t<tr><th scope=row>40</th><td>LB</td><td>88</td></tr>\n",
       "</tbody>\n",
       "</table>\n"
      ],
      "text/latex": [
       "\\begin{tabular}{r|ll}\n",
       "  & Best.Position & Crossing\\\\\n",
       "\\hline\n",
       "\t6 & RW & 80\\\\\n",
       "\t12 & LW & 84\\\\\n",
       "\t13 & LW & 83\\\\\n",
       "\t16 & LM & 78\\\\\n",
       "\t25 & LB & 88\\\\\n",
       "\t40 & LB & 88\\\\\n",
       "\\end{tabular}\n"
      ],
      "text/markdown": [
       "\n",
       "| <!--/--> | Best.Position | Crossing |\n",
       "|---|---|---|\n",
       "| 6 | RW | 80 |\n",
       "| 12 | LW | 84 |\n",
       "| 13 | LW | 83 |\n",
       "| 16 | LM | 78 |\n",
       "| 25 | LB | 88 |\n",
       "| 40 | LB | 88 |\n",
       "\n"
      ],
      "text/plain": [
       "   Best.Position Crossing\n",
       "6  RW            80      \n",
       "12 LW            84      \n",
       "13 LW            83      \n",
       "16 LM            78      \n",
       "25 LB            88      \n",
       "40 LB            88      "
      ]
     },
     "metadata": {},
     "output_type": "display_data"
    }
   ],
   "source": [
    "group <- c('LM', 'RM', 'LB', 'RB', 'LWB', 'RWB', 'LW', 'RW')\n",
    "df2 <- players[(players['Best.Position'] == 'LM') |\n",
    "              (players['Best.Position'] == 'RM') |\n",
    "              (players['Best.Position'] == 'LB') |\n",
    "              (players['Best.Position'] == 'RB') |\n",
    "              (players['Best.Position'] == 'LWB') |\n",
    "              (players['Best.Position'] == 'RWB') |\n",
    "              (players['Best.Position'] == 'LW') |\n",
    "              (players['Best.Position'] == 'RW'),\n",
    "              c('Best.Position', 'Crossing')]\n",
    "df2 <- droplevels(df2) # To change to new levels\n",
    "head(df2)"
   ]
  },
  {
   "cell_type": "markdown",
   "id": "c7ee0228",
   "metadata": {},
   "source": [
    "### Normality Assumption Check"
   ]
  },
  {
   "cell_type": "code",
   "execution_count": 6,
   "id": "b0358142",
   "metadata": {},
   "outputs": [
    {
     "data": {
      "image/png": "[encoded data removed]",
      "text/plain": [
       "Plot with title \"RW\""
      ]
     },
     "metadata": {},
     "output_type": "display_data"
    }
   ],
   "source": [
    "options(repr.plot.width=9, repr.plot.height=9)\n",
    "par(mfrow=c(3,3))\n",
    "for (pos in group){\n",
    "    hist(df2[df2['Best.Position'] == pos, 'Crossing'], main=pos, xlab='Crossing', col='lightblue')\n",
    "}"
   ]
  },
  {
   "cell_type": "code",
   "execution_count": 7,
   "id": "85d8a477",
   "metadata": {},
   "outputs": [
    {
     "data": {
      "image/png": "[encoded data removed]",
      "text/plain": [
       "Plot with title \"RW\""
      ]
     },
     "metadata": {},
     "output_type": "display_data"
    }
   ],
   "source": [
    "options(repr.plot.width=9, repr.plot.height=9)\n",
    "par(mfrow=c(3,3))\n",
    "for (pos in group){\n",
    "    qqnorm(df2[df2['Best.Position'] == pos, 'Crossing'], main=pos, col='navy')\n",
    "    qqline(df2[df2['Best.Position'] == pos, 'Crossing'], col='slateblue4')\n",
    "}"
   ]
  },
  {
   "cell_type": "markdown",
   "id": "16f12e53",
   "metadata": {},
   "source": [
    "The Q-Q plot shows a largely straight-line pattern if it is from a normal distribution. From the above figure, not all Q-Q plots are in a straight-line. Let's do Shapiro-Wilk test to get more conclusive evidence."
   ]
  },
  {
   "cell_type": "code",
   "execution_count": 8,
   "id": "83fbc86c",
   "metadata": {},
   "outputs": [
    {
     "data": {
      "text/html": [
       "<table>\n",
       "<thead><tr><th></th><th scope=col>group</th><th scope=col>length</th><th scope=col>pvalue</th></tr></thead>\n",
       "<tbody>\n",
       "\t<tr><th scope=row>1</th><td>LM   </td><td> 797 </td><td>0.001</td></tr>\n",
       "\t<tr><th scope=row>2</th><td>RM   </td><td>1443 </td><td>0.000</td></tr>\n",
       "\t<tr><th scope=row>4</th><td>RB   </td><td> 925 </td><td>0.000</td></tr>\n",
       "\t<tr><th scope=row>5</th><td>LWB  </td><td> 404 </td><td>0.001</td></tr>\n",
       "\t<tr><th scope=row>6</th><td>RWB  </td><td> 422 </td><td>0.030</td></tr>\n",
       "</tbody>\n",
       "</table>\n"
      ],
      "text/latex": [
       "\\begin{tabular}{r|lll}\n",
       "  & group & length & pvalue\\\\\n",
       "\\hline\n",
       "\t1 & LM    &  797  & 0.001\\\\\n",
       "\t2 & RM    & 1443  & 0.000\\\\\n",
       "\t4 & RB    &  925  & 0.000\\\\\n",
       "\t5 & LWB   &  404  & 0.001\\\\\n",
       "\t6 & RWB   &  422  & 0.030\\\\\n",
       "\\end{tabular}\n"
      ],
      "text/markdown": [
       "\n",
       "| <!--/--> | group | length | pvalue |\n",
       "|---|---|---|---|\n",
       "| 1 | LM    |  797  | 0.001 |\n",
       "| 2 | RM    | 1443  | 0.000 |\n",
       "| 4 | RB    |  925  | 0.000 |\n",
       "| 5 | LWB   |  404  | 0.001 |\n",
       "| 6 | RWB   |  422  | 0.030 |\n",
       "\n"
      ],
      "text/plain": [
       "  group length pvalue\n",
       "1 LM     797   0.001 \n",
       "2 RM    1443   0.000 \n",
       "4 RB     925   0.000 \n",
       "5 LWB    404   0.001 \n",
       "6 RWB    422   0.030 "
      ]
     },
     "metadata": {},
     "output_type": "display_data"
    }
   ],
   "source": [
    "pvalue <- vector()\n",
    "length <- vector()\n",
    "for (pos in group){\n",
    "    x <- df2[df2['Best.Position'] == pos, 'Crossing']\n",
    "    pvalue <- append(pvalue, round(shapiro.test(x)[[2]], 3))\n",
    "    length <- append(length, length(x))\n",
    "}\n",
    "normaldf <- data.frame(group, length, pvalue)\n",
    "normaldf[normaldf['pvalue'] <= 0.05,]"
   ]
  },
  {
   "cell_type": "code",
   "execution_count": 9,
   "id": "fbf6b88d",
   "metadata": {},
   "outputs": [
    {
     "data": {
      "text/plain": [
       "\n",
       "\tShapiro-Wilk normality test\n",
       "\n",
       "data:  df2[df2[\"Best.Position\"] == \"LM\", \"Crossing\"]\n",
       "W = 0.99342, p-value = 0.001416\n"
      ]
     },
     "metadata": {},
     "output_type": "display_data"
    }
   ],
   "source": [
    "# LM (for demonstration)\n",
    "shapiro.test(df2[df2['Best.Position'] == 'LM', 'Crossing'])"
   ]
  },
  {
   "cell_type": "markdown",
   "id": "2600ffcc",
   "metadata": {},
   "source": [
    "At 5% significance level, LM, RM, RB, LWB, and RWB may not come from a normal distribution. However, as each sample size is larger than 30, by using Central Limit Theorem, we can approximate each distribution to be normal. Hence, the normality assumption is satisfied for large sample size."
   ]
  },
  {
   "cell_type": "markdown",
   "id": "8f97ab3b",
   "metadata": {},
   "source": [
    "### Homogeneity of Variance Assumption Check"
   ]
  },
  {
   "cell_type": "code",
   "execution_count": 10,
   "id": "cbc7bd22",
   "metadata": {},
   "outputs": [],
   "source": [
    "groupC <- combn(group, 2, simplify=FALSE)"
   ]
  },
  {
   "cell_type": "code",
   "execution_count": 11,
   "id": "631de596",
   "metadata": {},
   "outputs": [
    {
     "data": {
      "text/html": [
       "<table>\n",
       "<thead><tr><th></th><th scope=col>pair</th><th scope=col>pvalue</th></tr></thead>\n",
       "<tbody>\n",
       "\t<tr><th scope=row>2</th><td>LM LB </td><td>0.000 </td></tr>\n",
       "\t<tr><th scope=row>3</th><td>LM RB </td><td>0.000 </td></tr>\n",
       "\t<tr><th scope=row>8</th><td>RM LB </td><td>0.001 </td></tr>\n",
       "\t<tr><th scope=row>9</th><td>RM RB </td><td>0.000 </td></tr>\n",
       "\t<tr><th scope=row>15</th><td>LB LWB</td><td>0.000 </td></tr>\n",
       "\t<tr><th scope=row>16</th><td>LB RWB</td><td>0.000 </td></tr>\n",
       "\t<tr><th scope=row>18</th><td>LB RW </td><td>0.027 </td></tr>\n",
       "\t<tr><th scope=row>19</th><td>RB LWB</td><td>0.000 </td></tr>\n",
       "\t<tr><th scope=row>20</th><td>RB RWB</td><td>0.000 </td></tr>\n",
       "\t<tr><th scope=row>22</th><td>RB RW </td><td>0.012 </td></tr>\n",
       "</tbody>\n",
       "</table>\n"
      ],
      "text/latex": [
       "\\begin{tabular}{r|ll}\n",
       "  & pair & pvalue\\\\\n",
       "\\hline\n",
       "\t2 & LM LB  & 0.000 \\\\\n",
       "\t3 & LM RB  & 0.000 \\\\\n",
       "\t8 & RM LB  & 0.001 \\\\\n",
       "\t9 & RM RB  & 0.000 \\\\\n",
       "\t15 & LB LWB & 0.000 \\\\\n",
       "\t16 & LB RWB & 0.000 \\\\\n",
       "\t18 & LB RW  & 0.027 \\\\\n",
       "\t19 & RB LWB & 0.000 \\\\\n",
       "\t20 & RB RWB & 0.000 \\\\\n",
       "\t22 & RB RW  & 0.012 \\\\\n",
       "\\end{tabular}\n"
      ],
      "text/markdown": [
       "\n",
       "| <!--/--> | pair | pvalue |\n",
       "|---|---|---|\n",
       "| 2 | LM LB  | 0.000  |\n",
       "| 3 | LM RB  | 0.000  |\n",
       "| 8 | RM LB  | 0.001  |\n",
       "| 9 | RM RB  | 0.000  |\n",
       "| 15 | LB LWB | 0.000  |\n",
       "| 16 | LB RWB | 0.000  |\n",
       "| 18 | LB RW  | 0.027  |\n",
       "| 19 | RB LWB | 0.000  |\n",
       "| 20 | RB RWB | 0.000  |\n",
       "| 22 | RB RW  | 0.012  |\n",
       "\n"
      ],
      "text/plain": [
       "   pair   pvalue\n",
       "2  LM LB  0.000 \n",
       "3  LM RB  0.000 \n",
       "8  RM LB  0.001 \n",
       "9  RM RB  0.000 \n",
       "15 LB LWB 0.000 \n",
       "16 LB RWB 0.000 \n",
       "18 LB RW  0.027 \n",
       "19 RB LWB 0.000 \n",
       "20 RB RWB 0.000 \n",
       "22 RB RW  0.012 "
      ]
     },
     "metadata": {},
     "output_type": "display_data"
    }
   ],
   "source": [
    "pvalue <- vector()\n",
    "pair <- vector()\n",
    "for (i in groupC){\n",
    "    pos <- unlist(i)\n",
    "    x <- df2[df2['Best.Position'] == pos[1], 'Crossing']\n",
    "    y <- df2[df2['Best.Position'] == pos[2], 'Crossing']\n",
    "    pair <- append(pair, paste(pos[1], pos[2]))\n",
    "    pvalue <- append(pvalue, round(var.test(x, y)[[3]], 3))\n",
    "}\n",
    "variancedf <- data.frame(pair, pvalue)\n",
    "# Select combinations which do not have the same variance\n",
    "variancedf[variancedf['pvalue'] <= 0.05,]"
   ]
  },
  {
   "cell_type": "markdown",
   "id": "4079b1b1",
   "metadata": {},
   "source": [
    "At 5% significance level, LB, RB, LM, and RM may not have equal variances."
   ]
  },
  {
   "cell_type": "markdown",
   "id": "abc825ee",
   "metadata": {},
   "source": [
    "### Selected Positions"
   ]
  },
  {
   "cell_type": "markdown",
   "id": "c5af5ca3",
   "metadata": {},
   "source": [
    "Only 4 positions, namely LWB, RWB, LW, and RW satisfy all assumptions."
   ]
  },
  {
   "cell_type": "code",
   "execution_count": 12,
   "id": "704890af",
   "metadata": {},
   "outputs": [
    {
     "data": {
      "text/html": [
       "<table>\n",
       "<thead><tr><th></th><th scope=col>Best.Position</th><th scope=col>Crossing</th></tr></thead>\n",
       "<tbody>\n",
       "\t<tr><th scope=row>6</th><td>RW</td><td>80</td></tr>\n",
       "\t<tr><th scope=row>12</th><td>LW</td><td>84</td></tr>\n",
       "\t<tr><th scope=row>13</th><td>LW</td><td>83</td></tr>\n",
       "\t<tr><th scope=row>48</th><td>LW</td><td>79</td></tr>\n",
       "\t<tr><th scope=row>49</th><td>RW</td><td>81</td></tr>\n",
       "\t<tr><th scope=row>64</th><td>LW</td><td>72</td></tr>\n",
       "</tbody>\n",
       "</table>\n"
      ],
      "text/latex": [
       "\\begin{tabular}{r|ll}\n",
       "  & Best.Position & Crossing\\\\\n",
       "\\hline\n",
       "\t6 & RW & 80\\\\\n",
       "\t12 & LW & 84\\\\\n",
       "\t13 & LW & 83\\\\\n",
       "\t48 & LW & 79\\\\\n",
       "\t49 & RW & 81\\\\\n",
       "\t64 & LW & 72\\\\\n",
       "\\end{tabular}\n"
      ],
      "text/markdown": [
       "\n",
       "| <!--/--> | Best.Position | Crossing |\n",
       "|---|---|---|\n",
       "| 6 | RW | 80 |\n",
       "| 12 | LW | 84 |\n",
       "| 13 | LW | 83 |\n",
       "| 48 | LW | 79 |\n",
       "| 49 | RW | 81 |\n",
       "| 64 | LW | 72 |\n",
       "\n"
      ],
      "text/plain": [
       "   Best.Position Crossing\n",
       "6  RW            80      \n",
       "12 LW            84      \n",
       "13 LW            83      \n",
       "48 LW            79      \n",
       "49 RW            81      \n",
       "64 LW            72      "
      ]
     },
     "metadata": {},
     "output_type": "display_data"
    }
   ],
   "source": [
    "group <- c('LWB', 'RWB', 'LW', 'RW')\n",
    "df2 <- players[(players['Best.Position'] == 'LWB') |\n",
    "              (players['Best.Position'] == 'RWB') |\n",
    "              (players['Best.Position'] == 'LW') |\n",
    "              (players['Best.Position'] == 'RW'),\n",
    "              c('Best.Position', 'Crossing')]\n",
    "df2 <- droplevels(df2) # To change to new levels\n",
    "head(df2)"
   ]
  },
  {
   "cell_type": "markdown",
   "id": "828d2675",
   "metadata": {},
   "source": [
    "### ANOVA Test"
   ]
  },
  {
   "cell_type": "markdown",
   "id": "4ae882e2",
   "metadata": {},
   "source": [
    "The hypothesis testing is formulated as follows:\n",
    "\n",
    "H<sub>0</sub>: µ<sub>LWB</sub> = µ<sub>RWB</sub> = µ<sub>LW</sub> = µ<sub>RW</sub>\n",
    "\n",
    "H<sub>1</sub>: At least one of their means is not equal."
   ]
  },
  {
   "cell_type": "code",
   "execution_count": 13,
   "id": "be25e5b1",
   "metadata": {},
   "outputs": [
    {
     "data": {
      "text/html": [
       "61.4525259542769"
      ],
      "text/latex": [
       "61.4525259542769"
      ],
      "text/markdown": [
       "61.4525259542769"
      ],
      "text/plain": [
       "[1] 61.45253"
      ]
     },
     "metadata": {},
     "output_type": "display_data"
    },
    {
     "data": {
      "text/html": [
       "130.847544698276"
      ],
      "text/latex": [
       "130.847544698276"
      ],
      "text/markdown": [
       "130.847544698276"
      ],
      "text/plain": [
       "[1] 130.8475"
      ]
     },
     "metadata": {},
     "output_type": "display_data"
    },
    {
     "data": {
      "text/html": [
       "2.12924599382021"
      ],
      "text/latex": [
       "2.12924599382021"
      ],
      "text/markdown": [
       "2.12924599382021"
      ],
      "text/plain": [
       "[1] 2.129246"
      ]
     },
     "metadata": {},
     "output_type": "display_data"
    }
   ],
   "source": [
    "n <- nrow(df2); k <- length(group)\n",
    "Sw2 <- 0; Sb2 <- 0\n",
    "Xbar <- mean(df2$Crossing)\n",
    "for (pos in group){\n",
    "    Xi <- df2[df2['Best.Position'] == pos, 'Crossing']\n",
    "    Sw2 <- Sw2 + sum((Xi - mean(Xi))^2)\n",
    "    Sb2 <- Sb2 + length(Xi)*((mean(Xi) - Xbar)^2)\n",
    "}\n",
    "Sw2 <- Sw2/(n-k)\n",
    "Sb2 <- Sb2/(k-1)\n",
    "F <- Sb2/Sw2\n",
    "Sw2;Sb2;F"
   ]
  },
  {
   "cell_type": "code",
   "execution_count": 14,
   "id": "77e75ff8",
   "metadata": {},
   "outputs": [
    {
     "data": {
      "text/html": [
       "392.542634094829"
      ],
      "text/latex": [
       "392.542634094829"
      ],
      "text/markdown": [
       "392.542634094829"
      ],
      "text/plain": [
       "[1] 392.5426"
      ]
     },
     "metadata": {},
     "output_type": "display_data"
    },
    {
     "data": {
      "text/html": [
       "81977.6696230053"
      ],
      "text/latex": [
       "81977.6696230053"
      ],
      "text/markdown": [
       "81977.6696230053"
      ],
      "text/plain": [
       "[1] 81977.67"
      ]
     },
     "metadata": {},
     "output_type": "display_data"
    }
   ],
   "source": [
    "# sum of squares\n",
    "Sb2*(k-1)\n",
    "# residuals\n",
    "Sw2*(n-k)"
   ]
  },
  {
   "cell_type": "code",
   "execution_count": 15,
   "id": "45e395aa",
   "metadata": {},
   "outputs": [
    {
     "data": {
      "text/html": [
       "0.0947297108516023"
      ],
      "text/latex": [
       "0.0947297108516023"
      ],
      "text/markdown": [
       "0.0947297108516023"
      ],
      "text/plain": [
       "[1] 0.09472971"
      ]
     },
     "metadata": {},
     "output_type": "display_data"
    }
   ],
   "source": [
    "1-pf(F, df1=k-1, df2=n-k)"
   ]
  },
  {
   "cell_type": "code",
   "execution_count": 16,
   "id": "f94f5c23",
   "metadata": {},
   "outputs": [
    {
     "data": {
      "text/plain": [
       "Call:\n",
       "   aov(formula = df2$Crossing ~ factor(df2$Best.Position))\n",
       "\n",
       "Terms:\n",
       "                factor(df2$Best.Position) Residuals\n",
       "Sum of Squares                     392.54  81977.67\n",
       "Deg. of Freedom                         3      1334\n",
       "\n",
       "Residual standard error: 7.839166\n",
       "Estimated effects may be unbalanced"
      ]
     },
     "metadata": {},
     "output_type": "display_data"
    }
   ],
   "source": [
    "aov(df2$Crossing ~ factor(df2$Best.Position))"
   ]
  },
  {
   "cell_type": "code",
   "execution_count": 17,
   "id": "02fdb28c",
   "metadata": {},
   "outputs": [
    {
     "data": {
      "text/plain": [
       "                            Df Sum Sq Mean Sq F value Pr(>F)  \n",
       "factor(df2$Best.Position)    3    393  130.85   2.129 0.0947 .\n",
       "Residuals                 1334  81978   61.45                 \n",
       "---\n",
       "Signif. codes:  0 '***' 0.001 '**' 0.01 '*' 0.05 '.' 0.1 ' ' 1"
      ]
     },
     "metadata": {},
     "output_type": "display_data"
    }
   ],
   "source": [
    "summary(aov(df2$Crossing ~ factor(df2$Best.Position)))"
   ]
  },
  {
   "cell_type": "markdown",
   "id": "07956766",
   "metadata": {},
   "source": [
    "At 5% significance level, LWB, RWB, LW, and RW may have equal means."
   ]
  },
  {
   "cell_type": "markdown",
   "id": "cf126735",
   "metadata": {},
   "source": [
    "### Pairwise T-test"
   ]
  },
  {
   "cell_type": "markdown",
   "id": "1751c662",
   "metadata": {},
   "source": [
    "Let's compare the mean of each pair."
   ]
  },
  {
   "cell_type": "markdown",
   "id": "acec56d7",
   "metadata": {},
   "source": [
    "For example, the hypothesis testing for LW vs RW is formulated as follows:\n",
    "\n",
    "H<sub>0</sub>: µ<sub>LW</sub> = µ<sub>RW</sub>\n",
    "\n",
    "H<sub>1</sub>: µ<sub>LW</sub> ≠ µ<sub>RW</sub>"
   ]
  },
  {
   "cell_type": "code",
   "execution_count": 18,
   "id": "e5bc0dc6",
   "metadata": {},
   "outputs": [
    {
     "data": {
      "text/plain": [
       "\n",
       "\tPairwise comparisons using t tests with pooled SD \n",
       "\n",
       "data:  df2$Crossing and df2$Best.Position \n",
       "\n",
       "    LW    LWB   RW   \n",
       "LWB 0.980 -     -    \n",
       "RW  0.341 0.276 -    \n",
       "RWB 0.221 0.133 0.013\n",
       "\n",
       "P value adjustment method: none "
      ]
     },
     "metadata": {},
     "output_type": "display_data"
    }
   ],
   "source": [
    "pairwise.t.test(df2$Crossing, df2$Best.Position, p.adjust.method = 'none')"
   ]
  },
  {
   "cell_type": "markdown",
   "id": "8c3b644b",
   "metadata": {},
   "source": [
    "At 5% significance level, all combinations have equal means while RW vs RWB have unequal means."
   ]
  },
  {
   "cell_type": "code",
   "execution_count": null,
   "id": "9a585852",
   "metadata": {},
   "outputs": [],
   "source": []
  }
 ],
 "metadata": {
  "kernelspec": {
   "display_name": "R",
   "language": "R",
   "name": "ir"
  },
  "language_info": {
   "codemirror_mode": "r",
   "file_extension": ".r",
   "mimetype": "text/x-r-source",
   "name": "R",
   "pygments_lexer": "r",
   "version": "3.6.1"
  }
 },
 "nbformat": 4,
 "nbformat_minor": 5
}
