{
 "cells": [
  {
   "cell_type": "code",
   "execution_count": 1,
   "id": "246fb4fc",
   "metadata": {},
   "outputs": [],
   "source": [
    "players23 <- read.csv(\"./fifa23_players_data.csv\")\n",
    "teams23 <- read.csv(\"./fifa23_teams_data.csv\")"
   ]
  },
  {
   "cell_type": "code",
   "execution_count": 2,
   "id": "9501cea8",
   "metadata": {},
   "outputs": [
    {
     "data": {
      "text/html": [
       "<table>\n",
       "<thead><tr><th scope=col>Overall</th><th scope=col>Value.in.Euro.</th><th scope=col>Best.Position</th><th scope=col>Height.in.cm.</th><th scope=col>Weight.in.kg.</th><th scope=col>Club.Name</th><th scope=col>Club.Jersey.Number</th><th scope=col>Crossing</th><th scope=col>Preferred.Foot</th><th scope=col>Skill.Moves</th><th scope=col>Shot.Power</th><th scope=col>Long.Shots</th><th scope=col>Finishing</th></tr></thead>\n",
       "<tbody>\n",
       "\t<tr><td>91                 </td><td> 54000000          </td><td>CAM                </td><td>169                </td><td>67                 </td><td>Paris Saint-Germain</td><td>30                 </td><td>84                 </td><td>Left               </td><td>4                  </td><td>86                 </td><td>91                 </td><td>90                 </td></tr>\n",
       "\t<tr><td>91                 </td><td> 64000000          </td><td>CF                 </td><td>185                </td><td>81                 </td><td>Real Madrid CF     </td><td>9                  </td><td>75                 </td><td>Right              </td><td>4                  </td><td>87                 </td><td>80                 </td><td>92                 </td></tr>\n",
       "\t<tr><td>91                 </td><td> 84000000          </td><td>ST                 </td><td>185                </td><td>81                 </td><td>FC Barcelona       </td><td>9                  </td><td>71                 </td><td>Right              </td><td>4                  </td><td>91                 </td><td>84                 </td><td>94                 </td></tr>\n",
       "\t<tr><td>91                 </td><td>107500000          </td><td>CM                 </td><td>181                </td><td>70                 </td><td>Manchester City    </td><td>17                 </td><td>94                 </td><td>Right              </td><td>4                  </td><td>92                 </td><td>91                 </td><td>85                 </td></tr>\n",
       "\t<tr><td>91                 </td><td>190500000          </td><td>ST                 </td><td>182                </td><td>73                 </td><td>Paris Saint-Germain</td><td>7                  </td><td>78                 </td><td>Right              </td><td>5                  </td><td>88                 </td><td>82                 </td><td>93                 </td></tr>\n",
       "\t<tr><td>90                 </td><td>115500000          </td><td>RW                 </td><td>175                </td><td>71                 </td><td>Liverpool          </td><td>11                 </td><td>80                 </td><td>Left               </td><td>4                  </td><td>83                 </td><td>85                 </td><td>93                 </td></tr>\n",
       "</tbody>\n",
       "</table>\n"
      ],
      "text/latex": [
       "\\begin{tabular}{r|lllllllllllll}\n",
       " Overall & Value.in.Euro. & Best.Position & Height.in.cm. & Weight.in.kg. & Club.Name & Club.Jersey.Number & Crossing & Preferred.Foot & Skill.Moves & Shot.Power & Long.Shots & Finishing\\\\\n",
       "\\hline\n",
       "\t 91                  &  54000000           & CAM                 & 169                 & 67                  & Paris Saint-Germain & 30                  & 84                  & Left                & 4                   & 86                  & 91                  & 90                 \\\\\n",
       "\t 91                  &  64000000           & CF                  & 185                 & 81                  & Real Madrid CF      & 9                   & 75                  & Right               & 4                   & 87                  & 80                  & 92                 \\\\\n",
       "\t 91                  &  84000000           & ST                  & 185                 & 81                  & FC Barcelona        & 9                   & 71                  & Right               & 4                   & 91                  & 84                  & 94                 \\\\\n",
       "\t 91                  & 107500000           & CM                  & 181                 & 70                  & Manchester City     & 17                  & 94                  & Right               & 4                   & 92                  & 91                  & 85                 \\\\\n",
       "\t 91                  & 190500000           & ST                  & 182                 & 73                  & Paris Saint-Germain & 7                   & 78                  & Right               & 5                   & 88                  & 82                  & 93                 \\\\\n",
       "\t 90                  & 115500000           & RW                  & 175                 & 71                  & Liverpool           & 11                  & 80                  & Left                & 4                   & 83                  & 85                  & 93                 \\\\\n",
       "\\end{tabular}\n"
      ],
      "text/markdown": [
       "\n",
       "| Overall | Value.in.Euro. | Best.Position | Height.in.cm. | Weight.in.kg. | Club.Name | Club.Jersey.Number | Crossing | Preferred.Foot | Skill.Moves | Shot.Power | Long.Shots | Finishing |\n",
       "|---|---|---|---|---|---|---|---|---|---|---|---|---|\n",
       "| 91                  |  54000000           | CAM                 | 169                 | 67                  | Paris Saint-Germain | 30                  | 84                  | Left                | 4                   | 86                  | 91                  | 90                  |\n",
       "| 91                  |  64000000           | CF                  | 185                 | 81                  | Real Madrid CF      | 9                   | 75                  | Right               | 4                   | 87                  | 80                  | 92                  |\n",
       "| 91                  |  84000000           | ST                  | 185                 | 81                  | FC Barcelona        | 9                   | 71                  | Right               | 4                   | 91                  | 84                  | 94                  |\n",
       "| 91                  | 107500000           | CM                  | 181                 | 70                  | Manchester City     | 17                  | 94                  | Right               | 4                   | 92                  | 91                  | 85                  |\n",
       "| 91                  | 190500000           | ST                  | 182                 | 73                  | Paris Saint-Germain | 7                   | 78                  | Right               | 5                   | 88                  | 82                  | 93                  |\n",
       "| 90                  | 115500000           | RW                  | 175                 | 71                  | Liverpool           | 11                  | 80                  | Left                | 4                   | 83                  | 85                  | 93                  |\n",
       "\n"
      ],
      "text/plain": [
       "  Overall Value.in.Euro. Best.Position Height.in.cm. Weight.in.kg.\n",
       "1 91       54000000      CAM           169           67           \n",
       "2 91       64000000      CF            185           81           \n",
       "3 91       84000000      ST            185           81           \n",
       "4 91      107500000      CM            181           70           \n",
       "5 91      190500000      ST            182           73           \n",
       "6 90      115500000      RW            175           71           \n",
       "  Club.Name           Club.Jersey.Number Crossing Preferred.Foot Skill.Moves\n",
       "1 Paris Saint-Germain 30                 84       Left           4          \n",
       "2 Real Madrid CF      9                  75       Right          4          \n",
       "3 FC Barcelona        9                  71       Right          4          \n",
       "4 Manchester City     17                 94       Right          4          \n",
       "5 Paris Saint-Germain 7                  78       Right          5          \n",
       "6 Liverpool           11                 80       Left           4          \n",
       "  Shot.Power Long.Shots Finishing\n",
       "1 86         91         90       \n",
       "2 87         80         92       \n",
       "3 91         84         94       \n",
       "4 92         91         85       \n",
       "5 88         82         93       \n",
       "6 83         85         93       "
      ]
     },
     "metadata": {},
     "output_type": "display_data"
    },
    {
     "data": {
      "text/html": [
       "<ol class=list-inline>\n",
       "\t<li>18539</li>\n",
       "\t<li>13</li>\n",
       "</ol>\n"
      ],
      "text/latex": [
       "\\begin{enumerate*}\n",
       "\\item 18539\n",
       "\\item 13\n",
       "\\end{enumerate*}\n"
      ],
      "text/markdown": [
       "1. 18539\n",
       "2. 13\n",
       "\n",
       "\n"
      ],
      "text/plain": [
       "[1] 18539    13"
      ]
     },
     "metadata": {},
     "output_type": "display_data"
    }
   ],
   "source": [
    "relevantCols <- c(\"Overall\", \"Value.in.Euro.\", \"Best.Position\", \"Height.in.cm.\", \"Weight.in.kg.\", \n",
    "                 \"Club.Name\", \"Club.Jersey.Number\", \"Crossing\",\"Preferred.Foot\", \"Skill.Moves\",\n",
    "                 \"Shot.Power\", \"Long.Shots\", \"Finishing\")\n",
    "\n",
    "# assumed cleaned\n",
    "playersCleaned23 <- subset(players23, select=relevantCols)\n",
    "\n",
    "head(playersCleaned23); dim(playersCleaned23)"
   ]
  },
  {
   "cell_type": "code",
   "execution_count": 3,
   "id": "83a6668d",
   "metadata": {},
   "outputs": [
    {
     "data": {
      "text/html": [
       "<table>\n",
       "<thead><tr><th scope=col>Name</th><th scope=col>IntPrestige</th></tr></thead>\n",
       "<tbody>\n",
       "\t<tr><td>AFC Bournemouth       </td><td>1                     </td></tr>\n",
       "\t<tr><td>AFC Richmond          </td><td>3                     </td></tr>\n",
       "\t<tr><td>Arsenal               </td><td>7                     </td></tr>\n",
       "\t<tr><td>Aston Villa           </td><td>3                     </td></tr>\n",
       "\t<tr><td>Brentford             </td><td>1                     </td></tr>\n",
       "\t<tr><td>Brighton &amp; Hove Albion</td><td>2                         </td></tr>\n",
       "</tbody>\n",
       "</table>\n"
      ],
      "text/latex": [
       "\\begin{tabular}{r|ll}\n",
       " Name & IntPrestige\\\\\n",
       "\\hline\n",
       "\t AFC Bournemouth        & 1                     \\\\\n",
       "\t AFC Richmond           & 3                     \\\\\n",
       "\t Arsenal                & 7                     \\\\\n",
       "\t Aston Villa            & 3                     \\\\\n",
       "\t Brentford              & 1                     \\\\\n",
       "\t Brighton \\& Hove Albion & 2                       \\\\\n",
       "\\end{tabular}\n"
      ],
      "text/markdown": [
       "\n",
       "| Name | IntPrestige |\n",
       "|---|---|\n",
       "| AFC Bournemouth        | 1                      |\n",
       "| AFC Richmond           | 3                      |\n",
       "| Arsenal                | 7                      |\n",
       "| Aston Villa            | 3                      |\n",
       "| Brentford              | 1                      |\n",
       "| Brighton & Hove Albion | 2                      |\n",
       "\n"
      ],
      "text/plain": [
       "  Name                   IntPrestige\n",
       "1 AFC Bournemouth        1          \n",
       "2 AFC Richmond           3          \n",
       "3 Arsenal                7          \n",
       "4 Aston Villa            3          \n",
       "5 Brentford              1          \n",
       "6 Brighton & Hove Albion 2          "
      ]
     },
     "metadata": {},
     "output_type": "display_data"
    }
   ],
   "source": [
    "teamsCleaned23 <- subset(teams23, select=c(\"Name\", \"IntPrestige\"))\n",
    "head(teamsCleaned23)"
   ]
  },
  {
   "cell_type": "code",
   "execution_count": 4,
   "id": "ab69b934",
   "metadata": {},
   "outputs": [
    {
     "data": {
      "text/html": [
       "<table>\n",
       "<thead><tr><th scope=col>Club.Name</th><th scope=col>Overall</th><th scope=col>Value.in.Euro.</th><th scope=col>Best.Position</th><th scope=col>Height.in.cm.</th><th scope=col>Weight.in.kg.</th><th scope=col>Club.Jersey.Number</th><th scope=col>Crossing</th><th scope=col>Preferred.Foot</th><th scope=col>Skill.Moves</th><th scope=col>Shot.Power</th><th scope=col>Long.Shots</th><th scope=col>Finishing</th><th scope=col>IntPrestige</th></tr></thead>\n",
       "<tbody>\n",
       "\t<tr><td>1. FC Heidenheim 1846</td><td>68                   </td><td>2400000              </td><td>RM                   </td><td>175                  </td><td>70                   </td><td>16                   </td><td>67                   </td><td>Right                </td><td>3                    </td><td>63                   </td><td>59                   </td><td>57                   </td><td>1                    </td></tr>\n",
       "\t<tr><td>1. FC Heidenheim 1846</td><td>67                   </td><td>2100000              </td><td>CB                   </td><td>186                  </td><td>80                   </td><td>27                   </td><td>42                   </td><td>Right                </td><td>2                    </td><td>61                   </td><td>40                   </td><td>37                   </td><td>1                    </td></tr>\n",
       "\t<tr><td>1. FC Heidenheim 1846</td><td>68                   </td><td>1000000              </td><td>CB                   </td><td>178                  </td><td>73                   </td><td>8                    </td><td>60                   </td><td>Right                </td><td>2                    </td><td>69                   </td><td>53                   </td><td>44                   </td><td>1                    </td></tr>\n",
       "\t<tr><td>1. FC Heidenheim 1846</td><td>71                   </td><td>1800000              </td><td>RB                   </td><td>182                  </td><td>80                   </td><td>2                    </td><td>69                   </td><td>Right                </td><td>2                    </td><td>75                   </td><td>54                   </td><td>40                   </td><td>1                    </td></tr>\n",
       "\t<tr><td>1. FC Heidenheim 1846</td><td>67                   </td><td>1900000              </td><td>CB                   </td><td>187                  </td><td>80                   </td><td>4                    </td><td>48                   </td><td>Left                 </td><td>2                    </td><td>45                   </td><td>41                   </td><td>25                   </td><td>1                    </td></tr>\n",
       "\t<tr><td>1. FC Heidenheim 1846</td><td>67                   </td><td>1100000              </td><td>LM                   </td><td>176                  </td><td>72                   </td><td>17                   </td><td>62                   </td><td>Right                </td><td>4                    </td><td>57                   </td><td>52                   </td><td>60                   </td><td>1                    </td></tr>\n",
       "</tbody>\n",
       "</table>\n"
      ],
      "text/latex": [
       "\\begin{tabular}{r|llllllllllllll}\n",
       " Club.Name & Overall & Value.in.Euro. & Best.Position & Height.in.cm. & Weight.in.kg. & Club.Jersey.Number & Crossing & Preferred.Foot & Skill.Moves & Shot.Power & Long.Shots & Finishing & IntPrestige\\\\\n",
       "\\hline\n",
       "\t 1. FC Heidenheim 1846 & 68                    & 2400000               & RM                    & 175                   & 70                    & 16                    & 67                    & Right                 & 3                     & 63                    & 59                    & 57                    & 1                    \\\\\n",
       "\t 1. FC Heidenheim 1846 & 67                    & 2100000               & CB                    & 186                   & 80                    & 27                    & 42                    & Right                 & 2                     & 61                    & 40                    & 37                    & 1                    \\\\\n",
       "\t 1. FC Heidenheim 1846 & 68                    & 1000000               & CB                    & 178                   & 73                    & 8                     & 60                    & Right                 & 2                     & 69                    & 53                    & 44                    & 1                    \\\\\n",
       "\t 1. FC Heidenheim 1846 & 71                    & 1800000               & RB                    & 182                   & 80                    & 2                     & 69                    & Right                 & 2                     & 75                    & 54                    & 40                    & 1                    \\\\\n",
       "\t 1. FC Heidenheim 1846 & 67                    & 1900000               & CB                    & 187                   & 80                    & 4                     & 48                    & Left                  & 2                     & 45                    & 41                    & 25                    & 1                    \\\\\n",
       "\t 1. FC Heidenheim 1846 & 67                    & 1100000               & LM                    & 176                   & 72                    & 17                    & 62                    & Right                 & 4                     & 57                    & 52                    & 60                    & 1                    \\\\\n",
       "\\end{tabular}\n"
      ],
      "text/markdown": [
       "\n",
       "| Club.Name | Overall | Value.in.Euro. | Best.Position | Height.in.cm. | Weight.in.kg. | Club.Jersey.Number | Crossing | Preferred.Foot | Skill.Moves | Shot.Power | Long.Shots | Finishing | IntPrestige |\n",
       "|---|---|---|---|---|---|---|---|---|---|---|---|---|---|\n",
       "| 1. FC Heidenheim 1846 | 68                    | 2400000               | RM                    | 175                   | 70                    | 16                    | 67                    | Right                 | 3                     | 63                    | 59                    | 57                    | 1                     |\n",
       "| 1. FC Heidenheim 1846 | 67                    | 2100000               | CB                    | 186                   | 80                    | 27                    | 42                    | Right                 | 2                     | 61                    | 40                    | 37                    | 1                     |\n",
       "| 1. FC Heidenheim 1846 | 68                    | 1000000               | CB                    | 178                   | 73                    | 8                     | 60                    | Right                 | 2                     | 69                    | 53                    | 44                    | 1                     |\n",
       "| 1. FC Heidenheim 1846 | 71                    | 1800000               | RB                    | 182                   | 80                    | 2                     | 69                    | Right                 | 2                     | 75                    | 54                    | 40                    | 1                     |\n",
       "| 1. FC Heidenheim 1846 | 67                    | 1900000               | CB                    | 187                   | 80                    | 4                     | 48                    | Left                  | 2                     | 45                    | 41                    | 25                    | 1                     |\n",
       "| 1. FC Heidenheim 1846 | 67                    | 1100000               | LM                    | 176                   | 72                    | 17                    | 62                    | Right                 | 4                     | 57                    | 52                    | 60                    | 1                     |\n",
       "\n"
      ],
      "text/plain": [
       "  Club.Name             Overall Value.in.Euro. Best.Position Height.in.cm.\n",
       "1 1. FC Heidenheim 1846 68      2400000        RM            175          \n",
       "2 1. FC Heidenheim 1846 67      2100000        CB            186          \n",
       "3 1. FC Heidenheim 1846 68      1000000        CB            178          \n",
       "4 1. FC Heidenheim 1846 71      1800000        RB            182          \n",
       "5 1. FC Heidenheim 1846 67      1900000        CB            187          \n",
       "6 1. FC Heidenheim 1846 67      1100000        LM            176          \n",
       "  Weight.in.kg. Club.Jersey.Number Crossing Preferred.Foot Skill.Moves\n",
       "1 70            16                 67       Right          3          \n",
       "2 80            27                 42       Right          2          \n",
       "3 73            8                  60       Right          2          \n",
       "4 80            2                  69       Right          2          \n",
       "5 80            4                  48       Left           2          \n",
       "6 72            17                 62       Right          4          \n",
       "  Shot.Power Long.Shots Finishing IntPrestige\n",
       "1 63         59         57        1          \n",
       "2 61         40         37        1          \n",
       "3 69         53         44        1          \n",
       "4 75         54         40        1          \n",
       "5 45         41         25        1          \n",
       "6 57         52         60        1          "
      ]
     },
     "metadata": {},
     "output_type": "display_data"
    },
    {
     "data": {
      "text/html": [
       "<ol class=list-inline>\n",
       "\t<li>18539</li>\n",
       "\t<li>14</li>\n",
       "</ol>\n"
      ],
      "text/latex": [
       "\\begin{enumerate*}\n",
       "\\item 18539\n",
       "\\item 14\n",
       "\\end{enumerate*}\n"
      ],
      "text/markdown": [
       "1. 18539\n",
       "2. 14\n",
       "\n",
       "\n"
      ],
      "text/plain": [
       "[1] 18539    14"
      ]
     },
     "metadata": {},
     "output_type": "display_data"
    }
   ],
   "source": [
    "playersTeamCombined <- merge(playersCleaned23, teamsCleaned23, by.x=\"Club.Name\", by.y=\"Name\", all.x = TRUE)\n",
    "head(playersTeamCombined); dim(playersTeamCombined)"
   ]
  },
  {
   "cell_type": "markdown",
   "id": "2f633276",
   "metadata": {},
   "source": [
    "# Data Cleaning"
   ]
  },
  {
   "cell_type": "markdown",
   "id": "2fb4ef88",
   "metadata": {},
   "source": [
    "Extract and rename col names"
   ]
  },
  {
   "cell_type": "code",
   "execution_count": 7,
   "id": "dd0c6758",
   "metadata": {},
   "outputs": [
    {
     "data": {
      "text/html": [
       "<table>\n",
       "<thead><tr><th scope=col>Overall</th><th scope=col>Value.in.Euro.</th><th scope=col>Best.Position</th><th scope=col>Height.in.cm.</th><th scope=col>Weight.in.kg.</th><th scope=col>Club.Jersey.Number</th><th scope=col>Crossing</th><th scope=col>Shot.Power</th><th scope=col>IntPrestige</th><th scope=col>Preferred.Foot</th><th scope=col>Skill.Moves</th><th scope=col>Long.Shots</th><th scope=col>Finishing</th></tr></thead>\n",
       "<tbody>\n",
       "\t<tr><td>68     </td><td>2400000</td><td>RM     </td><td>175    </td><td>70     </td><td>16     </td><td>67     </td><td>63     </td><td>1      </td><td>Right  </td><td>3      </td><td>59     </td><td>57     </td></tr>\n",
       "\t<tr><td>67     </td><td>2100000</td><td>CB     </td><td>186    </td><td>80     </td><td>27     </td><td>42     </td><td>61     </td><td>1      </td><td>Right  </td><td>2      </td><td>40     </td><td>37     </td></tr>\n",
       "\t<tr><td>68     </td><td>1000000</td><td>CB     </td><td>178    </td><td>73     </td><td>8      </td><td>60     </td><td>69     </td><td>1      </td><td>Right  </td><td>2      </td><td>53     </td><td>44     </td></tr>\n",
       "\t<tr><td>71     </td><td>1800000</td><td>RB     </td><td>182    </td><td>80     </td><td>2      </td><td>69     </td><td>75     </td><td>1      </td><td>Right  </td><td>2      </td><td>54     </td><td>40     </td></tr>\n",
       "\t<tr><td>67     </td><td>1900000</td><td>CB     </td><td>187    </td><td>80     </td><td>4      </td><td>48     </td><td>45     </td><td>1      </td><td>Left   </td><td>2      </td><td>41     </td><td>25     </td></tr>\n",
       "\t<tr><td>67     </td><td>1100000</td><td>LM     </td><td>176    </td><td>72     </td><td>17     </td><td>62     </td><td>57     </td><td>1      </td><td>Right  </td><td>4      </td><td>52     </td><td>60     </td></tr>\n",
       "</tbody>\n",
       "</table>\n"
      ],
      "text/latex": [
       "\\begin{tabular}{r|lllllllllllll}\n",
       " Overall & Value.in.Euro. & Best.Position & Height.in.cm. & Weight.in.kg. & Club.Jersey.Number & Crossing & Shot.Power & IntPrestige & Preferred.Foot & Skill.Moves & Long.Shots & Finishing\\\\\n",
       "\\hline\n",
       "\t 68      & 2400000 & RM      & 175     & 70      & 16      & 67      & 63      & 1       & Right   & 3       & 59      & 57     \\\\\n",
       "\t 67      & 2100000 & CB      & 186     & 80      & 27      & 42      & 61      & 1       & Right   & 2       & 40      & 37     \\\\\n",
       "\t 68      & 1000000 & CB      & 178     & 73      & 8       & 60      & 69      & 1       & Right   & 2       & 53      & 44     \\\\\n",
       "\t 71      & 1800000 & RB      & 182     & 80      & 2       & 69      & 75      & 1       & Right   & 2       & 54      & 40     \\\\\n",
       "\t 67      & 1900000 & CB      & 187     & 80      & 4       & 48      & 45      & 1       & Left    & 2       & 41      & 25     \\\\\n",
       "\t 67      & 1100000 & LM      & 176     & 72      & 17      & 62      & 57      & 1       & Right   & 4       & 52      & 60     \\\\\n",
       "\\end{tabular}\n"
      ],
      "text/markdown": [
       "\n",
       "| Overall | Value.in.Euro. | Best.Position | Height.in.cm. | Weight.in.kg. | Club.Jersey.Number | Crossing | Shot.Power | IntPrestige | Preferred.Foot | Skill.Moves | Long.Shots | Finishing |\n",
       "|---|---|---|---|---|---|---|---|---|---|---|---|---|\n",
       "| 68      | 2400000 | RM      | 175     | 70      | 16      | 67      | 63      | 1       | Right   | 3       | 59      | 57      |\n",
       "| 67      | 2100000 | CB      | 186     | 80      | 27      | 42      | 61      | 1       | Right   | 2       | 40      | 37      |\n",
       "| 68      | 1000000 | CB      | 178     | 73      | 8       | 60      | 69      | 1       | Right   | 2       | 53      | 44      |\n",
       "| 71      | 1800000 | RB      | 182     | 80      | 2       | 69      | 75      | 1       | Right   | 2       | 54      | 40      |\n",
       "| 67      | 1900000 | CB      | 187     | 80      | 4       | 48      | 45      | 1       | Left    | 2       | 41      | 25      |\n",
       "| 67      | 1100000 | LM      | 176     | 72      | 17      | 62      | 57      | 1       | Right   | 4       | 52      | 60      |\n",
       "\n"
      ],
      "text/plain": [
       "  Overall Value.in.Euro. Best.Position Height.in.cm. Weight.in.kg.\n",
       "1 68      2400000        RM            175           70           \n",
       "2 67      2100000        CB            186           80           \n",
       "3 68      1000000        CB            178           73           \n",
       "4 71      1800000        RB            182           80           \n",
       "5 67      1900000        CB            187           80           \n",
       "6 67      1100000        LM            176           72           \n",
       "  Club.Jersey.Number Crossing Shot.Power IntPrestige Preferred.Foot Skill.Moves\n",
       "1 16                 67       63         1           Right          3          \n",
       "2 27                 42       61         1           Right          2          \n",
       "3 8                  60       69         1           Right          2          \n",
       "4 2                  69       75         1           Right          2          \n",
       "5 4                  48       45         1           Left           2          \n",
       "6 17                 62       57         1           Right          4          \n",
       "  Long.Shots Finishing\n",
       "1 59         57       \n",
       "2 40         37       \n",
       "3 53         44       \n",
       "4 54         40       \n",
       "5 41         25       \n",
       "6 52         60       "
      ]
     },
     "metadata": {},
     "output_type": "display_data"
    },
    {
     "data": {
      "text/html": [
       "<ol class=list-inline>\n",
       "\t<li>18539</li>\n",
       "\t<li>13</li>\n",
       "</ol>\n"
      ],
      "text/latex": [
       "\\begin{enumerate*}\n",
       "\\item 18539\n",
       "\\item 13\n",
       "\\end{enumerate*}\n"
      ],
      "text/markdown": [
       "1. 18539\n",
       "2. 13\n",
       "\n",
       "\n"
      ],
      "text/plain": [
       "[1] 18539    13"
      ]
     },
     "metadata": {},
     "output_type": "display_data"
    },
    {
     "data": {
      "text/html": [
       "<table>\n",
       "<thead><tr><th scope=col>Overall</th><th scope=col>Value</th><th scope=col>BestPosition</th><th scope=col>Height</th><th scope=col>Weight</th><th scope=col>JerseyNumber</th><th scope=col>Crossing</th><th scope=col>ShotPower</th><th scope=col>IntPrestige</th><th scope=col>PreferredFoot</th><th scope=col>SkillMoves</th><th scope=col>Long.Shots</th><th scope=col>Finishing</th></tr></thead>\n",
       "<tbody>\n",
       "\t<tr><td>68     </td><td>2400000</td><td>RM     </td><td>175    </td><td>70     </td><td>16     </td><td>67     </td><td>63     </td><td>1      </td><td>Right  </td><td>3      </td><td>59     </td><td>57     </td></tr>\n",
       "\t<tr><td>67     </td><td>2100000</td><td>CB     </td><td>186    </td><td>80     </td><td>27     </td><td>42     </td><td>61     </td><td>1      </td><td>Right  </td><td>2      </td><td>40     </td><td>37     </td></tr>\n",
       "\t<tr><td>68     </td><td>1000000</td><td>CB     </td><td>178    </td><td>73     </td><td>8      </td><td>60     </td><td>69     </td><td>1      </td><td>Right  </td><td>2      </td><td>53     </td><td>44     </td></tr>\n",
       "\t<tr><td>71     </td><td>1800000</td><td>RB     </td><td>182    </td><td>80     </td><td>2      </td><td>69     </td><td>75     </td><td>1      </td><td>Right  </td><td>2      </td><td>54     </td><td>40     </td></tr>\n",
       "\t<tr><td>67     </td><td>1900000</td><td>CB     </td><td>187    </td><td>80     </td><td>4      </td><td>48     </td><td>45     </td><td>1      </td><td>Left   </td><td>2      </td><td>41     </td><td>25     </td></tr>\n",
       "\t<tr><td>67     </td><td>1100000</td><td>LM     </td><td>176    </td><td>72     </td><td>17     </td><td>62     </td><td>57     </td><td>1      </td><td>Right  </td><td>4      </td><td>52     </td><td>60     </td></tr>\n",
       "</tbody>\n",
       "</table>\n"
      ],
      "text/latex": [
       "\\begin{tabular}{r|lllllllllllll}\n",
       " Overall & Value & BestPosition & Height & Weight & JerseyNumber & Crossing & ShotPower & IntPrestige & PreferredFoot & SkillMoves & Long.Shots & Finishing\\\\\n",
       "\\hline\n",
       "\t 68      & 2400000 & RM      & 175     & 70      & 16      & 67      & 63      & 1       & Right   & 3       & 59      & 57     \\\\\n",
       "\t 67      & 2100000 & CB      & 186     & 80      & 27      & 42      & 61      & 1       & Right   & 2       & 40      & 37     \\\\\n",
       "\t 68      & 1000000 & CB      & 178     & 73      & 8       & 60      & 69      & 1       & Right   & 2       & 53      & 44     \\\\\n",
       "\t 71      & 1800000 & RB      & 182     & 80      & 2       & 69      & 75      & 1       & Right   & 2       & 54      & 40     \\\\\n",
       "\t 67      & 1900000 & CB      & 187     & 80      & 4       & 48      & 45      & 1       & Left    & 2       & 41      & 25     \\\\\n",
       "\t 67      & 1100000 & LM      & 176     & 72      & 17      & 62      & 57      & 1       & Right   & 4       & 52      & 60     \\\\\n",
       "\\end{tabular}\n"
      ],
      "text/markdown": [
       "\n",
       "| Overall | Value | BestPosition | Height | Weight | JerseyNumber | Crossing | ShotPower | IntPrestige | PreferredFoot | SkillMoves | Long.Shots | Finishing |\n",
       "|---|---|---|---|---|---|---|---|---|---|---|---|---|\n",
       "| 68      | 2400000 | RM      | 175     | 70      | 16      | 67      | 63      | 1       | Right   | 3       | 59      | 57      |\n",
       "| 67      | 2100000 | CB      | 186     | 80      | 27      | 42      | 61      | 1       | Right   | 2       | 40      | 37      |\n",
       "| 68      | 1000000 | CB      | 178     | 73      | 8       | 60      | 69      | 1       | Right   | 2       | 53      | 44      |\n",
       "| 71      | 1800000 | RB      | 182     | 80      | 2       | 69      | 75      | 1       | Right   | 2       | 54      | 40      |\n",
       "| 67      | 1900000 | CB      | 187     | 80      | 4       | 48      | 45      | 1       | Left    | 2       | 41      | 25      |\n",
       "| 67      | 1100000 | LM      | 176     | 72      | 17      | 62      | 57      | 1       | Right   | 4       | 52      | 60      |\n",
       "\n"
      ],
      "text/plain": [
       "  Overall Value   BestPosition Height Weight JerseyNumber Crossing ShotPower\n",
       "1 68      2400000 RM           175    70     16           67       63       \n",
       "2 67      2100000 CB           186    80     27           42       61       \n",
       "3 68      1000000 CB           178    73     8            60       69       \n",
       "4 71      1800000 RB           182    80     2            69       75       \n",
       "5 67      1900000 CB           187    80     4            48       45       \n",
       "6 67      1100000 LM           176    72     17           62       57       \n",
       "  IntPrestige PreferredFoot SkillMoves Long.Shots Finishing\n",
       "1 1           Right         3          59         57       \n",
       "2 1           Right         2          40         37       \n",
       "3 1           Right         2          53         44       \n",
       "4 1           Right         2          54         40       \n",
       "5 1           Left          2          41         25       \n",
       "6 1           Right         4          52         60       "
      ]
     },
     "metadata": {},
     "output_type": "display_data"
    },
    {
     "data": {
      "text/html": [
       "<dl class=dl-horizontal>\n",
       "\t<dt>Overall</dt>\n",
       "\t\t<dd>0</dd>\n",
       "\t<dt>Value</dt>\n",
       "\t\t<dd>0</dd>\n",
       "\t<dt>BestPosition</dt>\n",
       "\t\t<dd>0</dd>\n",
       "\t<dt>Height</dt>\n",
       "\t\t<dd>0</dd>\n",
       "\t<dt>Weight</dt>\n",
       "\t\t<dd>0</dd>\n",
       "\t<dt>JerseyNumber</dt>\n",
       "\t\t<dd>0</dd>\n",
       "\t<dt>Crossing</dt>\n",
       "\t\t<dd>0</dd>\n",
       "\t<dt>ShotPower</dt>\n",
       "\t\t<dd>0</dd>\n",
       "\t<dt>IntPrestige</dt>\n",
       "\t\t<dd>120</dd>\n",
       "\t<dt>PreferredFoot</dt>\n",
       "\t\t<dd>0</dd>\n",
       "\t<dt>SkillMoves</dt>\n",
       "\t\t<dd>0</dd>\n",
       "\t<dt>Long.Shots</dt>\n",
       "\t\t<dd>0</dd>\n",
       "\t<dt>Finishing</dt>\n",
       "\t\t<dd>0</dd>\n",
       "</dl>\n"
      ],
      "text/latex": [
       "\\begin{description*}\n",
       "\\item[Overall] 0\n",
       "\\item[Value] 0\n",
       "\\item[BestPosition] 0\n",
       "\\item[Height] 0\n",
       "\\item[Weight] 0\n",
       "\\item[JerseyNumber] 0\n",
       "\\item[Crossing] 0\n",
       "\\item[ShotPower] 0\n",
       "\\item[IntPrestige] 120\n",
       "\\item[PreferredFoot] 0\n",
       "\\item[SkillMoves] 0\n",
       "\\item[Long.Shots] 0\n",
       "\\item[Finishing] 0\n",
       "\\end{description*}\n"
      ],
      "text/markdown": [
       "Overall\n",
       ":   0Value\n",
       ":   0BestPosition\n",
       ":   0Height\n",
       ":   0Weight\n",
       ":   0JerseyNumber\n",
       ":   0Crossing\n",
       ":   0ShotPower\n",
       ":   0IntPrestige\n",
       ":   120PreferredFoot\n",
       ":   0SkillMoves\n",
       ":   0Long.Shots\n",
       ":   0Finishing\n",
       ":   0\n",
       "\n"
      ],
      "text/plain": [
       "      Overall         Value  BestPosition        Height        Weight \n",
       "            0             0             0             0             0 \n",
       " JerseyNumber      Crossing     ShotPower   IntPrestige PreferredFoot \n",
       "            0             0             0           120             0 \n",
       "   SkillMoves    Long.Shots     Finishing \n",
       "            0             0             0 "
      ]
     },
     "metadata": {},
     "output_type": "display_data"
    },
    {
     "data": {
      "text/html": [
       "<dl class=dl-horizontal>\n",
       "\t<dt>Overall</dt>\n",
       "\t\t<dd>0</dd>\n",
       "\t<dt>Value</dt>\n",
       "\t\t<dd>0</dd>\n",
       "\t<dt>BestPosition</dt>\n",
       "\t\t<dd>0</dd>\n",
       "\t<dt>Height</dt>\n",
       "\t\t<dd>0</dd>\n",
       "\t<dt>Weight</dt>\n",
       "\t\t<dd>0</dd>\n",
       "\t<dt>JerseyNumber</dt>\n",
       "\t\t<dd>0</dd>\n",
       "\t<dt>Crossing</dt>\n",
       "\t\t<dd>0</dd>\n",
       "\t<dt>ShotPower</dt>\n",
       "\t\t<dd>0</dd>\n",
       "\t<dt>IntPrestige</dt>\n",
       "\t\t<dd>0</dd>\n",
       "\t<dt>PreferredFoot</dt>\n",
       "\t\t<dd>0</dd>\n",
       "\t<dt>SkillMoves</dt>\n",
       "\t\t<dd>0</dd>\n",
       "\t<dt>Long.Shots</dt>\n",
       "\t\t<dd>0</dd>\n",
       "\t<dt>Finishing</dt>\n",
       "\t\t<dd>0</dd>\n",
       "</dl>\n"
      ],
      "text/latex": [
       "\\begin{description*}\n",
       "\\item[Overall] 0\n",
       "\\item[Value] 0\n",
       "\\item[BestPosition] 0\n",
       "\\item[Height] 0\n",
       "\\item[Weight] 0\n",
       "\\item[JerseyNumber] 0\n",
       "\\item[Crossing] 0\n",
       "\\item[ShotPower] 0\n",
       "\\item[IntPrestige] 0\n",
       "\\item[PreferredFoot] 0\n",
       "\\item[SkillMoves] 0\n",
       "\\item[Long.Shots] 0\n",
       "\\item[Finishing] 0\n",
       "\\end{description*}\n"
      ],
      "text/markdown": [
       "Overall\n",
       ":   0Value\n",
       ":   0BestPosition\n",
       ":   0Height\n",
       ":   0Weight\n",
       ":   0JerseyNumber\n",
       ":   0Crossing\n",
       ":   0ShotPower\n",
       ":   0IntPrestige\n",
       ":   0PreferredFoot\n",
       ":   0SkillMoves\n",
       ":   0Long.Shots\n",
       ":   0Finishing\n",
       ":   0\n",
       "\n"
      ],
      "text/plain": [
       "      Overall         Value  BestPosition        Height        Weight \n",
       "            0             0             0             0             0 \n",
       " JerseyNumber      Crossing     ShotPower   IntPrestige PreferredFoot \n",
       "            0             0             0             0             0 \n",
       "   SkillMoves    Long.Shots     Finishing \n",
       "            0             0             0 "
      ]
     },
     "metadata": {},
     "output_type": "display_data"
    },
    {
     "data": {
      "text/plain": [
       "    Overall          Value            BestPosition      Height     \n",
       " Min.   :47.00   Min.   :     9000   CB     :3632   Min.   :155.0  \n",
       " 1st Qu.:62.00   1st Qu.:   500000   ST     :2548   1st Qu.:177.0  \n",
       " Median :66.00   Median :  1000000   CAM    :2300   Median :182.0  \n",
       " Mean   :65.83   Mean   :  2894661   GK     :2039   Mean   :181.5  \n",
       " 3rd Qu.:70.00   3rd Qu.:  2000000   RM     :1434   3rd Qu.:186.0  \n",
       " Max.   :91.00   Max.   :190500000   CDM    :1395   Max.   :206.0  \n",
       "                                     (Other):5059                  \n",
       "     Weight        JerseyNumber      Crossing       ShotPower    \n",
       " Min.   : 49.00   7      :  598   Min.   : 6.00   Min.   :18.00  \n",
       " 1st Qu.: 70.00   8      :  598   1st Qu.:39.00   1st Qu.:48.00  \n",
       " Median : 75.00   11     :  591   Median :54.00   Median :59.00  \n",
       " Mean   : 75.17   4      :  586   Mean   :49.48   Mean   :57.81  \n",
       " 3rd Qu.: 80.00   6      :  584   3rd Qu.:63.00   3rd Qu.:68.00  \n",
       " Max.   :105.00   10     :  578   Max.   :94.00   Max.   :94.00  \n",
       "                  (Other):14872                                  \n",
       "  IntPrestige     PreferredFoot   SkillMoves      Long.Shots      Finishing    \n",
       " Min.   : 1.000   Left : 4466   Min.   :1.000   Min.   : 4.00   Min.   : 3.00  \n",
       " 1st Qu.: 1.000   Right:13941   1st Qu.:2.000   1st Qu.:32.00   1st Qu.:31.00  \n",
       " Median : 1.000                 Median :2.000   Median :51.00   Median :50.00  \n",
       " Mean   : 2.483                 Mean   :2.366   Mean   :46.82   Mean   :46.25  \n",
       " 3rd Qu.: 4.000                 3rd Qu.:3.000   3rd Qu.:62.00   3rd Qu.:62.00  \n",
       " Max.   :10.000                 Max.   :5.000   Max.   :91.00   Max.   :94.00  \n",
       "                                                                               "
      ]
     },
     "metadata": {},
     "output_type": "display_data"
    },
    {
     "data": {
      "text/html": [
       "<ol class=list-inline>\n",
       "\t<li>18407</li>\n",
       "\t<li>13</li>\n",
       "</ol>\n"
      ],
      "text/latex": [
       "\\begin{enumerate*}\n",
       "\\item 18407\n",
       "\\item 13\n",
       "\\end{enumerate*}\n"
      ],
      "text/markdown": [
       "1. 18407\n",
       "2. 13\n",
       "\n",
       "\n"
      ],
      "text/plain": [
       "[1] 18407    13"
      ]
     },
     "metadata": {},
     "output_type": "display_data"
    }
   ],
   "source": [
    "# cleaning\n",
    "relevantCols <- c(\"Overall\", \"Value.in.Euro.\", \"Best.Position\", \"Height.in.cm.\", \"Weight.in.kg.\", \"Club.Jersey.Number\", \n",
    "                  \"Crossing\", \"Shot.Power\", \"IntPrestige\", \"Preferred.Foot\", \"Skill.Moves\", \"Long.Shots\", \"Finishing\" )\n",
    "playersTeamCleaned <- subset(playersTeamCombined, select=relevantCols)\n",
    "head(playersTeamCleaned); dim(playersTeamCleaned)\n",
    "# rename\n",
    "colnames(playersTeamCleaned) <- c(\"Overall\", \"Value\", \"BestPosition\", \"Height\", \"Weight\", \"JerseyNumber\", \n",
    "                  \"Crossing\", \"ShotPower\", \"IntPrestige\", \"PreferredFoot\", \"SkillMoves\",\"Long.Shots\", \"Finishing\" )\n",
    "head(playersTeamCleaned)\n",
    "colSums(is.na(playersTeamCleaned))\n",
    "# remove int prestige null\n",
    "playersTeamCleaned <- na.omit(playersTeamCleaned)\n",
    "colSums(is.na(playersTeamCleaned))\n",
    "# remove players with no value\n",
    "playersTeamCleaned <- playersTeamCleaned[playersTeamCleaned$Value != 0, ]\n",
    "summary(playersTeamCleaned)\n",
    "dim(playersTeamCleaned)"
   ]
  },
  {
   "cell_type": "markdown",
   "id": "41126e46",
   "metadata": {},
   "source": [
    "# Skill Moves vs Overall"
   ]
  },
  {
   "cell_type": "markdown",
   "id": "8c7f2c5d",
   "metadata": {},
   "source": [
    "## Normality Assumption Check"
   ]
  },
  {
   "cell_type": "code",
   "execution_count": 9,
   "id": "08f615fa",
   "metadata": {},
   "outputs": [
    {
     "data": {
      "text/html": [
       "<ol class=list-inline>\n",
       "\t<li>18407</li>\n",
       "\t<li>13</li>\n",
       "</ol>\n"
      ],
      "text/latex": [
       "\\begin{enumerate*}\n",
       "\\item 18407\n",
       "\\item 13\n",
       "\\end{enumerate*}\n"
      ],
      "text/markdown": [
       "1. 18407\n",
       "2. 13\n",
       "\n",
       "\n"
      ],
      "text/plain": [
       "[1] 18407    13"
      ]
     },
     "metadata": {},
     "output_type": "display_data"
    }
   ],
   "source": [
    "# checking normality for overall \n",
    "dim(playersTeamCleaned)"
   ]
  },
  {
   "cell_type": "markdown",
   "id": "2889f8b6",
   "metadata": {},
   "source": [
    "Since sample size > 5000, shapiro wilk test cannot be used here. By using Central Limit Theorem, we can approximate each distribution to be normal."
   ]
  },
  {
   "cell_type": "code",
   "execution_count": null,
   "id": "e1427c8a",
   "metadata": {},
   "outputs": [],
   "source": [
    "# checking normality for each group skill moves 1 - 5"
   ]
  },
  {
   "cell_type": "code",
   "execution_count": 10,
   "id": "ae1154d7",
   "metadata": {},
   "outputs": [
    {
     "data": {
      "text/plain": [
       "   Min. 1st Qu.  Median    Mean 3rd Qu.    Max. \n",
       "  1.000   2.000   2.000   2.366   3.000   5.000 "
      ]
     },
     "metadata": {},
     "output_type": "display_data"
    }
   ],
   "source": [
    "summary(playersTeamCleaned$SkillMoves)"
   ]
  },
  {
   "cell_type": "code",
   "execution_count": 11,
   "id": "73979484",
   "metadata": {},
   "outputs": [
    {
     "data": {
      "text/html": [
       "2039"
      ],
      "text/latex": [
       "2039"
      ],
      "text/markdown": [
       "2039"
      ],
      "text/plain": [
       "[1] 2039"
      ]
     },
     "metadata": {},
     "output_type": "display_data"
    },
    {
     "data": {
      "text/html": [
       "8851"
      ],
      "text/latex": [
       "8851"
      ],
      "text/markdown": [
       "8851"
      ],
      "text/plain": [
       "[1] 8851"
      ]
     },
     "metadata": {},
     "output_type": "display_data"
    },
    {
     "data": {
      "text/html": [
       "6311"
      ],
      "text/latex": [
       "6311"
      ],
      "text/markdown": [
       "6311"
      ],
      "text/plain": [
       "[1] 6311"
      ]
     },
     "metadata": {},
     "output_type": "display_data"
    },
    {
     "data": {
      "text/html": [
       "1155"
      ],
      "text/latex": [
       "1155"
      ],
      "text/markdown": [
       "1155"
      ],
      "text/plain": [
       "[1] 1155"
      ]
     },
     "metadata": {},
     "output_type": "display_data"
    },
    {
     "data": {
      "text/html": [
       "51"
      ],
      "text/latex": [
       "51"
      ],
      "text/markdown": [
       "51"
      ],
      "text/plain": [
       "[1] 51"
      ]
     },
     "metadata": {},
     "output_type": "display_data"
    }
   ],
   "source": [
    "skillMoves1 <- playersTeamCleaned[playersTeamCleaned['SkillMoves'] == 1, 'Overall']\n",
    "skillMoves2 <- playersTeamCleaned[playersTeamCleaned['SkillMoves'] == 2, 'Overall']\n",
    "skillMoves3 <- playersTeamCleaned[playersTeamCleaned['SkillMoves'] == 3, 'Overall']\n",
    "skillMoves4 <- playersTeamCleaned[playersTeamCleaned['SkillMoves'] == 4, 'Overall']\n",
    "skillMoves5 <- playersTeamCleaned[playersTeamCleaned['SkillMoves'] == 5, 'Overall']\n",
    "length(skillMoves1); length(skillMoves2); length(skillMoves3); length(skillMoves4); length(skillMoves5);"
   ]
  },
  {
   "cell_type": "code",
   "execution_count": 12,
   "id": "6365e300",
   "metadata": {},
   "outputs": [
    {
     "data": {
      "text/plain": [
       "\n",
       "\tShapiro-Wilk normality test\n",
       "\n",
       "data:  skillMoves5\n",
       "W = 0.96312, p-value = 0.1133\n"
      ]
     },
     "metadata": {},
     "output_type": "display_data"
    },
    {
     "data": {
      "text/html": [
       "51"
      ],
      "text/latex": [
       "51"
      ],
      "text/markdown": [
       "51"
      ],
      "text/plain": [
       "[1] 51"
      ]
     },
     "metadata": {},
     "output_type": "display_data"
    }
   ],
   "source": [
    "skillMoves5 <- playersTeamCleaned[playersTeamCleaned['SkillMoves'] == 5, 'Overall']\n",
    "shapiro.test(skillMoves5); length(skillMoves5)"
   ]
  },
  {
   "cell_type": "markdown",
   "id": "27d8f62c",
   "metadata": {},
   "source": [
    "Since skillMoves 1- 5 > 30 samples, by CLT they assume to be normal"
   ]
  },
  {
   "cell_type": "markdown",
   "id": "1f2a8de5",
   "metadata": {},
   "source": [
    "## Homogeneity of Variance"
   ]
  },
  {
   "cell_type": "code",
   "execution_count": 13,
   "id": "aa80d4c7",
   "metadata": {},
   "outputs": [],
   "source": [
    "# F test\n",
    "group <- c(1, 2, 3, 4, 5)\n",
    "groupC <- combn(group, 2, simplify=FALSE)"
   ]
  },
  {
   "cell_type": "code",
   "execution_count": 35,
   "id": "7fd18e21",
   "metadata": {},
   "outputs": [
    {
     "data": {
      "text/html": [
       "<table>\n",
       "<thead><tr><th></th><th scope=col>1</th><th scope=col>2</th><th scope=col>3</th><th scope=col>4</th><th scope=col>5</th><th scope=col>6</th><th scope=col>7</th><th scope=col>8</th><th scope=col>9</th><th scope=col>10</th></tr></thead>\n",
       "<tbody>\n",
       "\t<tr><th scope=row>SkillRatingPair</th><td>1 2  </td><td>1 3  </td><td>1 4  </td><td>1 5  </td><td>2 3  </td><td>2 4  </td><td>2 5  </td><td>3 4  </td><td>3 5  </td><td>4 5  </td></tr>\n",
       "\t<tr><th scope=row>PValue</th><td>0.000</td><td>0.000</td><td>0.000</td><td>0.119</td><td>0.000</td><td>0.041</td><td>0.942</td><td>0.001</td><td>0.198</td><td>0.599</td></tr>\n",
       "</tbody>\n",
       "</table>\n"
      ],
      "text/latex": [
       "\\begin{tabular}{r|llllllllll}\n",
       "  & 1 & 2 & 3 & 4 & 5 & 6 & 7 & 8 & 9 & 10\\\\\n",
       "\\hline\n",
       "\tSkillRatingPair & 1 2   & 1 3   & 1 4   & 1 5   & 2 3   & 2 4   & 2 5   & 3 4   & 3 5   & 4 5  \\\\\n",
       "\tPValue & 0.000 & 0.000 & 0.000 & 0.119 & 0.000 & 0.041 & 0.942 & 0.001 & 0.198 & 0.599\\\\\n",
       "\\end{tabular}\n"
      ],
      "text/markdown": [
       "\n",
       "| <!--/--> | 1 | 2 | 3 | 4 | 5 | 6 | 7 | 8 | 9 | 10 |\n",
       "|---|---|---|---|---|---|---|---|---|---|---|\n",
       "| SkillRatingPair | 1 2   | 1 3   | 1 4   | 1 5   | 2 3   | 2 4   | 2 5   | 3 4   | 3 5   | 4 5   |\n",
       "| PValue | 0.000 | 0.000 | 0.000 | 0.119 | 0.000 | 0.041 | 0.942 | 0.001 | 0.198 | 0.599 |\n",
       "\n"
      ],
      "text/plain": [
       "                1     2     3     4     5     6     7     8     9     10   \n",
       "SkillRatingPair 1 2   1 3   1 4   1 5   2 3   2 4   2 5   3 4   3 5   4 5  \n",
       "PValue          0.000 0.000 0.000 0.119 0.000 0.041 0.942 0.001 0.198 0.599"
      ]
     },
     "metadata": {},
     "output_type": "display_data"
    }
   ],
   "source": [
    "pvalue <- vector()\n",
    "pair <- vector()\n",
    "for (i in groupC){\n",
    "    pos <- unlist(i)\n",
    "    x <- playersTeamCleaned[playersTeamCleaned['SkillMoves'] == pos[1], 'Overall']\n",
    "    y <- playersTeamCleaned[playersTeamCleaned['SkillMoves'] == pos[2], 'Overall']\n",
    "    pair <- append(pair, paste(pos[1], pos[2]))\n",
    "    pvalue <- append(pvalue, round(var.test(x, y)[[3]], 3))\n",
    "}\n",
    "variancedf <- data.frame(pair, pvalue)\n",
    "colnames(variancedf) <- c('SkillRatingPair', 'PValue')\n",
    "# Select combinations which do not have the same variance\n",
    "# t(variancedf[variancedf['PValue'] <= 0.05,])\n",
    "t(variancedf[variancedf['PValue'] >= 0.00,])"
   ]
  },
  {
   "cell_type": "code",
   "execution_count": 28,
   "id": "824cf5f9",
   "metadata": {},
   "outputs": [
    {
     "data": {
      "text/html": [
       "<table>\n",
       "<tbody>\n",
       "\t<tr><th scope=row>pair</th><td>1 2  </td><td>1 3  </td><td>1 4  </td><td>1 5  </td><td>2 3  </td><td>2 4  </td><td>2 5  </td><td>3 4  </td><td>3 5  </td><td>4 5  </td></tr>\n",
       "\t<tr><th scope=row>pvalue</th><td>0.000</td><td>0.000</td><td>0.000</td><td>0.119</td><td>0.000</td><td>0.041</td><td>0.942</td><td>0.001</td><td>0.198</td><td>0.599</td></tr>\n",
       "</tbody>\n",
       "</table>\n"
      ],
      "text/latex": [
       "\\begin{tabular}{r|llllllllll}\n",
       "\tpair & 1 2   & 1 3   & 1 4   & 1 5   & 2 3   & 2 4   & 2 5   & 3 4   & 3 5   & 4 5  \\\\\n",
       "\tpvalue & 0.000 & 0.000 & 0.000 & 0.119 & 0.000 & 0.041 & 0.942 & 0.001 & 0.198 & 0.599\\\\\n",
       "\\end{tabular}\n"
      ],
      "text/markdown": [
       "\n",
       "| pair | 1 2   | 1 3   | 1 4   | 1 5   | 2 3   | 2 4   | 2 5   | 3 4   | 3 5   | 4 5   |\n",
       "| pvalue | 0.000 | 0.000 | 0.000 | 0.119 | 0.000 | 0.041 | 0.942 | 0.001 | 0.198 | 0.599 |\n",
       "\n"
      ],
      "text/plain": [
       "       [,1]  [,2]  [,3]  [,4]  [,5]  [,6]  [,7]  [,8]  [,9]  [,10]\n",
       "pair   1 2   1 3   1 4   1 5   2 3   2 4   2 5   3 4   3 5   4 5  \n",
       "pvalue 0.000 0.000 0.000 0.119 0.000 0.041 0.942 0.001 0.198 0.599"
      ]
     },
     "metadata": {},
     "output_type": "display_data"
    }
   ],
   "source": [
    "t(variancedf)"
   ]
  },
  {
   "cell_type": "code",
   "execution_count": 23,
   "id": "659a31f9",
   "metadata": {},
   "outputs": [
    {
     "data": {
      "text/html": [
       "<table>\n",
       "<thead><tr><th></th><th scope=col>skill1</th><th scope=col>skill2</th><th scope=col>skill3</th><th scope=col>skill4</th></tr></thead>\n",
       "<tbody>\n",
       "\t<tr><th scope=row>skill2</th><td>0.000</td><td>-    </td><td>-    </td><td>-    </td></tr>\n",
       "\t<tr><th scope=row>skill3</th><td>0.000</td><td>0.000</td><td>-    </td><td>-    </td></tr>\n",
       "\t<tr><th scope=row>skill4</th><td>0.000</td><td>0.041</td><td>0.001</td><td>-    </td></tr>\n",
       "\t<tr><th scope=row>skill5</th><td>0.119</td><td>0.942</td><td>0.198</td><td>0.599</td></tr>\n",
       "</tbody>\n",
       "</table>\n"
      ],
      "text/latex": [
       "\\begin{tabular}{r|llll}\n",
       "  & skill1 & skill2 & skill3 & skill4\\\\\n",
       "\\hline\n",
       "\tskill2 & 0.000 & -     & -     & -    \\\\\n",
       "\tskill3 & 0.000 & 0.000 & -     & -    \\\\\n",
       "\tskill4 & 0.000 & 0.041 & 0.001 & -    \\\\\n",
       "\tskill5 & 0.119 & 0.942 & 0.198 & 0.599\\\\\n",
       "\\end{tabular}\n"
      ],
      "text/markdown": [
       "\n",
       "| <!--/--> | skill1 | skill2 | skill3 | skill4 |\n",
       "|---|---|---|---|---|\n",
       "| skill2 | 0.000 | -     | -     | -     |\n",
       "| skill3 | 0.000 | 0.000 | -     | -     |\n",
       "| skill4 | 0.000 | 0.041 | 0.001 | -     |\n",
       "| skill5 | 0.119 | 0.942 | 0.198 | 0.599 |\n",
       "\n"
      ],
      "text/plain": [
       "       skill1 skill2 skill3 skill4\n",
       "skill2 0.000  -      -      -     \n",
       "skill3 0.000  0.000  -      -     \n",
       "skill4 0.000  0.041  0.001  -     \n",
       "skill5 0.119  0.942  0.198  0.599 "
      ]
     },
     "metadata": {},
     "output_type": "display_data"
    }
   ],
   "source": [
    "# create a table with row index\n",
    "my_table <- data.frame(\n",
    "  skill1 = c(\"0.000\", \"0.000\", \"0.000\", \"0.119\"),\n",
    "  skill2 = c(\"-\", \"0.000\", \"0.041\", \"0.942\"),\n",
    "  skill3 =  c(\"-\", \"-\", \"0.001\", \"0.198\"),\n",
    "  skill4 =  c(\"-\", \"-\", \"-\", \"0.599\"),\n",
    "  row.names = c(\"skill2\", \"skill3\", \"skill4\", \"skill5\")\n",
    ")\n",
    "\n",
    "# view the table\n",
    "my_table"
   ]
  },
  {
   "cell_type": "code",
   "execution_count": 15,
   "id": "c8d3ab41",
   "metadata": {},
   "outputs": [
    {
     "data": {
      "text/plain": [
       "\n",
       "\tF test to compare two variances\n",
       "\n",
       "data:  skillMoves3 and skillMoves4\n",
       "F = 0.86707, num df = 6310, denom df = 1154, p-value = 0.001318\n",
       "alternative hypothesis: true ratio of variances is not equal to 1\n",
       "95 percent confidence interval:\n",
       " 0.7923226 0.9462656\n",
       "sample estimates:\n",
       "ratio of variances \n",
       "         0.8670749 \n"
      ]
     },
     "metadata": {},
     "output_type": "display_data"
    }
   ],
   "source": [
    "var.test(skillMoves3, skillMoves4)"
   ]
  },
  {
   "cell_type": "markdown",
   "id": "3ec9ef6e",
   "metadata": {},
   "source": [
    "Assumptions of Anova failed, that is parametric test assumptions have failed, going for non parametric tests"
   ]
  },
  {
   "cell_type": "markdown",
   "id": "2a2b5238",
   "metadata": {},
   "source": [
    "## Conducting Kruskal-Wallis Test"
   ]
  },
  {
   "cell_type": "code",
   "execution_count": 24,
   "id": "dcb1af60",
   "metadata": {},
   "outputs": [],
   "source": [
    "overall <- playersTeamCleaned$Overall\n",
    "skillMoves <- playersTeamCleaned$SkillMoves"
   ]
  },
  {
   "cell_type": "markdown",
   "id": "eb27c584",
   "metadata": {},
   "source": [
    "H0: Overall Rating is independent of Skill Moves\n",
    "\n",
    "H1: Overall Rating is not independent of Skill Moves"
   ]
  },
  {
   "cell_type": "code",
   "execution_count": 25,
   "id": "04188963",
   "metadata": {},
   "outputs": [
    {
     "data": {
      "text/plain": [
       "\n",
       "\tKruskal-Wallis rank sum test\n",
       "\n",
       "data:  overall and skillMoves\n",
       "Kruskal-Wallis chi-squared = 3012.1, df = 4, p-value < 2.2e-16\n"
      ]
     },
     "metadata": {},
     "output_type": "display_data"
    }
   ],
   "source": [
    "kruskal.test(overall, skillMoves)"
   ]
  },
  {
   "cell_type": "markdown",
   "id": "45326379",
   "metadata": {},
   "source": [
    "There is enough evidence against the null hypothesis that Overall Rating is independent of skill moves"
   ]
  },
  {
   "cell_type": "code",
   "execution_count": 26,
   "id": "f0d3edb6",
   "metadata": {},
   "outputs": [
    {
     "data": {
      "text/plain": [
       "\n",
       "\tPairwise comparisons using Wilcoxon rank sum test \n",
       "\n",
       "data:  overall and skillMoves \n",
       "\n",
       "  1       2       3       4      \n",
       "2 0.00028 -       -       -      \n",
       "3 < 2e-16 < 2e-16 -       -      \n",
       "4 < 2e-16 < 2e-16 < 2e-16 -      \n",
       "5 < 2e-16 < 2e-16 < 2e-16 1.8e-10\n",
       "\n",
       "P value adjustment method: none "
      ]
     },
     "metadata": {},
     "output_type": "display_data"
    }
   ],
   "source": [
    "pairwise.wilcox.test(overall, skillMoves, p.adjust.method='none')"
   ]
  }
 ],
 "metadata": {
  "kernelspec": {
   "display_name": "R",
   "language": "R",
   "name": "ir"
  },
  "language_info": {
   "codemirror_mode": "r",
   "file_extension": ".r",
   "mimetype": "text/x-r-source",
   "name": "R",
   "pygments_lexer": "r",
   "version": "3.6.1"
  }
 },
 "nbformat": 4,
 "nbformat_minor": 5
}
