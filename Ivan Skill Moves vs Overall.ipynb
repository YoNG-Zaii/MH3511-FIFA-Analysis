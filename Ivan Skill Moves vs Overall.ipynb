{
 "cells": [
  {
   "cell_type": "code",
   "execution_count": 1,
   "id": "2a49f5b4",
   "metadata": {},
   "outputs": [],
   "source": [
    "players23 <- read.csv(\"./fifa23_players_data.csv\")\n",
    "teams23 <- read.csv(\"./fifa23_teams_data.csv\")"
   ]
  },
  {
   "cell_type": "code",
   "execution_count": 2,
   "id": "5ed887ea",
   "metadata": {},
   "outputs": [
    {
     "data": {
      "text/html": [
       "<table>\n",
       "<thead><tr><th scope=col>Overall</th><th scope=col>Value.in.Euro.</th><th scope=col>Best.Position</th><th scope=col>Height.in.cm.</th><th scope=col>Weight.in.kg.</th><th scope=col>Club.Name</th><th scope=col>Club.Jersey.Number</th><th scope=col>Crossing</th><th scope=col>Sprint.Speed</th><th scope=col>Acceleration</th><th scope=col>Preferred.Foot</th><th scope=col>Skill.Moves</th></tr></thead>\n",
       "<tbody>\n",
       "\t<tr><td>91                 </td><td> 54000000          </td><td>CAM                </td><td>169                </td><td>67                 </td><td>Paris Saint-Germain</td><td>30                 </td><td>84                 </td><td>76                 </td><td>87                 </td><td>Left               </td><td>4                  </td></tr>\n",
       "\t<tr><td>91                 </td><td> 64000000          </td><td>CF                 </td><td>185                </td><td>81                 </td><td>Real Madrid CF     </td><td>9                  </td><td>75                 </td><td>80                 </td><td>79                 </td><td>Right              </td><td>4                  </td></tr>\n",
       "\t<tr><td>91                 </td><td> 84000000          </td><td>ST                 </td><td>185                </td><td>81                 </td><td>FC Barcelona       </td><td>9                  </td><td>71                 </td><td>75                 </td><td>76                 </td><td>Right              </td><td>4                  </td></tr>\n",
       "\t<tr><td>91                 </td><td>107500000          </td><td>CM                 </td><td>181                </td><td>70                 </td><td>Manchester City    </td><td>17                 </td><td>94                 </td><td>73                 </td><td>76                 </td><td>Right              </td><td>4                  </td></tr>\n",
       "\t<tr><td>91                 </td><td>190500000          </td><td>ST                 </td><td>182                </td><td>73                 </td><td>Paris Saint-Germain</td><td>7                  </td><td>78                 </td><td>97                 </td><td>97                 </td><td>Right              </td><td>5                  </td></tr>\n",
       "\t<tr><td>90                 </td><td>115500000          </td><td>RW                 </td><td>175                </td><td>71                 </td><td>Liverpool          </td><td>11                 </td><td>80                 </td><td>91                 </td><td>89                 </td><td>Left               </td><td>4                  </td></tr>\n",
       "</tbody>\n",
       "</table>\n"
      ],
      "text/latex": [
       "\\begin{tabular}{r|llllllllllll}\n",
       " Overall & Value.in.Euro. & Best.Position & Height.in.cm. & Weight.in.kg. & Club.Name & Club.Jersey.Number & Crossing & Sprint.Speed & Acceleration & Preferred.Foot & Skill.Moves\\\\\n",
       "\\hline\n",
       "\t 91                  &  54000000           & CAM                 & 169                 & 67                  & Paris Saint-Germain & 30                  & 84                  & 76                  & 87                  & Left                & 4                  \\\\\n",
       "\t 91                  &  64000000           & CF                  & 185                 & 81                  & Real Madrid CF      & 9                   & 75                  & 80                  & 79                  & Right               & 4                  \\\\\n",
       "\t 91                  &  84000000           & ST                  & 185                 & 81                  & FC Barcelona        & 9                   & 71                  & 75                  & 76                  & Right               & 4                  \\\\\n",
       "\t 91                  & 107500000           & CM                  & 181                 & 70                  & Manchester City     & 17                  & 94                  & 73                  & 76                  & Right               & 4                  \\\\\n",
       "\t 91                  & 190500000           & ST                  & 182                 & 73                  & Paris Saint-Germain & 7                   & 78                  & 97                  & 97                  & Right               & 5                  \\\\\n",
       "\t 90                  & 115500000           & RW                  & 175                 & 71                  & Liverpool           & 11                  & 80                  & 91                  & 89                  & Left                & 4                  \\\\\n",
       "\\end{tabular}\n"
      ],
      "text/markdown": [
       "\n",
       "| Overall | Value.in.Euro. | Best.Position | Height.in.cm. | Weight.in.kg. | Club.Name | Club.Jersey.Number | Crossing | Sprint.Speed | Acceleration | Preferred.Foot | Skill.Moves |\n",
       "|---|---|---|---|---|---|---|---|---|---|---|---|\n",
       "| 91                  |  54000000           | CAM                 | 169                 | 67                  | Paris Saint-Germain | 30                  | 84                  | 76                  | 87                  | Left                | 4                   |\n",
       "| 91                  |  64000000           | CF                  | 185                 | 81                  | Real Madrid CF      | 9                   | 75                  | 80                  | 79                  | Right               | 4                   |\n",
       "| 91                  |  84000000           | ST                  | 185                 | 81                  | FC Barcelona        | 9                   | 71                  | 75                  | 76                  | Right               | 4                   |\n",
       "| 91                  | 107500000           | CM                  | 181                 | 70                  | Manchester City     | 17                  | 94                  | 73                  | 76                  | Right               | 4                   |\n",
       "| 91                  | 190500000           | ST                  | 182                 | 73                  | Paris Saint-Germain | 7                   | 78                  | 97                  | 97                  | Right               | 5                   |\n",
       "| 90                  | 115500000           | RW                  | 175                 | 71                  | Liverpool           | 11                  | 80                  | 91                  | 89                  | Left                | 4                   |\n",
       "\n"
      ],
      "text/plain": [
       "  Overall Value.in.Euro. Best.Position Height.in.cm. Weight.in.kg.\n",
       "1 91       54000000      CAM           169           67           \n",
       "2 91       64000000      CF            185           81           \n",
       "3 91       84000000      ST            185           81           \n",
       "4 91      107500000      CM            181           70           \n",
       "5 91      190500000      ST            182           73           \n",
       "6 90      115500000      RW            175           71           \n",
       "  Club.Name           Club.Jersey.Number Crossing Sprint.Speed Acceleration\n",
       "1 Paris Saint-Germain 30                 84       76           87          \n",
       "2 Real Madrid CF      9                  75       80           79          \n",
       "3 FC Barcelona        9                  71       75           76          \n",
       "4 Manchester City     17                 94       73           76          \n",
       "5 Paris Saint-Germain 7                  78       97           97          \n",
       "6 Liverpool           11                 80       91           89          \n",
       "  Preferred.Foot Skill.Moves\n",
       "1 Left           4          \n",
       "2 Right          4          \n",
       "3 Right          4          \n",
       "4 Right          4          \n",
       "5 Right          5          \n",
       "6 Left           4          "
      ]
     },
     "metadata": {},
     "output_type": "display_data"
    },
    {
     "data": {
      "text/html": [
       "<ol class=list-inline>\n",
       "\t<li>18539</li>\n",
       "\t<li>12</li>\n",
       "</ol>\n"
      ],
      "text/latex": [
       "\\begin{enumerate*}\n",
       "\\item 18539\n",
       "\\item 12\n",
       "\\end{enumerate*}\n"
      ],
      "text/markdown": [
       "1. 18539\n",
       "2. 12\n",
       "\n",
       "\n"
      ],
      "text/plain": [
       "[1] 18539    12"
      ]
     },
     "metadata": {},
     "output_type": "display_data"
    }
   ],
   "source": [
    "relevantCols <- c(\"Overall\", \"Value.in.Euro.\", \"Best.Position\", \"Height.in.cm.\", \"Weight.in.kg.\", \n",
    "                 \"Club.Name\", \"Club.Jersey.Number\", \"Crossing\", \"Sprint.Speed\", \"Acceleration\", \"Preferred.Foot\", \"Skill.Moves\")\n",
    "\n",
    "# assumed cleaned\n",
    "playersCleaned23 <- subset(players23, select=relevantCols)\n",
    "\n",
    "head(playersCleaned23); dim(playersCleaned23)"
   ]
  },
  {
   "cell_type": "code",
   "execution_count": 3,
   "id": "60c47aa7",
   "metadata": {},
   "outputs": [
    {
     "data": {
      "text/html": [
       "<table>\n",
       "<thead><tr><th scope=col>Name</th><th scope=col>IntPrestige</th></tr></thead>\n",
       "<tbody>\n",
       "\t<tr><td>AFC Bournemouth       </td><td>1                     </td></tr>\n",
       "\t<tr><td>AFC Richmond          </td><td>3                     </td></tr>\n",
       "\t<tr><td>Arsenal               </td><td>7                     </td></tr>\n",
       "\t<tr><td>Aston Villa           </td><td>3                     </td></tr>\n",
       "\t<tr><td>Brentford             </td><td>1                     </td></tr>\n",
       "\t<tr><td>Brighton &amp; Hove Albion</td><td>2                         </td></tr>\n",
       "</tbody>\n",
       "</table>\n"
      ],
      "text/latex": [
       "\\begin{tabular}{r|ll}\n",
       " Name & IntPrestige\\\\\n",
       "\\hline\n",
       "\t AFC Bournemouth        & 1                     \\\\\n",
       "\t AFC Richmond           & 3                     \\\\\n",
       "\t Arsenal                & 7                     \\\\\n",
       "\t Aston Villa            & 3                     \\\\\n",
       "\t Brentford              & 1                     \\\\\n",
       "\t Brighton \\& Hove Albion & 2                       \\\\\n",
       "\\end{tabular}\n"
      ],
      "text/markdown": [
       "\n",
       "| Name | IntPrestige |\n",
       "|---|---|\n",
       "| AFC Bournemouth        | 1                      |\n",
       "| AFC Richmond           | 3                      |\n",
       "| Arsenal                | 7                      |\n",
       "| Aston Villa            | 3                      |\n",
       "| Brentford              | 1                      |\n",
       "| Brighton & Hove Albion | 2                      |\n",
       "\n"
      ],
      "text/plain": [
       "  Name                   IntPrestige\n",
       "1 AFC Bournemouth        1          \n",
       "2 AFC Richmond           3          \n",
       "3 Arsenal                7          \n",
       "4 Aston Villa            3          \n",
       "5 Brentford              1          \n",
       "6 Brighton & Hove Albion 2          "
      ]
     },
     "metadata": {},
     "output_type": "display_data"
    }
   ],
   "source": [
    "teamsCleaned23 <- subset(teams23, select=c(\"Name\", \"IntPrestige\"))\n",
    "head(teamsCleaned23)"
   ]
  },
  {
   "cell_type": "code",
   "execution_count": 4,
   "id": "ea8cf8ec",
   "metadata": {},
   "outputs": [
    {
     "data": {
      "text/html": [
       "<table>\n",
       "<thead><tr><th scope=col>Club.Name</th><th scope=col>Overall</th><th scope=col>Value.in.Euro.</th><th scope=col>Best.Position</th><th scope=col>Height.in.cm.</th><th scope=col>Weight.in.kg.</th><th scope=col>Club.Jersey.Number</th><th scope=col>Crossing</th><th scope=col>Sprint.Speed</th><th scope=col>Acceleration</th><th scope=col>Preferred.Foot</th><th scope=col>Skill.Moves</th><th scope=col>IntPrestige</th></tr></thead>\n",
       "<tbody>\n",
       "\t<tr><td>1. FC Heidenheim 1846</td><td>68                   </td><td>2400000              </td><td>RM                   </td><td>175                  </td><td>70                   </td><td>16                   </td><td>67                   </td><td>84                   </td><td>85                   </td><td>Right                </td><td>3                    </td><td>1                    </td></tr>\n",
       "\t<tr><td>1. FC Heidenheim 1846</td><td>67                   </td><td>2100000              </td><td>CB                   </td><td>186                  </td><td>80                   </td><td>27                   </td><td>42                   </td><td>61                   </td><td>65                   </td><td>Right                </td><td>2                    </td><td>1                    </td></tr>\n",
       "\t<tr><td>1. FC Heidenheim 1846</td><td>68                   </td><td>1000000              </td><td>CB                   </td><td>178                  </td><td>73                   </td><td>8                    </td><td>60                   </td><td>55                   </td><td>71                   </td><td>Right                </td><td>2                    </td><td>1                    </td></tr>\n",
       "\t<tr><td>1. FC Heidenheim 1846</td><td>71                   </td><td>1800000              </td><td>RB                   </td><td>182                  </td><td>80                   </td><td>2                    </td><td>69                   </td><td>93                   </td><td>83                   </td><td>Right                </td><td>2                    </td><td>1                    </td></tr>\n",
       "\t<tr><td>1. FC Heidenheim 1846</td><td>67                   </td><td>1900000              </td><td>CB                   </td><td>187                  </td><td>80                   </td><td>4                    </td><td>48                   </td><td>63                   </td><td>59                   </td><td>Left                 </td><td>2                    </td><td>1                    </td></tr>\n",
       "\t<tr><td>1. FC Heidenheim 1846</td><td>67                   </td><td>1100000              </td><td>LM                   </td><td>176                  </td><td>72                   </td><td>17                   </td><td>62                   </td><td>80                   </td><td>88                   </td><td>Right                </td><td>4                    </td><td>1                    </td></tr>\n",
       "</tbody>\n",
       "</table>\n"
      ],
      "text/latex": [
       "\\begin{tabular}{r|lllllllllllll}\n",
       " Club.Name & Overall & Value.in.Euro. & Best.Position & Height.in.cm. & Weight.in.kg. & Club.Jersey.Number & Crossing & Sprint.Speed & Acceleration & Preferred.Foot & Skill.Moves & IntPrestige\\\\\n",
       "\\hline\n",
       "\t 1. FC Heidenheim 1846 & 68                    & 2400000               & RM                    & 175                   & 70                    & 16                    & 67                    & 84                    & 85                    & Right                 & 3                     & 1                    \\\\\n",
       "\t 1. FC Heidenheim 1846 & 67                    & 2100000               & CB                    & 186                   & 80                    & 27                    & 42                    & 61                    & 65                    & Right                 & 2                     & 1                    \\\\\n",
       "\t 1. FC Heidenheim 1846 & 68                    & 1000000               & CB                    & 178                   & 73                    & 8                     & 60                    & 55                    & 71                    & Right                 & 2                     & 1                    \\\\\n",
       "\t 1. FC Heidenheim 1846 & 71                    & 1800000               & RB                    & 182                   & 80                    & 2                     & 69                    & 93                    & 83                    & Right                 & 2                     & 1                    \\\\\n",
       "\t 1. FC Heidenheim 1846 & 67                    & 1900000               & CB                    & 187                   & 80                    & 4                     & 48                    & 63                    & 59                    & Left                  & 2                     & 1                    \\\\\n",
       "\t 1. FC Heidenheim 1846 & 67                    & 1100000               & LM                    & 176                   & 72                    & 17                    & 62                    & 80                    & 88                    & Right                 & 4                     & 1                    \\\\\n",
       "\\end{tabular}\n"
      ],
      "text/markdown": [
       "\n",
       "| Club.Name | Overall | Value.in.Euro. | Best.Position | Height.in.cm. | Weight.in.kg. | Club.Jersey.Number | Crossing | Sprint.Speed | Acceleration | Preferred.Foot | Skill.Moves | IntPrestige |\n",
       "|---|---|---|---|---|---|---|---|---|---|---|---|---|\n",
       "| 1. FC Heidenheim 1846 | 68                    | 2400000               | RM                    | 175                   | 70                    | 16                    | 67                    | 84                    | 85                    | Right                 | 3                     | 1                     |\n",
       "| 1. FC Heidenheim 1846 | 67                    | 2100000               | CB                    | 186                   | 80                    | 27                    | 42                    | 61                    | 65                    | Right                 | 2                     | 1                     |\n",
       "| 1. FC Heidenheim 1846 | 68                    | 1000000               | CB                    | 178                   | 73                    | 8                     | 60                    | 55                    | 71                    | Right                 | 2                     | 1                     |\n",
       "| 1. FC Heidenheim 1846 | 71                    | 1800000               | RB                    | 182                   | 80                    | 2                     | 69                    | 93                    | 83                    | Right                 | 2                     | 1                     |\n",
       "| 1. FC Heidenheim 1846 | 67                    | 1900000               | CB                    | 187                   | 80                    | 4                     | 48                    | 63                    | 59                    | Left                  | 2                     | 1                     |\n",
       "| 1. FC Heidenheim 1846 | 67                    | 1100000               | LM                    | 176                   | 72                    | 17                    | 62                    | 80                    | 88                    | Right                 | 4                     | 1                     |\n",
       "\n"
      ],
      "text/plain": [
       "  Club.Name             Overall Value.in.Euro. Best.Position Height.in.cm.\n",
       "1 1. FC Heidenheim 1846 68      2400000        RM            175          \n",
       "2 1. FC Heidenheim 1846 67      2100000        CB            186          \n",
       "3 1. FC Heidenheim 1846 68      1000000        CB            178          \n",
       "4 1. FC Heidenheim 1846 71      1800000        RB            182          \n",
       "5 1. FC Heidenheim 1846 67      1900000        CB            187          \n",
       "6 1. FC Heidenheim 1846 67      1100000        LM            176          \n",
       "  Weight.in.kg. Club.Jersey.Number Crossing Sprint.Speed Acceleration\n",
       "1 70            16                 67       84           85          \n",
       "2 80            27                 42       61           65          \n",
       "3 73            8                  60       55           71          \n",
       "4 80            2                  69       93           83          \n",
       "5 80            4                  48       63           59          \n",
       "6 72            17                 62       80           88          \n",
       "  Preferred.Foot Skill.Moves IntPrestige\n",
       "1 Right          3           1          \n",
       "2 Right          2           1          \n",
       "3 Right          2           1          \n",
       "4 Right          2           1          \n",
       "5 Left           2           1          \n",
       "6 Right          4           1          "
      ]
     },
     "metadata": {},
     "output_type": "display_data"
    },
    {
     "data": {
      "text/html": [
       "<ol class=list-inline>\n",
       "\t<li>18539</li>\n",
       "\t<li>13</li>\n",
       "</ol>\n"
      ],
      "text/latex": [
       "\\begin{enumerate*}\n",
       "\\item 18539\n",
       "\\item 13\n",
       "\\end{enumerate*}\n"
      ],
      "text/markdown": [
       "1. 18539\n",
       "2. 13\n",
       "\n",
       "\n"
      ],
      "text/plain": [
       "[1] 18539    13"
      ]
     },
     "metadata": {},
     "output_type": "display_data"
    }
   ],
   "source": [
    "playersTeamCombined <- merge(playersCleaned23, teamsCleaned23, by.x=\"Club.Name\", by.y=\"Name\", all.x = TRUE)\n",
    "head(playersTeamCombined); dim(playersTeamCombined)"
   ]
  },
  {
   "cell_type": "markdown",
   "id": "91352be0",
   "metadata": {},
   "source": [
    "# Data Cleaning"
   ]
  },
  {
   "cell_type": "markdown",
   "id": "bbbc5dfe",
   "metadata": {},
   "source": [
    "Extract and rename col names"
   ]
  },
  {
   "cell_type": "code",
   "execution_count": 5,
   "id": "2178912d",
   "metadata": {},
   "outputs": [],
   "source": [
    "relevantCols <- c(\"Overall\", \"Value.in.Euro.\", \"Best.Position\", \"Height.in.cm.\", \"Weight.in.kg.\", \"Club.Jersey.Number\", \n",
    "                  \"Crossing\", \"Sprint.Speed\", \"Acceleration\", \"IntPrestige\", \"Preferred.Foot\", \"Skill.Moves\")"
   ]
  },
  {
   "cell_type": "code",
   "execution_count": 6,
   "id": "cb0bdfdd",
   "metadata": {},
   "outputs": [
    {
     "data": {
      "text/html": [
       "<table>\n",
       "<thead><tr><th scope=col>Overall</th><th scope=col>Value.in.Euro.</th><th scope=col>Best.Position</th><th scope=col>Height.in.cm.</th><th scope=col>Weight.in.kg.</th><th scope=col>Club.Jersey.Number</th><th scope=col>Crossing</th><th scope=col>Sprint.Speed</th><th scope=col>Acceleration</th><th scope=col>IntPrestige</th><th scope=col>Preferred.Foot</th><th scope=col>Skill.Moves</th></tr></thead>\n",
       "<tbody>\n",
       "\t<tr><td>68     </td><td>2400000</td><td>RM     </td><td>175    </td><td>70     </td><td>16     </td><td>67     </td><td>84     </td><td>85     </td><td>1      </td><td>Right  </td><td>3      </td></tr>\n",
       "\t<tr><td>67     </td><td>2100000</td><td>CB     </td><td>186    </td><td>80     </td><td>27     </td><td>42     </td><td>61     </td><td>65     </td><td>1      </td><td>Right  </td><td>2      </td></tr>\n",
       "\t<tr><td>68     </td><td>1000000</td><td>CB     </td><td>178    </td><td>73     </td><td>8      </td><td>60     </td><td>55     </td><td>71     </td><td>1      </td><td>Right  </td><td>2      </td></tr>\n",
       "\t<tr><td>71     </td><td>1800000</td><td>RB     </td><td>182    </td><td>80     </td><td>2      </td><td>69     </td><td>93     </td><td>83     </td><td>1      </td><td>Right  </td><td>2      </td></tr>\n",
       "\t<tr><td>67     </td><td>1900000</td><td>CB     </td><td>187    </td><td>80     </td><td>4      </td><td>48     </td><td>63     </td><td>59     </td><td>1      </td><td>Left   </td><td>2      </td></tr>\n",
       "\t<tr><td>67     </td><td>1100000</td><td>LM     </td><td>176    </td><td>72     </td><td>17     </td><td>62     </td><td>80     </td><td>88     </td><td>1      </td><td>Right  </td><td>4      </td></tr>\n",
       "</tbody>\n",
       "</table>\n"
      ],
      "text/latex": [
       "\\begin{tabular}{r|llllllllllll}\n",
       " Overall & Value.in.Euro. & Best.Position & Height.in.cm. & Weight.in.kg. & Club.Jersey.Number & Crossing & Sprint.Speed & Acceleration & IntPrestige & Preferred.Foot & Skill.Moves\\\\\n",
       "\\hline\n",
       "\t 68      & 2400000 & RM      & 175     & 70      & 16      & 67      & 84      & 85      & 1       & Right   & 3      \\\\\n",
       "\t 67      & 2100000 & CB      & 186     & 80      & 27      & 42      & 61      & 65      & 1       & Right   & 2      \\\\\n",
       "\t 68      & 1000000 & CB      & 178     & 73      & 8       & 60      & 55      & 71      & 1       & Right   & 2      \\\\\n",
       "\t 71      & 1800000 & RB      & 182     & 80      & 2       & 69      & 93      & 83      & 1       & Right   & 2      \\\\\n",
       "\t 67      & 1900000 & CB      & 187     & 80      & 4       & 48      & 63      & 59      & 1       & Left    & 2      \\\\\n",
       "\t 67      & 1100000 & LM      & 176     & 72      & 17      & 62      & 80      & 88      & 1       & Right   & 4      \\\\\n",
       "\\end{tabular}\n"
      ],
      "text/markdown": [
       "\n",
       "| Overall | Value.in.Euro. | Best.Position | Height.in.cm. | Weight.in.kg. | Club.Jersey.Number | Crossing | Sprint.Speed | Acceleration | IntPrestige | Preferred.Foot | Skill.Moves |\n",
       "|---|---|---|---|---|---|---|---|---|---|---|---|\n",
       "| 68      | 2400000 | RM      | 175     | 70      | 16      | 67      | 84      | 85      | 1       | Right   | 3       |\n",
       "| 67      | 2100000 | CB      | 186     | 80      | 27      | 42      | 61      | 65      | 1       | Right   | 2       |\n",
       "| 68      | 1000000 | CB      | 178     | 73      | 8       | 60      | 55      | 71      | 1       | Right   | 2       |\n",
       "| 71      | 1800000 | RB      | 182     | 80      | 2       | 69      | 93      | 83      | 1       | Right   | 2       |\n",
       "| 67      | 1900000 | CB      | 187     | 80      | 4       | 48      | 63      | 59      | 1       | Left    | 2       |\n",
       "| 67      | 1100000 | LM      | 176     | 72      | 17      | 62      | 80      | 88      | 1       | Right   | 4       |\n",
       "\n"
      ],
      "text/plain": [
       "  Overall Value.in.Euro. Best.Position Height.in.cm. Weight.in.kg.\n",
       "1 68      2400000        RM            175           70           \n",
       "2 67      2100000        CB            186           80           \n",
       "3 68      1000000        CB            178           73           \n",
       "4 71      1800000        RB            182           80           \n",
       "5 67      1900000        CB            187           80           \n",
       "6 67      1100000        LM            176           72           \n",
       "  Club.Jersey.Number Crossing Sprint.Speed Acceleration IntPrestige\n",
       "1 16                 67       84           85           1          \n",
       "2 27                 42       61           65           1          \n",
       "3 8                  60       55           71           1          \n",
       "4 2                  69       93           83           1          \n",
       "5 4                  48       63           59           1          \n",
       "6 17                 62       80           88           1          \n",
       "  Preferred.Foot Skill.Moves\n",
       "1 Right          3          \n",
       "2 Right          2          \n",
       "3 Right          2          \n",
       "4 Right          2          \n",
       "5 Left           2          \n",
       "6 Right          4          "
      ]
     },
     "metadata": {},
     "output_type": "display_data"
    },
    {
     "data": {
      "text/html": [
       "<ol class=list-inline>\n",
       "\t<li>18539</li>\n",
       "\t<li>12</li>\n",
       "</ol>\n"
      ],
      "text/latex": [
       "\\begin{enumerate*}\n",
       "\\item 18539\n",
       "\\item 12\n",
       "\\end{enumerate*}\n"
      ],
      "text/markdown": [
       "1. 18539\n",
       "2. 12\n",
       "\n",
       "\n"
      ],
      "text/plain": [
       "[1] 18539    12"
      ]
     },
     "metadata": {},
     "output_type": "display_data"
    }
   ],
   "source": [
    "playersTeamCleaned <- subset(playersTeamCombined, select=relevantCols)\n",
    "head(playersTeamCleaned); dim(playersTeamCleaned)"
   ]
  },
  {
   "cell_type": "code",
   "execution_count": 7,
   "id": "525cf34c",
   "metadata": {},
   "outputs": [
    {
     "data": {
      "text/html": [
       "<table>\n",
       "<thead><tr><th scope=col>Overall</th><th scope=col>Value</th><th scope=col>BestPosition</th><th scope=col>Height</th><th scope=col>Weight</th><th scope=col>JerseyNumber</th><th scope=col>Crossing</th><th scope=col>Speed</th><th scope=col>Acceleration</th><th scope=col>IntPrestige</th><th scope=col>PreferredFoot</th><th scope=col>SkillMoves</th></tr></thead>\n",
       "<tbody>\n",
       "\t<tr><td>68     </td><td>2400000</td><td>RM     </td><td>175    </td><td>70     </td><td>16     </td><td>67     </td><td>84     </td><td>85     </td><td>1      </td><td>Right  </td><td>3      </td></tr>\n",
       "\t<tr><td>67     </td><td>2100000</td><td>CB     </td><td>186    </td><td>80     </td><td>27     </td><td>42     </td><td>61     </td><td>65     </td><td>1      </td><td>Right  </td><td>2      </td></tr>\n",
       "\t<tr><td>68     </td><td>1000000</td><td>CB     </td><td>178    </td><td>73     </td><td>8      </td><td>60     </td><td>55     </td><td>71     </td><td>1      </td><td>Right  </td><td>2      </td></tr>\n",
       "\t<tr><td>71     </td><td>1800000</td><td>RB     </td><td>182    </td><td>80     </td><td>2      </td><td>69     </td><td>93     </td><td>83     </td><td>1      </td><td>Right  </td><td>2      </td></tr>\n",
       "\t<tr><td>67     </td><td>1900000</td><td>CB     </td><td>187    </td><td>80     </td><td>4      </td><td>48     </td><td>63     </td><td>59     </td><td>1      </td><td>Left   </td><td>2      </td></tr>\n",
       "\t<tr><td>67     </td><td>1100000</td><td>LM     </td><td>176    </td><td>72     </td><td>17     </td><td>62     </td><td>80     </td><td>88     </td><td>1      </td><td>Right  </td><td>4      </td></tr>\n",
       "</tbody>\n",
       "</table>\n"
      ],
      "text/latex": [
       "\\begin{tabular}{r|llllllllllll}\n",
       " Overall & Value & BestPosition & Height & Weight & JerseyNumber & Crossing & Speed & Acceleration & IntPrestige & PreferredFoot & SkillMoves\\\\\n",
       "\\hline\n",
       "\t 68      & 2400000 & RM      & 175     & 70      & 16      & 67      & 84      & 85      & 1       & Right   & 3      \\\\\n",
       "\t 67      & 2100000 & CB      & 186     & 80      & 27      & 42      & 61      & 65      & 1       & Right   & 2      \\\\\n",
       "\t 68      & 1000000 & CB      & 178     & 73      & 8       & 60      & 55      & 71      & 1       & Right   & 2      \\\\\n",
       "\t 71      & 1800000 & RB      & 182     & 80      & 2       & 69      & 93      & 83      & 1       & Right   & 2      \\\\\n",
       "\t 67      & 1900000 & CB      & 187     & 80      & 4       & 48      & 63      & 59      & 1       & Left    & 2      \\\\\n",
       "\t 67      & 1100000 & LM      & 176     & 72      & 17      & 62      & 80      & 88      & 1       & Right   & 4      \\\\\n",
       "\\end{tabular}\n"
      ],
      "text/markdown": [
       "\n",
       "| Overall | Value | BestPosition | Height | Weight | JerseyNumber | Crossing | Speed | Acceleration | IntPrestige | PreferredFoot | SkillMoves |\n",
       "|---|---|---|---|---|---|---|---|---|---|---|---|\n",
       "| 68      | 2400000 | RM      | 175     | 70      | 16      | 67      | 84      | 85      | 1       | Right   | 3       |\n",
       "| 67      | 2100000 | CB      | 186     | 80      | 27      | 42      | 61      | 65      | 1       | Right   | 2       |\n",
       "| 68      | 1000000 | CB      | 178     | 73      | 8       | 60      | 55      | 71      | 1       | Right   | 2       |\n",
       "| 71      | 1800000 | RB      | 182     | 80      | 2       | 69      | 93      | 83      | 1       | Right   | 2       |\n",
       "| 67      | 1900000 | CB      | 187     | 80      | 4       | 48      | 63      | 59      | 1       | Left    | 2       |\n",
       "| 67      | 1100000 | LM      | 176     | 72      | 17      | 62      | 80      | 88      | 1       | Right   | 4       |\n",
       "\n"
      ],
      "text/plain": [
       "  Overall Value   BestPosition Height Weight JerseyNumber Crossing Speed\n",
       "1 68      2400000 RM           175    70     16           67       84   \n",
       "2 67      2100000 CB           186    80     27           42       61   \n",
       "3 68      1000000 CB           178    73     8            60       55   \n",
       "4 71      1800000 RB           182    80     2            69       93   \n",
       "5 67      1900000 CB           187    80     4            48       63   \n",
       "6 67      1100000 LM           176    72     17           62       80   \n",
       "  Acceleration IntPrestige PreferredFoot SkillMoves\n",
       "1 85           1           Right         3         \n",
       "2 65           1           Right         2         \n",
       "3 71           1           Right         2         \n",
       "4 83           1           Right         2         \n",
       "5 59           1           Left          2         \n",
       "6 88           1           Right         4         "
      ]
     },
     "metadata": {},
     "output_type": "display_data"
    }
   ],
   "source": [
    "# rename\n",
    "colnames(playersTeamCleaned) <- c(\"Overall\", \"Value\", \"BestPosition\", \"Height\", \"Weight\", \"JerseyNumber\", \n",
    "                  \"Crossing\", \"Speed\", \"Acceleration\", \"IntPrestige\", \"PreferredFoot\", \"SkillMoves\")\n",
    "head(playersTeamCleaned)"
   ]
  },
  {
   "cell_type": "markdown",
   "id": "9ffbadb5",
   "metadata": {},
   "source": [
    "Remove null values"
   ]
  },
  {
   "cell_type": "code",
   "execution_count": 8,
   "id": "4e499b74",
   "metadata": {},
   "outputs": [
    {
     "data": {
      "text/html": [
       "<dl class=dl-horizontal>\n",
       "\t<dt>Overall</dt>\n",
       "\t\t<dd>0</dd>\n",
       "\t<dt>Value</dt>\n",
       "\t\t<dd>0</dd>\n",
       "\t<dt>BestPosition</dt>\n",
       "\t\t<dd>0</dd>\n",
       "\t<dt>Height</dt>\n",
       "\t\t<dd>0</dd>\n",
       "\t<dt>Weight</dt>\n",
       "\t\t<dd>0</dd>\n",
       "\t<dt>JerseyNumber</dt>\n",
       "\t\t<dd>0</dd>\n",
       "\t<dt>Crossing</dt>\n",
       "\t\t<dd>0</dd>\n",
       "\t<dt>Speed</dt>\n",
       "\t\t<dd>0</dd>\n",
       "\t<dt>Acceleration</dt>\n",
       "\t\t<dd>0</dd>\n",
       "\t<dt>IntPrestige</dt>\n",
       "\t\t<dd>120</dd>\n",
       "\t<dt>PreferredFoot</dt>\n",
       "\t\t<dd>0</dd>\n",
       "\t<dt>SkillMoves</dt>\n",
       "\t\t<dd>0</dd>\n",
       "</dl>\n"
      ],
      "text/latex": [
       "\\begin{description*}\n",
       "\\item[Overall] 0\n",
       "\\item[Value] 0\n",
       "\\item[BestPosition] 0\n",
       "\\item[Height] 0\n",
       "\\item[Weight] 0\n",
       "\\item[JerseyNumber] 0\n",
       "\\item[Crossing] 0\n",
       "\\item[Speed] 0\n",
       "\\item[Acceleration] 0\n",
       "\\item[IntPrestige] 120\n",
       "\\item[PreferredFoot] 0\n",
       "\\item[SkillMoves] 0\n",
       "\\end{description*}\n"
      ],
      "text/markdown": [
       "Overall\n",
       ":   0Value\n",
       ":   0BestPosition\n",
       ":   0Height\n",
       ":   0Weight\n",
       ":   0JerseyNumber\n",
       ":   0Crossing\n",
       ":   0Speed\n",
       ":   0Acceleration\n",
       ":   0IntPrestige\n",
       ":   120PreferredFoot\n",
       ":   0SkillMoves\n",
       ":   0\n",
       "\n"
      ],
      "text/plain": [
       "      Overall         Value  BestPosition        Height        Weight \n",
       "            0             0             0             0             0 \n",
       " JerseyNumber      Crossing         Speed  Acceleration   IntPrestige \n",
       "            0             0             0             0           120 \n",
       "PreferredFoot    SkillMoves \n",
       "            0             0 "
      ]
     },
     "metadata": {},
     "output_type": "display_data"
    }
   ],
   "source": [
    "colSums(is.na(playersTeamCleaned))"
   ]
  },
  {
   "cell_type": "code",
   "execution_count": 9,
   "id": "06cf5740",
   "metadata": {},
   "outputs": [
    {
     "data": {
      "text/html": [
       "<dl class=dl-horizontal>\n",
       "\t<dt>Overall</dt>\n",
       "\t\t<dd>0</dd>\n",
       "\t<dt>Value</dt>\n",
       "\t\t<dd>0</dd>\n",
       "\t<dt>BestPosition</dt>\n",
       "\t\t<dd>0</dd>\n",
       "\t<dt>Height</dt>\n",
       "\t\t<dd>0</dd>\n",
       "\t<dt>Weight</dt>\n",
       "\t\t<dd>0</dd>\n",
       "\t<dt>JerseyNumber</dt>\n",
       "\t\t<dd>0</dd>\n",
       "\t<dt>Crossing</dt>\n",
       "\t\t<dd>0</dd>\n",
       "\t<dt>Speed</dt>\n",
       "\t\t<dd>0</dd>\n",
       "\t<dt>Acceleration</dt>\n",
       "\t\t<dd>0</dd>\n",
       "\t<dt>IntPrestige</dt>\n",
       "\t\t<dd>0</dd>\n",
       "\t<dt>PreferredFoot</dt>\n",
       "\t\t<dd>0</dd>\n",
       "\t<dt>SkillMoves</dt>\n",
       "\t\t<dd>0</dd>\n",
       "</dl>\n"
      ],
      "text/latex": [
       "\\begin{description*}\n",
       "\\item[Overall] 0\n",
       "\\item[Value] 0\n",
       "\\item[BestPosition] 0\n",
       "\\item[Height] 0\n",
       "\\item[Weight] 0\n",
       "\\item[JerseyNumber] 0\n",
       "\\item[Crossing] 0\n",
       "\\item[Speed] 0\n",
       "\\item[Acceleration] 0\n",
       "\\item[IntPrestige] 0\n",
       "\\item[PreferredFoot] 0\n",
       "\\item[SkillMoves] 0\n",
       "\\end{description*}\n"
      ],
      "text/markdown": [
       "Overall\n",
       ":   0Value\n",
       ":   0BestPosition\n",
       ":   0Height\n",
       ":   0Weight\n",
       ":   0JerseyNumber\n",
       ":   0Crossing\n",
       ":   0Speed\n",
       ":   0Acceleration\n",
       ":   0IntPrestige\n",
       ":   0PreferredFoot\n",
       ":   0SkillMoves\n",
       ":   0\n",
       "\n"
      ],
      "text/plain": [
       "      Overall         Value  BestPosition        Height        Weight \n",
       "            0             0             0             0             0 \n",
       " JerseyNumber      Crossing         Speed  Acceleration   IntPrestige \n",
       "            0             0             0             0             0 \n",
       "PreferredFoot    SkillMoves \n",
       "            0             0 "
      ]
     },
     "metadata": {},
     "output_type": "display_data"
    }
   ],
   "source": [
    "# remove int prestige null\n",
    "playersTeamCleaned <- na.omit(playersTeamCleaned)\n",
    "colSums(is.na(playersTeamCleaned))"
   ]
  },
  {
   "cell_type": "code",
   "execution_count": 10,
   "id": "fa6f434a",
   "metadata": {},
   "outputs": [],
   "source": [
    "# remove players with no value\n",
    "playersTeamCleaned <- playersTeamCleaned[playersTeamCleaned$Value != 0, ]"
   ]
  },
  {
   "cell_type": "code",
   "execution_count": 11,
   "id": "0e0463b9",
   "metadata": {},
   "outputs": [
    {
     "data": {
      "text/plain": [
       "    Overall          Value            BestPosition      Height     \n",
       " Min.   :47.00   Min.   :     9000   CB     :3632   Min.   :155.0  \n",
       " 1st Qu.:62.00   1st Qu.:   500000   ST     :2548   1st Qu.:177.0  \n",
       " Median :66.00   Median :  1000000   CAM    :2300   Median :182.0  \n",
       " Mean   :65.83   Mean   :  2894661   GK     :2039   Mean   :181.5  \n",
       " 3rd Qu.:70.00   3rd Qu.:  2000000   RM     :1434   3rd Qu.:186.0  \n",
       " Max.   :91.00   Max.   :190500000   CDM    :1395   Max.   :206.0  \n",
       "                                     (Other):5059                  \n",
       "     Weight        JerseyNumber      Crossing         Speed      \n",
       " Min.   : 49.00   7      :  598   Min.   : 6.00   Min.   :15.00  \n",
       " 1st Qu.: 70.00   8      :  598   1st Qu.:39.00   1st Qu.:57.00  \n",
       " Median : 75.00   11     :  591   Median :54.00   Median :68.00  \n",
       " Mean   : 75.17   4      :  586   Mean   :49.48   Mean   :64.85  \n",
       " 3rd Qu.: 80.00   6      :  584   3rd Qu.:63.00   3rd Qu.:75.00  \n",
       " Max.   :105.00   10     :  578   Max.   :94.00   Max.   :97.00  \n",
       "                  (Other):14872                                  \n",
       "  Acceleration    IntPrestige     PreferredFoot   SkillMoves   \n",
       " Min.   :14.00   Min.   : 1.000   Left : 4466   Min.   :1.000  \n",
       " 1st Qu.:57.00   1st Qu.: 1.000   Right:13941   1st Qu.:2.000  \n",
       " Median :68.00   Median : 1.000                 Median :2.000  \n",
       " Mean   :64.74   Mean   : 2.483                 Mean   :2.366  \n",
       " 3rd Qu.:75.00   3rd Qu.: 4.000                 3rd Qu.:3.000  \n",
       " Max.   :97.00   Max.   :10.000                 Max.   :5.000  \n",
       "                                                               "
      ]
     },
     "metadata": {},
     "output_type": "display_data"
    }
   ],
   "source": [
    "summary(playersTeamCleaned)"
   ]
  },
  {
   "cell_type": "code",
   "execution_count": 12,
   "id": "a1c95bec",
   "metadata": {},
   "outputs": [
    {
     "data": {
      "text/html": [
       "<ol class=list-inline>\n",
       "\t<li>18407</li>\n",
       "\t<li>12</li>\n",
       "</ol>\n"
      ],
      "text/latex": [
       "\\begin{enumerate*}\n",
       "\\item 18407\n",
       "\\item 12\n",
       "\\end{enumerate*}\n"
      ],
      "text/markdown": [
       "1. 18407\n",
       "2. 12\n",
       "\n",
       "\n"
      ],
      "text/plain": [
       "[1] 18407    12"
      ]
     },
     "metadata": {},
     "output_type": "display_data"
    }
   ],
   "source": [
    "dim(playersTeamCleaned)"
   ]
  },
  {
   "cell_type": "markdown",
   "id": "8792dff7",
   "metadata": {},
   "source": [
    "# Skill Moves vs Overall"
   ]
  },
  {
   "cell_type": "markdown",
   "id": "c848faf0",
   "metadata": {},
   "source": [
    "## Normality Assumption Check"
   ]
  },
  {
   "cell_type": "code",
   "execution_count": 13,
   "id": "71f4976f",
   "metadata": {},
   "outputs": [],
   "source": [
    "library(\"repr\")\n",
    "# library(\"ggplot2\")"
   ]
  },
  {
   "cell_type": "code",
   "execution_count": 14,
   "id": "07ff1ae5",
   "metadata": {},
   "outputs": [
    {
     "data": {
      "text/html": [
       "<ol class=list-inline>\n",
       "\t<li>18407</li>\n",
       "\t<li>12</li>\n",
       "</ol>\n"
      ],
      "text/latex": [
       "\\begin{enumerate*}\n",
       "\\item 18407\n",
       "\\item 12\n",
       "\\end{enumerate*}\n"
      ],
      "text/markdown": [
       "1. 18407\n",
       "2. 12\n",
       "\n",
       "\n"
      ],
      "text/plain": [
       "[1] 18407    12"
      ]
     },
     "metadata": {},
     "output_type": "display_data"
    }
   ],
   "source": [
    "# checking normality for overall \n",
    "dim(playersTeamCleaned)"
   ]
  },
  {
   "cell_type": "markdown",
   "id": "e6139193",
   "metadata": {},
   "source": [
    "Since sample size > 5000, shapiro wilk test cannot be used here. By using Central Limit Theorem, we can approximate each distribution to be normal."
   ]
  },
  {
   "cell_type": "code",
   "execution_count": 15,
   "id": "75eedcb1",
   "metadata": {},
   "outputs": [],
   "source": [
    "# checking normality for each group skill moves 1 - 5"
   ]
  },
  {
   "cell_type": "code",
   "execution_count": 16,
   "id": "27950443",
   "metadata": {},
   "outputs": [
    {
     "data": {
      "text/plain": [
       "   Min. 1st Qu.  Median    Mean 3rd Qu.    Max. \n",
       "  1.000   2.000   2.000   2.366   3.000   5.000 "
      ]
     },
     "metadata": {},
     "output_type": "display_data"
    }
   ],
   "source": [
    "summary(playersTeamCleaned$SkillMoves)"
   ]
  },
  {
   "cell_type": "code",
   "execution_count": 17,
   "id": "09201f89",
   "metadata": {},
   "outputs": [
    {
     "data": {
      "text/html": [
       "2039"
      ],
      "text/latex": [
       "2039"
      ],
      "text/markdown": [
       "2039"
      ],
      "text/plain": [
       "[1] 2039"
      ]
     },
     "metadata": {},
     "output_type": "display_data"
    },
    {
     "data": {
      "text/html": [
       "8851"
      ],
      "text/latex": [
       "8851"
      ],
      "text/markdown": [
       "8851"
      ],
      "text/plain": [
       "[1] 8851"
      ]
     },
     "metadata": {},
     "output_type": "display_data"
    },
    {
     "data": {
      "text/html": [
       "6311"
      ],
      "text/latex": [
       "6311"
      ],
      "text/markdown": [
       "6311"
      ],
      "text/plain": [
       "[1] 6311"
      ]
     },
     "metadata": {},
     "output_type": "display_data"
    },
    {
     "data": {
      "text/html": [
       "1155"
      ],
      "text/latex": [
       "1155"
      ],
      "text/markdown": [
       "1155"
      ],
      "text/plain": [
       "[1] 1155"
      ]
     },
     "metadata": {},
     "output_type": "display_data"
    },
    {
     "data": {
      "text/html": [
       "51"
      ],
      "text/latex": [
       "51"
      ],
      "text/markdown": [
       "51"
      ],
      "text/plain": [
       "[1] 51"
      ]
     },
     "metadata": {},
     "output_type": "display_data"
    }
   ],
   "source": [
    "skillMoves1 <- playersTeamCleaned[playersTeamCleaned['SkillMoves'] == 1, 'Overall']\n",
    "skillMoves2 <- playersTeamCleaned[playersTeamCleaned['SkillMoves'] == 2, 'Overall']\n",
    "skillMoves3 <- playersTeamCleaned[playersTeamCleaned['SkillMoves'] == 3, 'Overall']\n",
    "skillMoves4 <- playersTeamCleaned[playersTeamCleaned['SkillMoves'] == 4, 'Overall']\n",
    "skillMoves5 <- playersTeamCleaned[playersTeamCleaned['SkillMoves'] == 5, 'Overall']\n",
    "length(skillMoves1); length(skillMoves2); length(skillMoves3); length(skillMoves4); length(skillMoves5);"
   ]
  },
  {
   "cell_type": "code",
   "execution_count": 18,
   "id": "48763593",
   "metadata": {},
   "outputs": [
    {
     "data": {
      "text/plain": [
       "\n",
       "\tShapiro-Wilk normality test\n",
       "\n",
       "data:  skillMoves5\n",
       "W = 0.96312, p-value = 0.1133\n"
      ]
     },
     "metadata": {},
     "output_type": "display_data"
    },
    {
     "data": {
      "text/html": [
       "51"
      ],
      "text/latex": [
       "51"
      ],
      "text/markdown": [
       "51"
      ],
      "text/plain": [
       "[1] 51"
      ]
     },
     "metadata": {},
     "output_type": "display_data"
    }
   ],
   "source": [
    "skillMoves5 <- playersTeamCleaned[playersTeamCleaned['SkillMoves'] == 5, 'Overall']\n",
    "shapiro.test(skillMoves5); length(skillMoves5)"
   ]
  },
  {
   "cell_type": "markdown",
   "id": "da5158ca",
   "metadata": {},
   "source": [
    "Since skillMoves 1- 5 > 30 samples, by CLT they assume to be normal"
   ]
  },
  {
   "cell_type": "markdown",
   "id": "3e0963c2",
   "metadata": {},
   "source": [
    "## Homogeneity of Variance"
   ]
  },
  {
   "cell_type": "code",
   "execution_count": 19,
   "id": "ab51aaf5",
   "metadata": {},
   "outputs": [],
   "source": [
    "# F test\n",
    "group <- c(1, 2, 3, 4, 5)\n",
    "groupC <- combn(group, 2, simplify=FALSE)"
   ]
  },
  {
   "cell_type": "code",
   "execution_count": 20,
   "id": "85b747f7",
   "metadata": {},
   "outputs": [
    {
     "data": {
      "text/html": [
       "<table>\n",
       "<thead><tr><th scope=col>pair</th><th scope=col>pvalue</th></tr></thead>\n",
       "<tbody>\n",
       "\t<tr><td>1 2  </td><td>0.000</td></tr>\n",
       "\t<tr><td>1 3  </td><td>0.000</td></tr>\n",
       "\t<tr><td>1 4  </td><td>0.000</td></tr>\n",
       "\t<tr><td>1 5  </td><td>0.119</td></tr>\n",
       "\t<tr><td>2 3  </td><td>0.000</td></tr>\n",
       "\t<tr><td>2 4  </td><td>0.041</td></tr>\n",
       "\t<tr><td>2 5  </td><td>0.942</td></tr>\n",
       "\t<tr><td>3 4  </td><td>0.001</td></tr>\n",
       "\t<tr><td>3 5  </td><td>0.198</td></tr>\n",
       "\t<tr><td>4 5  </td><td>0.599</td></tr>\n",
       "</tbody>\n",
       "</table>\n"
      ],
      "text/latex": [
       "\\begin{tabular}{r|ll}\n",
       " pair & pvalue\\\\\n",
       "\\hline\n",
       "\t 1 2   & 0.000\\\\\n",
       "\t 1 3   & 0.000\\\\\n",
       "\t 1 4   & 0.000\\\\\n",
       "\t 1 5   & 0.119\\\\\n",
       "\t 2 3   & 0.000\\\\\n",
       "\t 2 4   & 0.041\\\\\n",
       "\t 2 5   & 0.942\\\\\n",
       "\t 3 4   & 0.001\\\\\n",
       "\t 3 5   & 0.198\\\\\n",
       "\t 4 5   & 0.599\\\\\n",
       "\\end{tabular}\n"
      ],
      "text/markdown": [
       "\n",
       "| pair | pvalue |\n",
       "|---|---|\n",
       "| 1 2   | 0.000 |\n",
       "| 1 3   | 0.000 |\n",
       "| 1 4   | 0.000 |\n",
       "| 1 5   | 0.119 |\n",
       "| 2 3   | 0.000 |\n",
       "| 2 4   | 0.041 |\n",
       "| 2 5   | 0.942 |\n",
       "| 3 4   | 0.001 |\n",
       "| 3 5   | 0.198 |\n",
       "| 4 5   | 0.599 |\n",
       "\n"
      ],
      "text/plain": [
       "   pair pvalue\n",
       "1  1 2  0.000 \n",
       "2  1 3  0.000 \n",
       "3  1 4  0.000 \n",
       "4  1 5  0.119 \n",
       "5  2 3  0.000 \n",
       "6  2 4  0.041 \n",
       "7  2 5  0.942 \n",
       "8  3 4  0.001 \n",
       "9  3 5  0.198 \n",
       "10 4 5  0.599 "
      ]
     },
     "metadata": {},
     "output_type": "display_data"
    }
   ],
   "source": [
    "pvalue <- vector()\n",
    "pair <- vector()\n",
    "for (i in groupC){\n",
    "    pos <- unlist(i)\n",
    "    x <- playersTeamCleaned[playersTeamCleaned['SkillMoves'] == pos[1], 'Overall']\n",
    "    y <- playersTeamCleaned[playersTeamCleaned['SkillMoves'] == pos[2], 'Overall']\n",
    "    pair <- append(pair, paste(pos[1], pos[2]))\n",
    "    pvalue <- append(pvalue, round(var.test(x, y)[[3]], 3))\n",
    "}\n",
    "variancedf <- data.frame(pair, pvalue)\n",
    "# Select combinations which do not have the same variance\n",
    "variancedf"
   ]
  },
  {
   "cell_type": "markdown",
   "id": "b3a457c3",
   "metadata": {},
   "source": [
    "Assumptions of Anova failed, that is parametric test assumptions have failed, going for non parametric tests"
   ]
  },
  {
   "cell_type": "markdown",
   "id": "d896d65d",
   "metadata": {},
   "source": [
    "## Conducting Kruskal-Wallis Test"
   ]
  },
  {
   "cell_type": "markdown",
   "id": "16ee87d0",
   "metadata": {},
   "source": [
    "H0: Overall Rating is independent of Skill Moves\n",
    "\n",
    "H1: Overall Rating is not independent of Skill Moves"
   ]
  },
  {
   "cell_type": "code",
   "execution_count": 21,
   "id": "e5f0f2e0",
   "metadata": {},
   "outputs": [
    {
     "data": {
      "text/plain": [
       "\n",
       "\tKruskal-Wallis rank sum test\n",
       "\n",
       "data:  playersTeamCleaned$Overall and playersTeamCleaned$SkillMoves\n",
       "Kruskal-Wallis chi-squared = 3012.1, df = 4, p-value < 2.2e-16\n"
      ]
     },
     "metadata": {},
     "output_type": "display_data"
    }
   ],
   "source": [
    "kruskal.test(playersTeamCleaned$Overall, playersTeamCleaned$SkillMoves)"
   ]
  },
  {
   "cell_type": "markdown",
   "id": "b3000023",
   "metadata": {},
   "source": [
    "There is enough evidence against the null hypothesis that Overall Rating is independent of skill moves"
   ]
  },
  {
   "cell_type": "code",
   "execution_count": 22,
   "id": "4f82d0f1",
   "metadata": {},
   "outputs": [
    {
     "data": {
      "text/plain": [
       "\n",
       "\tPairwise comparisons using Wilcoxon rank sum test \n",
       "\n",
       "data:  playersTeamCleaned$Overall and playersTeamCleaned$SkillMoves \n",
       "\n",
       "  1       2       3       4      \n",
       "2 0.00028 -       -       -      \n",
       "3 < 2e-16 < 2e-16 -       -      \n",
       "4 < 2e-16 < 2e-16 < 2e-16 -      \n",
       "5 < 2e-16 < 2e-16 < 2e-16 1.8e-10\n",
       "\n",
       "P value adjustment method: none "
      ]
     },
     "metadata": {},
     "output_type": "display_data"
    }
   ],
   "source": [
    "pairwise.wilcox.test(playersTeamCleaned$Overall, playersTeamCleaned$SkillMoves, p.adjust.method='none')"
   ]
  }
 ],
 "metadata": {
  "kernelspec": {
   "display_name": "R",
   "language": "R",
   "name": "ir"
  },
  "language_info": {
   "codemirror_mode": "r",
   "file_extension": ".r",
   "mimetype": "text/x-r-source",
   "name": "R",
   "pygments_lexer": "r",
   "version": "3.6.1"
  }
 },
 "nbformat": 4,
 "nbformat_minor": 5
}
