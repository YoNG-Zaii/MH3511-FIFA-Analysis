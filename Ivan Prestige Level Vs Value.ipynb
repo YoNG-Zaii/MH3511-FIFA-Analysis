{
 "cells": [
  {
   "cell_type": "code",
   "execution_count": 1,
   "id": "a705d252",
   "metadata": {},
   "outputs": [],
   "source": [
    "players23 <- read.csv(\"./fifa23_players_data.csv\")\n",
    "teams23 <- read.csv(\"./fifa23_teams_data.csv\")"
   ]
  },
  {
   "cell_type": "code",
   "execution_count": 2,
   "id": "61692c4a",
   "metadata": {},
   "outputs": [
    {
     "data": {
      "text/html": [
       "<table>\n",
       "<thead><tr><th scope=col>Known.As</th><th scope=col>Overall</th><th scope=col>Value.in.Euro.</th><th scope=col>Best.Position</th><th scope=col>Nationality</th><th scope=col>Age</th><th scope=col>Height.in.cm.</th><th scope=col>Weight.in.kg.</th><th scope=col>TotalStats</th><th scope=col>Club.Name</th><th scope=col>Wage.in.Euro.</th><th scope=col>Release.Clause</th><th scope=col>Club.Jersey.Number</th><th scope=col>Agility</th><th scope=col>Crossing</th><th scope=col>Sprint.Speed</th><th scope=col>Acceleration</th></tr></thead>\n",
       "<tbody>\n",
       "\t<tr><td>L. Messi           </td><td>91                 </td><td> 54000000          </td><td>CAM                </td><td>Argentina          </td><td>35                 </td><td>169                </td><td>67                 </td><td>2190               </td><td>Paris Saint-Germain</td><td>195000             </td><td> 99900000          </td><td>30                 </td><td>91                 </td><td>84                 </td><td>76                 </td><td>87                 </td></tr>\n",
       "\t<tr><td>K. Benzema         </td><td>91                 </td><td> 64000000          </td><td>CF                 </td><td>France             </td><td>34                 </td><td>185                </td><td>81                 </td><td>2147               </td><td>Real Madrid CF     </td><td>450000             </td><td>131199999          </td><td>9                  </td><td>78                 </td><td>75                 </td><td>80                 </td><td>79                 </td></tr>\n",
       "\t<tr><td>R. Lewandowski     </td><td>91                 </td><td> 84000000          </td><td>ST                 </td><td>Poland             </td><td>33                 </td><td>185                </td><td>81                 </td><td>2205               </td><td>FC Barcelona       </td><td>420000             </td><td>172200000          </td><td>9                  </td><td>77                 </td><td>71                 </td><td>75                 </td><td>76                 </td></tr>\n",
       "\t<tr><td>K. De Bruyne       </td><td>91                 </td><td>107500000          </td><td>CM                 </td><td>Belgium            </td><td>31                 </td><td>181                </td><td>70                 </td><td>2303               </td><td>Manchester City    </td><td>350000             </td><td>198900000          </td><td>17                 </td><td>76                 </td><td>94                 </td><td>73                 </td><td>76                 </td></tr>\n",
       "\t<tr><td>K. MbappÃ©         </td><td>91                 </td><td>190500000          </td><td>ST                 </td><td>France             </td><td>23                 </td><td>182                </td><td>73                 </td><td>2177               </td><td>Paris Saint-Germain</td><td>230000             </td><td>366700000          </td><td>7                  </td><td>93                 </td><td>78                 </td><td>97                 </td><td>97                 </td></tr>\n",
       "\t<tr><td>M. Salah           </td><td>90                 </td><td>115500000          </td><td>RW                 </td><td>Egypt              </td><td>30                 </td><td>175                </td><td>71                 </td><td>2226               </td><td>Liverpool          </td><td>270000             </td><td>213700000          </td><td>11                 </td><td>90                 </td><td>80                 </td><td>91                 </td><td>89                 </td></tr>\n",
       "</tbody>\n",
       "</table>\n"
      ],
      "text/latex": [
       "\\begin{tabular}{r|lllllllllllllllll}\n",
       " Known.As & Overall & Value.in.Euro. & Best.Position & Nationality & Age & Height.in.cm. & Weight.in.kg. & TotalStats & Club.Name & Wage.in.Euro. & Release.Clause & Club.Jersey.Number & Agility & Crossing & Sprint.Speed & Acceleration\\\\\n",
       "\\hline\n",
       "\t L. Messi            & 91                  &  54000000           & CAM                 & Argentina           & 35                  & 169                 & 67                  & 2190                & Paris Saint-Germain & 195000              &  99900000           & 30                  & 91                  & 84                  & 76                  & 87                 \\\\\n",
       "\t K. Benzema          & 91                  &  64000000           & CF                  & France              & 34                  & 185                 & 81                  & 2147                & Real Madrid CF      & 450000              & 131199999           & 9                   & 78                  & 75                  & 80                  & 79                 \\\\\n",
       "\t R. Lewandowski      & 91                  &  84000000           & ST                  & Poland              & 33                  & 185                 & 81                  & 2205                & FC Barcelona        & 420000              & 172200000           & 9                   & 77                  & 71                  & 75                  & 76                 \\\\\n",
       "\t K. De Bruyne        & 91                  & 107500000           & CM                  & Belgium             & 31                  & 181                 & 70                  & 2303                & Manchester City     & 350000              & 198900000           & 17                  & 76                  & 94                  & 73                  & 76                 \\\\\n",
       "\t K. MbappÃ©          & 91                  & 190500000           & ST                  & France              & 23                  & 182                 & 73                  & 2177                & Paris Saint-Germain & 230000              & 366700000           & 7                   & 93                  & 78                  & 97                  & 97                 \\\\\n",
       "\t M. Salah            & 90                  & 115500000           & RW                  & Egypt               & 30                  & 175                 & 71                  & 2226                & Liverpool           & 270000              & 213700000           & 11                  & 90                  & 80                  & 91                  & 89                 \\\\\n",
       "\\end{tabular}\n"
      ],
      "text/markdown": [
       "\n",
       "| Known.As | Overall | Value.in.Euro. | Best.Position | Nationality | Age | Height.in.cm. | Weight.in.kg. | TotalStats | Club.Name | Wage.in.Euro. | Release.Clause | Club.Jersey.Number | Agility | Crossing | Sprint.Speed | Acceleration |\n",
       "|---|---|---|---|---|---|---|---|---|---|---|---|---|---|---|---|---|\n",
       "| L. Messi            | 91                  |  54000000           | CAM                 | Argentina           | 35                  | 169                 | 67                  | 2190                | Paris Saint-Germain | 195000              |  99900000           | 30                  | 91                  | 84                  | 76                  | 87                  |\n",
       "| K. Benzema          | 91                  |  64000000           | CF                  | France              | 34                  | 185                 | 81                  | 2147                | Real Madrid CF      | 450000              | 131199999           | 9                   | 78                  | 75                  | 80                  | 79                  |\n",
       "| R. Lewandowski      | 91                  |  84000000           | ST                  | Poland              | 33                  | 185                 | 81                  | 2205                | FC Barcelona        | 420000              | 172200000           | 9                   | 77                  | 71                  | 75                  | 76                  |\n",
       "| K. De Bruyne        | 91                  | 107500000           | CM                  | Belgium             | 31                  | 181                 | 70                  | 2303                | Manchester City     | 350000              | 198900000           | 17                  | 76                  | 94                  | 73                  | 76                  |\n",
       "| K. MbappÃ©          | 91                  | 190500000           | ST                  | France              | 23                  | 182                 | 73                  | 2177                | Paris Saint-Germain | 230000              | 366700000           | 7                   | 93                  | 78                  | 97                  | 97                  |\n",
       "| M. Salah            | 90                  | 115500000           | RW                  | Egypt               | 30                  | 175                 | 71                  | 2226                | Liverpool           | 270000              | 213700000           | 11                  | 90                  | 80                  | 91                  | 89                  |\n",
       "\n"
      ],
      "text/plain": [
       "  Known.As       Overall Value.in.Euro. Best.Position Nationality Age\n",
       "1 L. Messi       91       54000000      CAM           Argentina   35 \n",
       "2 K. Benzema     91       64000000      CF            France      34 \n",
       "3 R. Lewandowski 91       84000000      ST            Poland      33 \n",
       "4 K. De Bruyne   91      107500000      CM            Belgium     31 \n",
       "5 K. MbappÃ©     91      190500000      ST            France      23 \n",
       "6 M. Salah       90      115500000      RW            Egypt       30 \n",
       "  Height.in.cm. Weight.in.kg. TotalStats Club.Name           Wage.in.Euro.\n",
       "1 169           67            2190       Paris Saint-Germain 195000       \n",
       "2 185           81            2147       Real Madrid CF      450000       \n",
       "3 185           81            2205       FC Barcelona        420000       \n",
       "4 181           70            2303       Manchester City     350000       \n",
       "5 182           73            2177       Paris Saint-Germain 230000       \n",
       "6 175           71            2226       Liverpool           270000       \n",
       "  Release.Clause Club.Jersey.Number Agility Crossing Sprint.Speed Acceleration\n",
       "1  99900000      30                 91      84       76           87          \n",
       "2 131199999      9                  78      75       80           79          \n",
       "3 172200000      9                  77      71       75           76          \n",
       "4 198900000      17                 76      94       73           76          \n",
       "5 366700000      7                  93      78       97           97          \n",
       "6 213700000      11                 90      80       91           89          "
      ]
     },
     "metadata": {},
     "output_type": "display_data"
    },
    {
     "data": {
      "text/html": [
       "<ol class=list-inline>\n",
       "\t<li>18539</li>\n",
       "\t<li>17</li>\n",
       "</ol>\n"
      ],
      "text/latex": [
       "\\begin{enumerate*}\n",
       "\\item 18539\n",
       "\\item 17\n",
       "\\end{enumerate*}\n"
      ],
      "text/markdown": [
       "1. 18539\n",
       "2. 17\n",
       "\n",
       "\n"
      ],
      "text/plain": [
       "[1] 18539    17"
      ]
     },
     "metadata": {},
     "output_type": "display_data"
    }
   ],
   "source": [
    "relevantCols <- c(\"Known.As\", \"Overall\", \"Value.in.Euro.\", \"Best.Position\", \"Nationality\", \"Age\", \"Height.in.cm.\", \"Weight.in.kg.\", \n",
    "                 \"TotalStats\", \"Club.Name\", \"Wage.in.Euro.\", \"Release.Clause\", \"Club.Jersey.Number\", \"Agility\", \"Crossing\", \"Sprint.Speed\", \"Acceleration\")\n",
    "\n",
    "# assumed cleaned\n",
    "playersCleaned23 <- subset(players23, select=relevantCols)\n",
    "\n",
    "head(playersCleaned23); dim(playersCleaned23)"
   ]
  },
  {
   "cell_type": "code",
   "execution_count": 3,
   "id": "85393efc",
   "metadata": {},
   "outputs": [
    {
     "data": {
      "text/html": [
       "<table>\n",
       "<thead><tr><th scope=col>Name</th><th scope=col>League</th><th scope=col>LeagueId</th><th scope=col>Overall</th><th scope=col>IntPrestige</th><th scope=col>DomesticPrestige</th></tr></thead>\n",
       "<tbody>\n",
       "\t<tr><td>AFC Bournemouth           </td><td>English Premier League (1)</td><td>13                        </td><td>74                        </td><td>1                         </td><td>2                         </td></tr>\n",
       "\t<tr><td>AFC Richmond              </td><td>English Premier League (1)</td><td>13                        </td><td>78                        </td><td>3                         </td><td>5                         </td></tr>\n",
       "\t<tr><td>Arsenal                   </td><td>English Premier League (1)</td><td>13                        </td><td>80                        </td><td>7                         </td><td>7                         </td></tr>\n",
       "\t<tr><td>Aston Villa               </td><td>English Premier League (1)</td><td>13                        </td><td>79                        </td><td>3                         </td><td>5                         </td></tr>\n",
       "\t<tr><td>Brentford                 </td><td>English Premier League (1)</td><td>13                        </td><td>75                        </td><td>1                         </td><td>1                         </td></tr>\n",
       "\t<tr><td>Brighton &amp; Hove Albion</td><td>English Premier League (1)</td><td>13                        </td><td>76                        </td><td>2                         </td><td>3                         </td></tr>\n",
       "</tbody>\n",
       "</table>\n"
      ],
      "text/latex": [
       "\\begin{tabular}{r|llllll}\n",
       " Name & League & LeagueId & Overall & IntPrestige & DomesticPrestige\\\\\n",
       "\\hline\n",
       "\t AFC Bournemouth            & English Premier League (1) & 13                         & 74                         & 1                          & 2                         \\\\\n",
       "\t AFC Richmond               & English Premier League (1) & 13                         & 78                         & 3                          & 5                         \\\\\n",
       "\t Arsenal                    & English Premier League (1) & 13                         & 80                         & 7                          & 7                         \\\\\n",
       "\t Aston Villa                & English Premier League (1) & 13                         & 79                         & 3                          & 5                         \\\\\n",
       "\t Brentford                  & English Premier League (1) & 13                         & 75                         & 1                          & 1                         \\\\\n",
       "\t Brighton \\& Hove Albion   & English Premier League (1) & 13                         & 76                         & 2                          & 3                         \\\\\n",
       "\\end{tabular}\n"
      ],
      "text/markdown": [
       "\n",
       "| Name | League | LeagueId | Overall | IntPrestige | DomesticPrestige |\n",
       "|---|---|---|---|---|---|\n",
       "| AFC Bournemouth            | English Premier League (1) | 13                         | 74                         | 1                          | 2                          |\n",
       "| AFC Richmond               | English Premier League (1) | 13                         | 78                         | 3                          | 5                          |\n",
       "| Arsenal                    | English Premier League (1) | 13                         | 80                         | 7                          | 7                          |\n",
       "| Aston Villa                | English Premier League (1) | 13                         | 79                         | 3                          | 5                          |\n",
       "| Brentford                  | English Premier League (1) | 13                         | 75                         | 1                          | 1                          |\n",
       "| Brighton & Hove Albion     | English Premier League (1) | 13                         | 76                         | 2                          | 3                          |\n",
       "\n"
      ],
      "text/plain": [
       "  Name                   League                     LeagueId Overall\n",
       "1 AFC Bournemouth        English Premier League (1) 13       74     \n",
       "2 AFC Richmond           English Premier League (1) 13       78     \n",
       "3 Arsenal                English Premier League (1) 13       80     \n",
       "4 Aston Villa            English Premier League (1) 13       79     \n",
       "5 Brentford              English Premier League (1) 13       75     \n",
       "6 Brighton & Hove Albion English Premier League (1) 13       76     \n",
       "  IntPrestige DomesticPrestige\n",
       "1 1           2               \n",
       "2 3           5               \n",
       "3 7           7               \n",
       "4 3           5               \n",
       "5 1           1               \n",
       "6 2           3               "
      ]
     },
     "metadata": {},
     "output_type": "display_data"
    }
   ],
   "source": [
    "teamsCleaned23 <- subset(teams23, select=c(\"Name\", \"League\", \"LeagueId\", \"Overall\", \"IntPrestige\", \"DomesticPrestige\"))\n",
    "head(teamsCleaned23)"
   ]
  },
  {
   "cell_type": "code",
   "execution_count": 4,
   "id": "3f3e6fec",
   "metadata": {},
   "outputs": [
    {
     "data": {
      "text/html": [
       "<table>\n",
       "<thead><tr><th scope=col>Club.Name</th><th scope=col>Known.As</th><th scope=col>Overall.x</th><th scope=col>Value.in.Euro.</th><th scope=col>Best.Position</th><th scope=col>Nationality</th><th scope=col>Age</th><th scope=col>Height.in.cm.</th><th scope=col>Weight.in.kg.</th><th scope=col>TotalStats</th><th scope=col>...</th><th scope=col>Club.Jersey.Number</th><th scope=col>Agility</th><th scope=col>Crossing</th><th scope=col>Sprint.Speed</th><th scope=col>Acceleration</th><th scope=col>League</th><th scope=col>LeagueId</th><th scope=col>Overall.y</th><th scope=col>IntPrestige</th><th scope=col>DomesticPrestige</th></tr></thead>\n",
       "<tbody>\n",
       "\t<tr><td>1. FC Heidenheim 1846   </td><td>K. Sessa                </td><td>68                      </td><td>2400000                 </td><td>RM                      </td><td>Germany                 </td><td>21                      </td><td>175                     </td><td>70                      </td><td>1893                    </td><td>...                     </td><td>16                      </td><td>85                      </td><td>67                      </td><td>84                      </td><td>85                      </td><td>German 2. Bundesliga (2)</td><td>20                      </td><td>68                      </td><td>1                       </td><td>6                       </td></tr>\n",
       "\t<tr><td>1. FC Heidenheim 1846   </td><td>T. Keller               </td><td>67                      </td><td>2100000                 </td><td>CB                      </td><td>Germany                 </td><td>22                      </td><td>186                     </td><td>80                      </td><td>1636                    </td><td>...                     </td><td>27                      </td><td>59                      </td><td>42                      </td><td>61                      </td><td>65                      </td><td>German 2. Bundesliga (2)</td><td>20                      </td><td>68                      </td><td>1                       </td><td>6                       </td></tr>\n",
       "\t<tr><td>1. FC Heidenheim 1846   </td><td>A. Geipl                </td><td>68                      </td><td>1000000                 </td><td>CB                      </td><td>Germany                 </td><td>30                      </td><td>178                     </td><td>73                      </td><td>1809                    </td><td>...                     </td><td>8                       </td><td>73                      </td><td>60                      </td><td>55                      </td><td>71                      </td><td>German 2. Bundesliga (2)</td><td>20                      </td><td>68                      </td><td>1                       </td><td>6                       </td></tr>\n",
       "\t<tr><td>1. FC Heidenheim 1846   </td><td>M. Busch                </td><td>71                      </td><td>1800000                 </td><td>RB                      </td><td>Germany                 </td><td>27                      </td><td>182                     </td><td>80                      </td><td>1819                    </td><td>...                     </td><td>2                       </td><td>72                      </td><td>69                      </td><td>93                      </td><td>83                      </td><td>German 2. Bundesliga (2)</td><td>20                      </td><td>68                      </td><td>1                       </td><td>6                       </td></tr>\n",
       "\t<tr><td>1. FC Heidenheim 1846   </td><td>T. Siersleben           </td><td>67                      </td><td>1900000                 </td><td>CB                      </td><td>Germany                 </td><td>22                      </td><td>187                     </td><td>80                      </td><td>1525                    </td><td>...                     </td><td>4                       </td><td>55                      </td><td>48                      </td><td>63                      </td><td>59                      </td><td>German 2. Bundesliga (2)</td><td>20                      </td><td>68                      </td><td>1                       </td><td>6                       </td></tr>\n",
       "\t<tr><td>1. FC Heidenheim 1846   </td><td>F. Pick                 </td><td>67                      </td><td>1100000                 </td><td>LM                      </td><td>Germany                 </td><td>26                      </td><td>176                     </td><td>72                      </td><td>1638                    </td><td>...                     </td><td>17                      </td><td>83                      </td><td>62                      </td><td>80                      </td><td>88                      </td><td>German 2. Bundesliga (2)</td><td>20                      </td><td>68                      </td><td>1                       </td><td>6                       </td></tr>\n",
       "</tbody>\n",
       "</table>\n"
      ],
      "text/latex": [
       "\\begin{tabular}{r|llllllllllllllllllllll}\n",
       " Club.Name & Known.As & Overall.x & Value.in.Euro. & Best.Position & Nationality & Age & Height.in.cm. & Weight.in.kg. & TotalStats & ... & Club.Jersey.Number & Agility & Crossing & Sprint.Speed & Acceleration & League & LeagueId & Overall.y & IntPrestige & DomesticPrestige\\\\\n",
       "\\hline\n",
       "\t 1. FC Heidenheim 1846    & K. Sessa                 & 68                       & 2400000                  & RM                       & Germany                  & 21                       & 175                      & 70                       & 1893                     & ...                      & 16                       & 85                       & 67                       & 84                       & 85                       & German 2. Bundesliga (2) & 20                       & 68                       & 1                        & 6                       \\\\\n",
       "\t 1. FC Heidenheim 1846    & T. Keller                & 67                       & 2100000                  & CB                       & Germany                  & 22                       & 186                      & 80                       & 1636                     & ...                      & 27                       & 59                       & 42                       & 61                       & 65                       & German 2. Bundesliga (2) & 20                       & 68                       & 1                        & 6                       \\\\\n",
       "\t 1. FC Heidenheim 1846    & A. Geipl                 & 68                       & 1000000                  & CB                       & Germany                  & 30                       & 178                      & 73                       & 1809                     & ...                      & 8                        & 73                       & 60                       & 55                       & 71                       & German 2. Bundesliga (2) & 20                       & 68                       & 1                        & 6                       \\\\\n",
       "\t 1. FC Heidenheim 1846    & M. Busch                 & 71                       & 1800000                  & RB                       & Germany                  & 27                       & 182                      & 80                       & 1819                     & ...                      & 2                        & 72                       & 69                       & 93                       & 83                       & German 2. Bundesliga (2) & 20                       & 68                       & 1                        & 6                       \\\\\n",
       "\t 1. FC Heidenheim 1846    & T. Siersleben            & 67                       & 1900000                  & CB                       & Germany                  & 22                       & 187                      & 80                       & 1525                     & ...                      & 4                        & 55                       & 48                       & 63                       & 59                       & German 2. Bundesliga (2) & 20                       & 68                       & 1                        & 6                       \\\\\n",
       "\t 1. FC Heidenheim 1846    & F. Pick                  & 67                       & 1100000                  & LM                       & Germany                  & 26                       & 176                      & 72                       & 1638                     & ...                      & 17                       & 83                       & 62                       & 80                       & 88                       & German 2. Bundesliga (2) & 20                       & 68                       & 1                        & 6                       \\\\\n",
       "\\end{tabular}\n"
      ],
      "text/markdown": [
       "\n",
       "| Club.Name | Known.As | Overall.x | Value.in.Euro. | Best.Position | Nationality | Age | Height.in.cm. | Weight.in.kg. | TotalStats | ... | Club.Jersey.Number | Agility | Crossing | Sprint.Speed | Acceleration | League | LeagueId | Overall.y | IntPrestige | DomesticPrestige |\n",
       "|---|---|---|---|---|---|---|---|---|---|---|---|---|---|---|---|---|---|---|---|---|\n",
       "| 1. FC Heidenheim 1846    | K. Sessa                 | 68                       | 2400000                  | RM                       | Germany                  | 21                       | 175                      | 70                       | 1893                     | ...                      | 16                       | 85                       | 67                       | 84                       | 85                       | German 2. Bundesliga (2) | 20                       | 68                       | 1                        | 6                        |\n",
       "| 1. FC Heidenheim 1846    | T. Keller                | 67                       | 2100000                  | CB                       | Germany                  | 22                       | 186                      | 80                       | 1636                     | ...                      | 27                       | 59                       | 42                       | 61                       | 65                       | German 2. Bundesliga (2) | 20                       | 68                       | 1                        | 6                        |\n",
       "| 1. FC Heidenheim 1846    | A. Geipl                 | 68                       | 1000000                  | CB                       | Germany                  | 30                       | 178                      | 73                       | 1809                     | ...                      | 8                        | 73                       | 60                       | 55                       | 71                       | German 2. Bundesliga (2) | 20                       | 68                       | 1                        | 6                        |\n",
       "| 1. FC Heidenheim 1846    | M. Busch                 | 71                       | 1800000                  | RB                       | Germany                  | 27                       | 182                      | 80                       | 1819                     | ...                      | 2                        | 72                       | 69                       | 93                       | 83                       | German 2. Bundesliga (2) | 20                       | 68                       | 1                        | 6                        |\n",
       "| 1. FC Heidenheim 1846    | T. Siersleben            | 67                       | 1900000                  | CB                       | Germany                  | 22                       | 187                      | 80                       | 1525                     | ...                      | 4                        | 55                       | 48                       | 63                       | 59                       | German 2. Bundesliga (2) | 20                       | 68                       | 1                        | 6                        |\n",
       "| 1. FC Heidenheim 1846    | F. Pick                  | 67                       | 1100000                  | LM                       | Germany                  | 26                       | 176                      | 72                       | 1638                     | ...                      | 17                       | 83                       | 62                       | 80                       | 88                       | German 2. Bundesliga (2) | 20                       | 68                       | 1                        | 6                        |\n",
       "\n"
      ],
      "text/plain": [
       "  Club.Name             Known.As      Overall.x Value.in.Euro. Best.Position\n",
       "1 1. FC Heidenheim 1846 K. Sessa      68        2400000        RM           \n",
       "2 1. FC Heidenheim 1846 T. Keller     67        2100000        CB           \n",
       "3 1. FC Heidenheim 1846 A. Geipl      68        1000000        CB           \n",
       "4 1. FC Heidenheim 1846 M. Busch      71        1800000        RB           \n",
       "5 1. FC Heidenheim 1846 T. Siersleben 67        1900000        CB           \n",
       "6 1. FC Heidenheim 1846 F. Pick       67        1100000        LM           \n",
       "  Nationality Age Height.in.cm. Weight.in.kg. TotalStats ... Club.Jersey.Number\n",
       "1 Germany     21  175           70            1893       ... 16                \n",
       "2 Germany     22  186           80            1636       ... 27                \n",
       "3 Germany     30  178           73            1809       ... 8                 \n",
       "4 Germany     27  182           80            1819       ... 2                 \n",
       "5 Germany     22  187           80            1525       ... 4                 \n",
       "6 Germany     26  176           72            1638       ... 17                \n",
       "  Agility Crossing Sprint.Speed Acceleration League                   LeagueId\n",
       "1 85      67       84           85           German 2. Bundesliga (2) 20      \n",
       "2 59      42       61           65           German 2. Bundesliga (2) 20      \n",
       "3 73      60       55           71           German 2. Bundesliga (2) 20      \n",
       "4 72      69       93           83           German 2. Bundesliga (2) 20      \n",
       "5 55      48       63           59           German 2. Bundesliga (2) 20      \n",
       "6 83      62       80           88           German 2. Bundesliga (2) 20      \n",
       "  Overall.y IntPrestige DomesticPrestige\n",
       "1 68        1           6               \n",
       "2 68        1           6               \n",
       "3 68        1           6               \n",
       "4 68        1           6               \n",
       "5 68        1           6               \n",
       "6 68        1           6               "
      ]
     },
     "metadata": {},
     "output_type": "display_data"
    },
    {
     "data": {
      "text/html": [
       "<ol class=list-inline>\n",
       "\t<li>18539</li>\n",
       "\t<li>22</li>\n",
       "</ol>\n"
      ],
      "text/latex": [
       "\\begin{enumerate*}\n",
       "\\item 18539\n",
       "\\item 22\n",
       "\\end{enumerate*}\n"
      ],
      "text/markdown": [
       "1. 18539\n",
       "2. 22\n",
       "\n",
       "\n"
      ],
      "text/plain": [
       "[1] 18539    22"
      ]
     },
     "metadata": {},
     "output_type": "display_data"
    }
   ],
   "source": [
    "playersTeamCombined <- merge(playersCleaned23, teamsCleaned23, by.x=\"Club.Name\", by.y=\"Name\", all.x = TRUE)\n",
    "head(playersTeamCombined); dim(playersTeamCombined)"
   ]
  },
  {
   "cell_type": "code",
   "execution_count": 5,
   "id": "3521e50d",
   "metadata": {},
   "outputs": [
    {
     "data": {
      "text/html": [
       "<table>\n",
       "<thead><tr><th></th><th scope=col>Value.in.Euro.</th><th scope=col>Wage.in.Euro.</th><th scope=col>IntPrestige</th><th scope=col>DomesticPrestige</th><th scope=col>LeagueId</th><th scope=col>League</th><th scope=col>Club.Name</th></tr></thead>\n",
       "<tbody>\n",
       "\t<tr><th scope=row>1897</th><td>24000000                  </td><td>58000                     </td><td>9                         </td><td>9                         </td><td>53                        </td><td>Spain Primera Division (1)</td><td>AtlÃ©tico de Madrid       </td></tr>\n",
       "\t<tr><th scope=row>1898</th><td> 8500000                  </td><td>51000                     </td><td>9                         </td><td>9                         </td><td>53                        </td><td>Spain Primera Division (1)</td><td>AtlÃ©tico de Madrid       </td></tr>\n",
       "\t<tr><th scope=row>1899</th><td> 1500000                  </td><td> 8000                     </td><td>9                         </td><td>9                         </td><td>53                        </td><td>Spain Primera Division (1)</td><td>AtlÃ©tico de Madrid       </td></tr>\n",
       "\t<tr><th scope=row>1900</th><td> 1400000                  </td><td>  950                     </td><td>9                         </td><td>9                         </td><td>53                        </td><td>Spain Primera Division (1)</td><td>AtlÃ©tico de Madrid       </td></tr>\n",
       "\t<tr><th scope=row>1901</th><td>42500000                  </td><td>80000                     </td><td>9                         </td><td>9                         </td><td>53                        </td><td>Spain Primera Division (1)</td><td>AtlÃ©tico de Madrid       </td></tr>\n",
       "\t<tr><th scope=row>1902</th><td>21000000                  </td><td>66000                     </td><td>9                         </td><td>9                         </td><td>53                        </td><td>Spain Primera Division (1)</td><td>AtlÃ©tico de Madrid       </td></tr>\n",
       "</tbody>\n",
       "</table>\n"
      ],
      "text/latex": [
       "\\begin{tabular}{r|lllllll}\n",
       "  & Value.in.Euro. & Wage.in.Euro. & IntPrestige & DomesticPrestige & LeagueId & League & Club.Name\\\\\n",
       "\\hline\n",
       "\t1897 & 24000000                   & 58000                      & 9                          & 9                          & 53                         & Spain Primera Division (1) & AtlÃ©tico de Madrid       \\\\\n",
       "\t1898 &  8500000                   & 51000                      & 9                          & 9                          & 53                         & Spain Primera Division (1) & AtlÃ©tico de Madrid       \\\\\n",
       "\t1899 &  1500000                   &  8000                      & 9                          & 9                          & 53                         & Spain Primera Division (1) & AtlÃ©tico de Madrid       \\\\\n",
       "\t1900 &  1400000                   &   950                      & 9                          & 9                          & 53                         & Spain Primera Division (1) & AtlÃ©tico de Madrid       \\\\\n",
       "\t1901 & 42500000                   & 80000                      & 9                          & 9                          & 53                         & Spain Primera Division (1) & AtlÃ©tico de Madrid       \\\\\n",
       "\t1902 & 21000000                   & 66000                      & 9                          & 9                          & 53                         & Spain Primera Division (1) & AtlÃ©tico de Madrid       \\\\\n",
       "\\end{tabular}\n"
      ],
      "text/markdown": [
       "\n",
       "| <!--/--> | Value.in.Euro. | Wage.in.Euro. | IntPrestige | DomesticPrestige | LeagueId | League | Club.Name |\n",
       "|---|---|---|---|---|---|---|---|\n",
       "| 1897 | 24000000                   | 58000                      | 9                          | 9                          | 53                         | Spain Primera Division (1) | AtlÃ©tico de Madrid        |\n",
       "| 1898 |  8500000                   | 51000                      | 9                          | 9                          | 53                         | Spain Primera Division (1) | AtlÃ©tico de Madrid        |\n",
       "| 1899 |  1500000                   |  8000                      | 9                          | 9                          | 53                         | Spain Primera Division (1) | AtlÃ©tico de Madrid        |\n",
       "| 1900 |  1400000                   |   950                      | 9                          | 9                          | 53                         | Spain Primera Division (1) | AtlÃ©tico de Madrid        |\n",
       "| 1901 | 42500000                   | 80000                      | 9                          | 9                          | 53                         | Spain Primera Division (1) | AtlÃ©tico de Madrid        |\n",
       "| 1902 | 21000000                   | 66000                      | 9                          | 9                          | 53                         | Spain Primera Division (1) | AtlÃ©tico de Madrid        |\n",
       "\n"
      ],
      "text/plain": [
       "     Value.in.Euro. Wage.in.Euro. IntPrestige DomesticPrestige LeagueId\n",
       "1897 24000000       58000         9           9                53      \n",
       "1898  8500000       51000         9           9                53      \n",
       "1899  1500000        8000         9           9                53      \n",
       "1900  1400000         950         9           9                53      \n",
       "1901 42500000       80000         9           9                53      \n",
       "1902 21000000       66000         9           9                53      \n",
       "     League                     Club.Name          \n",
       "1897 Spain Primera Division (1) AtlÃ©tico de Madrid\n",
       "1898 Spain Primera Division (1) AtlÃ©tico de Madrid\n",
       "1899 Spain Primera Division (1) AtlÃ©tico de Madrid\n",
       "1900 Spain Primera Division (1) AtlÃ©tico de Madrid\n",
       "1901 Spain Primera Division (1) AtlÃ©tico de Madrid\n",
       "1902 Spain Primera Division (1) AtlÃ©tico de Madrid"
      ]
     },
     "metadata": {},
     "output_type": "display_data"
    },
    {
     "data": {
      "text/html": [
       "<ol class=list-inline>\n",
       "\t<li>416</li>\n",
       "\t<li>7</li>\n",
       "</ol>\n"
      ],
      "text/latex": [
       "\\begin{enumerate*}\n",
       "\\item 416\n",
       "\\item 7\n",
       "\\end{enumerate*}\n"
      ],
      "text/markdown": [
       "1. 416\n",
       "2. 7\n",
       "\n",
       "\n"
      ],
      "text/plain": [
       "[1] 416   7"
      ]
     },
     "metadata": {},
     "output_type": "display_data"
    }
   ],
   "source": [
    "playerPrestige <- subset(playersTeamCombined, select=c(\"Value.in.Euro.\", \"Wage.in.Euro.\", \"IntPrestige\", \"DomesticPrestige\", \"LeagueId\", \"League\", \"Club.Name\"))\n",
    "# filter to only intPrestige == 6 and intPrestige == 10\n",
    "tier1And2Clubs <- playerPrestige[(playerPrestige$IntPrestige == 9) | (playerPrestige$IntPrestige == 10), ]\n",
    "head(tier1And2Clubs); dim(tier1And2Clubs)"
   ]
  },
  {
   "cell_type": "code",
   "execution_count": 6,
   "id": "dcce38df",
   "metadata": {},
   "outputs": [
    {
     "data": {
      "text/plain": [
       "   Min. 1st Qu.  Median    Mean 3rd Qu.    Max.    NA's \n",
       "  9.000   9.000   9.000   9.392  10.000  10.000     120 "
      ]
     },
     "metadata": {},
     "output_type": "display_data"
    }
   ],
   "source": [
    "summary(tier1And2Clubs$IntPrestige)"
   ]
  },
  {
   "cell_type": "code",
   "execution_count": 7,
   "id": "0db94518",
   "metadata": {},
   "outputs": [
    {
     "data": {
      "text/plain": [
       "\n",
       "\tF test to compare two variances\n",
       "\n",
       "data:  tier1And2Clubs$Value.in.Euro. by tier1And2Clubs$IntPrestige\n",
       "F = 0.66245, num df = 179, denom df = 115, p-value = 0.0134\n",
       "alternative hypothesis: true ratio of variances is not equal to 1\n",
       "95 percent confidence interval:\n",
       " 0.4721045 0.9182839\n",
       "sample estimates:\n",
       "ratio of variances \n",
       "          0.662453 \n"
      ]
     },
     "metadata": {},
     "output_type": "display_data"
    }
   ],
   "source": [
    "var.test(tier1And2Clubs$Value.in.Euro. ~ tier1And2Clubs$IntPrestige)"
   ]
  },
  {
   "cell_type": "code",
   "execution_count": 8,
   "id": "24d682fe",
   "metadata": {},
   "outputs": [
    {
     "data": {
      "text/plain": [
       "\n",
       "\tTwo Sample t-test\n",
       "\n",
       "data:  tier1And2Clubs$Value.in.Euro. by tier1And2Clubs$IntPrestige\n",
       "t = -4.0865, df = 294, p-value = 5.654e-05\n",
       "alternative hypothesis: true difference in means is not equal to 0\n",
       "95 percent confidence interval:\n",
       " -22460028  -7858621\n",
       "sample estimates:\n",
       " mean in group 9 mean in group 10 \n",
       "        21562917         36722241 \n"
      ]
     },
     "metadata": {},
     "output_type": "display_data"
    }
   ],
   "source": [
    "t.test(tier1And2Clubs$Value.in.Euro. ~ tier1And2Clubs$IntPrestige, var.equal=T)"
   ]
  },
  {
   "cell_type": "markdown",
   "id": "bab1a0db",
   "metadata": {},
   "source": [
    "Value and wage of a player depends on the prestige level of his club. From the results, a tier 1 club player are more valuable than that of a tier 2 club"
   ]
  },
  {
   "cell_type": "code",
   "execution_count": null,
   "id": "7947261f",
   "metadata": {},
   "outputs": [],
   "source": []
  }
 ],
 "metadata": {
  "kernelspec": {
   "display_name": "R",
   "language": "R",
   "name": "ir"
  },
  "language_info": {
   "codemirror_mode": "r",
   "file_extension": ".r",
   "mimetype": "text/x-r-source",
   "name": "R",
   "pygments_lexer": "r",
   "version": "3.6.1"
  }
 },
 "nbformat": 4,
 "nbformat_minor": 5
}
