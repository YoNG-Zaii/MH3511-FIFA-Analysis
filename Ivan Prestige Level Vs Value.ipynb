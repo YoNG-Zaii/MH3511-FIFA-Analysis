{
 "cells": [
  {
   "cell_type": "code",
   "execution_count": 2,
   "id": "a705d252",
   "metadata": {},
   "outputs": [],
   "source": [
    "players23 <- read.csv(\"./fifa23_players_data.csv\")\n",
    "teams23 <- read.csv(\"./fifa23_teams_data.csv\")"
   ]
  },
  {
   "cell_type": "code",
   "execution_count": 3,
   "id": "61692c4a",
   "metadata": {},
   "outputs": [
    {
     "data": {
      "text/html": [
       "<table>\n",
       "<thead><tr><th scope=col>Overall</th><th scope=col>Value.in.Euro.</th><th scope=col>Best.Position</th><th scope=col>Height.in.cm.</th><th scope=col>Weight.in.kg.</th><th scope=col>Club.Name</th><th scope=col>Club.Jersey.Number</th><th scope=col>Crossing</th><th scope=col>Preferred.Foot</th><th scope=col>Skill.Moves</th><th scope=col>Shot.Power</th><th scope=col>Long.Shots</th><th scope=col>Finishing</th></tr></thead>\n",
       "<tbody>\n",
       "\t<tr><td>91                 </td><td> 54000000          </td><td>CAM                </td><td>169                </td><td>67                 </td><td>Paris Saint-Germain</td><td>30                 </td><td>84                 </td><td>Left               </td><td>4                  </td><td>86                 </td><td>91                 </td><td>90                 </td></tr>\n",
       "\t<tr><td>91                 </td><td> 64000000          </td><td>CF                 </td><td>185                </td><td>81                 </td><td>Real Madrid CF     </td><td>9                  </td><td>75                 </td><td>Right              </td><td>4                  </td><td>87                 </td><td>80                 </td><td>92                 </td></tr>\n",
       "\t<tr><td>91                 </td><td> 84000000          </td><td>ST                 </td><td>185                </td><td>81                 </td><td>FC Barcelona       </td><td>9                  </td><td>71                 </td><td>Right              </td><td>4                  </td><td>91                 </td><td>84                 </td><td>94                 </td></tr>\n",
       "\t<tr><td>91                 </td><td>107500000          </td><td>CM                 </td><td>181                </td><td>70                 </td><td>Manchester City    </td><td>17                 </td><td>94                 </td><td>Right              </td><td>4                  </td><td>92                 </td><td>91                 </td><td>85                 </td></tr>\n",
       "\t<tr><td>91                 </td><td>190500000          </td><td>ST                 </td><td>182                </td><td>73                 </td><td>Paris Saint-Germain</td><td>7                  </td><td>78                 </td><td>Right              </td><td>5                  </td><td>88                 </td><td>82                 </td><td>93                 </td></tr>\n",
       "\t<tr><td>90                 </td><td>115500000          </td><td>RW                 </td><td>175                </td><td>71                 </td><td>Liverpool          </td><td>11                 </td><td>80                 </td><td>Left               </td><td>4                  </td><td>83                 </td><td>85                 </td><td>93                 </td></tr>\n",
       "</tbody>\n",
       "</table>\n"
      ],
      "text/latex": [
       "\\begin{tabular}{r|lllllllllllll}\n",
       " Overall & Value.in.Euro. & Best.Position & Height.in.cm. & Weight.in.kg. & Club.Name & Club.Jersey.Number & Crossing & Preferred.Foot & Skill.Moves & Shot.Power & Long.Shots & Finishing\\\\\n",
       "\\hline\n",
       "\t 91                  &  54000000           & CAM                 & 169                 & 67                  & Paris Saint-Germain & 30                  & 84                  & Left                & 4                   & 86                  & 91                  & 90                 \\\\\n",
       "\t 91                  &  64000000           & CF                  & 185                 & 81                  & Real Madrid CF      & 9                   & 75                  & Right               & 4                   & 87                  & 80                  & 92                 \\\\\n",
       "\t 91                  &  84000000           & ST                  & 185                 & 81                  & FC Barcelona        & 9                   & 71                  & Right               & 4                   & 91                  & 84                  & 94                 \\\\\n",
       "\t 91                  & 107500000           & CM                  & 181                 & 70                  & Manchester City     & 17                  & 94                  & Right               & 4                   & 92                  & 91                  & 85                 \\\\\n",
       "\t 91                  & 190500000           & ST                  & 182                 & 73                  & Paris Saint-Germain & 7                   & 78                  & Right               & 5                   & 88                  & 82                  & 93                 \\\\\n",
       "\t 90                  & 115500000           & RW                  & 175                 & 71                  & Liverpool           & 11                  & 80                  & Left                & 4                   & 83                  & 85                  & 93                 \\\\\n",
       "\\end{tabular}\n"
      ],
      "text/markdown": [
       "\n",
       "| Overall | Value.in.Euro. | Best.Position | Height.in.cm. | Weight.in.kg. | Club.Name | Club.Jersey.Number | Crossing | Preferred.Foot | Skill.Moves | Shot.Power | Long.Shots | Finishing |\n",
       "|---|---|---|---|---|---|---|---|---|---|---|---|---|\n",
       "| 91                  |  54000000           | CAM                 | 169                 | 67                  | Paris Saint-Germain | 30                  | 84                  | Left                | 4                   | 86                  | 91                  | 90                  |\n",
       "| 91                  |  64000000           | CF                  | 185                 | 81                  | Real Madrid CF      | 9                   | 75                  | Right               | 4                   | 87                  | 80                  | 92                  |\n",
       "| 91                  |  84000000           | ST                  | 185                 | 81                  | FC Barcelona        | 9                   | 71                  | Right               | 4                   | 91                  | 84                  | 94                  |\n",
       "| 91                  | 107500000           | CM                  | 181                 | 70                  | Manchester City     | 17                  | 94                  | Right               | 4                   | 92                  | 91                  | 85                  |\n",
       "| 91                  | 190500000           | ST                  | 182                 | 73                  | Paris Saint-Germain | 7                   | 78                  | Right               | 5                   | 88                  | 82                  | 93                  |\n",
       "| 90                  | 115500000           | RW                  | 175                 | 71                  | Liverpool           | 11                  | 80                  | Left                | 4                   | 83                  | 85                  | 93                  |\n",
       "\n"
      ],
      "text/plain": [
       "  Overall Value.in.Euro. Best.Position Height.in.cm. Weight.in.kg.\n",
       "1 91       54000000      CAM           169           67           \n",
       "2 91       64000000      CF            185           81           \n",
       "3 91       84000000      ST            185           81           \n",
       "4 91      107500000      CM            181           70           \n",
       "5 91      190500000      ST            182           73           \n",
       "6 90      115500000      RW            175           71           \n",
       "  Club.Name           Club.Jersey.Number Crossing Preferred.Foot Skill.Moves\n",
       "1 Paris Saint-Germain 30                 84       Left           4          \n",
       "2 Real Madrid CF      9                  75       Right          4          \n",
       "3 FC Barcelona        9                  71       Right          4          \n",
       "4 Manchester City     17                 94       Right          4          \n",
       "5 Paris Saint-Germain 7                  78       Right          5          \n",
       "6 Liverpool           11                 80       Left           4          \n",
       "  Shot.Power Long.Shots Finishing\n",
       "1 86         91         90       \n",
       "2 87         80         92       \n",
       "3 91         84         94       \n",
       "4 92         91         85       \n",
       "5 88         82         93       \n",
       "6 83         85         93       "
      ]
     },
     "metadata": {},
     "output_type": "display_data"
    },
    {
     "data": {
      "text/html": [
       "<ol class=list-inline>\n",
       "\t<li>18539</li>\n",
       "\t<li>13</li>\n",
       "</ol>\n"
      ],
      "text/latex": [
       "\\begin{enumerate*}\n",
       "\\item 18539\n",
       "\\item 13\n",
       "\\end{enumerate*}\n"
      ],
      "text/markdown": [
       "1. 18539\n",
       "2. 13\n",
       "\n",
       "\n"
      ],
      "text/plain": [
       "[1] 18539    13"
      ]
     },
     "metadata": {},
     "output_type": "display_data"
    }
   ],
   "source": [
    "relevantCols <- c(\"Overall\", \"Value.in.Euro.\", \"Best.Position\", \"Height.in.cm.\", \"Weight.in.kg.\", \n",
    "                 \"Club.Name\", \"Club.Jersey.Number\", \"Crossing\",\"Preferred.Foot\", \"Skill.Moves\",\n",
    "                 \"Shot.Power\", \"Long.Shots\", \"Finishing\")\n",
    "\n",
    "# assumed cleaned\n",
    "playersCleaned23 <- subset(players23, select=relevantCols)\n",
    "\n",
    "head(playersCleaned23); dim(playersCleaned23)"
   ]
  },
  {
   "cell_type": "code",
   "execution_count": 4,
   "id": "85393efc",
   "metadata": {},
   "outputs": [
    {
     "data": {
      "text/html": [
       "<table>\n",
       "<thead><tr><th scope=col>Name</th><th scope=col>IntPrestige</th></tr></thead>\n",
       "<tbody>\n",
       "\t<tr><td>AFC Bournemouth       </td><td>1                     </td></tr>\n",
       "\t<tr><td>AFC Richmond          </td><td>3                     </td></tr>\n",
       "\t<tr><td>Arsenal               </td><td>7                     </td></tr>\n",
       "\t<tr><td>Aston Villa           </td><td>3                     </td></tr>\n",
       "\t<tr><td>Brentford             </td><td>1                     </td></tr>\n",
       "\t<tr><td>Brighton &amp; Hove Albion</td><td>2                         </td></tr>\n",
       "</tbody>\n",
       "</table>\n"
      ],
      "text/latex": [
       "\\begin{tabular}{r|ll}\n",
       " Name & IntPrestige\\\\\n",
       "\\hline\n",
       "\t AFC Bournemouth        & 1                     \\\\\n",
       "\t AFC Richmond           & 3                     \\\\\n",
       "\t Arsenal                & 7                     \\\\\n",
       "\t Aston Villa            & 3                     \\\\\n",
       "\t Brentford              & 1                     \\\\\n",
       "\t Brighton \\& Hove Albion & 2                       \\\\\n",
       "\\end{tabular}\n"
      ],
      "text/markdown": [
       "\n",
       "| Name | IntPrestige |\n",
       "|---|---|\n",
       "| AFC Bournemouth        | 1                      |\n",
       "| AFC Richmond           | 3                      |\n",
       "| Arsenal                | 7                      |\n",
       "| Aston Villa            | 3                      |\n",
       "| Brentford              | 1                      |\n",
       "| Brighton & Hove Albion | 2                      |\n",
       "\n"
      ],
      "text/plain": [
       "  Name                   IntPrestige\n",
       "1 AFC Bournemouth        1          \n",
       "2 AFC Richmond           3          \n",
       "3 Arsenal                7          \n",
       "4 Aston Villa            3          \n",
       "5 Brentford              1          \n",
       "6 Brighton & Hove Albion 2          "
      ]
     },
     "metadata": {},
     "output_type": "display_data"
    }
   ],
   "source": [
    "teamsCleaned23 <- subset(teams23, select=c(\"Name\", \"IntPrestige\"))\n",
    "head(teamsCleaned23)"
   ]
  },
  {
   "cell_type": "code",
   "execution_count": 5,
   "id": "3f3e6fec",
   "metadata": {},
   "outputs": [
    {
     "data": {
      "text/html": [
       "<table>\n",
       "<thead><tr><th scope=col>Club.Name</th><th scope=col>Overall</th><th scope=col>Value.in.Euro.</th><th scope=col>Best.Position</th><th scope=col>Height.in.cm.</th><th scope=col>Weight.in.kg.</th><th scope=col>Club.Jersey.Number</th><th scope=col>Crossing</th><th scope=col>Preferred.Foot</th><th scope=col>Skill.Moves</th><th scope=col>Shot.Power</th><th scope=col>Long.Shots</th><th scope=col>Finishing</th><th scope=col>IntPrestige</th></tr></thead>\n",
       "<tbody>\n",
       "\t<tr><td>1. FC Heidenheim 1846</td><td>68                   </td><td>2400000              </td><td>RM                   </td><td>175                  </td><td>70                   </td><td>16                   </td><td>67                   </td><td>Right                </td><td>3                    </td><td>63                   </td><td>59                   </td><td>57                   </td><td>1                    </td></tr>\n",
       "\t<tr><td>1. FC Heidenheim 1846</td><td>67                   </td><td>2100000              </td><td>CB                   </td><td>186                  </td><td>80                   </td><td>27                   </td><td>42                   </td><td>Right                </td><td>2                    </td><td>61                   </td><td>40                   </td><td>37                   </td><td>1                    </td></tr>\n",
       "\t<tr><td>1. FC Heidenheim 1846</td><td>68                   </td><td>1000000              </td><td>CB                   </td><td>178                  </td><td>73                   </td><td>8                    </td><td>60                   </td><td>Right                </td><td>2                    </td><td>69                   </td><td>53                   </td><td>44                   </td><td>1                    </td></tr>\n",
       "\t<tr><td>1. FC Heidenheim 1846</td><td>71                   </td><td>1800000              </td><td>RB                   </td><td>182                  </td><td>80                   </td><td>2                    </td><td>69                   </td><td>Right                </td><td>2                    </td><td>75                   </td><td>54                   </td><td>40                   </td><td>1                    </td></tr>\n",
       "\t<tr><td>1. FC Heidenheim 1846</td><td>67                   </td><td>1900000              </td><td>CB                   </td><td>187                  </td><td>80                   </td><td>4                    </td><td>48                   </td><td>Left                 </td><td>2                    </td><td>45                   </td><td>41                   </td><td>25                   </td><td>1                    </td></tr>\n",
       "\t<tr><td>1. FC Heidenheim 1846</td><td>67                   </td><td>1100000              </td><td>LM                   </td><td>176                  </td><td>72                   </td><td>17                   </td><td>62                   </td><td>Right                </td><td>4                    </td><td>57                   </td><td>52                   </td><td>60                   </td><td>1                    </td></tr>\n",
       "</tbody>\n",
       "</table>\n"
      ],
      "text/latex": [
       "\\begin{tabular}{r|llllllllllllll}\n",
       " Club.Name & Overall & Value.in.Euro. & Best.Position & Height.in.cm. & Weight.in.kg. & Club.Jersey.Number & Crossing & Preferred.Foot & Skill.Moves & Shot.Power & Long.Shots & Finishing & IntPrestige\\\\\n",
       "\\hline\n",
       "\t 1. FC Heidenheim 1846 & 68                    & 2400000               & RM                    & 175                   & 70                    & 16                    & 67                    & Right                 & 3                     & 63                    & 59                    & 57                    & 1                    \\\\\n",
       "\t 1. FC Heidenheim 1846 & 67                    & 2100000               & CB                    & 186                   & 80                    & 27                    & 42                    & Right                 & 2                     & 61                    & 40                    & 37                    & 1                    \\\\\n",
       "\t 1. FC Heidenheim 1846 & 68                    & 1000000               & CB                    & 178                   & 73                    & 8                     & 60                    & Right                 & 2                     & 69                    & 53                    & 44                    & 1                    \\\\\n",
       "\t 1. FC Heidenheim 1846 & 71                    & 1800000               & RB                    & 182                   & 80                    & 2                     & 69                    & Right                 & 2                     & 75                    & 54                    & 40                    & 1                    \\\\\n",
       "\t 1. FC Heidenheim 1846 & 67                    & 1900000               & CB                    & 187                   & 80                    & 4                     & 48                    & Left                  & 2                     & 45                    & 41                    & 25                    & 1                    \\\\\n",
       "\t 1. FC Heidenheim 1846 & 67                    & 1100000               & LM                    & 176                   & 72                    & 17                    & 62                    & Right                 & 4                     & 57                    & 52                    & 60                    & 1                    \\\\\n",
       "\\end{tabular}\n"
      ],
      "text/markdown": [
       "\n",
       "| Club.Name | Overall | Value.in.Euro. | Best.Position | Height.in.cm. | Weight.in.kg. | Club.Jersey.Number | Crossing | Preferred.Foot | Skill.Moves | Shot.Power | Long.Shots | Finishing | IntPrestige |\n",
       "|---|---|---|---|---|---|---|---|---|---|---|---|---|---|\n",
       "| 1. FC Heidenheim 1846 | 68                    | 2400000               | RM                    | 175                   | 70                    | 16                    | 67                    | Right                 | 3                     | 63                    | 59                    | 57                    | 1                     |\n",
       "| 1. FC Heidenheim 1846 | 67                    | 2100000               | CB                    | 186                   | 80                    | 27                    | 42                    | Right                 | 2                     | 61                    | 40                    | 37                    | 1                     |\n",
       "| 1. FC Heidenheim 1846 | 68                    | 1000000               | CB                    | 178                   | 73                    | 8                     | 60                    | Right                 | 2                     | 69                    | 53                    | 44                    | 1                     |\n",
       "| 1. FC Heidenheim 1846 | 71                    | 1800000               | RB                    | 182                   | 80                    | 2                     | 69                    | Right                 | 2                     | 75                    | 54                    | 40                    | 1                     |\n",
       "| 1. FC Heidenheim 1846 | 67                    | 1900000               | CB                    | 187                   | 80                    | 4                     | 48                    | Left                  | 2                     | 45                    | 41                    | 25                    | 1                     |\n",
       "| 1. FC Heidenheim 1846 | 67                    | 1100000               | LM                    | 176                   | 72                    | 17                    | 62                    | Right                 | 4                     | 57                    | 52                    | 60                    | 1                     |\n",
       "\n"
      ],
      "text/plain": [
       "  Club.Name             Overall Value.in.Euro. Best.Position Height.in.cm.\n",
       "1 1. FC Heidenheim 1846 68      2400000        RM            175          \n",
       "2 1. FC Heidenheim 1846 67      2100000        CB            186          \n",
       "3 1. FC Heidenheim 1846 68      1000000        CB            178          \n",
       "4 1. FC Heidenheim 1846 71      1800000        RB            182          \n",
       "5 1. FC Heidenheim 1846 67      1900000        CB            187          \n",
       "6 1. FC Heidenheim 1846 67      1100000        LM            176          \n",
       "  Weight.in.kg. Club.Jersey.Number Crossing Preferred.Foot Skill.Moves\n",
       "1 70            16                 67       Right          3          \n",
       "2 80            27                 42       Right          2          \n",
       "3 73            8                  60       Right          2          \n",
       "4 80            2                  69       Right          2          \n",
       "5 80            4                  48       Left           2          \n",
       "6 72            17                 62       Right          4          \n",
       "  Shot.Power Long.Shots Finishing IntPrestige\n",
       "1 63         59         57        1          \n",
       "2 61         40         37        1          \n",
       "3 69         53         44        1          \n",
       "4 75         54         40        1          \n",
       "5 45         41         25        1          \n",
       "6 57         52         60        1          "
      ]
     },
     "metadata": {},
     "output_type": "display_data"
    },
    {
     "data": {
      "text/html": [
       "<ol class=list-inline>\n",
       "\t<li>18539</li>\n",
       "\t<li>14</li>\n",
       "</ol>\n"
      ],
      "text/latex": [
       "\\begin{enumerate*}\n",
       "\\item 18539\n",
       "\\item 14\n",
       "\\end{enumerate*}\n"
      ],
      "text/markdown": [
       "1. 18539\n",
       "2. 14\n",
       "\n",
       "\n"
      ],
      "text/plain": [
       "[1] 18539    14"
      ]
     },
     "metadata": {},
     "output_type": "display_data"
    }
   ],
   "source": [
    "playersTeamCombined <- merge(playersCleaned23, teamsCleaned23, by.x=\"Club.Name\", by.y=\"Name\", all.x = TRUE)\n",
    "head(playersTeamCombined); dim(playersTeamCombined)"
   ]
  },
  {
   "cell_type": "code",
   "execution_count": 8,
   "id": "9df8f8b1",
   "metadata": {},
   "outputs": [
    {
     "data": {
      "text/html": [
       "<table>\n",
       "<thead><tr><th scope=col>Overall</th><th scope=col>Value.in.Euro.</th><th scope=col>Best.Position</th><th scope=col>Height.in.cm.</th><th scope=col>Weight.in.kg.</th><th scope=col>Club.Jersey.Number</th><th scope=col>Crossing</th><th scope=col>Shot.Power</th><th scope=col>IntPrestige</th><th scope=col>Preferred.Foot</th><th scope=col>Skill.Moves</th><th scope=col>Long.Shots</th><th scope=col>Finishing</th></tr></thead>\n",
       "<tbody>\n",
       "\t<tr><td>68     </td><td>2400000</td><td>RM     </td><td>175    </td><td>70     </td><td>16     </td><td>67     </td><td>63     </td><td>1      </td><td>Right  </td><td>3      </td><td>59     </td><td>57     </td></tr>\n",
       "\t<tr><td>67     </td><td>2100000</td><td>CB     </td><td>186    </td><td>80     </td><td>27     </td><td>42     </td><td>61     </td><td>1      </td><td>Right  </td><td>2      </td><td>40     </td><td>37     </td></tr>\n",
       "\t<tr><td>68     </td><td>1000000</td><td>CB     </td><td>178    </td><td>73     </td><td>8      </td><td>60     </td><td>69     </td><td>1      </td><td>Right  </td><td>2      </td><td>53     </td><td>44     </td></tr>\n",
       "\t<tr><td>71     </td><td>1800000</td><td>RB     </td><td>182    </td><td>80     </td><td>2      </td><td>69     </td><td>75     </td><td>1      </td><td>Right  </td><td>2      </td><td>54     </td><td>40     </td></tr>\n",
       "\t<tr><td>67     </td><td>1900000</td><td>CB     </td><td>187    </td><td>80     </td><td>4      </td><td>48     </td><td>45     </td><td>1      </td><td>Left   </td><td>2      </td><td>41     </td><td>25     </td></tr>\n",
       "\t<tr><td>67     </td><td>1100000</td><td>LM     </td><td>176    </td><td>72     </td><td>17     </td><td>62     </td><td>57     </td><td>1      </td><td>Right  </td><td>4      </td><td>52     </td><td>60     </td></tr>\n",
       "</tbody>\n",
       "</table>\n"
      ],
      "text/latex": [
       "\\begin{tabular}{r|lllllllllllll}\n",
       " Overall & Value.in.Euro. & Best.Position & Height.in.cm. & Weight.in.kg. & Club.Jersey.Number & Crossing & Shot.Power & IntPrestige & Preferred.Foot & Skill.Moves & Long.Shots & Finishing\\\\\n",
       "\\hline\n",
       "\t 68      & 2400000 & RM      & 175     & 70      & 16      & 67      & 63      & 1       & Right   & 3       & 59      & 57     \\\\\n",
       "\t 67      & 2100000 & CB      & 186     & 80      & 27      & 42      & 61      & 1       & Right   & 2       & 40      & 37     \\\\\n",
       "\t 68      & 1000000 & CB      & 178     & 73      & 8       & 60      & 69      & 1       & Right   & 2       & 53      & 44     \\\\\n",
       "\t 71      & 1800000 & RB      & 182     & 80      & 2       & 69      & 75      & 1       & Right   & 2       & 54      & 40     \\\\\n",
       "\t 67      & 1900000 & CB      & 187     & 80      & 4       & 48      & 45      & 1       & Left    & 2       & 41      & 25     \\\\\n",
       "\t 67      & 1100000 & LM      & 176     & 72      & 17      & 62      & 57      & 1       & Right   & 4       & 52      & 60     \\\\\n",
       "\\end{tabular}\n"
      ],
      "text/markdown": [
       "\n",
       "| Overall | Value.in.Euro. | Best.Position | Height.in.cm. | Weight.in.kg. | Club.Jersey.Number | Crossing | Shot.Power | IntPrestige | Preferred.Foot | Skill.Moves | Long.Shots | Finishing |\n",
       "|---|---|---|---|---|---|---|---|---|---|---|---|---|\n",
       "| 68      | 2400000 | RM      | 175     | 70      | 16      | 67      | 63      | 1       | Right   | 3       | 59      | 57      |\n",
       "| 67      | 2100000 | CB      | 186     | 80      | 27      | 42      | 61      | 1       | Right   | 2       | 40      | 37      |\n",
       "| 68      | 1000000 | CB      | 178     | 73      | 8       | 60      | 69      | 1       | Right   | 2       | 53      | 44      |\n",
       "| 71      | 1800000 | RB      | 182     | 80      | 2       | 69      | 75      | 1       | Right   | 2       | 54      | 40      |\n",
       "| 67      | 1900000 | CB      | 187     | 80      | 4       | 48      | 45      | 1       | Left    | 2       | 41      | 25      |\n",
       "| 67      | 1100000 | LM      | 176     | 72      | 17      | 62      | 57      | 1       | Right   | 4       | 52      | 60      |\n",
       "\n"
      ],
      "text/plain": [
       "  Overall Value.in.Euro. Best.Position Height.in.cm. Weight.in.kg.\n",
       "1 68      2400000        RM            175           70           \n",
       "2 67      2100000        CB            186           80           \n",
       "3 68      1000000        CB            178           73           \n",
       "4 71      1800000        RB            182           80           \n",
       "5 67      1900000        CB            187           80           \n",
       "6 67      1100000        LM            176           72           \n",
       "  Club.Jersey.Number Crossing Shot.Power IntPrestige Preferred.Foot Skill.Moves\n",
       "1 16                 67       63         1           Right          3          \n",
       "2 27                 42       61         1           Right          2          \n",
       "3 8                  60       69         1           Right          2          \n",
       "4 2                  69       75         1           Right          2          \n",
       "5 4                  48       45         1           Left           2          \n",
       "6 17                 62       57         1           Right          4          \n",
       "  Long.Shots Finishing\n",
       "1 59         57       \n",
       "2 40         37       \n",
       "3 53         44       \n",
       "4 54         40       \n",
       "5 41         25       \n",
       "6 52         60       "
      ]
     },
     "metadata": {},
     "output_type": "display_data"
    },
    {
     "data": {
      "text/html": [
       "<ol class=list-inline>\n",
       "\t<li>18539</li>\n",
       "\t<li>13</li>\n",
       "</ol>\n"
      ],
      "text/latex": [
       "\\begin{enumerate*}\n",
       "\\item 18539\n",
       "\\item 13\n",
       "\\end{enumerate*}\n"
      ],
      "text/markdown": [
       "1. 18539\n",
       "2. 13\n",
       "\n",
       "\n"
      ],
      "text/plain": [
       "[1] 18539    13"
      ]
     },
     "metadata": {},
     "output_type": "display_data"
    },
    {
     "data": {
      "text/html": [
       "<table>\n",
       "<thead><tr><th scope=col>Overall</th><th scope=col>Value</th><th scope=col>BestPosition</th><th scope=col>Height</th><th scope=col>Weight</th><th scope=col>JerseyNumber</th><th scope=col>Crossing</th><th scope=col>ShotPower</th><th scope=col>IntPrestige</th><th scope=col>PreferredFoot</th><th scope=col>SkillMoves</th><th scope=col>Long.Shots</th><th scope=col>Finishing</th></tr></thead>\n",
       "<tbody>\n",
       "\t<tr><td>68     </td><td>2400000</td><td>RM     </td><td>175    </td><td>70     </td><td>16     </td><td>67     </td><td>63     </td><td>1      </td><td>Right  </td><td>3      </td><td>59     </td><td>57     </td></tr>\n",
       "\t<tr><td>67     </td><td>2100000</td><td>CB     </td><td>186    </td><td>80     </td><td>27     </td><td>42     </td><td>61     </td><td>1      </td><td>Right  </td><td>2      </td><td>40     </td><td>37     </td></tr>\n",
       "\t<tr><td>68     </td><td>1000000</td><td>CB     </td><td>178    </td><td>73     </td><td>8      </td><td>60     </td><td>69     </td><td>1      </td><td>Right  </td><td>2      </td><td>53     </td><td>44     </td></tr>\n",
       "\t<tr><td>71     </td><td>1800000</td><td>RB     </td><td>182    </td><td>80     </td><td>2      </td><td>69     </td><td>75     </td><td>1      </td><td>Right  </td><td>2      </td><td>54     </td><td>40     </td></tr>\n",
       "\t<tr><td>67     </td><td>1900000</td><td>CB     </td><td>187    </td><td>80     </td><td>4      </td><td>48     </td><td>45     </td><td>1      </td><td>Left   </td><td>2      </td><td>41     </td><td>25     </td></tr>\n",
       "\t<tr><td>67     </td><td>1100000</td><td>LM     </td><td>176    </td><td>72     </td><td>17     </td><td>62     </td><td>57     </td><td>1      </td><td>Right  </td><td>4      </td><td>52     </td><td>60     </td></tr>\n",
       "</tbody>\n",
       "</table>\n"
      ],
      "text/latex": [
       "\\begin{tabular}{r|lllllllllllll}\n",
       " Overall & Value & BestPosition & Height & Weight & JerseyNumber & Crossing & ShotPower & IntPrestige & PreferredFoot & SkillMoves & Long.Shots & Finishing\\\\\n",
       "\\hline\n",
       "\t 68      & 2400000 & RM      & 175     & 70      & 16      & 67      & 63      & 1       & Right   & 3       & 59      & 57     \\\\\n",
       "\t 67      & 2100000 & CB      & 186     & 80      & 27      & 42      & 61      & 1       & Right   & 2       & 40      & 37     \\\\\n",
       "\t 68      & 1000000 & CB      & 178     & 73      & 8       & 60      & 69      & 1       & Right   & 2       & 53      & 44     \\\\\n",
       "\t 71      & 1800000 & RB      & 182     & 80      & 2       & 69      & 75      & 1       & Right   & 2       & 54      & 40     \\\\\n",
       "\t 67      & 1900000 & CB      & 187     & 80      & 4       & 48      & 45      & 1       & Left    & 2       & 41      & 25     \\\\\n",
       "\t 67      & 1100000 & LM      & 176     & 72      & 17      & 62      & 57      & 1       & Right   & 4       & 52      & 60     \\\\\n",
       "\\end{tabular}\n"
      ],
      "text/markdown": [
       "\n",
       "| Overall | Value | BestPosition | Height | Weight | JerseyNumber | Crossing | ShotPower | IntPrestige | PreferredFoot | SkillMoves | Long.Shots | Finishing |\n",
       "|---|---|---|---|---|---|---|---|---|---|---|---|---|\n",
       "| 68      | 2400000 | RM      | 175     | 70      | 16      | 67      | 63      | 1       | Right   | 3       | 59      | 57      |\n",
       "| 67      | 2100000 | CB      | 186     | 80      | 27      | 42      | 61      | 1       | Right   | 2       | 40      | 37      |\n",
       "| 68      | 1000000 | CB      | 178     | 73      | 8       | 60      | 69      | 1       | Right   | 2       | 53      | 44      |\n",
       "| 71      | 1800000 | RB      | 182     | 80      | 2       | 69      | 75      | 1       | Right   | 2       | 54      | 40      |\n",
       "| 67      | 1900000 | CB      | 187     | 80      | 4       | 48      | 45      | 1       | Left    | 2       | 41      | 25      |\n",
       "| 67      | 1100000 | LM      | 176     | 72      | 17      | 62      | 57      | 1       | Right   | 4       | 52      | 60      |\n",
       "\n"
      ],
      "text/plain": [
       "  Overall Value   BestPosition Height Weight JerseyNumber Crossing ShotPower\n",
       "1 68      2400000 RM           175    70     16           67       63       \n",
       "2 67      2100000 CB           186    80     27           42       61       \n",
       "3 68      1000000 CB           178    73     8            60       69       \n",
       "4 71      1800000 RB           182    80     2            69       75       \n",
       "5 67      1900000 CB           187    80     4            48       45       \n",
       "6 67      1100000 LM           176    72     17           62       57       \n",
       "  IntPrestige PreferredFoot SkillMoves Long.Shots Finishing\n",
       "1 1           Right         3          59         57       \n",
       "2 1           Right         2          40         37       \n",
       "3 1           Right         2          53         44       \n",
       "4 1           Right         2          54         40       \n",
       "5 1           Left          2          41         25       \n",
       "6 1           Right         4          52         60       "
      ]
     },
     "metadata": {},
     "output_type": "display_data"
    },
    {
     "data": {
      "text/html": [
       "<dl class=dl-horizontal>\n",
       "\t<dt>Overall</dt>\n",
       "\t\t<dd>0</dd>\n",
       "\t<dt>Value</dt>\n",
       "\t\t<dd>0</dd>\n",
       "\t<dt>BestPosition</dt>\n",
       "\t\t<dd>0</dd>\n",
       "\t<dt>Height</dt>\n",
       "\t\t<dd>0</dd>\n",
       "\t<dt>Weight</dt>\n",
       "\t\t<dd>0</dd>\n",
       "\t<dt>JerseyNumber</dt>\n",
       "\t\t<dd>0</dd>\n",
       "\t<dt>Crossing</dt>\n",
       "\t\t<dd>0</dd>\n",
       "\t<dt>ShotPower</dt>\n",
       "\t\t<dd>0</dd>\n",
       "\t<dt>IntPrestige</dt>\n",
       "\t\t<dd>120</dd>\n",
       "\t<dt>PreferredFoot</dt>\n",
       "\t\t<dd>0</dd>\n",
       "\t<dt>SkillMoves</dt>\n",
       "\t\t<dd>0</dd>\n",
       "\t<dt>Long.Shots</dt>\n",
       "\t\t<dd>0</dd>\n",
       "\t<dt>Finishing</dt>\n",
       "\t\t<dd>0</dd>\n",
       "</dl>\n"
      ],
      "text/latex": [
       "\\begin{description*}\n",
       "\\item[Overall] 0\n",
       "\\item[Value] 0\n",
       "\\item[BestPosition] 0\n",
       "\\item[Height] 0\n",
       "\\item[Weight] 0\n",
       "\\item[JerseyNumber] 0\n",
       "\\item[Crossing] 0\n",
       "\\item[ShotPower] 0\n",
       "\\item[IntPrestige] 120\n",
       "\\item[PreferredFoot] 0\n",
       "\\item[SkillMoves] 0\n",
       "\\item[Long.Shots] 0\n",
       "\\item[Finishing] 0\n",
       "\\end{description*}\n"
      ],
      "text/markdown": [
       "Overall\n",
       ":   0Value\n",
       ":   0BestPosition\n",
       ":   0Height\n",
       ":   0Weight\n",
       ":   0JerseyNumber\n",
       ":   0Crossing\n",
       ":   0ShotPower\n",
       ":   0IntPrestige\n",
       ":   120PreferredFoot\n",
       ":   0SkillMoves\n",
       ":   0Long.Shots\n",
       ":   0Finishing\n",
       ":   0\n",
       "\n"
      ],
      "text/plain": [
       "      Overall         Value  BestPosition        Height        Weight \n",
       "            0             0             0             0             0 \n",
       " JerseyNumber      Crossing     ShotPower   IntPrestige PreferredFoot \n",
       "            0             0             0           120             0 \n",
       "   SkillMoves    Long.Shots     Finishing \n",
       "            0             0             0 "
      ]
     },
     "metadata": {},
     "output_type": "display_data"
    },
    {
     "data": {
      "text/html": [
       "<dl class=dl-horizontal>\n",
       "\t<dt>Overall</dt>\n",
       "\t\t<dd>0</dd>\n",
       "\t<dt>Value</dt>\n",
       "\t\t<dd>0</dd>\n",
       "\t<dt>BestPosition</dt>\n",
       "\t\t<dd>0</dd>\n",
       "\t<dt>Height</dt>\n",
       "\t\t<dd>0</dd>\n",
       "\t<dt>Weight</dt>\n",
       "\t\t<dd>0</dd>\n",
       "\t<dt>JerseyNumber</dt>\n",
       "\t\t<dd>0</dd>\n",
       "\t<dt>Crossing</dt>\n",
       "\t\t<dd>0</dd>\n",
       "\t<dt>ShotPower</dt>\n",
       "\t\t<dd>0</dd>\n",
       "\t<dt>IntPrestige</dt>\n",
       "\t\t<dd>0</dd>\n",
       "\t<dt>PreferredFoot</dt>\n",
       "\t\t<dd>0</dd>\n",
       "\t<dt>SkillMoves</dt>\n",
       "\t\t<dd>0</dd>\n",
       "\t<dt>Long.Shots</dt>\n",
       "\t\t<dd>0</dd>\n",
       "\t<dt>Finishing</dt>\n",
       "\t\t<dd>0</dd>\n",
       "</dl>\n"
      ],
      "text/latex": [
       "\\begin{description*}\n",
       "\\item[Overall] 0\n",
       "\\item[Value] 0\n",
       "\\item[BestPosition] 0\n",
       "\\item[Height] 0\n",
       "\\item[Weight] 0\n",
       "\\item[JerseyNumber] 0\n",
       "\\item[Crossing] 0\n",
       "\\item[ShotPower] 0\n",
       "\\item[IntPrestige] 0\n",
       "\\item[PreferredFoot] 0\n",
       "\\item[SkillMoves] 0\n",
       "\\item[Long.Shots] 0\n",
       "\\item[Finishing] 0\n",
       "\\end{description*}\n"
      ],
      "text/markdown": [
       "Overall\n",
       ":   0Value\n",
       ":   0BestPosition\n",
       ":   0Height\n",
       ":   0Weight\n",
       ":   0JerseyNumber\n",
       ":   0Crossing\n",
       ":   0ShotPower\n",
       ":   0IntPrestige\n",
       ":   0PreferredFoot\n",
       ":   0SkillMoves\n",
       ":   0Long.Shots\n",
       ":   0Finishing\n",
       ":   0\n",
       "\n"
      ],
      "text/plain": [
       "      Overall         Value  BestPosition        Height        Weight \n",
       "            0             0             0             0             0 \n",
       " JerseyNumber      Crossing     ShotPower   IntPrestige PreferredFoot \n",
       "            0             0             0             0             0 \n",
       "   SkillMoves    Long.Shots     Finishing \n",
       "            0             0             0 "
      ]
     },
     "metadata": {},
     "output_type": "display_data"
    },
    {
     "data": {
      "text/plain": [
       "    Overall          Value            BestPosition      Height     \n",
       " Min.   :47.00   Min.   :     9000   CB     :3632   Min.   :155.0  \n",
       " 1st Qu.:62.00   1st Qu.:   500000   ST     :2548   1st Qu.:177.0  \n",
       " Median :66.00   Median :  1000000   CAM    :2300   Median :182.0  \n",
       " Mean   :65.83   Mean   :  2894661   GK     :2039   Mean   :181.5  \n",
       " 3rd Qu.:70.00   3rd Qu.:  2000000   RM     :1434   3rd Qu.:186.0  \n",
       " Max.   :91.00   Max.   :190500000   CDM    :1395   Max.   :206.0  \n",
       "                                     (Other):5059                  \n",
       "     Weight        JerseyNumber      Crossing       ShotPower    \n",
       " Min.   : 49.00   7      :  598   Min.   : 6.00   Min.   :18.00  \n",
       " 1st Qu.: 70.00   8      :  598   1st Qu.:39.00   1st Qu.:48.00  \n",
       " Median : 75.00   11     :  591   Median :54.00   Median :59.00  \n",
       " Mean   : 75.17   4      :  586   Mean   :49.48   Mean   :57.81  \n",
       " 3rd Qu.: 80.00   6      :  584   3rd Qu.:63.00   3rd Qu.:68.00  \n",
       " Max.   :105.00   10     :  578   Max.   :94.00   Max.   :94.00  \n",
       "                  (Other):14872                                  \n",
       "  IntPrestige     PreferredFoot   SkillMoves      Long.Shots      Finishing    \n",
       " Min.   : 1.000   Left : 4466   Min.   :1.000   Min.   : 4.00   Min.   : 3.00  \n",
       " 1st Qu.: 1.000   Right:13941   1st Qu.:2.000   1st Qu.:32.00   1st Qu.:31.00  \n",
       " Median : 1.000                 Median :2.000   Median :51.00   Median :50.00  \n",
       " Mean   : 2.483                 Mean   :2.366   Mean   :46.82   Mean   :46.25  \n",
       " 3rd Qu.: 4.000                 3rd Qu.:3.000   3rd Qu.:62.00   3rd Qu.:62.00  \n",
       " Max.   :10.000                 Max.   :5.000   Max.   :91.00   Max.   :94.00  \n",
       "                                                                               "
      ]
     },
     "metadata": {},
     "output_type": "display_data"
    },
    {
     "data": {
      "text/html": [
       "<ol class=list-inline>\n",
       "\t<li>18407</li>\n",
       "\t<li>13</li>\n",
       "</ol>\n"
      ],
      "text/latex": [
       "\\begin{enumerate*}\n",
       "\\item 18407\n",
       "\\item 13\n",
       "\\end{enumerate*}\n"
      ],
      "text/markdown": [
       "1. 18407\n",
       "2. 13\n",
       "\n",
       "\n"
      ],
      "text/plain": [
       "[1] 18407    13"
      ]
     },
     "metadata": {},
     "output_type": "display_data"
    }
   ],
   "source": [
    "# cleaning\n",
    "relevantCols <- c(\"Overall\", \"Value.in.Euro.\", \"Best.Position\", \"Height.in.cm.\", \"Weight.in.kg.\", \"Club.Jersey.Number\", \n",
    "                  \"Crossing\", \"Shot.Power\", \"IntPrestige\", \"Preferred.Foot\", \"Skill.Moves\", \"Long.Shots\", \"Finishing\" )\n",
    "playersTeamCleaned <- subset(playersTeamCombined, select=relevantCols)\n",
    "head(playersTeamCleaned); dim(playersTeamCleaned)\n",
    "# rename\n",
    "colnames(playersTeamCleaned) <- c(\"Overall\", \"Value\", \"BestPosition\", \"Height\", \"Weight\", \"JerseyNumber\", \n",
    "                  \"Crossing\", \"ShotPower\", \"IntPrestige\", \"PreferredFoot\", \"SkillMoves\",\"Long.Shots\", \"Finishing\" )\n",
    "head(playersTeamCleaned)\n",
    "colSums(is.na(playersTeamCleaned))\n",
    "# remove int prestige null\n",
    "playersTeamCleaned <- na.omit(playersTeamCleaned)\n",
    "colSums(is.na(playersTeamCleaned))\n",
    "# remove players with no value\n",
    "playersTeamCleaned <- playersTeamCleaned[playersTeamCleaned$Value != 0, ]\n",
    "summary(playersTeamCleaned)\n",
    "dim(playersTeamCleaned)"
   ]
  },
  {
   "cell_type": "code",
   "execution_count": 14,
   "id": "5ccaa38e",
   "metadata": {
    "scrolled": true
   },
   "outputs": [
    {
     "data": {
      "text/html": [
       "<table>\n",
       "<thead><tr><th></th><th scope=col>Overall</th><th scope=col>Value</th><th scope=col>BestPosition</th><th scope=col>Height</th><th scope=col>Weight</th><th scope=col>JerseyNumber</th><th scope=col>Crossing</th><th scope=col>ShotPower</th><th scope=col>IntPrestige</th><th scope=col>PreferredFoot</th><th scope=col>SkillMoves</th><th scope=col>Long.Shots</th><th scope=col>Finishing</th></tr></thead>\n",
       "<tbody>\n",
       "\t<tr><th scope=row>1</th><td>68     </td><td>2400000</td><td>RM     </td><td>175    </td><td>70     </td><td>16     </td><td>67     </td><td>63     </td><td>1      </td><td>Right  </td><td>3      </td><td>59     </td><td>57     </td></tr>\n",
       "\t<tr><th scope=row>2</th><td>67     </td><td>2100000</td><td>CB     </td><td>186    </td><td>80     </td><td>27     </td><td>42     </td><td>61     </td><td>1      </td><td>Right  </td><td>2      </td><td>40     </td><td>37     </td></tr>\n",
       "\t<tr><th scope=row>3</th><td>68     </td><td>1000000</td><td>CB     </td><td>178    </td><td>73     </td><td>8      </td><td>60     </td><td>69     </td><td>1      </td><td>Right  </td><td>2      </td><td>53     </td><td>44     </td></tr>\n",
       "\t<tr><th scope=row>4</th><td>71     </td><td>1800000</td><td>RB     </td><td>182    </td><td>80     </td><td>2      </td><td>69     </td><td>75     </td><td>1      </td><td>Right  </td><td>2      </td><td>54     </td><td>40     </td></tr>\n",
       "\t<tr><th scope=row>5</th><td>67     </td><td>1900000</td><td>CB     </td><td>187    </td><td>80     </td><td>4      </td><td>48     </td><td>45     </td><td>1      </td><td>Left   </td><td>2      </td><td>41     </td><td>25     </td></tr>\n",
       "\t<tr><th scope=row>6</th><td>67     </td><td>1100000</td><td>LM     </td><td>176    </td><td>72     </td><td>17     </td><td>62     </td><td>57     </td><td>1      </td><td>Right  </td><td>4      </td><td>52     </td><td>60     </td></tr>\n",
       "\t<tr><th scope=row>7</th><td>69     </td><td>1600000</td><td>LB     </td><td>184    </td><td>81     </td><td>19     </td><td>61     </td><td>61     </td><td>1      </td><td>Left   </td><td>2      </td><td>41     </td><td>29     </td></tr>\n",
       "\t<tr><th scope=row>8</th><td>67     </td><td>1000000</td><td>ST     </td><td>185    </td><td>87     </td><td>9      </td><td>37     </td><td>70     </td><td>1      </td><td>Right  </td><td>2      </td><td>59     </td><td>71     </td></tr>\n",
       "\t<tr><th scope=row>9</th><td>68     </td><td>2700000</td><td>LM     </td><td>176    </td><td>66     </td><td>37     </td><td>60     </td><td>63     </td><td>1      </td><td>Left   </td><td>3      </td><td>54     </td><td>61     </td></tr>\n",
       "\t<tr><th scope=row>10</th><td>66     </td><td> 450000</td><td>GK     </td><td>191    </td><td>85     </td><td>22     </td><td>12     </td><td>45     </td><td>1      </td><td>Left   </td><td>1      </td><td>14     </td><td>15     </td></tr>\n",
       "\t<tr><th scope=row>11</th><td>61     </td><td> 625000</td><td>CDM    </td><td>184    </td><td>79     </td><td>28     </td><td>56     </td><td>59     </td><td>1      </td><td>Right  </td><td>2      </td><td>44     </td><td>47     </td></tr>\n",
       "\t<tr><th scope=row>12</th><td>59     </td><td> 550000</td><td>RM     </td><td>171    </td><td>70     </td><td>25     </td><td>59     </td><td>56     </td><td>1      </td><td>Right  </td><td>2      </td><td>59     </td><td>60     </td></tr>\n",
       "\t<tr><th scope=row>13</th><td>71     </td><td>2100000</td><td>ST     </td><td>194    </td><td>85     </td><td>10     </td><td>50     </td><td>75     </td><td>1      </td><td>Left   </td><td>2      </td><td>68     </td><td>73     </td></tr>\n",
       "\t<tr><th scope=row>14</th><td>64     </td><td> 850000</td><td>CM     </td><td>185    </td><td>80     </td><td>21     </td><td>63     </td><td>66     </td><td>1      </td><td>Right  </td><td>2      </td><td>62     </td><td>62     </td></tr>\n",
       "\t<tr><th scope=row>15</th><td>68     </td><td>1900000</td><td>LWB    </td><td>180    </td><td>73     </td><td>20     </td><td>60     </td><td>58     </td><td>1      </td><td>Left   </td><td>3      </td><td>40     </td><td>45     </td></tr>\n",
       "\t<tr><th scope=row>16</th><td>65     </td><td>1000000</td><td>RB     </td><td>177    </td><td>77     </td><td>18     </td><td>68     </td><td>50     </td><td>1      </td><td>Right  </td><td>2      </td><td>41     </td><td>42     </td></tr>\n",
       "\t<tr><th scope=row>17</th><td>59     </td><td> 475000</td><td>CAM    </td><td>179    </td><td>72     </td><td>31     </td><td>57     </td><td>57     </td><td>1      </td><td>Right  </td><td>2      </td><td>54     </td><td>58     </td></tr>\n",
       "\t<tr><th scope=row>18</th><td>59     </td><td> 425000</td><td>GK     </td><td>186    </td><td>84     </td><td>34     </td><td>11     </td><td>45     </td><td>1      </td><td>Right  </td><td>1      </td><td> 9     </td><td> 8     </td></tr>\n",
       "\t<tr><th scope=row>19</th><td>59     </td><td> 500000</td><td>ST     </td><td>198    </td><td>95     </td><td>44     </td><td>33     </td><td>61     </td><td>1      </td><td>Right  </td><td>2      </td><td>56     </td><td>62     </td></tr>\n",
       "\t<tr><th scope=row>20</th><td>71     </td><td> 525000</td><td>CDM    </td><td>183    </td><td>80     </td><td>30     </td><td>66     </td><td>74     </td><td>1      </td><td>Left   </td><td>2      </td><td>63     </td><td>46     </td></tr>\n",
       "\t<tr><th scope=row>21</th><td>71     </td><td>1000000</td><td>GK     </td><td>190    </td><td>90     </td><td>1      </td><td>12     </td><td>48     </td><td>1      </td><td>Right  </td><td>1      </td><td>15     </td><td>13     </td></tr>\n",
       "\t<tr><th scope=row>22</th><td>69     </td><td>2900000</td><td>CDM    </td><td>190    </td><td>78     </td><td>3      </td><td>60     </td><td>66     </td><td>1      </td><td>Right  </td><td>2      </td><td>60     </td><td>57     </td></tr>\n",
       "\t<tr><th scope=row>23</th><td>68     </td><td>1600000</td><td>ST     </td><td>180    </td><td>79     </td><td>24     </td><td>58     </td><td>70     </td><td>1      </td><td>Right  </td><td>3      </td><td>68     </td><td>65     </td></tr>\n",
       "\t<tr><th scope=row>24</th><td>66     </td><td> 850000</td><td>CF     </td><td>186    </td><td>75     </td><td>11     </td><td>66     </td><td>68     </td><td>1      </td><td>Right  </td><td>2      </td><td>61     </td><td>65     </td></tr>\n",
       "\t<tr><th scope=row>25</th><td>65     </td><td>1300000</td><td>CB     </td><td>188    </td><td>89     </td><td>33     </td><td>48     </td><td>49     </td><td>1      </td><td>Right  </td><td>2      </td><td>45     </td><td>42     </td></tr>\n",
       "\t<tr><th scope=row>26</th><td>67     </td><td>1100000</td><td>RM     </td><td>181    </td><td>78     </td><td>15     </td><td>58     </td><td>62     </td><td>1      </td><td>Right  </td><td>3      </td><td>56     </td><td>59     </td></tr>\n",
       "\t<tr><th scope=row>27</th><td>72     </td><td>2400000</td><td>CB     </td><td>194    </td><td>86     </td><td>6      </td><td>39     </td><td>64     </td><td>1      </td><td>Right  </td><td>2      </td><td>37     </td><td>33     </td></tr>\n",
       "\t<tr><th scope=row>28</th><td>59     </td><td> 500000</td><td>LM     </td><td>175    </td><td>70     </td><td>26     </td><td>53     </td><td>54     </td><td>1      </td><td>Left   </td><td>2      </td><td>50     </td><td>50     </td></tr>\n",
       "\t<tr><th scope=row>29</th><td>68     </td><td>2300000</td><td>CB     </td><td>189    </td><td>78     </td><td>5      </td><td>38     </td><td>60     </td><td>3      </td><td>Right  </td><td>2      </td><td>25     </td><td>23     </td></tr>\n",
       "\t<tr><th scope=row>30</th><td>71     </td><td>1800000</td><td>LB     </td><td>191    </td><td>83     </td><td>3      </td><td>66     </td><td>49     </td><td>3      </td><td>Left   </td><td>2      </td><td>39     </td><td>30     </td></tr>\n",
       "\t<tr><th scope=row>...</th><td>...</td><td>...</td><td>...</td><td>...</td><td>...</td><td>...</td><td>...</td><td>...</td><td>...</td><td>...</td><td>...</td><td>...</td><td>...</td></tr>\n",
       "\t<tr><th scope=row>18510</th><td>64     </td><td> 500000</td><td>CDM    </td><td>181    </td><td>73     </td><td>14     </td><td>60     </td><td>68     </td><td>3      </td><td>Right  </td><td>3      </td><td>66     </td><td>40     </td></tr>\n",
       "\t<tr><th scope=row>18511</th><td>66     </td><td> 725000</td><td>CB     </td><td>188    </td><td>85     </td><td>2      </td><td>60     </td><td>48     </td><td>3      </td><td>Right  </td><td>2      </td><td>29     </td><td>35     </td></tr>\n",
       "\t<tr><th scope=row>18512</th><td>49     </td><td>  90000</td><td>CB     </td><td>182    </td><td>70     </td><td>25     </td><td>29     </td><td>32     </td><td>1      </td><td>Right  </td><td>2      </td><td>23     </td><td>19     </td></tr>\n",
       "\t<tr><th scope=row>18513</th><td>72     </td><td>2000000</td><td>ST     </td><td>186    </td><td>82     </td><td>11     </td><td>56     </td><td>74     </td><td>1      </td><td>Right  </td><td>3      </td><td>69     </td><td>71     </td></tr>\n",
       "\t<tr><th scope=row>18514</th><td>48     </td><td>  90000</td><td>CDM    </td><td>179    </td><td>70     </td><td>34     </td><td>38     </td><td>43     </td><td>1      </td><td>Right  </td><td>2      </td><td>32     </td><td>34     </td></tr>\n",
       "\t<tr><th scope=row>18515</th><td>75     </td><td>1800000</td><td>LM     </td><td>175    </td><td>68     </td><td>10     </td><td>66     </td><td>77     </td><td>1      </td><td>Left   </td><td>4      </td><td>78     </td><td>76     </td></tr>\n",
       "\t<tr><th scope=row>18516</th><td>59     </td><td> 250000</td><td>LB     </td><td>177    </td><td>70     </td><td>28     </td><td>48     </td><td>24     </td><td>1      </td><td>Left   </td><td>2      </td><td>25     </td><td>18     </td></tr>\n",
       "\t<tr><th scope=row>18517</th><td>61     </td><td> 275000</td><td>CDM    </td><td>192    </td><td>75     </td><td>29     </td><td>44     </td><td>62     </td><td>1      </td><td>Right  </td><td>2      </td><td>63     </td><td>54     </td></tr>\n",
       "\t<tr><th scope=row>18518</th><td>54     </td><td> 100000</td><td>ST     </td><td>183    </td><td>75     </td><td>19     </td><td>51     </td><td>53     </td><td>1      </td><td>Right  </td><td>2      </td><td>55     </td><td>54     </td></tr>\n",
       "\t<tr><th scope=row>18519</th><td>60     </td><td> 210000</td><td>GK     </td><td>188    </td><td>71     </td><td>33     </td><td>13     </td><td>40     </td><td>1      </td><td>Right  </td><td>1      </td><td> 7     </td><td> 9     </td></tr>\n",
       "\t<tr><th scope=row>18520</th><td>55     </td><td> 140000</td><td>CDM    </td><td>182    </td><td>70     </td><td>17     </td><td>41     </td><td>45     </td><td>1      </td><td>Right  </td><td>2      </td><td>26     </td><td>26     </td></tr>\n",
       "\t<tr><th scope=row>18521</th><td>61     </td><td> 400000</td><td>CAM    </td><td>172    </td><td>65     </td><td>6      </td><td>61     </td><td>66     </td><td>1      </td><td>Left   </td><td>2      </td><td>58     </td><td>54     </td></tr>\n",
       "\t<tr><th scope=row>18522</th><td>52     </td><td> 100000</td><td>LB     </td><td>179    </td><td>67     </td><td>20     </td><td>42     </td><td>28     </td><td>1      </td><td>Left   </td><td>2      </td><td>28     </td><td>20     </td></tr>\n",
       "\t<tr><th scope=row>18523</th><td>51     </td><td>  70000</td><td>GK     </td><td>189    </td><td>77     </td><td>24     </td><td>12     </td><td>39     </td><td>1      </td><td>Right  </td><td>1      </td><td>10     </td><td>13     </td></tr>\n",
       "\t<tr><th scope=row>18524</th><td>53     </td><td> 200000</td><td>RM     </td><td>175    </td><td>61     </td><td>18     </td><td>43     </td><td>45     </td><td>1      </td><td>Right  </td><td>2      </td><td>38     </td><td>33     </td></tr>\n",
       "\t<tr><th scope=row>18525</th><td>50     </td><td> 100000</td><td>ST     </td><td>173    </td><td>65     </td><td>21     </td><td>41     </td><td>62     </td><td>1      </td><td>Left   </td><td>2      </td><td>44     </td><td>56     </td></tr>\n",
       "\t<tr><th scope=row>18526</th><td>70     </td><td>1600000</td><td>CB     </td><td>188    </td><td>80     </td><td>36     </td><td>29     </td><td>53     </td><td>1      </td><td>Right  </td><td>2      </td><td>29     </td><td>34     </td></tr>\n",
       "\t<tr><th scope=row>18527</th><td>58     </td><td> 400000</td><td>RB     </td><td>174    </td><td>70     </td><td>26     </td><td>62     </td><td>24     </td><td>1      </td><td>Right  </td><td>2      </td><td>33     </td><td>23     </td></tr>\n",
       "\t<tr><th scope=row>18528</th><td>66     </td><td> 425000</td><td>GK     </td><td>196    </td><td>92     </td><td>1      </td><td>11     </td><td>47     </td><td>1      </td><td>Right  </td><td>1      </td><td>16     </td><td>16     </td></tr>\n",
       "\t<tr><th scope=row>18529</th><td>52     </td><td> 200000</td><td>CM     </td><td>185    </td><td>80     </td><td>27     </td><td>54     </td><td>42     </td><td>1      </td><td>Right  </td><td>2      </td><td>39     </td><td>37     </td></tr>\n",
       "\t<tr><th scope=row>18530</th><td>56     </td><td> 130000</td><td>CB     </td><td>187    </td><td>70     </td><td>3      </td><td>49     </td><td>30     </td><td>1      </td><td>Right  </td><td>2      </td><td>33     </td><td>32     </td></tr>\n",
       "\t<tr><th scope=row>18531</th><td>61     </td><td> 375000</td><td>ST     </td><td>191    </td><td>80     </td><td>7      </td><td>61     </td><td>68     </td><td>1      </td><td>Right  </td><td>3      </td><td>58     </td><td>68     </td></tr>\n",
       "\t<tr><th scope=row>18532</th><td>59     </td><td> 180000</td><td>ST     </td><td>179    </td><td>73     </td><td>9      </td><td>34     </td><td>61     </td><td>1      </td><td>Right  </td><td>3      </td><td>54     </td><td>57     </td></tr>\n",
       "\t<tr><th scope=row>18533</th><td>64     </td><td> 625000</td><td>LM     </td><td>175    </td><td>65     </td><td>22     </td><td>67     </td><td>64     </td><td>1      </td><td>Right  </td><td>2      </td><td>47     </td><td>58     </td></tr>\n",
       "\t<tr><th scope=row>18534</th><td>60     </td><td> 240000</td><td>CM     </td><td>183    </td><td>74     </td><td>31     </td><td>48     </td><td>49     </td><td>1      </td><td>Right  </td><td>2      </td><td>52     </td><td>48     </td></tr>\n",
       "\t<tr><th scope=row>18535</th><td>72     </td><td>1100000</td><td>ST     </td><td>188    </td><td>70     </td><td>30     </td><td>43     </td><td>76     </td><td>1      </td><td>Left   </td><td>2      </td><td>56     </td><td>76     </td></tr>\n",
       "\t<tr><th scope=row>18536</th><td>62     </td><td> 400000</td><td>CB     </td><td>185    </td><td>75     </td><td>2      </td><td>29     </td><td>35     </td><td>1      </td><td>Right  </td><td>2      </td><td>20     </td><td>25     </td></tr>\n",
       "\t<tr><th scope=row>18537</th><td>49     </td><td> 100000</td><td>CB     </td><td>185    </td><td>78     </td><td>5      </td><td>26     </td><td>35     </td><td>1      </td><td>Right  </td><td>2      </td><td>19     </td><td>25     </td></tr>\n",
       "\t<tr><th scope=row>18538</th><td>55     </td><td> 130000</td><td>CB     </td><td>183    </td><td>67     </td><td>4      </td><td>44     </td><td>37     </td><td>1      </td><td>Right  </td><td>2      </td><td>26     </td><td>27     </td></tr>\n",
       "\t<tr><th scope=row>18539</th><td>49     </td><td>  80000</td><td>ST     </td><td>184    </td><td>73     </td><td>13     </td><td>32     </td><td>46     </td><td>1      </td><td>Right  </td><td>2      </td><td>51     </td><td>50     </td></tr>\n",
       "</tbody>\n",
       "</table>\n"
      ],
      "text/latex": [
       "\\begin{tabular}{r|lllllllllllll}\n",
       "  & Overall & Value & BestPosition & Height & Weight & JerseyNumber & Crossing & ShotPower & IntPrestige & PreferredFoot & SkillMoves & Long.Shots & Finishing\\\\\n",
       "\\hline\n",
       "\t1 & 68      & 2400000 & RM      & 175     & 70      & 16      & 67      & 63      & 1       & Right   & 3       & 59      & 57     \\\\\n",
       "\t2 & 67      & 2100000 & CB      & 186     & 80      & 27      & 42      & 61      & 1       & Right   & 2       & 40      & 37     \\\\\n",
       "\t3 & 68      & 1000000 & CB      & 178     & 73      & 8       & 60      & 69      & 1       & Right   & 2       & 53      & 44     \\\\\n",
       "\t4 & 71      & 1800000 & RB      & 182     & 80      & 2       & 69      & 75      & 1       & Right   & 2       & 54      & 40     \\\\\n",
       "\t5 & 67      & 1900000 & CB      & 187     & 80      & 4       & 48      & 45      & 1       & Left    & 2       & 41      & 25     \\\\\n",
       "\t6 & 67      & 1100000 & LM      & 176     & 72      & 17      & 62      & 57      & 1       & Right   & 4       & 52      & 60     \\\\\n",
       "\t7 & 69      & 1600000 & LB      & 184     & 81      & 19      & 61      & 61      & 1       & Left    & 2       & 41      & 29     \\\\\n",
       "\t8 & 67      & 1000000 & ST      & 185     & 87      & 9       & 37      & 70      & 1       & Right   & 2       & 59      & 71     \\\\\n",
       "\t9 & 68      & 2700000 & LM      & 176     & 66      & 37      & 60      & 63      & 1       & Left    & 3       & 54      & 61     \\\\\n",
       "\t10 & 66      &  450000 & GK      & 191     & 85      & 22      & 12      & 45      & 1       & Left    & 1       & 14      & 15     \\\\\n",
       "\t11 & 61      &  625000 & CDM     & 184     & 79      & 28      & 56      & 59      & 1       & Right   & 2       & 44      & 47     \\\\\n",
       "\t12 & 59      &  550000 & RM      & 171     & 70      & 25      & 59      & 56      & 1       & Right   & 2       & 59      & 60     \\\\\n",
       "\t13 & 71      & 2100000 & ST      & 194     & 85      & 10      & 50      & 75      & 1       & Left    & 2       & 68      & 73     \\\\\n",
       "\t14 & 64      &  850000 & CM      & 185     & 80      & 21      & 63      & 66      & 1       & Right   & 2       & 62      & 62     \\\\\n",
       "\t15 & 68      & 1900000 & LWB     & 180     & 73      & 20      & 60      & 58      & 1       & Left    & 3       & 40      & 45     \\\\\n",
       "\t16 & 65      & 1000000 & RB      & 177     & 77      & 18      & 68      & 50      & 1       & Right   & 2       & 41      & 42     \\\\\n",
       "\t17 & 59      &  475000 & CAM     & 179     & 72      & 31      & 57      & 57      & 1       & Right   & 2       & 54      & 58     \\\\\n",
       "\t18 & 59      &  425000 & GK      & 186     & 84      & 34      & 11      & 45      & 1       & Right   & 1       &  9      &  8     \\\\\n",
       "\t19 & 59      &  500000 & ST      & 198     & 95      & 44      & 33      & 61      & 1       & Right   & 2       & 56      & 62     \\\\\n",
       "\t20 & 71      &  525000 & CDM     & 183     & 80      & 30      & 66      & 74      & 1       & Left    & 2       & 63      & 46     \\\\\n",
       "\t21 & 71      & 1000000 & GK      & 190     & 90      & 1       & 12      & 48      & 1       & Right   & 1       & 15      & 13     \\\\\n",
       "\t22 & 69      & 2900000 & CDM     & 190     & 78      & 3       & 60      & 66      & 1       & Right   & 2       & 60      & 57     \\\\\n",
       "\t23 & 68      & 1600000 & ST      & 180     & 79      & 24      & 58      & 70      & 1       & Right   & 3       & 68      & 65     \\\\\n",
       "\t24 & 66      &  850000 & CF      & 186     & 75      & 11      & 66      & 68      & 1       & Right   & 2       & 61      & 65     \\\\\n",
       "\t25 & 65      & 1300000 & CB      & 188     & 89      & 33      & 48      & 49      & 1       & Right   & 2       & 45      & 42     \\\\\n",
       "\t26 & 67      & 1100000 & RM      & 181     & 78      & 15      & 58      & 62      & 1       & Right   & 3       & 56      & 59     \\\\\n",
       "\t27 & 72      & 2400000 & CB      & 194     & 86      & 6       & 39      & 64      & 1       & Right   & 2       & 37      & 33     \\\\\n",
       "\t28 & 59      &  500000 & LM      & 175     & 70      & 26      & 53      & 54      & 1       & Left    & 2       & 50      & 50     \\\\\n",
       "\t29 & 68      & 2300000 & CB      & 189     & 78      & 5       & 38      & 60      & 3       & Right   & 2       & 25      & 23     \\\\\n",
       "\t30 & 71      & 1800000 & LB      & 191     & 83      & 3       & 66      & 49      & 3       & Left    & 2       & 39      & 30     \\\\\n",
       "\t... & ... & ... & ... & ... & ... & ... & ... & ... & ... & ... & ... & ... & ...\\\\\n",
       "\t18510 & 64      &  500000 & CDM     & 181     & 73      & 14      & 60      & 68      & 3       & Right   & 3       & 66      & 40     \\\\\n",
       "\t18511 & 66      &  725000 & CB      & 188     & 85      & 2       & 60      & 48      & 3       & Right   & 2       & 29      & 35     \\\\\n",
       "\t18512 & 49      &   90000 & CB      & 182     & 70      & 25      & 29      & 32      & 1       & Right   & 2       & 23      & 19     \\\\\n",
       "\t18513 & 72      & 2000000 & ST      & 186     & 82      & 11      & 56      & 74      & 1       & Right   & 3       & 69      & 71     \\\\\n",
       "\t18514 & 48      &   90000 & CDM     & 179     & 70      & 34      & 38      & 43      & 1       & Right   & 2       & 32      & 34     \\\\\n",
       "\t18515 & 75      & 1800000 & LM      & 175     & 68      & 10      & 66      & 77      & 1       & Left    & 4       & 78      & 76     \\\\\n",
       "\t18516 & 59      &  250000 & LB      & 177     & 70      & 28      & 48      & 24      & 1       & Left    & 2       & 25      & 18     \\\\\n",
       "\t18517 & 61      &  275000 & CDM     & 192     & 75      & 29      & 44      & 62      & 1       & Right   & 2       & 63      & 54     \\\\\n",
       "\t18518 & 54      &  100000 & ST      & 183     & 75      & 19      & 51      & 53      & 1       & Right   & 2       & 55      & 54     \\\\\n",
       "\t18519 & 60      &  210000 & GK      & 188     & 71      & 33      & 13      & 40      & 1       & Right   & 1       &  7      &  9     \\\\\n",
       "\t18520 & 55      &  140000 & CDM     & 182     & 70      & 17      & 41      & 45      & 1       & Right   & 2       & 26      & 26     \\\\\n",
       "\t18521 & 61      &  400000 & CAM     & 172     & 65      & 6       & 61      & 66      & 1       & Left    & 2       & 58      & 54     \\\\\n",
       "\t18522 & 52      &  100000 & LB      & 179     & 67      & 20      & 42      & 28      & 1       & Left    & 2       & 28      & 20     \\\\\n",
       "\t18523 & 51      &   70000 & GK      & 189     & 77      & 24      & 12      & 39      & 1       & Right   & 1       & 10      & 13     \\\\\n",
       "\t18524 & 53      &  200000 & RM      & 175     & 61      & 18      & 43      & 45      & 1       & Right   & 2       & 38      & 33     \\\\\n",
       "\t18525 & 50      &  100000 & ST      & 173     & 65      & 21      & 41      & 62      & 1       & Left    & 2       & 44      & 56     \\\\\n",
       "\t18526 & 70      & 1600000 & CB      & 188     & 80      & 36      & 29      & 53      & 1       & Right   & 2       & 29      & 34     \\\\\n",
       "\t18527 & 58      &  400000 & RB      & 174     & 70      & 26      & 62      & 24      & 1       & Right   & 2       & 33      & 23     \\\\\n",
       "\t18528 & 66      &  425000 & GK      & 196     & 92      & 1       & 11      & 47      & 1       & Right   & 1       & 16      & 16     \\\\\n",
       "\t18529 & 52      &  200000 & CM      & 185     & 80      & 27      & 54      & 42      & 1       & Right   & 2       & 39      & 37     \\\\\n",
       "\t18530 & 56      &  130000 & CB      & 187     & 70      & 3       & 49      & 30      & 1       & Right   & 2       & 33      & 32     \\\\\n",
       "\t18531 & 61      &  375000 & ST      & 191     & 80      & 7       & 61      & 68      & 1       & Right   & 3       & 58      & 68     \\\\\n",
       "\t18532 & 59      &  180000 & ST      & 179     & 73      & 9       & 34      & 61      & 1       & Right   & 3       & 54      & 57     \\\\\n",
       "\t18533 & 64      &  625000 & LM      & 175     & 65      & 22      & 67      & 64      & 1       & Right   & 2       & 47      & 58     \\\\\n",
       "\t18534 & 60      &  240000 & CM      & 183     & 74      & 31      & 48      & 49      & 1       & Right   & 2       & 52      & 48     \\\\\n",
       "\t18535 & 72      & 1100000 & ST      & 188     & 70      & 30      & 43      & 76      & 1       & Left    & 2       & 56      & 76     \\\\\n",
       "\t18536 & 62      &  400000 & CB      & 185     & 75      & 2       & 29      & 35      & 1       & Right   & 2       & 20      & 25     \\\\\n",
       "\t18537 & 49      &  100000 & CB      & 185     & 78      & 5       & 26      & 35      & 1       & Right   & 2       & 19      & 25     \\\\\n",
       "\t18538 & 55      &  130000 & CB      & 183     & 67      & 4       & 44      & 37      & 1       & Right   & 2       & 26      & 27     \\\\\n",
       "\t18539 & 49      &   80000 & ST      & 184     & 73      & 13      & 32      & 46      & 1       & Right   & 2       & 51      & 50     \\\\\n",
       "\\end{tabular}\n"
      ],
      "text/markdown": [
       "\n",
       "| <!--/--> | Overall | Value | BestPosition | Height | Weight | JerseyNumber | Crossing | ShotPower | IntPrestige | PreferredFoot | SkillMoves | Long.Shots | Finishing |\n",
       "|---|---|---|---|---|---|---|---|---|---|---|---|---|---|\n",
       "| 1 | 68      | 2400000 | RM      | 175     | 70      | 16      | 67      | 63      | 1       | Right   | 3       | 59      | 57      |\n",
       "| 2 | 67      | 2100000 | CB      | 186     | 80      | 27      | 42      | 61      | 1       | Right   | 2       | 40      | 37      |\n",
       "| 3 | 68      | 1000000 | CB      | 178     | 73      | 8       | 60      | 69      | 1       | Right   | 2       | 53      | 44      |\n",
       "| 4 | 71      | 1800000 | RB      | 182     | 80      | 2       | 69      | 75      | 1       | Right   | 2       | 54      | 40      |\n",
       "| 5 | 67      | 1900000 | CB      | 187     | 80      | 4       | 48      | 45      | 1       | Left    | 2       | 41      | 25      |\n",
       "| 6 | 67      | 1100000 | LM      | 176     | 72      | 17      | 62      | 57      | 1       | Right   | 4       | 52      | 60      |\n",
       "| 7 | 69      | 1600000 | LB      | 184     | 81      | 19      | 61      | 61      | 1       | Left    | 2       | 41      | 29      |\n",
       "| 8 | 67      | 1000000 | ST      | 185     | 87      | 9       | 37      | 70      | 1       | Right   | 2       | 59      | 71      |\n",
       "| 9 | 68      | 2700000 | LM      | 176     | 66      | 37      | 60      | 63      | 1       | Left    | 3       | 54      | 61      |\n",
       "| 10 | 66      |  450000 | GK      | 191     | 85      | 22      | 12      | 45      | 1       | Left    | 1       | 14      | 15      |\n",
       "| 11 | 61      |  625000 | CDM     | 184     | 79      | 28      | 56      | 59      | 1       | Right   | 2       | 44      | 47      |\n",
       "| 12 | 59      |  550000 | RM      | 171     | 70      | 25      | 59      | 56      | 1       | Right   | 2       | 59      | 60      |\n",
       "| 13 | 71      | 2100000 | ST      | 194     | 85      | 10      | 50      | 75      | 1       | Left    | 2       | 68      | 73      |\n",
       "| 14 | 64      |  850000 | CM      | 185     | 80      | 21      | 63      | 66      | 1       | Right   | 2       | 62      | 62      |\n",
       "| 15 | 68      | 1900000 | LWB     | 180     | 73      | 20      | 60      | 58      | 1       | Left    | 3       | 40      | 45      |\n",
       "| 16 | 65      | 1000000 | RB      | 177     | 77      | 18      | 68      | 50      | 1       | Right   | 2       | 41      | 42      |\n",
       "| 17 | 59      |  475000 | CAM     | 179     | 72      | 31      | 57      | 57      | 1       | Right   | 2       | 54      | 58      |\n",
       "| 18 | 59      |  425000 | GK      | 186     | 84      | 34      | 11      | 45      | 1       | Right   | 1       |  9      |  8      |\n",
       "| 19 | 59      |  500000 | ST      | 198     | 95      | 44      | 33      | 61      | 1       | Right   | 2       | 56      | 62      |\n",
       "| 20 | 71      |  525000 | CDM     | 183     | 80      | 30      | 66      | 74      | 1       | Left    | 2       | 63      | 46      |\n",
       "| 21 | 71      | 1000000 | GK      | 190     | 90      | 1       | 12      | 48      | 1       | Right   | 1       | 15      | 13      |\n",
       "| 22 | 69      | 2900000 | CDM     | 190     | 78      | 3       | 60      | 66      | 1       | Right   | 2       | 60      | 57      |\n",
       "| 23 | 68      | 1600000 | ST      | 180     | 79      | 24      | 58      | 70      | 1       | Right   | 3       | 68      | 65      |\n",
       "| 24 | 66      |  850000 | CF      | 186     | 75      | 11      | 66      | 68      | 1       | Right   | 2       | 61      | 65      |\n",
       "| 25 | 65      | 1300000 | CB      | 188     | 89      | 33      | 48      | 49      | 1       | Right   | 2       | 45      | 42      |\n",
       "| 26 | 67      | 1100000 | RM      | 181     | 78      | 15      | 58      | 62      | 1       | Right   | 3       | 56      | 59      |\n",
       "| 27 | 72      | 2400000 | CB      | 194     | 86      | 6       | 39      | 64      | 1       | Right   | 2       | 37      | 33      |\n",
       "| 28 | 59      |  500000 | LM      | 175     | 70      | 26      | 53      | 54      | 1       | Left    | 2       | 50      | 50      |\n",
       "| 29 | 68      | 2300000 | CB      | 189     | 78      | 5       | 38      | 60      | 3       | Right   | 2       | 25      | 23      |\n",
       "| 30 | 71      | 1800000 | LB      | 191     | 83      | 3       | 66      | 49      | 3       | Left    | 2       | 39      | 30      |\n",
       "| ... | ... | ... | ... | ... | ... | ... | ... | ... | ... | ... | ... | ... | ... |\n",
       "| 18510 | 64      |  500000 | CDM     | 181     | 73      | 14      | 60      | 68      | 3       | Right   | 3       | 66      | 40      |\n",
       "| 18511 | 66      |  725000 | CB      | 188     | 85      | 2       | 60      | 48      | 3       | Right   | 2       | 29      | 35      |\n",
       "| 18512 | 49      |   90000 | CB      | 182     | 70      | 25      | 29      | 32      | 1       | Right   | 2       | 23      | 19      |\n",
       "| 18513 | 72      | 2000000 | ST      | 186     | 82      | 11      | 56      | 74      | 1       | Right   | 3       | 69      | 71      |\n",
       "| 18514 | 48      |   90000 | CDM     | 179     | 70      | 34      | 38      | 43      | 1       | Right   | 2       | 32      | 34      |\n",
       "| 18515 | 75      | 1800000 | LM      | 175     | 68      | 10      | 66      | 77      | 1       | Left    | 4       | 78      | 76      |\n",
       "| 18516 | 59      |  250000 | LB      | 177     | 70      | 28      | 48      | 24      | 1       | Left    | 2       | 25      | 18      |\n",
       "| 18517 | 61      |  275000 | CDM     | 192     | 75      | 29      | 44      | 62      | 1       | Right   | 2       | 63      | 54      |\n",
       "| 18518 | 54      |  100000 | ST      | 183     | 75      | 19      | 51      | 53      | 1       | Right   | 2       | 55      | 54      |\n",
       "| 18519 | 60      |  210000 | GK      | 188     | 71      | 33      | 13      | 40      | 1       | Right   | 1       |  7      |  9      |\n",
       "| 18520 | 55      |  140000 | CDM     | 182     | 70      | 17      | 41      | 45      | 1       | Right   | 2       | 26      | 26      |\n",
       "| 18521 | 61      |  400000 | CAM     | 172     | 65      | 6       | 61      | 66      | 1       | Left    | 2       | 58      | 54      |\n",
       "| 18522 | 52      |  100000 | LB      | 179     | 67      | 20      | 42      | 28      | 1       | Left    | 2       | 28      | 20      |\n",
       "| 18523 | 51      |   70000 | GK      | 189     | 77      | 24      | 12      | 39      | 1       | Right   | 1       | 10      | 13      |\n",
       "| 18524 | 53      |  200000 | RM      | 175     | 61      | 18      | 43      | 45      | 1       | Right   | 2       | 38      | 33      |\n",
       "| 18525 | 50      |  100000 | ST      | 173     | 65      | 21      | 41      | 62      | 1       | Left    | 2       | 44      | 56      |\n",
       "| 18526 | 70      | 1600000 | CB      | 188     | 80      | 36      | 29      | 53      | 1       | Right   | 2       | 29      | 34      |\n",
       "| 18527 | 58      |  400000 | RB      | 174     | 70      | 26      | 62      | 24      | 1       | Right   | 2       | 33      | 23      |\n",
       "| 18528 | 66      |  425000 | GK      | 196     | 92      | 1       | 11      | 47      | 1       | Right   | 1       | 16      | 16      |\n",
       "| 18529 | 52      |  200000 | CM      | 185     | 80      | 27      | 54      | 42      | 1       | Right   | 2       | 39      | 37      |\n",
       "| 18530 | 56      |  130000 | CB      | 187     | 70      | 3       | 49      | 30      | 1       | Right   | 2       | 33      | 32      |\n",
       "| 18531 | 61      |  375000 | ST      | 191     | 80      | 7       | 61      | 68      | 1       | Right   | 3       | 58      | 68      |\n",
       "| 18532 | 59      |  180000 | ST      | 179     | 73      | 9       | 34      | 61      | 1       | Right   | 3       | 54      | 57      |\n",
       "| 18533 | 64      |  625000 | LM      | 175     | 65      | 22      | 67      | 64      | 1       | Right   | 2       | 47      | 58      |\n",
       "| 18534 | 60      |  240000 | CM      | 183     | 74      | 31      | 48      | 49      | 1       | Right   | 2       | 52      | 48      |\n",
       "| 18535 | 72      | 1100000 | ST      | 188     | 70      | 30      | 43      | 76      | 1       | Left    | 2       | 56      | 76      |\n",
       "| 18536 | 62      |  400000 | CB      | 185     | 75      | 2       | 29      | 35      | 1       | Right   | 2       | 20      | 25      |\n",
       "| 18537 | 49      |  100000 | CB      | 185     | 78      | 5       | 26      | 35      | 1       | Right   | 2       | 19      | 25      |\n",
       "| 18538 | 55      |  130000 | CB      | 183     | 67      | 4       | 44      | 37      | 1       | Right   | 2       | 26      | 27      |\n",
       "| 18539 | 49      |   80000 | ST      | 184     | 73      | 13      | 32      | 46      | 1       | Right   | 2       | 51      | 50      |\n",
       "\n"
      ],
      "text/plain": [
       "      Overall Value   BestPosition Height Weight JerseyNumber Crossing\n",
       "1     68      2400000 RM           175    70     16           67      \n",
       "2     67      2100000 CB           186    80     27           42      \n",
       "3     68      1000000 CB           178    73     8            60      \n",
       "4     71      1800000 RB           182    80     2            69      \n",
       "5     67      1900000 CB           187    80     4            48      \n",
       "6     67      1100000 LM           176    72     17           62      \n",
       "7     69      1600000 LB           184    81     19           61      \n",
       "8     67      1000000 ST           185    87     9            37      \n",
       "9     68      2700000 LM           176    66     37           60      \n",
       "10    66       450000 GK           191    85     22           12      \n",
       "11    61       625000 CDM          184    79     28           56      \n",
       "12    59       550000 RM           171    70     25           59      \n",
       "13    71      2100000 ST           194    85     10           50      \n",
       "14    64       850000 CM           185    80     21           63      \n",
       "15    68      1900000 LWB          180    73     20           60      \n",
       "16    65      1000000 RB           177    77     18           68      \n",
       "17    59       475000 CAM          179    72     31           57      \n",
       "18    59       425000 GK           186    84     34           11      \n",
       "19    59       500000 ST           198    95     44           33      \n",
       "20    71       525000 CDM          183    80     30           66      \n",
       "21    71      1000000 GK           190    90     1            12      \n",
       "22    69      2900000 CDM          190    78     3            60      \n",
       "23    68      1600000 ST           180    79     24           58      \n",
       "24    66       850000 CF           186    75     11           66      \n",
       "25    65      1300000 CB           188    89     33           48      \n",
       "26    67      1100000 RM           181    78     15           58      \n",
       "27    72      2400000 CB           194    86     6            39      \n",
       "28    59       500000 LM           175    70     26           53      \n",
       "29    68      2300000 CB           189    78     5            38      \n",
       "30    71      1800000 LB           191    83     3            66      \n",
       "...   ...     ...     ...          ...    ...    ...          ...     \n",
       "18510 64       500000 CDM          181    73     14           60      \n",
       "18511 66       725000 CB           188    85     2            60      \n",
       "18512 49        90000 CB           182    70     25           29      \n",
       "18513 72      2000000 ST           186    82     11           56      \n",
       "18514 48        90000 CDM          179    70     34           38      \n",
       "18515 75      1800000 LM           175    68     10           66      \n",
       "18516 59       250000 LB           177    70     28           48      \n",
       "18517 61       275000 CDM          192    75     29           44      \n",
       "18518 54       100000 ST           183    75     19           51      \n",
       "18519 60       210000 GK           188    71     33           13      \n",
       "18520 55       140000 CDM          182    70     17           41      \n",
       "18521 61       400000 CAM          172    65     6            61      \n",
       "18522 52       100000 LB           179    67     20           42      \n",
       "18523 51        70000 GK           189    77     24           12      \n",
       "18524 53       200000 RM           175    61     18           43      \n",
       "18525 50       100000 ST           173    65     21           41      \n",
       "18526 70      1600000 CB           188    80     36           29      \n",
       "18527 58       400000 RB           174    70     26           62      \n",
       "18528 66       425000 GK           196    92     1            11      \n",
       "18529 52       200000 CM           185    80     27           54      \n",
       "18530 56       130000 CB           187    70     3            49      \n",
       "18531 61       375000 ST           191    80     7            61      \n",
       "18532 59       180000 ST           179    73     9            34      \n",
       "18533 64       625000 LM           175    65     22           67      \n",
       "18534 60       240000 CM           183    74     31           48      \n",
       "18535 72      1100000 ST           188    70     30           43      \n",
       "18536 62       400000 CB           185    75     2            29      \n",
       "18537 49       100000 CB           185    78     5            26      \n",
       "18538 55       130000 CB           183    67     4            44      \n",
       "18539 49        80000 ST           184    73     13           32      \n",
       "      ShotPower IntPrestige PreferredFoot SkillMoves Long.Shots Finishing\n",
       "1     63        1           Right         3          59         57       \n",
       "2     61        1           Right         2          40         37       \n",
       "3     69        1           Right         2          53         44       \n",
       "4     75        1           Right         2          54         40       \n",
       "5     45        1           Left          2          41         25       \n",
       "6     57        1           Right         4          52         60       \n",
       "7     61        1           Left          2          41         29       \n",
       "8     70        1           Right         2          59         71       \n",
       "9     63        1           Left          3          54         61       \n",
       "10    45        1           Left          1          14         15       \n",
       "11    59        1           Right         2          44         47       \n",
       "12    56        1           Right         2          59         60       \n",
       "13    75        1           Left          2          68         73       \n",
       "14    66        1           Right         2          62         62       \n",
       "15    58        1           Left          3          40         45       \n",
       "16    50        1           Right         2          41         42       \n",
       "17    57        1           Right         2          54         58       \n",
       "18    45        1           Right         1           9          8       \n",
       "19    61        1           Right         2          56         62       \n",
       "20    74        1           Left          2          63         46       \n",
       "21    48        1           Right         1          15         13       \n",
       "22    66        1           Right         2          60         57       \n",
       "23    70        1           Right         3          68         65       \n",
       "24    68        1           Right         2          61         65       \n",
       "25    49        1           Right         2          45         42       \n",
       "26    62        1           Right         3          56         59       \n",
       "27    64        1           Right         2          37         33       \n",
       "28    54        1           Left          2          50         50       \n",
       "29    60        3           Right         2          25         23       \n",
       "30    49        3           Left          2          39         30       \n",
       "...   ...       ...         ...           ...        ...        ...      \n",
       "18510 68        3           Right         3          66         40       \n",
       "18511 48        3           Right         2          29         35       \n",
       "18512 32        1           Right         2          23         19       \n",
       "18513 74        1           Right         3          69         71       \n",
       "18514 43        1           Right         2          32         34       \n",
       "18515 77        1           Left          4          78         76       \n",
       "18516 24        1           Left          2          25         18       \n",
       "18517 62        1           Right         2          63         54       \n",
       "18518 53        1           Right         2          55         54       \n",
       "18519 40        1           Right         1           7          9       \n",
       "18520 45        1           Right         2          26         26       \n",
       "18521 66        1           Left          2          58         54       \n",
       "18522 28        1           Left          2          28         20       \n",
       "18523 39        1           Right         1          10         13       \n",
       "18524 45        1           Right         2          38         33       \n",
       "18525 62        1           Left          2          44         56       \n",
       "18526 53        1           Right         2          29         34       \n",
       "18527 24        1           Right         2          33         23       \n",
       "18528 47        1           Right         1          16         16       \n",
       "18529 42        1           Right         2          39         37       \n",
       "18530 30        1           Right         2          33         32       \n",
       "18531 68        1           Right         3          58         68       \n",
       "18532 61        1           Right         3          54         57       \n",
       "18533 64        1           Right         2          47         58       \n",
       "18534 49        1           Right         2          52         48       \n",
       "18535 76        1           Left          2          56         76       \n",
       "18536 35        1           Right         2          20         25       \n",
       "18537 35        1           Right         2          19         25       \n",
       "18538 37        1           Right         2          26         27       \n",
       "18539 46        1           Right         2          51         50       "
      ]
     },
     "metadata": {},
     "output_type": "display_data"
    }
   ],
   "source": [
    "playersTeamCleaned"
   ]
  },
  {
   "cell_type": "code",
   "execution_count": 15,
   "id": "3521e50d",
   "metadata": {},
   "outputs": [
    {
     "data": {
      "text/html": [
       "<table>\n",
       "<thead><tr><th></th><th scope=col>Value</th><th scope=col>IntPrestige</th></tr></thead>\n",
       "<tbody>\n",
       "\t<tr><th scope=row>1897</th><td>24000000</td><td>9       </td></tr>\n",
       "\t<tr><th scope=row>1898</th><td> 8500000</td><td>9       </td></tr>\n",
       "\t<tr><th scope=row>1899</th><td> 1500000</td><td>9       </td></tr>\n",
       "\t<tr><th scope=row>1900</th><td> 1400000</td><td>9       </td></tr>\n",
       "\t<tr><th scope=row>1901</th><td>42500000</td><td>9       </td></tr>\n",
       "\t<tr><th scope=row>1902</th><td>21000000</td><td>9       </td></tr>\n",
       "</tbody>\n",
       "</table>\n"
      ],
      "text/latex": [
       "\\begin{tabular}{r|ll}\n",
       "  & Value & IntPrestige\\\\\n",
       "\\hline\n",
       "\t1897 & 24000000 & 9       \\\\\n",
       "\t1898 &  8500000 & 9       \\\\\n",
       "\t1899 &  1500000 & 9       \\\\\n",
       "\t1900 &  1400000 & 9       \\\\\n",
       "\t1901 & 42500000 & 9       \\\\\n",
       "\t1902 & 21000000 & 9       \\\\\n",
       "\\end{tabular}\n"
      ],
      "text/markdown": [
       "\n",
       "| <!--/--> | Value | IntPrestige |\n",
       "|---|---|---|\n",
       "| 1897 | 24000000 | 9        |\n",
       "| 1898 |  8500000 | 9        |\n",
       "| 1899 |  1500000 | 9        |\n",
       "| 1900 |  1400000 | 9        |\n",
       "| 1901 | 42500000 | 9        |\n",
       "| 1902 | 21000000 | 9        |\n",
       "\n"
      ],
      "text/plain": [
       "     Value    IntPrestige\n",
       "1897 24000000 9          \n",
       "1898  8500000 9          \n",
       "1899  1500000 9          \n",
       "1900  1400000 9          \n",
       "1901 42500000 9          \n",
       "1902 21000000 9          "
      ]
     },
     "metadata": {},
     "output_type": "display_data"
    },
    {
     "data": {
      "text/html": [
       "<ol class=list-inline>\n",
       "\t<li>296</li>\n",
       "\t<li>2</li>\n",
       "</ol>\n"
      ],
      "text/latex": [
       "\\begin{enumerate*}\n",
       "\\item 296\n",
       "\\item 2\n",
       "\\end{enumerate*}\n"
      ],
      "text/markdown": [
       "1. 296\n",
       "2. 2\n",
       "\n",
       "\n"
      ],
      "text/plain": [
       "[1] 296   2"
      ]
     },
     "metadata": {},
     "output_type": "display_data"
    }
   ],
   "source": [
    "playerPrestige <- subset(playersTeamCleaned, select=c(\"Value\", \"IntPrestige\"))\n",
    "# filter to only intPrestige == 9 and intPrestige == 10\n",
    "tier1And2Clubs <- playerPrestige[(playerPrestige$IntPrestige == 9) | (playerPrestige$IntPrestige == 10), ]\n",
    "head(tier1And2Clubs); dim(tier1And2Clubs)"
   ]
  },
  {
   "cell_type": "code",
   "execution_count": 22,
   "id": "4018e3b2",
   "metadata": {},
   "outputs": [],
   "source": [
    "tier2Value <- playersTeamCleaned[playersTeamCleaned$IntPrestige == 9, \"Value\"]\n",
    "tier1Value <- playersTeamCleaned[playersTeamCleaned$IntPrestige == 10, \"Value\"]\n"
   ]
  },
  {
   "cell_type": "code",
   "execution_count": 23,
   "id": "0db94518",
   "metadata": {},
   "outputs": [
    {
     "data": {
      "text/plain": [
       "\n",
       "\tF test to compare two variances\n",
       "\n",
       "data:  tier2Value and tier1Value\n",
       "F = 0.66245, num df = 179, denom df = 115, p-value = 0.0134\n",
       "alternative hypothesis: true ratio of variances is not equal to 1\n",
       "95 percent confidence interval:\n",
       " 0.4721045 0.9182839\n",
       "sample estimates:\n",
       "ratio of variances \n",
       "          0.662453 \n"
      ]
     },
     "metadata": {},
     "output_type": "display_data"
    }
   ],
   "source": [
    "var.test(tier2Value, tier1Value)"
   ]
  },
  {
   "cell_type": "code",
   "execution_count": 24,
   "id": "24d682fe",
   "metadata": {},
   "outputs": [
    {
     "data": {
      "text/plain": [
       "\n",
       "\tWelch Two Sample t-test\n",
       "\n",
       "data:  tier2Value and tier1Value\n",
       "t = -3.9103, df = 209.61, p-value = 6.225e-05\n",
       "alternative hypothesis: true difference in means is less than 0\n",
       "95 percent confidence interval:\n",
       "     -Inf -8754281\n",
       "sample estimates:\n",
       "mean of x mean of y \n",
       " 21562917  36722241 \n"
      ]
     },
     "metadata": {},
     "output_type": "display_data"
    }
   ],
   "source": [
    "t.test(tier2Value, tier1Value, alt=\"less\", var.equal=F)"
   ]
  },
  {
   "cell_type": "markdown",
   "id": "bab1a0db",
   "metadata": {},
   "source": [
    "Value and wage of a player depends on the prestige level of his club. From the results, a tier 1 club player are more valuable than that of a tier 2 club"
   ]
  },
  {
   "cell_type": "code",
   "execution_count": null,
   "id": "7947261f",
   "metadata": {},
   "outputs": [],
   "source": []
  }
 ],
 "metadata": {
  "kernelspec": {
   "display_name": "R",
   "language": "R",
   "name": "ir"
  },
  "language_info": {
   "codemirror_mode": "r",
   "file_extension": ".r",
   "mimetype": "text/x-r-source",
   "name": "R",
   "pygments_lexer": "r",
   "version": "3.6.1"
  }
 },
 "nbformat": 4,
 "nbformat_minor": 5
}
