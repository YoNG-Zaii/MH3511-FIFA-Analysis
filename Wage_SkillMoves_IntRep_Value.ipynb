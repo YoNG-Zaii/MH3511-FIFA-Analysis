{
 "cells": [
  {
   "cell_type": "code",
   "execution_count": 1,
   "id": "a0d3aacf",
   "metadata": {},
   "outputs": [
    {
     "name": "stderr",
     "output_type": "stream",
     "text": [
      "Registered S3 methods overwritten by 'ggplot2':\n",
      "  method         from \n",
      "  [.quosures     rlang\n",
      "  c.quosures     rlang\n",
      "  print.quosures rlang\n",
      "\n",
      "Attaching package: 'dplyr'\n",
      "\n",
      "The following objects are masked from 'package:stats':\n",
      "\n",
      "    filter, lag\n",
      "\n",
      "The following objects are masked from 'package:base':\n",
      "\n",
      "    intersect, setdiff, setequal, union\n",
      "\n",
      "Registered S3 method overwritten by 'rvest':\n",
      "  method            from\n",
      "  read_xml.response xml2\n",
      "-- Attaching packages --------------------------------------- tidyverse 1.2.1 --\n",
      "v tibble  2.1.1     v purrr   0.3.2\n",
      "v tidyr   0.8.3     v stringr 1.4.0\n",
      "v readr   1.3.1     v forcats 0.4.0\n",
      "-- Conflicts ------------------------------------------ tidyverse_conflicts() --\n",
      "x dplyr::filter() masks stats::filter()\n",
      "x dplyr::lag()    masks stats::lag()\n"
     ]
    }
   ],
   "source": [
    "library(\"ggplot2\")\n",
    "library(\"dplyr\")\n",
    "library(\"repr\")\n",
    "library(\"reshape2\")\n",
    "library(\"stats\")\n",
    "library(\"tidyverse\")\n",
    "library(\"readr\")"
   ]
  },
  {
   "cell_type": "code",
   "execution_count": 2,
   "id": "a32447cf",
   "metadata": {},
   "outputs": [
    {
     "data": {
      "text/html": [
       "<table>\n",
       "<thead><tr><th scope=col>Known.As</th><th scope=col>Full.Name</th><th scope=col>Overall</th><th scope=col>Potential</th><th scope=col>Value.in.Euro.</th><th scope=col>Positions.Played</th><th scope=col>Best.Position</th><th scope=col>Nationality</th><th scope=col>Image.Link</th><th scope=col>Age</th><th scope=col>...</th><th scope=col>LM.Rating</th><th scope=col>CM.Rating</th><th scope=col>RM.Rating</th><th scope=col>LWB.Rating</th><th scope=col>CDM.Rating</th><th scope=col>RWB.Rating</th><th scope=col>LB.Rating</th><th scope=col>CB.Rating</th><th scope=col>RB.Rating</th><th scope=col>GK.Rating</th></tr></thead>\n",
       "<tbody>\n",
       "\t<tr><td>L. Messi                                        </td><td>Lionel Messi                                    </td><td>91                                              </td><td>91                                              </td><td> 54000000                                       </td><td>RW                                              </td><td>CAM                                             </td><td>Argentina                                       </td><td>https://cdn.sofifa.net/players/158/023/23_60.png</td><td>35                                              </td><td>...                                             </td><td>91                                              </td><td>88                                              </td><td>91                                              </td><td>67                                              </td><td>66                                              </td><td>67                                              </td><td>62                                              </td><td>53                                              </td><td>62                                              </td><td>22                                              </td></tr>\n",
       "\t<tr><td>K. Benzema                                      </td><td>Karim Benzema                                   </td><td>91                                              </td><td>91                                              </td><td> 64000000                                       </td><td>CF,ST                                           </td><td>CF                                              </td><td>France                                          </td><td>https://cdn.sofifa.net/players/165/153/23_60.png</td><td>34                                              </td><td>...                                             </td><td>89                                              </td><td>84                                              </td><td>89                                              </td><td>67                                              </td><td>67                                              </td><td>67                                              </td><td>63                                              </td><td>58                                              </td><td>63                                              </td><td>21                                              </td></tr>\n",
       "\t<tr><td>R. Lewandowski                                  </td><td>Robert Lewandowski                              </td><td>91                                              </td><td>91                                              </td><td> 84000000                                       </td><td>ST                                              </td><td>ST                                              </td><td>Poland                                          </td><td>https://cdn.sofifa.net/players/188/545/23_60.png</td><td>33                                              </td><td>...                                             </td><td>86                                              </td><td>83                                              </td><td>86                                              </td><td>67                                              </td><td>69                                              </td><td>67                                              </td><td>64                                              </td><td>63                                              </td><td>64                                              </td><td>22                                              </td></tr>\n",
       "\t<tr><td>K. De Bruyne                                    </td><td>Kevin De Bruyne                                 </td><td>91                                              </td><td>91                                              </td><td>107500000                                       </td><td>CM,CAM                                          </td><td>CM                                              </td><td>Belgium                                         </td><td>https://cdn.sofifa.net/players/192/985/23_60.png</td><td>31                                              </td><td>...                                             </td><td>91                                              </td><td>91                                              </td><td>91                                              </td><td>82                                              </td><td>82                                              </td><td>82                                              </td><td>78                                              </td><td>72                                              </td><td>78                                              </td><td>24                                              </td></tr>\n",
       "\t<tr><td>K. MbappÃ©                                      </td><td>Kylian MbappÃ©                                  </td><td>91                                              </td><td>95                                              </td><td>190500000                                       </td><td>ST,LW                                           </td><td>ST                                              </td><td>France                                          </td><td>https://cdn.sofifa.net/players/231/747/23_60.png</td><td>23                                              </td><td>...                                             </td><td>92                                              </td><td>84                                              </td><td>92                                              </td><td>70                                              </td><td>66                                              </td><td>70                                              </td><td>66                                              </td><td>57                                              </td><td>66                                              </td><td>21                                              </td></tr>\n",
       "\t<tr><td>M. Salah                                        </td><td>Mohamed Salah                                   </td><td>90                                              </td><td>90                                              </td><td>115500000                                       </td><td>RW                                              </td><td>RW                                              </td><td>Egypt                                           </td><td>https://cdn.sofifa.net/players/209/331/23_60.png</td><td>30                                              </td><td>...                                             </td><td>90                                              </td><td>85                                              </td><td>90                                              </td><td>74                                              </td><td>71                                              </td><td>74                                              </td><td>70                                              </td><td>61                                              </td><td>70                                              </td><td>25                                              </td></tr>\n",
       "</tbody>\n",
       "</table>\n"
      ],
      "text/latex": [
       "\\begin{tabular}{r|lllllllllllllllllllllllllllllllllllllllllllllllllllllllllllllllllllllllllllllllllllllllll}\n",
       " Known.As & Full.Name & Overall & Potential & Value.in.Euro. & Positions.Played & Best.Position & Nationality & Image.Link & Age & ... & LM.Rating & CM.Rating & RM.Rating & LWB.Rating & CDM.Rating & RWB.Rating & LB.Rating & CB.Rating & RB.Rating & GK.Rating\\\\\n",
       "\\hline\n",
       "\t L. Messi                                           & Lionel Messi                                       & 91                                                 & 91                                                 &  54000000                                          & RW                                                 & CAM                                                & Argentina                                          & https://cdn.sofifa.net/players/158/023/23\\_60.png & 35                                                 & ...                                                & 91                                                 & 88                                                 & 91                                                 & 67                                                 & 66                                                 & 67                                                 & 62                                                 & 53                                                 & 62                                                 & 22                                                \\\\\n",
       "\t K. Benzema                                         & Karim Benzema                                      & 91                                                 & 91                                                 &  64000000                                          & CF,ST                                              & CF                                                 & France                                             & https://cdn.sofifa.net/players/165/153/23\\_60.png & 34                                                 & ...                                                & 89                                                 & 84                                                 & 89                                                 & 67                                                 & 67                                                 & 67                                                 & 63                                                 & 58                                                 & 63                                                 & 21                                                \\\\\n",
       "\t R. Lewandowski                                     & Robert Lewandowski                                 & 91                                                 & 91                                                 &  84000000                                          & ST                                                 & ST                                                 & Poland                                             & https://cdn.sofifa.net/players/188/545/23\\_60.png & 33                                                 & ...                                                & 86                                                 & 83                                                 & 86                                                 & 67                                                 & 69                                                 & 67                                                 & 64                                                 & 63                                                 & 64                                                 & 22                                                \\\\\n",
       "\t K. De Bruyne                                       & Kevin De Bruyne                                    & 91                                                 & 91                                                 & 107500000                                          & CM,CAM                                             & CM                                                 & Belgium                                            & https://cdn.sofifa.net/players/192/985/23\\_60.png & 31                                                 & ...                                                & 91                                                 & 91                                                 & 91                                                 & 82                                                 & 82                                                 & 82                                                 & 78                                                 & 72                                                 & 78                                                 & 24                                                \\\\\n",
       "\t K. MbappÃ©                                         & Kylian MbappÃ©                                     & 91                                                 & 95                                                 & 190500000                                          & ST,LW                                              & ST                                                 & France                                             & https://cdn.sofifa.net/players/231/747/23\\_60.png & 23                                                 & ...                                                & 92                                                 & 84                                                 & 92                                                 & 70                                                 & 66                                                 & 70                                                 & 66                                                 & 57                                                 & 66                                                 & 21                                                \\\\\n",
       "\t M. Salah                                           & Mohamed Salah                                      & 90                                                 & 90                                                 & 115500000                                          & RW                                                 & RW                                                 & Egypt                                              & https://cdn.sofifa.net/players/209/331/23\\_60.png & 30                                                 & ...                                                & 90                                                 & 85                                                 & 90                                                 & 74                                                 & 71                                                 & 74                                                 & 70                                                 & 61                                                 & 70                                                 & 25                                                \\\\\n",
       "\\end{tabular}\n"
      ],
      "text/markdown": [
       "\n",
       "| Known.As | Full.Name | Overall | Potential | Value.in.Euro. | Positions.Played | Best.Position | Nationality | Image.Link | Age | ... | LM.Rating | CM.Rating | RM.Rating | LWB.Rating | CDM.Rating | RWB.Rating | LB.Rating | CB.Rating | RB.Rating | GK.Rating |\n",
       "|---|---|---|---|---|---|---|---|---|---|---|---|---|---|---|---|---|---|---|---|---|\n",
       "| L. Messi                                         | Lionel Messi                                     | 91                                               | 91                                               |  54000000                                        | RW                                               | CAM                                              | Argentina                                        | https://cdn.sofifa.net/players/158/023/23_60.png | 35                                               | ...                                              | 91                                               | 88                                               | 91                                               | 67                                               | 66                                               | 67                                               | 62                                               | 53                                               | 62                                               | 22                                               |\n",
       "| K. Benzema                                       | Karim Benzema                                    | 91                                               | 91                                               |  64000000                                        | CF,ST                                            | CF                                               | France                                           | https://cdn.sofifa.net/players/165/153/23_60.png | 34                                               | ...                                              | 89                                               | 84                                               | 89                                               | 67                                               | 67                                               | 67                                               | 63                                               | 58                                               | 63                                               | 21                                               |\n",
       "| R. Lewandowski                                   | Robert Lewandowski                               | 91                                               | 91                                               |  84000000                                        | ST                                               | ST                                               | Poland                                           | https://cdn.sofifa.net/players/188/545/23_60.png | 33                                               | ...                                              | 86                                               | 83                                               | 86                                               | 67                                               | 69                                               | 67                                               | 64                                               | 63                                               | 64                                               | 22                                               |\n",
       "| K. De Bruyne                                     | Kevin De Bruyne                                  | 91                                               | 91                                               | 107500000                                        | CM,CAM                                           | CM                                               | Belgium                                          | https://cdn.sofifa.net/players/192/985/23_60.png | 31                                               | ...                                              | 91                                               | 91                                               | 91                                               | 82                                               | 82                                               | 82                                               | 78                                               | 72                                               | 78                                               | 24                                               |\n",
       "| K. MbappÃ©                                       | Kylian MbappÃ©                                   | 91                                               | 95                                               | 190500000                                        | ST,LW                                            | ST                                               | France                                           | https://cdn.sofifa.net/players/231/747/23_60.png | 23                                               | ...                                              | 92                                               | 84                                               | 92                                               | 70                                               | 66                                               | 70                                               | 66                                               | 57                                               | 66                                               | 21                                               |\n",
       "| M. Salah                                         | Mohamed Salah                                    | 90                                               | 90                                               | 115500000                                        | RW                                               | RW                                               | Egypt                                            | https://cdn.sofifa.net/players/209/331/23_60.png | 30                                               | ...                                              | 90                                               | 85                                               | 90                                               | 74                                               | 71                                               | 74                                               | 70                                               | 61                                               | 70                                               | 25                                               |\n",
       "\n"
      ],
      "text/plain": [
       "  Known.As       Full.Name          Overall Potential Value.in.Euro.\n",
       "1 L. Messi       Lionel Messi       91      91         54000000     \n",
       "2 K. Benzema     Karim Benzema      91      91         64000000     \n",
       "3 R. Lewandowski Robert Lewandowski 91      91         84000000     \n",
       "4 K. De Bruyne   Kevin De Bruyne    91      91        107500000     \n",
       "5 K. MbappÃ©     Kylian MbappÃ©     91      95        190500000     \n",
       "6 M. Salah       Mohamed Salah      90      90        115500000     \n",
       "  Positions.Played Best.Position Nationality\n",
       "1 RW               CAM           Argentina  \n",
       "2 CF,ST            CF            France     \n",
       "3 ST               ST            Poland     \n",
       "4 CM,CAM           CM            Belgium    \n",
       "5 ST,LW            ST            France     \n",
       "6 RW               RW            Egypt      \n",
       "  Image.Link                                       Age ... LM.Rating CM.Rating\n",
       "1 https://cdn.sofifa.net/players/158/023/23_60.png 35  ... 91        88       \n",
       "2 https://cdn.sofifa.net/players/165/153/23_60.png 34  ... 89        84       \n",
       "3 https://cdn.sofifa.net/players/188/545/23_60.png 33  ... 86        83       \n",
       "4 https://cdn.sofifa.net/players/192/985/23_60.png 31  ... 91        91       \n",
       "5 https://cdn.sofifa.net/players/231/747/23_60.png 23  ... 92        84       \n",
       "6 https://cdn.sofifa.net/players/209/331/23_60.png 30  ... 90        85       \n",
       "  RM.Rating LWB.Rating CDM.Rating RWB.Rating LB.Rating CB.Rating RB.Rating\n",
       "1 91        67         66         67         62        53        62       \n",
       "2 89        67         67         67         63        58        63       \n",
       "3 86        67         69         67         64        63        64       \n",
       "4 91        82         82         82         78        72        78       \n",
       "5 92        70         66         70         66        57        66       \n",
       "6 90        74         71         74         70        61        70       \n",
       "  GK.Rating\n",
       "1 22       \n",
       "2 21       \n",
       "3 22       \n",
       "4 24       \n",
       "5 21       \n",
       "6 25       "
      ]
     },
     "metadata": {},
     "output_type": "display_data"
    }
   ],
   "source": [
    "players = read.csv(\"./fifa23_players_data.csv\")\n",
    "head(players)"
   ]
  },
  {
   "cell_type": "code",
   "execution_count": 3,
   "id": "3458040e",
   "metadata": {},
   "outputs": [
    {
     "data": {
      "text/html": [
       "<ol class=list-inline>\n",
       "\t<li>'Known.As'</li>\n",
       "\t<li>'Full.Name'</li>\n",
       "\t<li>'Overall'</li>\n",
       "\t<li>'Potential'</li>\n",
       "\t<li>'Value.in.Euro.'</li>\n",
       "\t<li>'Positions.Played'</li>\n",
       "\t<li>'Best.Position'</li>\n",
       "\t<li>'Nationality'</li>\n",
       "\t<li>'Image.Link'</li>\n",
       "\t<li>'Age'</li>\n",
       "\t<li>'Height.in.cm.'</li>\n",
       "\t<li>'Weight.in.kg.'</li>\n",
       "\t<li>'TotalStats'</li>\n",
       "\t<li>'BaseStats'</li>\n",
       "\t<li>'Club.Name'</li>\n",
       "\t<li>'Wage.in.Euro.'</li>\n",
       "\t<li>'Release.Clause'</li>\n",
       "\t<li>'Club.Position'</li>\n",
       "\t<li>'Contract.Until'</li>\n",
       "\t<li>'Club.Jersey.Number'</li>\n",
       "\t<li>'Joined.On'</li>\n",
       "\t<li>'On.Loan'</li>\n",
       "\t<li>'Preferred.Foot'</li>\n",
       "\t<li>'Weak.Foot.Rating'</li>\n",
       "\t<li>'Skill.Moves'</li>\n",
       "\t<li>'International.Reputation'</li>\n",
       "\t<li>'National.Team.Name'</li>\n",
       "\t<li>'National.Team.Image.Link'</li>\n",
       "\t<li>'National.Team.Position'</li>\n",
       "\t<li>'National.Team.Jersey.Number'</li>\n",
       "\t<li>'Attacking.Work.Rate'</li>\n",
       "\t<li>'Defensive.Work.Rate'</li>\n",
       "\t<li>'Pace.Total'</li>\n",
       "\t<li>'Shooting.Total'</li>\n",
       "\t<li>'Passing.Total'</li>\n",
       "\t<li>'Dribbling.Total'</li>\n",
       "\t<li>'Defending.Total'</li>\n",
       "\t<li>'Physicality.Total'</li>\n",
       "\t<li>'Crossing'</li>\n",
       "\t<li>'Finishing'</li>\n",
       "\t<li>'Heading.Accuracy'</li>\n",
       "\t<li>'Short.Passing'</li>\n",
       "\t<li>'Volleys'</li>\n",
       "\t<li>'Dribbling'</li>\n",
       "\t<li>'Curve'</li>\n",
       "\t<li>'Freekick.Accuracy'</li>\n",
       "\t<li>'LongPassing'</li>\n",
       "\t<li>'BallControl'</li>\n",
       "\t<li>'Acceleration'</li>\n",
       "\t<li>'Sprint.Speed'</li>\n",
       "\t<li>'Agility'</li>\n",
       "\t<li>'Reactions'</li>\n",
       "\t<li>'Balance'</li>\n",
       "\t<li>'Shot.Power'</li>\n",
       "\t<li>'Jumping'</li>\n",
       "\t<li>'Stamina'</li>\n",
       "\t<li>'Strength'</li>\n",
       "\t<li>'Long.Shots'</li>\n",
       "\t<li>'Aggression'</li>\n",
       "\t<li>'Interceptions'</li>\n",
       "\t<li>'Positioning'</li>\n",
       "\t<li>'Vision'</li>\n",
       "\t<li>'Penalties'</li>\n",
       "\t<li>'Composure'</li>\n",
       "\t<li>'Marking'</li>\n",
       "\t<li>'Standing.Tackle'</li>\n",
       "\t<li>'Sliding.Tackle'</li>\n",
       "\t<li>'Goalkeeper.Diving'</li>\n",
       "\t<li>'Goalkeeper.Handling'</li>\n",
       "\t<li>'GoalkeeperKicking'</li>\n",
       "\t<li>'Goalkeeper.Positioning'</li>\n",
       "\t<li>'Goalkeeper.Reflexes'</li>\n",
       "\t<li>'ST.Rating'</li>\n",
       "\t<li>'LW.Rating'</li>\n",
       "\t<li>'LF.Rating'</li>\n",
       "\t<li>'CF.Rating'</li>\n",
       "\t<li>'RF.Rating'</li>\n",
       "\t<li>'RW.Rating'</li>\n",
       "\t<li>'CAM.Rating'</li>\n",
       "\t<li>'LM.Rating'</li>\n",
       "\t<li>'CM.Rating'</li>\n",
       "\t<li>'RM.Rating'</li>\n",
       "\t<li>'LWB.Rating'</li>\n",
       "\t<li>'CDM.Rating'</li>\n",
       "\t<li>'RWB.Rating'</li>\n",
       "\t<li>'LB.Rating'</li>\n",
       "\t<li>'CB.Rating'</li>\n",
       "\t<li>'RB.Rating'</li>\n",
       "\t<li>'GK.Rating'</li>\n",
       "</ol>\n"
      ],
      "text/latex": [
       "\\begin{enumerate*}\n",
       "\\item 'Known.As'\n",
       "\\item 'Full.Name'\n",
       "\\item 'Overall'\n",
       "\\item 'Potential'\n",
       "\\item 'Value.in.Euro.'\n",
       "\\item 'Positions.Played'\n",
       "\\item 'Best.Position'\n",
       "\\item 'Nationality'\n",
       "\\item 'Image.Link'\n",
       "\\item 'Age'\n",
       "\\item 'Height.in.cm.'\n",
       "\\item 'Weight.in.kg.'\n",
       "\\item 'TotalStats'\n",
       "\\item 'BaseStats'\n",
       "\\item 'Club.Name'\n",
       "\\item 'Wage.in.Euro.'\n",
       "\\item 'Release.Clause'\n",
       "\\item 'Club.Position'\n",
       "\\item 'Contract.Until'\n",
       "\\item 'Club.Jersey.Number'\n",
       "\\item 'Joined.On'\n",
       "\\item 'On.Loan'\n",
       "\\item 'Preferred.Foot'\n",
       "\\item 'Weak.Foot.Rating'\n",
       "\\item 'Skill.Moves'\n",
       "\\item 'International.Reputation'\n",
       "\\item 'National.Team.Name'\n",
       "\\item 'National.Team.Image.Link'\n",
       "\\item 'National.Team.Position'\n",
       "\\item 'National.Team.Jersey.Number'\n",
       "\\item 'Attacking.Work.Rate'\n",
       "\\item 'Defensive.Work.Rate'\n",
       "\\item 'Pace.Total'\n",
       "\\item 'Shooting.Total'\n",
       "\\item 'Passing.Total'\n",
       "\\item 'Dribbling.Total'\n",
       "\\item 'Defending.Total'\n",
       "\\item 'Physicality.Total'\n",
       "\\item 'Crossing'\n",
       "\\item 'Finishing'\n",
       "\\item 'Heading.Accuracy'\n",
       "\\item 'Short.Passing'\n",
       "\\item 'Volleys'\n",
       "\\item 'Dribbling'\n",
       "\\item 'Curve'\n",
       "\\item 'Freekick.Accuracy'\n",
       "\\item 'LongPassing'\n",
       "\\item 'BallControl'\n",
       "\\item 'Acceleration'\n",
       "\\item 'Sprint.Speed'\n",
       "\\item 'Agility'\n",
       "\\item 'Reactions'\n",
       "\\item 'Balance'\n",
       "\\item 'Shot.Power'\n",
       "\\item 'Jumping'\n",
       "\\item 'Stamina'\n",
       "\\item 'Strength'\n",
       "\\item 'Long.Shots'\n",
       "\\item 'Aggression'\n",
       "\\item 'Interceptions'\n",
       "\\item 'Positioning'\n",
       "\\item 'Vision'\n",
       "\\item 'Penalties'\n",
       "\\item 'Composure'\n",
       "\\item 'Marking'\n",
       "\\item 'Standing.Tackle'\n",
       "\\item 'Sliding.Tackle'\n",
       "\\item 'Goalkeeper.Diving'\n",
       "\\item 'Goalkeeper.Handling'\n",
       "\\item 'GoalkeeperKicking'\n",
       "\\item 'Goalkeeper.Positioning'\n",
       "\\item 'Goalkeeper.Reflexes'\n",
       "\\item 'ST.Rating'\n",
       "\\item 'LW.Rating'\n",
       "\\item 'LF.Rating'\n",
       "\\item 'CF.Rating'\n",
       "\\item 'RF.Rating'\n",
       "\\item 'RW.Rating'\n",
       "\\item 'CAM.Rating'\n",
       "\\item 'LM.Rating'\n",
       "\\item 'CM.Rating'\n",
       "\\item 'RM.Rating'\n",
       "\\item 'LWB.Rating'\n",
       "\\item 'CDM.Rating'\n",
       "\\item 'RWB.Rating'\n",
       "\\item 'LB.Rating'\n",
       "\\item 'CB.Rating'\n",
       "\\item 'RB.Rating'\n",
       "\\item 'GK.Rating'\n",
       "\\end{enumerate*}\n"
      ],
      "text/markdown": [
       "1. 'Known.As'\n",
       "2. 'Full.Name'\n",
       "3. 'Overall'\n",
       "4. 'Potential'\n",
       "5. 'Value.in.Euro.'\n",
       "6. 'Positions.Played'\n",
       "7. 'Best.Position'\n",
       "8. 'Nationality'\n",
       "9. 'Image.Link'\n",
       "10. 'Age'\n",
       "11. 'Height.in.cm.'\n",
       "12. 'Weight.in.kg.'\n",
       "13. 'TotalStats'\n",
       "14. 'BaseStats'\n",
       "15. 'Club.Name'\n",
       "16. 'Wage.in.Euro.'\n",
       "17. 'Release.Clause'\n",
       "18. 'Club.Position'\n",
       "19. 'Contract.Until'\n",
       "20. 'Club.Jersey.Number'\n",
       "21. 'Joined.On'\n",
       "22. 'On.Loan'\n",
       "23. 'Preferred.Foot'\n",
       "24. 'Weak.Foot.Rating'\n",
       "25. 'Skill.Moves'\n",
       "26. 'International.Reputation'\n",
       "27. 'National.Team.Name'\n",
       "28. 'National.Team.Image.Link'\n",
       "29. 'National.Team.Position'\n",
       "30. 'National.Team.Jersey.Number'\n",
       "31. 'Attacking.Work.Rate'\n",
       "32. 'Defensive.Work.Rate'\n",
       "33. 'Pace.Total'\n",
       "34. 'Shooting.Total'\n",
       "35. 'Passing.Total'\n",
       "36. 'Dribbling.Total'\n",
       "37. 'Defending.Total'\n",
       "38. 'Physicality.Total'\n",
       "39. 'Crossing'\n",
       "40. 'Finishing'\n",
       "41. 'Heading.Accuracy'\n",
       "42. 'Short.Passing'\n",
       "43. 'Volleys'\n",
       "44. 'Dribbling'\n",
       "45. 'Curve'\n",
       "46. 'Freekick.Accuracy'\n",
       "47. 'LongPassing'\n",
       "48. 'BallControl'\n",
       "49. 'Acceleration'\n",
       "50. 'Sprint.Speed'\n",
       "51. 'Agility'\n",
       "52. 'Reactions'\n",
       "53. 'Balance'\n",
       "54. 'Shot.Power'\n",
       "55. 'Jumping'\n",
       "56. 'Stamina'\n",
       "57. 'Strength'\n",
       "58. 'Long.Shots'\n",
       "59. 'Aggression'\n",
       "60. 'Interceptions'\n",
       "61. 'Positioning'\n",
       "62. 'Vision'\n",
       "63. 'Penalties'\n",
       "64. 'Composure'\n",
       "65. 'Marking'\n",
       "66. 'Standing.Tackle'\n",
       "67. 'Sliding.Tackle'\n",
       "68. 'Goalkeeper.Diving'\n",
       "69. 'Goalkeeper.Handling'\n",
       "70. 'GoalkeeperKicking'\n",
       "71. 'Goalkeeper.Positioning'\n",
       "72. 'Goalkeeper.Reflexes'\n",
       "73. 'ST.Rating'\n",
       "74. 'LW.Rating'\n",
       "75. 'LF.Rating'\n",
       "76. 'CF.Rating'\n",
       "77. 'RF.Rating'\n",
       "78. 'RW.Rating'\n",
       "79. 'CAM.Rating'\n",
       "80. 'LM.Rating'\n",
       "81. 'CM.Rating'\n",
       "82. 'RM.Rating'\n",
       "83. 'LWB.Rating'\n",
       "84. 'CDM.Rating'\n",
       "85. 'RWB.Rating'\n",
       "86. 'LB.Rating'\n",
       "87. 'CB.Rating'\n",
       "88. 'RB.Rating'\n",
       "89. 'GK.Rating'\n",
       "\n",
       "\n"
      ],
      "text/plain": [
       " [1] \"Known.As\"                    \"Full.Name\"                  \n",
       " [3] \"Overall\"                     \"Potential\"                  \n",
       " [5] \"Value.in.Euro.\"              \"Positions.Played\"           \n",
       " [7] \"Best.Position\"               \"Nationality\"                \n",
       " [9] \"Image.Link\"                  \"Age\"                        \n",
       "[11] \"Height.in.cm.\"               \"Weight.in.kg.\"              \n",
       "[13] \"TotalStats\"                  \"BaseStats\"                  \n",
       "[15] \"Club.Name\"                   \"Wage.in.Euro.\"              \n",
       "[17] \"Release.Clause\"              \"Club.Position\"              \n",
       "[19] \"Contract.Until\"              \"Club.Jersey.Number\"         \n",
       "[21] \"Joined.On\"                   \"On.Loan\"                    \n",
       "[23] \"Preferred.Foot\"              \"Weak.Foot.Rating\"           \n",
       "[25] \"Skill.Moves\"                 \"International.Reputation\"   \n",
       "[27] \"National.Team.Name\"          \"National.Team.Image.Link\"   \n",
       "[29] \"National.Team.Position\"      \"National.Team.Jersey.Number\"\n",
       "[31] \"Attacking.Work.Rate\"         \"Defensive.Work.Rate\"        \n",
       "[33] \"Pace.Total\"                  \"Shooting.Total\"             \n",
       "[35] \"Passing.Total\"               \"Dribbling.Total\"            \n",
       "[37] \"Defending.Total\"             \"Physicality.Total\"          \n",
       "[39] \"Crossing\"                    \"Finishing\"                  \n",
       "[41] \"Heading.Accuracy\"            \"Short.Passing\"              \n",
       "[43] \"Volleys\"                     \"Dribbling\"                  \n",
       "[45] \"Curve\"                       \"Freekick.Accuracy\"          \n",
       "[47] \"LongPassing\"                 \"BallControl\"                \n",
       "[49] \"Acceleration\"                \"Sprint.Speed\"               \n",
       "[51] \"Agility\"                     \"Reactions\"                  \n",
       "[53] \"Balance\"                     \"Shot.Power\"                 \n",
       "[55] \"Jumping\"                     \"Stamina\"                    \n",
       "[57] \"Strength\"                    \"Long.Shots\"                 \n",
       "[59] \"Aggression\"                  \"Interceptions\"              \n",
       "[61] \"Positioning\"                 \"Vision\"                     \n",
       "[63] \"Penalties\"                   \"Composure\"                  \n",
       "[65] \"Marking\"                     \"Standing.Tackle\"            \n",
       "[67] \"Sliding.Tackle\"              \"Goalkeeper.Diving\"          \n",
       "[69] \"Goalkeeper.Handling\"         \"GoalkeeperKicking\"          \n",
       "[71] \"Goalkeeper.Positioning\"      \"Goalkeeper.Reflexes\"        \n",
       "[73] \"ST.Rating\"                   \"LW.Rating\"                  \n",
       "[75] \"LF.Rating\"                   \"CF.Rating\"                  \n",
       "[77] \"RF.Rating\"                   \"RW.Rating\"                  \n",
       "[79] \"CAM.Rating\"                  \"LM.Rating\"                  \n",
       "[81] \"CM.Rating\"                   \"RM.Rating\"                  \n",
       "[83] \"LWB.Rating\"                  \"CDM.Rating\"                 \n",
       "[85] \"RWB.Rating\"                  \"LB.Rating\"                  \n",
       "[87] \"CB.Rating\"                   \"RB.Rating\"                  \n",
       "[89] \"GK.Rating\"                  "
      ]
     },
     "metadata": {},
     "output_type": "display_data"
    }
   ],
   "source": [
    "colnames(players)"
   ]
  },
  {
   "cell_type": "code",
   "execution_count": 4,
   "id": "8666bb81",
   "metadata": {},
   "outputs": [
    {
     "data": {
      "text/html": [
       "<table>\n",
       "<thead><tr><th scope=col>Wage.in.Euro.</th><th scope=col>Skill.Moves</th><th scope=col>International.Reputation</th><th scope=col>Value.in.Euro.</th></tr></thead>\n",
       "<tbody>\n",
       "\t<tr><td>195000   </td><td>4        </td><td>5        </td><td> 54000000</td></tr>\n",
       "\t<tr><td>450000   </td><td>4        </td><td>4        </td><td> 64000000</td></tr>\n",
       "\t<tr><td>420000   </td><td>4        </td><td>5        </td><td> 84000000</td></tr>\n",
       "\t<tr><td>350000   </td><td>4        </td><td>4        </td><td>107500000</td></tr>\n",
       "\t<tr><td>230000   </td><td>5        </td><td>4        </td><td>190500000</td></tr>\n",
       "\t<tr><td>270000   </td><td>4        </td><td>4        </td><td>115500000</td></tr>\n",
       "</tbody>\n",
       "</table>\n"
      ],
      "text/latex": [
       "\\begin{tabular}{r|llll}\n",
       " Wage.in.Euro. & Skill.Moves & International.Reputation & Value.in.Euro.\\\\\n",
       "\\hline\n",
       "\t 195000    & 4         & 5         &  54000000\\\\\n",
       "\t 450000    & 4         & 4         &  64000000\\\\\n",
       "\t 420000    & 4         & 5         &  84000000\\\\\n",
       "\t 350000    & 4         & 4         & 107500000\\\\\n",
       "\t 230000    & 5         & 4         & 190500000\\\\\n",
       "\t 270000    & 4         & 4         & 115500000\\\\\n",
       "\\end{tabular}\n"
      ],
      "text/markdown": [
       "\n",
       "| Wage.in.Euro. | Skill.Moves | International.Reputation | Value.in.Euro. |\n",
       "|---|---|---|---|\n",
       "| 195000    | 4         | 5         |  54000000 |\n",
       "| 450000    | 4         | 4         |  64000000 |\n",
       "| 420000    | 4         | 5         |  84000000 |\n",
       "| 350000    | 4         | 4         | 107500000 |\n",
       "| 230000    | 5         | 4         | 190500000 |\n",
       "| 270000    | 4         | 4         | 115500000 |\n",
       "\n"
      ],
      "text/plain": [
       "  Wage.in.Euro. Skill.Moves International.Reputation Value.in.Euro.\n",
       "1 195000        4           5                         54000000     \n",
       "2 450000        4           4                         64000000     \n",
       "3 420000        4           5                         84000000     \n",
       "4 350000        4           4                        107500000     \n",
       "5 230000        5           4                        190500000     \n",
       "6 270000        4           4                        115500000     "
      ]
     },
     "metadata": {},
     "output_type": "display_data"
    },
    {
     "data": {
      "text/html": [
       "<ol class=list-inline>\n",
       "\t<li>18539</li>\n",
       "\t<li>4</li>\n",
       "</ol>\n"
      ],
      "text/latex": [
       "\\begin{enumerate*}\n",
       "\\item 18539\n",
       "\\item 4\n",
       "\\end{enumerate*}\n"
      ],
      "text/markdown": [
       "1. 18539\n",
       "2. 4\n",
       "\n",
       "\n"
      ],
      "text/plain": [
       "[1] 18539     4"
      ]
     },
     "metadata": {},
     "output_type": "display_data"
    }
   ],
   "source": [
    "wageskill <- players[c('Wage.in.Euro.', 'Skill.Moves', 'International.Reputation', 'Value.in.Euro.')]\n",
    "head(wageskill)\n",
    "dim(wageskill)"
   ]
  },
  {
   "cell_type": "code",
   "execution_count": 5,
   "id": "d10edf53",
   "metadata": {},
   "outputs": [
    {
     "data": {
      "text/html": [
       "<table>\n",
       "<thead><tr><th scope=col>Wage</th><th scope=col>Skill.Moves</th><th scope=col>International.Reputation</th><th scope=col>Value</th></tr></thead>\n",
       "<tbody>\n",
       "\t<tr><td>195000   </td><td>4        </td><td>5        </td><td> 54000000</td></tr>\n",
       "\t<tr><td>450000   </td><td>4        </td><td>4        </td><td> 64000000</td></tr>\n",
       "\t<tr><td>420000   </td><td>4        </td><td>5        </td><td> 84000000</td></tr>\n",
       "\t<tr><td>350000   </td><td>4        </td><td>4        </td><td>107500000</td></tr>\n",
       "\t<tr><td>230000   </td><td>5        </td><td>4        </td><td>190500000</td></tr>\n",
       "\t<tr><td>270000   </td><td>4        </td><td>4        </td><td>115500000</td></tr>\n",
       "</tbody>\n",
       "</table>\n"
      ],
      "text/latex": [
       "\\begin{tabular}{r|llll}\n",
       " Wage & Skill.Moves & International.Reputation & Value\\\\\n",
       "\\hline\n",
       "\t 195000    & 4         & 5         &  54000000\\\\\n",
       "\t 450000    & 4         & 4         &  64000000\\\\\n",
       "\t 420000    & 4         & 5         &  84000000\\\\\n",
       "\t 350000    & 4         & 4         & 107500000\\\\\n",
       "\t 230000    & 5         & 4         & 190500000\\\\\n",
       "\t 270000    & 4         & 4         & 115500000\\\\\n",
       "\\end{tabular}\n"
      ],
      "text/markdown": [
       "\n",
       "| Wage | Skill.Moves | International.Reputation | Value |\n",
       "|---|---|---|---|\n",
       "| 195000    | 4         | 5         |  54000000 |\n",
       "| 450000    | 4         | 4         |  64000000 |\n",
       "| 420000    | 4         | 5         |  84000000 |\n",
       "| 350000    | 4         | 4         | 107500000 |\n",
       "| 230000    | 5         | 4         | 190500000 |\n",
       "| 270000    | 4         | 4         | 115500000 |\n",
       "\n"
      ],
      "text/plain": [
       "  Wage   Skill.Moves International.Reputation Value    \n",
       "1 195000 4           5                         54000000\n",
       "2 450000 4           4                         64000000\n",
       "3 420000 4           5                         84000000\n",
       "4 350000 4           4                        107500000\n",
       "5 230000 5           4                        190500000\n",
       "6 270000 4           4                        115500000"
      ]
     },
     "metadata": {},
     "output_type": "display_data"
    }
   ],
   "source": [
    "colnames(wageskill)[1] <- \"Wage\"\n",
    "colnames(wageskill)[4] <- \"Value\"\n",
    "head(wageskill)"
   ]
  },
  {
   "cell_type": "code",
   "execution_count": 6,
   "id": "6ff83324",
   "metadata": {},
   "outputs": [
    {
     "data": {
      "text/plain": [
       "      Wage         Skill.Moves    International.Reputation     Value          \n",
       " Min.   :     0   Min.   :1.000   Min.   :1.000            Min.   :        0  \n",
       " 1st Qu.:  1000   1st Qu.:2.000   1st Qu.:1.000            1st Qu.:   475000  \n",
       " Median :  3000   Median :2.000   Median :1.000            Median :  1000000  \n",
       " Mean   :  8824   Mean   :2.366   Mean   :1.086            Mean   :  2875461  \n",
       " 3rd Qu.:  8000   3rd Qu.:3.000   3rd Qu.:1.000            3rd Qu.:  2000000  \n",
       " Max.   :450000   Max.   :5.000   Max.   :5.000            Max.   :190500000  "
      ]
     },
     "metadata": {},
     "output_type": "display_data"
    }
   ],
   "source": [
    "summary(wageskill)"
   ]
  },
  {
   "cell_type": "code",
   "execution_count": null,
   "id": "1d75d93e",
   "metadata": {},
   "outputs": [],
   "source": []
  },
  {
   "cell_type": "code",
   "execution_count": 7,
   "id": "78a63812",
   "metadata": {},
   "outputs": [
    {
     "data": {
      "image/png": "[encoded data removed]",
      "text/plain": [
       "plot without title"
      ]
     },
     "metadata": {},
     "output_type": "display_data"
    },
    {
     "data": {
      "image/png": "[encoded data removed]",
      "text/plain": [
       "plot without title"
      ]
     },
     "metadata": {},
     "output_type": "display_data"
    }
   ],
   "source": [
    "options(repr.plot.width = 5, repr.plot.height = 5) \n",
    "#Create the histogram\n",
    "histogram <- ggplot(wageskill, aes(x = Wage)) + \n",
    "  geom_histogram(binwidth = 1, color = \"black\", fill = \"lightpink\") +\n",
    "  \n",
    "  # Add axis labels and adjust tick marks\n",
    "  labs(x = \"Wage\", y = \"Count\", title = \"Distribution of Wage\") +\n",
    "  scale_x_continuous(breaks = seq(0, 450000, by = 50000)) +\n",
    "  scale_y_continuous(breaks = seq(0, 3000, by = 500)) +\n",
    "\n",
    "  # Adjust the size of the plot and labels\n",
    "  theme(plot.title = element_text(size = 15, face = \"bold\", hjust = 0.5),\n",
    "        axis.title = element_text(size = 10),\n",
    "        axis.text = element_text(size = 10)) \n",
    "\n",
    "#Create the boxplot\n",
    "boxplot <- ggplot(wageskill, aes(x = \"\", y = Wage)) +\n",
    "  geom_boxplot(color = \"black\", fill = \"purple\") +\n",
    "\n",
    "  # Add axis labels and adjust tick marks\n",
    "  labs(x = \"\", y = \"Wage\", title = \"Boxplot of Wage\") +\n",
    "  scale_y_continuous(breaks = seq(0, 450000, by = 50000)) +\n",
    "\n",
    "  # Adjust the size of the plot and labels\n",
    "  theme(plot.title = element_text(size = 15, face = \"bold\", hjust = 0.5),\n",
    "        axis.title = element_text(size = 10),\n",
    "        axis.text = element_text(size = 10)) +\n",
    "  coord_flip() \n",
    "\n",
    "plot(histogram)\n",
    "plot(boxplot)"
   ]
  },
  {
   "cell_type": "markdown",
   "id": "43fd60d3",
   "metadata": {},
   "source": [
    "As we can see from the plot above, the distribution of Wage is very, very skewed. Thus, we have to perform log transformation to the data. "
   ]
  },
  {
   "cell_type": "code",
   "execution_count": 8,
   "id": "1a42296e",
   "metadata": {},
   "outputs": [
    {
     "data": {
      "text/html": [
       "<dl class=dl-horizontal>\n",
       "\t<dt>Wage</dt>\n",
       "\t\t<dd>92</dd>\n",
       "\t<dt>Skill.Moves</dt>\n",
       "\t\t<dd>0</dd>\n",
       "\t<dt>International.Reputation</dt>\n",
       "\t\t<dd>0</dd>\n",
       "\t<dt>Value</dt>\n",
       "\t\t<dd>104</dd>\n",
       "</dl>\n"
      ],
      "text/latex": [
       "\\begin{description*}\n",
       "\\item[Wage] 92\n",
       "\\item[Skill.Moves] 0\n",
       "\\item[International.Reputation] 0\n",
       "\\item[Value] 104\n",
       "\\end{description*}\n"
      ],
      "text/markdown": [
       "Wage\n",
       ":   92Skill.Moves\n",
       ":   0International.Reputation\n",
       ":   0Value\n",
       ":   104\n",
       "\n"
      ],
      "text/plain": [
       "                    Wage              Skill.Moves International.Reputation \n",
       "                      92                        0                        0 \n",
       "                   Value \n",
       "                     104 "
      ]
     },
     "metadata": {},
     "output_type": "display_data"
    },
    {
     "data": {
      "text/html": [
       "<dl class=dl-horizontal>\n",
       "\t<dt>Wage</dt>\n",
       "\t\t<dd>0</dd>\n",
       "\t<dt>Skill.Moves</dt>\n",
       "\t\t<dd>0</dd>\n",
       "\t<dt>International.Reputation</dt>\n",
       "\t\t<dd>0</dd>\n",
       "\t<dt>Value</dt>\n",
       "\t\t<dd>0</dd>\n",
       "</dl>\n"
      ],
      "text/latex": [
       "\\begin{description*}\n",
       "\\item[Wage] 0\n",
       "\\item[Skill.Moves] 0\n",
       "\\item[International.Reputation] 0\n",
       "\\item[Value] 0\n",
       "\\end{description*}\n"
      ],
      "text/markdown": [
       "Wage\n",
       ":   0Skill.Moves\n",
       ":   0International.Reputation\n",
       ":   0Value\n",
       ":   0\n",
       "\n"
      ],
      "text/plain": [
       "                    Wage              Skill.Moves International.Reputation \n",
       "                       0                        0                        0 \n",
       "                   Value \n",
       "                       0 "
      ]
     },
     "metadata": {},
     "output_type": "display_data"
    }
   ],
   "source": [
    "#Check for zero & null values\n",
    "colSums(wageskill==0)\n",
    "colSums(is.na(wageskill))"
   ]
  },
  {
   "cell_type": "markdown",
   "id": "33987d92",
   "metadata": {},
   "source": [
    "There are 92 zero values in Wage and 104 zero values in Value. Hence, we have to remove the zero values to perform log transformation."
   ]
  },
  {
   "cell_type": "code",
   "execution_count": 9,
   "id": "ff5ee450",
   "metadata": {},
   "outputs": [
    {
     "data": {
      "text/html": [
       "<ol class=list-inline>\n",
       "\t<li>18539</li>\n",
       "\t<li>4</li>\n",
       "</ol>\n"
      ],
      "text/latex": [
       "\\begin{enumerate*}\n",
       "\\item 18539\n",
       "\\item 4\n",
       "\\end{enumerate*}\n"
      ],
      "text/markdown": [
       "1. 18539\n",
       "2. 4\n",
       "\n",
       "\n"
      ],
      "text/plain": [
       "[1] 18539     4"
      ]
     },
     "metadata": {},
     "output_type": "display_data"
    },
    {
     "data": {
      "text/html": [
       "<ol class=list-inline>\n",
       "\t<li>18435</li>\n",
       "\t<li>4</li>\n",
       "</ol>\n"
      ],
      "text/latex": [
       "\\begin{enumerate*}\n",
       "\\item 18435\n",
       "\\item 4\n",
       "\\end{enumerate*}\n"
      ],
      "text/markdown": [
       "1. 18435\n",
       "2. 4\n",
       "\n",
       "\n"
      ],
      "text/plain": [
       "[1] 18435     4"
      ]
     },
     "metadata": {},
     "output_type": "display_data"
    },
    {
     "data": {
      "text/html": [
       "<dl class=dl-horizontal>\n",
       "\t<dt>Wage</dt>\n",
       "\t\t<dd>0</dd>\n",
       "\t<dt>Skill.Moves</dt>\n",
       "\t\t<dd>0</dd>\n",
       "\t<dt>International.Reputation</dt>\n",
       "\t\t<dd>0</dd>\n",
       "\t<dt>Value</dt>\n",
       "\t\t<dd>0</dd>\n",
       "</dl>\n"
      ],
      "text/latex": [
       "\\begin{description*}\n",
       "\\item[Wage] 0\n",
       "\\item[Skill.Moves] 0\n",
       "\\item[International.Reputation] 0\n",
       "\\item[Value] 0\n",
       "\\end{description*}\n"
      ],
      "text/markdown": [
       "Wage\n",
       ":   0Skill.Moves\n",
       ":   0International.Reputation\n",
       ":   0Value\n",
       ":   0\n",
       "\n"
      ],
      "text/plain": [
       "                    Wage              Skill.Moves International.Reputation \n",
       "                       0                        0                        0 \n",
       "                   Value \n",
       "                       0 "
      ]
     },
     "metadata": {},
     "output_type": "display_data"
    }
   ],
   "source": [
    "#Remove data with Value == 0\n",
    "zero_rm_wageskill <- wageskill[wageskill$Value != 0, ]\n",
    "dim(wageskill)\n",
    "dim(zero_rm_wageskill)\n",
    "colSums(zero_rm_wageskill==0)"
   ]
  },
  {
   "cell_type": "code",
   "execution_count": 10,
   "id": "5d27a6ad",
   "metadata": {},
   "outputs": [
    {
     "data": {
      "text/plain": [
       "   Min. 1st Qu.  Median    Mean 3rd Qu.    Max. \n",
       "  6.215   6.908   8.006   8.057   8.987  13.017 "
      ]
     },
     "metadata": {},
     "output_type": "display_data"
    }
   ],
   "source": [
    "#Log transformation of the Wage\n",
    "zero_rm_wageskill$Wage_log <- log(zero_rm_wageskill$Wage)\n",
    "summary(zero_rm_wageskill$Wage_log)"
   ]
  },
  {
   "cell_type": "code",
   "execution_count": 11,
   "id": "e7e97932",
   "metadata": {},
   "outputs": [
    {
     "data": {
      "text/plain": [
       "List of 3\n",
       " $ axis.title:List of 11\n",
       "  ..$ family       : NULL\n",
       "  ..$ face         : NULL\n",
       "  ..$ colour       : NULL\n",
       "  ..$ size         : num 18\n",
       "  ..$ hjust        : NULL\n",
       "  ..$ vjust        : NULL\n",
       "  ..$ angle        : NULL\n",
       "  ..$ lineheight   : NULL\n",
       "  ..$ margin       : NULL\n",
       "  ..$ debug        : NULL\n",
       "  ..$ inherit.blank: logi FALSE\n",
       "  ..- attr(*, \"class\")= chr [1:2] \"element_text\" \"element\"\n",
       " $ axis.text :List of 11\n",
       "  ..$ family       : NULL\n",
       "  ..$ face         : NULL\n",
       "  ..$ colour       : NULL\n",
       "  ..$ size         : num 18\n",
       "  ..$ hjust        : NULL\n",
       "  ..$ vjust        : NULL\n",
       "  ..$ angle        : NULL\n",
       "  ..$ lineheight   : NULL\n",
       "  ..$ margin       : NULL\n",
       "  ..$ debug        : NULL\n",
       "  ..$ inherit.blank: logi FALSE\n",
       "  ..- attr(*, \"class\")= chr [1:2] \"element_text\" \"element\"\n",
       " $ plot.title:List of 11\n",
       "  ..$ family       : NULL\n",
       "  ..$ face         : chr \"bold\"\n",
       "  ..$ colour       : NULL\n",
       "  ..$ size         : num 20\n",
       "  ..$ hjust        : num 0.5\n",
       "  ..$ vjust        : NULL\n",
       "  ..$ angle        : NULL\n",
       "  ..$ lineheight   : NULL\n",
       "  ..$ margin       : NULL\n",
       "  ..$ debug        : NULL\n",
       "  ..$ inherit.blank: logi FALSE\n",
       "  ..- attr(*, \"class\")= chr [1:2] \"element_text\" \"element\"\n",
       " - attr(*, \"class\")= chr [1:2] \"theme\" \"gg\"\n",
       " - attr(*, \"complete\")= logi FALSE\n",
       " - attr(*, \"validate\")= logi TRUE"
      ]
     },
     "metadata": {},
     "output_type": "display_data"
    },
    {
     "data": {
      "image/png": "[encoded data removed]",
      "text/plain": [
       "plot without title"
      ]
     },
     "metadata": {},
     "output_type": "display_data"
    },
    {
     "data": {
      "image/png": "[encoded data removed]",
      "text/plain": [
       "plot without title"
      ]
     },
     "metadata": {},
     "output_type": "display_data"
    }
   ],
   "source": [
    "#Create the histogram\n",
    "histogram <- ggplot(zero_rm_wageskill, aes(x = Wage_log)) + \n",
    "  geom_histogram(binwidth = 1, color = \"black\", fill = \"lightpink\") +\n",
    "  \n",
    "  # Add axis labels and adjust tick marks\n",
    "  labs(x = \"Wage_log\", y = \"Count\", title = \"Distribution of Wage_log\") +\n",
    "  scale_x_continuous(breaks = seq(5, 15, by = 1))\n",
    "\n",
    "  # Adjust the size of the plot and labels\n",
    "  theme(plot.title = element_text(size = 20, face = \"bold\", hjust = 0.5),\n",
    "        axis.title = element_text(size = 18),\n",
    "        axis.text = element_text(size = 18)) \n",
    "\n",
    "#Create the boxplot\n",
    "boxplot <- ggplot(zero_rm_wageskill, aes(x = \"\", y = Wage_log)) +\n",
    "  geom_boxplot(color = \"black\", fill = \"purple\") +\n",
    "\n",
    "  # Add axis labels and adjust tick marks\n",
    "  labs(x = \"\", y = \"Wage_log\", title = \"Boxplot of Wage\") +\n",
    "  scale_y_continuous(breaks = seq(5, 15, by = 1)) +\n",
    "\n",
    "  # Adjust the size of the plot and labels\n",
    "  theme(plot.title = element_text(size = 20, face = \"bold\", hjust = 0.5),\n",
    "        axis.title = element_text(size = 18),\n",
    "        axis.text = element_text(size = 18)) +\n",
    "  coord_flip() \n",
    "\n",
    "plot(histogram)\n",
    "plot(boxplot)"
   ]
  },
  {
   "cell_type": "markdown",
   "id": "820ddd46",
   "metadata": {},
   "source": [
    "Now the Distribution of Wage is at least more visible and clearer."
   ]
  },
  {
   "cell_type": "code",
   "execution_count": 12,
   "id": "ccbf6b97",
   "metadata": {},
   "outputs": [
    {
     "data": {
      "text/plain": [
       "List of 3\n",
       " $ axis.title:List of 11\n",
       "  ..$ family       : NULL\n",
       "  ..$ face         : NULL\n",
       "  ..$ colour       : NULL\n",
       "  ..$ size         : num 18\n",
       "  ..$ hjust        : NULL\n",
       "  ..$ vjust        : NULL\n",
       "  ..$ angle        : NULL\n",
       "  ..$ lineheight   : NULL\n",
       "  ..$ margin       : NULL\n",
       "  ..$ debug        : NULL\n",
       "  ..$ inherit.blank: logi FALSE\n",
       "  ..- attr(*, \"class\")= chr [1:2] \"element_text\" \"element\"\n",
       " $ axis.text :List of 11\n",
       "  ..$ family       : NULL\n",
       "  ..$ face         : NULL\n",
       "  ..$ colour       : NULL\n",
       "  ..$ size         : num 18\n",
       "  ..$ hjust        : NULL\n",
       "  ..$ vjust        : NULL\n",
       "  ..$ angle        : NULL\n",
       "  ..$ lineheight   : NULL\n",
       "  ..$ margin       : NULL\n",
       "  ..$ debug        : NULL\n",
       "  ..$ inherit.blank: logi FALSE\n",
       "  ..- attr(*, \"class\")= chr [1:2] \"element_text\" \"element\"\n",
       " $ plot.title:List of 11\n",
       "  ..$ family       : NULL\n",
       "  ..$ face         : chr \"bold\"\n",
       "  ..$ colour       : NULL\n",
       "  ..$ size         : num 20\n",
       "  ..$ hjust        : num 0.5\n",
       "  ..$ vjust        : NULL\n",
       "  ..$ angle        : NULL\n",
       "  ..$ lineheight   : NULL\n",
       "  ..$ margin       : NULL\n",
       "  ..$ debug        : NULL\n",
       "  ..$ inherit.blank: logi FALSE\n",
       "  ..- attr(*, \"class\")= chr [1:2] \"element_text\" \"element\"\n",
       " - attr(*, \"class\")= chr [1:2] \"theme\" \"gg\"\n",
       " - attr(*, \"complete\")= logi FALSE\n",
       " - attr(*, \"validate\")= logi TRUE"
      ]
     },
     "metadata": {},
     "output_type": "display_data"
    },
    {
     "data": {
      "image/png": "[encoded data removed]",
      "text/plain": [
       "plot without title"
      ]
     },
     "metadata": {},
     "output_type": "display_data"
    },
    {
     "data": {
      "image/png": "[encoded data removed]",
      "text/plain": [
       "plot without title"
      ]
     },
     "metadata": {},
     "output_type": "display_data"
    }
   ],
   "source": [
    "#Create the histogram\n",
    "histogram <- ggplot(wageskill, aes(x = Skill.Moves)) + \n",
    "  geom_histogram(binwidth = 1, color = \"black\", fill = \"lightpink\") +\n",
    "  \n",
    "  # Add axis labels and adjust tick marks\n",
    "  labs(x = \"Skill Moves\", y = \"Count\", title = \"Distribution of Skill Moves\") +\n",
    "  scale_x_continuous(breaks = seq(0, 5, by = 1))\n",
    "\n",
    "  # Adjust the size of the plot and labels\n",
    "  theme(plot.title = element_text(size = 20, face = \"bold\", hjust = 0.5),\n",
    "        axis.title = element_text(size = 18),\n",
    "        axis.text = element_text(size = 18)) \n",
    "\n",
    "#Create the boxplot\n",
    "boxplot <- ggplot(wageskill, aes(x = \"\", y = Skill.Moves)) +\n",
    "  geom_boxplot(color = \"black\", fill = \"purple\") +\n",
    "\n",
    "  # Add axis labels and adjust tick marks\n",
    "  labs(x = \"\", y = \"Skill Moves\", title = \"Boxplot of Skill Moves\") +\n",
    "  scale_y_continuous(breaks = seq(1, 5, by = 1)) +\n",
    "\n",
    "  # Adjust the size of the plot and labels\n",
    "  theme(plot.title = element_text(size = 20, face = \"bold\", hjust = 0.5),\n",
    "        axis.title = element_text(size = 18),\n",
    "        axis.text = element_text(size = 18)) +\n",
    "  coord_flip() \n",
    "\n",
    "plot(histogram)\n",
    "plot(boxplot)"
   ]
  },
  {
   "cell_type": "markdown",
   "id": "943b6e87",
   "metadata": {},
   "source": [
    "We can see that the distribution of SKill Moves is slightly right skewed."
   ]
  },
  {
   "cell_type": "code",
   "execution_count": 13,
   "id": "07079e6b",
   "metadata": {},
   "outputs": [
    {
     "data": {
      "image/png": "[encoded data removed]",
      "text/plain": [
       "plot without title"
      ]
     },
     "metadata": {},
     "output_type": "display_data"
    },
    {
     "data": {
      "image/png": "[encoded data removed]",
      "text/plain": [
       "plot without title"
      ]
     },
     "metadata": {},
     "output_type": "display_data"
    }
   ],
   "source": [
    "#Create the histogram\n",
    "histogram <- ggplot(wageskill, aes(x = International.Reputation)) + \n",
    "  geom_histogram(binwidth = 1, color = \"black\", fill = \"lightblue\") +\n",
    "  \n",
    "  # Add axis labels and adjust tick marks\n",
    "  labs(x = \"International Reputation\", y = \"Count\", title = \"Distribution of International Reputation\") +\n",
    "  scale_x_continuous(breaks = seq(0, 5, by = 1)) + \n",
    "\n",
    "  # Adjust the size of the plot and labels\n",
    "  theme(plot.title = element_text(size = 15, face = \"bold\", hjust = 0.5),\n",
    "        axis.title = element_text(size = 12),\n",
    "        axis.text = element_text(size = 12)) \n",
    "\n",
    "#Create the boxplot\n",
    "boxplot <- ggplot(wageskill, aes(x = \"\", y = International.Reputation)) +\n",
    "  geom_boxplot(color = \"black\", fill = \"lightgreen\") +\n",
    "\n",
    "  # Add axis labels and adjust tick marks\n",
    "  labs(x = \"\", y = \"International Reputation\", title = \"Boxplot of International Reputation\") +\n",
    "  scale_y_continuous(breaks = seq(0, 5, by = 1)) +\n",
    "\n",
    "  # Adjust the size of the plot and labels\n",
    "  theme(plot.title = element_text(size = 15, face = \"bold\", hjust = 0.5),\n",
    "        axis.title = element_text(size = 12),\n",
    "        axis.text = element_text(size = 12)) +\n",
    "  coord_flip() \n",
    "\n",
    "plot(histogram)\n",
    "plot(boxplot)"
   ]
  },
  {
   "cell_type": "markdown",
   "id": "d21d0de4",
   "metadata": {},
   "source": [
    "The distribution of International Reputation is very right skewed. Therefore, it is not a relevant variable to use."
   ]
  },
  {
   "cell_type": "code",
   "execution_count": 15,
   "id": "c8512767",
   "metadata": {},
   "outputs": [
    {
     "data": {
      "image/png": "[encoded data removed]",
      "text/plain": [
       "plot without title"
      ]
     },
     "metadata": {},
     "output_type": "display_data"
    }
   ],
   "source": [
    "#Create the histogram\n",
    "histogram <- ggplot(wageskill, aes(x = Value)) + \n",
    "  geom_histogram(binwidth = 500000, color = \"black\", fill = \"lightpink\") +\n",
    "  \n",
    "  # Add axis labels and adjust tick marks\n",
    "  labs(x = \"Value\", y = \"Count\", title = \"Distribution of Value\") +\n",
    "#   scale_x_continuous(breaks = seq(45, 95, by = 5)) + \n",
    "\n",
    "  # Adjust the size of the plot and labels\n",
    "  theme(plot.title = element_text(size = 20, face = \"bold\", hjust = 0.5),\n",
    "        axis.title = element_text(size = 12),\n",
    "        axis.text = element_text(size = 12)) \n",
    "\n",
    "#Create the boxplot\n",
    "# boxplot <- ggplot(data, aes(x = \"\", y = Value)) +\n",
    "#   geom_boxplot(color = \"black\", fill = \"lightgreen\") +\n",
    "\n",
    "#   # Add axis labels and adjust tick marks\n",
    "#   labs(x = \"\", y = \"Value\", title = \"Boxplot of Value\") +\n",
    "#   scale_y_continuous(breaks = seq(45, 95, by = 5)) +\n",
    "\n",
    "#   # Adjust the size of the plot and labels\n",
    "#   theme(plot.title = element_text(size = 20, face = \"bold\", hjust = 0.5),\n",
    "#         axis.title = element_text(size = 18),\n",
    "#         axis.text = element_text(size = 18)) +\n",
    "#   coord_flip() \n",
    "\n",
    "plot(histogram)\n",
    "# plot(boxplot)"
   ]
  },
  {
   "cell_type": "markdown",
   "id": "eaa2529e",
   "metadata": {},
   "source": [
    "The value distribution is also very right skewed. Since we have already removed the zero values for Value previously, we now will perform log transformation for Value."
   ]
  },
  {
   "cell_type": "code",
   "execution_count": 16,
   "id": "68b07be1",
   "metadata": {},
   "outputs": [
    {
     "data": {
      "text/html": [
       "<ol class=list-inline>\n",
       "\t<li>18435</li>\n",
       "\t<li>5</li>\n",
       "</ol>\n"
      ],
      "text/latex": [
       "\\begin{enumerate*}\n",
       "\\item 18435\n",
       "\\item 5\n",
       "\\end{enumerate*}\n"
      ],
      "text/markdown": [
       "1. 18435\n",
       "2. 5\n",
       "\n",
       "\n"
      ],
      "text/plain": [
       "[1] 18435     5"
      ]
     },
     "metadata": {},
     "output_type": "display_data"
    },
    {
     "data": {
      "text/html": [
       "<dl class=dl-horizontal>\n",
       "\t<dt>Wage</dt>\n",
       "\t\t<dd>0</dd>\n",
       "\t<dt>Skill.Moves</dt>\n",
       "\t\t<dd>0</dd>\n",
       "\t<dt>International.Reputation</dt>\n",
       "\t\t<dd>0</dd>\n",
       "\t<dt>Value</dt>\n",
       "\t\t<dd>0</dd>\n",
       "\t<dt>Wage_log</dt>\n",
       "\t\t<dd>0</dd>\n",
       "</dl>\n"
      ],
      "text/latex": [
       "\\begin{description*}\n",
       "\\item[Wage] 0\n",
       "\\item[Skill.Moves] 0\n",
       "\\item[International.Reputation] 0\n",
       "\\item[Value] 0\n",
       "\\item[Wage\\textbackslash{}\\_log] 0\n",
       "\\end{description*}\n"
      ],
      "text/markdown": [
       "Wage\n",
       ":   0Skill.Moves\n",
       ":   0International.Reputation\n",
       ":   0Value\n",
       ":   0Wage_log\n",
       ":   0\n",
       "\n"
      ],
      "text/plain": [
       "                    Wage              Skill.Moves International.Reputation \n",
       "                       0                        0                        0 \n",
       "                   Value                 Wage_log \n",
       "                       0                        0 "
      ]
     },
     "metadata": {},
     "output_type": "display_data"
    }
   ],
   "source": [
    "dim(zero_rm_wageskill)\n",
    "colSums(zero_rm_wageskill == 0)"
   ]
  },
  {
   "cell_type": "code",
   "execution_count": 17,
   "id": "6fb867ba",
   "metadata": {},
   "outputs": [
    {
     "data": {
      "text/plain": [
       "   Min. 1st Qu.  Median    Mean 3rd Qu.    Max. \n",
       "  9.105  13.122  13.816  13.894  14.509  19.065 "
      ]
     },
     "metadata": {},
     "output_type": "display_data"
    }
   ],
   "source": [
    "#Log transformation of the Value\n",
    "zero_rm_wageskill$Value_log <- log(zero_rm_wageskill$Value)\n",
    "summary(zero_rm_wageskill$Value_log)"
   ]
  },
  {
   "cell_type": "code",
   "execution_count": 18,
   "id": "51648c54",
   "metadata": {},
   "outputs": [
    {
     "data": {
      "image/png": "[encoded data removed]",
      "text/plain": [
       "plot without title"
      ]
     },
     "metadata": {},
     "output_type": "display_data"
    },
    {
     "data": {
      "image/png": "[encoded data removed]",
      "text/plain": [
       "plot without title"
      ]
     },
     "metadata": {},
     "output_type": "display_data"
    }
   ],
   "source": [
    "#Create the histogram\n",
    "histogram <- ggplot(zero_rm_wageskill, aes(x = Value_log)) + \n",
    "  geom_histogram(binwidth = 0.5, color = \"black\", fill = \"lightpink\") +\n",
    "  \n",
    "  # Add axis labels and adjust tick marks\n",
    "  labs(x = \"Value_log\", y = \"Count\", title = \"Distribution of Value_log\") +\n",
    "  scale_x_continuous(breaks = seq(8, 20, by = 1)) + \n",
    "\n",
    "  # Adjust the size of the plot and labels\n",
    "  theme(plot.title = element_text(size = 20, face = \"bold\", hjust = 0.5),\n",
    "        axis.title = element_text(size = 18),\n",
    "        axis.text = element_text(size = 18)) \n",
    "\n",
    "# Create the boxplot\n",
    "boxplot <- ggplot(zero_rm_wageskill, aes(x = \"\", y = Value_log)) +\n",
    "  geom_boxplot(color = \"black\", fill = \"purple\") +\n",
    "\n",
    "  # Add axis labels and adjust tick marks\n",
    "  labs(x = \"\", y = \"Value_log\", title = \"Boxplot of Value\") +\n",
    "  scale_y_continuous(breaks = seq(8, 20, by = 1)) +\n",
    "\n",
    "  # Adjust the size of the plot and labels\n",
    "  theme(plot.title = element_text(size = 20, face = \"bold\", hjust = 0.5),\n",
    "        axis.title = element_text(size = 18),\n",
    "        axis.text = element_text(size = 18)) +\n",
    "  coord_flip() \n",
    "\n",
    "plot(histogram)\n",
    "plot(boxplot)"
   ]
  },
  {
   "cell_type": "markdown",
   "id": "a3bf7dcf",
   "metadata": {},
   "source": [
    "The distribution of Value is very close to normal distribution."
   ]
  },
  {
   "cell_type": "code",
   "execution_count": 19,
   "id": "3dd51fb4",
   "metadata": {},
   "outputs": [
    {
     "ename": "ERROR",
     "evalue": "Error in library(treemap): there is no package called 'treemap'\n",
     "output_type": "error",
     "traceback": [
      "Error in library(treemap): there is no package called 'treemap'\nTraceback:\n",
      "1. library(treemap)"
     ]
    }
   ],
   "source": [
    "library(treemap)\n",
    "library(treemapify)"
   ]
  },
  {
   "cell_type": "code",
   "execution_count": 20,
   "id": "46d78ce0",
   "metadata": {},
   "outputs": [
    {
     "data": {
      "text/html": [
       "<ol class=list-inline>\n",
       "\t<li>'Wage'</li>\n",
       "\t<li>'Skill.Moves'</li>\n",
       "\t<li>'International.Reputation'</li>\n",
       "\t<li>'Value'</li>\n",
       "\t<li>'Wage_log'</li>\n",
       "\t<li>'Value_log'</li>\n",
       "</ol>\n"
      ],
      "text/latex": [
       "\\begin{enumerate*}\n",
       "\\item 'Wage'\n",
       "\\item 'Skill.Moves'\n",
       "\\item 'International.Reputation'\n",
       "\\item 'Value'\n",
       "\\item 'Wage\\_log'\n",
       "\\item 'Value\\_log'\n",
       "\\end{enumerate*}\n"
      ],
      "text/markdown": [
       "1. 'Wage'\n",
       "2. 'Skill.Moves'\n",
       "3. 'International.Reputation'\n",
       "4. 'Value'\n",
       "5. 'Wage_log'\n",
       "6. 'Value_log'\n",
       "\n",
       "\n"
      ],
      "text/plain": [
       "[1] \"Wage\"                     \"Skill.Moves\"             \n",
       "[3] \"International.Reputation\" \"Value\"                   \n",
       "[5] \"Wage_log\"                 \"Value_log\"               "
      ]
     },
     "metadata": {},
     "output_type": "display_data"
    }
   ],
   "source": [
    "#Select numerical column\n",
    "num_cols <- select_if(zero_rm_wageskill, is.numeric)\n",
    "colnames(num_cols)"
   ]
  },
  {
   "cell_type": "code",
   "execution_count": 24,
   "id": "aa7fd32d",
   "metadata": {},
   "outputs": [
    {
     "data": {
      "image/png": "[encoded data removed]",
      "text/plain": [
       "plot without title"
      ]
     },
     "metadata": {},
     "output_type": "display_data"
    }
   ],
   "source": [
    "#Correlation of each numerical values\n",
    "corr_mat <- cor(num_cols)\n",
    "melted_corr_mat <- melt(corr_mat)\n",
    "\n",
    "# Create the heatmap\n",
    "heatmap <- ggplot(data = melted_corr_mat, aes(x = Var1, y = Var2, fill = value)) +\n",
    "  geom_tile() +\n",
    "  geom_text(aes(label = round(value, 3))) +\n",
    "  scale_fill_gradient2(low = \"#0066CC\", mid = \"white\", high = \"#EB1313\", midpoint = 0) +\n",
    "  labs(title = \"Correlation heatmap with numerical values\") +\n",
    "  theme(plot.title = element_text(size = 15, face = \"bold\", hjust = 0.8),\n",
    "        axis.title = element_text(size = 12),\n",
    "        axis.text = element_text(size = 12))\n",
    "\n",
    "plot(heatmap)"
   ]
  },
  {
   "cell_type": "markdown",
   "id": "ab0f210d",
   "metadata": {},
   "source": [
    "Among the variables, there are a few very interesting observations. \n",
    "Value_log and Wage_log is quite highly correlated (r = 0.745)\n",
    "Value_log and International Reputation has a fairly high positive correlation (r = 0.418) and the correlation is the same as Skill Moves.\n",
    "Wage_log and International Reputation also has a fairly high positive correlation (r = 0.421) that is higher than that of Wage_log and Skill Moves (r = 0.328)\n",
    "International Reputation and Skill Moves have relatively low positive correlation (r = 0.189)"
   ]
  },
  {
   "cell_type": "markdown",
   "id": "c5b02217",
   "metadata": {},
   "source": [
    "# ONE SAMPLE T-TEST ON BMI (ADD weight and height distribution histogram)"
   ]
  },
  {
   "cell_type": "markdown",
   "id": "f16cad60",
   "metadata": {},
   "source": [
    "Now we are going to carry out a one-sample t-test on whether the BMI of the FIFA players fall within a certain range. It's always a question whether all of the atheletes in football are very fit and built, therefore we are going to test whether all of the FIFA players' BMI fall within 18.5 to 24.9. To use one-sample t-test, we will test whether the average BMI falls on the value (18.5 + 24.9)/2 which is 21.7. Then, we will also construct a confidence interval with alpha = 0.05 and see if the BMI does fall in the stipulated range."
   ]
  },
  {
   "cell_type": "markdown",
   "id": "375a9572",
   "metadata": {},
   "source": [
    "Now let's extract the Weight and Height of the players from the players dataframe."
   ]
  },
  {
   "cell_type": "code",
   "execution_count": 90,
   "id": "59dbef44",
   "metadata": {},
   "outputs": [
    {
     "data": {
      "text/html": [
       "<table>\n",
       "<thead><tr><th scope=col>Weight.in.kg.</th><th scope=col>Height.in.cm.</th></tr></thead>\n",
       "<tbody>\n",
       "\t<tr><td>67 </td><td>169</td></tr>\n",
       "\t<tr><td>81 </td><td>185</td></tr>\n",
       "\t<tr><td>81 </td><td>185</td></tr>\n",
       "\t<tr><td>70 </td><td>181</td></tr>\n",
       "\t<tr><td>73 </td><td>182</td></tr>\n",
       "\t<tr><td>71 </td><td>175</td></tr>\n",
       "\t<tr><td>96 </td><td>199</td></tr>\n",
       "\t<tr><td>93 </td><td>193</td></tr>\n",
       "\t<tr><td>83 </td><td>187</td></tr>\n",
       "\t<tr><td>92 </td><td>193</td></tr>\n",
       "\t<tr><td>89 </td><td>188</td></tr>\n",
       "\t<tr><td>68 </td><td>175</td></tr>\n",
       "\t<tr><td>78 </td><td>183</td></tr>\n",
       "\t<tr><td>84 </td><td>185</td></tr>\n",
       "\t<tr><td>87 </td><td>188</td></tr>\n",
       "\t<tr><td>69 </td><td>174</td></tr>\n",
       "\t<tr><td>86 </td><td>188</td></tr>\n",
       "\t<tr><td>75 </td><td>177</td></tr>\n",
       "\t<tr><td>91 </td><td>191</td></tr>\n",
       "\t<tr><td>70 </td><td>168</td></tr>\n",
       "\t<tr><td>82 </td><td>187</td></tr>\n",
       "\t<tr><td>94 </td><td>195</td></tr>\n",
       "\t<tr><td>90 </td><td>196</td></tr>\n",
       "\t<tr><td>64 </td><td>173</td></tr>\n",
       "\t<tr><td>74 </td><td>182</td></tr>\n",
       "\t<tr><td>75 </td><td>183</td></tr>\n",
       "\t<tr><td>80 </td><td>185</td></tr>\n",
       "\t<tr><td>85 </td><td>187</td></tr>\n",
       "\t<tr><td>76 </td><td>183</td></tr>\n",
       "\t<tr><td>66 </td><td>172</td></tr>\n",
       "\t<tr><td>...</td><td>...</td></tr>\n",
       "\t<tr><td>62 </td><td>184</td></tr>\n",
       "\t<tr><td>70 </td><td>175</td></tr>\n",
       "\t<tr><td>73 </td><td>180</td></tr>\n",
       "\t<tr><td>75 </td><td>185</td></tr>\n",
       "\t<tr><td>65 </td><td>188</td></tr>\n",
       "\t<tr><td>66 </td><td>171</td></tr>\n",
       "\t<tr><td>70 </td><td>182</td></tr>\n",
       "\t<tr><td>70 </td><td>188</td></tr>\n",
       "\t<tr><td>70 </td><td>183</td></tr>\n",
       "\t<tr><td>66 </td><td>165</td></tr>\n",
       "\t<tr><td>73 </td><td>182</td></tr>\n",
       "\t<tr><td>68 </td><td>185</td></tr>\n",
       "\t<tr><td>70 </td><td>183</td></tr>\n",
       "\t<tr><td>62 </td><td>169</td></tr>\n",
       "\t<tr><td>60 </td><td>162</td></tr>\n",
       "\t<tr><td>76 </td><td>187</td></tr>\n",
       "\t<tr><td>73 </td><td>183</td></tr>\n",
       "\t<tr><td>68 </td><td>178</td></tr>\n",
       "\t<tr><td>60 </td><td>174</td></tr>\n",
       "\t<tr><td>75 </td><td>183</td></tr>\n",
       "\t<tr><td>66 </td><td>175</td></tr>\n",
       "\t<tr><td>72 </td><td>177</td></tr>\n",
       "\t<tr><td>68 </td><td>176</td></tr>\n",
       "\t<tr><td>71 </td><td>176</td></tr>\n",
       "\t<tr><td>70 </td><td>175</td></tr>\n",
       "\t<tr><td>68 </td><td>174</td></tr>\n",
       "\t<tr><td>60 </td><td>175</td></tr>\n",
       "\t<tr><td>65 </td><td>170</td></tr>\n",
       "\t<tr><td>65 </td><td>178</td></tr>\n",
       "\t<tr><td>66 </td><td>176</td></tr>\n",
       "</tbody>\n",
       "</table>\n"
      ],
      "text/latex": [
       "\\begin{tabular}{r|ll}\n",
       " Weight.in.kg. & Height.in.cm.\\\\\n",
       "\\hline\n",
       "\t 67  & 169\\\\\n",
       "\t 81  & 185\\\\\n",
       "\t 81  & 185\\\\\n",
       "\t 70  & 181\\\\\n",
       "\t 73  & 182\\\\\n",
       "\t 71  & 175\\\\\n",
       "\t 96  & 199\\\\\n",
       "\t 93  & 193\\\\\n",
       "\t 83  & 187\\\\\n",
       "\t 92  & 193\\\\\n",
       "\t 89  & 188\\\\\n",
       "\t 68  & 175\\\\\n",
       "\t 78  & 183\\\\\n",
       "\t 84  & 185\\\\\n",
       "\t 87  & 188\\\\\n",
       "\t 69  & 174\\\\\n",
       "\t 86  & 188\\\\\n",
       "\t 75  & 177\\\\\n",
       "\t 91  & 191\\\\\n",
       "\t 70  & 168\\\\\n",
       "\t 82  & 187\\\\\n",
       "\t 94  & 195\\\\\n",
       "\t 90  & 196\\\\\n",
       "\t 64  & 173\\\\\n",
       "\t 74  & 182\\\\\n",
       "\t 75  & 183\\\\\n",
       "\t 80  & 185\\\\\n",
       "\t 85  & 187\\\\\n",
       "\t 76  & 183\\\\\n",
       "\t 66  & 172\\\\\n",
       "\t ... & ...\\\\\n",
       "\t 62  & 184\\\\\n",
       "\t 70  & 175\\\\\n",
       "\t 73  & 180\\\\\n",
       "\t 75  & 185\\\\\n",
       "\t 65  & 188\\\\\n",
       "\t 66  & 171\\\\\n",
       "\t 70  & 182\\\\\n",
       "\t 70  & 188\\\\\n",
       "\t 70  & 183\\\\\n",
       "\t 66  & 165\\\\\n",
       "\t 73  & 182\\\\\n",
       "\t 68  & 185\\\\\n",
       "\t 70  & 183\\\\\n",
       "\t 62  & 169\\\\\n",
       "\t 60  & 162\\\\\n",
       "\t 76  & 187\\\\\n",
       "\t 73  & 183\\\\\n",
       "\t 68  & 178\\\\\n",
       "\t 60  & 174\\\\\n",
       "\t 75  & 183\\\\\n",
       "\t 66  & 175\\\\\n",
       "\t 72  & 177\\\\\n",
       "\t 68  & 176\\\\\n",
       "\t 71  & 176\\\\\n",
       "\t 70  & 175\\\\\n",
       "\t 68  & 174\\\\\n",
       "\t 60  & 175\\\\\n",
       "\t 65  & 170\\\\\n",
       "\t 65  & 178\\\\\n",
       "\t 66  & 176\\\\\n",
       "\\end{tabular}\n"
      ],
      "text/markdown": [
       "\n",
       "| Weight.in.kg. | Height.in.cm. |\n",
       "|---|---|\n",
       "| 67  | 169 |\n",
       "| 81  | 185 |\n",
       "| 81  | 185 |\n",
       "| 70  | 181 |\n",
       "| 73  | 182 |\n",
       "| 71  | 175 |\n",
       "| 96  | 199 |\n",
       "| 93  | 193 |\n",
       "| 83  | 187 |\n",
       "| 92  | 193 |\n",
       "| 89  | 188 |\n",
       "| 68  | 175 |\n",
       "| 78  | 183 |\n",
       "| 84  | 185 |\n",
       "| 87  | 188 |\n",
       "| 69  | 174 |\n",
       "| 86  | 188 |\n",
       "| 75  | 177 |\n",
       "| 91  | 191 |\n",
       "| 70  | 168 |\n",
       "| 82  | 187 |\n",
       "| 94  | 195 |\n",
       "| 90  | 196 |\n",
       "| 64  | 173 |\n",
       "| 74  | 182 |\n",
       "| 75  | 183 |\n",
       "| 80  | 185 |\n",
       "| 85  | 187 |\n",
       "| 76  | 183 |\n",
       "| 66  | 172 |\n",
       "| ... | ... |\n",
       "| 62  | 184 |\n",
       "| 70  | 175 |\n",
       "| 73  | 180 |\n",
       "| 75  | 185 |\n",
       "| 65  | 188 |\n",
       "| 66  | 171 |\n",
       "| 70  | 182 |\n",
       "| 70  | 188 |\n",
       "| 70  | 183 |\n",
       "| 66  | 165 |\n",
       "| 73  | 182 |\n",
       "| 68  | 185 |\n",
       "| 70  | 183 |\n",
       "| 62  | 169 |\n",
       "| 60  | 162 |\n",
       "| 76  | 187 |\n",
       "| 73  | 183 |\n",
       "| 68  | 178 |\n",
       "| 60  | 174 |\n",
       "| 75  | 183 |\n",
       "| 66  | 175 |\n",
       "| 72  | 177 |\n",
       "| 68  | 176 |\n",
       "| 71  | 176 |\n",
       "| 70  | 175 |\n",
       "| 68  | 174 |\n",
       "| 60  | 175 |\n",
       "| 65  | 170 |\n",
       "| 65  | 178 |\n",
       "| 66  | 176 |\n",
       "\n"
      ],
      "text/plain": [
       "      Weight.in.kg. Height.in.cm.\n",
       "1     67            169          \n",
       "2     81            185          \n",
       "3     81            185          \n",
       "4     70            181          \n",
       "5     73            182          \n",
       "6     71            175          \n",
       "7     96            199          \n",
       "8     93            193          \n",
       "9     83            187          \n",
       "10    92            193          \n",
       "11    89            188          \n",
       "12    68            175          \n",
       "13    78            183          \n",
       "14    84            185          \n",
       "15    87            188          \n",
       "16    69            174          \n",
       "17    86            188          \n",
       "18    75            177          \n",
       "19    91            191          \n",
       "20    70            168          \n",
       "21    82            187          \n",
       "22    94            195          \n",
       "23    90            196          \n",
       "24    64            173          \n",
       "25    74            182          \n",
       "26    75            183          \n",
       "27    80            185          \n",
       "28    85            187          \n",
       "29    76            183          \n",
       "30    66            172          \n",
       "...   ...           ...          \n",
       "18510 62            184          \n",
       "18511 70            175          \n",
       "18512 73            180          \n",
       "18513 75            185          \n",
       "18514 65            188          \n",
       "18515 66            171          \n",
       "18516 70            182          \n",
       "18517 70            188          \n",
       "18518 70            183          \n",
       "18519 66            165          \n",
       "18520 73            182          \n",
       "18521 68            185          \n",
       "18522 70            183          \n",
       "18523 62            169          \n",
       "18524 60            162          \n",
       "18525 76            187          \n",
       "18526 73            183          \n",
       "18527 68            178          \n",
       "18528 60            174          \n",
       "18529 75            183          \n",
       "18530 66            175          \n",
       "18531 72            177          \n",
       "18532 68            176          \n",
       "18533 71            176          \n",
       "18534 70            175          \n",
       "18535 68            174          \n",
       "18536 60            175          \n",
       "18537 65            170          \n",
       "18538 65            178          \n",
       "18539 66            176          "
      ]
     },
     "metadata": {},
     "output_type": "display_data"
    }
   ],
   "source": [
    "BMI <- subset(players, select = c(Weight.in.kg., Height.in.cm.))\n",
    "BMI"
   ]
  },
  {
   "cell_type": "markdown",
   "id": "fd77a5b7",
   "metadata": {},
   "source": [
    "Change the names of the columns to Weight and Height respectively"
   ]
  },
  {
   "cell_type": "code",
   "execution_count": 34,
   "id": "bb190189",
   "metadata": {},
   "outputs": [],
   "source": [
    "column_names <- colnames(BMI)\n",
    "column_names[column_names == \"Weight.in.kg.\"] <- \"Weight\"\n",
    "column_names[column_names == \"Height.in.cm.\"] <- \"Height\"\n",
    "colnames(BMI) <- column_names"
   ]
  },
  {
   "cell_type": "markdown",
   "id": "a9cf5a4b",
   "metadata": {},
   "source": [
    "Now we are going to create a new column named BMI that is all of the BMIs of the players using the formula Weight/(Height/100)^2"
   ]
  },
  {
   "cell_type": "code",
   "execution_count": 38,
   "id": "c0088e6d",
   "metadata": {},
   "outputs": [],
   "source": [
    "BMI <- BMI %>%\n",
    "    mutate (BMI = Weight / (Height/100)^2)"
   ]
  },
  {
   "cell_type": "markdown",
   "id": "84b7329e",
   "metadata": {},
   "source": [
    "Now we are all set to perform our one-sample t-test on our data."
   ]
  },
  {
   "cell_type": "code",
   "execution_count": 41,
   "id": "322ccc9b",
   "metadata": {},
   "outputs": [
    {
     "data": {
      "text/plain": [
       "\n",
       "\tOne Sample t-test\n",
       "\n",
       "data:  BMI$BMI\n",
       "t = 105.79, df = 18538, p-value < 2.2e-16\n",
       "alternative hypothesis: true mean is not equal to 21.7\n",
       "95 percent confidence interval:\n",
       " 22.76332 22.80346\n",
       "sample estimates:\n",
       "mean of x \n",
       " 22.78339 \n"
      ]
     },
     "metadata": {},
     "output_type": "display_data"
    }
   ],
   "source": [
    "t.test(BMI$BMI, mu = 21.7)"
   ]
  },
  {
   "cell_type": "markdown",
   "id": "8cd677e3",
   "metadata": {},
   "source": [
    "From the data obtained, it looks like we have obtained very interesting result. The null hypothesis of all the BMI of players fall onto the value 21.7 is rejected, which is pretty much expected. However, the confidence interval for the mean of the BMI of all the players is unexpectedly very tight, with the width only 0.04014, which is significantly tighter than usual. This can only be explained by that most of the FIFA players' BMI is on the upper range of the range 18.5 to 24.9, specifically around 22.0 to 23.0."
   ]
  },
  {
   "cell_type": "markdown",
   "id": "1c3fd492",
   "metadata": {},
   "source": [
    "# PROP.TEST~~ Overall? Choose a suitable median/any proportion that can give good insights. (Contuinuity correction rip spelling)"
   ]
  },
  {
   "cell_type": "markdown",
   "id": "b260d94f",
   "metadata": {},
   "source": [
    "Since our Wage distribution of the players is heavily right skewed, it is best if we can try and perform quantile test on it to gain more insights on the distribution of the Wage of the players."
   ]
  },
  {
   "cell_type": "code",
   "execution_count": 44,
   "id": "24dec0bd",
   "metadata": {},
   "outputs": [
    {
     "data": {
      "text/html": [
       "<table>\n",
       "<thead><tr><th></th><th scope=col>Wage</th><th scope=col>Skill.Moves</th><th scope=col>International.Reputation</th><th scope=col>Value</th><th scope=col>Wage_log</th><th scope=col>Value_log</th></tr></thead>\n",
       "<tbody>\n",
       "\t<tr><th scope=row>1</th><td>195000   </td><td>4        </td><td>5        </td><td> 54000000</td><td>12.18075 </td><td>17.80449 </td></tr>\n",
       "\t<tr><th scope=row>2</th><td>450000   </td><td>4        </td><td>4        </td><td> 64000000</td><td>13.01700 </td><td>17.97439 </td></tr>\n",
       "\t<tr><th scope=row>3</th><td>420000   </td><td>4        </td><td>5        </td><td> 84000000</td><td>12.94801 </td><td>18.24633 </td></tr>\n",
       "\t<tr><th scope=row>4</th><td>350000   </td><td>4        </td><td>4        </td><td>107500000</td><td>12.76569 </td><td>18.49300 </td></tr>\n",
       "\t<tr><th scope=row>5</th><td>230000   </td><td>5        </td><td>4        </td><td>190500000</td><td>12.34583 </td><td>19.06516 </td></tr>\n",
       "\t<tr><th scope=row>6</th><td>270000   </td><td>4        </td><td>4        </td><td>115500000</td><td>12.50618 </td><td>18.56478 </td></tr>\n",
       "\t<tr><th scope=row>7</th><td>250000   </td><td>1        </td><td>4        </td><td> 90000000</td><td>12.42922 </td><td>18.31532 </td></tr>\n",
       "\t<tr><th scope=row>8</th><td> 72000   </td><td>1        </td><td>5        </td><td> 13500000</td><td>11.18442 </td><td>16.41820 </td></tr>\n",
       "\t<tr><th scope=row>9</th><td>220000   </td><td>5        </td><td>5        </td><td> 41000000</td><td>12.30138 </td><td>17.52908 </td></tr>\n",
       "\t<tr><th scope=row>10</th><td>230000   </td><td>2        </td><td>4        </td><td> 98000000</td><td>12.34583 </td><td>18.40048 </td></tr>\n",
       "\t<tr><th scope=row>11</th><td>240000   </td><td>3        </td><td>4        </td><td>105500000</td><td>12.38839 </td><td>18.47422 </td></tr>\n",
       "\t<tr><th scope=row>12</th><td>200000   </td><td>5        </td><td>5        </td><td> 99500000</td><td>12.20607 </td><td>18.41567 </td></tr>\n",
       "\t<tr><th scope=row>13</th><td>240000   </td><td>4        </td><td>4        </td><td>101000000</td><td>12.38839 </td><td>18.43063 </td></tr>\n",
       "\t<tr><th scope=row>14</th><td>240000   </td><td>2        </td><td>3        </td><td> 86000000</td><td>12.38839 </td><td>18.26986 </td></tr>\n",
       "\t<tr><th scope=row>15</th><td>100000   </td><td>1        </td><td>5        </td><td> 85500000</td><td>11.51293 </td><td>18.26403 </td></tr>\n",
       "\t<tr><th scope=row>16</th><td>145000   </td><td>4        </td><td>4        </td><td> 99500000</td><td>11.88449 </td><td>18.41567 </td></tr>\n",
       "\t<tr><th scope=row>17</th><td>210000   </td><td>1        </td><td>3        </td><td> 88000000</td><td>12.25486 </td><td>18.29285 </td></tr>\n",
       "\t<tr><th scope=row>18</th><td>130000   </td><td>3        </td><td>4        </td><td>105500000</td><td>11.77529 </td><td>18.47422 </td></tr>\n",
       "\t<tr><th scope=row>19</th><td>190000   </td><td>1        </td><td>3        </td><td> 79000000</td><td>12.15478 </td><td>18.18496 </td></tr>\n",
       "\t<tr><th scope=row>20</th><td>220000   </td><td>2        </td><td>4        </td><td> 72000000</td><td>12.30138 </td><td>18.09218 </td></tr>\n",
       "\t<tr><th scope=row>21</th><td>230000   </td><td>2        </td><td>3        </td><td>107500000</td><td>12.34583 </td><td>18.49300 </td></tr>\n",
       "\t<tr><th scope=row>22</th><td>220000   </td><td>3        </td><td>4        </td><td>148000000</td><td>12.30138 </td><td>18.81272 </td></tr>\n",
       "\t<tr><th scope=row>23</th><td>110000   </td><td>1        </td><td>3        </td><td>103500000</td><td>11.60824 </td><td>18.45508 </td></tr>\n",
       "\t<tr><th scope=row>24</th><td>260000   </td><td>4        </td><td>2        </td><td> 97500000</td><td>12.46844 </td><td>18.39536 </td></tr>\n",
       "\t<tr><th scope=row>25</th><td>250000   </td><td>4        </td><td>3        </td><td> 82500000</td><td>12.42922 </td><td>18.22831 </td></tr>\n",
       "\t<tr><th scope=row>26</th><td>170000   </td><td>3        </td><td>3        </td><td> 92000000</td><td>12.04355 </td><td>18.33730 </td></tr>\n",
       "\t<tr><th scope=row>27</th><td> 85000   </td><td>1        </td><td>3        </td><td> 10000000</td><td>11.35041 </td><td>16.11810 </td></tr>\n",
       "\t<tr><th scope=row>28</th><td>210000   </td><td>1        </td><td>4        </td><td> 68500000</td><td>12.25486 </td><td>18.04234 </td></tr>\n",
       "\t<tr><th scope=row>29</th><td>310000   </td><td>3        </td><td>4        </td><td> 72000000</td><td>12.64433 </td><td>18.09218 </td></tr>\n",
       "\t<tr><th scope=row>30</th><td>230000   </td><td>4        </td><td>4        </td><td> 29000000</td><td>12.34583 </td><td>17.18281 </td></tr>\n",
       "\t<tr><th scope=row>...</th><td>...</td><td>...</td><td>...</td><td>...</td><td>...</td><td>...</td></tr>\n",
       "\t<tr><th scope=row>18510</th><td> 500    </td><td>2       </td><td>1       </td><td>110000  </td><td>6.214608</td><td>11.60824</td></tr>\n",
       "\t<tr><th scope=row>18511</th><td> 500    </td><td>2       </td><td>1       </td><td>110000  </td><td>6.214608</td><td>11.60824</td></tr>\n",
       "\t<tr><th scope=row>18512</th><td>1000    </td><td>3       </td><td>1       </td><td>100000  </td><td>6.907755</td><td>11.51293</td></tr>\n",
       "\t<tr><th scope=row>18513</th><td>1000    </td><td>2       </td><td>1       </td><td>100000  </td><td>6.907755</td><td>11.51293</td></tr>\n",
       "\t<tr><th scope=row>18514</th><td>1000    </td><td>2       </td><td>1       </td><td>100000  </td><td>6.907755</td><td>11.51293</td></tr>\n",
       "\t<tr><th scope=row>18515</th><td> 500    </td><td>2       </td><td>1       </td><td> 70000  </td><td>6.214608</td><td>11.15625</td></tr>\n",
       "\t<tr><th scope=row>18516</th><td> 800    </td><td>1       </td><td>1       </td><td> 60000  </td><td>6.684612</td><td>11.00210</td></tr>\n",
       "\t<tr><th scope=row>18517</th><td>1000    </td><td>2       </td><td>1       </td><td>110000  </td><td>6.907755</td><td>11.60824</td></tr>\n",
       "\t<tr><th scope=row>18518</th><td>1000    </td><td>2       </td><td>1       </td><td> 70000  </td><td>6.907755</td><td>11.15625</td></tr>\n",
       "\t<tr><th scope=row>18519</th><td> 500    </td><td>2       </td><td>1       </td><td>110000  </td><td>6.214608</td><td>11.60824</td></tr>\n",
       "\t<tr><th scope=row>18520</th><td> 650    </td><td>2       </td><td>1       </td><td>120000  </td><td>6.476972</td><td>11.69525</td></tr>\n",
       "\t<tr><th scope=row>18521</th><td> 500    </td><td>1       </td><td>1       </td><td>100000  </td><td>6.214608</td><td>11.51293</td></tr>\n",
       "\t<tr><th scope=row>18522</th><td> 500    </td><td>1       </td><td>1       </td><td>100000  </td><td>6.214608</td><td>11.51293</td></tr>\n",
       "\t<tr><th scope=row>18523</th><td> 500    </td><td>2       </td><td>1       </td><td>110000  </td><td>6.214608</td><td>11.60824</td></tr>\n",
       "\t<tr><th scope=row>18524</th><td>2000    </td><td>2       </td><td>1       </td><td>110000  </td><td>7.600902</td><td>11.60824</td></tr>\n",
       "\t<tr><th scope=row>18525</th><td> 500    </td><td>1       </td><td>1       </td><td>130000  </td><td>6.214608</td><td>11.77529</td></tr>\n",
       "\t<tr><th scope=row>18526</th><td> 750    </td><td>2       </td><td>1       </td><td>120000  </td><td>6.620073</td><td>11.69525</td></tr>\n",
       "\t<tr><th scope=row>18527</th><td>2000    </td><td>2       </td><td>1       </td><td> 70000  </td><td>7.600902</td><td>11.15625</td></tr>\n",
       "\t<tr><th scope=row>18528</th><td>1000    </td><td>2       </td><td>1       </td><td>110000  </td><td>6.907755</td><td>11.60824</td></tr>\n",
       "\t<tr><th scope=row>18529</th><td>1000    </td><td>2       </td><td>1       </td><td>110000  </td><td>6.907755</td><td>11.60824</td></tr>\n",
       "\t<tr><th scope=row>18530</th><td>1000    </td><td>2       </td><td>1       </td><td> 60000  </td><td>6.907755</td><td>11.00210</td></tr>\n",
       "\t<tr><th scope=row>18531</th><td> 500    </td><td>2       </td><td>1       </td><td>110000  </td><td>6.214608</td><td>11.60824</td></tr>\n",
       "\t<tr><th scope=row>18532</th><td>1000    </td><td>2       </td><td>1       </td><td> 70000  </td><td>6.907755</td><td>11.15625</td></tr>\n",
       "\t<tr><th scope=row>18533</th><td> 500    </td><td>2       </td><td>1       </td><td>100000  </td><td>6.214608</td><td>11.51293</td></tr>\n",
       "\t<tr><th scope=row>18534</th><td> 950    </td><td>2       </td><td>1       </td><td>110000  </td><td>6.856462</td><td>11.60824</td></tr>\n",
       "\t<tr><th scope=row>18535</th><td> 500    </td><td>2       </td><td>1       </td><td>110000  </td><td>6.214608</td><td>11.60824</td></tr>\n",
       "\t<tr><th scope=row>18536</th><td> 500    </td><td>2       </td><td>1       </td><td> 90000  </td><td>6.214608</td><td>11.40756</td></tr>\n",
       "\t<tr><th scope=row>18537</th><td> 500    </td><td>2       </td><td>1       </td><td>130000  </td><td>6.214608</td><td>11.77529</td></tr>\n",
       "\t<tr><th scope=row>18538</th><td> 500    </td><td>2       </td><td>1       </td><td>100000  </td><td>6.214608</td><td>11.51293</td></tr>\n",
       "\t<tr><th scope=row>18539</th><td> 500    </td><td>2       </td><td>1       </td><td> 60000  </td><td>6.214608</td><td>11.00210</td></tr>\n",
       "</tbody>\n",
       "</table>\n"
      ],
      "text/latex": [
       "\\begin{tabular}{r|llllll}\n",
       "  & Wage & Skill.Moves & International.Reputation & Value & Wage\\_log & Value\\_log\\\\\n",
       "\\hline\n",
       "\t1 & 195000    & 4         & 5         &  54000000 & 12.18075  & 17.80449 \\\\\n",
       "\t2 & 450000    & 4         & 4         &  64000000 & 13.01700  & 17.97439 \\\\\n",
       "\t3 & 420000    & 4         & 5         &  84000000 & 12.94801  & 18.24633 \\\\\n",
       "\t4 & 350000    & 4         & 4         & 107500000 & 12.76569  & 18.49300 \\\\\n",
       "\t5 & 230000    & 5         & 4         & 190500000 & 12.34583  & 19.06516 \\\\\n",
       "\t6 & 270000    & 4         & 4         & 115500000 & 12.50618  & 18.56478 \\\\\n",
       "\t7 & 250000    & 1         & 4         &  90000000 & 12.42922  & 18.31532 \\\\\n",
       "\t8 &  72000    & 1         & 5         &  13500000 & 11.18442  & 16.41820 \\\\\n",
       "\t9 & 220000    & 5         & 5         &  41000000 & 12.30138  & 17.52908 \\\\\n",
       "\t10 & 230000    & 2         & 4         &  98000000 & 12.34583  & 18.40048 \\\\\n",
       "\t11 & 240000    & 3         & 4         & 105500000 & 12.38839  & 18.47422 \\\\\n",
       "\t12 & 200000    & 5         & 5         &  99500000 & 12.20607  & 18.41567 \\\\\n",
       "\t13 & 240000    & 4         & 4         & 101000000 & 12.38839  & 18.43063 \\\\\n",
       "\t14 & 240000    & 2         & 3         &  86000000 & 12.38839  & 18.26986 \\\\\n",
       "\t15 & 100000    & 1         & 5         &  85500000 & 11.51293  & 18.26403 \\\\\n",
       "\t16 & 145000    & 4         & 4         &  99500000 & 11.88449  & 18.41567 \\\\\n",
       "\t17 & 210000    & 1         & 3         &  88000000 & 12.25486  & 18.29285 \\\\\n",
       "\t18 & 130000    & 3         & 4         & 105500000 & 11.77529  & 18.47422 \\\\\n",
       "\t19 & 190000    & 1         & 3         &  79000000 & 12.15478  & 18.18496 \\\\\n",
       "\t20 & 220000    & 2         & 4         &  72000000 & 12.30138  & 18.09218 \\\\\n",
       "\t21 & 230000    & 2         & 3         & 107500000 & 12.34583  & 18.49300 \\\\\n",
       "\t22 & 220000    & 3         & 4         & 148000000 & 12.30138  & 18.81272 \\\\\n",
       "\t23 & 110000    & 1         & 3         & 103500000 & 11.60824  & 18.45508 \\\\\n",
       "\t24 & 260000    & 4         & 2         &  97500000 & 12.46844  & 18.39536 \\\\\n",
       "\t25 & 250000    & 4         & 3         &  82500000 & 12.42922  & 18.22831 \\\\\n",
       "\t26 & 170000    & 3         & 3         &  92000000 & 12.04355  & 18.33730 \\\\\n",
       "\t27 &  85000    & 1         & 3         &  10000000 & 11.35041  & 16.11810 \\\\\n",
       "\t28 & 210000    & 1         & 4         &  68500000 & 12.25486  & 18.04234 \\\\\n",
       "\t29 & 310000    & 3         & 4         &  72000000 & 12.64433  & 18.09218 \\\\\n",
       "\t30 & 230000    & 4         & 4         &  29000000 & 12.34583  & 17.18281 \\\\\n",
       "\t... & ... & ... & ... & ... & ... & ...\\\\\n",
       "\t18510 &  500     & 2        & 1        & 110000   & 6.214608 & 11.60824\\\\\n",
       "\t18511 &  500     & 2        & 1        & 110000   & 6.214608 & 11.60824\\\\\n",
       "\t18512 & 1000     & 3        & 1        & 100000   & 6.907755 & 11.51293\\\\\n",
       "\t18513 & 1000     & 2        & 1        & 100000   & 6.907755 & 11.51293\\\\\n",
       "\t18514 & 1000     & 2        & 1        & 100000   & 6.907755 & 11.51293\\\\\n",
       "\t18515 &  500     & 2        & 1        &  70000   & 6.214608 & 11.15625\\\\\n",
       "\t18516 &  800     & 1        & 1        &  60000   & 6.684612 & 11.00210\\\\\n",
       "\t18517 & 1000     & 2        & 1        & 110000   & 6.907755 & 11.60824\\\\\n",
       "\t18518 & 1000     & 2        & 1        &  70000   & 6.907755 & 11.15625\\\\\n",
       "\t18519 &  500     & 2        & 1        & 110000   & 6.214608 & 11.60824\\\\\n",
       "\t18520 &  650     & 2        & 1        & 120000   & 6.476972 & 11.69525\\\\\n",
       "\t18521 &  500     & 1        & 1        & 100000   & 6.214608 & 11.51293\\\\\n",
       "\t18522 &  500     & 1        & 1        & 100000   & 6.214608 & 11.51293\\\\\n",
       "\t18523 &  500     & 2        & 1        & 110000   & 6.214608 & 11.60824\\\\\n",
       "\t18524 & 2000     & 2        & 1        & 110000   & 7.600902 & 11.60824\\\\\n",
       "\t18525 &  500     & 1        & 1        & 130000   & 6.214608 & 11.77529\\\\\n",
       "\t18526 &  750     & 2        & 1        & 120000   & 6.620073 & 11.69525\\\\\n",
       "\t18527 & 2000     & 2        & 1        &  70000   & 7.600902 & 11.15625\\\\\n",
       "\t18528 & 1000     & 2        & 1        & 110000   & 6.907755 & 11.60824\\\\\n",
       "\t18529 & 1000     & 2        & 1        & 110000   & 6.907755 & 11.60824\\\\\n",
       "\t18530 & 1000     & 2        & 1        &  60000   & 6.907755 & 11.00210\\\\\n",
       "\t18531 &  500     & 2        & 1        & 110000   & 6.214608 & 11.60824\\\\\n",
       "\t18532 & 1000     & 2        & 1        &  70000   & 6.907755 & 11.15625\\\\\n",
       "\t18533 &  500     & 2        & 1        & 100000   & 6.214608 & 11.51293\\\\\n",
       "\t18534 &  950     & 2        & 1        & 110000   & 6.856462 & 11.60824\\\\\n",
       "\t18535 &  500     & 2        & 1        & 110000   & 6.214608 & 11.60824\\\\\n",
       "\t18536 &  500     & 2        & 1        &  90000   & 6.214608 & 11.40756\\\\\n",
       "\t18537 &  500     & 2        & 1        & 130000   & 6.214608 & 11.77529\\\\\n",
       "\t18538 &  500     & 2        & 1        & 100000   & 6.214608 & 11.51293\\\\\n",
       "\t18539 &  500     & 2        & 1        &  60000   & 6.214608 & 11.00210\\\\\n",
       "\\end{tabular}\n"
      ],
      "text/markdown": [
       "\n",
       "| <!--/--> | Wage | Skill.Moves | International.Reputation | Value | Wage_log | Value_log |\n",
       "|---|---|---|---|---|---|---|\n",
       "| 1 | 195000    | 4         | 5         |  54000000 | 12.18075  | 17.80449  |\n",
       "| 2 | 450000    | 4         | 4         |  64000000 | 13.01700  | 17.97439  |\n",
       "| 3 | 420000    | 4         | 5         |  84000000 | 12.94801  | 18.24633  |\n",
       "| 4 | 350000    | 4         | 4         | 107500000 | 12.76569  | 18.49300  |\n",
       "| 5 | 230000    | 5         | 4         | 190500000 | 12.34583  | 19.06516  |\n",
       "| 6 | 270000    | 4         | 4         | 115500000 | 12.50618  | 18.56478  |\n",
       "| 7 | 250000    | 1         | 4         |  90000000 | 12.42922  | 18.31532  |\n",
       "| 8 |  72000    | 1         | 5         |  13500000 | 11.18442  | 16.41820  |\n",
       "| 9 | 220000    | 5         | 5         |  41000000 | 12.30138  | 17.52908  |\n",
       "| 10 | 230000    | 2         | 4         |  98000000 | 12.34583  | 18.40048  |\n",
       "| 11 | 240000    | 3         | 4         | 105500000 | 12.38839  | 18.47422  |\n",
       "| 12 | 200000    | 5         | 5         |  99500000 | 12.20607  | 18.41567  |\n",
       "| 13 | 240000    | 4         | 4         | 101000000 | 12.38839  | 18.43063  |\n",
       "| 14 | 240000    | 2         | 3         |  86000000 | 12.38839  | 18.26986  |\n",
       "| 15 | 100000    | 1         | 5         |  85500000 | 11.51293  | 18.26403  |\n",
       "| 16 | 145000    | 4         | 4         |  99500000 | 11.88449  | 18.41567  |\n",
       "| 17 | 210000    | 1         | 3         |  88000000 | 12.25486  | 18.29285  |\n",
       "| 18 | 130000    | 3         | 4         | 105500000 | 11.77529  | 18.47422  |\n",
       "| 19 | 190000    | 1         | 3         |  79000000 | 12.15478  | 18.18496  |\n",
       "| 20 | 220000    | 2         | 4         |  72000000 | 12.30138  | 18.09218  |\n",
       "| 21 | 230000    | 2         | 3         | 107500000 | 12.34583  | 18.49300  |\n",
       "| 22 | 220000    | 3         | 4         | 148000000 | 12.30138  | 18.81272  |\n",
       "| 23 | 110000    | 1         | 3         | 103500000 | 11.60824  | 18.45508  |\n",
       "| 24 | 260000    | 4         | 2         |  97500000 | 12.46844  | 18.39536  |\n",
       "| 25 | 250000    | 4         | 3         |  82500000 | 12.42922  | 18.22831  |\n",
       "| 26 | 170000    | 3         | 3         |  92000000 | 12.04355  | 18.33730  |\n",
       "| 27 |  85000    | 1         | 3         |  10000000 | 11.35041  | 16.11810  |\n",
       "| 28 | 210000    | 1         | 4         |  68500000 | 12.25486  | 18.04234  |\n",
       "| 29 | 310000    | 3         | 4         |  72000000 | 12.64433  | 18.09218  |\n",
       "| 30 | 230000    | 4         | 4         |  29000000 | 12.34583  | 17.18281  |\n",
       "| ... | ... | ... | ... | ... | ... | ... |\n",
       "| 18510 |  500     | 2        | 1        | 110000   | 6.214608 | 11.60824 |\n",
       "| 18511 |  500     | 2        | 1        | 110000   | 6.214608 | 11.60824 |\n",
       "| 18512 | 1000     | 3        | 1        | 100000   | 6.907755 | 11.51293 |\n",
       "| 18513 | 1000     | 2        | 1        | 100000   | 6.907755 | 11.51293 |\n",
       "| 18514 | 1000     | 2        | 1        | 100000   | 6.907755 | 11.51293 |\n",
       "| 18515 |  500     | 2        | 1        |  70000   | 6.214608 | 11.15625 |\n",
       "| 18516 |  800     | 1        | 1        |  60000   | 6.684612 | 11.00210 |\n",
       "| 18517 | 1000     | 2        | 1        | 110000   | 6.907755 | 11.60824 |\n",
       "| 18518 | 1000     | 2        | 1        |  70000   | 6.907755 | 11.15625 |\n",
       "| 18519 |  500     | 2        | 1        | 110000   | 6.214608 | 11.60824 |\n",
       "| 18520 |  650     | 2        | 1        | 120000   | 6.476972 | 11.69525 |\n",
       "| 18521 |  500     | 1        | 1        | 100000   | 6.214608 | 11.51293 |\n",
       "| 18522 |  500     | 1        | 1        | 100000   | 6.214608 | 11.51293 |\n",
       "| 18523 |  500     | 2        | 1        | 110000   | 6.214608 | 11.60824 |\n",
       "| 18524 | 2000     | 2        | 1        | 110000   | 7.600902 | 11.60824 |\n",
       "| 18525 |  500     | 1        | 1        | 130000   | 6.214608 | 11.77529 |\n",
       "| 18526 |  750     | 2        | 1        | 120000   | 6.620073 | 11.69525 |\n",
       "| 18527 | 2000     | 2        | 1        |  70000   | 7.600902 | 11.15625 |\n",
       "| 18528 | 1000     | 2        | 1        | 110000   | 6.907755 | 11.60824 |\n",
       "| 18529 | 1000     | 2        | 1        | 110000   | 6.907755 | 11.60824 |\n",
       "| 18530 | 1000     | 2        | 1        |  60000   | 6.907755 | 11.00210 |\n",
       "| 18531 |  500     | 2        | 1        | 110000   | 6.214608 | 11.60824 |\n",
       "| 18532 | 1000     | 2        | 1        |  70000   | 6.907755 | 11.15625 |\n",
       "| 18533 |  500     | 2        | 1        | 100000   | 6.214608 | 11.51293 |\n",
       "| 18534 |  950     | 2        | 1        | 110000   | 6.856462 | 11.60824 |\n",
       "| 18535 |  500     | 2        | 1        | 110000   | 6.214608 | 11.60824 |\n",
       "| 18536 |  500     | 2        | 1        |  90000   | 6.214608 | 11.40756 |\n",
       "| 18537 |  500     | 2        | 1        | 130000   | 6.214608 | 11.77529 |\n",
       "| 18538 |  500     | 2        | 1        | 100000   | 6.214608 | 11.51293 |\n",
       "| 18539 |  500     | 2        | 1        |  60000   | 6.214608 | 11.00210 |\n",
       "\n"
      ],
      "text/plain": [
       "      Wage   Skill.Moves International.Reputation Value     Wage_log Value_log\n",
       "1     195000 4           5                         54000000 12.18075 17.80449 \n",
       "2     450000 4           4                         64000000 13.01700 17.97439 \n",
       "3     420000 4           5                         84000000 12.94801 18.24633 \n",
       "4     350000 4           4                        107500000 12.76569 18.49300 \n",
       "5     230000 5           4                        190500000 12.34583 19.06516 \n",
       "6     270000 4           4                        115500000 12.50618 18.56478 \n",
       "7     250000 1           4                         90000000 12.42922 18.31532 \n",
       "8      72000 1           5                         13500000 11.18442 16.41820 \n",
       "9     220000 5           5                         41000000 12.30138 17.52908 \n",
       "10    230000 2           4                         98000000 12.34583 18.40048 \n",
       "11    240000 3           4                        105500000 12.38839 18.47422 \n",
       "12    200000 5           5                         99500000 12.20607 18.41567 \n",
       "13    240000 4           4                        101000000 12.38839 18.43063 \n",
       "14    240000 2           3                         86000000 12.38839 18.26986 \n",
       "15    100000 1           5                         85500000 11.51293 18.26403 \n",
       "16    145000 4           4                         99500000 11.88449 18.41567 \n",
       "17    210000 1           3                         88000000 12.25486 18.29285 \n",
       "18    130000 3           4                        105500000 11.77529 18.47422 \n",
       "19    190000 1           3                         79000000 12.15478 18.18496 \n",
       "20    220000 2           4                         72000000 12.30138 18.09218 \n",
       "21    230000 2           3                        107500000 12.34583 18.49300 \n",
       "22    220000 3           4                        148000000 12.30138 18.81272 \n",
       "23    110000 1           3                        103500000 11.60824 18.45508 \n",
       "24    260000 4           2                         97500000 12.46844 18.39536 \n",
       "25    250000 4           3                         82500000 12.42922 18.22831 \n",
       "26    170000 3           3                         92000000 12.04355 18.33730 \n",
       "27     85000 1           3                         10000000 11.35041 16.11810 \n",
       "28    210000 1           4                         68500000 12.25486 18.04234 \n",
       "29    310000 3           4                         72000000 12.64433 18.09218 \n",
       "30    230000 4           4                         29000000 12.34583 17.18281 \n",
       "...   ...    ...         ...                      ...       ...      ...      \n",
       "18510  500   2           1                        110000    6.214608 11.60824 \n",
       "18511  500   2           1                        110000    6.214608 11.60824 \n",
       "18512 1000   3           1                        100000    6.907755 11.51293 \n",
       "18513 1000   2           1                        100000    6.907755 11.51293 \n",
       "18514 1000   2           1                        100000    6.907755 11.51293 \n",
       "18515  500   2           1                         70000    6.214608 11.15625 \n",
       "18516  800   1           1                         60000    6.684612 11.00210 \n",
       "18517 1000   2           1                        110000    6.907755 11.60824 \n",
       "18518 1000   2           1                         70000    6.907755 11.15625 \n",
       "18519  500   2           1                        110000    6.214608 11.60824 \n",
       "18520  650   2           1                        120000    6.476972 11.69525 \n",
       "18521  500   1           1                        100000    6.214608 11.51293 \n",
       "18522  500   1           1                        100000    6.214608 11.51293 \n",
       "18523  500   2           1                        110000    6.214608 11.60824 \n",
       "18524 2000   2           1                        110000    7.600902 11.60824 \n",
       "18525  500   1           1                        130000    6.214608 11.77529 \n",
       "18526  750   2           1                        120000    6.620073 11.69525 \n",
       "18527 2000   2           1                         70000    7.600902 11.15625 \n",
       "18528 1000   2           1                        110000    6.907755 11.60824 \n",
       "18529 1000   2           1                        110000    6.907755 11.60824 \n",
       "18530 1000   2           1                         60000    6.907755 11.00210 \n",
       "18531  500   2           1                        110000    6.214608 11.60824 \n",
       "18532 1000   2           1                         70000    6.907755 11.15625 \n",
       "18533  500   2           1                        100000    6.214608 11.51293 \n",
       "18534  950   2           1                        110000    6.856462 11.60824 \n",
       "18535  500   2           1                        110000    6.214608 11.60824 \n",
       "18536  500   2           1                         90000    6.214608 11.40756 \n",
       "18537  500   2           1                        130000    6.214608 11.77529 \n",
       "18538  500   2           1                        100000    6.214608 11.51293 \n",
       "18539  500   2           1                         60000    6.214608 11.00210 "
      ]
     },
     "metadata": {},
     "output_type": "display_data"
    }
   ],
   "source": [
    "zero_rm_wageskill"
   ]
  },
  {
   "cell_type": "code",
   "execution_count": 45,
   "id": "3a42b5c5",
   "metadata": {},
   "outputs": [
    {
     "data": {
      "text/plain": [
       "\n",
       "\tOne Sample t-test\n",
       "\n",
       "data:  zero_rm_wageskill$Wage\n",
       "t = 61.731, df = 18434, p-value < 2.2e-16\n",
       "alternative hypothesis: true mean is not equal to 0\n",
       "95 percent confidence interval:\n",
       " 8583.682 9146.663\n",
       "sample estimates:\n",
       "mean of x \n",
       " 8865.172 \n"
      ]
     },
     "metadata": {},
     "output_type": "display_data"
    }
   ],
   "source": [
    "t.test(zero_rm_wageskill$Wage) #TO BE DELETED, JUST TO SEE SEE DISTRIBUTION"
   ]
  },
  {
   "cell_type": "code",
   "execution_count": 54,
   "id": "2a8c25a7",
   "metadata": {},
   "outputs": [
    {
     "data": {
      "text/html": [
       "<dl class=dl-horizontal>\n",
       "\t<dt>25%</dt>\n",
       "\t\t<dd>1000</dd>\n",
       "\t<dt>30%</dt>\n",
       "\t\t<dd>1000</dd>\n",
       "\t<dt>32.1%</dt>\n",
       "\t\t<dd>2000</dd>\n",
       "\t<dt>50%</dt>\n",
       "\t\t<dd>3000</dd>\n",
       "\t<dt>75%</dt>\n",
       "\t\t<dd>8000</dd>\n",
       "\t<dt>90%</dt>\n",
       "\t\t<dd>22000</dd>\n",
       "\t<dt>95%</dt>\n",
       "\t\t<dd>38000</dd>\n",
       "\t<dt>99%</dt>\n",
       "\t\t<dd>90000</dd>\n",
       "</dl>\n"
      ],
      "text/latex": [
       "\\begin{description*}\n",
       "\\item[25\\textbackslash{}\\%] 1000\n",
       "\\item[30\\textbackslash{}\\%] 1000\n",
       "\\item[32.1\\textbackslash{}\\%] 2000\n",
       "\\item[50\\textbackslash{}\\%] 3000\n",
       "\\item[75\\textbackslash{}\\%] 8000\n",
       "\\item[90\\textbackslash{}\\%] 22000\n",
       "\\item[95\\textbackslash{}\\%] 38000\n",
       "\\item[99\\textbackslash{}\\%] 90000\n",
       "\\end{description*}\n"
      ],
      "text/markdown": [
       "25%\n",
       ":   100030%\n",
       ":   100032.1%\n",
       ":   200050%\n",
       ":   300075%\n",
       ":   800090%\n",
       ":   2200095%\n",
       ":   3800099%\n",
       ":   90000\n",
       "\n"
      ],
      "text/plain": [
       "  25%   30% 32.1%   50%   75%   90%   95%   99% \n",
       " 1000  1000  2000  3000  8000 22000 38000 90000 "
      ]
     },
     "metadata": {},
     "output_type": "display_data"
    }
   ],
   "source": [
    "wage_quantiles <- quantile(zero_rm_wageskill$Wage, probs = c(0.25, 0.3, 0.321, 0.5, 0.75, 0.9, 0.95, 0.99)) \n",
    "wage_quantiles# TO BE DELETED AS WELL, THIS IS JUST A CHEAT CODE FOR YALL TO SEE."
   ]
  },
  {
   "cell_type": "markdown",
   "id": "d1f71502",
   "metadata": {},
   "source": [
    "Now, we are going to perform a quantile test on the wage of the players. Our null hypothesis would be the 95% quantile is 30000, and the alternative hypothesis would then be the 95% percentile is not 30000."
   ]
  },
  {
   "cell_type": "code",
   "execution_count": 64,
   "id": "ef581da0",
   "metadata": {},
   "outputs": [
    {
     "data": {
      "text/html": [
       "18435"
      ],
      "text/latex": [
       "18435"
      ],
      "text/markdown": [
       "18435"
      ],
      "text/plain": [
       "[1] 18435"
      ]
     },
     "metadata": {},
     "output_type": "display_data"
    }
   ],
   "source": [
    "n <- length(zero_rm_wageskill$Wage)\n",
    "n"
   ]
  },
  {
   "cell_type": "markdown",
   "id": "6ec419ae",
   "metadata": {},
   "source": [
    "Set p equals to the 95th percentile"
   ]
  },
  {
   "cell_type": "code",
   "execution_count": 65,
   "id": "2537eb83",
   "metadata": {},
   "outputs": [],
   "source": [
    "p <- 0.95"
   ]
  },
  {
   "cell_type": "markdown",
   "id": "dfd289a9",
   "metadata": {},
   "source": [
    "Calculate the number of observations less than or equal to xp = 30000"
   ]
  },
  {
   "cell_type": "code",
   "execution_count": 70,
   "id": "6c3bac31",
   "metadata": {},
   "outputs": [
    {
     "data": {
      "text/html": [
       "17199"
      ],
      "text/latex": [
       "17199"
      ],
      "text/markdown": [
       "17199"
      ],
      "text/plain": [
       "[1] 17199"
      ]
     },
     "metadata": {},
     "output_type": "display_data"
    }
   ],
   "source": [
    "t1 <- sum(zero_rm_wageskill$Wage <= 30000)\n",
    "t1"
   ]
  },
  {
   "cell_type": "markdown",
   "id": "df960349",
   "metadata": {},
   "source": [
    "Calculate the number of observations less than xp = 30000"
   ]
  },
  {
   "cell_type": "code",
   "execution_count": 71,
   "id": "593cf3ac",
   "metadata": {},
   "outputs": [
    {
     "data": {
      "text/html": [
       "17131"
      ],
      "text/latex": [
       "17131"
      ],
      "text/markdown": [
       "17131"
      ],
      "text/plain": [
       "[1] 17131"
      ]
     },
     "metadata": {},
     "output_type": "display_data"
    }
   ],
   "source": [
    "t2 <- sum(zero_rm_wageskill$Wage < 30000)\n",
    "t2"
   ]
  },
  {
   "cell_type": "markdown",
   "id": "ba5c9fe2",
   "metadata": {},
   "source": [
    "Calculate n*p"
   ]
  },
  {
   "cell_type": "code",
   "execution_count": 74,
   "id": "4ee15fac",
   "metadata": {},
   "outputs": [
    {
     "data": {
      "text/html": [
       "17513.25"
      ],
      "text/latex": [
       "17513.25"
      ],
      "text/markdown": [
       "17513.25"
      ],
      "text/plain": [
       "[1] 17513.25"
      ]
     },
     "metadata": {},
     "output_type": "display_data"
    }
   ],
   "source": [
    "n*p"
   ]
  },
  {
   "cell_type": "markdown",
   "id": "03aa7d54",
   "metadata": {},
   "source": [
    "Since t1 is too small (<np), we will use the formula of 2*Pr(Y<=t1)"
   ]
  },
  {
   "cell_type": "code",
   "execution_count": 73,
   "id": "b0d6b006",
   "metadata": {},
   "outputs": [
    {
     "data": {
      "text/html": [
       "5.15199046327099e-24"
      ],
      "text/latex": [
       "5.15199046327099e-24"
      ],
      "text/markdown": [
       "5.15199046327099e-24"
      ],
      "text/plain": [
       "[1] 5.15199e-24"
      ]
     },
     "metadata": {},
     "output_type": "display_data"
    }
   ],
   "source": [
    "2*pbinom(17199,18435,0.95)"
   ]
  },
  {
   "cell_type": "markdown",
   "id": "2bea034b",
   "metadata": {},
   "source": [
    "Based on our quantile test, we reject our null hypothesis that the 95th percentile is 30000."
   ]
  },
  {
   "cell_type": "markdown",
   "id": "4c32a24e",
   "metadata": {},
   "source": [
    "Now let's preform another quantile test to test. Since our wage distribution is so right skewed, it means that there are very, very less people with a very high wage. Therefore, let's have our null hypothesis be the 75th percentile is 8000, and the alternative hypothesis be the 75th percentile is not 8000."
   ]
  },
  {
   "cell_type": "code",
   "execution_count": 76,
   "id": "0b0356fb",
   "metadata": {},
   "outputs": [
    {
     "data": {
      "text/html": [
       "18435"
      ],
      "text/latex": [
       "18435"
      ],
      "text/markdown": [
       "18435"
      ],
      "text/plain": [
       "[1] 18435"
      ]
     },
     "metadata": {},
     "output_type": "display_data"
    }
   ],
   "source": [
    "n <- length(zero_rm_wageskill$Wage)\n",
    "n"
   ]
  },
  {
   "cell_type": "markdown",
   "id": "fa4f57fb",
   "metadata": {},
   "source": [
    "Set p equals to the 95th percentile"
   ]
  },
  {
   "cell_type": "code",
   "execution_count": 77,
   "id": "9fa11653",
   "metadata": {},
   "outputs": [],
   "source": [
    "p <- 0.75"
   ]
  },
  {
   "cell_type": "markdown",
   "id": "df77c7d9",
   "metadata": {},
   "source": [
    "Calculate the number of observations less than or equal to xp = 8000"
   ]
  },
  {
   "cell_type": "code",
   "execution_count": 84,
   "id": "8e45e344",
   "metadata": {},
   "outputs": [
    {
     "data": {
      "text/html": [
       "14140"
      ],
      "text/latex": [
       "14140"
      ],
      "text/markdown": [
       "14140"
      ],
      "text/plain": [
       "[1] 14140"
      ]
     },
     "metadata": {},
     "output_type": "display_data"
    }
   ],
   "source": [
    "t1 <- sum(zero_rm_wageskill$Wage <= 8000)\n",
    "t1"
   ]
  },
  {
   "cell_type": "markdown",
   "id": "c4d48c80",
   "metadata": {},
   "source": [
    "Calculate the number of observations less than xp = 8000"
   ]
  },
  {
   "cell_type": "code",
   "execution_count": 85,
   "id": "0b6daeaf",
   "metadata": {},
   "outputs": [
    {
     "data": {
      "text/html": [
       "13758"
      ],
      "text/latex": [
       "13758"
      ],
      "text/markdown": [
       "13758"
      ],
      "text/plain": [
       "[1] 13758"
      ]
     },
     "metadata": {},
     "output_type": "display_data"
    }
   ],
   "source": [
    "t2 <- sum(zero_rm_wageskill$Wage < 8000)\n",
    "t2"
   ]
  },
  {
   "cell_type": "markdown",
   "id": "00d79d76",
   "metadata": {},
   "source": [
    "Calculate n*p"
   ]
  },
  {
   "cell_type": "code",
   "execution_count": 86,
   "id": "5fa5dcb3",
   "metadata": {},
   "outputs": [
    {
     "data": {
      "text/html": [
       "13826.25"
      ],
      "text/latex": [
       "13826.25"
      ],
      "text/markdown": [
       "13826.25"
      ],
      "text/plain": [
       "[1] 13826.25"
      ]
     },
     "metadata": {},
     "output_type": "display_data"
    }
   ],
   "source": [
    "n*p"
   ]
  },
  {
   "cell_type": "markdown",
   "id": "e6bcf563",
   "metadata": {},
   "source": [
    "Here t1 is not too small (>np) and t2 is not too large (>np), hence, we will try both methods and see."
   ]
  },
  {
   "cell_type": "code",
   "execution_count": 89,
   "id": "d413cf2c",
   "metadata": {},
   "outputs": [
    {
     "data": {
      "text/html": [
       "1.75753709635308"
      ],
      "text/latex": [
       "1.75753709635308"
      ],
      "text/markdown": [
       "1.75753709635308"
      ],
      "text/plain": [
       "[1] 1.757537"
      ]
     },
     "metadata": {},
     "output_type": "display_data"
    },
    {
     "data": {
      "text/html": [
       "1.99999992780443"
      ],
      "text/latex": [
       "1.99999992780443"
      ],
      "text/markdown": [
       "1.99999992780443"
      ],
      "text/plain": [
       "[1] 2"
      ]
     },
     "metadata": {},
     "output_type": "display_data"
    }
   ],
   "source": [
    "2*(1-pbinom(13758-1,18435,0.75))\n",
    "2*(pbinom(14140, 18435, 0.75))"
   ]
  },
  {
   "cell_type": "markdown",
   "id": "4fc6b121",
   "metadata": {},
   "source": [
    "As we can see from the result, there is not enough evidence to support the alternative hypothesis. Therefore, it can be concluded that the 75th percentile of Wage distribution is 8000, which is quite crazy, as we can see from the Wage distribution that there are players with wage over 200000, but there are 75% of people's wage is less than or equal to 8000."
   ]
  },
  {
   "cell_type": "code",
   "execution_count": null,
   "id": "628bd0a3",
   "metadata": {},
   "outputs": [],
   "source": []
  }
 ],
 "metadata": {
  "kernelspec": {
   "display_name": "R",
   "language": "R",
   "name": "ir"
  },
  "language_info": {
   "codemirror_mode": "r",
   "file_extension": ".r",
   "mimetype": "text/x-r-source",
   "name": "R",
   "pygments_lexer": "r",
   "version": "3.6.1"
  }
 },
 "nbformat": 4,
 "nbformat_minor": 5
}
