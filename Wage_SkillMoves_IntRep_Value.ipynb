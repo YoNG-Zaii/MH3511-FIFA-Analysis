{
 "cells": [
  {
   "cell_type": "code",
   "execution_count": 2,
   "id": "a0d3aacf",
   "metadata": {},
   "outputs": [
    {
     "name": "stderr",
     "output_type": "stream",
     "text": [
      "Registered S3 methods overwritten by 'ggplot2':\n",
      "  method         from \n",
      "  [.quosures     rlang\n",
      "  c.quosures     rlang\n",
      "  print.quosures rlang\n",
      "\n",
      "Attaching package: 'dplyr'\n",
      "\n",
      "The following objects are masked from 'package:stats':\n",
      "\n",
      "    filter, lag\n",
      "\n",
      "The following objects are masked from 'package:base':\n",
      "\n",
      "    intersect, setdiff, setequal, union\n",
      "\n"
     ]
    }
   ],
   "source": [
    "library(\"ggplot2\")\n",
    "library(\"dplyr\")\n",
    "library(\"repr\")\n",
    "library(\"reshape2\")\n",
    "library(\"stats\")"
   ]
  },
  {
   "cell_type": "code",
   "execution_count": 3,
   "id": "a32447cf",
   "metadata": {},
   "outputs": [
    {
     "data": {
      "text/html": [
       "<table>\n",
       "<thead><tr><th scope=col>Known.As</th><th scope=col>Full.Name</th><th scope=col>Overall</th><th scope=col>Potential</th><th scope=col>Value.in.Euro.</th><th scope=col>Positions.Played</th><th scope=col>Best.Position</th><th scope=col>Nationality</th><th scope=col>Image.Link</th><th scope=col>Age</th><th scope=col>...</th><th scope=col>LM.Rating</th><th scope=col>CM.Rating</th><th scope=col>RM.Rating</th><th scope=col>LWB.Rating</th><th scope=col>CDM.Rating</th><th scope=col>RWB.Rating</th><th scope=col>LB.Rating</th><th scope=col>CB.Rating</th><th scope=col>RB.Rating</th><th scope=col>GK.Rating</th></tr></thead>\n",
       "<tbody>\n",
       "\t<tr><td>L. Messi                                        </td><td>Lionel Messi                                    </td><td>91                                              </td><td>91                                              </td><td> 54000000                                       </td><td>RW                                              </td><td>CAM                                             </td><td>Argentina                                       </td><td>https://cdn.sofifa.net/players/158/023/23_60.png</td><td>35                                              </td><td>...                                             </td><td>91                                              </td><td>88                                              </td><td>91                                              </td><td>67                                              </td><td>66                                              </td><td>67                                              </td><td>62                                              </td><td>53                                              </td><td>62                                              </td><td>22                                              </td></tr>\n",
       "\t<tr><td>K. Benzema                                      </td><td>Karim Benzema                                   </td><td>91                                              </td><td>91                                              </td><td> 64000000                                       </td><td>CF,ST                                           </td><td>CF                                              </td><td>France                                          </td><td>https://cdn.sofifa.net/players/165/153/23_60.png</td><td>34                                              </td><td>...                                             </td><td>89                                              </td><td>84                                              </td><td>89                                              </td><td>67                                              </td><td>67                                              </td><td>67                                              </td><td>63                                              </td><td>58                                              </td><td>63                                              </td><td>21                                              </td></tr>\n",
       "\t<tr><td>R. Lewandowski                                  </td><td>Robert Lewandowski                              </td><td>91                                              </td><td>91                                              </td><td> 84000000                                       </td><td>ST                                              </td><td>ST                                              </td><td>Poland                                          </td><td>https://cdn.sofifa.net/players/188/545/23_60.png</td><td>33                                              </td><td>...                                             </td><td>86                                              </td><td>83                                              </td><td>86                                              </td><td>67                                              </td><td>69                                              </td><td>67                                              </td><td>64                                              </td><td>63                                              </td><td>64                                              </td><td>22                                              </td></tr>\n",
       "\t<tr><td>K. De Bruyne                                    </td><td>Kevin De Bruyne                                 </td><td>91                                              </td><td>91                                              </td><td>107500000                                       </td><td>CM,CAM                                          </td><td>CM                                              </td><td>Belgium                                         </td><td>https://cdn.sofifa.net/players/192/985/23_60.png</td><td>31                                              </td><td>...                                             </td><td>91                                              </td><td>91                                              </td><td>91                                              </td><td>82                                              </td><td>82                                              </td><td>82                                              </td><td>78                                              </td><td>72                                              </td><td>78                                              </td><td>24                                              </td></tr>\n",
       "\t<tr><td>K. MbappÃ©                                      </td><td>Kylian MbappÃ©                                  </td><td>91                                              </td><td>95                                              </td><td>190500000                                       </td><td>ST,LW                                           </td><td>ST                                              </td><td>France                                          </td><td>https://cdn.sofifa.net/players/231/747/23_60.png</td><td>23                                              </td><td>...                                             </td><td>92                                              </td><td>84                                              </td><td>92                                              </td><td>70                                              </td><td>66                                              </td><td>70                                              </td><td>66                                              </td><td>57                                              </td><td>66                                              </td><td>21                                              </td></tr>\n",
       "\t<tr><td>M. Salah                                        </td><td>Mohamed Salah                                   </td><td>90                                              </td><td>90                                              </td><td>115500000                                       </td><td>RW                                              </td><td>RW                                              </td><td>Egypt                                           </td><td>https://cdn.sofifa.net/players/209/331/23_60.png</td><td>30                                              </td><td>...                                             </td><td>90                                              </td><td>85                                              </td><td>90                                              </td><td>74                                              </td><td>71                                              </td><td>74                                              </td><td>70                                              </td><td>61                                              </td><td>70                                              </td><td>25                                              </td></tr>\n",
       "</tbody>\n",
       "</table>\n"
      ],
      "text/latex": [
       "\\begin{tabular}{r|lllllllllllllllllllllllllllllllllllllllllllllllllllllllllllllllllllllllllllllllllllllllll}\n",
       " Known.As & Full.Name & Overall & Potential & Value.in.Euro. & Positions.Played & Best.Position & Nationality & Image.Link & Age & ... & LM.Rating & CM.Rating & RM.Rating & LWB.Rating & CDM.Rating & RWB.Rating & LB.Rating & CB.Rating & RB.Rating & GK.Rating\\\\\n",
       "\\hline\n",
       "\t L. Messi                                           & Lionel Messi                                       & 91                                                 & 91                                                 &  54000000                                          & RW                                                 & CAM                                                & Argentina                                          & https://cdn.sofifa.net/players/158/023/23\\_60.png & 35                                                 & ...                                                & 91                                                 & 88                                                 & 91                                                 & 67                                                 & 66                                                 & 67                                                 & 62                                                 & 53                                                 & 62                                                 & 22                                                \\\\\n",
       "\t K. Benzema                                         & Karim Benzema                                      & 91                                                 & 91                                                 &  64000000                                          & CF,ST                                              & CF                                                 & France                                             & https://cdn.sofifa.net/players/165/153/23\\_60.png & 34                                                 & ...                                                & 89                                                 & 84                                                 & 89                                                 & 67                                                 & 67                                                 & 67                                                 & 63                                                 & 58                                                 & 63                                                 & 21                                                \\\\\n",
       "\t R. Lewandowski                                     & Robert Lewandowski                                 & 91                                                 & 91                                                 &  84000000                                          & ST                                                 & ST                                                 & Poland                                             & https://cdn.sofifa.net/players/188/545/23\\_60.png & 33                                                 & ...                                                & 86                                                 & 83                                                 & 86                                                 & 67                                                 & 69                                                 & 67                                                 & 64                                                 & 63                                                 & 64                                                 & 22                                                \\\\\n",
       "\t K. De Bruyne                                       & Kevin De Bruyne                                    & 91                                                 & 91                                                 & 107500000                                          & CM,CAM                                             & CM                                                 & Belgium                                            & https://cdn.sofifa.net/players/192/985/23\\_60.png & 31                                                 & ...                                                & 91                                                 & 91                                                 & 91                                                 & 82                                                 & 82                                                 & 82                                                 & 78                                                 & 72                                                 & 78                                                 & 24                                                \\\\\n",
       "\t K. MbappÃ©                                         & Kylian MbappÃ©                                     & 91                                                 & 95                                                 & 190500000                                          & ST,LW                                              & ST                                                 & France                                             & https://cdn.sofifa.net/players/231/747/23\\_60.png & 23                                                 & ...                                                & 92                                                 & 84                                                 & 92                                                 & 70                                                 & 66                                                 & 70                                                 & 66                                                 & 57                                                 & 66                                                 & 21                                                \\\\\n",
       "\t M. Salah                                           & Mohamed Salah                                      & 90                                                 & 90                                                 & 115500000                                          & RW                                                 & RW                                                 & Egypt                                              & https://cdn.sofifa.net/players/209/331/23\\_60.png & 30                                                 & ...                                                & 90                                                 & 85                                                 & 90                                                 & 74                                                 & 71                                                 & 74                                                 & 70                                                 & 61                                                 & 70                                                 & 25                                                \\\\\n",
       "\\end{tabular}\n"
      ],
      "text/markdown": [
       "\n",
       "| Known.As | Full.Name | Overall | Potential | Value.in.Euro. | Positions.Played | Best.Position | Nationality | Image.Link | Age | ... | LM.Rating | CM.Rating | RM.Rating | LWB.Rating | CDM.Rating | RWB.Rating | LB.Rating | CB.Rating | RB.Rating | GK.Rating |\n",
       "|---|---|---|---|---|---|---|---|---|---|---|---|---|---|---|---|---|---|---|---|---|\n",
       "| L. Messi                                         | Lionel Messi                                     | 91                                               | 91                                               |  54000000                                        | RW                                               | CAM                                              | Argentina                                        | https://cdn.sofifa.net/players/158/023/23_60.png | 35                                               | ...                                              | 91                                               | 88                                               | 91                                               | 67                                               | 66                                               | 67                                               | 62                                               | 53                                               | 62                                               | 22                                               |\n",
       "| K. Benzema                                       | Karim Benzema                                    | 91                                               | 91                                               |  64000000                                        | CF,ST                                            | CF                                               | France                                           | https://cdn.sofifa.net/players/165/153/23_60.png | 34                                               | ...                                              | 89                                               | 84                                               | 89                                               | 67                                               | 67                                               | 67                                               | 63                                               | 58                                               | 63                                               | 21                                               |\n",
       "| R. Lewandowski                                   | Robert Lewandowski                               | 91                                               | 91                                               |  84000000                                        | ST                                               | ST                                               | Poland                                           | https://cdn.sofifa.net/players/188/545/23_60.png | 33                                               | ...                                              | 86                                               | 83                                               | 86                                               | 67                                               | 69                                               | 67                                               | 64                                               | 63                                               | 64                                               | 22                                               |\n",
       "| K. De Bruyne                                     | Kevin De Bruyne                                  | 91                                               | 91                                               | 107500000                                        | CM,CAM                                           | CM                                               | Belgium                                          | https://cdn.sofifa.net/players/192/985/23_60.png | 31                                               | ...                                              | 91                                               | 91                                               | 91                                               | 82                                               | 82                                               | 82                                               | 78                                               | 72                                               | 78                                               | 24                                               |\n",
       "| K. MbappÃ©                                       | Kylian MbappÃ©                                   | 91                                               | 95                                               | 190500000                                        | ST,LW                                            | ST                                               | France                                           | https://cdn.sofifa.net/players/231/747/23_60.png | 23                                               | ...                                              | 92                                               | 84                                               | 92                                               | 70                                               | 66                                               | 70                                               | 66                                               | 57                                               | 66                                               | 21                                               |\n",
       "| M. Salah                                         | Mohamed Salah                                    | 90                                               | 90                                               | 115500000                                        | RW                                               | RW                                               | Egypt                                            | https://cdn.sofifa.net/players/209/331/23_60.png | 30                                               | ...                                              | 90                                               | 85                                               | 90                                               | 74                                               | 71                                               | 74                                               | 70                                               | 61                                               | 70                                               | 25                                               |\n",
       "\n"
      ],
      "text/plain": [
       "  Known.As       Full.Name          Overall Potential Value.in.Euro.\n",
       "1 L. Messi       Lionel Messi       91      91         54000000     \n",
       "2 K. Benzema     Karim Benzema      91      91         64000000     \n",
       "3 R. Lewandowski Robert Lewandowski 91      91         84000000     \n",
       "4 K. De Bruyne   Kevin De Bruyne    91      91        107500000     \n",
       "5 K. MbappÃ©     Kylian MbappÃ©     91      95        190500000     \n",
       "6 M. Salah       Mohamed Salah      90      90        115500000     \n",
       "  Positions.Played Best.Position Nationality\n",
       "1 RW               CAM           Argentina  \n",
       "2 CF,ST            CF            France     \n",
       "3 ST               ST            Poland     \n",
       "4 CM,CAM           CM            Belgium    \n",
       "5 ST,LW            ST            France     \n",
       "6 RW               RW            Egypt      \n",
       "  Image.Link                                       Age ... LM.Rating CM.Rating\n",
       "1 https://cdn.sofifa.net/players/158/023/23_60.png 35  ... 91        88       \n",
       "2 https://cdn.sofifa.net/players/165/153/23_60.png 34  ... 89        84       \n",
       "3 https://cdn.sofifa.net/players/188/545/23_60.png 33  ... 86        83       \n",
       "4 https://cdn.sofifa.net/players/192/985/23_60.png 31  ... 91        91       \n",
       "5 https://cdn.sofifa.net/players/231/747/23_60.png 23  ... 92        84       \n",
       "6 https://cdn.sofifa.net/players/209/331/23_60.png 30  ... 90        85       \n",
       "  RM.Rating LWB.Rating CDM.Rating RWB.Rating LB.Rating CB.Rating RB.Rating\n",
       "1 91        67         66         67         62        53        62       \n",
       "2 89        67         67         67         63        58        63       \n",
       "3 86        67         69         67         64        63        64       \n",
       "4 91        82         82         82         78        72        78       \n",
       "5 92        70         66         70         66        57        66       \n",
       "6 90        74         71         74         70        61        70       \n",
       "  GK.Rating\n",
       "1 22       \n",
       "2 21       \n",
       "3 22       \n",
       "4 24       \n",
       "5 21       \n",
       "6 25       "
      ]
     },
     "metadata": {},
     "output_type": "display_data"
    }
   ],
   "source": [
    "players = read.csv(\"./fifa23_players_data.csv\")\n",
    "head(players)"
   ]
  },
  {
   "cell_type": "code",
   "execution_count": 4,
   "id": "3458040e",
   "metadata": {},
   "outputs": [
    {
     "data": {
      "text/html": [
       "<ol class=list-inline>\n",
       "\t<li>'Known.As'</li>\n",
       "\t<li>'Full.Name'</li>\n",
       "\t<li>'Overall'</li>\n",
       "\t<li>'Potential'</li>\n",
       "\t<li>'Value.in.Euro.'</li>\n",
       "\t<li>'Positions.Played'</li>\n",
       "\t<li>'Best.Position'</li>\n",
       "\t<li>'Nationality'</li>\n",
       "\t<li>'Image.Link'</li>\n",
       "\t<li>'Age'</li>\n",
       "\t<li>'Height.in.cm.'</li>\n",
       "\t<li>'Weight.in.kg.'</li>\n",
       "\t<li>'TotalStats'</li>\n",
       "\t<li>'BaseStats'</li>\n",
       "\t<li>'Club.Name'</li>\n",
       "\t<li>'Wage.in.Euro.'</li>\n",
       "\t<li>'Release.Clause'</li>\n",
       "\t<li>'Club.Position'</li>\n",
       "\t<li>'Contract.Until'</li>\n",
       "\t<li>'Club.Jersey.Number'</li>\n",
       "\t<li>'Joined.On'</li>\n",
       "\t<li>'On.Loan'</li>\n",
       "\t<li>'Preferred.Foot'</li>\n",
       "\t<li>'Weak.Foot.Rating'</li>\n",
       "\t<li>'Skill.Moves'</li>\n",
       "\t<li>'International.Reputation'</li>\n",
       "\t<li>'National.Team.Name'</li>\n",
       "\t<li>'National.Team.Image.Link'</li>\n",
       "\t<li>'National.Team.Position'</li>\n",
       "\t<li>'National.Team.Jersey.Number'</li>\n",
       "\t<li>'Attacking.Work.Rate'</li>\n",
       "\t<li>'Defensive.Work.Rate'</li>\n",
       "\t<li>'Pace.Total'</li>\n",
       "\t<li>'Shooting.Total'</li>\n",
       "\t<li>'Passing.Total'</li>\n",
       "\t<li>'Dribbling.Total'</li>\n",
       "\t<li>'Defending.Total'</li>\n",
       "\t<li>'Physicality.Total'</li>\n",
       "\t<li>'Crossing'</li>\n",
       "\t<li>'Finishing'</li>\n",
       "\t<li>'Heading.Accuracy'</li>\n",
       "\t<li>'Short.Passing'</li>\n",
       "\t<li>'Volleys'</li>\n",
       "\t<li>'Dribbling'</li>\n",
       "\t<li>'Curve'</li>\n",
       "\t<li>'Freekick.Accuracy'</li>\n",
       "\t<li>'LongPassing'</li>\n",
       "\t<li>'BallControl'</li>\n",
       "\t<li>'Acceleration'</li>\n",
       "\t<li>'Sprint.Speed'</li>\n",
       "\t<li>'Agility'</li>\n",
       "\t<li>'Reactions'</li>\n",
       "\t<li>'Balance'</li>\n",
       "\t<li>'Shot.Power'</li>\n",
       "\t<li>'Jumping'</li>\n",
       "\t<li>'Stamina'</li>\n",
       "\t<li>'Strength'</li>\n",
       "\t<li>'Long.Shots'</li>\n",
       "\t<li>'Aggression'</li>\n",
       "\t<li>'Interceptions'</li>\n",
       "\t<li>'Positioning'</li>\n",
       "\t<li>'Vision'</li>\n",
       "\t<li>'Penalties'</li>\n",
       "\t<li>'Composure'</li>\n",
       "\t<li>'Marking'</li>\n",
       "\t<li>'Standing.Tackle'</li>\n",
       "\t<li>'Sliding.Tackle'</li>\n",
       "\t<li>'Goalkeeper.Diving'</li>\n",
       "\t<li>'Goalkeeper.Handling'</li>\n",
       "\t<li>'GoalkeeperKicking'</li>\n",
       "\t<li>'Goalkeeper.Positioning'</li>\n",
       "\t<li>'Goalkeeper.Reflexes'</li>\n",
       "\t<li>'ST.Rating'</li>\n",
       "\t<li>'LW.Rating'</li>\n",
       "\t<li>'LF.Rating'</li>\n",
       "\t<li>'CF.Rating'</li>\n",
       "\t<li>'RF.Rating'</li>\n",
       "\t<li>'RW.Rating'</li>\n",
       "\t<li>'CAM.Rating'</li>\n",
       "\t<li>'LM.Rating'</li>\n",
       "\t<li>'CM.Rating'</li>\n",
       "\t<li>'RM.Rating'</li>\n",
       "\t<li>'LWB.Rating'</li>\n",
       "\t<li>'CDM.Rating'</li>\n",
       "\t<li>'RWB.Rating'</li>\n",
       "\t<li>'LB.Rating'</li>\n",
       "\t<li>'CB.Rating'</li>\n",
       "\t<li>'RB.Rating'</li>\n",
       "\t<li>'GK.Rating'</li>\n",
       "</ol>\n"
      ],
      "text/latex": [
       "\\begin{enumerate*}\n",
       "\\item 'Known.As'\n",
       "\\item 'Full.Name'\n",
       "\\item 'Overall'\n",
       "\\item 'Potential'\n",
       "\\item 'Value.in.Euro.'\n",
       "\\item 'Positions.Played'\n",
       "\\item 'Best.Position'\n",
       "\\item 'Nationality'\n",
       "\\item 'Image.Link'\n",
       "\\item 'Age'\n",
       "\\item 'Height.in.cm.'\n",
       "\\item 'Weight.in.kg.'\n",
       "\\item 'TotalStats'\n",
       "\\item 'BaseStats'\n",
       "\\item 'Club.Name'\n",
       "\\item 'Wage.in.Euro.'\n",
       "\\item 'Release.Clause'\n",
       "\\item 'Club.Position'\n",
       "\\item 'Contract.Until'\n",
       "\\item 'Club.Jersey.Number'\n",
       "\\item 'Joined.On'\n",
       "\\item 'On.Loan'\n",
       "\\item 'Preferred.Foot'\n",
       "\\item 'Weak.Foot.Rating'\n",
       "\\item 'Skill.Moves'\n",
       "\\item 'International.Reputation'\n",
       "\\item 'National.Team.Name'\n",
       "\\item 'National.Team.Image.Link'\n",
       "\\item 'National.Team.Position'\n",
       "\\item 'National.Team.Jersey.Number'\n",
       "\\item 'Attacking.Work.Rate'\n",
       "\\item 'Defensive.Work.Rate'\n",
       "\\item 'Pace.Total'\n",
       "\\item 'Shooting.Total'\n",
       "\\item 'Passing.Total'\n",
       "\\item 'Dribbling.Total'\n",
       "\\item 'Defending.Total'\n",
       "\\item 'Physicality.Total'\n",
       "\\item 'Crossing'\n",
       "\\item 'Finishing'\n",
       "\\item 'Heading.Accuracy'\n",
       "\\item 'Short.Passing'\n",
       "\\item 'Volleys'\n",
       "\\item 'Dribbling'\n",
       "\\item 'Curve'\n",
       "\\item 'Freekick.Accuracy'\n",
       "\\item 'LongPassing'\n",
       "\\item 'BallControl'\n",
       "\\item 'Acceleration'\n",
       "\\item 'Sprint.Speed'\n",
       "\\item 'Agility'\n",
       "\\item 'Reactions'\n",
       "\\item 'Balance'\n",
       "\\item 'Shot.Power'\n",
       "\\item 'Jumping'\n",
       "\\item 'Stamina'\n",
       "\\item 'Strength'\n",
       "\\item 'Long.Shots'\n",
       "\\item 'Aggression'\n",
       "\\item 'Interceptions'\n",
       "\\item 'Positioning'\n",
       "\\item 'Vision'\n",
       "\\item 'Penalties'\n",
       "\\item 'Composure'\n",
       "\\item 'Marking'\n",
       "\\item 'Standing.Tackle'\n",
       "\\item 'Sliding.Tackle'\n",
       "\\item 'Goalkeeper.Diving'\n",
       "\\item 'Goalkeeper.Handling'\n",
       "\\item 'GoalkeeperKicking'\n",
       "\\item 'Goalkeeper.Positioning'\n",
       "\\item 'Goalkeeper.Reflexes'\n",
       "\\item 'ST.Rating'\n",
       "\\item 'LW.Rating'\n",
       "\\item 'LF.Rating'\n",
       "\\item 'CF.Rating'\n",
       "\\item 'RF.Rating'\n",
       "\\item 'RW.Rating'\n",
       "\\item 'CAM.Rating'\n",
       "\\item 'LM.Rating'\n",
       "\\item 'CM.Rating'\n",
       "\\item 'RM.Rating'\n",
       "\\item 'LWB.Rating'\n",
       "\\item 'CDM.Rating'\n",
       "\\item 'RWB.Rating'\n",
       "\\item 'LB.Rating'\n",
       "\\item 'CB.Rating'\n",
       "\\item 'RB.Rating'\n",
       "\\item 'GK.Rating'\n",
       "\\end{enumerate*}\n"
      ],
      "text/markdown": [
       "1. 'Known.As'\n",
       "2. 'Full.Name'\n",
       "3. 'Overall'\n",
       "4. 'Potential'\n",
       "5. 'Value.in.Euro.'\n",
       "6. 'Positions.Played'\n",
       "7. 'Best.Position'\n",
       "8. 'Nationality'\n",
       "9. 'Image.Link'\n",
       "10. 'Age'\n",
       "11. 'Height.in.cm.'\n",
       "12. 'Weight.in.kg.'\n",
       "13. 'TotalStats'\n",
       "14. 'BaseStats'\n",
       "15. 'Club.Name'\n",
       "16. 'Wage.in.Euro.'\n",
       "17. 'Release.Clause'\n",
       "18. 'Club.Position'\n",
       "19. 'Contract.Until'\n",
       "20. 'Club.Jersey.Number'\n",
       "21. 'Joined.On'\n",
       "22. 'On.Loan'\n",
       "23. 'Preferred.Foot'\n",
       "24. 'Weak.Foot.Rating'\n",
       "25. 'Skill.Moves'\n",
       "26. 'International.Reputation'\n",
       "27. 'National.Team.Name'\n",
       "28. 'National.Team.Image.Link'\n",
       "29. 'National.Team.Position'\n",
       "30. 'National.Team.Jersey.Number'\n",
       "31. 'Attacking.Work.Rate'\n",
       "32. 'Defensive.Work.Rate'\n",
       "33. 'Pace.Total'\n",
       "34. 'Shooting.Total'\n",
       "35. 'Passing.Total'\n",
       "36. 'Dribbling.Total'\n",
       "37. 'Defending.Total'\n",
       "38. 'Physicality.Total'\n",
       "39. 'Crossing'\n",
       "40. 'Finishing'\n",
       "41. 'Heading.Accuracy'\n",
       "42. 'Short.Passing'\n",
       "43. 'Volleys'\n",
       "44. 'Dribbling'\n",
       "45. 'Curve'\n",
       "46. 'Freekick.Accuracy'\n",
       "47. 'LongPassing'\n",
       "48. 'BallControl'\n",
       "49. 'Acceleration'\n",
       "50. 'Sprint.Speed'\n",
       "51. 'Agility'\n",
       "52. 'Reactions'\n",
       "53. 'Balance'\n",
       "54. 'Shot.Power'\n",
       "55. 'Jumping'\n",
       "56. 'Stamina'\n",
       "57. 'Strength'\n",
       "58. 'Long.Shots'\n",
       "59. 'Aggression'\n",
       "60. 'Interceptions'\n",
       "61. 'Positioning'\n",
       "62. 'Vision'\n",
       "63. 'Penalties'\n",
       "64. 'Composure'\n",
       "65. 'Marking'\n",
       "66. 'Standing.Tackle'\n",
       "67. 'Sliding.Tackle'\n",
       "68. 'Goalkeeper.Diving'\n",
       "69. 'Goalkeeper.Handling'\n",
       "70. 'GoalkeeperKicking'\n",
       "71. 'Goalkeeper.Positioning'\n",
       "72. 'Goalkeeper.Reflexes'\n",
       "73. 'ST.Rating'\n",
       "74. 'LW.Rating'\n",
       "75. 'LF.Rating'\n",
       "76. 'CF.Rating'\n",
       "77. 'RF.Rating'\n",
       "78. 'RW.Rating'\n",
       "79. 'CAM.Rating'\n",
       "80. 'LM.Rating'\n",
       "81. 'CM.Rating'\n",
       "82. 'RM.Rating'\n",
       "83. 'LWB.Rating'\n",
       "84. 'CDM.Rating'\n",
       "85. 'RWB.Rating'\n",
       "86. 'LB.Rating'\n",
       "87. 'CB.Rating'\n",
       "88. 'RB.Rating'\n",
       "89. 'GK.Rating'\n",
       "\n",
       "\n"
      ],
      "text/plain": [
       " [1] \"Known.As\"                    \"Full.Name\"                  \n",
       " [3] \"Overall\"                     \"Potential\"                  \n",
       " [5] \"Value.in.Euro.\"              \"Positions.Played\"           \n",
       " [7] \"Best.Position\"               \"Nationality\"                \n",
       " [9] \"Image.Link\"                  \"Age\"                        \n",
       "[11] \"Height.in.cm.\"               \"Weight.in.kg.\"              \n",
       "[13] \"TotalStats\"                  \"BaseStats\"                  \n",
       "[15] \"Club.Name\"                   \"Wage.in.Euro.\"              \n",
       "[17] \"Release.Clause\"              \"Club.Position\"              \n",
       "[19] \"Contract.Until\"              \"Club.Jersey.Number\"         \n",
       "[21] \"Joined.On\"                   \"On.Loan\"                    \n",
       "[23] \"Preferred.Foot\"              \"Weak.Foot.Rating\"           \n",
       "[25] \"Skill.Moves\"                 \"International.Reputation\"   \n",
       "[27] \"National.Team.Name\"          \"National.Team.Image.Link\"   \n",
       "[29] \"National.Team.Position\"      \"National.Team.Jersey.Number\"\n",
       "[31] \"Attacking.Work.Rate\"         \"Defensive.Work.Rate\"        \n",
       "[33] \"Pace.Total\"                  \"Shooting.Total\"             \n",
       "[35] \"Passing.Total\"               \"Dribbling.Total\"            \n",
       "[37] \"Defending.Total\"             \"Physicality.Total\"          \n",
       "[39] \"Crossing\"                    \"Finishing\"                  \n",
       "[41] \"Heading.Accuracy\"            \"Short.Passing\"              \n",
       "[43] \"Volleys\"                     \"Dribbling\"                  \n",
       "[45] \"Curve\"                       \"Freekick.Accuracy\"          \n",
       "[47] \"LongPassing\"                 \"BallControl\"                \n",
       "[49] \"Acceleration\"                \"Sprint.Speed\"               \n",
       "[51] \"Agility\"                     \"Reactions\"                  \n",
       "[53] \"Balance\"                     \"Shot.Power\"                 \n",
       "[55] \"Jumping\"                     \"Stamina\"                    \n",
       "[57] \"Strength\"                    \"Long.Shots\"                 \n",
       "[59] \"Aggression\"                  \"Interceptions\"              \n",
       "[61] \"Positioning\"                 \"Vision\"                     \n",
       "[63] \"Penalties\"                   \"Composure\"                  \n",
       "[65] \"Marking\"                     \"Standing.Tackle\"            \n",
       "[67] \"Sliding.Tackle\"              \"Goalkeeper.Diving\"          \n",
       "[69] \"Goalkeeper.Handling\"         \"GoalkeeperKicking\"          \n",
       "[71] \"Goalkeeper.Positioning\"      \"Goalkeeper.Reflexes\"        \n",
       "[73] \"ST.Rating\"                   \"LW.Rating\"                  \n",
       "[75] \"LF.Rating\"                   \"CF.Rating\"                  \n",
       "[77] \"RF.Rating\"                   \"RW.Rating\"                  \n",
       "[79] \"CAM.Rating\"                  \"LM.Rating\"                  \n",
       "[81] \"CM.Rating\"                   \"RM.Rating\"                  \n",
       "[83] \"LWB.Rating\"                  \"CDM.Rating\"                 \n",
       "[85] \"RWB.Rating\"                  \"LB.Rating\"                  \n",
       "[87] \"CB.Rating\"                   \"RB.Rating\"                  \n",
       "[89] \"GK.Rating\"                  "
      ]
     },
     "metadata": {},
     "output_type": "display_data"
    }
   ],
   "source": [
    "colnames(players)"
   ]
  },
  {
   "cell_type": "code",
   "execution_count": 5,
   "id": "8666bb81",
   "metadata": {},
   "outputs": [
    {
     "data": {
      "text/html": [
       "<table>\n",
       "<thead><tr><th scope=col>Wage.in.Euro.</th><th scope=col>Skill.Moves</th><th scope=col>International.Reputation</th><th scope=col>Value.in.Euro.</th></tr></thead>\n",
       "<tbody>\n",
       "\t<tr><td>195000   </td><td>4        </td><td>5        </td><td> 54000000</td></tr>\n",
       "\t<tr><td>450000   </td><td>4        </td><td>4        </td><td> 64000000</td></tr>\n",
       "\t<tr><td>420000   </td><td>4        </td><td>5        </td><td> 84000000</td></tr>\n",
       "\t<tr><td>350000   </td><td>4        </td><td>4        </td><td>107500000</td></tr>\n",
       "\t<tr><td>230000   </td><td>5        </td><td>4        </td><td>190500000</td></tr>\n",
       "\t<tr><td>270000   </td><td>4        </td><td>4        </td><td>115500000</td></tr>\n",
       "</tbody>\n",
       "</table>\n"
      ],
      "text/latex": [
       "\\begin{tabular}{r|llll}\n",
       " Wage.in.Euro. & Skill.Moves & International.Reputation & Value.in.Euro.\\\\\n",
       "\\hline\n",
       "\t 195000    & 4         & 5         &  54000000\\\\\n",
       "\t 450000    & 4         & 4         &  64000000\\\\\n",
       "\t 420000    & 4         & 5         &  84000000\\\\\n",
       "\t 350000    & 4         & 4         & 107500000\\\\\n",
       "\t 230000    & 5         & 4         & 190500000\\\\\n",
       "\t 270000    & 4         & 4         & 115500000\\\\\n",
       "\\end{tabular}\n"
      ],
      "text/markdown": [
       "\n",
       "| Wage.in.Euro. | Skill.Moves | International.Reputation | Value.in.Euro. |\n",
       "|---|---|---|---|\n",
       "| 195000    | 4         | 5         |  54000000 |\n",
       "| 450000    | 4         | 4         |  64000000 |\n",
       "| 420000    | 4         | 5         |  84000000 |\n",
       "| 350000    | 4         | 4         | 107500000 |\n",
       "| 230000    | 5         | 4         | 190500000 |\n",
       "| 270000    | 4         | 4         | 115500000 |\n",
       "\n"
      ],
      "text/plain": [
       "  Wage.in.Euro. Skill.Moves International.Reputation Value.in.Euro.\n",
       "1 195000        4           5                         54000000     \n",
       "2 450000        4           4                         64000000     \n",
       "3 420000        4           5                         84000000     \n",
       "4 350000        4           4                        107500000     \n",
       "5 230000        5           4                        190500000     \n",
       "6 270000        4           4                        115500000     "
      ]
     },
     "metadata": {},
     "output_type": "display_data"
    },
    {
     "data": {
      "text/html": [
       "<ol class=list-inline>\n",
       "\t<li>18539</li>\n",
       "\t<li>4</li>\n",
       "</ol>\n"
      ],
      "text/latex": [
       "\\begin{enumerate*}\n",
       "\\item 18539\n",
       "\\item 4\n",
       "\\end{enumerate*}\n"
      ],
      "text/markdown": [
       "1. 18539\n",
       "2. 4\n",
       "\n",
       "\n"
      ],
      "text/plain": [
       "[1] 18539     4"
      ]
     },
     "metadata": {},
     "output_type": "display_data"
    }
   ],
   "source": [
    "wageskill <- players[c('Wage.in.Euro.', 'Skill.Moves', 'International.Reputation', 'Value.in.Euro.')]\n",
    "head(wageskill)\n",
    "dim(wageskill)"
   ]
  },
  {
   "cell_type": "code",
   "execution_count": 6,
   "id": "d10edf53",
   "metadata": {},
   "outputs": [
    {
     "data": {
      "text/html": [
       "<table>\n",
       "<thead><tr><th scope=col>Wage</th><th scope=col>Skill.Moves</th><th scope=col>International.Reputation</th><th scope=col>Value</th></tr></thead>\n",
       "<tbody>\n",
       "\t<tr><td>195000   </td><td>4        </td><td>5        </td><td> 54000000</td></tr>\n",
       "\t<tr><td>450000   </td><td>4        </td><td>4        </td><td> 64000000</td></tr>\n",
       "\t<tr><td>420000   </td><td>4        </td><td>5        </td><td> 84000000</td></tr>\n",
       "\t<tr><td>350000   </td><td>4        </td><td>4        </td><td>107500000</td></tr>\n",
       "\t<tr><td>230000   </td><td>5        </td><td>4        </td><td>190500000</td></tr>\n",
       "\t<tr><td>270000   </td><td>4        </td><td>4        </td><td>115500000</td></tr>\n",
       "</tbody>\n",
       "</table>\n"
      ],
      "text/latex": [
       "\\begin{tabular}{r|llll}\n",
       " Wage & Skill.Moves & International.Reputation & Value\\\\\n",
       "\\hline\n",
       "\t 195000    & 4         & 5         &  54000000\\\\\n",
       "\t 450000    & 4         & 4         &  64000000\\\\\n",
       "\t 420000    & 4         & 5         &  84000000\\\\\n",
       "\t 350000    & 4         & 4         & 107500000\\\\\n",
       "\t 230000    & 5         & 4         & 190500000\\\\\n",
       "\t 270000    & 4         & 4         & 115500000\\\\\n",
       "\\end{tabular}\n"
      ],
      "text/markdown": [
       "\n",
       "| Wage | Skill.Moves | International.Reputation | Value |\n",
       "|---|---|---|---|\n",
       "| 195000    | 4         | 5         |  54000000 |\n",
       "| 450000    | 4         | 4         |  64000000 |\n",
       "| 420000    | 4         | 5         |  84000000 |\n",
       "| 350000    | 4         | 4         | 107500000 |\n",
       "| 230000    | 5         | 4         | 190500000 |\n",
       "| 270000    | 4         | 4         | 115500000 |\n",
       "\n"
      ],
      "text/plain": [
       "  Wage   Skill.Moves International.Reputation Value    \n",
       "1 195000 4           5                         54000000\n",
       "2 450000 4           4                         64000000\n",
       "3 420000 4           5                         84000000\n",
       "4 350000 4           4                        107500000\n",
       "5 230000 5           4                        190500000\n",
       "6 270000 4           4                        115500000"
      ]
     },
     "metadata": {},
     "output_type": "display_data"
    }
   ],
   "source": [
    "colnames(wageskill)[1] <- \"Wage\"\n",
    "colnames(wageskill)[4] <- \"Value\"\n",
    "head(wageskill)"
   ]
  },
  {
   "cell_type": "code",
   "execution_count": 7,
   "id": "6ff83324",
   "metadata": {},
   "outputs": [
    {
     "data": {
      "text/plain": [
       "      Wage         Skill.Moves    International.Reputation     Value          \n",
       " Min.   :     0   Min.   :1.000   Min.   :1.000            Min.   :        0  \n",
       " 1st Qu.:  1000   1st Qu.:2.000   1st Qu.:1.000            1st Qu.:   475000  \n",
       " Median :  3000   Median :2.000   Median :1.000            Median :  1000000  \n",
       " Mean   :  8824   Mean   :2.366   Mean   :1.086            Mean   :  2875461  \n",
       " 3rd Qu.:  8000   3rd Qu.:3.000   3rd Qu.:1.000            3rd Qu.:  2000000  \n",
       " Max.   :450000   Max.   :5.000   Max.   :5.000            Max.   :190500000  "
      ]
     },
     "metadata": {},
     "output_type": "display_data"
    }
   ],
   "source": [
    "summary(wageskill)"
   ]
  },
  {
   "cell_type": "code",
   "execution_count": null,
   "id": "1d75d93e",
   "metadata": {},
   "outputs": [],
   "source": []
  },
  {
   "cell_type": "code",
   "execution_count": 10,
   "id": "78a63812",
   "metadata": {},
   "outputs": [
    {
     "data": {
      "image/png": "[encoded data removed]",
      "text/plain": [
       "plot without title"
      ]
     },
     "metadata": {},
     "output_type": "display_data"
    },
    {
     "data": {
      "image/png": "[encoded data removed]",
      "text/plain": [
       "plot without title"
      ]
     },
     "metadata": {},
     "output_type": "display_data"
    }
   ],
   "source": [
    "options(repr.plot.width = 5, repr.plot.height = 5) \n",
    "#Create the histogram\n",
    "histogram <- ggplot(wageskill, aes(x = Wage)) + \n",
    "  geom_histogram(binwidth = 1, color = \"black\", fill = \"lightpink\") +\n",
    "  \n",
    "  # Add axis labels and adjust tick marks\n",
    "  labs(x = \"Wage\", y = \"Count\", title = \"Distribution of Wage\") +\n",
    "  scale_x_continuous(breaks = seq(0, 450000, by = 50000)) +\n",
    "  scale_y_continuous(breaks = seq(0, 3000, by = 500)) +\n",
    "\n",
    "  # Adjust the size of the plot and labels\n",
    "  theme(plot.title = element_text(size = 15, face = \"bold\", hjust = 0.5),\n",
    "        axis.title = element_text(size = 10),\n",
    "        axis.text = element_text(size = 10)) \n",
    "\n",
    "#Create the boxplot\n",
    "boxplot <- ggplot(wageskill, aes(x = \"\", y = Wage)) +\n",
    "  geom_boxplot(color = \"black\", fill = \"purple\") +\n",
    "\n",
    "  # Add axis labels and adjust tick marks\n",
    "  labs(x = \"\", y = \"Wage\", title = \"Boxplot of Wage\") +\n",
    "  scale_y_continuous(breaks = seq(0, 450000, by = 50000)) +\n",
    "\n",
    "  # Adjust the size of the plot and labels\n",
    "  theme(plot.title = element_text(size = 15, face = \"bold\", hjust = 0.5),\n",
    "        axis.title = element_text(size = 10),\n",
    "        axis.text = element_text(size = 10)) +\n",
    "  coord_flip() \n",
    "\n",
    "plot(histogram)\n",
    "plot(boxplot)"
   ]
  },
  {
   "cell_type": "markdown",
   "id": "43fd60d3",
   "metadata": {},
   "source": [
    "As we can see from the plot above, the distribution of Wage is very, very skewed. Thus, we have to perform log transformation to the data. "
   ]
  },
  {
   "cell_type": "code",
   "execution_count": 12,
   "id": "1a42296e",
   "metadata": {},
   "outputs": [
    {
     "data": {
      "text/html": [
       "<dl class=dl-horizontal>\n",
       "\t<dt>Wage</dt>\n",
       "\t\t<dd>92</dd>\n",
       "\t<dt>Skill.Moves</dt>\n",
       "\t\t<dd>0</dd>\n",
       "\t<dt>International.Reputation</dt>\n",
       "\t\t<dd>0</dd>\n",
       "\t<dt>Value</dt>\n",
       "\t\t<dd>104</dd>\n",
       "</dl>\n"
      ],
      "text/latex": [
       "\\begin{description*}\n",
       "\\item[Wage] 92\n",
       "\\item[Skill.Moves] 0\n",
       "\\item[International.Reputation] 0\n",
       "\\item[Value] 104\n",
       "\\end{description*}\n"
      ],
      "text/markdown": [
       "Wage\n",
       ":   92Skill.Moves\n",
       ":   0International.Reputation\n",
       ":   0Value\n",
       ":   104\n",
       "\n"
      ],
      "text/plain": [
       "                    Wage              Skill.Moves International.Reputation \n",
       "                      92                        0                        0 \n",
       "                   Value \n",
       "                     104 "
      ]
     },
     "metadata": {},
     "output_type": "display_data"
    },
    {
     "data": {
      "text/html": [
       "<dl class=dl-horizontal>\n",
       "\t<dt>Wage</dt>\n",
       "\t\t<dd>0</dd>\n",
       "\t<dt>Skill.Moves</dt>\n",
       "\t\t<dd>0</dd>\n",
       "\t<dt>International.Reputation</dt>\n",
       "\t\t<dd>0</dd>\n",
       "\t<dt>Value</dt>\n",
       "\t\t<dd>0</dd>\n",
       "</dl>\n"
      ],
      "text/latex": [
       "\\begin{description*}\n",
       "\\item[Wage] 0\n",
       "\\item[Skill.Moves] 0\n",
       "\\item[International.Reputation] 0\n",
       "\\item[Value] 0\n",
       "\\end{description*}\n"
      ],
      "text/markdown": [
       "Wage\n",
       ":   0Skill.Moves\n",
       ":   0International.Reputation\n",
       ":   0Value\n",
       ":   0\n",
       "\n"
      ],
      "text/plain": [
       "                    Wage              Skill.Moves International.Reputation \n",
       "                       0                        0                        0 \n",
       "                   Value \n",
       "                       0 "
      ]
     },
     "metadata": {},
     "output_type": "display_data"
    }
   ],
   "source": [
    "#Check for zero & null values\n",
    "colSums(wageskill==0)\n",
    "colSums(is.na(wageskill))"
   ]
  },
  {
   "cell_type": "markdown",
   "id": "33987d92",
   "metadata": {},
   "source": [
    "There are 92 zero values in Wage and 104 zero values in Value. Hence, we have to remove the zero values to perform log transformation."
   ]
  },
  {
   "cell_type": "code",
   "execution_count": 23,
   "id": "ff5ee450",
   "metadata": {},
   "outputs": [
    {
     "data": {
      "text/html": [
       "<ol class=list-inline>\n",
       "\t<li>18539</li>\n",
       "\t<li>4</li>\n",
       "</ol>\n"
      ],
      "text/latex": [
       "\\begin{enumerate*}\n",
       "\\item 18539\n",
       "\\item 4\n",
       "\\end{enumerate*}\n"
      ],
      "text/markdown": [
       "1. 18539\n",
       "2. 4\n",
       "\n",
       "\n"
      ],
      "text/plain": [
       "[1] 18539     4"
      ]
     },
     "metadata": {},
     "output_type": "display_data"
    },
    {
     "data": {
      "text/html": [
       "<ol class=list-inline>\n",
       "\t<li>18435</li>\n",
       "\t<li>4</li>\n",
       "</ol>\n"
      ],
      "text/latex": [
       "\\begin{enumerate*}\n",
       "\\item 18435\n",
       "\\item 4\n",
       "\\end{enumerate*}\n"
      ],
      "text/markdown": [
       "1. 18435\n",
       "2. 4\n",
       "\n",
       "\n"
      ],
      "text/plain": [
       "[1] 18435     4"
      ]
     },
     "metadata": {},
     "output_type": "display_data"
    },
    {
     "data": {
      "text/html": [
       "<dl class=dl-horizontal>\n",
       "\t<dt>Wage</dt>\n",
       "\t\t<dd>0</dd>\n",
       "\t<dt>Skill.Moves</dt>\n",
       "\t\t<dd>0</dd>\n",
       "\t<dt>International.Reputation</dt>\n",
       "\t\t<dd>0</dd>\n",
       "\t<dt>Value</dt>\n",
       "\t\t<dd>0</dd>\n",
       "</dl>\n"
      ],
      "text/latex": [
       "\\begin{description*}\n",
       "\\item[Wage] 0\n",
       "\\item[Skill.Moves] 0\n",
       "\\item[International.Reputation] 0\n",
       "\\item[Value] 0\n",
       "\\end{description*}\n"
      ],
      "text/markdown": [
       "Wage\n",
       ":   0Skill.Moves\n",
       ":   0International.Reputation\n",
       ":   0Value\n",
       ":   0\n",
       "\n"
      ],
      "text/plain": [
       "                    Wage              Skill.Moves International.Reputation \n",
       "                       0                        0                        0 \n",
       "                   Value \n",
       "                       0 "
      ]
     },
     "metadata": {},
     "output_type": "display_data"
    }
   ],
   "source": [
    "#Remove data with Value == 0\n",
    "zero_rm_wageskill <- wageskill[wageskill$Value != 0, ]\n",
    "dim(wageskill)\n",
    "dim(zero_rm_wageskill)\n",
    "colSums(zero_rm_wageskill==0)"
   ]
  },
  {
   "cell_type": "code",
   "execution_count": 24,
   "id": "5d27a6ad",
   "metadata": {},
   "outputs": [
    {
     "data": {
      "text/plain": [
       "   Min. 1st Qu.  Median    Mean 3rd Qu.    Max. \n",
       "  6.215   6.908   8.006   8.057   8.987  13.017 "
      ]
     },
     "metadata": {},
     "output_type": "display_data"
    }
   ],
   "source": [
    "#Log transformation of the Wage\n",
    "zero_rm_wageskill$Wage_log <- log(zero_rm_wageskill$Wage)\n",
    "summary(zero_rm_wageskill$Wage_log)"
   ]
  },
  {
   "cell_type": "code",
   "execution_count": 27,
   "id": "e7e97932",
   "metadata": {},
   "outputs": [
    {
     "data": {
      "text/plain": [
       "List of 3\n",
       " $ axis.title:List of 11\n",
       "  ..$ family       : NULL\n",
       "  ..$ face         : NULL\n",
       "  ..$ colour       : NULL\n",
       "  ..$ size         : num 18\n",
       "  ..$ hjust        : NULL\n",
       "  ..$ vjust        : NULL\n",
       "  ..$ angle        : NULL\n",
       "  ..$ lineheight   : NULL\n",
       "  ..$ margin       : NULL\n",
       "  ..$ debug        : NULL\n",
       "  ..$ inherit.blank: logi FALSE\n",
       "  ..- attr(*, \"class\")= chr [1:2] \"element_text\" \"element\"\n",
       " $ axis.text :List of 11\n",
       "  ..$ family       : NULL\n",
       "  ..$ face         : NULL\n",
       "  ..$ colour       : NULL\n",
       "  ..$ size         : num 18\n",
       "  ..$ hjust        : NULL\n",
       "  ..$ vjust        : NULL\n",
       "  ..$ angle        : NULL\n",
       "  ..$ lineheight   : NULL\n",
       "  ..$ margin       : NULL\n",
       "  ..$ debug        : NULL\n",
       "  ..$ inherit.blank: logi FALSE\n",
       "  ..- attr(*, \"class\")= chr [1:2] \"element_text\" \"element\"\n",
       " $ plot.title:List of 11\n",
       "  ..$ family       : NULL\n",
       "  ..$ face         : chr \"bold\"\n",
       "  ..$ colour       : NULL\n",
       "  ..$ size         : num 20\n",
       "  ..$ hjust        : num 0.5\n",
       "  ..$ vjust        : NULL\n",
       "  ..$ angle        : NULL\n",
       "  ..$ lineheight   : NULL\n",
       "  ..$ margin       : NULL\n",
       "  ..$ debug        : NULL\n",
       "  ..$ inherit.blank: logi FALSE\n",
       "  ..- attr(*, \"class\")= chr [1:2] \"element_text\" \"element\"\n",
       " - attr(*, \"class\")= chr [1:2] \"theme\" \"gg\"\n",
       " - attr(*, \"complete\")= logi FALSE\n",
       " - attr(*, \"validate\")= logi TRUE"
      ]
     },
     "metadata": {},
     "output_type": "display_data"
    },
    {
     "data": {
      "image/png": "[encoded data removed]",
      "text/plain": [
       "plot without title"
      ]
     },
     "metadata": {},
     "output_type": "display_data"
    },
    {
     "data": {
      "image/png": "[encoded data removed]",
      "text/plain": [
       "plot without title"
      ]
     },
     "metadata": {},
     "output_type": "display_data"
    }
   ],
   "source": [
    "#Create the histogram\n",
    "histogram <- ggplot(zero_rm_wageskill, aes(x = Wage_log)) + \n",
    "  geom_histogram(binwidth = 1, color = \"black\", fill = \"lightpink\") +\n",
    "  \n",
    "  # Add axis labels and adjust tick marks\n",
    "  labs(x = \"Wage_log\", y = \"Count\", title = \"Distribution of Wage_log\") +\n",
    "  scale_x_continuous(breaks = seq(5, 15, by = 1))\n",
    "\n",
    "  # Adjust the size of the plot and labels\n",
    "  theme(plot.title = element_text(size = 20, face = \"bold\", hjust = 0.5),\n",
    "        axis.title = element_text(size = 18),\n",
    "        axis.text = element_text(size = 18)) \n",
    "\n",
    "#Create the boxplot\n",
    "boxplot <- ggplot(zero_rm_wageskill, aes(x = \"\", y = Wage_log)) +\n",
    "  geom_boxplot(color = \"black\", fill = \"purple\") +\n",
    "\n",
    "  # Add axis labels and adjust tick marks\n",
    "  labs(x = \"\", y = \"Wage_log\", title = \"Boxplot of Wage\") +\n",
    "  scale_y_continuous(breaks = seq(5, 15, by = 1)) +\n",
    "\n",
    "  # Adjust the size of the plot and labels\n",
    "  theme(plot.title = element_text(size = 20, face = \"bold\", hjust = 0.5),\n",
    "        axis.title = element_text(size = 18),\n",
    "        axis.text = element_text(size = 18)) +\n",
    "  coord_flip() \n",
    "\n",
    "plot(histogram)\n",
    "plot(boxplot)"
   ]
  },
  {
   "cell_type": "markdown",
   "id": "820ddd46",
   "metadata": {},
   "source": [
    "Now the Distribution of Wage is at least more visible and clearer."
   ]
  },
  {
   "cell_type": "code",
   "execution_count": 38,
   "id": "ccbf6b97",
   "metadata": {},
   "outputs": [
    {
     "data": {
      "text/plain": [
       "List of 3\n",
       " $ axis.title:List of 11\n",
       "  ..$ family       : NULL\n",
       "  ..$ face         : NULL\n",
       "  ..$ colour       : NULL\n",
       "  ..$ size         : num 18\n",
       "  ..$ hjust        : NULL\n",
       "  ..$ vjust        : NULL\n",
       "  ..$ angle        : NULL\n",
       "  ..$ lineheight   : NULL\n",
       "  ..$ margin       : NULL\n",
       "  ..$ debug        : NULL\n",
       "  ..$ inherit.blank: logi FALSE\n",
       "  ..- attr(*, \"class\")= chr [1:2] \"element_text\" \"element\"\n",
       " $ axis.text :List of 11\n",
       "  ..$ family       : NULL\n",
       "  ..$ face         : NULL\n",
       "  ..$ colour       : NULL\n",
       "  ..$ size         : num 18\n",
       "  ..$ hjust        : NULL\n",
       "  ..$ vjust        : NULL\n",
       "  ..$ angle        : NULL\n",
       "  ..$ lineheight   : NULL\n",
       "  ..$ margin       : NULL\n",
       "  ..$ debug        : NULL\n",
       "  ..$ inherit.blank: logi FALSE\n",
       "  ..- attr(*, \"class\")= chr [1:2] \"element_text\" \"element\"\n",
       " $ plot.title:List of 11\n",
       "  ..$ family       : NULL\n",
       "  ..$ face         : chr \"bold\"\n",
       "  ..$ colour       : NULL\n",
       "  ..$ size         : num 20\n",
       "  ..$ hjust        : num 0.5\n",
       "  ..$ vjust        : NULL\n",
       "  ..$ angle        : NULL\n",
       "  ..$ lineheight   : NULL\n",
       "  ..$ margin       : NULL\n",
       "  ..$ debug        : NULL\n",
       "  ..$ inherit.blank: logi FALSE\n",
       "  ..- attr(*, \"class\")= chr [1:2] \"element_text\" \"element\"\n",
       " - attr(*, \"class\")= chr [1:2] \"theme\" \"gg\"\n",
       " - attr(*, \"complete\")= logi FALSE\n",
       " - attr(*, \"validate\")= logi TRUE"
      ]
     },
     "metadata": {},
     "output_type": "display_data"
    },
    {
     "data": {
      "image/png": "[encoded data removed]",
      "text/plain": [
       "plot without title"
      ]
     },
     "metadata": {},
     "output_type": "display_data"
    },
    {
     "data": {
      "image/png": "[encoded data removed]",
      "text/plain": [
       "plot without title"
      ]
     },
     "metadata": {},
     "output_type": "display_data"
    }
   ],
   "source": [
    "#Create the histogram\n",
    "histogram <- ggplot(wageskill, aes(x = Skill.Moves)) + \n",
    "  geom_histogram(binwidth = 1, color = \"black\", fill = \"lightpink\") +\n",
    "  \n",
    "  # Add axis labels and adjust tick marks\n",
    "  labs(x = \"Skill Moves\", y = \"Count\", title = \"Distribution of Skill Moves\") +\n",
    "  scale_x_continuous(breaks = seq(0, 5, by = 1))\n",
    "\n",
    "  # Adjust the size of the plot and labels\n",
    "  theme(plot.title = element_text(size = 20, face = \"bold\", hjust = 0.5),\n",
    "        axis.title = element_text(size = 18),\n",
    "        axis.text = element_text(size = 18)) \n",
    "\n",
    "#Create the boxplot\n",
    "boxplot <- ggplot(wageskill, aes(x = \"\", y = Skill.Moves)) +\n",
    "  geom_boxplot(color = \"black\", fill = \"purple\") +\n",
    "\n",
    "  # Add axis labels and adjust tick marks\n",
    "  labs(x = \"\", y = \"Skill Moves\", title = \"Boxplot of Skill Moves\") +\n",
    "  scale_y_continuous(breaks = seq(1, 5, by = 1)) +\n",
    "\n",
    "  # Adjust the size of the plot and labels\n",
    "  theme(plot.title = element_text(size = 20, face = \"bold\", hjust = 0.5),\n",
    "        axis.title = element_text(size = 18),\n",
    "        axis.text = element_text(size = 18)) +\n",
    "  coord_flip() \n",
    "\n",
    "plot(histogram)\n",
    "plot(boxplot)"
   ]
  },
  {
   "cell_type": "markdown",
   "id": "943b6e87",
   "metadata": {},
   "source": [
    "We can see that the distribution of SKill Moves is slightly right skewed."
   ]
  },
  {
   "cell_type": "code",
   "execution_count": 44,
   "id": "07079e6b",
   "metadata": {},
   "outputs": [
    {
     "data": {
      "image/png": "[encoded data removed]",
      "text/plain": [
       "plot without title"
      ]
     },
     "metadata": {},
     "output_type": "display_data"
    },
    {
     "data": {
      "image/png": "[encoded data removed]",
      "text/plain": [
       "plot without title"
      ]
     },
     "metadata": {},
     "output_type": "display_data"
    }
   ],
   "source": [
    "#Create the histogram\n",
    "histogram <- ggplot(wageskill, aes(x = International.Reputation)) + \n",
    "  geom_histogram(binwidth = 1, color = \"black\", fill = \"lightblue\") +\n",
    "  \n",
    "  # Add axis labels and adjust tick marks\n",
    "  labs(x = \"International Reputation\", y = \"Count\", title = \"Distribution of International Reputation\") +\n",
    "  scale_x_continuous(breaks = seq(0, 5, by = 1)) + \n",
    "\n",
    "  # Adjust the size of the plot and labels\n",
    "  theme(plot.title = element_text(size = 15, face = \"bold\", hjust = 0.5),\n",
    "        axis.title = element_text(size = 12),\n",
    "        axis.text = element_text(size = 12)) \n",
    "\n",
    "#Create the boxplot\n",
    "boxplot <- ggplot(wageskill, aes(x = \"\", y = International.Reputation)) +\n",
    "  geom_boxplot(color = \"black\", fill = \"lightgreen\") +\n",
    "\n",
    "  # Add axis labels and adjust tick marks\n",
    "  labs(x = \"\", y = \"International Reputation\", title = \"Boxplot of International Reputation\") +\n",
    "  scale_y_continuous(breaks = seq(0, 5, by = 1)) +\n",
    "\n",
    "  # Adjust the size of the plot and labels\n",
    "  theme(plot.title = element_text(size = 15, face = \"bold\", hjust = 0.5),\n",
    "        axis.title = element_text(size = 12),\n",
    "        axis.text = element_text(size = 12)) +\n",
    "  coord_flip() \n",
    "\n",
    "plot(histogram)\n",
    "plot(boxplot)"
   ]
  },
  {
   "cell_type": "markdown",
   "id": "d21d0de4",
   "metadata": {},
   "source": [
    "The distribution of International Reputation is very right skewed."
   ]
  },
  {
   "cell_type": "code",
   "execution_count": 50,
   "id": "c8512767",
   "metadata": {},
   "outputs": [
    {
     "data": {
      "image/png": "[encoded data removed]",
      "text/plain": [
       "plot without title"
      ]
     },
     "metadata": {},
     "output_type": "display_data"
    }
   ],
   "source": [
    "#Create the histogram\n",
    "histogram <- ggplot(wageskill, aes(x = Value)) + \n",
    "  geom_histogram(binwidth = 500000, color = \"black\", fill = \"lightpink\") +\n",
    "  \n",
    "  # Add axis labels and adjust tick marks\n",
    "  labs(x = \"Value\", y = \"Count\", title = \"Distribution of Value\") +\n",
    "#   scale_x_continuous(breaks = seq(45, 95, by = 5)) + \n",
    "\n",
    "  # Adjust the size of the plot and labels\n",
    "  theme(plot.title = element_text(size = 20, face = \"bold\", hjust = 0.5),\n",
    "        axis.title = element_text(size = 12),\n",
    "        axis.text = element_text(size = 12)) \n",
    "\n",
    "#Create the boxplot\n",
    "# boxplot <- ggplot(data, aes(x = \"\", y = Value)) +\n",
    "#   geom_boxplot(color = \"black\", fill = \"lightgreen\") +\n",
    "\n",
    "#   # Add axis labels and adjust tick marks\n",
    "#   labs(x = \"\", y = \"Value\", title = \"Boxplot of Value\") +\n",
    "#   scale_y_continuous(breaks = seq(45, 95, by = 5)) +\n",
    "\n",
    "#   # Adjust the size of the plot and labels\n",
    "#   theme(plot.title = element_text(size = 20, face = \"bold\", hjust = 0.5),\n",
    "#         axis.title = element_text(size = 18),\n",
    "#         axis.text = element_text(size = 18)) +\n",
    "#   coord_flip() \n",
    "\n",
    "plot(histogram)\n",
    "# plot(boxplot)"
   ]
  },
  {
   "cell_type": "markdown",
   "id": "eaa2529e",
   "metadata": {},
   "source": [
    "The value distribution is also very right skewed. Since we have already removed the zero values for Value previously, we now will perform log transformation for Value."
   ]
  },
  {
   "cell_type": "code",
   "execution_count": 53,
   "id": "68b07be1",
   "metadata": {},
   "outputs": [
    {
     "data": {
      "text/html": [
       "<ol class=list-inline>\n",
       "\t<li>18435</li>\n",
       "\t<li>5</li>\n",
       "</ol>\n"
      ],
      "text/latex": [
       "\\begin{enumerate*}\n",
       "\\item 18435\n",
       "\\item 5\n",
       "\\end{enumerate*}\n"
      ],
      "text/markdown": [
       "1. 18435\n",
       "2. 5\n",
       "\n",
       "\n"
      ],
      "text/plain": [
       "[1] 18435     5"
      ]
     },
     "metadata": {},
     "output_type": "display_data"
    },
    {
     "data": {
      "text/html": [
       "<dl class=dl-horizontal>\n",
       "\t<dt>Wage</dt>\n",
       "\t\t<dd>0</dd>\n",
       "\t<dt>Skill.Moves</dt>\n",
       "\t\t<dd>0</dd>\n",
       "\t<dt>International.Reputation</dt>\n",
       "\t\t<dd>0</dd>\n",
       "\t<dt>Value</dt>\n",
       "\t\t<dd>0</dd>\n",
       "\t<dt>Wage_log</dt>\n",
       "\t\t<dd>0</dd>\n",
       "</dl>\n"
      ],
      "text/latex": [
       "\\begin{description*}\n",
       "\\item[Wage] 0\n",
       "\\item[Skill.Moves] 0\n",
       "\\item[International.Reputation] 0\n",
       "\\item[Value] 0\n",
       "\\item[Wage\\textbackslash{}\\_log] 0\n",
       "\\end{description*}\n"
      ],
      "text/markdown": [
       "Wage\n",
       ":   0Skill.Moves\n",
       ":   0International.Reputation\n",
       ":   0Value\n",
       ":   0Wage_log\n",
       ":   0\n",
       "\n"
      ],
      "text/plain": [
       "                    Wage              Skill.Moves International.Reputation \n",
       "                       0                        0                        0 \n",
       "                   Value                 Wage_log \n",
       "                       0                        0 "
      ]
     },
     "metadata": {},
     "output_type": "display_data"
    }
   ],
   "source": [
    "dim(zero_rm_wageskill)\n",
    "colSums(zero_rm_wageskill == 0)"
   ]
  },
  {
   "cell_type": "code",
   "execution_count": 54,
   "id": "6fb867ba",
   "metadata": {},
   "outputs": [
    {
     "data": {
      "text/plain": [
       "   Min. 1st Qu.  Median    Mean 3rd Qu.    Max. \n",
       "  9.105  13.122  13.816  13.894  14.509  19.065 "
      ]
     },
     "metadata": {},
     "output_type": "display_data"
    }
   ],
   "source": [
    "#Log transformation of the Value\n",
    "zero_rm_wageskill$Value_log <- log(zero_rm_wageskill$Value)\n",
    "summary(zero_rm_wageskill$Value_log)"
   ]
  },
  {
   "cell_type": "code",
   "execution_count": 55,
   "id": "51648c54",
   "metadata": {},
   "outputs": [
    {
     "data": {
      "image/png": "[encoded data removed]",
      "text/plain": [
       "plot without title"
      ]
     },
     "metadata": {},
     "output_type": "display_data"
    },
    {
     "data": {
      "image/png": "[encoded data removed]",
      "text/plain": [
       "plot without title"
      ]
     },
     "metadata": {},
     "output_type": "display_data"
    }
   ],
   "source": [
    "#Create the histogram\n",
    "histogram <- ggplot(zero_rm_wageskill, aes(x = Value_log)) + \n",
    "  geom_histogram(binwidth = 0.5, color = \"black\", fill = \"lightpink\") +\n",
    "  \n",
    "  # Add axis labels and adjust tick marks\n",
    "  labs(x = \"Value_log\", y = \"Count\", title = \"Distribution of Value_log\") +\n",
    "  scale_x_continuous(breaks = seq(8, 20, by = 1)) + \n",
    "\n",
    "  # Adjust the size of the plot and labels\n",
    "  theme(plot.title = element_text(size = 20, face = \"bold\", hjust = 0.5),\n",
    "        axis.title = element_text(size = 18),\n",
    "        axis.text = element_text(size = 18)) \n",
    "\n",
    "# Create the boxplot\n",
    "boxplot <- ggplot(zero_rm_wageskill, aes(x = \"\", y = Value_log)) +\n",
    "  geom_boxplot(color = \"black\", fill = \"purple\") +\n",
    "\n",
    "  # Add axis labels and adjust tick marks\n",
    "  labs(x = \"\", y = \"Value_log\", title = \"Boxplot of Value\") +\n",
    "  scale_y_continuous(breaks = seq(8, 20, by = 1)) +\n",
    "\n",
    "  # Adjust the size of the plot and labels\n",
    "  theme(plot.title = element_text(size = 20, face = \"bold\", hjust = 0.5),\n",
    "        axis.title = element_text(size = 18),\n",
    "        axis.text = element_text(size = 18)) +\n",
    "  coord_flip() \n",
    "\n",
    "plot(histogram)\n",
    "plot(boxplot)"
   ]
  },
  {
   "cell_type": "markdown",
   "id": "a3bf7dcf",
   "metadata": {},
   "source": [
    "The distribution of Value is very close to normal distribution."
   ]
  },
  {
   "cell_type": "code",
   "execution_count": 58,
   "id": "3dd51fb4",
   "metadata": {},
   "outputs": [
    {
     "ename": "ERROR",
     "evalue": "Error in library(treemap): there is no package called 'treemap'\n",
     "output_type": "error",
     "traceback": [
      "Error in library(treemap): there is no package called 'treemap'\nTraceback:\n",
      "1. library(treemap)"
     ]
    }
   ],
   "source": [
    "library(treemap)\n",
    "library(treemapify)"
   ]
  },
  {
   "cell_type": "code",
   "execution_count": 60,
   "id": "46d78ce0",
   "metadata": {},
   "outputs": [
    {
     "data": {
      "text/html": [
       "<ol class=list-inline>\n",
       "\t<li>'Wage'</li>\n",
       "\t<li>'Skill.Moves'</li>\n",
       "\t<li>'International.Reputation'</li>\n",
       "\t<li>'Value'</li>\n",
       "\t<li>'Wage_log'</li>\n",
       "\t<li>'Value_log'</li>\n",
       "</ol>\n"
      ],
      "text/latex": [
       "\\begin{enumerate*}\n",
       "\\item 'Wage'\n",
       "\\item 'Skill.Moves'\n",
       "\\item 'International.Reputation'\n",
       "\\item 'Value'\n",
       "\\item 'Wage\\_log'\n",
       "\\item 'Value\\_log'\n",
       "\\end{enumerate*}\n"
      ],
      "text/markdown": [
       "1. 'Wage'\n",
       "2. 'Skill.Moves'\n",
       "3. 'International.Reputation'\n",
       "4. 'Value'\n",
       "5. 'Wage_log'\n",
       "6. 'Value_log'\n",
       "\n",
       "\n"
      ],
      "text/plain": [
       "[1] \"Wage\"                     \"Skill.Moves\"             \n",
       "[3] \"International.Reputation\" \"Value\"                   \n",
       "[5] \"Wage_log\"                 \"Value_log\"               "
      ]
     },
     "metadata": {},
     "output_type": "display_data"
    }
   ],
   "source": [
    "#Select numerical column\n",
    "num_cols <- select_if(zero_rm_wageskill, is.numeric)\n",
    "colnames(num_cols)"
   ]
  },
  {
   "cell_type": "code",
   "execution_count": 64,
   "id": "aa7fd32d",
   "metadata": {},
   "outputs": [
    {
     "data": {
      "image/png": "[encoded data removed]",
      "text/plain": [
       "plot without title"
      ]
     },
     "metadata": {},
     "output_type": "display_data"
    }
   ],
   "source": [
    "#Correlation of each numerical values\n",
    "corr_mat <- cor(num_cols)\n",
    "melted_corr_mat <- melt(corr_mat)\n",
    "\n",
    "# Create the heatmap\n",
    "heatmap <- ggplot(data = melted_corr_mat, aes(x = Var1, y = Var2, fill = value)) +\n",
    "  geom_tile() +\n",
    "  geom_text(aes(label = round(value, 3))) +\n",
    "  scale_fill_gradient2(low = \"#0066CC\", mid = \"white\", high = \"#EB1313\", midpoint = 0) +\n",
    "  labs(title = \"Correlation heatmap with numerical values\") +\n",
    "  theme(plot.title = element_text(size = 20, face = \"bold\", hjust = 0.5),\n",
    "        axis.title = element_text(size = 12),\n",
    "        axis.text = element_text(size = 12))\n",
    "\n",
    "plot(heatmap)"
   ]
  },
  {
   "cell_type": "markdown",
   "id": "ab0f210d",
   "metadata": {},
   "source": [
    "Among the variables, there are a few very interesting observations. \n",
    "Value_log and Wage_log is quite highly correlated (r = 0.745)\n",
    "Value_log and International Reputation has a fairly high positive correlation (r = 0.418) and the correlation is the same as Skill Moves.\n",
    "Wage_log and International Reputation also has a fairly high positive correlation (r = 0.421) that is higher than that of Wage_log and Skill Moves (r = 0.328)\n",
    "International Reputation and Skill Moves have relatively low positive correlation (r = 0.189)"
   ]
  },
  {
   "cell_type": "code",
   "execution_count": null,
   "id": "50609ca2",
   "metadata": {},
   "outputs": [],
   "source": []
  }
 ],
 "metadata": {
  "kernelspec": {
   "display_name": "R",
   "language": "R",
   "name": "ir"
  },
  "language_info": {
   "codemirror_mode": "r",
   "file_extension": ".r",
   "mimetype": "text/x-r-source",
   "name": "R",
   "pygments_lexer": "r",
   "version": "3.6.1"
  }
 },
 "nbformat": 4,
 "nbformat_minor": 5
}
