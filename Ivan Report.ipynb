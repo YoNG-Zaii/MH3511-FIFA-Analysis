{
 "cells": [
  {
   "cell_type": "code",
   "execution_count": 1,
   "id": "c47e8334",
   "metadata": {},
   "outputs": [
    {
     "name": "stderr",
     "output_type": "stream",
     "text": [
      "Registered S3 methods overwritten by 'ggplot2':\n",
      "  method         from \n",
      "  [.quosures     rlang\n",
      "  c.quosures     rlang\n",
      "  print.quosures rlang\n",
      "\n",
      "Attaching package: 'dplyr'\n",
      "\n",
      "The following objects are masked from 'package:stats':\n",
      "\n",
      "    filter, lag\n",
      "\n",
      "The following objects are masked from 'package:base':\n",
      "\n",
      "    intersect, setdiff, setequal, union\n",
      "\n"
     ]
    }
   ],
   "source": [
    "library(\"ggplot2\")\n",
    "library(\"dplyr\")\n",
    "library(\"repr\")\n",
    "library(\"reshape2\")\n",
    "library(\"stats\")"
   ]
  },
  {
   "cell_type": "markdown",
   "id": "d3b09049",
   "metadata": {},
   "source": [
    "- 1 - GoalKeeper\n",
    "- 2-5, Defender\n",
    "- 6, 8, 10 - Midfielder\n",
    "- 7, 9, 11 - Attacker\n",
    "\n",
    "- GK \n",
    "- CB, LB, RB, LWB, RWB\n",
    "- CDM, CAM, LM, RM, CM\n",
    "- LW, RW, ST, CF\n"
   ]
  },
  {
   "cell_type": "code",
   "execution_count": 35,
   "id": "96c61d09",
   "metadata": {},
   "outputs": [],
   "source": [
    "players <- read.csv(\"./fifa23_players_data.csv\")"
   ]
  },
  {
   "cell_type": "code",
   "execution_count": 3,
   "id": "ec93b8c4",
   "metadata": {},
   "outputs": [],
   "source": [
    "teams <- read.csv(\"./fifa23_teams_data.csv\")"
   ]
  },
  {
   "cell_type": "code",
   "execution_count": 26,
   "id": "5541eaca",
   "metadata": {},
   "outputs": [
    {
     "data": {
      "text/html": [
       "<table>\n",
       "<thead><tr><th scope=col>Known.As</th><th scope=col>Full.Name</th><th scope=col>Overall</th><th scope=col>Potential</th><th scope=col>Value.in.Euro.</th><th scope=col>Positions.Played</th><th scope=col>Best.Position</th><th scope=col>Nationality</th><th scope=col>Image.Link</th><th scope=col>Age</th><th scope=col>...</th><th scope=col>LM.Rating</th><th scope=col>CM.Rating</th><th scope=col>RM.Rating</th><th scope=col>LWB.Rating</th><th scope=col>CDM.Rating</th><th scope=col>RWB.Rating</th><th scope=col>LB.Rating</th><th scope=col>CB.Rating</th><th scope=col>RB.Rating</th><th scope=col>GK.Rating</th></tr></thead>\n",
       "<tbody>\n",
       "\t<tr><td>L. Messi                                        </td><td>Lionel Messi                                    </td><td>91                                              </td><td>91                                              </td><td> 54000000                                       </td><td>RW                                              </td><td>CAM                                             </td><td>Argentina                                       </td><td>https://cdn.sofifa.net/players/158/023/23_60.png</td><td>35                                              </td><td>...                                             </td><td>91                                              </td><td>88                                              </td><td>91                                              </td><td>67                                              </td><td>66                                              </td><td>67                                              </td><td>62                                              </td><td>53                                              </td><td>62                                              </td><td>22                                              </td></tr>\n",
       "\t<tr><td>K. Benzema                                      </td><td>Karim Benzema                                   </td><td>91                                              </td><td>91                                              </td><td> 64000000                                       </td><td>CF,ST                                           </td><td>CF                                              </td><td>France                                          </td><td>https://cdn.sofifa.net/players/165/153/23_60.png</td><td>34                                              </td><td>...                                             </td><td>89                                              </td><td>84                                              </td><td>89                                              </td><td>67                                              </td><td>67                                              </td><td>67                                              </td><td>63                                              </td><td>58                                              </td><td>63                                              </td><td>21                                              </td></tr>\n",
       "\t<tr><td>R. Lewandowski                                  </td><td>Robert Lewandowski                              </td><td>91                                              </td><td>91                                              </td><td> 84000000                                       </td><td>ST                                              </td><td>ST                                              </td><td>Poland                                          </td><td>https://cdn.sofifa.net/players/188/545/23_60.png</td><td>33                                              </td><td>...                                             </td><td>86                                              </td><td>83                                              </td><td>86                                              </td><td>67                                              </td><td>69                                              </td><td>67                                              </td><td>64                                              </td><td>63                                              </td><td>64                                              </td><td>22                                              </td></tr>\n",
       "\t<tr><td>K. De Bruyne                                    </td><td>Kevin De Bruyne                                 </td><td>91                                              </td><td>91                                              </td><td>107500000                                       </td><td>CM,CAM                                          </td><td>CM                                              </td><td>Belgium                                         </td><td>https://cdn.sofifa.net/players/192/985/23_60.png</td><td>31                                              </td><td>...                                             </td><td>91                                              </td><td>91                                              </td><td>91                                              </td><td>82                                              </td><td>82                                              </td><td>82                                              </td><td>78                                              </td><td>72                                              </td><td>78                                              </td><td>24                                              </td></tr>\n",
       "\t<tr><td>K. MbappÃ©                                      </td><td>Kylian MbappÃ©                                  </td><td>91                                              </td><td>95                                              </td><td>190500000                                       </td><td>ST,LW                                           </td><td>ST                                              </td><td>France                                          </td><td>https://cdn.sofifa.net/players/231/747/23_60.png</td><td>23                                              </td><td>...                                             </td><td>92                                              </td><td>84                                              </td><td>92                                              </td><td>70                                              </td><td>66                                              </td><td>70                                              </td><td>66                                              </td><td>57                                              </td><td>66                                              </td><td>21                                              </td></tr>\n",
       "\t<tr><td>M. Salah                                        </td><td>Mohamed Salah                                   </td><td>90                                              </td><td>90                                              </td><td>115500000                                       </td><td>RW                                              </td><td>RW                                              </td><td>Egypt                                           </td><td>https://cdn.sofifa.net/players/209/331/23_60.png</td><td>30                                              </td><td>...                                             </td><td>90                                              </td><td>85                                              </td><td>90                                              </td><td>74                                              </td><td>71                                              </td><td>74                                              </td><td>70                                              </td><td>61                                              </td><td>70                                              </td><td>25                                              </td></tr>\n",
       "</tbody>\n",
       "</table>\n"
      ],
      "text/latex": [
       "\\begin{tabular}{r|lllllllllllllllllllllllllllllllllllllllllllllllllllllllllllllllllllllllllllllllllllllllll}\n",
       " Known.As & Full.Name & Overall & Potential & Value.in.Euro. & Positions.Played & Best.Position & Nationality & Image.Link & Age & ... & LM.Rating & CM.Rating & RM.Rating & LWB.Rating & CDM.Rating & RWB.Rating & LB.Rating & CB.Rating & RB.Rating & GK.Rating\\\\\n",
       "\\hline\n",
       "\t L. Messi                                           & Lionel Messi                                       & 91                                                 & 91                                                 &  54000000                                          & RW                                                 & CAM                                                & Argentina                                          & https://cdn.sofifa.net/players/158/023/23\\_60.png & 35                                                 & ...                                                & 91                                                 & 88                                                 & 91                                                 & 67                                                 & 66                                                 & 67                                                 & 62                                                 & 53                                                 & 62                                                 & 22                                                \\\\\n",
       "\t K. Benzema                                         & Karim Benzema                                      & 91                                                 & 91                                                 &  64000000                                          & CF,ST                                              & CF                                                 & France                                             & https://cdn.sofifa.net/players/165/153/23\\_60.png & 34                                                 & ...                                                & 89                                                 & 84                                                 & 89                                                 & 67                                                 & 67                                                 & 67                                                 & 63                                                 & 58                                                 & 63                                                 & 21                                                \\\\\n",
       "\t R. Lewandowski                                     & Robert Lewandowski                                 & 91                                                 & 91                                                 &  84000000                                          & ST                                                 & ST                                                 & Poland                                             & https://cdn.sofifa.net/players/188/545/23\\_60.png & 33                                                 & ...                                                & 86                                                 & 83                                                 & 86                                                 & 67                                                 & 69                                                 & 67                                                 & 64                                                 & 63                                                 & 64                                                 & 22                                                \\\\\n",
       "\t K. De Bruyne                                       & Kevin De Bruyne                                    & 91                                                 & 91                                                 & 107500000                                          & CM,CAM                                             & CM                                                 & Belgium                                            & https://cdn.sofifa.net/players/192/985/23\\_60.png & 31                                                 & ...                                                & 91                                                 & 91                                                 & 91                                                 & 82                                                 & 82                                                 & 82                                                 & 78                                                 & 72                                                 & 78                                                 & 24                                                \\\\\n",
       "\t K. MbappÃ©                                         & Kylian MbappÃ©                                     & 91                                                 & 95                                                 & 190500000                                          & ST,LW                                              & ST                                                 & France                                             & https://cdn.sofifa.net/players/231/747/23\\_60.png & 23                                                 & ...                                                & 92                                                 & 84                                                 & 92                                                 & 70                                                 & 66                                                 & 70                                                 & 66                                                 & 57                                                 & 66                                                 & 21                                                \\\\\n",
       "\t M. Salah                                           & Mohamed Salah                                      & 90                                                 & 90                                                 & 115500000                                          & RW                                                 & RW                                                 & Egypt                                              & https://cdn.sofifa.net/players/209/331/23\\_60.png & 30                                                 & ...                                                & 90                                                 & 85                                                 & 90                                                 & 74                                                 & 71                                                 & 74                                                 & 70                                                 & 61                                                 & 70                                                 & 25                                                \\\\\n",
       "\\end{tabular}\n"
      ],
      "text/markdown": [
       "\n",
       "| Known.As | Full.Name | Overall | Potential | Value.in.Euro. | Positions.Played | Best.Position | Nationality | Image.Link | Age | ... | LM.Rating | CM.Rating | RM.Rating | LWB.Rating | CDM.Rating | RWB.Rating | LB.Rating | CB.Rating | RB.Rating | GK.Rating |\n",
       "|---|---|---|---|---|---|---|---|---|---|---|---|---|---|---|---|---|---|---|---|---|\n",
       "| L. Messi                                         | Lionel Messi                                     | 91                                               | 91                                               |  54000000                                        | RW                                               | CAM                                              | Argentina                                        | https://cdn.sofifa.net/players/158/023/23_60.png | 35                                               | ...                                              | 91                                               | 88                                               | 91                                               | 67                                               | 66                                               | 67                                               | 62                                               | 53                                               | 62                                               | 22                                               |\n",
       "| K. Benzema                                       | Karim Benzema                                    | 91                                               | 91                                               |  64000000                                        | CF,ST                                            | CF                                               | France                                           | https://cdn.sofifa.net/players/165/153/23_60.png | 34                                               | ...                                              | 89                                               | 84                                               | 89                                               | 67                                               | 67                                               | 67                                               | 63                                               | 58                                               | 63                                               | 21                                               |\n",
       "| R. Lewandowski                                   | Robert Lewandowski                               | 91                                               | 91                                               |  84000000                                        | ST                                               | ST                                               | Poland                                           | https://cdn.sofifa.net/players/188/545/23_60.png | 33                                               | ...                                              | 86                                               | 83                                               | 86                                               | 67                                               | 69                                               | 67                                               | 64                                               | 63                                               | 64                                               | 22                                               |\n",
       "| K. De Bruyne                                     | Kevin De Bruyne                                  | 91                                               | 91                                               | 107500000                                        | CM,CAM                                           | CM                                               | Belgium                                          | https://cdn.sofifa.net/players/192/985/23_60.png | 31                                               | ...                                              | 91                                               | 91                                               | 91                                               | 82                                               | 82                                               | 82                                               | 78                                               | 72                                               | 78                                               | 24                                               |\n",
       "| K. MbappÃ©                                       | Kylian MbappÃ©                                   | 91                                               | 95                                               | 190500000                                        | ST,LW                                            | ST                                               | France                                           | https://cdn.sofifa.net/players/231/747/23_60.png | 23                                               | ...                                              | 92                                               | 84                                               | 92                                               | 70                                               | 66                                               | 70                                               | 66                                               | 57                                               | 66                                               | 21                                               |\n",
       "| M. Salah                                         | Mohamed Salah                                    | 90                                               | 90                                               | 115500000                                        | RW                                               | RW                                               | Egypt                                            | https://cdn.sofifa.net/players/209/331/23_60.png | 30                                               | ...                                              | 90                                               | 85                                               | 90                                               | 74                                               | 71                                               | 74                                               | 70                                               | 61                                               | 70                                               | 25                                               |\n",
       "\n"
      ],
      "text/plain": [
       "  Known.As       Full.Name          Overall Potential Value.in.Euro.\n",
       "1 L. Messi       Lionel Messi       91      91         54000000     \n",
       "2 K. Benzema     Karim Benzema      91      91         64000000     \n",
       "3 R. Lewandowski Robert Lewandowski 91      91         84000000     \n",
       "4 K. De Bruyne   Kevin De Bruyne    91      91        107500000     \n",
       "5 K. MbappÃ©     Kylian MbappÃ©     91      95        190500000     \n",
       "6 M. Salah       Mohamed Salah      90      90        115500000     \n",
       "  Positions.Played Best.Position Nationality\n",
       "1 RW               CAM           Argentina  \n",
       "2 CF,ST            CF            France     \n",
       "3 ST               ST            Poland     \n",
       "4 CM,CAM           CM            Belgium    \n",
       "5 ST,LW            ST            France     \n",
       "6 RW               RW            Egypt      \n",
       "  Image.Link                                       Age ... LM.Rating CM.Rating\n",
       "1 https://cdn.sofifa.net/players/158/023/23_60.png 35  ... 91        88       \n",
       "2 https://cdn.sofifa.net/players/165/153/23_60.png 34  ... 89        84       \n",
       "3 https://cdn.sofifa.net/players/188/545/23_60.png 33  ... 86        83       \n",
       "4 https://cdn.sofifa.net/players/192/985/23_60.png 31  ... 91        91       \n",
       "5 https://cdn.sofifa.net/players/231/747/23_60.png 23  ... 92        84       \n",
       "6 https://cdn.sofifa.net/players/209/331/23_60.png 30  ... 90        85       \n",
       "  RM.Rating LWB.Rating CDM.Rating RWB.Rating LB.Rating CB.Rating RB.Rating\n",
       "1 91        67         66         67         62        53        62       \n",
       "2 89        67         67         67         63        58        63       \n",
       "3 86        67         69         67         64        63        64       \n",
       "4 91        82         82         82         78        72        78       \n",
       "5 92        70         66         70         66        57        66       \n",
       "6 90        74         71         74         70        61        70       \n",
       "  GK.Rating\n",
       "1 22       \n",
       "2 21       \n",
       "3 22       \n",
       "4 24       \n",
       "5 21       \n",
       "6 25       "
      ]
     },
     "metadata": {},
     "output_type": "display_data"
    }
   ],
   "source": [
    "head(players)"
   ]
  },
  {
   "cell_type": "code",
   "execution_count": 49,
   "id": "b62bb6fa",
   "metadata": {},
   "outputs": [
    {
     "data": {
      "text/html": [
       "15"
      ],
      "text/latex": [
       "15"
      ],
      "text/markdown": [
       "15"
      ],
      "text/plain": [
       "[1] 15"
      ]
     },
     "metadata": {},
     "output_type": "display_data"
    }
   ],
   "source": [
    "length(summary(players$Best.Position))"
   ]
  },
  {
   "cell_type": "code",
   "execution_count": 38,
   "id": "380509e2",
   "metadata": {},
   "outputs": [
    {
     "data": {
      "text/html": [
       "<table>\n",
       "<thead><tr><th scope=col>Known.As</th><th scope=col>Club.Jersey.Number</th><th scope=col>Best.Position</th></tr></thead>\n",
       "<tbody>\n",
       "\t<tr><td>L. Messi         </td><td>30               </td><td>CAM              </td></tr>\n",
       "\t<tr><td>K. Benzema       </td><td>9                </td><td>CF               </td></tr>\n",
       "\t<tr><td>R. Lewandowski   </td><td>9                </td><td>ST               </td></tr>\n",
       "\t<tr><td>K. De Bruyne     </td><td>17               </td><td>CM               </td></tr>\n",
       "\t<tr><td>K. MbappÃ©       </td><td>7                </td><td>ST               </td></tr>\n",
       "\t<tr><td>M. Salah         </td><td>11               </td><td>RW               </td></tr>\n",
       "\t<tr><td>T. Courtois      </td><td>1                </td><td>GK               </td></tr>\n",
       "\t<tr><td>M. Neuer         </td><td>1                </td><td>GK               </td></tr>\n",
       "\t<tr><td>Cristiano Ronaldo</td><td>7                </td><td>ST               </td></tr>\n",
       "\t<tr><td>V. van Dijk      </td><td>4                </td><td>CB               </td></tr>\n",
       "\t<tr><td>H. Kane          </td><td>10               </td><td>ST               </td></tr>\n",
       "\t<tr><td>Neymar Jr        </td><td>10               </td><td>LW               </td></tr>\n",
       "\t<tr><td>H. Son           </td><td>7                </td><td>LW               </td></tr>\n",
       "\t<tr><td>Casemiro         </td><td>18               </td><td>CDM              </td></tr>\n",
       "\t<tr><td>J. Oblak         </td><td>13               </td><td>GK               </td></tr>\n",
       "\t<tr><td>S. ManÃ©         </td><td>17               </td><td>LM               </td></tr>\n",
       "\t<tr><td>Ederson          </td><td>31               </td><td>GK               </td></tr>\n",
       "\t<tr><td>J. Kimmich       </td><td>6                </td><td>CDM              </td></tr>\n",
       "\t<tr><td>Alisson          </td><td>1                </td><td>GK               </td></tr>\n",
       "\t<tr><td>N. KantÃ©        </td><td>7                </td><td>CDM              </td></tr>\n",
       "\t<tr><td>RÃºben Dias      </td><td>3                </td><td>CB               </td></tr>\n",
       "\t<tr><td>E. Haaland       </td><td>9                </td><td>ST               </td></tr>\n",
       "\t<tr><td>G. Donnarumma    </td><td>99               </td><td>GK               </td></tr>\n",
       "\t<tr><td>Bernardo Silva   </td><td>20               </td><td>CAM              </td></tr>\n",
       "\t<tr><td>JoÃ£o Cancelo    </td><td>7                </td><td>LB               </td></tr>\n",
       "\t<tr><td>Marquinhos       </td><td>5                </td><td>CB               </td></tr>\n",
       "\t<tr><td>K. Navas         </td><td>1                </td><td>GK               </td></tr>\n",
       "\t<tr><td>M. ter Stegen    </td><td>1                </td><td>GK               </td></tr>\n",
       "\t<tr><td>T. Kroos         </td><td>8                </td><td>CM               </td></tr>\n",
       "\t<tr><td>L. ModriÄ‡       </td><td>10               </td><td>CM               </td></tr>\n",
       "\t<tr><td>...</td><td>...</td><td>...</td></tr>\n",
       "\t<tr><td>S. Fernandes   </td><td>11             </td><td>LM             </td></tr>\n",
       "\t<tr><td>A. Lalroutsang </td><td>12             </td><td>RM             </td></tr>\n",
       "\t<tr><td>Chen Yunhua    </td><td>14             </td><td>CAM            </td></tr>\n",
       "\t<tr><td>Li Peinan      </td><td>35             </td><td>CB             </td></tr>\n",
       "\t<tr><td>Shan Huanhuan  </td><td>9              </td><td>ST             </td></tr>\n",
       "\t<tr><td>G. Nigam       </td><td>22             </td><td>RM             </td></tr>\n",
       "\t<tr><td>Gao Xiang      </td><td>23             </td><td>GK             </td></tr>\n",
       "\t<tr><td>Du Zhixuan     </td><td>15             </td><td>CDM            </td></tr>\n",
       "\t<tr><td>Chen Keqiang   </td><td>21             </td><td>CDM            </td></tr>\n",
       "\t<tr><td>Lalawmpuia     </td><td>30             </td><td>RM             </td></tr>\n",
       "\t<tr><td>T. Giraldo     </td><td>34             </td><td>CAM            </td></tr>\n",
       "\t<tr><td>N. Deka        </td><td>44             </td><td>GK             </td></tr>\n",
       "\t<tr><td>V. Yadav       </td><td>31             </td><td>GK             </td></tr>\n",
       "\t<tr><td>E. Singh       </td><td>18             </td><td>CAM            </td></tr>\n",
       "\t<tr><td>M. Furaih      </td><td>18             </td><td>CAM            </td></tr>\n",
       "\t<tr><td>A. BrÃ®nzea    </td><td>99             </td><td>GK             </td></tr>\n",
       "\t<tr><td>J. Russell-Rowe</td><td>39             </td><td>CAM            </td></tr>\n",
       "\t<tr><td>Chen Chunxin   </td><td>26             </td><td>RM             </td></tr>\n",
       "\t<tr><td>Liu Junxian    </td><td>37             </td><td>ST             </td></tr>\n",
       "\t<tr><td>Zhang Yue      </td><td>25             </td><td>LM             </td></tr>\n",
       "\t<tr><td>Guo Yunqi      </td><td>26             </td><td>CAM            </td></tr>\n",
       "\t<tr><td>S. Bag         </td><td>19             </td><td>RM             </td></tr>\n",
       "\t<tr><td>Liao Wei       </td><td>25             </td><td>CDM            </td></tr>\n",
       "\t<tr><td>H. Singh       </td><td>16             </td><td>ST             </td></tr>\n",
       "\t<tr><td>Pi Ziyang      </td><td>40             </td><td>CAM            </td></tr>\n",
       "\t<tr><td>D. Collins     </td><td>20             </td><td>CAM            </td></tr>\n",
       "\t<tr><td>Yang Dejiang   </td><td>30             </td><td>CDM            </td></tr>\n",
       "\t<tr><td>L. Mullan      </td><td>38             </td><td>RM             </td></tr>\n",
       "\t<tr><td>D. McCallion   </td><td>37             </td><td>CB             </td></tr>\n",
       "\t<tr><td>N. Rabha       </td><td>25             </td><td>LB             </td></tr>\n",
       "</tbody>\n",
       "</table>\n"
      ],
      "text/latex": [
       "\\begin{tabular}{r|lll}\n",
       " Known.As & Club.Jersey.Number & Best.Position\\\\\n",
       "\\hline\n",
       "\t L. Messi          & 30                & CAM              \\\\\n",
       "\t K. Benzema        & 9                 & CF               \\\\\n",
       "\t R. Lewandowski    & 9                 & ST               \\\\\n",
       "\t K. De Bruyne      & 17                & CM               \\\\\n",
       "\t K. MbappÃ©        & 7                 & ST               \\\\\n",
       "\t M. Salah          & 11                & RW               \\\\\n",
       "\t T. Courtois       & 1                 & GK               \\\\\n",
       "\t M. Neuer          & 1                 & GK               \\\\\n",
       "\t Cristiano Ronaldo & 7                 & ST               \\\\\n",
       "\t V. van Dijk       & 4                 & CB               \\\\\n",
       "\t H. Kane           & 10                & ST               \\\\\n",
       "\t Neymar Jr         & 10                & LW               \\\\\n",
       "\t H. Son            & 7                 & LW               \\\\\n",
       "\t Casemiro          & 18                & CDM              \\\\\n",
       "\t J. Oblak          & 13                & GK               \\\\\n",
       "\t S. ManÃ©          & 17                & LM               \\\\\n",
       "\t Ederson           & 31                & GK               \\\\\n",
       "\t J. Kimmich        & 6                 & CDM              \\\\\n",
       "\t Alisson           & 1                 & GK               \\\\\n",
       "\t N. KantÃ©         & 7                 & CDM              \\\\\n",
       "\t RÃºben Dias       & 3                 & CB               \\\\\n",
       "\t E. Haaland        & 9                 & ST               \\\\\n",
       "\t G. Donnarumma     & 99                & GK               \\\\\n",
       "\t Bernardo Silva    & 20                & CAM              \\\\\n",
       "\t JoÃ£o Cancelo     & 7                 & LB               \\\\\n",
       "\t Marquinhos        & 5                 & CB               \\\\\n",
       "\t K. Navas          & 1                 & GK               \\\\\n",
       "\t M. ter Stegen     & 1                 & GK               \\\\\n",
       "\t T. Kroos          & 8                 & CM               \\\\\n",
       "\t L. ModriÄ‡        & 10                & CM               \\\\\n",
       "\t ... & ... & ...\\\\\n",
       "\t S. Fernandes    & 11              & LM             \\\\\n",
       "\t A. Lalroutsang  & 12              & RM             \\\\\n",
       "\t Chen Yunhua     & 14              & CAM            \\\\\n",
       "\t Li Peinan       & 35              & CB             \\\\\n",
       "\t Shan Huanhuan   & 9               & ST             \\\\\n",
       "\t G. Nigam        & 22              & RM             \\\\\n",
       "\t Gao Xiang       & 23              & GK             \\\\\n",
       "\t Du Zhixuan      & 15              & CDM            \\\\\n",
       "\t Chen Keqiang    & 21              & CDM            \\\\\n",
       "\t Lalawmpuia      & 30              & RM             \\\\\n",
       "\t T. Giraldo      & 34              & CAM            \\\\\n",
       "\t N. Deka         & 44              & GK             \\\\\n",
       "\t V. Yadav        & 31              & GK             \\\\\n",
       "\t E. Singh        & 18              & CAM            \\\\\n",
       "\t M. Furaih       & 18              & CAM            \\\\\n",
       "\t A. BrÃ®nzea     & 99              & GK             \\\\\n",
       "\t J. Russell-Rowe & 39              & CAM            \\\\\n",
       "\t Chen Chunxin    & 26              & RM             \\\\\n",
       "\t Liu Junxian     & 37              & ST             \\\\\n",
       "\t Zhang Yue       & 25              & LM             \\\\\n",
       "\t Guo Yunqi       & 26              & CAM            \\\\\n",
       "\t S. Bag          & 19              & RM             \\\\\n",
       "\t Liao Wei        & 25              & CDM            \\\\\n",
       "\t H. Singh        & 16              & ST             \\\\\n",
       "\t Pi Ziyang       & 40              & CAM            \\\\\n",
       "\t D. Collins      & 20              & CAM            \\\\\n",
       "\t Yang Dejiang    & 30              & CDM            \\\\\n",
       "\t L. Mullan       & 38              & RM             \\\\\n",
       "\t D. McCallion    & 37              & CB             \\\\\n",
       "\t N. Rabha        & 25              & LB             \\\\\n",
       "\\end{tabular}\n"
      ],
      "text/markdown": [
       "\n",
       "| Known.As | Club.Jersey.Number | Best.Position |\n",
       "|---|---|---|\n",
       "| L. Messi          | 30                | CAM               |\n",
       "| K. Benzema        | 9                 | CF                |\n",
       "| R. Lewandowski    | 9                 | ST                |\n",
       "| K. De Bruyne      | 17                | CM                |\n",
       "| K. MbappÃ©        | 7                 | ST                |\n",
       "| M. Salah          | 11                | RW                |\n",
       "| T. Courtois       | 1                 | GK                |\n",
       "| M. Neuer          | 1                 | GK                |\n",
       "| Cristiano Ronaldo | 7                 | ST                |\n",
       "| V. van Dijk       | 4                 | CB                |\n",
       "| H. Kane           | 10                | ST                |\n",
       "| Neymar Jr         | 10                | LW                |\n",
       "| H. Son            | 7                 | LW                |\n",
       "| Casemiro          | 18                | CDM               |\n",
       "| J. Oblak          | 13                | GK                |\n",
       "| S. ManÃ©          | 17                | LM                |\n",
       "| Ederson           | 31                | GK                |\n",
       "| J. Kimmich        | 6                 | CDM               |\n",
       "| Alisson           | 1                 | GK                |\n",
       "| N. KantÃ©         | 7                 | CDM               |\n",
       "| RÃºben Dias       | 3                 | CB                |\n",
       "| E. Haaland        | 9                 | ST                |\n",
       "| G. Donnarumma     | 99                | GK                |\n",
       "| Bernardo Silva    | 20                | CAM               |\n",
       "| JoÃ£o Cancelo     | 7                 | LB                |\n",
       "| Marquinhos        | 5                 | CB                |\n",
       "| K. Navas          | 1                 | GK                |\n",
       "| M. ter Stegen     | 1                 | GK                |\n",
       "| T. Kroos          | 8                 | CM                |\n",
       "| L. ModriÄ‡        | 10                | CM                |\n",
       "| ... | ... | ... |\n",
       "| S. Fernandes    | 11              | LM              |\n",
       "| A. Lalroutsang  | 12              | RM              |\n",
       "| Chen Yunhua     | 14              | CAM             |\n",
       "| Li Peinan       | 35              | CB              |\n",
       "| Shan Huanhuan   | 9               | ST              |\n",
       "| G. Nigam        | 22              | RM              |\n",
       "| Gao Xiang       | 23              | GK              |\n",
       "| Du Zhixuan      | 15              | CDM             |\n",
       "| Chen Keqiang    | 21              | CDM             |\n",
       "| Lalawmpuia      | 30              | RM              |\n",
       "| T. Giraldo      | 34              | CAM             |\n",
       "| N. Deka         | 44              | GK              |\n",
       "| V. Yadav        | 31              | GK              |\n",
       "| E. Singh        | 18              | CAM             |\n",
       "| M. Furaih       | 18              | CAM             |\n",
       "| A. BrÃ®nzea     | 99              | GK              |\n",
       "| J. Russell-Rowe | 39              | CAM             |\n",
       "| Chen Chunxin    | 26              | RM              |\n",
       "| Liu Junxian     | 37              | ST              |\n",
       "| Zhang Yue       | 25              | LM              |\n",
       "| Guo Yunqi       | 26              | CAM             |\n",
       "| S. Bag          | 19              | RM              |\n",
       "| Liao Wei        | 25              | CDM             |\n",
       "| H. Singh        | 16              | ST              |\n",
       "| Pi Ziyang       | 40              | CAM             |\n",
       "| D. Collins      | 20              | CAM             |\n",
       "| Yang Dejiang    | 30              | CDM             |\n",
       "| L. Mullan       | 38              | RM              |\n",
       "| D. McCallion    | 37              | CB              |\n",
       "| N. Rabha        | 25              | LB              |\n",
       "\n"
      ],
      "text/plain": [
       "      Known.As          Club.Jersey.Number Best.Position\n",
       "1     L. Messi          30                 CAM          \n",
       "2     K. Benzema        9                  CF           \n",
       "3     R. Lewandowski    9                  ST           \n",
       "4     K. De Bruyne      17                 CM           \n",
       "5     K. MbappÃ©        7                  ST           \n",
       "6     M. Salah          11                 RW           \n",
       "7     T. Courtois       1                  GK           \n",
       "8     M. Neuer          1                  GK           \n",
       "9     Cristiano Ronaldo 7                  ST           \n",
       "10    V. van Dijk       4                  CB           \n",
       "11    H. Kane           10                 ST           \n",
       "12    Neymar Jr         10                 LW           \n",
       "13    H. Son            7                  LW           \n",
       "14    Casemiro          18                 CDM          \n",
       "15    J. Oblak          13                 GK           \n",
       "16    S. ManÃ©          17                 LM           \n",
       "17    Ederson           31                 GK           \n",
       "18    J. Kimmich        6                  CDM          \n",
       "19    Alisson           1                  GK           \n",
       "20    N. KantÃ©         7                  CDM          \n",
       "21    RÃºben Dias       3                  CB           \n",
       "22    E. Haaland        9                  ST           \n",
       "23    G. Donnarumma     99                 GK           \n",
       "24    Bernardo Silva    20                 CAM          \n",
       "25    JoÃ£o Cancelo     7                  LB           \n",
       "26    Marquinhos        5                  CB           \n",
       "27    K. Navas          1                  GK           \n",
       "28    M. ter Stegen     1                  GK           \n",
       "29    T. Kroos          8                  CM           \n",
       "30    L. ModriÄ‡        10                 CM           \n",
       "...   ...               ...                ...          \n",
       "18510 S. Fernandes      11                 LM           \n",
       "18511 A. Lalroutsang    12                 RM           \n",
       "18512 Chen Yunhua       14                 CAM          \n",
       "18513 Li Peinan         35                 CB           \n",
       "18514 Shan Huanhuan     9                  ST           \n",
       "18515 G. Nigam          22                 RM           \n",
       "18516 Gao Xiang         23                 GK           \n",
       "18517 Du Zhixuan        15                 CDM          \n",
       "18518 Chen Keqiang      21                 CDM          \n",
       "18519 Lalawmpuia        30                 RM           \n",
       "18520 T. Giraldo        34                 CAM          \n",
       "18521 N. Deka           44                 GK           \n",
       "18522 V. Yadav          31                 GK           \n",
       "18523 E. Singh          18                 CAM          \n",
       "18524 M. Furaih         18                 CAM          \n",
       "18525 A. BrÃ®nzea       99                 GK           \n",
       "18526 J. Russell-Rowe   39                 CAM          \n",
       "18527 Chen Chunxin      26                 RM           \n",
       "18528 Liu Junxian       37                 ST           \n",
       "18529 Zhang Yue         25                 LM           \n",
       "18530 Guo Yunqi         26                 CAM          \n",
       "18531 S. Bag            19                 RM           \n",
       "18532 Liao Wei          25                 CDM          \n",
       "18533 H. Singh          16                 ST           \n",
       "18534 Pi Ziyang         40                 CAM          \n",
       "18535 D. Collins        20                 CAM          \n",
       "18536 Yang Dejiang      30                 CDM          \n",
       "18537 L. Mullan         38                 RM           \n",
       "18538 D. McCallion      37                 CB           \n",
       "18539 N. Rabha          25                 LB           "
      ]
     },
     "metadata": {},
     "output_type": "display_data"
    }
   ],
   "source": [
    "players[c('Known.As','Club.Jersey.Number', 'Best.Position')]"
   ]
  },
  {
   "cell_type": "code",
   "execution_count": null,
   "id": "60d0dc81",
   "metadata": {},
   "outputs": [],
   "source": [
    "sumamry()"
   ]
  },
  {
   "cell_type": "code",
   "execution_count": 30,
   "id": "7a994df4",
   "metadata": {},
   "outputs": [],
   "source": [
    "# summary(players$National.Team.Jersey.Number)"
   ]
  },
  {
   "cell_type": "code",
   "execution_count": 39,
   "id": "2291e7f3",
   "metadata": {},
   "outputs": [
    {
     "name": "stderr",
     "output_type": "stream",
     "text": [
      "Warning message in eval(expr, envir, enclos):\n",
      "\"NAs introduced by coercion\""
     ]
    },
    {
     "data": {
      "text/html": [
       "'numeric'"
      ],
      "text/latex": [
       "'numeric'"
      ],
      "text/markdown": [
       "'numeric'"
      ],
      "text/plain": [
       "[1] \"numeric\""
      ]
     },
     "metadata": {},
     "output_type": "display_data"
    },
    {
     "data": {
      "text/plain": [
       "   Min. 1st Qu.  Median    Mean 3rd Qu.    Max.    NA's \n",
       "   1.00    9.00   18.00   21.11   27.00   99.00      92 "
      ]
     },
     "metadata": {},
     "output_type": "display_data"
    }
   ],
   "source": [
    "# convert the values of column 'x' to numerical; \n",
    "players$Club.Jersey.Number <- as.numeric(as.character(players$Club.Jersey.Number))\n",
    "class(players$Club.Jersey.Number);\n",
    "summary(players$Club.Jersey.Number)"
   ]
  },
  {
   "cell_type": "code",
   "execution_count": 42,
   "id": "21f3901e",
   "metadata": {},
   "outputs": [
    {
     "data": {
      "text/html": [
       "<ol class=list-inline>\n",
       "\t<li>6305</li>\n",
       "\t<li>89</li>\n",
       "</ol>\n"
      ],
      "text/latex": [
       "\\begin{enumerate*}\n",
       "\\item 6305\n",
       "\\item 89\n",
       "\\end{enumerate*}\n"
      ],
      "text/markdown": [
       "1. 6305\n",
       "2. 89\n",
       "\n",
       "\n"
      ],
      "text/plain": [
       "[1] 6305   89"
      ]
     },
     "metadata": {},
     "output_type": "display_data"
    }
   ],
   "source": [
    "starters <- players[(players$Club.Jersey.Number >= 1) & (players$Club.Jersey.Number <= 11), ]\n",
    "starters <- starters[complete.cases(starters$Club.Jersey.Number), ]\n",
    "dim(starters)"
   ]
  },
  {
   "cell_type": "code",
   "execution_count": 43,
   "id": "57036ed6",
   "metadata": {},
   "outputs": [
    {
     "data": {
      "text/plain": [
       "   Min. 1st Qu.  Median    Mean 3rd Qu.    Max. \n",
       "  1.000   3.000   6.000   6.085   9.000  11.000 "
      ]
     },
     "metadata": {},
     "output_type": "display_data"
    }
   ],
   "source": [
    "summary(starters$Club.Jersey.Number)"
   ]
  },
  {
   "cell_type": "code",
   "execution_count": 44,
   "id": "ff6ddbe6",
   "metadata": {},
   "outputs": [
    {
     "data": {
      "text/html": [
       "<table>\n",
       "<thead><tr><th></th><th scope=col>Known.As</th><th scope=col>Club.Jersey.Number</th><th scope=col>Best.Position</th></tr></thead>\n",
       "<tbody>\n",
       "\t<tr><th scope=row>2</th><td>K. Benzema       </td><td> 9               </td><td>CF               </td></tr>\n",
       "\t<tr><th scope=row>3</th><td>R. Lewandowski   </td><td> 9               </td><td>ST               </td></tr>\n",
       "\t<tr><th scope=row>5</th><td>K. MbappÃ©       </td><td> 7               </td><td>ST               </td></tr>\n",
       "\t<tr><th scope=row>6</th><td>M. Salah         </td><td>11               </td><td>RW               </td></tr>\n",
       "\t<tr><th scope=row>7</th><td>T. Courtois      </td><td> 1               </td><td>GK               </td></tr>\n",
       "\t<tr><th scope=row>8</th><td>M. Neuer         </td><td> 1               </td><td>GK               </td></tr>\n",
       "\t<tr><th scope=row>9</th><td>Cristiano Ronaldo</td><td> 7               </td><td>ST               </td></tr>\n",
       "\t<tr><th scope=row>10</th><td>V. van Dijk      </td><td> 4               </td><td>CB               </td></tr>\n",
       "\t<tr><th scope=row>11</th><td>H. Kane          </td><td>10               </td><td>ST               </td></tr>\n",
       "\t<tr><th scope=row>12</th><td>Neymar Jr        </td><td>10               </td><td>LW               </td></tr>\n",
       "\t<tr><th scope=row>13</th><td>H. Son           </td><td> 7               </td><td>LW               </td></tr>\n",
       "\t<tr><th scope=row>18</th><td>J. Kimmich       </td><td> 6               </td><td>CDM              </td></tr>\n",
       "\t<tr><th scope=row>19</th><td>Alisson          </td><td> 1               </td><td>GK               </td></tr>\n",
       "\t<tr><th scope=row>20</th><td>N. KantÃ©        </td><td> 7               </td><td>CDM              </td></tr>\n",
       "\t<tr><th scope=row>21</th><td>RÃºben Dias      </td><td> 3               </td><td>CB               </td></tr>\n",
       "\t<tr><th scope=row>22</th><td>E. Haaland       </td><td> 9               </td><td>ST               </td></tr>\n",
       "\t<tr><th scope=row>25</th><td>JoÃ£o Cancelo    </td><td> 7               </td><td>LB               </td></tr>\n",
       "\t<tr><th scope=row>26</th><td>Marquinhos       </td><td> 5               </td><td>CB               </td></tr>\n",
       "\t<tr><th scope=row>27</th><td>K. Navas         </td><td> 1               </td><td>GK               </td></tr>\n",
       "\t<tr><th scope=row>28</th><td>M. ter Stegen    </td><td> 1               </td><td>GK               </td></tr>\n",
       "\t<tr><th scope=row>29</th><td>T. Kroos         </td><td> 8               </td><td>CM               </td></tr>\n",
       "\t<tr><th scope=row>30</th><td>L. ModriÄ‡       </td><td>10               </td><td>CM               </td></tr>\n",
       "\t<tr><th scope=row>33</th><td>Fabinho          </td><td> 3               </td><td>CDM              </td></tr>\n",
       "\t<tr><th scope=row>34</th><td>H. Lloris        </td><td> 1               </td><td>GK               </td></tr>\n",
       "\t<tr><th scope=row>36</th><td>De Gea           </td><td> 1               </td><td>GK               </td></tr>\n",
       "\t<tr><th scope=row>37</th><td>M. Verratti      </td><td> 6               </td><td>CM               </td></tr>\n",
       "\t<tr><th scope=row>42</th><td>L. Goretzka      </td><td> 8               </td><td>CM               </td></tr>\n",
       "\t<tr><th scope=row>44</th><td>Thiago           </td><td> 6               </td><td>CM               </td></tr>\n",
       "\t<tr><th scope=row>47</th><td>D. Alaba         </td><td> 4               </td><td>CB               </td></tr>\n",
       "\t<tr><th scope=row>51</th><td>Thiago Silva     </td><td> 6               </td><td>CB               </td></tr>\n",
       "\t<tr><th scope=row>...</th><td>...</td><td>...</td><td>...</td></tr>\n",
       "\t<tr><th scope=row>18117</th><td>Wen Junjie    </td><td> 2            </td><td>CB            </td></tr>\n",
       "\t<tr><th scope=row>18120</th><td>S. Pereira    </td><td> 2            </td><td>LB            </td></tr>\n",
       "\t<tr><th scope=row>18121</th><td>L. D'Cunha    </td><td> 6            </td><td>CB            </td></tr>\n",
       "\t<tr><th scope=row>18142</th><td>T. Singh      </td><td> 3            </td><td>LB            </td></tr>\n",
       "\t<tr><th scope=row>18151</th><td>Lalchungnunga </td><td> 5            </td><td>CB            </td></tr>\n",
       "\t<tr><th scope=row>18168</th><td>Li Guanxi     </td><td> 1            </td><td>GK            </td></tr>\n",
       "\t<tr><th scope=row>18172</th><td>G. Singh      </td><td> 3            </td><td>CB            </td></tr>\n",
       "\t<tr><th scope=row>18184</th><td>A. Jipa       </td><td> 7            </td><td>RM            </td></tr>\n",
       "\t<tr><th scope=row>18190</th><td>A. Armour     </td><td> 3            </td><td>LB            </td></tr>\n",
       "\t<tr><th scope=row>18245</th><td>Guo Yi        </td><td> 7            </td><td>RM            </td></tr>\n",
       "\t<tr><th scope=row>18246</th><td>Wu Fei        </td><td> 1            </td><td>GK            </td></tr>\n",
       "\t<tr><th scope=row>18268</th><td>Baek Jong Beom</td><td> 1            </td><td>GK            </td></tr>\n",
       "\t<tr><th scope=row>18269</th><td>L. Kugland    </td><td> 3            </td><td>LB            </td></tr>\n",
       "\t<tr><th scope=row>18305</th><td>S. Singh      </td><td> 5            </td><td>CB            </td></tr>\n",
       "\t<tr><th scope=row>18306</th><td>J. Haist      </td><td>10            </td><td>ST            </td></tr>\n",
       "\t<tr><th scope=row>18329</th><td>Z. Al Jari    </td><td> 3            </td><td>CB            </td></tr>\n",
       "\t<tr><th scope=row>18363</th><td>Li Junfeng    </td><td> 3            </td><td>RB            </td></tr>\n",
       "\t<tr><th scope=row>18368</th><td>G. Singh      </td><td> 9            </td><td>ST            </td></tr>\n",
       "\t<tr><th scope=row>18388</th><td>Mai Gaolin    </td><td> 1            </td><td>GK            </td></tr>\n",
       "\t<tr><th scope=row>18390</th><td>B. Al Shahrani</td><td> 1            </td><td>GK            </td></tr>\n",
       "\t<tr><th scope=row>18391</th><td>S. Ghidotti   </td><td> 1            </td><td>GK            </td></tr>\n",
       "\t<tr><th scope=row>18415</th><td>Sun Jianxiang </td><td> 1            </td><td>GK            </td></tr>\n",
       "\t<tr><th scope=row>18449</th><td>G. Singh      </td><td>11            </td><td>CAM           </td></tr>\n",
       "\t<tr><th scope=row>18465</th><td>D. Mirdha     </td><td> 9            </td><td>ST            </td></tr>\n",
       "\t<tr><th scope=row>18476</th><td>N. Prabhu     </td><td> 4            </td><td>CB            </td></tr>\n",
       "\t<tr><th scope=row>18484</th><td>Wang Zhenghao </td><td> 3            </td><td>CB            </td></tr>\n",
       "\t<tr><th scope=row>18491</th><td>Liu Haofan    </td><td> 5            </td><td>CB            </td></tr>\n",
       "\t<tr><th scope=row>18497</th><td>Zhao Wenzhe   </td><td> 3            </td><td>CB            </td></tr>\n",
       "\t<tr><th scope=row>18510</th><td>S. Fernandes  </td><td>11            </td><td>LM            </td></tr>\n",
       "\t<tr><th scope=row>18514</th><td>Shan Huanhuan </td><td> 9            </td><td>ST            </td></tr>\n",
       "</tbody>\n",
       "</table>\n"
      ],
      "text/latex": [
       "\\begin{tabular}{r|lll}\n",
       "  & Known.As & Club.Jersey.Number & Best.Position\\\\\n",
       "\\hline\n",
       "\t2 & K. Benzema        &  9                & CF               \\\\\n",
       "\t3 & R. Lewandowski    &  9                & ST               \\\\\n",
       "\t5 & K. MbappÃ©        &  7                & ST               \\\\\n",
       "\t6 & M. Salah          & 11                & RW               \\\\\n",
       "\t7 & T. Courtois       &  1                & GK               \\\\\n",
       "\t8 & M. Neuer          &  1                & GK               \\\\\n",
       "\t9 & Cristiano Ronaldo &  7                & ST               \\\\\n",
       "\t10 & V. van Dijk       &  4                & CB               \\\\\n",
       "\t11 & H. Kane           & 10                & ST               \\\\\n",
       "\t12 & Neymar Jr         & 10                & LW               \\\\\n",
       "\t13 & H. Son            &  7                & LW               \\\\\n",
       "\t18 & J. Kimmich        &  6                & CDM              \\\\\n",
       "\t19 & Alisson           &  1                & GK               \\\\\n",
       "\t20 & N. KantÃ©         &  7                & CDM              \\\\\n",
       "\t21 & RÃºben Dias       &  3                & CB               \\\\\n",
       "\t22 & E. Haaland        &  9                & ST               \\\\\n",
       "\t25 & JoÃ£o Cancelo     &  7                & LB               \\\\\n",
       "\t26 & Marquinhos        &  5                & CB               \\\\\n",
       "\t27 & K. Navas          &  1                & GK               \\\\\n",
       "\t28 & M. ter Stegen     &  1                & GK               \\\\\n",
       "\t29 & T. Kroos          &  8                & CM               \\\\\n",
       "\t30 & L. ModriÄ‡        & 10                & CM               \\\\\n",
       "\t33 & Fabinho           &  3                & CDM              \\\\\n",
       "\t34 & H. Lloris         &  1                & GK               \\\\\n",
       "\t36 & De Gea            &  1                & GK               \\\\\n",
       "\t37 & M. Verratti       &  6                & CM               \\\\\n",
       "\t42 & L. Goretzka       &  8                & CM               \\\\\n",
       "\t44 & Thiago            &  6                & CM               \\\\\n",
       "\t47 & D. Alaba          &  4                & CB               \\\\\n",
       "\t51 & Thiago Silva      &  6                & CB               \\\\\n",
       "\t... & ... & ... & ...\\\\\n",
       "\t18117 & Wen Junjie     &  2             & CB            \\\\\n",
       "\t18120 & S. Pereira     &  2             & LB            \\\\\n",
       "\t18121 & L. D'Cunha     &  6             & CB            \\\\\n",
       "\t18142 & T. Singh       &  3             & LB            \\\\\n",
       "\t18151 & Lalchungnunga  &  5             & CB            \\\\\n",
       "\t18168 & Li Guanxi      &  1             & GK            \\\\\n",
       "\t18172 & G. Singh       &  3             & CB            \\\\\n",
       "\t18184 & A. Jipa        &  7             & RM            \\\\\n",
       "\t18190 & A. Armour      &  3             & LB            \\\\\n",
       "\t18245 & Guo Yi         &  7             & RM            \\\\\n",
       "\t18246 & Wu Fei         &  1             & GK            \\\\\n",
       "\t18268 & Baek Jong Beom &  1             & GK            \\\\\n",
       "\t18269 & L. Kugland     &  3             & LB            \\\\\n",
       "\t18305 & S. Singh       &  5             & CB            \\\\\n",
       "\t18306 & J. Haist       & 10             & ST            \\\\\n",
       "\t18329 & Z. Al Jari     &  3             & CB            \\\\\n",
       "\t18363 & Li Junfeng     &  3             & RB            \\\\\n",
       "\t18368 & G. Singh       &  9             & ST            \\\\\n",
       "\t18388 & Mai Gaolin     &  1             & GK            \\\\\n",
       "\t18390 & B. Al Shahrani &  1             & GK            \\\\\n",
       "\t18391 & S. Ghidotti    &  1             & GK            \\\\\n",
       "\t18415 & Sun Jianxiang  &  1             & GK            \\\\\n",
       "\t18449 & G. Singh       & 11             & CAM           \\\\\n",
       "\t18465 & D. Mirdha      &  9             & ST            \\\\\n",
       "\t18476 & N. Prabhu      &  4             & CB            \\\\\n",
       "\t18484 & Wang Zhenghao  &  3             & CB            \\\\\n",
       "\t18491 & Liu Haofan     &  5             & CB            \\\\\n",
       "\t18497 & Zhao Wenzhe    &  3             & CB            \\\\\n",
       "\t18510 & S. Fernandes   & 11             & LM            \\\\\n",
       "\t18514 & Shan Huanhuan  &  9             & ST            \\\\\n",
       "\\end{tabular}\n"
      ],
      "text/markdown": [
       "\n",
       "| <!--/--> | Known.As | Club.Jersey.Number | Best.Position |\n",
       "|---|---|---|---|\n",
       "| 2 | K. Benzema        |  9                | CF                |\n",
       "| 3 | R. Lewandowski    |  9                | ST                |\n",
       "| 5 | K. MbappÃ©        |  7                | ST                |\n",
       "| 6 | M. Salah          | 11                | RW                |\n",
       "| 7 | T. Courtois       |  1                | GK                |\n",
       "| 8 | M. Neuer          |  1                | GK                |\n",
       "| 9 | Cristiano Ronaldo |  7                | ST                |\n",
       "| 10 | V. van Dijk       |  4                | CB                |\n",
       "| 11 | H. Kane           | 10                | ST                |\n",
       "| 12 | Neymar Jr         | 10                | LW                |\n",
       "| 13 | H. Son            |  7                | LW                |\n",
       "| 18 | J. Kimmich        |  6                | CDM               |\n",
       "| 19 | Alisson           |  1                | GK                |\n",
       "| 20 | N. KantÃ©         |  7                | CDM               |\n",
       "| 21 | RÃºben Dias       |  3                | CB                |\n",
       "| 22 | E. Haaland        |  9                | ST                |\n",
       "| 25 | JoÃ£o Cancelo     |  7                | LB                |\n",
       "| 26 | Marquinhos        |  5                | CB                |\n",
       "| 27 | K. Navas          |  1                | GK                |\n",
       "| 28 | M. ter Stegen     |  1                | GK                |\n",
       "| 29 | T. Kroos          |  8                | CM                |\n",
       "| 30 | L. ModriÄ‡        | 10                | CM                |\n",
       "| 33 | Fabinho           |  3                | CDM               |\n",
       "| 34 | H. Lloris         |  1                | GK                |\n",
       "| 36 | De Gea            |  1                | GK                |\n",
       "| 37 | M. Verratti       |  6                | CM                |\n",
       "| 42 | L. Goretzka       |  8                | CM                |\n",
       "| 44 | Thiago            |  6                | CM                |\n",
       "| 47 | D. Alaba          |  4                | CB                |\n",
       "| 51 | Thiago Silva      |  6                | CB                |\n",
       "| ... | ... | ... | ... |\n",
       "| 18117 | Wen Junjie     |  2             | CB             |\n",
       "| 18120 | S. Pereira     |  2             | LB             |\n",
       "| 18121 | L. D'Cunha     |  6             | CB             |\n",
       "| 18142 | T. Singh       |  3             | LB             |\n",
       "| 18151 | Lalchungnunga  |  5             | CB             |\n",
       "| 18168 | Li Guanxi      |  1             | GK             |\n",
       "| 18172 | G. Singh       |  3             | CB             |\n",
       "| 18184 | A. Jipa        |  7             | RM             |\n",
       "| 18190 | A. Armour      |  3             | LB             |\n",
       "| 18245 | Guo Yi         |  7             | RM             |\n",
       "| 18246 | Wu Fei         |  1             | GK             |\n",
       "| 18268 | Baek Jong Beom |  1             | GK             |\n",
       "| 18269 | L. Kugland     |  3             | LB             |\n",
       "| 18305 | S. Singh       |  5             | CB             |\n",
       "| 18306 | J. Haist       | 10             | ST             |\n",
       "| 18329 | Z. Al Jari     |  3             | CB             |\n",
       "| 18363 | Li Junfeng     |  3             | RB             |\n",
       "| 18368 | G. Singh       |  9             | ST             |\n",
       "| 18388 | Mai Gaolin     |  1             | GK             |\n",
       "| 18390 | B. Al Shahrani |  1             | GK             |\n",
       "| 18391 | S. Ghidotti    |  1             | GK             |\n",
       "| 18415 | Sun Jianxiang  |  1             | GK             |\n",
       "| 18449 | G. Singh       | 11             | CAM            |\n",
       "| 18465 | D. Mirdha      |  9             | ST             |\n",
       "| 18476 | N. Prabhu      |  4             | CB             |\n",
       "| 18484 | Wang Zhenghao  |  3             | CB             |\n",
       "| 18491 | Liu Haofan     |  5             | CB             |\n",
       "| 18497 | Zhao Wenzhe    |  3             | CB             |\n",
       "| 18510 | S. Fernandes   | 11             | LM             |\n",
       "| 18514 | Shan Huanhuan  |  9             | ST             |\n",
       "\n"
      ],
      "text/plain": [
       "      Known.As          Club.Jersey.Number Best.Position\n",
       "2     K. Benzema         9                 CF           \n",
       "3     R. Lewandowski     9                 ST           \n",
       "5     K. MbappÃ©         7                 ST           \n",
       "6     M. Salah          11                 RW           \n",
       "7     T. Courtois        1                 GK           \n",
       "8     M. Neuer           1                 GK           \n",
       "9     Cristiano Ronaldo  7                 ST           \n",
       "10    V. van Dijk        4                 CB           \n",
       "11    H. Kane           10                 ST           \n",
       "12    Neymar Jr         10                 LW           \n",
       "13    H. Son             7                 LW           \n",
       "18    J. Kimmich         6                 CDM          \n",
       "19    Alisson            1                 GK           \n",
       "20    N. KantÃ©          7                 CDM          \n",
       "21    RÃºben Dias        3                 CB           \n",
       "22    E. Haaland         9                 ST           \n",
       "25    JoÃ£o Cancelo      7                 LB           \n",
       "26    Marquinhos         5                 CB           \n",
       "27    K. Navas           1                 GK           \n",
       "28    M. ter Stegen      1                 GK           \n",
       "29    T. Kroos           8                 CM           \n",
       "30    L. ModriÄ‡        10                 CM           \n",
       "33    Fabinho            3                 CDM          \n",
       "34    H. Lloris          1                 GK           \n",
       "36    De Gea             1                 GK           \n",
       "37    M. Verratti        6                 CM           \n",
       "42    L. Goretzka        8                 CM           \n",
       "44    Thiago             6                 CM           \n",
       "47    D. Alaba           4                 CB           \n",
       "51    Thiago Silva       6                 CB           \n",
       "...   ...               ...                ...          \n",
       "18117 Wen Junjie         2                 CB           \n",
       "18120 S. Pereira         2                 LB           \n",
       "18121 L. D'Cunha         6                 CB           \n",
       "18142 T. Singh           3                 LB           \n",
       "18151 Lalchungnunga      5                 CB           \n",
       "18168 Li Guanxi          1                 GK           \n",
       "18172 G. Singh           3                 CB           \n",
       "18184 A. Jipa            7                 RM           \n",
       "18190 A. Armour          3                 LB           \n",
       "18245 Guo Yi             7                 RM           \n",
       "18246 Wu Fei             1                 GK           \n",
       "18268 Baek Jong Beom     1                 GK           \n",
       "18269 L. Kugland         3                 LB           \n",
       "18305 S. Singh           5                 CB           \n",
       "18306 J. Haist          10                 ST           \n",
       "18329 Z. Al Jari         3                 CB           \n",
       "18363 Li Junfeng         3                 RB           \n",
       "18368 G. Singh           9                 ST           \n",
       "18388 Mai Gaolin         1                 GK           \n",
       "18390 B. Al Shahrani     1                 GK           \n",
       "18391 S. Ghidotti        1                 GK           \n",
       "18415 Sun Jianxiang      1                 GK           \n",
       "18449 G. Singh          11                 CAM          \n",
       "18465 D. Mirdha          9                 ST           \n",
       "18476 N. Prabhu          4                 CB           \n",
       "18484 Wang Zhenghao      3                 CB           \n",
       "18491 Liu Haofan         5                 CB           \n",
       "18497 Zhao Wenzhe        3                 CB           \n",
       "18510 S. Fernandes      11                 LM           \n",
       "18514 Shan Huanhuan      9                 ST           "
      ]
     },
     "metadata": {},
     "output_type": "display_data"
    }
   ],
   "source": [
    "# position_cat <- mutate(starters, numberGroup = ifelse(Club.Jersey.Number == 1, \"Goalkeeper\", \n",
    "#                                                ifelse(Club.Jersey.Number >= 2 & Club.Jersey)))\n",
    "# head(df_filtered); dim(df_filtered)\n",
    "\n",
    "starters[c('Known.As','Club.Jersey.Number', 'Best.Position')]"
   ]
  },
  {
   "cell_type": "code",
   "execution_count": null,
   "id": "a7f30fa8",
   "metadata": {},
   "outputs": [],
   "source": []
  },
  {
   "cell_type": "code",
   "execution_count": 60,
   "id": "cfa84ba2",
   "metadata": {
    "scrolled": true
   },
   "outputs": [
    {
     "data": {
      "text/html": [
       "<ol class=list-inline>\n",
       "\t<li>'Known.As'</li>\n",
       "\t<li>'Full.Name'</li>\n",
       "\t<li>'Overall'</li>\n",
       "\t<li>'Potential'</li>\n",
       "\t<li>'Value.in.Euro.'</li>\n",
       "\t<li>'Positions.Played'</li>\n",
       "\t<li>'Best.Position'</li>\n",
       "\t<li>'Nationality'</li>\n",
       "\t<li>'Image.Link'</li>\n",
       "\t<li>'Age'</li>\n",
       "\t<li>'Height.in.cm.'</li>\n",
       "\t<li>'Weight.in.kg.'</li>\n",
       "\t<li>'TotalStats'</li>\n",
       "\t<li>'BaseStats'</li>\n",
       "\t<li>'Club.Name'</li>\n",
       "\t<li>'Wage.in.Euro.'</li>\n",
       "\t<li>'Release.Clause'</li>\n",
       "\t<li>'Club.Position'</li>\n",
       "\t<li>'Contract.Until'</li>\n",
       "\t<li>'Club.Jersey.Number'</li>\n",
       "\t<li>'Joined.On'</li>\n",
       "\t<li>'On.Loan'</li>\n",
       "\t<li>'Preferred.Foot'</li>\n",
       "\t<li>'Weak.Foot.Rating'</li>\n",
       "\t<li>'Skill.Moves'</li>\n",
       "\t<li>'International.Reputation'</li>\n",
       "\t<li>'National.Team.Name'</li>\n",
       "\t<li>'National.Team.Image.Link'</li>\n",
       "\t<li>'National.Team.Position'</li>\n",
       "\t<li>'National.Team.Jersey.Number'</li>\n",
       "\t<li>'Attacking.Work.Rate'</li>\n",
       "\t<li>'Defensive.Work.Rate'</li>\n",
       "\t<li>'Pace.Total'</li>\n",
       "\t<li>'Shooting.Total'</li>\n",
       "\t<li>'Passing.Total'</li>\n",
       "\t<li>'Dribbling.Total'</li>\n",
       "\t<li>'Defending.Total'</li>\n",
       "\t<li>'Physicality.Total'</li>\n",
       "\t<li>'Crossing'</li>\n",
       "\t<li>'Finishing'</li>\n",
       "\t<li>'Heading.Accuracy'</li>\n",
       "\t<li>'Short.Passing'</li>\n",
       "\t<li>'Volleys'</li>\n",
       "\t<li>'Dribbling'</li>\n",
       "\t<li>'Curve'</li>\n",
       "\t<li>'Freekick.Accuracy'</li>\n",
       "\t<li>'LongPassing'</li>\n",
       "\t<li>'BallControl'</li>\n",
       "\t<li>'Acceleration'</li>\n",
       "\t<li>'Sprint.Speed'</li>\n",
       "\t<li>'Agility'</li>\n",
       "\t<li>'Reactions'</li>\n",
       "\t<li>'Balance'</li>\n",
       "\t<li>'Shot.Power'</li>\n",
       "\t<li>'Jumping'</li>\n",
       "\t<li>'Stamina'</li>\n",
       "\t<li>'Strength'</li>\n",
       "\t<li>'Long.Shots'</li>\n",
       "\t<li>'Aggression'</li>\n",
       "\t<li>'Interceptions'</li>\n",
       "\t<li>'Positioning'</li>\n",
       "\t<li>'Vision'</li>\n",
       "\t<li>'Penalties'</li>\n",
       "\t<li>'Composure'</li>\n",
       "\t<li>'Marking'</li>\n",
       "\t<li>'Standing.Tackle'</li>\n",
       "\t<li>'Sliding.Tackle'</li>\n",
       "\t<li>'Goalkeeper.Diving'</li>\n",
       "\t<li>'Goalkeeper.Handling'</li>\n",
       "\t<li>'GoalkeeperKicking'</li>\n",
       "\t<li>'Goalkeeper.Positioning'</li>\n",
       "\t<li>'Goalkeeper.Reflexes'</li>\n",
       "\t<li>'ST.Rating'</li>\n",
       "\t<li>'LW.Rating'</li>\n",
       "\t<li>'LF.Rating'</li>\n",
       "\t<li>'CF.Rating'</li>\n",
       "\t<li>'RF.Rating'</li>\n",
       "\t<li>'RW.Rating'</li>\n",
       "\t<li>'CAM.Rating'</li>\n",
       "\t<li>'LM.Rating'</li>\n",
       "\t<li>'CM.Rating'</li>\n",
       "\t<li>'RM.Rating'</li>\n",
       "\t<li>'LWB.Rating'</li>\n",
       "\t<li>'CDM.Rating'</li>\n",
       "\t<li>'RWB.Rating'</li>\n",
       "\t<li>'LB.Rating'</li>\n",
       "\t<li>'CB.Rating'</li>\n",
       "\t<li>'RB.Rating'</li>\n",
       "\t<li>'GK.Rating'</li>\n",
       "</ol>\n"
      ],
      "text/latex": [
       "\\begin{enumerate*}\n",
       "\\item 'Known.As'\n",
       "\\item 'Full.Name'\n",
       "\\item 'Overall'\n",
       "\\item 'Potential'\n",
       "\\item 'Value.in.Euro.'\n",
       "\\item 'Positions.Played'\n",
       "\\item 'Best.Position'\n",
       "\\item 'Nationality'\n",
       "\\item 'Image.Link'\n",
       "\\item 'Age'\n",
       "\\item 'Height.in.cm.'\n",
       "\\item 'Weight.in.kg.'\n",
       "\\item 'TotalStats'\n",
       "\\item 'BaseStats'\n",
       "\\item 'Club.Name'\n",
       "\\item 'Wage.in.Euro.'\n",
       "\\item 'Release.Clause'\n",
       "\\item 'Club.Position'\n",
       "\\item 'Contract.Until'\n",
       "\\item 'Club.Jersey.Number'\n",
       "\\item 'Joined.On'\n",
       "\\item 'On.Loan'\n",
       "\\item 'Preferred.Foot'\n",
       "\\item 'Weak.Foot.Rating'\n",
       "\\item 'Skill.Moves'\n",
       "\\item 'International.Reputation'\n",
       "\\item 'National.Team.Name'\n",
       "\\item 'National.Team.Image.Link'\n",
       "\\item 'National.Team.Position'\n",
       "\\item 'National.Team.Jersey.Number'\n",
       "\\item 'Attacking.Work.Rate'\n",
       "\\item 'Defensive.Work.Rate'\n",
       "\\item 'Pace.Total'\n",
       "\\item 'Shooting.Total'\n",
       "\\item 'Passing.Total'\n",
       "\\item 'Dribbling.Total'\n",
       "\\item 'Defending.Total'\n",
       "\\item 'Physicality.Total'\n",
       "\\item 'Crossing'\n",
       "\\item 'Finishing'\n",
       "\\item 'Heading.Accuracy'\n",
       "\\item 'Short.Passing'\n",
       "\\item 'Volleys'\n",
       "\\item 'Dribbling'\n",
       "\\item 'Curve'\n",
       "\\item 'Freekick.Accuracy'\n",
       "\\item 'LongPassing'\n",
       "\\item 'BallControl'\n",
       "\\item 'Acceleration'\n",
       "\\item 'Sprint.Speed'\n",
       "\\item 'Agility'\n",
       "\\item 'Reactions'\n",
       "\\item 'Balance'\n",
       "\\item 'Shot.Power'\n",
       "\\item 'Jumping'\n",
       "\\item 'Stamina'\n",
       "\\item 'Strength'\n",
       "\\item 'Long.Shots'\n",
       "\\item 'Aggression'\n",
       "\\item 'Interceptions'\n",
       "\\item 'Positioning'\n",
       "\\item 'Vision'\n",
       "\\item 'Penalties'\n",
       "\\item 'Composure'\n",
       "\\item 'Marking'\n",
       "\\item 'Standing.Tackle'\n",
       "\\item 'Sliding.Tackle'\n",
       "\\item 'Goalkeeper.Diving'\n",
       "\\item 'Goalkeeper.Handling'\n",
       "\\item 'GoalkeeperKicking'\n",
       "\\item 'Goalkeeper.Positioning'\n",
       "\\item 'Goalkeeper.Reflexes'\n",
       "\\item 'ST.Rating'\n",
       "\\item 'LW.Rating'\n",
       "\\item 'LF.Rating'\n",
       "\\item 'CF.Rating'\n",
       "\\item 'RF.Rating'\n",
       "\\item 'RW.Rating'\n",
       "\\item 'CAM.Rating'\n",
       "\\item 'LM.Rating'\n",
       "\\item 'CM.Rating'\n",
       "\\item 'RM.Rating'\n",
       "\\item 'LWB.Rating'\n",
       "\\item 'CDM.Rating'\n",
       "\\item 'RWB.Rating'\n",
       "\\item 'LB.Rating'\n",
       "\\item 'CB.Rating'\n",
       "\\item 'RB.Rating'\n",
       "\\item 'GK.Rating'\n",
       "\\end{enumerate*}\n"
      ],
      "text/markdown": [
       "1. 'Known.As'\n",
       "2. 'Full.Name'\n",
       "3. 'Overall'\n",
       "4. 'Potential'\n",
       "5. 'Value.in.Euro.'\n",
       "6. 'Positions.Played'\n",
       "7. 'Best.Position'\n",
       "8. 'Nationality'\n",
       "9. 'Image.Link'\n",
       "10. 'Age'\n",
       "11. 'Height.in.cm.'\n",
       "12. 'Weight.in.kg.'\n",
       "13. 'TotalStats'\n",
       "14. 'BaseStats'\n",
       "15. 'Club.Name'\n",
       "16. 'Wage.in.Euro.'\n",
       "17. 'Release.Clause'\n",
       "18. 'Club.Position'\n",
       "19. 'Contract.Until'\n",
       "20. 'Club.Jersey.Number'\n",
       "21. 'Joined.On'\n",
       "22. 'On.Loan'\n",
       "23. 'Preferred.Foot'\n",
       "24. 'Weak.Foot.Rating'\n",
       "25. 'Skill.Moves'\n",
       "26. 'International.Reputation'\n",
       "27. 'National.Team.Name'\n",
       "28. 'National.Team.Image.Link'\n",
       "29. 'National.Team.Position'\n",
       "30. 'National.Team.Jersey.Number'\n",
       "31. 'Attacking.Work.Rate'\n",
       "32. 'Defensive.Work.Rate'\n",
       "33. 'Pace.Total'\n",
       "34. 'Shooting.Total'\n",
       "35. 'Passing.Total'\n",
       "36. 'Dribbling.Total'\n",
       "37. 'Defending.Total'\n",
       "38. 'Physicality.Total'\n",
       "39. 'Crossing'\n",
       "40. 'Finishing'\n",
       "41. 'Heading.Accuracy'\n",
       "42. 'Short.Passing'\n",
       "43. 'Volleys'\n",
       "44. 'Dribbling'\n",
       "45. 'Curve'\n",
       "46. 'Freekick.Accuracy'\n",
       "47. 'LongPassing'\n",
       "48. 'BallControl'\n",
       "49. 'Acceleration'\n",
       "50. 'Sprint.Speed'\n",
       "51. 'Agility'\n",
       "52. 'Reactions'\n",
       "53. 'Balance'\n",
       "54. 'Shot.Power'\n",
       "55. 'Jumping'\n",
       "56. 'Stamina'\n",
       "57. 'Strength'\n",
       "58. 'Long.Shots'\n",
       "59. 'Aggression'\n",
       "60. 'Interceptions'\n",
       "61. 'Positioning'\n",
       "62. 'Vision'\n",
       "63. 'Penalties'\n",
       "64. 'Composure'\n",
       "65. 'Marking'\n",
       "66. 'Standing.Tackle'\n",
       "67. 'Sliding.Tackle'\n",
       "68. 'Goalkeeper.Diving'\n",
       "69. 'Goalkeeper.Handling'\n",
       "70. 'GoalkeeperKicking'\n",
       "71. 'Goalkeeper.Positioning'\n",
       "72. 'Goalkeeper.Reflexes'\n",
       "73. 'ST.Rating'\n",
       "74. 'LW.Rating'\n",
       "75. 'LF.Rating'\n",
       "76. 'CF.Rating'\n",
       "77. 'RF.Rating'\n",
       "78. 'RW.Rating'\n",
       "79. 'CAM.Rating'\n",
       "80. 'LM.Rating'\n",
       "81. 'CM.Rating'\n",
       "82. 'RM.Rating'\n",
       "83. 'LWB.Rating'\n",
       "84. 'CDM.Rating'\n",
       "85. 'RWB.Rating'\n",
       "86. 'LB.Rating'\n",
       "87. 'CB.Rating'\n",
       "88. 'RB.Rating'\n",
       "89. 'GK.Rating'\n",
       "\n",
       "\n"
      ],
      "text/plain": [
       " [1] \"Known.As\"                    \"Full.Name\"                  \n",
       " [3] \"Overall\"                     \"Potential\"                  \n",
       " [5] \"Value.in.Euro.\"              \"Positions.Played\"           \n",
       " [7] \"Best.Position\"               \"Nationality\"                \n",
       " [9] \"Image.Link\"                  \"Age\"                        \n",
       "[11] \"Height.in.cm.\"               \"Weight.in.kg.\"              \n",
       "[13] \"TotalStats\"                  \"BaseStats\"                  \n",
       "[15] \"Club.Name\"                   \"Wage.in.Euro.\"              \n",
       "[17] \"Release.Clause\"              \"Club.Position\"              \n",
       "[19] \"Contract.Until\"              \"Club.Jersey.Number\"         \n",
       "[21] \"Joined.On\"                   \"On.Loan\"                    \n",
       "[23] \"Preferred.Foot\"              \"Weak.Foot.Rating\"           \n",
       "[25] \"Skill.Moves\"                 \"International.Reputation\"   \n",
       "[27] \"National.Team.Name\"          \"National.Team.Image.Link\"   \n",
       "[29] \"National.Team.Position\"      \"National.Team.Jersey.Number\"\n",
       "[31] \"Attacking.Work.Rate\"         \"Defensive.Work.Rate\"        \n",
       "[33] \"Pace.Total\"                  \"Shooting.Total\"             \n",
       "[35] \"Passing.Total\"               \"Dribbling.Total\"            \n",
       "[37] \"Defending.Total\"             \"Physicality.Total\"          \n",
       "[39] \"Crossing\"                    \"Finishing\"                  \n",
       "[41] \"Heading.Accuracy\"            \"Short.Passing\"              \n",
       "[43] \"Volleys\"                     \"Dribbling\"                  \n",
       "[45] \"Curve\"                       \"Freekick.Accuracy\"          \n",
       "[47] \"LongPassing\"                 \"BallControl\"                \n",
       "[49] \"Acceleration\"                \"Sprint.Speed\"               \n",
       "[51] \"Agility\"                     \"Reactions\"                  \n",
       "[53] \"Balance\"                     \"Shot.Power\"                 \n",
       "[55] \"Jumping\"                     \"Stamina\"                    \n",
       "[57] \"Strength\"                    \"Long.Shots\"                 \n",
       "[59] \"Aggression\"                  \"Interceptions\"              \n",
       "[61] \"Positioning\"                 \"Vision\"                     \n",
       "[63] \"Penalties\"                   \"Composure\"                  \n",
       "[65] \"Marking\"                     \"Standing.Tackle\"            \n",
       "[67] \"Sliding.Tackle\"              \"Goalkeeper.Diving\"          \n",
       "[69] \"Goalkeeper.Handling\"         \"GoalkeeperKicking\"          \n",
       "[71] \"Goalkeeper.Positioning\"      \"Goalkeeper.Reflexes\"        \n",
       "[73] \"ST.Rating\"                   \"LW.Rating\"                  \n",
       "[75] \"LF.Rating\"                   \"CF.Rating\"                  \n",
       "[77] \"RF.Rating\"                   \"RW.Rating\"                  \n",
       "[79] \"CAM.Rating\"                  \"LM.Rating\"                  \n",
       "[81] \"CM.Rating\"                   \"RM.Rating\"                  \n",
       "[83] \"LWB.Rating\"                  \"CDM.Rating\"                 \n",
       "[85] \"RWB.Rating\"                  \"LB.Rating\"                  \n",
       "[87] \"CB.Rating\"                   \"RB.Rating\"                  \n",
       "[89] \"GK.Rating\"                  "
      ]
     },
     "metadata": {},
     "output_type": "display_data"
    }
   ],
   "source": [
    "colnames(players)"
   ]
  },
  {
   "cell_type": "code",
   "execution_count": 4,
   "id": "6ec56207",
   "metadata": {
    "scrolled": false
   },
   "outputs": [
    {
     "data": {
      "text/html": [
       "<table>\n",
       "<thead><tr><th scope=col>ID</th><th scope=col>Name</th><th scope=col>League</th><th scope=col>LeagueId</th><th scope=col>Overall</th><th scope=col>Attack</th><th scope=col>Midfield</th><th scope=col>Defence</th><th scope=col>TransferBudget</th><th scope=col>DomesticPrestige</th><th scope=col>IntPrestige</th><th scope=col>Players</th><th scope=col>StartingAverageAge</th><th scope=col>AllTeamAverageAge</th></tr></thead>\n",
       "<tbody>\n",
       "\t<tr><td>  1943                    </td><td>AFC Bournemouth           </td><td>English Premier League (1)</td><td>13                        </td><td>74                        </td><td>75                        </td><td>73                        </td><td>73                        </td><td>0                         </td><td>2                         </td><td>1                         </td><td>28                        </td><td>25.8                      </td><td>25.5                      </td></tr>\n",
       "\t<tr><td>116418                    </td><td>AFC Richmond              </td><td>English Premier League (1)</td><td>13                        </td><td>78                        </td><td>81                        </td><td>79                        </td><td>77                        </td><td>0                         </td><td>5                         </td><td>3                         </td><td>19                        </td><td>27.3                      </td><td>27.3                      </td></tr>\n",
       "\t<tr><td>     1                    </td><td>Arsenal                   </td><td>English Premier League (1)</td><td>13                        </td><td>80                        </td><td>83                        </td><td>81                        </td><td>79                        </td><td>0                         </td><td>7                         </td><td>7                         </td><td>29                        </td><td>24.1                      </td><td>23.0                      </td></tr>\n",
       "\t<tr><td>     2                    </td><td>Aston Villa               </td><td>English Premier League (1)</td><td>13                        </td><td>79                        </td><td>79                        </td><td>78                        </td><td>80                        </td><td>0                         </td><td>5                         </td><td>3                         </td><td>32                        </td><td>25.8                      </td><td>25.2                      </td></tr>\n",
       "\t<tr><td>  1925                    </td><td>Brentford                 </td><td>English Premier League (1)</td><td>13                        </td><td>75                        </td><td>75                        </td><td>74                        </td><td>75                        </td><td>0                         </td><td>1                         </td><td>1                         </td><td>30                        </td><td>25.4                      </td><td>24.2                      </td></tr>\n",
       "\t<tr><td><span style=white-space:pre-wrap>  1808</span></td><td>Brighton &amp; Hove Albion                    </td><td>English Premier League (1)                    </td><td>13                                            </td><td>76                                            </td><td>76                                            </td><td>75                                            </td><td>77                                            </td><td>0                                             </td><td>3                                             </td><td>2                                             </td><td>31                                            </td><td>27.6                                          </td><td>23.6                                          </td></tr>\n",
       "</tbody>\n",
       "</table>\n"
      ],
      "text/latex": [
       "\\begin{tabular}{r|llllllllllllll}\n",
       " ID & Name & League & LeagueId & Overall & Attack & Midfield & Defence & TransferBudget & DomesticPrestige & IntPrestige & Players & StartingAverageAge & AllTeamAverageAge\\\\\n",
       "\\hline\n",
       "\t   1943                     & AFC Bournemouth            & English Premier League (1) & 13                         & 74                         & 75                         & 73                         & 73                         & 0                          & 2                          & 1                          & 28                         & 25.8                       & 25.5                      \\\\\n",
       "\t 116418                     & AFC Richmond               & English Premier League (1) & 13                         & 78                         & 81                         & 79                         & 77                         & 0                          & 5                          & 3                          & 19                         & 27.3                       & 27.3                      \\\\\n",
       "\t      1                     & Arsenal                    & English Premier League (1) & 13                         & 80                         & 83                         & 81                         & 79                         & 0                          & 7                          & 7                          & 29                         & 24.1                       & 23.0                      \\\\\n",
       "\t      2                     & Aston Villa                & English Premier League (1) & 13                         & 79                         & 79                         & 78                         & 80                         & 0                          & 5                          & 3                          & 32                         & 25.8                       & 25.2                      \\\\\n",
       "\t   1925                     & Brentford                  & English Premier League (1) & 13                         & 75                         & 75                         & 74                         & 75                         & 0                          & 1                          & 1                          & 30                         & 25.4                       & 24.2                      \\\\\n",
       "\t   1808                     & Brighton \\& Hove Albion   & English Premier League (1) & 13                         & 76                         & 76                         & 75                         & 77                         & 0                          & 3                          & 2                          & 31                         & 27.6                       & 23.6                      \\\\\n",
       "\\end{tabular}\n"
      ],
      "text/markdown": [
       "\n",
       "| ID | Name | League | LeagueId | Overall | Attack | Midfield | Defence | TransferBudget | DomesticPrestige | IntPrestige | Players | StartingAverageAge | AllTeamAverageAge |\n",
       "|---|---|---|---|---|---|---|---|---|---|---|---|---|---|\n",
       "|   1943                     | AFC Bournemouth            | English Premier League (1) | 13                         | 74                         | 75                         | 73                         | 73                         | 0                          | 2                          | 1                          | 28                         | 25.8                       | 25.5                       |\n",
       "| 116418                     | AFC Richmond               | English Premier League (1) | 13                         | 78                         | 81                         | 79                         | 77                         | 0                          | 5                          | 3                          | 19                         | 27.3                       | 27.3                       |\n",
       "|      1                     | Arsenal                    | English Premier League (1) | 13                         | 80                         | 83                         | 81                         | 79                         | 0                          | 7                          | 7                          | 29                         | 24.1                       | 23.0                       |\n",
       "|      2                     | Aston Villa                | English Premier League (1) | 13                         | 79                         | 79                         | 78                         | 80                         | 0                          | 5                          | 3                          | 32                         | 25.8                       | 25.2                       |\n",
       "|   1925                     | Brentford                  | English Premier League (1) | 13                         | 75                         | 75                         | 74                         | 75                         | 0                          | 1                          | 1                          | 30                         | 25.4                       | 24.2                       |\n",
       "|   1808                     | Brighton & Hove Albion     | English Premier League (1) | 13                         | 76                         | 76                         | 75                         | 77                         | 0                          | 3                          | 2                          | 31                         | 27.6                       | 23.6                       |\n",
       "\n"
      ],
      "text/plain": [
       "  ID     Name                   League                     LeagueId Overall\n",
       "1   1943 AFC Bournemouth        English Premier League (1) 13       74     \n",
       "2 116418 AFC Richmond           English Premier League (1) 13       78     \n",
       "3      1 Arsenal                English Premier League (1) 13       80     \n",
       "4      2 Aston Villa            English Premier League (1) 13       79     \n",
       "5   1925 Brentford              English Premier League (1) 13       75     \n",
       "6   1808 Brighton & Hove Albion English Premier League (1) 13       76     \n",
       "  Attack Midfield Defence TransferBudget DomesticPrestige IntPrestige Players\n",
       "1 75     73       73      0              2                1           28     \n",
       "2 81     79       77      0              5                3           19     \n",
       "3 83     81       79      0              7                7           29     \n",
       "4 79     78       80      0              5                3           32     \n",
       "5 75     74       75      0              1                1           30     \n",
       "6 76     75       77      0              3                2           31     \n",
       "  StartingAverageAge AllTeamAverageAge\n",
       "1 25.8               25.5             \n",
       "2 27.3               27.3             \n",
       "3 24.1               23.0             \n",
       "4 25.8               25.2             \n",
       "5 25.4               24.2             \n",
       "6 27.6               23.6             "
      ]
     },
     "metadata": {},
     "output_type": "display_data"
    }
   ],
   "source": [
    "head(teams)"
   ]
  },
  {
   "cell_type": "code",
   "execution_count": 62,
   "id": "dbd5c79e",
   "metadata": {},
   "outputs": [
    {
     "data": {
      "text/html": [
       "<table>\n",
       "<thead><tr><th scope=col>Club.Name</th><th scope=col>Known.As</th><th scope=col>Full.Name</th><th scope=col>Overall.x</th><th scope=col>Potential</th><th scope=col>Value.in.Euro.</th><th scope=col>Positions.Played</th><th scope=col>Best.Position</th><th scope=col>Nationality</th><th scope=col>Image.Link</th><th scope=col>...</th><th scope=col>Overall.y</th><th scope=col>Attack</th><th scope=col>Midfield</th><th scope=col>Defence</th><th scope=col>TransferBudget</th><th scope=col>DomesticPrestige</th><th scope=col>IntPrestige</th><th scope=col>Players</th><th scope=col>StartingAverageAge</th><th scope=col>AllTeamAverageAge</th></tr></thead>\n",
       "<tbody>\n",
       "\t<tr><td>1. FC Heidenheim 1846                           </td><td>K. Sessa                                        </td><td>Kevin Sessa                                     </td><td>68                                              </td><td>75                                              </td><td>2400000                                         </td><td>CM,RM                                           </td><td>RM                                              </td><td>Germany                                         </td><td>https://cdn.sofifa.net/players/242/974/23_60.png</td><td>...                                             </td><td>68                                              </td><td>69                                              </td><td>67                                              </td><td>69                                              </td><td>0                                               </td><td>6                                               </td><td>1                                               </td><td>28                                              </td><td>25.4                                            </td><td>24.6                                            </td></tr>\n",
       "\t<tr><td>1. FC Heidenheim 1846                           </td><td>T. Keller                                       </td><td>Thomas Keller                                   </td><td>67                                              </td><td>75                                              </td><td>2100000                                         </td><td>CB,CDM                                          </td><td>CB                                              </td><td>Germany                                         </td><td>https://cdn.sofifa.net/players/251/289/23_60.png</td><td>...                                             </td><td>68                                              </td><td>69                                              </td><td>67                                              </td><td>69                                              </td><td>0                                               </td><td>6                                               </td><td>1                                               </td><td>28                                              </td><td>25.4                                            </td><td>24.6                                            </td></tr>\n",
       "\t<tr><td>1. FC Heidenheim 1846                           </td><td>A. Geipl                                        </td><td>Andreas Geipl                                   </td><td>68                                              </td><td>68                                              </td><td>1000000                                         </td><td>CDM                                             </td><td>CB                                              </td><td>Germany                                         </td><td>https://cdn.sofifa.net/players/213/644/23_60.png</td><td>...                                             </td><td>68                                              </td><td>69                                              </td><td>67                                              </td><td>69                                              </td><td>0                                               </td><td>6                                               </td><td>1                                               </td><td>28                                              </td><td>25.4                                            </td><td>24.6                                            </td></tr>\n",
       "\t<tr><td>1. FC Heidenheim 1846                           </td><td>M. Busch                                        </td><td>Marnon Busch                                    </td><td>71                                              </td><td>71                                              </td><td>1800000                                         </td><td>RB                                              </td><td>RB                                              </td><td>Germany                                         </td><td>https://cdn.sofifa.net/players/224/980/23_60.png</td><td>...                                             </td><td>68                                              </td><td>69                                              </td><td>67                                              </td><td>69                                              </td><td>0                                               </td><td>6                                               </td><td>1                                               </td><td>28                                              </td><td>25.4                                            </td><td>24.6                                            </td></tr>\n",
       "\t<tr><td>1. FC Heidenheim 1846                           </td><td>T. Siersleben                                   </td><td>Tim Siersleben                                  </td><td>67                                              </td><td>74                                              </td><td>1900000                                         </td><td>CB,LB                                           </td><td>CB                                              </td><td>Germany                                         </td><td>https://cdn.sofifa.net/players/258/812/23_60.png</td><td>...                                             </td><td>68                                              </td><td>69                                              </td><td>67                                              </td><td>69                                              </td><td>0                                               </td><td>6                                               </td><td>1                                               </td><td>28                                              </td><td>25.4                                            </td><td>24.6                                            </td></tr>\n",
       "\t<tr><td>1. FC Heidenheim 1846                           </td><td>F. Pick                                         </td><td>Florian Pick                                    </td><td>67                                              </td><td>67                                              </td><td>1100000                                         </td><td>LM,RM                                           </td><td>LM                                              </td><td>Germany                                         </td><td>https://cdn.sofifa.net/players/237/635/23_60.png</td><td>...                                             </td><td>68                                              </td><td>69                                              </td><td>67                                              </td><td>69                                              </td><td>0                                               </td><td>6                                               </td><td>1                                               </td><td>28                                              </td><td>25.4                                            </td><td>24.6                                            </td></tr>\n",
       "</tbody>\n",
       "</table>\n"
      ],
      "text/latex": [
       "\\begin{tabular}{r|llllllllllllllllllllllllllllllllllllllllllllllllllllllllllllllllllllllllllllllllllllllllllllllllllllll}\n",
       " Club.Name & Known.As & Full.Name & Overall.x & Potential & Value.in.Euro. & Positions.Played & Best.Position & Nationality & Image.Link & ... & Overall.y & Attack & Midfield & Defence & TransferBudget & DomesticPrestige & IntPrestige & Players & StartingAverageAge & AllTeamAverageAge\\\\\n",
       "\\hline\n",
       "\t 1. FC Heidenheim 1846                              & K. Sessa                                           & Kevin Sessa                                        & 68                                                 & 75                                                 & 2400000                                            & CM,RM                                              & RM                                                 & Germany                                            & https://cdn.sofifa.net/players/242/974/23\\_60.png & ...                                                & 68                                                 & 69                                                 & 67                                                 & 69                                                 & 0                                                  & 6                                                  & 1                                                  & 28                                                 & 25.4                                               & 24.6                                              \\\\\n",
       "\t 1. FC Heidenheim 1846                              & T. Keller                                          & Thomas Keller                                      & 67                                                 & 75                                                 & 2100000                                            & CB,CDM                                             & CB                                                 & Germany                                            & https://cdn.sofifa.net/players/251/289/23\\_60.png & ...                                                & 68                                                 & 69                                                 & 67                                                 & 69                                                 & 0                                                  & 6                                                  & 1                                                  & 28                                                 & 25.4                                               & 24.6                                              \\\\\n",
       "\t 1. FC Heidenheim 1846                              & A. Geipl                                           & Andreas Geipl                                      & 68                                                 & 68                                                 & 1000000                                            & CDM                                                & CB                                                 & Germany                                            & https://cdn.sofifa.net/players/213/644/23\\_60.png & ...                                                & 68                                                 & 69                                                 & 67                                                 & 69                                                 & 0                                                  & 6                                                  & 1                                                  & 28                                                 & 25.4                                               & 24.6                                              \\\\\n",
       "\t 1. FC Heidenheim 1846                              & M. Busch                                           & Marnon Busch                                       & 71                                                 & 71                                                 & 1800000                                            & RB                                                 & RB                                                 & Germany                                            & https://cdn.sofifa.net/players/224/980/23\\_60.png & ...                                                & 68                                                 & 69                                                 & 67                                                 & 69                                                 & 0                                                  & 6                                                  & 1                                                  & 28                                                 & 25.4                                               & 24.6                                              \\\\\n",
       "\t 1. FC Heidenheim 1846                              & T. Siersleben                                      & Tim Siersleben                                     & 67                                                 & 74                                                 & 1900000                                            & CB,LB                                              & CB                                                 & Germany                                            & https://cdn.sofifa.net/players/258/812/23\\_60.png & ...                                                & 68                                                 & 69                                                 & 67                                                 & 69                                                 & 0                                                  & 6                                                  & 1                                                  & 28                                                 & 25.4                                               & 24.6                                              \\\\\n",
       "\t 1. FC Heidenheim 1846                              & F. Pick                                            & Florian Pick                                       & 67                                                 & 67                                                 & 1100000                                            & LM,RM                                              & LM                                                 & Germany                                            & https://cdn.sofifa.net/players/237/635/23\\_60.png & ...                                                & 68                                                 & 69                                                 & 67                                                 & 69                                                 & 0                                                  & 6                                                  & 1                                                  & 28                                                 & 25.4                                               & 24.6                                              \\\\\n",
       "\\end{tabular}\n"
      ],
      "text/markdown": [
       "\n",
       "| Club.Name | Known.As | Full.Name | Overall.x | Potential | Value.in.Euro. | Positions.Played | Best.Position | Nationality | Image.Link | ... | Overall.y | Attack | Midfield | Defence | TransferBudget | DomesticPrestige | IntPrestige | Players | StartingAverageAge | AllTeamAverageAge |\n",
       "|---|---|---|---|---|---|---|---|---|---|---|---|---|---|---|---|---|---|---|---|---|\n",
       "| 1. FC Heidenheim 1846                            | K. Sessa                                         | Kevin Sessa                                      | 68                                               | 75                                               | 2400000                                          | CM,RM                                            | RM                                               | Germany                                          | https://cdn.sofifa.net/players/242/974/23_60.png | ...                                              | 68                                               | 69                                               | 67                                               | 69                                               | 0                                                | 6                                                | 1                                                | 28                                               | 25.4                                             | 24.6                                             |\n",
       "| 1. FC Heidenheim 1846                            | T. Keller                                        | Thomas Keller                                    | 67                                               | 75                                               | 2100000                                          | CB,CDM                                           | CB                                               | Germany                                          | https://cdn.sofifa.net/players/251/289/23_60.png | ...                                              | 68                                               | 69                                               | 67                                               | 69                                               | 0                                                | 6                                                | 1                                                | 28                                               | 25.4                                             | 24.6                                             |\n",
       "| 1. FC Heidenheim 1846                            | A. Geipl                                         | Andreas Geipl                                    | 68                                               | 68                                               | 1000000                                          | CDM                                              | CB                                               | Germany                                          | https://cdn.sofifa.net/players/213/644/23_60.png | ...                                              | 68                                               | 69                                               | 67                                               | 69                                               | 0                                                | 6                                                | 1                                                | 28                                               | 25.4                                             | 24.6                                             |\n",
       "| 1. FC Heidenheim 1846                            | M. Busch                                         | Marnon Busch                                     | 71                                               | 71                                               | 1800000                                          | RB                                               | RB                                               | Germany                                          | https://cdn.sofifa.net/players/224/980/23_60.png | ...                                              | 68                                               | 69                                               | 67                                               | 69                                               | 0                                                | 6                                                | 1                                                | 28                                               | 25.4                                             | 24.6                                             |\n",
       "| 1. FC Heidenheim 1846                            | T. Siersleben                                    | Tim Siersleben                                   | 67                                               | 74                                               | 1900000                                          | CB,LB                                            | CB                                               | Germany                                          | https://cdn.sofifa.net/players/258/812/23_60.png | ...                                              | 68                                               | 69                                               | 67                                               | 69                                               | 0                                                | 6                                                | 1                                                | 28                                               | 25.4                                             | 24.6                                             |\n",
       "| 1. FC Heidenheim 1846                            | F. Pick                                          | Florian Pick                                     | 67                                               | 67                                               | 1100000                                          | LM,RM                                            | LM                                               | Germany                                          | https://cdn.sofifa.net/players/237/635/23_60.png | ...                                              | 68                                               | 69                                               | 67                                               | 69                                               | 0                                                | 6                                                | 1                                                | 28                                               | 25.4                                             | 24.6                                             |\n",
       "\n"
      ],
      "text/plain": [
       "  Club.Name             Known.As      Full.Name      Overall.x Potential\n",
       "1 1. FC Heidenheim 1846 K. Sessa      Kevin Sessa    68        75       \n",
       "2 1. FC Heidenheim 1846 T. Keller     Thomas Keller  67        75       \n",
       "3 1. FC Heidenheim 1846 A. Geipl      Andreas Geipl  68        68       \n",
       "4 1. FC Heidenheim 1846 M. Busch      Marnon Busch   71        71       \n",
       "5 1. FC Heidenheim 1846 T. Siersleben Tim Siersleben 67        74       \n",
       "6 1. FC Heidenheim 1846 F. Pick       Florian Pick   67        67       \n",
       "  Value.in.Euro. Positions.Played Best.Position Nationality\n",
       "1 2400000        CM,RM            RM            Germany    \n",
       "2 2100000        CB,CDM           CB            Germany    \n",
       "3 1000000        CDM              CB            Germany    \n",
       "4 1800000        RB               RB            Germany    \n",
       "5 1900000        CB,LB            CB            Germany    \n",
       "6 1100000        LM,RM            LM            Germany    \n",
       "  Image.Link                                       ... Overall.y Attack\n",
       "1 https://cdn.sofifa.net/players/242/974/23_60.png ... 68        69    \n",
       "2 https://cdn.sofifa.net/players/251/289/23_60.png ... 68        69    \n",
       "3 https://cdn.sofifa.net/players/213/644/23_60.png ... 68        69    \n",
       "4 https://cdn.sofifa.net/players/224/980/23_60.png ... 68        69    \n",
       "5 https://cdn.sofifa.net/players/258/812/23_60.png ... 68        69    \n",
       "6 https://cdn.sofifa.net/players/237/635/23_60.png ... 68        69    \n",
       "  Midfield Defence TransferBudget DomesticPrestige IntPrestige Players\n",
       "1 67       69      0              6                1           28     \n",
       "2 67       69      0              6                1           28     \n",
       "3 67       69      0              6                1           28     \n",
       "4 67       69      0              6                1           28     \n",
       "5 67       69      0              6                1           28     \n",
       "6 67       69      0              6                1           28     \n",
       "  StartingAverageAge AllTeamAverageAge\n",
       "1 25.4               24.6             \n",
       "2 25.4               24.6             \n",
       "3 25.4               24.6             \n",
       "4 25.4               24.6             \n",
       "5 25.4               24.6             \n",
       "6 25.4               24.6             "
      ]
     },
     "metadata": {},
     "output_type": "display_data"
    }
   ],
   "source": [
    "combined <- merge(players, teams, by.x=\"Club.Name\", by.y=\"Name\", all.x = TRUE, all.y=FALSE)\n",
    "head(combined)"
   ]
  },
  {
   "cell_type": "code",
   "execution_count": 63,
   "id": "bd7da76d",
   "metadata": {},
   "outputs": [
    {
     "data": {
      "text/html": [
       "<dl class=dl-horizontal>\n",
       "\t<dt>-</dt>\n",
       "\t\t<dd>92</dd>\n",
       "\t<dt>2022</dt>\n",
       "\t\t<dd>2372</dd>\n",
       "\t<dt>2023</dt>\n",
       "\t\t<dd>6796</dd>\n",
       "\t<dt>2024</dt>\n",
       "\t\t<dd>4467</dd>\n",
       "\t<dt>2025</dt>\n",
       "\t\t<dd>2968</dd>\n",
       "\t<dt>2026</dt>\n",
       "\t\t<dd>1204</dd>\n",
       "\t<dt>2027</dt>\n",
       "\t\t<dd>611</dd>\n",
       "\t<dt>2028</dt>\n",
       "\t\t<dd>25</dd>\n",
       "\t<dt>2031</dt>\n",
       "\t\t<dd>2</dd>\n",
       "\t<dt>2032</dt>\n",
       "\t\t<dd>2</dd>\n",
       "</dl>\n"
      ],
      "text/latex": [
       "\\begin{description*}\n",
       "\\item[-] 92\n",
       "\\item[2022] 2372\n",
       "\\item[2023] 6796\n",
       "\\item[2024] 4467\n",
       "\\item[2025] 2968\n",
       "\\item[2026] 1204\n",
       "\\item[2027] 611\n",
       "\\item[2028] 25\n",
       "\\item[2031] 2\n",
       "\\item[2032] 2\n",
       "\\end{description*}\n"
      ],
      "text/markdown": [
       "-\n",
       ":   922022\n",
       ":   23722023\n",
       ":   67962024\n",
       ":   44672025\n",
       ":   29682026\n",
       ":   12042027\n",
       ":   6112028\n",
       ":   252031\n",
       ":   22032\n",
       ":   2\n",
       "\n"
      ],
      "text/plain": [
       "   - 2022 2023 2024 2025 2026 2027 2028 2031 2032 \n",
       "  92 2372 6796 4467 2968 1204  611   25    2    2 "
      ]
     },
     "metadata": {},
     "output_type": "display_data"
    }
   ],
   "source": [
    "# some cleaning\n",
    "summary(combined$Contract.Until)"
   ]
  },
  {
   "cell_type": "code",
   "execution_count": 100,
   "id": "5d51e493",
   "metadata": {},
   "outputs": [
    {
     "data": {
      "text/html": [
       "<table>\n",
       "<thead><tr><th scope=col>Full.Name</th><th scope=col>Wage.in.Euro.</th><th scope=col>Value.in.Euro.</th><th scope=col>Nationality</th><th scope=col>Release.Clause</th><th scope=col>Contract.Until</th></tr></thead>\n",
       "<tbody>\n",
       "\t<tr><td>Kevin Sessa   </td><td> 7000         </td><td>2400000       </td><td>Germany       </td><td>4200000       </td><td>2024          </td></tr>\n",
       "\t<tr><td>Thomas Keller </td><td> 7000         </td><td>2100000       </td><td>Germany       </td><td>3700000       </td><td>2025          </td></tr>\n",
       "\t<tr><td>Andreas Geipl </td><td> 9000         </td><td>1000000       </td><td>Germany       </td><td>1600000       </td><td>2023          </td></tr>\n",
       "\t<tr><td>Marnon Busch  </td><td>14000         </td><td>1800000       </td><td>Germany       </td><td>2800000       </td><td>2023          </td></tr>\n",
       "\t<tr><td>Tim Siersleben</td><td>11000         </td><td>1900000       </td><td>Germany       </td><td>      0       </td><td>2023          </td></tr>\n",
       "\t<tr><td>Florian Pick  </td><td> 8000         </td><td>1100000       </td><td>Germany       </td><td>1700000       </td><td>2024          </td></tr>\n",
       "</tbody>\n",
       "</table>\n"
      ],
      "text/latex": [
       "\\begin{tabular}{r|llllll}\n",
       " Full.Name & Wage.in.Euro. & Value.in.Euro. & Nationality & Release.Clause & Contract.Until\\\\\n",
       "\\hline\n",
       "\t Kevin Sessa    &  7000          & 2400000        & Germany        & 4200000        & 2024          \\\\\n",
       "\t Thomas Keller  &  7000          & 2100000        & Germany        & 3700000        & 2025          \\\\\n",
       "\t Andreas Geipl  &  9000          & 1000000        & Germany        & 1600000        & 2023          \\\\\n",
       "\t Marnon Busch   & 14000          & 1800000        & Germany        & 2800000        & 2023          \\\\\n",
       "\t Tim Siersleben & 11000          & 1900000        & Germany        &       0        & 2023          \\\\\n",
       "\t Florian Pick   &  8000          & 1100000        & Germany        & 1700000        & 2024          \\\\\n",
       "\\end{tabular}\n"
      ],
      "text/markdown": [
       "\n",
       "| Full.Name | Wage.in.Euro. | Value.in.Euro. | Nationality | Release.Clause | Contract.Until |\n",
       "|---|---|---|---|---|---|\n",
       "| Kevin Sessa    |  7000          | 2400000        | Germany        | 4200000        | 2024           |\n",
       "| Thomas Keller  |  7000          | 2100000        | Germany        | 3700000        | 2025           |\n",
       "| Andreas Geipl  |  9000          | 1000000        | Germany        | 1600000        | 2023           |\n",
       "| Marnon Busch   | 14000          | 1800000        | Germany        | 2800000        | 2023           |\n",
       "| Tim Siersleben | 11000          | 1900000        | Germany        |       0        | 2023           |\n",
       "| Florian Pick   |  8000          | 1100000        | Germany        | 1700000        | 2024           |\n",
       "\n"
      ],
      "text/plain": [
       "  Full.Name      Wage.in.Euro. Value.in.Euro. Nationality Release.Clause\n",
       "1 Kevin Sessa     7000         2400000        Germany     4200000       \n",
       "2 Thomas Keller   7000         2100000        Germany     3700000       \n",
       "3 Andreas Geipl   9000         1000000        Germany     1600000       \n",
       "4 Marnon Busch   14000         1800000        Germany     2800000       \n",
       "5 Tim Siersleben 11000         1900000        Germany           0       \n",
       "6 Florian Pick    8000         1100000        Germany     1700000       \n",
       "  Contract.Until\n",
       "1 2024          \n",
       "2 2025          \n",
       "3 2023          \n",
       "4 2023          \n",
       "5 2023          \n",
       "6 2024          "
      ]
     },
     "metadata": {},
     "output_type": "display_data"
    },
    {
     "data": {
      "text/html": [
       "<ol class=list-inline>\n",
       "\t<li>18539</li>\n",
       "\t<li>6</li>\n",
       "</ol>\n"
      ],
      "text/latex": [
       "\\begin{enumerate*}\n",
       "\\item 18539\n",
       "\\item 6\n",
       "\\end{enumerate*}\n"
      ],
      "text/markdown": [
       "1. 18539\n",
       "2. 6\n",
       "\n",
       "\n"
      ],
      "text/plain": [
       "[1] 18539     6"
      ]
     },
     "metadata": {},
     "output_type": "display_data"
    }
   ],
   "source": [
    "data <- combined[c('Full.Name','Wage.in.Euro.', 'Value.in.Euro.', 'Nationality', 'Release.Clause', 'Contract.Until')]\n",
    "head(data)\n",
    "dim(data)"
   ]
  },
  {
   "cell_type": "code",
   "execution_count": 102,
   "id": "217667e5",
   "metadata": {},
   "outputs": [
    {
     "data": {
      "text/html": [
       "<table>\n",
       "<thead><tr><th scope=col>Full.Name</th><th scope=col>Wage</th><th scope=col>Value</th><th scope=col>Nationality</th><th scope=col>Release.Clause</th><th scope=col>Contract.Until</th></tr></thead>\n",
       "<tbody>\n",
       "\t<tr><td>Kevin Sessa   </td><td> 7000         </td><td>2400000       </td><td>Germany       </td><td>4200000       </td><td>2024          </td></tr>\n",
       "\t<tr><td>Thomas Keller </td><td> 7000         </td><td>2100000       </td><td>Germany       </td><td>3700000       </td><td>2025          </td></tr>\n",
       "\t<tr><td>Andreas Geipl </td><td> 9000         </td><td>1000000       </td><td>Germany       </td><td>1600000       </td><td>2023          </td></tr>\n",
       "\t<tr><td>Marnon Busch  </td><td>14000         </td><td>1800000       </td><td>Germany       </td><td>2800000       </td><td>2023          </td></tr>\n",
       "\t<tr><td>Tim Siersleben</td><td>11000         </td><td>1900000       </td><td>Germany       </td><td>      0       </td><td>2023          </td></tr>\n",
       "\t<tr><td>Florian Pick  </td><td> 8000         </td><td>1100000       </td><td>Germany       </td><td>1700000       </td><td>2024          </td></tr>\n",
       "</tbody>\n",
       "</table>\n"
      ],
      "text/latex": [
       "\\begin{tabular}{r|llllll}\n",
       " Full.Name & Wage & Value & Nationality & Release.Clause & Contract.Until\\\\\n",
       "\\hline\n",
       "\t Kevin Sessa    &  7000          & 2400000        & Germany        & 4200000        & 2024          \\\\\n",
       "\t Thomas Keller  &  7000          & 2100000        & Germany        & 3700000        & 2025          \\\\\n",
       "\t Andreas Geipl  &  9000          & 1000000        & Germany        & 1600000        & 2023          \\\\\n",
       "\t Marnon Busch   & 14000          & 1800000        & Germany        & 2800000        & 2023          \\\\\n",
       "\t Tim Siersleben & 11000          & 1900000        & Germany        &       0        & 2023          \\\\\n",
       "\t Florian Pick   &  8000          & 1100000        & Germany        & 1700000        & 2024          \\\\\n",
       "\\end{tabular}\n"
      ],
      "text/markdown": [
       "\n",
       "| Full.Name | Wage | Value | Nationality | Release.Clause | Contract.Until |\n",
       "|---|---|---|---|---|---|\n",
       "| Kevin Sessa    |  7000          | 2400000        | Germany        | 4200000        | 2024           |\n",
       "| Thomas Keller  |  7000          | 2100000        | Germany        | 3700000        | 2025           |\n",
       "| Andreas Geipl  |  9000          | 1000000        | Germany        | 1600000        | 2023           |\n",
       "| Marnon Busch   | 14000          | 1800000        | Germany        | 2800000        | 2023           |\n",
       "| Tim Siersleben | 11000          | 1900000        | Germany        |       0        | 2023           |\n",
       "| Florian Pick   |  8000          | 1100000        | Germany        | 1700000        | 2024           |\n",
       "\n"
      ],
      "text/plain": [
       "  Full.Name      Wage  Value   Nationality Release.Clause Contract.Until\n",
       "1 Kevin Sessa     7000 2400000 Germany     4200000        2024          \n",
       "2 Thomas Keller   7000 2100000 Germany     3700000        2025          \n",
       "3 Andreas Geipl   9000 1000000 Germany     1600000        2023          \n",
       "4 Marnon Busch   14000 1800000 Germany     2800000        2023          \n",
       "5 Tim Siersleben 11000 1900000 Germany           0        2023          \n",
       "6 Florian Pick    8000 1100000 Germany     1700000        2024          "
      ]
     },
     "metadata": {},
     "output_type": "display_data"
    }
   ],
   "source": [
    "# rename\n",
    "colnames(data)[2] <- \"Wage\"\n",
    "colnames(data)[3] <- \"Value\"\n",
    "head(data)"
   ]
  },
  {
   "cell_type": "code",
   "execution_count": 103,
   "id": "65a072f7",
   "metadata": {},
   "outputs": [
    {
     "data": {
      "text/plain": [
       "                  Full.Name          Wage            Value          \n",
       " Adama TraorÃ©         :    3   Min.   :     0   Min.   :        0  \n",
       " Diego RodrÃ­guez      :    3   1st Qu.:  1000   1st Qu.:   475000  \n",
       " Emmanuel Boateng      :    3   Median :  3000   Median :  1000000  \n",
       " Liam Kelly            :    3   Mean   :  8824   Mean   :  2875461  \n",
       " Tom Davies            :    3   3rd Qu.:  8000   3rd Qu.:  2000000  \n",
       " Ã\\201lvaro Aguado MÃ©ndez:    2   Max.   :450000   Max.   :190500000  \n",
       " (Other)               :18522                                       \n",
       "    Nationality    Release.Clause      Contract.Until\n",
       " England  : 1632   Min.   :        0   2023   :6796  \n",
       " Germany  : 1204   1st Qu.:   665000   2024   :4467  \n",
       " Spain    : 1074   Median :  1500000   2025   :2968  \n",
       " France   :  963   Mean   :  5081688   2022   :2372  \n",
       " Argentina:  937   3rd Qu.:  3400000   2026   :1204  \n",
       " Brazil   :  728   Max.   :366700000   2027   : 611  \n",
       " (Other)  :12001                       (Other): 121  "
      ]
     },
     "metadata": {},
     "output_type": "display_data"
    },
    {
     "data": {
      "text/html": [
       "'data.frame'"
      ],
      "text/latex": [
       "'data.frame'"
      ],
      "text/markdown": [
       "'data.frame'"
      ],
      "text/plain": [
       "[1] \"data.frame\""
      ]
     },
     "metadata": {},
     "output_type": "display_data"
    }
   ],
   "source": [
    "#Summary of these 4 features\n",
    "summary(data);\n",
    "class(data)"
   ]
  },
  {
   "cell_type": "code",
   "execution_count": 104,
   "id": "250a22ea",
   "metadata": {},
   "outputs": [],
   "source": [
    "# options(repr.plot.width = 10, repr.plot.height = 5) \n",
    "# #Create the histogram\n",
    "# histogram <- ggplot(data, aes(x = Wage)) + \n",
    "#   geom_histogram(binwidth = 1, color = \"black\", fill = \"lightblue\") +\n",
    "  \n",
    "#   # Add axis labels and adjust tick marks\n",
    "#   labs(x = \"Wage\", y = \"Count\", title = \"Distribution of Wage\") +\n",
    "#   scale_x_continuous(breaks = seq(15, 45, by = 2)) +\n",
    "#   scale_y_continuous(breaks = seq(0, 1600, by = 200)) +\n",
    "\n",
    "#   # Adjust the size of the plot and labels\n",
    "#   theme(plot.title = element_text(size = 20, face = \"bold\", hjust = 0.5),\n",
    "#         axis.title = element_text(size = 18),\n",
    "#         axis.text = element_text(size = 18)) \n",
    "\n",
    "# #Create the boxplot\n",
    "# boxplot <- ggplot(data, aes(x = \"\", y = Wage)) +\n",
    "#   geom_boxplot(color = \"black\", fill = \"lightgreen\") +\n",
    "\n",
    "#   # Add axis labels and adjust tick marks\n",
    "#   labs(x = \"\", y = \"Wage\", title = \"Boxplot of Age\") +\n",
    "#   scale_y_continuous(breaks = seq(15, 45, by = 2)) +\n",
    "\n",
    "#   # Adjust the size of the plot and labels\n",
    "#   theme(plot.title = element_text(size = 20, face = \"bold\", hjust = 0.5),\n",
    "#         axis.title = element_text(size = 18),\n",
    "#         axis.text = element_text(size = 18)) +\n",
    "#   coord_flip() \n",
    "\n",
    "# plot(histogram)\n",
    "# plot(boxplot)"
   ]
  },
  {
   "cell_type": "code",
   "execution_count": 105,
   "id": "f710feb2",
   "metadata": {},
   "outputs": [
    {
     "data": {
      "text/plain": [
       "     Min.   1st Qu.    Median      Mean   3rd Qu.      Max. \n",
       "        0    665000   1500000   5081688   3400000 366700000 "
      ]
     },
     "metadata": {},
     "output_type": "display_data"
    }
   ],
   "source": [
    "summary(data$Release.Clause)"
   ]
  },
  {
   "cell_type": "markdown",
   "id": "b38bf3df",
   "metadata": {},
   "source": [
    "### Release Clause"
   ]
  },
  {
   "cell_type": "code",
   "execution_count": 106,
   "id": "2285c5d6",
   "metadata": {},
   "outputs": [
    {
     "data": {
      "text/html": [
       "<table>\n",
       "<thead><tr><th></th><th scope=col>Full.Name</th><th scope=col>Wage</th><th scope=col>Value</th><th scope=col>Nationality</th><th scope=col>Release.Clause</th><th scope=col>Contract.Until</th></tr></thead>\n",
       "<tbody>\n",
       "\t<tr><th scope=row>1</th><td>Kevin Sessa      </td><td> 7000            </td><td>2400000          </td><td>Germany          </td><td>4200000          </td><td>2024             </td></tr>\n",
       "\t<tr><th scope=row>2</th><td>Thomas Keller    </td><td> 7000            </td><td>2100000          </td><td>Germany          </td><td>3700000          </td><td>2025             </td></tr>\n",
       "\t<tr><th scope=row>3</th><td>Andreas Geipl    </td><td> 9000            </td><td>1000000          </td><td>Germany          </td><td>1600000          </td><td>2023             </td></tr>\n",
       "\t<tr><th scope=row>4</th><td>Marnon Busch     </td><td>14000            </td><td>1800000          </td><td>Germany          </td><td>2800000          </td><td>2023             </td></tr>\n",
       "\t<tr><th scope=row>6</th><td>Florian Pick     </td><td> 8000            </td><td>1100000          </td><td>Germany          </td><td>1700000          </td><td>2024             </td></tr>\n",
       "\t<tr><th scope=row>7</th><td>Jonas FÃ¶hrenbach</td><td>11000            </td><td>1600000          </td><td>Germany          </td><td>2600000          </td><td>2023             </td></tr>\n",
       "</tbody>\n",
       "</table>\n"
      ],
      "text/latex": [
       "\\begin{tabular}{r|llllll}\n",
       "  & Full.Name & Wage & Value & Nationality & Release.Clause & Contract.Until\\\\\n",
       "\\hline\n",
       "\t1 & Kevin Sessa       &  7000             & 2400000           & Germany           & 4200000           & 2024             \\\\\n",
       "\t2 & Thomas Keller     &  7000             & 2100000           & Germany           & 3700000           & 2025             \\\\\n",
       "\t3 & Andreas Geipl     &  9000             & 1000000           & Germany           & 1600000           & 2023             \\\\\n",
       "\t4 & Marnon Busch      & 14000             & 1800000           & Germany           & 2800000           & 2023             \\\\\n",
       "\t6 & Florian Pick      &  8000             & 1100000           & Germany           & 1700000           & 2024             \\\\\n",
       "\t7 & Jonas FÃ¶hrenbach & 11000             & 1600000           & Germany           & 2600000           & 2023             \\\\\n",
       "\\end{tabular}\n"
      ],
      "text/markdown": [
       "\n",
       "| <!--/--> | Full.Name | Wage | Value | Nationality | Release.Clause | Contract.Until |\n",
       "|---|---|---|---|---|---|---|\n",
       "| 1 | Kevin Sessa       |  7000             | 2400000           | Germany           | 4200000           | 2024              |\n",
       "| 2 | Thomas Keller     |  7000             | 2100000           | Germany           | 3700000           | 2025              |\n",
       "| 3 | Andreas Geipl     |  9000             | 1000000           | Germany           | 1600000           | 2023              |\n",
       "| 4 | Marnon Busch      | 14000             | 1800000           | Germany           | 2800000           | 2023              |\n",
       "| 6 | Florian Pick      |  8000             | 1100000           | Germany           | 1700000           | 2024              |\n",
       "| 7 | Jonas FÃ¶hrenbach | 11000             | 1600000           | Germany           | 2600000           | 2023              |\n",
       "\n"
      ],
      "text/plain": [
       "  Full.Name         Wage  Value   Nationality Release.Clause Contract.Until\n",
       "1 Kevin Sessa        7000 2400000 Germany     4200000        2024          \n",
       "2 Thomas Keller      7000 2100000 Germany     3700000        2025          \n",
       "3 Andreas Geipl      9000 1000000 Germany     1600000        2023          \n",
       "4 Marnon Busch      14000 1800000 Germany     2800000        2023          \n",
       "6 Florian Pick       8000 1100000 Germany     1700000        2024          \n",
       "7 Jonas FÃ¶hrenbach 11000 1600000 Germany     2600000        2023          "
      ]
     },
     "metadata": {},
     "output_type": "display_data"
    }
   ],
   "source": [
    "# remove players without release clause\n",
    "hasReleaseClause <- data[data$Release.Clause != 0, ]\n",
    "head(hasReleaseClause)"
   ]
  },
  {
   "cell_type": "code",
   "execution_count": 107,
   "id": "0c5d66aa",
   "metadata": {},
   "outputs": [
    {
     "data": {
      "text/plain": [
       "   Min. 1st Qu.  Median    Mean 3rd Qu.    Max. \n",
       "  9.393  13.612  14.346  14.447  15.096  19.720 "
      ]
     },
     "metadata": {},
     "output_type": "display_data"
    }
   ],
   "source": [
    "#Log transformation of the Value\n",
    "hasReleaseClause$Release.Clause.Log <- log(hasReleaseClause$Release.Clause)\n",
    "summary(hasReleaseClause$Release.Clause.Log)"
   ]
  },
  {
   "cell_type": "code",
   "execution_count": 76,
   "id": "598452f1",
   "metadata": {},
   "outputs": [
    {
     "data": {
      "image/png": "[encoded data removed]",
      "text/plain": [
       "plot without title"
      ]
     },
     "metadata": {},
     "output_type": "display_data"
    },
    {
     "data": {
      "image/png": "[encoded data removed]",
      "text/plain": [
       "plot without title"
      ]
     },
     "metadata": {},
     "output_type": "display_data"
    }
   ],
   "source": [
    "options(repr.plot.width = 10, repr.plot.height = 5) \n",
    "#Create the histogram\n",
    "histogram <- ggplot(hasReleaseClause, aes(x = Release.Clause.Log)) + \n",
    "  geom_histogram(binwidth = 0.5, color = \"black\", fill = \"lightblue\") +\n",
    "  \n",
    "  # Add axis labels and adjust tick marks\n",
    "  labs(x = \"Release.Clause.Log\", y = \"Count\", title = \"Distribution of Release.Clause.Log\") +\n",
    "  scale_x_continuous(breaks = seq(8, 20, by = 1)) + \n",
    "\n",
    "  # Adjust the size of the plot and labels\n",
    "  theme(plot.title = element_text(size = 20, face = \"bold\", hjust = 0.5),\n",
    "        axis.title = element_text(size = 18),\n",
    "        axis.text = element_text(size = 18)) \n",
    "\n",
    "# Create the boxplot\n",
    "boxplot <- ggplot(hasReleaseClause, aes(x = \"\", y = Release.Clause.Log)) +\n",
    "  geom_boxplot(color = \"black\", fill = \"lightgreen\") +\n",
    "\n",
    "  # Add axis labels and adjust tick marks\n",
    "  labs(x = \"\", y = \"Release.Clause.Log\", title = \"Boxplot of Release.Clause.Log\") +\n",
    "  scale_y_continuous(breaks = seq(8, 20, by = 1)) +\n",
    "\n",
    "  # Adjust the size of the plot and labels\n",
    "  theme(plot.title = element_text(size = 20, face = \"bold\", hjust = 0.5),\n",
    "        axis.title = element_text(size = 18),\n",
    "        axis.text = element_text(size = 18)) +\n",
    "  coord_flip() \n",
    "\n",
    "plot(histogram)\n",
    "plot(boxplot)"
   ]
  },
  {
   "cell_type": "code",
   "execution_count": 108,
   "id": "97a0d710",
   "metadata": {},
   "outputs": [
    {
     "data": {
      "text/html": [
       "<ol class=list-inline>\n",
       "\t<li>'Wage'</li>\n",
       "\t<li>'Value'</li>\n",
       "\t<li>'Release.Clause'</li>\n",
       "\t<li>'Release.Clause.Log'</li>\n",
       "</ol>\n"
      ],
      "text/latex": [
       "\\begin{enumerate*}\n",
       "\\item 'Wage'\n",
       "\\item 'Value'\n",
       "\\item 'Release.Clause'\n",
       "\\item 'Release.Clause.Log'\n",
       "\\end{enumerate*}\n"
      ],
      "text/markdown": [
       "1. 'Wage'\n",
       "2. 'Value'\n",
       "3. 'Release.Clause'\n",
       "4. 'Release.Clause.Log'\n",
       "\n",
       "\n"
      ],
      "text/plain": [
       "[1] \"Wage\"               \"Value\"              \"Release.Clause\"    \n",
       "[4] \"Release.Clause.Log\""
      ]
     },
     "metadata": {},
     "output_type": "display_data"
    }
   ],
   "source": [
    "# heatmap\n",
    "#Select numerical column\n",
    "num_cols <- select_if(hasReleaseClause, is.numeric)\n",
    "colnames(num_cols)"
   ]
  },
  {
   "cell_type": "code",
   "execution_count": 109,
   "id": "42f23010",
   "metadata": {},
   "outputs": [
    {
     "data": {
      "image/png": "[encoded data removed]",
      "text/plain": [
       "plot without title"
      ]
     },
     "metadata": {},
     "output_type": "display_data"
    }
   ],
   "source": [
    "#Correlation of each numerical values\n",
    "corr_mat <- cor(num_cols)\n",
    "melted_corr_mat <- melt(corr_mat)\n",
    "\n",
    "# Create the heatmap\n",
    "heatmap <- ggplot(data = melted_corr_mat, aes(x = Var1, y = Var2, fill = value)) +\n",
    "  geom_tile() +\n",
    "  geom_text(aes(label = round(value, 3))) +\n",
    "  scale_fill_gradient2(low = \"#0066CC\", mid = \"white\", high = \"#EB1313\", midpoint = 0) +\n",
    "  labs(title = \"Correlation heatmap with numerical values\") +\n",
    "  theme(plot.title = element_text(size = 20, face = \"bold\", hjust = 0.5),\n",
    "        axis.title = element_text(size = 16),\n",
    "        axis.text = element_text(size = 16))\n",
    "\n",
    "plot(heatmap)"
   ]
  },
  {
   "cell_type": "code",
   "execution_count": 110,
   "id": "f2b62804",
   "metadata": {},
   "outputs": [
    {
     "data": {
      "image/png": "[encoded data removed]",
      "text/plain": [
       "plot without title"
      ]
     },
     "metadata": {},
     "output_type": "display_data"
    }
   ],
   "source": [
    "# Create a scatterplot with linear regression line \n",
    "ggplot(num_cols, aes(x = Value, y = Release.Clause)) +\n",
    "  geom_point() +\n",
    "  geom_smooth(method = \"lm\", formula = y ~ x) +\n",
    "  labs(title = \"Linear Regression\", x = \"Release.Clause\", y = \"Value\")"
   ]
  },
  {
   "cell_type": "code",
   "execution_count": 111,
   "id": "634384fe",
   "metadata": {},
   "outputs": [
    {
     "data": {
      "text/plain": [
       "\n",
       "Call:\n",
       "lm(formula = Release.Clause ~ Value, data = num_cols)\n",
       "\n",
       "Residuals:\n",
       "      Min        1Q    Median        3Q       Max \n",
       "-28017566   -245450      9584    211600  36889878 \n",
       "\n",
       "Coefficients:\n",
       "              Estimate Std. Error  t value Pr(>|t|)    \n",
       "(Intercept) -1.042e+05  1.192e+04   -8.745   <2e-16 ***\n",
       "Value        1.933e+00  1.432e-03 1349.866   <2e-16 ***\n",
       "---\n",
       "Signif. codes:  0 '***' 0.001 '**' 0.01 '*' 0.05 '.' 0.1 ' ' 1\n",
       "\n",
       "Residual standard error: 1466000 on 17204 degrees of freedom\n",
       "Multiple R-squared:  0.9906,\tAdjusted R-squared:  0.9906 \n",
       "F-statistic: 1.822e+06 on 1 and 17204 DF,  p-value: < 2.2e-16\n"
      ]
     },
     "metadata": {},
     "output_type": "display_data"
    }
   ],
   "source": [
    "# Fit a linear regression model\n",
    "lm_model <- lm(Release.Clause ~ Value, data = num_cols)\n",
    "# Summarize the model output\n",
    "summary(lm_model)"
   ]
  },
  {
   "cell_type": "markdown",
   "id": "6600ce62",
   "metadata": {},
   "source": [
    "### Release Clause vs Nationality"
   ]
  },
  {
   "cell_type": "code",
   "execution_count": 112,
   "id": "9c6add22",
   "metadata": {},
   "outputs": [
    {
     "data": {
      "text/html": [
       "<dl class=dl-horizontal>\n",
       "\t<dt>England</dt>\n",
       "\t\t<dd>1446</dd>\n",
       "\t<dt>Germany</dt>\n",
       "\t\t<dd>1129</dd>\n",
       "\t<dt>Spain</dt>\n",
       "\t\t<dd>979</dd>\n",
       "\t<dt>France</dt>\n",
       "\t\t<dd>895</dd>\n",
       "\t<dt>Argentina</dt>\n",
       "\t\t<dd>809</dd>\n",
       "\t<dt>Brazil</dt>\n",
       "\t\t<dd>707</dd>\n",
       "\t<dt>Italy</dt>\n",
       "\t\t<dd>521</dd>\n",
       "\t<dt>China PR</dt>\n",
       "\t\t<dd>438</dd>\n",
       "\t<dt>United States</dt>\n",
       "\t\t<dd>420</dd>\n",
       "\t<dt>Netherlands</dt>\n",
       "\t\t<dd>398</dd>\n",
       "</dl>\n"
      ],
      "text/latex": [
       "\\begin{description*}\n",
       "\\item[England] 1446\n",
       "\\item[Germany] 1129\n",
       "\\item[Spain] 979\n",
       "\\item[France] 895\n",
       "\\item[Argentina] 809\n",
       "\\item[Brazil] 707\n",
       "\\item[Italy] 521\n",
       "\\item[China PR] 438\n",
       "\\item[United States] 420\n",
       "\\item[Netherlands] 398\n",
       "\\end{description*}\n"
      ],
      "text/markdown": [
       "England\n",
       ":   1446Germany\n",
       ":   1129Spain\n",
       ":   979France\n",
       ":   895Argentina\n",
       ":   809Brazil\n",
       ":   707Italy\n",
       ":   521China PR\n",
       ":   438United States\n",
       ":   420Netherlands\n",
       ":   398\n",
       "\n"
      ],
      "text/plain": [
       "      England       Germany         Spain        France     Argentina \n",
       "         1446          1129           979           895           809 \n",
       "       Brazil         Italy      China PR United States   Netherlands \n",
       "          707           521           438           420           398 "
      ]
     },
     "metadata": {},
     "output_type": "display_data"
    }
   ],
   "source": [
    "# get top 10 nationalities\n",
    "summary(hasReleaseClause$Nationality)[1:10]"
   ]
  },
  {
   "cell_type": "code",
   "execution_count": 113,
   "id": "4ff7faf7",
   "metadata": {},
   "outputs": [
    {
     "data": {
      "text/html": [
       "<table>\n",
       "<thead><tr><th scope=col>Full.Name</th><th scope=col>Wage</th><th scope=col>Value</th><th scope=col>Nationality</th><th scope=col>Release.Clause</th><th scope=col>Contract.Until</th><th scope=col>Release.Clause.Log</th><th scope=col>countryGroup</th></tr></thead>\n",
       "<tbody>\n",
       "\t<tr><td>Kevin Sessa      </td><td> 7000            </td><td>2400000          </td><td>Germany          </td><td>4200000          </td><td>2024             </td><td>15.25060         </td><td>Not England      </td></tr>\n",
       "\t<tr><td>Thomas Keller    </td><td> 7000            </td><td>2100000          </td><td>Germany          </td><td>3700000          </td><td>2025             </td><td>15.12384         </td><td>Not England      </td></tr>\n",
       "\t<tr><td>Andreas Geipl    </td><td> 9000            </td><td>1000000          </td><td>Germany          </td><td>1600000          </td><td>2023             </td><td>14.28551         </td><td>Not England      </td></tr>\n",
       "\t<tr><td>Marnon Busch     </td><td>14000            </td><td>1800000          </td><td>Germany          </td><td>2800000          </td><td>2023             </td><td>14.84513         </td><td>Not England      </td></tr>\n",
       "\t<tr><td>Florian Pick     </td><td> 8000            </td><td>1100000          </td><td>Germany          </td><td>1700000          </td><td>2024             </td><td>14.34614         </td><td>Not England      </td></tr>\n",
       "\t<tr><td>Jonas FÃ¶hrenbach</td><td>11000            </td><td>1600000          </td><td>Germany          </td><td>2600000          </td><td>2023             </td><td>14.77102         </td><td>Not England      </td></tr>\n",
       "</tbody>\n",
       "</table>\n"
      ],
      "text/latex": [
       "\\begin{tabular}{r|llllllll}\n",
       " Full.Name & Wage & Value & Nationality & Release.Clause & Contract.Until & Release.Clause.Log & countryGroup\\\\\n",
       "\\hline\n",
       "\t Kevin Sessa       &  7000             & 2400000           & Germany           & 4200000           & 2024              & 15.25060          & Not England      \\\\\n",
       "\t Thomas Keller     &  7000             & 2100000           & Germany           & 3700000           & 2025              & 15.12384          & Not England      \\\\\n",
       "\t Andreas Geipl     &  9000             & 1000000           & Germany           & 1600000           & 2023              & 14.28551          & Not England      \\\\\n",
       "\t Marnon Busch      & 14000             & 1800000           & Germany           & 2800000           & 2023              & 14.84513          & Not England      \\\\\n",
       "\t Florian Pick      &  8000             & 1100000           & Germany           & 1700000           & 2024              & 14.34614          & Not England      \\\\\n",
       "\t Jonas FÃ¶hrenbach & 11000             & 1600000           & Germany           & 2600000           & 2023              & 14.77102          & Not England      \\\\\n",
       "\\end{tabular}\n"
      ],
      "text/markdown": [
       "\n",
       "| Full.Name | Wage | Value | Nationality | Release.Clause | Contract.Until | Release.Clause.Log | countryGroup |\n",
       "|---|---|---|---|---|---|---|---|\n",
       "| Kevin Sessa       |  7000             | 2400000           | Germany           | 4200000           | 2024              | 15.25060          | Not England       |\n",
       "| Thomas Keller     |  7000             | 2100000           | Germany           | 3700000           | 2025              | 15.12384          | Not England       |\n",
       "| Andreas Geipl     |  9000             | 1000000           | Germany           | 1600000           | 2023              | 14.28551          | Not England       |\n",
       "| Marnon Busch      | 14000             | 1800000           | Germany           | 2800000           | 2023              | 14.84513          | Not England       |\n",
       "| Florian Pick      |  8000             | 1100000           | Germany           | 1700000           | 2024              | 14.34614          | Not England       |\n",
       "| Jonas FÃ¶hrenbach | 11000             | 1600000           | Germany           | 2600000           | 2023              | 14.77102          | Not England       |\n",
       "\n"
      ],
      "text/plain": [
       "  Full.Name         Wage  Value   Nationality Release.Clause Contract.Until\n",
       "1 Kevin Sessa        7000 2400000 Germany     4200000        2024          \n",
       "2 Thomas Keller      7000 2100000 Germany     3700000        2025          \n",
       "3 Andreas Geipl      9000 1000000 Germany     1600000        2023          \n",
       "4 Marnon Busch      14000 1800000 Germany     2800000        2023          \n",
       "5 Florian Pick       8000 1100000 Germany     1700000        2024          \n",
       "6 Jonas FÃ¶hrenbach 11000 1600000 Germany     2600000        2023          \n",
       "  Release.Clause.Log countryGroup\n",
       "1 15.25060           Not England \n",
       "2 15.12384           Not England \n",
       "3 14.28551           Not England \n",
       "4 14.84513           Not England \n",
       "5 14.34614           Not England \n",
       "6 14.77102           Not England "
      ]
     },
     "metadata": {},
     "output_type": "display_data"
    },
    {
     "data": {
      "text/html": [
       "<ol class=list-inline>\n",
       "\t<li>17206</li>\n",
       "\t<li>8</li>\n",
       "</ol>\n"
      ],
      "text/latex": [
       "\\begin{enumerate*}\n",
       "\\item 17206\n",
       "\\item 8\n",
       "\\end{enumerate*}\n"
      ],
      "text/markdown": [
       "1. 17206\n",
       "2. 8\n",
       "\n",
       "\n"
      ],
      "text/plain": [
       "[1] 17206     8"
      ]
     },
     "metadata": {},
     "output_type": "display_data"
    }
   ],
   "source": [
    "# define an array of countries to filter by\n",
    "# countries <- c(\"England\", \"Germany\", \"Spain\", \"France\", \"Italy\")\n",
    "\n",
    "\n",
    "# filter rows where player is in the array of countries\n",
    "# df_filtered <- filter(hasReleaseClause, Nationality %in% countries)\n",
    "\n",
    "df_filtered <- mutate(hasReleaseClause, countryGroup = ifelse(Nationality == \"England\", \"England\", \"Not England\"))\n",
    "head(df_filtered); dim(df_filtered)"
   ]
  },
  {
   "cell_type": "code",
   "execution_count": null,
   "id": "41ef6683",
   "metadata": {},
   "outputs": [],
   "source": []
  },
  {
   "cell_type": "code",
   "execution_count": 114,
   "id": "2434ffee",
   "metadata": {},
   "outputs": [
    {
     "data": {
      "text/plain": [
       "               Df Sum Sq Mean Sq F value Pr(>F)    \n",
       "Nationality   157   6826   43.48   34.45 <2e-16 ***\n",
       "Residuals   17048  21515    1.26                   \n",
       "---\n",
       "Signif. codes:  0 '***' 0.001 '**' 0.01 '*' 0.05 '.' 0.1 ' ' 1"
      ]
     },
     "metadata": {},
     "output_type": "display_data"
    }
   ],
   "source": [
    "model <- aov(Release.Clause.Log ~ Nationality, data = df_filtered)\n",
    "summary(model)"
   ]
  },
  {
   "cell_type": "code",
   "execution_count": 115,
   "id": "98abbc3f",
   "metadata": {},
   "outputs": [
    {
     "data": {
      "text/plain": [
       "               Df    Sum Sq   Mean Sq F value Pr(>F)    \n",
       "Nationality   157 3.633e+11 2.314e+09   6.343 <2e-16 ***\n",
       "Residuals   17048 6.220e+12 3.648e+08                   \n",
       "---\n",
       "Signif. codes:  0 '***' 0.001 '**' 0.01 '*' 0.05 '.' 0.1 ' ' 1"
      ]
     },
     "metadata": {},
     "output_type": "display_data"
    }
   ],
   "source": [
    "model <- aov(Wage ~ Nationality, data = df_filtered)\n",
    "summary(model)"
   ]
  },
  {
   "cell_type": "markdown",
   "id": "2778d6bc",
   "metadata": {},
   "source": [
    "### Release Clause vs Contract Valid Until"
   ]
  },
  {
   "cell_type": "code",
   "execution_count": 126,
   "id": "66cfaa4b",
   "metadata": {},
   "outputs": [
    {
     "data": {
      "text/html": [
       "<dl class=dl-horizontal>\n",
       "\t<dt>-</dt>\n",
       "\t\t<dd>0</dd>\n",
       "\t<dt>2022</dt>\n",
       "\t\t<dd>2218</dd>\n",
       "\t<dt>2023</dt>\n",
       "\t\t<dd>5716</dd>\n",
       "\t<dt>2024</dt>\n",
       "\t\t<dd>4460</dd>\n",
       "\t<dt>2025</dt>\n",
       "\t\t<dd>2968</dd>\n",
       "\t<dt>2026</dt>\n",
       "\t\t<dd>1204</dd>\n",
       "\t<dt>2027</dt>\n",
       "\t\t<dd>611</dd>\n",
       "\t<dt>2028</dt>\n",
       "\t\t<dd>25</dd>\n",
       "\t<dt>2031</dt>\n",
       "\t\t<dd>2</dd>\n",
       "\t<dt>2032</dt>\n",
       "\t\t<dd>2</dd>\n",
       "</dl>\n"
      ],
      "text/latex": [
       "\\begin{description*}\n",
       "\\item[-] 0\n",
       "\\item[2022] 2218\n",
       "\\item[2023] 5716\n",
       "\\item[2024] 4460\n",
       "\\item[2025] 2968\n",
       "\\item[2026] 1204\n",
       "\\item[2027] 611\n",
       "\\item[2028] 25\n",
       "\\item[2031] 2\n",
       "\\item[2032] 2\n",
       "\\end{description*}\n"
      ],
      "text/markdown": [
       "-\n",
       ":   02022\n",
       ":   22182023\n",
       ":   57162024\n",
       ":   44602025\n",
       ":   29682026\n",
       ":   12042027\n",
       ":   6112028\n",
       ":   252031\n",
       ":   22032\n",
       ":   2\n",
       "\n"
      ],
      "text/plain": [
       "   - 2022 2023 2024 2025 2026 2027 2028 2031 2032 \n",
       "   0 2218 5716 4460 2968 1204  611   25    2    2 "
      ]
     },
     "metadata": {},
     "output_type": "display_data"
    },
    {
     "data": {
      "text/html": [
       "'factor'"
      ],
      "text/latex": [
       "'factor'"
      ],
      "text/markdown": [
       "'factor'"
      ],
      "text/plain": [
       "[1] \"factor\""
      ]
     },
     "metadata": {},
     "output_type": "display_data"
    }
   ],
   "source": [
    "summary(hasReleaseClause$Contract.Until); class(hasReleaseClause$Contract.Until)"
   ]
  },
  {
   "cell_type": "code",
   "execution_count": 130,
   "id": "b96d5a58",
   "metadata": {},
   "outputs": [
    {
     "data": {
      "text/html": [
       "'numeric'"
      ],
      "text/latex": [
       "'numeric'"
      ],
      "text/markdown": [
       "'numeric'"
      ],
      "text/plain": [
       "[1] \"numeric\""
      ]
     },
     "metadata": {},
     "output_type": "display_data"
    },
    {
     "data": {
      "text/html": [
       "<table>\n",
       "<thead><tr><th></th><th scope=col>Full.Name</th><th scope=col>Wage</th><th scope=col>Value</th><th scope=col>Nationality</th><th scope=col>Release.Clause</th><th scope=col>Contract.Until</th><th scope=col>Release.Clause.Log</th></tr></thead>\n",
       "<tbody>\n",
       "\t<tr><th scope=row>1</th><td>Kevin Sessa      </td><td> 7000            </td><td>2400000          </td><td>Germany          </td><td>4200000          </td><td>4                </td><td>15.25060         </td></tr>\n",
       "\t<tr><th scope=row>2</th><td>Thomas Keller    </td><td> 7000            </td><td>2100000          </td><td>Germany          </td><td>3700000          </td><td>5                </td><td>15.12384         </td></tr>\n",
       "\t<tr><th scope=row>3</th><td>Andreas Geipl    </td><td> 9000            </td><td>1000000          </td><td>Germany          </td><td>1600000          </td><td>3                </td><td>14.28551         </td></tr>\n",
       "\t<tr><th scope=row>4</th><td>Marnon Busch     </td><td>14000            </td><td>1800000          </td><td>Germany          </td><td>2800000          </td><td>3                </td><td>14.84513         </td></tr>\n",
       "\t<tr><th scope=row>6</th><td>Florian Pick     </td><td> 8000            </td><td>1100000          </td><td>Germany          </td><td>1700000          </td><td>4                </td><td>14.34614         </td></tr>\n",
       "\t<tr><th scope=row>7</th><td>Jonas FÃ¶hrenbach</td><td>11000            </td><td>1600000          </td><td>Germany          </td><td>2600000          </td><td>3                </td><td>14.77102         </td></tr>\n",
       "</tbody>\n",
       "</table>\n"
      ],
      "text/latex": [
       "\\begin{tabular}{r|lllllll}\n",
       "  & Full.Name & Wage & Value & Nationality & Release.Clause & Contract.Until & Release.Clause.Log\\\\\n",
       "\\hline\n",
       "\t1 & Kevin Sessa       &  7000             & 2400000           & Germany           & 4200000           & 4                 & 15.25060         \\\\\n",
       "\t2 & Thomas Keller     &  7000             & 2100000           & Germany           & 3700000           & 5                 & 15.12384         \\\\\n",
       "\t3 & Andreas Geipl     &  9000             & 1000000           & Germany           & 1600000           & 3                 & 14.28551         \\\\\n",
       "\t4 & Marnon Busch      & 14000             & 1800000           & Germany           & 2800000           & 3                 & 14.84513         \\\\\n",
       "\t6 & Florian Pick      &  8000             & 1100000           & Germany           & 1700000           & 4                 & 14.34614         \\\\\n",
       "\t7 & Jonas FÃ¶hrenbach & 11000             & 1600000           & Germany           & 2600000           & 3                 & 14.77102         \\\\\n",
       "\\end{tabular}\n"
      ],
      "text/markdown": [
       "\n",
       "| <!--/--> | Full.Name | Wage | Value | Nationality | Release.Clause | Contract.Until | Release.Clause.Log |\n",
       "|---|---|---|---|---|---|---|---|\n",
       "| 1 | Kevin Sessa       |  7000             | 2400000           | Germany           | 4200000           | 4                 | 15.25060          |\n",
       "| 2 | Thomas Keller     |  7000             | 2100000           | Germany           | 3700000           | 5                 | 15.12384          |\n",
       "| 3 | Andreas Geipl     |  9000             | 1000000           | Germany           | 1600000           | 3                 | 14.28551          |\n",
       "| 4 | Marnon Busch      | 14000             | 1800000           | Germany           | 2800000           | 3                 | 14.84513          |\n",
       "| 6 | Florian Pick      |  8000             | 1100000           | Germany           | 1700000           | 4                 | 14.34614          |\n",
       "| 7 | Jonas FÃ¶hrenbach | 11000             | 1600000           | Germany           | 2600000           | 3                 | 14.77102          |\n",
       "\n"
      ],
      "text/plain": [
       "  Full.Name         Wage  Value   Nationality Release.Clause Contract.Until\n",
       "1 Kevin Sessa        7000 2400000 Germany     4200000        4             \n",
       "2 Thomas Keller      7000 2100000 Germany     3700000        5             \n",
       "3 Andreas Geipl      9000 1000000 Germany     1600000        3             \n",
       "4 Marnon Busch      14000 1800000 Germany     2800000        3             \n",
       "6 Florian Pick       8000 1100000 Germany     1700000        4             \n",
       "7 Jonas FÃ¶hrenbach 11000 1600000 Germany     2600000        3             \n",
       "  Release.Clause.Log\n",
       "1 15.25060          \n",
       "2 15.12384          \n",
       "3 14.28551          \n",
       "4 14.84513          \n",
       "6 14.34614          \n",
       "7 14.77102          "
      ]
     },
     "metadata": {},
     "output_type": "display_data"
    }
   ],
   "source": [
    "# convert the values of column 'x' to numerical\n",
    "hasReleaseClause$Contract.Until <- as.numeric(hasReleaseClause$Contract.Until); class(hasReleaseClause$Contract.Until);\n",
    "head(hasReleaseClause)"
   ]
  },
  {
   "cell_type": "markdown",
   "id": "34192ecb",
   "metadata": {},
   "source": [
    "Everyone has a contract"
   ]
  },
  {
   "cell_type": "code",
   "execution_count": 132,
   "id": "a129854b",
   "metadata": {},
   "outputs": [
    {
     "data": {
      "text/plain": [
       "   Min. 1st Qu.  Median    Mean 3rd Qu.    Max. \n",
       "  0.000   1.000   2.000   1.836   3.000   8.000 "
      ]
     },
     "metadata": {},
     "output_type": "display_data"
    }
   ],
   "source": [
    "df_contract_valid_until <- mutate(hasReleaseClause, Years.Left = Contract.Until - 2) # offset by 2 due to error in conversion\n",
    "summary(df_contract_valid_until$Years.Left)"
   ]
  },
  {
   "cell_type": "code",
   "execution_count": 135,
   "id": "01cd830d",
   "metadata": {},
   "outputs": [
    {
     "data": {
      "text/html": [
       "<ol class=list-inline>\n",
       "\t<li>'Wage'</li>\n",
       "\t<li>'Value'</li>\n",
       "\t<li>'Release.Clause'</li>\n",
       "\t<li>'Contract.Until'</li>\n",
       "\t<li>'Release.Clause.Log'</li>\n",
       "\t<li>'Years.Left'</li>\n",
       "</ol>\n"
      ],
      "text/latex": [
       "\\begin{enumerate*}\n",
       "\\item 'Wage'\n",
       "\\item 'Value'\n",
       "\\item 'Release.Clause'\n",
       "\\item 'Contract.Until'\n",
       "\\item 'Release.Clause.Log'\n",
       "\\item 'Years.Left'\n",
       "\\end{enumerate*}\n"
      ],
      "text/markdown": [
       "1. 'Wage'\n",
       "2. 'Value'\n",
       "3. 'Release.Clause'\n",
       "4. 'Contract.Until'\n",
       "5. 'Release.Clause.Log'\n",
       "6. 'Years.Left'\n",
       "\n",
       "\n"
      ],
      "text/plain": [
       "[1] \"Wage\"               \"Value\"              \"Release.Clause\"    \n",
       "[4] \"Contract.Until\"     \"Release.Clause.Log\" \"Years.Left\"        "
      ]
     },
     "metadata": {},
     "output_type": "display_data"
    }
   ],
   "source": [
    "# heatmap\n",
    "#Select numerical column\n",
    "num_cols <- select_if(df_contract_valid_until, is.numeric)\n",
    "colnames(num_cols)"
   ]
  },
  {
   "cell_type": "code",
   "execution_count": 136,
   "id": "c0b5794f",
   "metadata": {},
   "outputs": [
    {
     "data": {
      "image/png": "[encoded data removed]",
      "text/plain": [
       "plot without title"
      ]
     },
     "metadata": {},
     "output_type": "display_data"
    }
   ],
   "source": [
    "#Correlation of each numerical values\n",
    "corr_mat <- cor(num_cols)\n",
    "melted_corr_mat <- melt(corr_mat)\n",
    "\n",
    "# Create the heatmap\n",
    "heatmap <- ggplot(data = melted_corr_mat, aes(x = Var1, y = Var2, fill = value)) +\n",
    "  geom_tile() +\n",
    "  geom_text(aes(label = round(value, 3))) +\n",
    "  scale_fill_gradient2(low = \"#0066CC\", mid = \"white\", high = \"#EB1313\", midpoint = 0) +\n",
    "  labs(title = \"Correlation heatmap with numerical values\") +\n",
    "  theme(plot.title = element_text(size = 20, face = \"bold\", hjust = 0.5),\n",
    "        axis.title = element_text(size = 16),\n",
    "        axis.text = element_text(size = 16))\n",
    "\n",
    "plot(heatmap)"
   ]
  },
  {
   "cell_type": "code",
   "execution_count": 140,
   "id": "fdfcdad5",
   "metadata": {},
   "outputs": [
    {
     "data": {
      "text/plain": [
       "\n",
       "\tPaired t-test\n",
       "\n",
       "data:  df_contract_valid_until$Release.Clause.Log and df_contract_valid_until$Years.Left\n",
       "t = 1121.5, df = 17205, p-value < 2.2e-16\n",
       "alternative hypothesis: true difference in means is not equal to 0\n",
       "95 percent confidence interval:\n",
       " 12.58920 12.63328\n",
       "sample estimates:\n",
       "mean of the differences \n",
       "               12.61124 \n"
      ]
     },
     "metadata": {},
     "output_type": "display_data"
    }
   ],
   "source": [
    "# paired t test \n",
    "t.test(df_contract_valid_until$Release.Clause.Log, df_contract_valid_until$Years.Left, paired=TRUE)"
   ]
  },
  {
   "cell_type": "markdown",
   "id": "3d021d71",
   "metadata": {},
   "source": []
  }
 ],
 "metadata": {
  "kernelspec": {
   "display_name": "R",
   "language": "R",
   "name": "ir"
  },
  "language_info": {
   "codemirror_mode": "r",
   "file_extension": ".r",
   "mimetype": "text/x-r-source",
   "name": "R",
   "pygments_lexer": "r",
   "version": "3.6.1"
  }
 },
 "nbformat": 4,
 "nbformat_minor": 5
}
