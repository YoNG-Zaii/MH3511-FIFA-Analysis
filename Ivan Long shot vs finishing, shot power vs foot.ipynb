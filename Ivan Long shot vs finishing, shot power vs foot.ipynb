{
 "cells": [
  {
   "cell_type": "code",
   "execution_count": 1,
   "id": "b627bd4b",
   "metadata": {},
   "outputs": [],
   "source": [
    "players23 <- read.csv(\"./fifa23_players_data.csv\")\n",
    "teams23 <- read.csv(\"./fifa23_teams_data.csv\")"
   ]
  },
  {
   "cell_type": "code",
   "execution_count": 2,
   "id": "be22297b",
   "metadata": {},
   "outputs": [
    {
     "data": {
      "text/html": [
       "<table>\n",
       "<thead><tr><th scope=col>Overall</th><th scope=col>Value.in.Euro.</th><th scope=col>Best.Position</th><th scope=col>Height.in.cm.</th><th scope=col>Weight.in.kg.</th><th scope=col>Club.Name</th><th scope=col>Club.Jersey.Number</th><th scope=col>Crossing</th><th scope=col>Preferred.Foot</th><th scope=col>Skill.Moves</th><th scope=col>Shot.Power</th><th scope=col>Long.Shots</th><th scope=col>Finishing</th></tr></thead>\n",
       "<tbody>\n",
       "\t<tr><td>91                 </td><td> 54000000          </td><td>CAM                </td><td>169                </td><td>67                 </td><td>Paris Saint-Germain</td><td>30                 </td><td>84                 </td><td>Left               </td><td>4                  </td><td>86                 </td><td>91                 </td><td>90                 </td></tr>\n",
       "\t<tr><td>91                 </td><td> 64000000          </td><td>CF                 </td><td>185                </td><td>81                 </td><td>Real Madrid CF     </td><td>9                  </td><td>75                 </td><td>Right              </td><td>4                  </td><td>87                 </td><td>80                 </td><td>92                 </td></tr>\n",
       "\t<tr><td>91                 </td><td> 84000000          </td><td>ST                 </td><td>185                </td><td>81                 </td><td>FC Barcelona       </td><td>9                  </td><td>71                 </td><td>Right              </td><td>4                  </td><td>91                 </td><td>84                 </td><td>94                 </td></tr>\n",
       "\t<tr><td>91                 </td><td>107500000          </td><td>CM                 </td><td>181                </td><td>70                 </td><td>Manchester City    </td><td>17                 </td><td>94                 </td><td>Right              </td><td>4                  </td><td>92                 </td><td>91                 </td><td>85                 </td></tr>\n",
       "\t<tr><td>91                 </td><td>190500000          </td><td>ST                 </td><td>182                </td><td>73                 </td><td>Paris Saint-Germain</td><td>7                  </td><td>78                 </td><td>Right              </td><td>5                  </td><td>88                 </td><td>82                 </td><td>93                 </td></tr>\n",
       "\t<tr><td>90                 </td><td>115500000          </td><td>RW                 </td><td>175                </td><td>71                 </td><td>Liverpool          </td><td>11                 </td><td>80                 </td><td>Left               </td><td>4                  </td><td>83                 </td><td>85                 </td><td>93                 </td></tr>\n",
       "</tbody>\n",
       "</table>\n"
      ],
      "text/latex": [
       "\\begin{tabular}{r|lllllllllllll}\n",
       " Overall & Value.in.Euro. & Best.Position & Height.in.cm. & Weight.in.kg. & Club.Name & Club.Jersey.Number & Crossing & Preferred.Foot & Skill.Moves & Shot.Power & Long.Shots & Finishing\\\\\n",
       "\\hline\n",
       "\t 91                  &  54000000           & CAM                 & 169                 & 67                  & Paris Saint-Germain & 30                  & 84                  & Left                & 4                   & 86                  & 91                  & 90                 \\\\\n",
       "\t 91                  &  64000000           & CF                  & 185                 & 81                  & Real Madrid CF      & 9                   & 75                  & Right               & 4                   & 87                  & 80                  & 92                 \\\\\n",
       "\t 91                  &  84000000           & ST                  & 185                 & 81                  & FC Barcelona        & 9                   & 71                  & Right               & 4                   & 91                  & 84                  & 94                 \\\\\n",
       "\t 91                  & 107500000           & CM                  & 181                 & 70                  & Manchester City     & 17                  & 94                  & Right               & 4                   & 92                  & 91                  & 85                 \\\\\n",
       "\t 91                  & 190500000           & ST                  & 182                 & 73                  & Paris Saint-Germain & 7                   & 78                  & Right               & 5                   & 88                  & 82                  & 93                 \\\\\n",
       "\t 90                  & 115500000           & RW                  & 175                 & 71                  & Liverpool           & 11                  & 80                  & Left                & 4                   & 83                  & 85                  & 93                 \\\\\n",
       "\\end{tabular}\n"
      ],
      "text/markdown": [
       "\n",
       "| Overall | Value.in.Euro. | Best.Position | Height.in.cm. | Weight.in.kg. | Club.Name | Club.Jersey.Number | Crossing | Preferred.Foot | Skill.Moves | Shot.Power | Long.Shots | Finishing |\n",
       "|---|---|---|---|---|---|---|---|---|---|---|---|---|\n",
       "| 91                  |  54000000           | CAM                 | 169                 | 67                  | Paris Saint-Germain | 30                  | 84                  | Left                | 4                   | 86                  | 91                  | 90                  |\n",
       "| 91                  |  64000000           | CF                  | 185                 | 81                  | Real Madrid CF      | 9                   | 75                  | Right               | 4                   | 87                  | 80                  | 92                  |\n",
       "| 91                  |  84000000           | ST                  | 185                 | 81                  | FC Barcelona        | 9                   | 71                  | Right               | 4                   | 91                  | 84                  | 94                  |\n",
       "| 91                  | 107500000           | CM                  | 181                 | 70                  | Manchester City     | 17                  | 94                  | Right               | 4                   | 92                  | 91                  | 85                  |\n",
       "| 91                  | 190500000           | ST                  | 182                 | 73                  | Paris Saint-Germain | 7                   | 78                  | Right               | 5                   | 88                  | 82                  | 93                  |\n",
       "| 90                  | 115500000           | RW                  | 175                 | 71                  | Liverpool           | 11                  | 80                  | Left                | 4                   | 83                  | 85                  | 93                  |\n",
       "\n"
      ],
      "text/plain": [
       "  Overall Value.in.Euro. Best.Position Height.in.cm. Weight.in.kg.\n",
       "1 91       54000000      CAM           169           67           \n",
       "2 91       64000000      CF            185           81           \n",
       "3 91       84000000      ST            185           81           \n",
       "4 91      107500000      CM            181           70           \n",
       "5 91      190500000      ST            182           73           \n",
       "6 90      115500000      RW            175           71           \n",
       "  Club.Name           Club.Jersey.Number Crossing Preferred.Foot Skill.Moves\n",
       "1 Paris Saint-Germain 30                 84       Left           4          \n",
       "2 Real Madrid CF      9                  75       Right          4          \n",
       "3 FC Barcelona        9                  71       Right          4          \n",
       "4 Manchester City     17                 94       Right          4          \n",
       "5 Paris Saint-Germain 7                  78       Right          5          \n",
       "6 Liverpool           11                 80       Left           4          \n",
       "  Shot.Power Long.Shots Finishing\n",
       "1 86         91         90       \n",
       "2 87         80         92       \n",
       "3 91         84         94       \n",
       "4 92         91         85       \n",
       "5 88         82         93       \n",
       "6 83         85         93       "
      ]
     },
     "metadata": {},
     "output_type": "display_data"
    },
    {
     "data": {
      "text/html": [
       "<ol class=list-inline>\n",
       "\t<li>18539</li>\n",
       "\t<li>13</li>\n",
       "</ol>\n"
      ],
      "text/latex": [
       "\\begin{enumerate*}\n",
       "\\item 18539\n",
       "\\item 13\n",
       "\\end{enumerate*}\n"
      ],
      "text/markdown": [
       "1. 18539\n",
       "2. 13\n",
       "\n",
       "\n"
      ],
      "text/plain": [
       "[1] 18539    13"
      ]
     },
     "metadata": {},
     "output_type": "display_data"
    }
   ],
   "source": [
    "relevantCols <- c(\"Overall\", \"Value.in.Euro.\", \"Best.Position\", \"Height.in.cm.\", \"Weight.in.kg.\", \n",
    "                 \"Club.Name\", \"Club.Jersey.Number\", \"Crossing\",\"Preferred.Foot\", \"Skill.Moves\",\n",
    "                 \"Shot.Power\", \"Long.Shots\", \"Finishing\")\n",
    "\n",
    "# assumed cleaned\n",
    "playersCleaned23 <- subset(players23, select=relevantCols)\n",
    "\n",
    "head(playersCleaned23); dim(playersCleaned23)"
   ]
  },
  {
   "cell_type": "code",
   "execution_count": 3,
   "id": "f8506063",
   "metadata": {},
   "outputs": [
    {
     "data": {
      "text/html": [
       "<table>\n",
       "<thead><tr><th scope=col>Name</th><th scope=col>IntPrestige</th></tr></thead>\n",
       "<tbody>\n",
       "\t<tr><td>AFC Bournemouth       </td><td>1                     </td></tr>\n",
       "\t<tr><td>AFC Richmond          </td><td>3                     </td></tr>\n",
       "\t<tr><td>Arsenal               </td><td>7                     </td></tr>\n",
       "\t<tr><td>Aston Villa           </td><td>3                     </td></tr>\n",
       "\t<tr><td>Brentford             </td><td>1                     </td></tr>\n",
       "\t<tr><td>Brighton &amp; Hove Albion</td><td>2                         </td></tr>\n",
       "</tbody>\n",
       "</table>\n"
      ],
      "text/latex": [
       "\\begin{tabular}{r|ll}\n",
       " Name & IntPrestige\\\\\n",
       "\\hline\n",
       "\t AFC Bournemouth        & 1                     \\\\\n",
       "\t AFC Richmond           & 3                     \\\\\n",
       "\t Arsenal                & 7                     \\\\\n",
       "\t Aston Villa            & 3                     \\\\\n",
       "\t Brentford              & 1                     \\\\\n",
       "\t Brighton \\& Hove Albion & 2                       \\\\\n",
       "\\end{tabular}\n"
      ],
      "text/markdown": [
       "\n",
       "| Name | IntPrestige |\n",
       "|---|---|\n",
       "| AFC Bournemouth        | 1                      |\n",
       "| AFC Richmond           | 3                      |\n",
       "| Arsenal                | 7                      |\n",
       "| Aston Villa            | 3                      |\n",
       "| Brentford              | 1                      |\n",
       "| Brighton & Hove Albion | 2                      |\n",
       "\n"
      ],
      "text/plain": [
       "  Name                   IntPrestige\n",
       "1 AFC Bournemouth        1          \n",
       "2 AFC Richmond           3          \n",
       "3 Arsenal                7          \n",
       "4 Aston Villa            3          \n",
       "5 Brentford              1          \n",
       "6 Brighton & Hove Albion 2          "
      ]
     },
     "metadata": {},
     "output_type": "display_data"
    },
    {
     "data": {
      "text/html": [
       "<ol class=list-inline>\n",
       "\t<li>678</li>\n",
       "\t<li>2</li>\n",
       "</ol>\n"
      ],
      "text/latex": [
       "\\begin{enumerate*}\n",
       "\\item 678\n",
       "\\item 2\n",
       "\\end{enumerate*}\n"
      ],
      "text/markdown": [
       "1. 678\n",
       "2. 2\n",
       "\n",
       "\n"
      ],
      "text/plain": [
       "[1] 678   2"
      ]
     },
     "metadata": {},
     "output_type": "display_data"
    }
   ],
   "source": [
    "teamsCleaned23 <- subset(teams23, select=c(\"Name\", \"IntPrestige\"))\n",
    "head(teamsCleaned23); dim(teamsCleaned23)"
   ]
  },
  {
   "cell_type": "code",
   "execution_count": 4,
   "id": "1bb82348",
   "metadata": {
    "scrolled": true
   },
   "outputs": [
    {
     "data": {
      "text/html": [
       "<table>\n",
       "<thead><tr><th scope=col>Club.Name</th><th scope=col>Overall</th><th scope=col>Value.in.Euro.</th><th scope=col>Best.Position</th><th scope=col>Height.in.cm.</th><th scope=col>Weight.in.kg.</th><th scope=col>Club.Jersey.Number</th><th scope=col>Crossing</th><th scope=col>Preferred.Foot</th><th scope=col>Skill.Moves</th><th scope=col>Shot.Power</th><th scope=col>Long.Shots</th><th scope=col>Finishing</th><th scope=col>IntPrestige</th></tr></thead>\n",
       "<tbody>\n",
       "\t<tr><td>1. FC Heidenheim 1846</td><td>68                   </td><td>2400000              </td><td>RM                   </td><td>175                  </td><td>70                   </td><td>16                   </td><td>67                   </td><td>Right                </td><td>3                    </td><td>63                   </td><td>59                   </td><td>57                   </td><td>1                    </td></tr>\n",
       "\t<tr><td>1. FC Heidenheim 1846</td><td>67                   </td><td>2100000              </td><td>CB                   </td><td>186                  </td><td>80                   </td><td>27                   </td><td>42                   </td><td>Right                </td><td>2                    </td><td>61                   </td><td>40                   </td><td>37                   </td><td>1                    </td></tr>\n",
       "\t<tr><td>1. FC Heidenheim 1846</td><td>68                   </td><td>1000000              </td><td>CB                   </td><td>178                  </td><td>73                   </td><td>8                    </td><td>60                   </td><td>Right                </td><td>2                    </td><td>69                   </td><td>53                   </td><td>44                   </td><td>1                    </td></tr>\n",
       "\t<tr><td>1. FC Heidenheim 1846</td><td>71                   </td><td>1800000              </td><td>RB                   </td><td>182                  </td><td>80                   </td><td>2                    </td><td>69                   </td><td>Right                </td><td>2                    </td><td>75                   </td><td>54                   </td><td>40                   </td><td>1                    </td></tr>\n",
       "\t<tr><td>1. FC Heidenheim 1846</td><td>67                   </td><td>1900000              </td><td>CB                   </td><td>187                  </td><td>80                   </td><td>4                    </td><td>48                   </td><td>Left                 </td><td>2                    </td><td>45                   </td><td>41                   </td><td>25                   </td><td>1                    </td></tr>\n",
       "\t<tr><td>1. FC Heidenheim 1846</td><td>67                   </td><td>1100000              </td><td>LM                   </td><td>176                  </td><td>72                   </td><td>17                   </td><td>62                   </td><td>Right                </td><td>4                    </td><td>57                   </td><td>52                   </td><td>60                   </td><td>1                    </td></tr>\n",
       "</tbody>\n",
       "</table>\n"
      ],
      "text/latex": [
       "\\begin{tabular}{r|llllllllllllll}\n",
       " Club.Name & Overall & Value.in.Euro. & Best.Position & Height.in.cm. & Weight.in.kg. & Club.Jersey.Number & Crossing & Preferred.Foot & Skill.Moves & Shot.Power & Long.Shots & Finishing & IntPrestige\\\\\n",
       "\\hline\n",
       "\t 1. FC Heidenheim 1846 & 68                    & 2400000               & RM                    & 175                   & 70                    & 16                    & 67                    & Right                 & 3                     & 63                    & 59                    & 57                    & 1                    \\\\\n",
       "\t 1. FC Heidenheim 1846 & 67                    & 2100000               & CB                    & 186                   & 80                    & 27                    & 42                    & Right                 & 2                     & 61                    & 40                    & 37                    & 1                    \\\\\n",
       "\t 1. FC Heidenheim 1846 & 68                    & 1000000               & CB                    & 178                   & 73                    & 8                     & 60                    & Right                 & 2                     & 69                    & 53                    & 44                    & 1                    \\\\\n",
       "\t 1. FC Heidenheim 1846 & 71                    & 1800000               & RB                    & 182                   & 80                    & 2                     & 69                    & Right                 & 2                     & 75                    & 54                    & 40                    & 1                    \\\\\n",
       "\t 1. FC Heidenheim 1846 & 67                    & 1900000               & CB                    & 187                   & 80                    & 4                     & 48                    & Left                  & 2                     & 45                    & 41                    & 25                    & 1                    \\\\\n",
       "\t 1. FC Heidenheim 1846 & 67                    & 1100000               & LM                    & 176                   & 72                    & 17                    & 62                    & Right                 & 4                     & 57                    & 52                    & 60                    & 1                    \\\\\n",
       "\\end{tabular}\n"
      ],
      "text/markdown": [
       "\n",
       "| Club.Name | Overall | Value.in.Euro. | Best.Position | Height.in.cm. | Weight.in.kg. | Club.Jersey.Number | Crossing | Preferred.Foot | Skill.Moves | Shot.Power | Long.Shots | Finishing | IntPrestige |\n",
       "|---|---|---|---|---|---|---|---|---|---|---|---|---|---|\n",
       "| 1. FC Heidenheim 1846 | 68                    | 2400000               | RM                    | 175                   | 70                    | 16                    | 67                    | Right                 | 3                     | 63                    | 59                    | 57                    | 1                     |\n",
       "| 1. FC Heidenheim 1846 | 67                    | 2100000               | CB                    | 186                   | 80                    | 27                    | 42                    | Right                 | 2                     | 61                    | 40                    | 37                    | 1                     |\n",
       "| 1. FC Heidenheim 1846 | 68                    | 1000000               | CB                    | 178                   | 73                    | 8                     | 60                    | Right                 | 2                     | 69                    | 53                    | 44                    | 1                     |\n",
       "| 1. FC Heidenheim 1846 | 71                    | 1800000               | RB                    | 182                   | 80                    | 2                     | 69                    | Right                 | 2                     | 75                    | 54                    | 40                    | 1                     |\n",
       "| 1. FC Heidenheim 1846 | 67                    | 1900000               | CB                    | 187                   | 80                    | 4                     | 48                    | Left                  | 2                     | 45                    | 41                    | 25                    | 1                     |\n",
       "| 1. FC Heidenheim 1846 | 67                    | 1100000               | LM                    | 176                   | 72                    | 17                    | 62                    | Right                 | 4                     | 57                    | 52                    | 60                    | 1                     |\n",
       "\n"
      ],
      "text/plain": [
       "  Club.Name             Overall Value.in.Euro. Best.Position Height.in.cm.\n",
       "1 1. FC Heidenheim 1846 68      2400000        RM            175          \n",
       "2 1. FC Heidenheim 1846 67      2100000        CB            186          \n",
       "3 1. FC Heidenheim 1846 68      1000000        CB            178          \n",
       "4 1. FC Heidenheim 1846 71      1800000        RB            182          \n",
       "5 1. FC Heidenheim 1846 67      1900000        CB            187          \n",
       "6 1. FC Heidenheim 1846 67      1100000        LM            176          \n",
       "  Weight.in.kg. Club.Jersey.Number Crossing Preferred.Foot Skill.Moves\n",
       "1 70            16                 67       Right          3          \n",
       "2 80            27                 42       Right          2          \n",
       "3 73            8                  60       Right          2          \n",
       "4 80            2                  69       Right          2          \n",
       "5 80            4                  48       Left           2          \n",
       "6 72            17                 62       Right          4          \n",
       "  Shot.Power Long.Shots Finishing IntPrestige\n",
       "1 63         59         57        1          \n",
       "2 61         40         37        1          \n",
       "3 69         53         44        1          \n",
       "4 75         54         40        1          \n",
       "5 45         41         25        1          \n",
       "6 57         52         60        1          "
      ]
     },
     "metadata": {},
     "output_type": "display_data"
    },
    {
     "data": {
      "text/html": [
       "<ol class=list-inline>\n",
       "\t<li>18539</li>\n",
       "\t<li>14</li>\n",
       "</ol>\n"
      ],
      "text/latex": [
       "\\begin{enumerate*}\n",
       "\\item 18539\n",
       "\\item 14\n",
       "\\end{enumerate*}\n"
      ],
      "text/markdown": [
       "1. 18539\n",
       "2. 14\n",
       "\n",
       "\n"
      ],
      "text/plain": [
       "[1] 18539    14"
      ]
     },
     "metadata": {},
     "output_type": "display_data"
    }
   ],
   "source": [
    "playersTeamCombined <- merge(playersCleaned23, teamsCleaned23, by.x=\"Club.Name\", by.y=\"Name\", all.x = TRUE)\n",
    "head(playersTeamCombined); dim(playersTeamCombined)"
   ]
  },
  {
   "cell_type": "code",
   "execution_count": 5,
   "id": "1af2784d",
   "metadata": {
    "scrolled": true
   },
   "outputs": [
    {
     "data": {
      "text/html": [
       "<table>\n",
       "<thead><tr><th scope=col>Overall</th><th scope=col>Value.in.Euro.</th><th scope=col>Best.Position</th><th scope=col>Height.in.cm.</th><th scope=col>Weight.in.kg.</th><th scope=col>Club.Jersey.Number</th><th scope=col>Crossing</th><th scope=col>Shot.Power</th><th scope=col>IntPrestige</th><th scope=col>Preferred.Foot</th><th scope=col>Skill.Moves</th><th scope=col>Long.Shots</th><th scope=col>Finishing</th></tr></thead>\n",
       "<tbody>\n",
       "\t<tr><td>68     </td><td>2400000</td><td>RM     </td><td>175    </td><td>70     </td><td>16     </td><td>67     </td><td>63     </td><td>1      </td><td>Right  </td><td>3      </td><td>59     </td><td>57     </td></tr>\n",
       "\t<tr><td>67     </td><td>2100000</td><td>CB     </td><td>186    </td><td>80     </td><td>27     </td><td>42     </td><td>61     </td><td>1      </td><td>Right  </td><td>2      </td><td>40     </td><td>37     </td></tr>\n",
       "\t<tr><td>68     </td><td>1000000</td><td>CB     </td><td>178    </td><td>73     </td><td>8      </td><td>60     </td><td>69     </td><td>1      </td><td>Right  </td><td>2      </td><td>53     </td><td>44     </td></tr>\n",
       "\t<tr><td>71     </td><td>1800000</td><td>RB     </td><td>182    </td><td>80     </td><td>2      </td><td>69     </td><td>75     </td><td>1      </td><td>Right  </td><td>2      </td><td>54     </td><td>40     </td></tr>\n",
       "\t<tr><td>67     </td><td>1900000</td><td>CB     </td><td>187    </td><td>80     </td><td>4      </td><td>48     </td><td>45     </td><td>1      </td><td>Left   </td><td>2      </td><td>41     </td><td>25     </td></tr>\n",
       "\t<tr><td>67     </td><td>1100000</td><td>LM     </td><td>176    </td><td>72     </td><td>17     </td><td>62     </td><td>57     </td><td>1      </td><td>Right  </td><td>4      </td><td>52     </td><td>60     </td></tr>\n",
       "</tbody>\n",
       "</table>\n"
      ],
      "text/latex": [
       "\\begin{tabular}{r|lllllllllllll}\n",
       " Overall & Value.in.Euro. & Best.Position & Height.in.cm. & Weight.in.kg. & Club.Jersey.Number & Crossing & Shot.Power & IntPrestige & Preferred.Foot & Skill.Moves & Long.Shots & Finishing\\\\\n",
       "\\hline\n",
       "\t 68      & 2400000 & RM      & 175     & 70      & 16      & 67      & 63      & 1       & Right   & 3       & 59      & 57     \\\\\n",
       "\t 67      & 2100000 & CB      & 186     & 80      & 27      & 42      & 61      & 1       & Right   & 2       & 40      & 37     \\\\\n",
       "\t 68      & 1000000 & CB      & 178     & 73      & 8       & 60      & 69      & 1       & Right   & 2       & 53      & 44     \\\\\n",
       "\t 71      & 1800000 & RB      & 182     & 80      & 2       & 69      & 75      & 1       & Right   & 2       & 54      & 40     \\\\\n",
       "\t 67      & 1900000 & CB      & 187     & 80      & 4       & 48      & 45      & 1       & Left    & 2       & 41      & 25     \\\\\n",
       "\t 67      & 1100000 & LM      & 176     & 72      & 17      & 62      & 57      & 1       & Right   & 4       & 52      & 60     \\\\\n",
       "\\end{tabular}\n"
      ],
      "text/markdown": [
       "\n",
       "| Overall | Value.in.Euro. | Best.Position | Height.in.cm. | Weight.in.kg. | Club.Jersey.Number | Crossing | Shot.Power | IntPrestige | Preferred.Foot | Skill.Moves | Long.Shots | Finishing |\n",
       "|---|---|---|---|---|---|---|---|---|---|---|---|---|\n",
       "| 68      | 2400000 | RM      | 175     | 70      | 16      | 67      | 63      | 1       | Right   | 3       | 59      | 57      |\n",
       "| 67      | 2100000 | CB      | 186     | 80      | 27      | 42      | 61      | 1       | Right   | 2       | 40      | 37      |\n",
       "| 68      | 1000000 | CB      | 178     | 73      | 8       | 60      | 69      | 1       | Right   | 2       | 53      | 44      |\n",
       "| 71      | 1800000 | RB      | 182     | 80      | 2       | 69      | 75      | 1       | Right   | 2       | 54      | 40      |\n",
       "| 67      | 1900000 | CB      | 187     | 80      | 4       | 48      | 45      | 1       | Left    | 2       | 41      | 25      |\n",
       "| 67      | 1100000 | LM      | 176     | 72      | 17      | 62      | 57      | 1       | Right   | 4       | 52      | 60      |\n",
       "\n"
      ],
      "text/plain": [
       "  Overall Value.in.Euro. Best.Position Height.in.cm. Weight.in.kg.\n",
       "1 68      2400000        RM            175           70           \n",
       "2 67      2100000        CB            186           80           \n",
       "3 68      1000000        CB            178           73           \n",
       "4 71      1800000        RB            182           80           \n",
       "5 67      1900000        CB            187           80           \n",
       "6 67      1100000        LM            176           72           \n",
       "  Club.Jersey.Number Crossing Shot.Power IntPrestige Preferred.Foot Skill.Moves\n",
       "1 16                 67       63         1           Right          3          \n",
       "2 27                 42       61         1           Right          2          \n",
       "3 8                  60       69         1           Right          2          \n",
       "4 2                  69       75         1           Right          2          \n",
       "5 4                  48       45         1           Left           2          \n",
       "6 17                 62       57         1           Right          4          \n",
       "  Long.Shots Finishing\n",
       "1 59         57       \n",
       "2 40         37       \n",
       "3 53         44       \n",
       "4 54         40       \n",
       "5 41         25       \n",
       "6 52         60       "
      ]
     },
     "metadata": {},
     "output_type": "display_data"
    },
    {
     "data": {
      "text/html": [
       "<ol class=list-inline>\n",
       "\t<li>18539</li>\n",
       "\t<li>13</li>\n",
       "</ol>\n"
      ],
      "text/latex": [
       "\\begin{enumerate*}\n",
       "\\item 18539\n",
       "\\item 13\n",
       "\\end{enumerate*}\n"
      ],
      "text/markdown": [
       "1. 18539\n",
       "2. 13\n",
       "\n",
       "\n"
      ],
      "text/plain": [
       "[1] 18539    13"
      ]
     },
     "metadata": {},
     "output_type": "display_data"
    },
    {
     "data": {
      "text/html": [
       "<table>\n",
       "<thead><tr><th scope=col>Overall</th><th scope=col>Value</th><th scope=col>BestPosition</th><th scope=col>Height</th><th scope=col>Weight</th><th scope=col>JerseyNumber</th><th scope=col>Crossing</th><th scope=col>ShotPower</th><th scope=col>IntPrestige</th><th scope=col>PreferredFoot</th><th scope=col>SkillMoves</th><th scope=col>LongShots</th><th scope=col>Finishing</th></tr></thead>\n",
       "<tbody>\n",
       "\t<tr><td>68     </td><td>2400000</td><td>RM     </td><td>175    </td><td>70     </td><td>16     </td><td>67     </td><td>63     </td><td>1      </td><td>Right  </td><td>3      </td><td>59     </td><td>57     </td></tr>\n",
       "\t<tr><td>67     </td><td>2100000</td><td>CB     </td><td>186    </td><td>80     </td><td>27     </td><td>42     </td><td>61     </td><td>1      </td><td>Right  </td><td>2      </td><td>40     </td><td>37     </td></tr>\n",
       "\t<tr><td>68     </td><td>1000000</td><td>CB     </td><td>178    </td><td>73     </td><td>8      </td><td>60     </td><td>69     </td><td>1      </td><td>Right  </td><td>2      </td><td>53     </td><td>44     </td></tr>\n",
       "\t<tr><td>71     </td><td>1800000</td><td>RB     </td><td>182    </td><td>80     </td><td>2      </td><td>69     </td><td>75     </td><td>1      </td><td>Right  </td><td>2      </td><td>54     </td><td>40     </td></tr>\n",
       "\t<tr><td>67     </td><td>1900000</td><td>CB     </td><td>187    </td><td>80     </td><td>4      </td><td>48     </td><td>45     </td><td>1      </td><td>Left   </td><td>2      </td><td>41     </td><td>25     </td></tr>\n",
       "\t<tr><td>67     </td><td>1100000</td><td>LM     </td><td>176    </td><td>72     </td><td>17     </td><td>62     </td><td>57     </td><td>1      </td><td>Right  </td><td>4      </td><td>52     </td><td>60     </td></tr>\n",
       "</tbody>\n",
       "</table>\n"
      ],
      "text/latex": [
       "\\begin{tabular}{r|lllllllllllll}\n",
       " Overall & Value & BestPosition & Height & Weight & JerseyNumber & Crossing & ShotPower & IntPrestige & PreferredFoot & SkillMoves & LongShots & Finishing\\\\\n",
       "\\hline\n",
       "\t 68      & 2400000 & RM      & 175     & 70      & 16      & 67      & 63      & 1       & Right   & 3       & 59      & 57     \\\\\n",
       "\t 67      & 2100000 & CB      & 186     & 80      & 27      & 42      & 61      & 1       & Right   & 2       & 40      & 37     \\\\\n",
       "\t 68      & 1000000 & CB      & 178     & 73      & 8       & 60      & 69      & 1       & Right   & 2       & 53      & 44     \\\\\n",
       "\t 71      & 1800000 & RB      & 182     & 80      & 2       & 69      & 75      & 1       & Right   & 2       & 54      & 40     \\\\\n",
       "\t 67      & 1900000 & CB      & 187     & 80      & 4       & 48      & 45      & 1       & Left    & 2       & 41      & 25     \\\\\n",
       "\t 67      & 1100000 & LM      & 176     & 72      & 17      & 62      & 57      & 1       & Right   & 4       & 52      & 60     \\\\\n",
       "\\end{tabular}\n"
      ],
      "text/markdown": [
       "\n",
       "| Overall | Value | BestPosition | Height | Weight | JerseyNumber | Crossing | ShotPower | IntPrestige | PreferredFoot | SkillMoves | LongShots | Finishing |\n",
       "|---|---|---|---|---|---|---|---|---|---|---|---|---|\n",
       "| 68      | 2400000 | RM      | 175     | 70      | 16      | 67      | 63      | 1       | Right   | 3       | 59      | 57      |\n",
       "| 67      | 2100000 | CB      | 186     | 80      | 27      | 42      | 61      | 1       | Right   | 2       | 40      | 37      |\n",
       "| 68      | 1000000 | CB      | 178     | 73      | 8       | 60      | 69      | 1       | Right   | 2       | 53      | 44      |\n",
       "| 71      | 1800000 | RB      | 182     | 80      | 2       | 69      | 75      | 1       | Right   | 2       | 54      | 40      |\n",
       "| 67      | 1900000 | CB      | 187     | 80      | 4       | 48      | 45      | 1       | Left    | 2       | 41      | 25      |\n",
       "| 67      | 1100000 | LM      | 176     | 72      | 17      | 62      | 57      | 1       | Right   | 4       | 52      | 60      |\n",
       "\n"
      ],
      "text/plain": [
       "  Overall Value   BestPosition Height Weight JerseyNumber Crossing ShotPower\n",
       "1 68      2400000 RM           175    70     16           67       63       \n",
       "2 67      2100000 CB           186    80     27           42       61       \n",
       "3 68      1000000 CB           178    73     8            60       69       \n",
       "4 71      1800000 RB           182    80     2            69       75       \n",
       "5 67      1900000 CB           187    80     4            48       45       \n",
       "6 67      1100000 LM           176    72     17           62       57       \n",
       "  IntPrestige PreferredFoot SkillMoves LongShots Finishing\n",
       "1 1           Right         3          59        57       \n",
       "2 1           Right         2          40        37       \n",
       "3 1           Right         2          53        44       \n",
       "4 1           Right         2          54        40       \n",
       "5 1           Left          2          41        25       \n",
       "6 1           Right         4          52        60       "
      ]
     },
     "metadata": {},
     "output_type": "display_data"
    }
   ],
   "source": [
    "# cleaning\n",
    "relevantCols <- c(\"Overall\", \"Value.in.Euro.\", \"Best.Position\", \"Height.in.cm.\", \"Weight.in.kg.\", \"Club.Jersey.Number\", \n",
    "                  \"Crossing\", \"Shot.Power\", \"IntPrestige\", \"Preferred.Foot\", \"Skill.Moves\", \"Long.Shots\", \"Finishing\" )\n",
    "playersTeamCleaned <- subset(playersTeamCombined, select=relevantCols)\n",
    "head(playersTeamCleaned); dim(playersTeamCleaned)\n",
    "# rename\n",
    "colnames(playersTeamCleaned) <- c(\"Overall\", \"Value\", \"BestPosition\", \"Height\", \"Weight\", \"JerseyNumber\", \n",
    "                  \"Crossing\", \"ShotPower\", \"IntPrestige\", \"PreferredFoot\", \"SkillMoves\",\"LongShots\", \"Finishing\" )\n",
    "head(playersTeamCleaned)"
   ]
  },
  {
   "cell_type": "code",
   "execution_count": 6,
   "id": "b59ff3c8",
   "metadata": {
    "scrolled": false
   },
   "outputs": [
    {
     "data": {
      "text/html": [
       "<dl class=dl-horizontal>\n",
       "\t<dt>-</dt>\n",
       "\t\t<dd>92</dd>\n",
       "\t<dt>1</dt>\n",
       "\t\t<dd>577</dd>\n",
       "\t<dt>10</dt>\n",
       "\t\t<dd>579</dd>\n",
       "\t<dt>11</dt>\n",
       "\t\t<dd>593</dd>\n",
       "\t<dt>12</dt>\n",
       "\t\t<dd>352</dd>\n",
       "\t<dt>13</dt>\n",
       "\t\t<dd>381</dd>\n",
       "\t<dt>14</dt>\n",
       "\t\t<dd>521</dd>\n",
       "\t<dt>15</dt>\n",
       "\t\t<dd>451</dd>\n",
       "\t<dt>16</dt>\n",
       "\t\t<dd>473</dd>\n",
       "\t<dt>17</dt>\n",
       "\t\t<dd>543</dd>\n",
       "\t<dt>18</dt>\n",
       "\t\t<dd>536</dd>\n",
       "\t<dt>19</dt>\n",
       "\t\t<dd>527</dd>\n",
       "\t<dt>2</dt>\n",
       "\t\t<dd>509</dd>\n",
       "\t<dt>20</dt>\n",
       "\t\t<dd>531</dd>\n",
       "\t<dt>21</dt>\n",
       "\t\t<dd>530</dd>\n",
       "\t<dt>22</dt>\n",
       "\t\t<dd>512</dd>\n",
       "\t<dt>23</dt>\n",
       "\t\t<dd>526</dd>\n",
       "\t<dt>24</dt>\n",
       "\t\t<dd>436</dd>\n",
       "\t<dt>25</dt>\n",
       "\t\t<dd>399</dd>\n",
       "\t<dt>26</dt>\n",
       "\t\t<dd>386</dd>\n",
       "\t<dt>27</dt>\n",
       "\t\t<dd>429</dd>\n",
       "\t<dt>28</dt>\n",
       "\t\t<dd>365</dd>\n",
       "\t<dt>29</dt>\n",
       "\t\t<dd>372</dd>\n",
       "\t<dt>3</dt>\n",
       "\t\t<dd>533</dd>\n",
       "\t<dt>30</dt>\n",
       "\t\t<dd>401</dd>\n",
       "\t<dt>31</dt>\n",
       "\t\t<dd>281</dd>\n",
       "\t<dt>32</dt>\n",
       "\t\t<dd>292</dd>\n",
       "\t<dt>33</dt>\n",
       "\t\t<dd>304</dd>\n",
       "\t<dt>34</dt>\n",
       "\t\t<dd>187</dd>\n",
       "\t<dt>35</dt>\n",
       "\t\t<dd>174</dd>\n",
       "\t<dt>36</dt>\n",
       "\t\t<dd>150</dd>\n",
       "\t<dt>37</dt>\n",
       "\t\t<dd>154</dd>\n",
       "\t<dt>38</dt>\n",
       "\t\t<dd>109</dd>\n",
       "\t<dt>39</dt>\n",
       "\t\t<dd>128</dd>\n",
       "\t<dt>4</dt>\n",
       "\t\t<dd>586</dd>\n",
       "\t<dt>40</dt>\n",
       "\t\t<dd>125</dd>\n",
       "\t<dt>41</dt>\n",
       "\t\t<dd>77</dd>\n",
       "\t<dt>42</dt>\n",
       "\t\t<dd>89</dd>\n",
       "\t<dt>43</dt>\n",
       "\t\t<dd>45</dd>\n",
       "\t<dt>44</dt>\n",
       "\t\t<dd>116</dd>\n",
       "\t<dt>45</dt>\n",
       "\t\t<dd>59</dd>\n",
       "\t<dt>46</dt>\n",
       "\t\t<dd>31</dd>\n",
       "\t<dt>47</dt>\n",
       "\t\t<dd>46</dd>\n",
       "\t<dt>48</dt>\n",
       "\t\t<dd>19</dd>\n",
       "\t<dt>49</dt>\n",
       "\t\t<dd>18</dd>\n",
       "\t<dt>5</dt>\n",
       "\t\t<dd>570</dd>\n",
       "\t<dt>50</dt>\n",
       "\t\t<dd>44</dd>\n",
       "\t<dt>51</dt>\n",
       "\t\t<dd>15</dd>\n",
       "\t<dt>52</dt>\n",
       "\t\t<dd>13</dd>\n",
       "\t<dt>53</dt>\n",
       "\t\t<dd>13</dd>\n",
       "\t<dt>54</dt>\n",
       "\t\t<dd>15</dd>\n",
       "\t<dt>55</dt>\n",
       "\t\t<dd>40</dd>\n",
       "\t<dt>56</dt>\n",
       "\t\t<dd>9</dd>\n",
       "\t<dt>57</dt>\n",
       "\t\t<dd>10</dd>\n",
       "\t<dt>58</dt>\n",
       "\t\t<dd>10</dd>\n",
       "\t<dt>59</dt>\n",
       "\t\t<dd>19</dd>\n",
       "\t<dt>6</dt>\n",
       "\t\t<dd>586</dd>\n",
       "\t<dt>60</dt>\n",
       "\t\t<dd>7</dd>\n",
       "\t<dt>61</dt>\n",
       "\t\t<dd>19</dd>\n",
       "\t<dt>62</dt>\n",
       "\t\t<dd>10</dd>\n",
       "\t<dt>63</dt>\n",
       "\t\t<dd>8</dd>\n",
       "\t<dt>64</dt>\n",
       "\t\t<dd>9</dd>\n",
       "\t<dt>65</dt>\n",
       "\t\t<dd>5</dd>\n",
       "\t<dt>66</dt>\n",
       "\t\t<dd>34</dd>\n",
       "\t<dt>67</dt>\n",
       "\t\t<dd>8</dd>\n",
       "\t<dt>68</dt>\n",
       "\t\t<dd>5</dd>\n",
       "\t<dt>69</dt>\n",
       "\t\t<dd>5</dd>\n",
       "\t<dt>7</dt>\n",
       "\t\t<dd>599</dd>\n",
       "\t<dt>70</dt>\n",
       "\t\t<dd>48</dd>\n",
       "\t<dt>71</dt>\n",
       "\t\t<dd>23</dd>\n",
       "\t<dt>72</dt>\n",
       "\t\t<dd>15</dd>\n",
       "\t<dt>73</dt>\n",
       "\t\t<dd>10</dd>\n",
       "\t<dt>74</dt>\n",
       "\t\t<dd>12</dd>\n",
       "\t<dt>75</dt>\n",
       "\t\t<dd>7</dd>\n",
       "\t<dt>76</dt>\n",
       "\t\t<dd>11</dd>\n",
       "\t<dt>77</dt>\n",
       "\t\t<dd>124</dd>\n",
       "\t<dt>78</dt>\n",
       "\t\t<dd>9</dd>\n",
       "\t<dt>79</dt>\n",
       "\t\t<dd>10</dd>\n",
       "\t<dt>8</dt>\n",
       "\t\t<dd>600</dd>\n",
       "\t<dt>80</dt>\n",
       "\t\t<dd>34</dd>\n",
       "\t<dt>81</dt>\n",
       "\t\t<dd>12</dd>\n",
       "\t<dt>82</dt>\n",
       "\t\t<dd>10</dd>\n",
       "\t<dt>83</dt>\n",
       "\t\t<dd>6</dd>\n",
       "\t<dt>84</dt>\n",
       "\t\t<dd>6</dd>\n",
       "\t<dt>85</dt>\n",
       "\t\t<dd>8</dd>\n",
       "\t<dt>86</dt>\n",
       "\t\t<dd>5</dd>\n",
       "\t<dt>87</dt>\n",
       "\t\t<dd>13</dd>\n",
       "\t<dt>88</dt>\n",
       "\t\t<dd>50</dd>\n",
       "\t<dt>89</dt>\n",
       "\t\t<dd>15</dd>\n",
       "\t<dt>9</dt>\n",
       "\t\t<dd>573</dd>\n",
       "\t<dt>90</dt>\n",
       "\t\t<dd>49</dd>\n",
       "\t<dt>91</dt>\n",
       "\t\t<dd>21</dd>\n",
       "\t<dt>92</dt>\n",
       "\t\t<dd>18</dd>\n",
       "\t<dt>93</dt>\n",
       "\t\t<dd>26</dd>\n",
       "\t<dt>94</dt>\n",
       "\t\t<dd>21</dd>\n",
       "\t<dt>95</dt>\n",
       "\t\t<dd>17</dd>\n",
       "\t<dt>96</dt>\n",
       "\t\t<dd>17</dd>\n",
       "\t<dt>97</dt>\n",
       "\t\t<dd>28</dd>\n",
       "\t<dt>98</dt>\n",
       "\t\t<dd>33</dd>\n",
       "\t<dt>99</dt>\n",
       "\t\t<dd>111</dd>\n",
       "</dl>\n"
      ],
      "text/latex": [
       "\\begin{description*}\n",
       "\\item[-] 92\n",
       "\\item[1] 577\n",
       "\\item[10] 579\n",
       "\\item[11] 593\n",
       "\\item[12] 352\n",
       "\\item[13] 381\n",
       "\\item[14] 521\n",
       "\\item[15] 451\n",
       "\\item[16] 473\n",
       "\\item[17] 543\n",
       "\\item[18] 536\n",
       "\\item[19] 527\n",
       "\\item[2] 509\n",
       "\\item[20] 531\n",
       "\\item[21] 530\n",
       "\\item[22] 512\n",
       "\\item[23] 526\n",
       "\\item[24] 436\n",
       "\\item[25] 399\n",
       "\\item[26] 386\n",
       "\\item[27] 429\n",
       "\\item[28] 365\n",
       "\\item[29] 372\n",
       "\\item[3] 533\n",
       "\\item[30] 401\n",
       "\\item[31] 281\n",
       "\\item[32] 292\n",
       "\\item[33] 304\n",
       "\\item[34] 187\n",
       "\\item[35] 174\n",
       "\\item[36] 150\n",
       "\\item[37] 154\n",
       "\\item[38] 109\n",
       "\\item[39] 128\n",
       "\\item[4] 586\n",
       "\\item[40] 125\n",
       "\\item[41] 77\n",
       "\\item[42] 89\n",
       "\\item[43] 45\n",
       "\\item[44] 116\n",
       "\\item[45] 59\n",
       "\\item[46] 31\n",
       "\\item[47] 46\n",
       "\\item[48] 19\n",
       "\\item[49] 18\n",
       "\\item[5] 570\n",
       "\\item[50] 44\n",
       "\\item[51] 15\n",
       "\\item[52] 13\n",
       "\\item[53] 13\n",
       "\\item[54] 15\n",
       "\\item[55] 40\n",
       "\\item[56] 9\n",
       "\\item[57] 10\n",
       "\\item[58] 10\n",
       "\\item[59] 19\n",
       "\\item[6] 586\n",
       "\\item[60] 7\n",
       "\\item[61] 19\n",
       "\\item[62] 10\n",
       "\\item[63] 8\n",
       "\\item[64] 9\n",
       "\\item[65] 5\n",
       "\\item[66] 34\n",
       "\\item[67] 8\n",
       "\\item[68] 5\n",
       "\\item[69] 5\n",
       "\\item[7] 599\n",
       "\\item[70] 48\n",
       "\\item[71] 23\n",
       "\\item[72] 15\n",
       "\\item[73] 10\n",
       "\\item[74] 12\n",
       "\\item[75] 7\n",
       "\\item[76] 11\n",
       "\\item[77] 124\n",
       "\\item[78] 9\n",
       "\\item[79] 10\n",
       "\\item[8] 600\n",
       "\\item[80] 34\n",
       "\\item[81] 12\n",
       "\\item[82] 10\n",
       "\\item[83] 6\n",
       "\\item[84] 6\n",
       "\\item[85] 8\n",
       "\\item[86] 5\n",
       "\\item[87] 13\n",
       "\\item[88] 50\n",
       "\\item[89] 15\n",
       "\\item[9] 573\n",
       "\\item[90] 49\n",
       "\\item[91] 21\n",
       "\\item[92] 18\n",
       "\\item[93] 26\n",
       "\\item[94] 21\n",
       "\\item[95] 17\n",
       "\\item[96] 17\n",
       "\\item[97] 28\n",
       "\\item[98] 33\n",
       "\\item[99] 111\n",
       "\\end{description*}\n"
      ],
      "text/markdown": [
       "-\n",
       ":   921\n",
       ":   57710\n",
       ":   57911\n",
       ":   59312\n",
       ":   35213\n",
       ":   38114\n",
       ":   52115\n",
       ":   45116\n",
       ":   47317\n",
       ":   54318\n",
       ":   53619\n",
       ":   5272\n",
       ":   50920\n",
       ":   53121\n",
       ":   53022\n",
       ":   51223\n",
       ":   52624\n",
       ":   43625\n",
       ":   39926\n",
       ":   38627\n",
       ":   42928\n",
       ":   36529\n",
       ":   3723\n",
       ":   53330\n",
       ":   40131\n",
       ":   28132\n",
       ":   29233\n",
       ":   30434\n",
       ":   18735\n",
       ":   17436\n",
       ":   15037\n",
       ":   15438\n",
       ":   10939\n",
       ":   1284\n",
       ":   58640\n",
       ":   12541\n",
       ":   7742\n",
       ":   8943\n",
       ":   4544\n",
       ":   11645\n",
       ":   5946\n",
       ":   3147\n",
       ":   4648\n",
       ":   1949\n",
       ":   185\n",
       ":   57050\n",
       ":   4451\n",
       ":   1552\n",
       ":   1353\n",
       ":   1354\n",
       ":   1555\n",
       ":   4056\n",
       ":   957\n",
       ":   1058\n",
       ":   1059\n",
       ":   196\n",
       ":   58660\n",
       ":   761\n",
       ":   1962\n",
       ":   1063\n",
       ":   864\n",
       ":   965\n",
       ":   566\n",
       ":   3467\n",
       ":   868\n",
       ":   569\n",
       ":   57\n",
       ":   59970\n",
       ":   4871\n",
       ":   2372\n",
       ":   1573\n",
       ":   1074\n",
       ":   1275\n",
       ":   776\n",
       ":   1177\n",
       ":   12478\n",
       ":   979\n",
       ":   108\n",
       ":   60080\n",
       ":   3481\n",
       ":   1282\n",
       ":   1083\n",
       ":   684\n",
       ":   685\n",
       ":   886\n",
       ":   587\n",
       ":   1388\n",
       ":   5089\n",
       ":   159\n",
       ":   57390\n",
       ":   4991\n",
       ":   2192\n",
       ":   1893\n",
       ":   2694\n",
       ":   2195\n",
       ":   1796\n",
       ":   1797\n",
       ":   2898\n",
       ":   3399\n",
       ":   111\n",
       "\n"
      ],
      "text/plain": [
       "  -   1  10  11  12  13  14  15  16  17  18  19   2  20  21  22  23  24  25  26 \n",
       " 92 577 579 593 352 381 521 451 473 543 536 527 509 531 530 512 526 436 399 386 \n",
       " 27  28  29   3  30  31  32  33  34  35  36  37  38  39   4  40  41  42  43  44 \n",
       "429 365 372 533 401 281 292 304 187 174 150 154 109 128 586 125  77  89  45 116 \n",
       " 45  46  47  48  49   5  50  51  52  53  54  55  56  57  58  59   6  60  61  62 \n",
       " 59  31  46  19  18 570  44  15  13  13  15  40   9  10  10  19 586   7  19  10 \n",
       " 63  64  65  66  67  68  69   7  70  71  72  73  74  75  76  77  78  79   8  80 \n",
       "  8   9   5  34   8   5   5 599  48  23  15  10  12   7  11 124   9  10 600  34 \n",
       " 81  82  83  84  85  86  87  88  89   9  90  91  92  93  94  95  96  97  98  99 \n",
       " 12  10   6   6   8   5  13  50  15 573  49  21  18  26  21  17  17  28  33 111 "
      ]
     },
     "metadata": {},
     "output_type": "display_data"
    }
   ],
   "source": [
    "summary(playersTeamCleaned$JerseyNumber)"
   ]
  },
  {
   "cell_type": "code",
   "execution_count": 7,
   "id": "028cba65",
   "metadata": {},
   "outputs": [
    {
     "name": "stderr",
     "output_type": "stream",
     "text": [
      "Warning message in eval(expr, envir, enclos):\n",
      "\"NAs introduced by coercion\""
     ]
    }
   ],
   "source": [
    "# clean jerseyNumber\n",
    "playersTeamCleaned$JerseyNumber <- as.numeric(as.character(playersTeamCleaned$JerseyNumber))\n",
    "playersTeamCleaned <- playersTeamCleaned[!is.na(playersTeamCleaned$JerseyNumber), ]"
   ]
  },
  {
   "cell_type": "code",
   "execution_count": 8,
   "id": "2ee32825",
   "metadata": {},
   "outputs": [
    {
     "data": {
      "text/plain": [
       "   Min. 1st Qu.  Median    Mean 3rd Qu.    Max. \n",
       "   1.00    9.00   18.00   21.11   27.00   99.00 "
      ]
     },
     "metadata": {},
     "output_type": "display_data"
    }
   ],
   "source": [
    "summary(playersTeamCleaned$JerseyNumber)"
   ]
  },
  {
   "cell_type": "code",
   "execution_count": 9,
   "id": "ff710b8a",
   "metadata": {},
   "outputs": [
    {
     "data": {
      "text/html": [
       "<dl>\n",
       "\t<dt>$Overall</dt>\n",
       "\t\t<dd>'integer'</dd>\n",
       "\t<dt>$Value</dt>\n",
       "\t\t<dd>'integer'</dd>\n",
       "\t<dt>$BestPosition</dt>\n",
       "\t\t<dd>'factor'</dd>\n",
       "\t<dt>$Height</dt>\n",
       "\t\t<dd>'integer'</dd>\n",
       "\t<dt>$Weight</dt>\n",
       "\t\t<dd>'integer'</dd>\n",
       "\t<dt>$JerseyNumber</dt>\n",
       "\t\t<dd>'numeric'</dd>\n",
       "\t<dt>$Crossing</dt>\n",
       "\t\t<dd>'integer'</dd>\n",
       "\t<dt>$ShotPower</dt>\n",
       "\t\t<dd>'integer'</dd>\n",
       "\t<dt>$IntPrestige</dt>\n",
       "\t\t<dd>'integer'</dd>\n",
       "\t<dt>$PreferredFoot</dt>\n",
       "\t\t<dd>'factor'</dd>\n",
       "\t<dt>$SkillMoves</dt>\n",
       "\t\t<dd>'integer'</dd>\n",
       "\t<dt>$LongShots</dt>\n",
       "\t\t<dd>'integer'</dd>\n",
       "\t<dt>$Finishing</dt>\n",
       "\t\t<dd>'integer'</dd>\n",
       "</dl>\n"
      ],
      "text/latex": [
       "\\begin{description}\n",
       "\\item[\\$Overall] 'integer'\n",
       "\\item[\\$Value] 'integer'\n",
       "\\item[\\$BestPosition] 'factor'\n",
       "\\item[\\$Height] 'integer'\n",
       "\\item[\\$Weight] 'integer'\n",
       "\\item[\\$JerseyNumber] 'numeric'\n",
       "\\item[\\$Crossing] 'integer'\n",
       "\\item[\\$ShotPower] 'integer'\n",
       "\\item[\\$IntPrestige] 'integer'\n",
       "\\item[\\$PreferredFoot] 'factor'\n",
       "\\item[\\$SkillMoves] 'integer'\n",
       "\\item[\\$LongShots] 'integer'\n",
       "\\item[\\$Finishing] 'integer'\n",
       "\\end{description}\n"
      ],
      "text/markdown": [
       "$Overall\n",
       ":   'integer'\n",
       "$Value\n",
       ":   'integer'\n",
       "$BestPosition\n",
       ":   'factor'\n",
       "$Height\n",
       ":   'integer'\n",
       "$Weight\n",
       ":   'integer'\n",
       "$JerseyNumber\n",
       ":   'numeric'\n",
       "$Crossing\n",
       ":   'integer'\n",
       "$ShotPower\n",
       ":   'integer'\n",
       "$IntPrestige\n",
       ":   'integer'\n",
       "$PreferredFoot\n",
       ":   'factor'\n",
       "$SkillMoves\n",
       ":   'integer'\n",
       "$LongShots\n",
       ":   'integer'\n",
       "$Finishing\n",
       ":   'integer'\n",
       "\n",
       "\n"
      ],
      "text/plain": [
       "$Overall\n",
       "[1] \"integer\"\n",
       "\n",
       "$Value\n",
       "[1] \"integer\"\n",
       "\n",
       "$BestPosition\n",
       "[1] \"factor\"\n",
       "\n",
       "$Height\n",
       "[1] \"integer\"\n",
       "\n",
       "$Weight\n",
       "[1] \"integer\"\n",
       "\n",
       "$JerseyNumber\n",
       "[1] \"numeric\"\n",
       "\n",
       "$Crossing\n",
       "[1] \"integer\"\n",
       "\n",
       "$ShotPower\n",
       "[1] \"integer\"\n",
       "\n",
       "$IntPrestige\n",
       "[1] \"integer\"\n",
       "\n",
       "$PreferredFoot\n",
       "[1] \"factor\"\n",
       "\n",
       "$SkillMoves\n",
       "[1] \"integer\"\n",
       "\n",
       "$LongShots\n",
       "[1] \"integer\"\n",
       "\n",
       "$Finishing\n",
       "[1] \"integer\"\n"
      ]
     },
     "metadata": {},
     "output_type": "display_data"
    }
   ],
   "source": [
    "lapply(playersTeamCleaned, class)"
   ]
  },
  {
   "cell_type": "code",
   "execution_count": 10,
   "id": "0392f35e",
   "metadata": {},
   "outputs": [
    {
     "data": {
      "text/plain": [
       "   Min. 1st Qu.  Median    Mean 3rd Qu.    Max. \n",
       "   1.00    9.00   18.00   21.11   27.00   99.00 "
      ]
     },
     "metadata": {},
     "output_type": "display_data"
    }
   ],
   "source": [
    "summary(playersTeamCleaned$JerseyNumber)"
   ]
  },
  {
   "cell_type": "code",
   "execution_count": 11,
   "id": "c22f992a",
   "metadata": {},
   "outputs": [
    {
     "data": {
      "text/plain": [
       "     Min.   1st Qu.    Median      Mean   3rd Qu.      Max. \n",
       "        0    500000   1000000   2889802   2000000 190500000 "
      ]
     },
     "metadata": {},
     "output_type": "display_data"
    }
   ],
   "source": [
    "summary(playersTeamCleaned$Value)"
   ]
  },
  {
   "cell_type": "code",
   "execution_count": 12,
   "id": "ed00bde6",
   "metadata": {},
   "outputs": [
    {
     "data": {
      "text/plain": [
       "     Min.   1st Qu.    Median      Mean   3rd Qu.      Max. \n",
       "     9000    500000   1000000   2891683   2000000 190500000 "
      ]
     },
     "metadata": {},
     "output_type": "display_data"
    }
   ],
   "source": [
    "# remove players with no value\n",
    "playersTeamCleaned <- playersTeamCleaned[playersTeamCleaned$Value != 0, ]\n",
    "summary(playersTeamCleaned$Value)"
   ]
  },
  {
   "cell_type": "code",
   "execution_count": 13,
   "id": "67137ff3",
   "metadata": {
    "scrolled": true
   },
   "outputs": [
    {
     "data": {
      "text/html": [
       "<dl class=dl-horizontal>\n",
       "\t<dt>Overall</dt>\n",
       "\t\t<dd>0</dd>\n",
       "\t<dt>Value</dt>\n",
       "\t\t<dd>0</dd>\n",
       "\t<dt>BestPosition</dt>\n",
       "\t\t<dd>0</dd>\n",
       "\t<dt>Height</dt>\n",
       "\t\t<dd>0</dd>\n",
       "\t<dt>Weight</dt>\n",
       "\t\t<dd>0</dd>\n",
       "\t<dt>JerseyNumber</dt>\n",
       "\t\t<dd>0</dd>\n",
       "\t<dt>Crossing</dt>\n",
       "\t\t<dd>0</dd>\n",
       "\t<dt>ShotPower</dt>\n",
       "\t\t<dd>0</dd>\n",
       "\t<dt>IntPrestige</dt>\n",
       "\t\t<dd>28</dd>\n",
       "\t<dt>PreferredFoot</dt>\n",
       "\t\t<dd>0</dd>\n",
       "\t<dt>SkillMoves</dt>\n",
       "\t\t<dd>0</dd>\n",
       "\t<dt>LongShots</dt>\n",
       "\t\t<dd>0</dd>\n",
       "\t<dt>Finishing</dt>\n",
       "\t\t<dd>0</dd>\n",
       "</dl>\n"
      ],
      "text/latex": [
       "\\begin{description*}\n",
       "\\item[Overall] 0\n",
       "\\item[Value] 0\n",
       "\\item[BestPosition] 0\n",
       "\\item[Height] 0\n",
       "\\item[Weight] 0\n",
       "\\item[JerseyNumber] 0\n",
       "\\item[Crossing] 0\n",
       "\\item[ShotPower] 0\n",
       "\\item[IntPrestige] 28\n",
       "\\item[PreferredFoot] 0\n",
       "\\item[SkillMoves] 0\n",
       "\\item[LongShots] 0\n",
       "\\item[Finishing] 0\n",
       "\\end{description*}\n"
      ],
      "text/markdown": [
       "Overall\n",
       ":   0Value\n",
       ":   0BestPosition\n",
       ":   0Height\n",
       ":   0Weight\n",
       ":   0JerseyNumber\n",
       ":   0Crossing\n",
       ":   0ShotPower\n",
       ":   0IntPrestige\n",
       ":   28PreferredFoot\n",
       ":   0SkillMoves\n",
       ":   0LongShots\n",
       ":   0Finishing\n",
       ":   0\n",
       "\n"
      ],
      "text/plain": [
       "      Overall         Value  BestPosition        Height        Weight \n",
       "            0             0             0             0             0 \n",
       " JerseyNumber      Crossing     ShotPower   IntPrestige PreferredFoot \n",
       "            0             0             0            28             0 \n",
       "   SkillMoves     LongShots     Finishing \n",
       "            0             0             0 "
      ]
     },
     "metadata": {},
     "output_type": "display_data"
    }
   ],
   "source": [
    "colSums(is.na(playersTeamCleaned))"
   ]
  },
  {
   "cell_type": "code",
   "execution_count": 14,
   "id": "a7f82307",
   "metadata": {},
   "outputs": [
    {
     "data": {
      "text/html": [
       "<dl class=dl-horizontal>\n",
       "\t<dt>Overall</dt>\n",
       "\t\t<dd>0</dd>\n",
       "\t<dt>Value</dt>\n",
       "\t\t<dd>0</dd>\n",
       "\t<dt>BestPosition</dt>\n",
       "\t\t<dd>0</dd>\n",
       "\t<dt>Height</dt>\n",
       "\t\t<dd>0</dd>\n",
       "\t<dt>Weight</dt>\n",
       "\t\t<dd>0</dd>\n",
       "\t<dt>JerseyNumber</dt>\n",
       "\t\t<dd>0</dd>\n",
       "\t<dt>Crossing</dt>\n",
       "\t\t<dd>0</dd>\n",
       "\t<dt>ShotPower</dt>\n",
       "\t\t<dd>0</dd>\n",
       "\t<dt>IntPrestige</dt>\n",
       "\t\t<dd>0</dd>\n",
       "\t<dt>PreferredFoot</dt>\n",
       "\t\t<dd>0</dd>\n",
       "\t<dt>SkillMoves</dt>\n",
       "\t\t<dd>0</dd>\n",
       "\t<dt>LongShots</dt>\n",
       "\t\t<dd>0</dd>\n",
       "\t<dt>Finishing</dt>\n",
       "\t\t<dd>0</dd>\n",
       "</dl>\n"
      ],
      "text/latex": [
       "\\begin{description*}\n",
       "\\item[Overall] 0\n",
       "\\item[Value] 0\n",
       "\\item[BestPosition] 0\n",
       "\\item[Height] 0\n",
       "\\item[Weight] 0\n",
       "\\item[JerseyNumber] 0\n",
       "\\item[Crossing] 0\n",
       "\\item[ShotPower] 0\n",
       "\\item[IntPrestige] 0\n",
       "\\item[PreferredFoot] 0\n",
       "\\item[SkillMoves] 0\n",
       "\\item[LongShots] 0\n",
       "\\item[Finishing] 0\n",
       "\\end{description*}\n"
      ],
      "text/markdown": [
       "Overall\n",
       ":   0Value\n",
       ":   0BestPosition\n",
       ":   0Height\n",
       ":   0Weight\n",
       ":   0JerseyNumber\n",
       ":   0Crossing\n",
       ":   0ShotPower\n",
       ":   0IntPrestige\n",
       ":   0PreferredFoot\n",
       ":   0SkillMoves\n",
       ":   0LongShots\n",
       ":   0Finishing\n",
       ":   0\n",
       "\n"
      ],
      "text/plain": [
       "      Overall         Value  BestPosition        Height        Weight \n",
       "            0             0             0             0             0 \n",
       " JerseyNumber      Crossing     ShotPower   IntPrestige PreferredFoot \n",
       "            0             0             0             0             0 \n",
       "   SkillMoves     LongShots     Finishing \n",
       "            0             0             0 "
      ]
     },
     "metadata": {},
     "output_type": "display_data"
    }
   ],
   "source": [
    "playersTeamCleaned <- na.omit(playersTeamCleaned)\n",
    "colSums(is.na(playersTeamCleaned))"
   ]
  },
  {
   "cell_type": "code",
   "execution_count": 15,
   "id": "813f2e26",
   "metadata": {},
   "outputs": [
    {
     "data": {
      "text/plain": [
       "    Overall          Value            BestPosition      Height     \n",
       " Min.   :47.00   Min.   :     9000   CB     :3632   Min.   :155.0  \n",
       " 1st Qu.:62.00   1st Qu.:   500000   ST     :2548   1st Qu.:177.0  \n",
       " Median :66.00   Median :  1000000   CAM    :2300   Median :182.0  \n",
       " Mean   :65.83   Mean   :  2894661   GK     :2039   Mean   :181.5  \n",
       " 3rd Qu.:70.00   3rd Qu.:  2000000   RM     :1434   3rd Qu.:186.0  \n",
       " Max.   :91.00   Max.   :190500000   CDM    :1395   Max.   :206.0  \n",
       "                                     (Other):5059                  \n",
       "     Weight        JerseyNumber     Crossing       ShotPower    \n",
       " Min.   : 49.00   Min.   : 1.0   Min.   : 6.00   Min.   :18.00  \n",
       " 1st Qu.: 70.00   1st Qu.: 9.0   1st Qu.:39.00   1st Qu.:48.00  \n",
       " Median : 75.00   Median :18.0   Median :54.00   Median :59.00  \n",
       " Mean   : 75.17   Mean   :21.1   Mean   :49.48   Mean   :57.81  \n",
       " 3rd Qu.: 80.00   3rd Qu.:28.0   3rd Qu.:63.00   3rd Qu.:68.00  \n",
       " Max.   :105.00   Max.   :99.0   Max.   :94.00   Max.   :94.00  \n",
       "                                                                \n",
       "  IntPrestige     PreferredFoot   SkillMoves      LongShots       Finishing    \n",
       " Min.   : 1.000   Left : 4466   Min.   :1.000   Min.   : 4.00   Min.   : 3.00  \n",
       " 1st Qu.: 1.000   Right:13941   1st Qu.:2.000   1st Qu.:32.00   1st Qu.:31.00  \n",
       " Median : 1.000                 Median :2.000   Median :51.00   Median :50.00  \n",
       " Mean   : 2.483                 Mean   :2.366   Mean   :46.82   Mean   :46.25  \n",
       " 3rd Qu.: 4.000                 3rd Qu.:3.000   3rd Qu.:62.00   3rd Qu.:62.00  \n",
       " Max.   :10.000                 Max.   :5.000   Max.   :91.00   Max.   :94.00  \n",
       "                                                                               "
      ]
     },
     "metadata": {},
     "output_type": "display_data"
    },
    {
     "data": {
      "text/html": [
       "<ol class=list-inline>\n",
       "\t<li>18407</li>\n",
       "\t<li>13</li>\n",
       "</ol>\n"
      ],
      "text/latex": [
       "\\begin{enumerate*}\n",
       "\\item 18407\n",
       "\\item 13\n",
       "\\end{enumerate*}\n"
      ],
      "text/markdown": [
       "1. 18407\n",
       "2. 13\n",
       "\n",
       "\n"
      ],
      "text/plain": [
       "[1] 18407    13"
      ]
     },
     "metadata": {},
     "output_type": "display_data"
    }
   ],
   "source": [
    "summary(playersTeamCleaned)\n",
    "dim(playersTeamCleaned)"
   ]
  },
  {
   "cell_type": "code",
   "execution_count": 16,
   "id": "75f9a19a",
   "metadata": {},
   "outputs": [
    {
     "ename": "ERROR",
     "evalue": "Error in eval(expr, envir, enclos): object 'frefr' not found\n",
     "output_type": "error",
     "traceback": [
      "Error in eval(expr, envir, enclos): object 'frefr' not found\nTraceback:\n"
     ]
    }
   ],
   "source": [
    "frefr"
   ]
  },
  {
   "cell_type": "markdown",
   "id": "6f52955a",
   "metadata": {},
   "source": [
    "Pace vs Phy\"Standing.Tackle\", \"Sliding.Tackle\""
   ]
  },
  {
   "cell_type": "code",
   "execution_count": null,
   "id": "01b8661f",
   "metadata": {},
   "outputs": [],
   "source": [
    "longShots <- playersTeamCleaned$LongShots\n",
    "finishing <- playersTeamCleaned$Finishing"
   ]
  },
  {
   "cell_type": "code",
   "execution_count": null,
   "id": "96bd3c58",
   "metadata": {},
   "outputs": [],
   "source": [
    "var.test(longShots, finishing)"
   ]
  },
  {
   "cell_type": "code",
   "execution_count": null,
   "id": "11185d02",
   "metadata": {},
   "outputs": [],
   "source": [
    "t.test(longShots, finishing, var.equal=T, paired=TRUE)"
   ]
  },
  {
   "cell_type": "code",
   "execution_count": null,
   "id": "32056e33",
   "metadata": {},
   "outputs": [],
   "source": [
    "summary(playersTeamCleaned$Long.Shots); summary(playersTeamCleaned$Finishing)"
   ]
  },
  {
   "cell_type": "markdown",
   "id": "842318d4",
   "metadata": {},
   "source": [
    "# PreferredFoot vs ShotPower"
   ]
  },
  {
   "cell_type": "code",
   "execution_count": null,
   "id": "3e859512",
   "metadata": {
    "scrolled": true
   },
   "outputs": [],
   "source": [
    "playersTeamCleaned"
   ]
  },
  {
   "cell_type": "code",
   "execution_count": null,
   "id": "02b38142",
   "metadata": {},
   "outputs": [],
   "source": [
    "# Divide players into groups based on sprint speed ratings\n",
    "# noKeeper <- playersTeamCleaned[playersTeamCleaned$BestPosition != \"GK\", ]\n",
    "\n",
    "leftFooted <- playersTeamCleaned[playersTeamCleaned$PreferredFoot == \"Left\", \"ShotPower\"]\n",
    "rightFooted <- playersTeamCleaned[playersTeamCleaned$PreferredFoot == \"Right\", \"ShotPower\"]"
   ]
  },
  {
   "cell_type": "code",
   "execution_count": null,
   "id": "dde7a7fe",
   "metadata": {},
   "outputs": [],
   "source": [
    "length(leftFooted); length(rightFooted)"
   ]
  },
  {
   "cell_type": "code",
   "execution_count": null,
   "id": "d4693142",
   "metadata": {},
   "outputs": [],
   "source": [
    "# downsampled <- playersTeamCleaned %>%\n",
    "#   group_by(PreferredFoot) %>%\n",
    "#   sample_n(size = 4466)  # set desired sample size"
   ]
  },
  {
   "cell_type": "code",
   "execution_count": null,
   "id": "2c4a934a",
   "metadata": {},
   "outputs": [],
   "source": [
    "# # Divide players into groups based on sprint speed ratings\n",
    "# leftFooted <- downsampled[downsampled$PreferredFoot == \"Left\", ]\n",
    "# rightFooted <- downsampled[downsampled$PreferredFoot == \"Right\", ]\n",
    "# dim(leftFooted); dim(rightFooted)"
   ]
  },
  {
   "cell_type": "code",
   "execution_count": null,
   "id": "d99b9bbc",
   "metadata": {},
   "outputs": [],
   "source": []
  },
  {
   "cell_type": "code",
   "execution_count": null,
   "id": "5b68245a",
   "metadata": {},
   "outputs": [],
   "source": [
    "var.test(leftFooted, rightFooted)"
   ]
  },
  {
   "cell_type": "code",
   "execution_count": null,
   "id": "bb531941",
   "metadata": {},
   "outputs": [],
   "source": [
    "t.test(leftFooted, rightFooted, var.equal=F)"
   ]
  }
 ],
 "metadata": {
  "kernelspec": {
   "display_name": "R",
   "language": "R",
   "name": "ir"
  },
  "language_info": {
   "codemirror_mode": "r",
   "file_extension": ".r",
   "mimetype": "text/x-r-source",
   "name": "R",
   "pygments_lexer": "r",
   "version": "3.6.1"
  }
 },
 "nbformat": 4,
 "nbformat_minor": 5
}
